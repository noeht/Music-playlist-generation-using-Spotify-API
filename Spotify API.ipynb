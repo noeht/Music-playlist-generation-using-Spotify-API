{
 "cells": [
  {
   "cell_type": "code",
   "execution_count": 105,
   "metadata": {},
   "outputs": [],
   "source": [
    "import requests\n",
    "import pandas as pd\n",
    "from sklearn.model_selection import train_test_split\n",
    "from tqdm import tqdm\n"
   ]
  },
  {
   "cell_type": "code",
   "execution_count": 193,
   "metadata": {},
   "outputs": [],
   "source": [
    "client_ID = 'fd4bcb37e6f84054957f7d27e71b89d8'\n",
    "client_secret = '2fd8aff3144d476cb7e4b36ea745610e'\n",
    "user_ID = '9f93d2lbi4b9fmngi0thyocgb'\n",
    "\n",
    "\n",
    "SPOTIFY_CREATE_PLAYLIST_URL = \"https://api.spotify.com/v1/users/{}/playlists\".format(user_ID)\n",
    "\n",
    "featured_token ='BQChQxjygnAyY0K9NWg5sdlak0Lx_kJ7J6quYRsq3XPCpwAI5jbml-r6e1u4EEZgGcFg10yGP-X0LhBERNNMUsA9uxzk8n13rxTVR5zRm4w2NB5uXLpsnhpXYOrN82HbIHKQyczifWVOaKJkuY1BS4YQ9knfJN9sMqjsRw5kll9iUZIxYFY1oppobqBts1hvXKvJKmfpZZdXG0jyDdCc3YeSnIVbGFO4'"
   ]
  },
  {
   "cell_type": "code",
   "execution_count": 126,
   "metadata": {},
   "outputs": [],
   "source": [
    "def create_playlist_on_spotify(name,public = False):\n",
    "    response = requests.post(\n",
    "        SPOTIFY_CREATE_PLAYLIST_URL, \n",
    "        headers={\n",
    "            \"Authorization\": f\"Bearer {featured_token}\"\n",
    "        },\n",
    "        json={\n",
    "            \"name\":name,\n",
    "            \"public\":public\n",
    "        }\n",
    "    )\n",
    "    json_resp = response.json()\n",
    "    \n",
    "    return json_resp\n",
    "    "
   ]
  },
  {
   "cell_type": "code",
   "execution_count": 239,
   "metadata": {},
   "outputs": [],
   "source": [
    "def add_songs_to_playlist(playlist_id,uris):\n",
    "    comp_url = '%2C'.join(el.replace(':','%3A') for el in uris)\n",
    "    url = 'https://api.spotify.com/v1/playlists/'+playlist_id+'/tracks/?uris='+comp_url\n",
    "    response = requests.post(\n",
    "        url, \n",
    "        headers={\n",
    "            \"Authorization\": f\"Bearer {featured_token}\"\n",
    "        },\n",
    "        json={\n",
    "            \"name\":name,\n",
    "            \"public\":False\n",
    "        }\n",
    "    )\n",
    "    json_resp = response.json()\n",
    "    \n",
    "    return json_resp"
   ]
  },
  {
   "cell_type": "code",
   "execution_count": 7,
   "metadata": {},
   "outputs": [],
   "source": [
    "#playlist = create_playlist_on_spotify('Test Private Playlist',public=False)\n",
    "#print(f'Playlist:{playlist}')"
   ]
  },
  {
   "cell_type": "code",
   "execution_count": 128,
   "metadata": {},
   "outputs": [],
   "source": [
    "country = 'FR'\n",
    "locale = 'sv_FR'\n",
    "timestamp = '2020-10-23T09%3A00%3A00.000Z'\n",
    "limit = 20\n",
    "offset = 0\n",
    "\n",
    "featured_url = f'https://api.spotify.com/v1/browse/featured-playlists?country={country}&locale={locale}&timestamp={timestamp}&limit={limit}&offset={offset}'    \n",
    "def get_featured_playlist():\n",
    "    response = requests.get(\n",
    "           featured_url,\n",
    "        headers={\n",
    "            \"Accept\": \"application/json\",\n",
    "            \"Content-Type\": \"application/json\",\n",
    "            \"Authorization\": f\"Bearer {featured_token}\"\n",
    "        },\n",
    "    )\n",
    "    json_resp = response.json()\n",
    "    \n",
    "    return json_resp\n",
    "    "
   ]
  },
  {
   "cell_type": "code",
   "execution_count": 43,
   "metadata": {},
   "outputs": [
    {
     "name": "stdout",
     "output_type": "stream",
     "text": [
      "11\n"
     ]
    },
    {
     "data": {
      "text/plain": [
       "75"
      ]
     },
     "execution_count": 43,
     "metadata": {},
     "output_type": "execute_result"
    }
   ],
   "source": [
    "playlist = get_featured_playlist()\n",
    "n = len(playlist['playlists']['items'])\n",
    "print(n)\n",
    "playlist['playlists']['items'][0]['tracks']['total']"
   ]
  },
  {
   "cell_type": "code",
   "execution_count": 44,
   "metadata": {
    "scrolled": true
   },
   "outputs": [
    {
     "name": "stderr",
     "output_type": "stream",
     "text": [
      "\r",
      "  0%|                                                                                           | 0/11 [00:00<?, ?it/s]"
     ]
    },
    {
     "name": "stdout",
     "output_type": "stream",
     "text": [
      "[]\n",
      "New Music Friday France\n"
     ]
    },
    {
     "name": "stderr",
     "output_type": "stream",
     "text": [
      "\r",
      "  9%|███████▌                                                                           | 1/11 [00:25<04:11, 25.15s/it]"
     ]
    },
    {
     "name": "stdout",
     "output_type": "stream",
     "text": [
      "['00Blm7zeNqgYLPtW6zg8cj', '2O9enJqAqs46tfBlGhLsnW', '2JvWoj5bTklsb6fPzRfZ3x', '4R67rQNSbbsR4TdUVOIdez', '4iN16F8JtVxG2UTzp3avGl', '2QEtf4oCeJrfDeqf8rJiQK', '08SB2OtZkaliju77WYEKxk', '4H1CfsnXQonWnJeHzHuVUz', '18asYwWugKjjsihZ0YvRxO', '4SRkixF643LgySLh8owTkJ', '4MDDOpA7BwGDjYclTmCTVw', '19ZBncpk43fACvzKeqZIib', '38XLUjlR84JEwK0SOvX77a', '2u2gafIeAP55EjXhU768Zo', '4fcbxnnfUycb7fJAInJOob', '188rKyWMsC4WsKKZ85lnUO', '1544oKxSzETEcBpOKdf3de', '2lZrHFgxAdZrL0j8JvYhkc', '3RZauEkvORMeP06npyaIYa', '6RT5ir7all6RgZEAupLNlO', '2j1Os2WNkwb6KJvaiHFdUl', '280MV4FuB5uusjx8wj1dpt', '5YkXkfXWTE1pk6l2m78JnH', '0FiwMxsaV8SNBnjmZkHHra', '1mrGEef8GuaEnDdw8J5BQp', '4xD3DFKtDy9JkOOxcsTy3r', '1hkOuEeJQtDxHKBD8gJTBx', '1RBIzko2PMY5CP0d3MIkwl', '3YZdPvENFPytMyrnkRWm1B', '2BzAGK3lEZAQz5cU0Ae1wd', '2N9fGz3nPXci2w80p1lQIW', '2LnsEYFfPwk6ueO2OCBNLA', '1wAPbQ5XjbZqPl0WDl5mHH', '1pY5rVjr4BqQlJMx3S7Mmf', '1KCXEsHxKDq72C70fyM0vq', '77fRc8iT858bzRdcR4k8T8', '0CiJazqgaY4QhTNB66xfzm', '6cBvcf3JEn3NjIvaqkHkn0', '46PGzHQRAFjuVXB6fKRmDZ', '1MCvAAKHSdGhe4ZPq0YMrF', '7fdqKCfTKNv1UNwmCYHUpu', '6sb1CGojNdNMiToRfSNwzY', '5dXIrAUNLOcN2mYkCSeO3k', '38qCAgXW23GmzHG5bWhPzg', '0yPlsLJNceFwpgEiYMe0tv', '05nKsnLJGrsDwQIXAExTQt', '1kjixr3Tv9ku0HmXrDqWNH', '7GTlrFi1WMmZyLEUlRTihW', '6P5yJhVBhB0nV27SXhwTZc', '6v2ezoIqtD8UKjaQhqde6r', '6fSRCnfSfTBCbgoa6Nwhim', '4SEiKLEcOsLEtvU53N6bex', '70f71uZ7egz2Vshwx4D425', '7MwUFO1Av7sEOCUa1ULmwa', '6miahXSZE01l2lNDqNCfxQ', '3Kp4DMEXVilurnN1PBvHui', '2aDuY0WsvDlIs5KczrYFid', '7onHzHeOVE3M9p0tNKQbXc', '7pIoByp3uzkV6saBAHfG2c', '0PzcMfqECraaBGxX7zr7wV', '12e5rUktNoga7mdtziCw33', '46OKHucGhjhskazqD8tKnH', '0B8U71SDP0h9FF6xSZqftH', '6sjLKQtx6CbICWREw5tDPY', '0mPh3y1fgrZiWlhuNmPq5Y', '3fRK9qG08iZyWvqjOWkdKc', '7ytFo4I2OsaiGRhYdFGoQW', '3LBp0NzDmMXfbDbBlWD3vO', '1FOcJ48XhC9gBMyONLB2Cr', '5B6u8ImBwp0lKZXCH0tbx8', '7CtRS8xbsxUnT2ZA7uowqD', '5Cfh8D9E3CFEVj0LGjf9wU', '5oBUlWZcYKuYuuSsDeNQR7', '0Q3DprZOlvkOWlC3pmr5Mx', '1mS7CcE30VDxZAJOtgeIjA']\n",
      "Pop Urbaine\n"
     ]
    },
    {
     "name": "stderr",
     "output_type": "stream",
     "text": [
      "\r",
      " 18%|███████████████                                                                    | 2/11 [00:39<03:18, 22.02s/it]"
     ]
    },
    {
     "name": "stdout",
     "output_type": "stream",
     "text": [
      "['00Blm7zeNqgYLPtW6zg8cj', '2O9enJqAqs46tfBlGhLsnW', '2JvWoj5bTklsb6fPzRfZ3x', '4R67rQNSbbsR4TdUVOIdez', '4iN16F8JtVxG2UTzp3avGl', '2QEtf4oCeJrfDeqf8rJiQK', '08SB2OtZkaliju77WYEKxk', '4H1CfsnXQonWnJeHzHuVUz', '18asYwWugKjjsihZ0YvRxO', '4SRkixF643LgySLh8owTkJ', '4MDDOpA7BwGDjYclTmCTVw', '19ZBncpk43fACvzKeqZIib', '38XLUjlR84JEwK0SOvX77a', '2u2gafIeAP55EjXhU768Zo', '4fcbxnnfUycb7fJAInJOob', '188rKyWMsC4WsKKZ85lnUO', '1544oKxSzETEcBpOKdf3de', '2lZrHFgxAdZrL0j8JvYhkc', '3RZauEkvORMeP06npyaIYa', '6RT5ir7all6RgZEAupLNlO', '2j1Os2WNkwb6KJvaiHFdUl', '280MV4FuB5uusjx8wj1dpt', '5YkXkfXWTE1pk6l2m78JnH', '0FiwMxsaV8SNBnjmZkHHra', '1mrGEef8GuaEnDdw8J5BQp', '4xD3DFKtDy9JkOOxcsTy3r', '1hkOuEeJQtDxHKBD8gJTBx', '1RBIzko2PMY5CP0d3MIkwl', '3YZdPvENFPytMyrnkRWm1B', '2BzAGK3lEZAQz5cU0Ae1wd', '2N9fGz3nPXci2w80p1lQIW', '2LnsEYFfPwk6ueO2OCBNLA', '1wAPbQ5XjbZqPl0WDl5mHH', '1pY5rVjr4BqQlJMx3S7Mmf', '1KCXEsHxKDq72C70fyM0vq', '77fRc8iT858bzRdcR4k8T8', '0CiJazqgaY4QhTNB66xfzm', '6cBvcf3JEn3NjIvaqkHkn0', '46PGzHQRAFjuVXB6fKRmDZ', '1MCvAAKHSdGhe4ZPq0YMrF', '7fdqKCfTKNv1UNwmCYHUpu', '6sb1CGojNdNMiToRfSNwzY', '5dXIrAUNLOcN2mYkCSeO3k', '38qCAgXW23GmzHG5bWhPzg', '0yPlsLJNceFwpgEiYMe0tv', '05nKsnLJGrsDwQIXAExTQt', '1kjixr3Tv9ku0HmXrDqWNH', '7GTlrFi1WMmZyLEUlRTihW', '6P5yJhVBhB0nV27SXhwTZc', '6v2ezoIqtD8UKjaQhqde6r', '6fSRCnfSfTBCbgoa6Nwhim', '4SEiKLEcOsLEtvU53N6bex', '70f71uZ7egz2Vshwx4D425', '7MwUFO1Av7sEOCUa1ULmwa', '6miahXSZE01l2lNDqNCfxQ', '3Kp4DMEXVilurnN1PBvHui', '2aDuY0WsvDlIs5KczrYFid', '7onHzHeOVE3M9p0tNKQbXc', '7pIoByp3uzkV6saBAHfG2c', '0PzcMfqECraaBGxX7zr7wV', '12e5rUktNoga7mdtziCw33', '46OKHucGhjhskazqD8tKnH', '0B8U71SDP0h9FF6xSZqftH', '6sjLKQtx6CbICWREw5tDPY', '0mPh3y1fgrZiWlhuNmPq5Y', '3fRK9qG08iZyWvqjOWkdKc', '7ytFo4I2OsaiGRhYdFGoQW', '3LBp0NzDmMXfbDbBlWD3vO', '1FOcJ48XhC9gBMyONLB2Cr', '5B6u8ImBwp0lKZXCH0tbx8', '7CtRS8xbsxUnT2ZA7uowqD', '5Cfh8D9E3CFEVj0LGjf9wU', '5oBUlWZcYKuYuuSsDeNQR7', '0Q3DprZOlvkOWlC3pmr5Mx', '1mS7CcE30VDxZAJOtgeIjA', '2O9enJqAqs46tfBlGhLsnW', '2s1lS0DxcxTB8Y6oFgVKqW', '3IR9wKWxI0TK1DLXvZq8uQ', '2kUKeN9ZpYHqfBjB8Gphb2', '27Z3UdqvdAhtJlWBMoDjBD', '14M6BbiHt2w9KHVvoIUIUF', '13tc5dzElXbImNjDzz4E2B', '19dD5F9Mu5DvraJr0f5eho', '7vX1e8Tcj1cl20HoWaDI4h', '2mIfMDTR6pNa3iWne56HGe', '2XLPtKom1ixf7IJgPsPAvp', '6cBvcf3JEn3NjIvaqkHkn0', '0igELlHJcgbgEtgsTmj9t0', '5csxKPX4HuN8UDEdHUxcqz', '3R3li8sx8AjMRI1BdmwXAf', '3bGGvbwbhq9kIMhHaXBdYL', '5YkXkfXWTE1pk6l2m78JnH', '3BFlHQD1nt7vHXmh0SswCO', '5aSLIxdiQAgfTGsqGwgivC', '3PeW31cRh8BlN7fwj6cGe9', '5oBUlWZcYKuYuuSsDeNQR7', '3eGuT5Bs8s9CGQbUxDXFzb', '2FHsE83xbrzzWusudCFpg1', '1isJQKjH3cFutccvz3jrCD', '1TO85DMVoOejzq5YMMWAkl', '5cOkUTJvuYBNV1JZ5yPWex', '72HFkyZ8MFEbplFjRO7aqA', '1H366E2OeWiWQvMj0iESzX', '67XtpHJ5S4KO8w8CllZx7I', '52Z9VzMQ91wrhnn1zefaVi', '0exjGVTPrIA5MYokrYG862', '17tejn8Dt8IDKKRknPznPD', '2D0BQfVCn6qoK77flhU7nR', '2YAgixJPrOiEZSgZMlmqqF', '48ghUr9q4ZCKTGEGzdZJlj', '2uj7OACDZUQIvAfKAwtHES', '4xJfZesfZ3UGR0v647p8Y5', '4Z1u8ZwrxBwdnFH4vibcYO', '5dxsliYJaYcDMfw5emzJer', '5cyYphxofHgRspEKNn3UTl', '62nJqZs3Qs7DGUto35dVUv', '5cZ6NaDFs0a7ZYfGpaJWEt', '5rQG0YxxAgCKpJthO0K3JQ', '58D69P1dusriq8I3t83eji', '4ZpFLXdO1Tqs12uJe4OsN7', '4cvsvY3HYBV7jJbWsHGOAh', '2vd2HEhrkafOi2uveHjzzh', '6DdPeHn2Kc5weToqPO9anJ', '57AzeYIWwAYprDXRwPjgtZ']\n",
      "Hit Acoustique\n"
     ]
    },
    {
     "name": "stderr",
     "output_type": "stream",
     "text": [
      "\r",
      " 27%|██████████████████████▋                                                            | 3/11 [00:54<02:39, 19.92s/it]"
     ]
    },
    {
     "name": "stdout",
     "output_type": "stream",
     "text": [
      "['00Blm7zeNqgYLPtW6zg8cj', '2O9enJqAqs46tfBlGhLsnW', '2JvWoj5bTklsb6fPzRfZ3x', '4R67rQNSbbsR4TdUVOIdez', '4iN16F8JtVxG2UTzp3avGl', '2QEtf4oCeJrfDeqf8rJiQK', '08SB2OtZkaliju77WYEKxk', '4H1CfsnXQonWnJeHzHuVUz', '18asYwWugKjjsihZ0YvRxO', '4SRkixF643LgySLh8owTkJ', '4MDDOpA7BwGDjYclTmCTVw', '19ZBncpk43fACvzKeqZIib', '38XLUjlR84JEwK0SOvX77a', '2u2gafIeAP55EjXhU768Zo', '4fcbxnnfUycb7fJAInJOob', '188rKyWMsC4WsKKZ85lnUO', '1544oKxSzETEcBpOKdf3de', '2lZrHFgxAdZrL0j8JvYhkc', '3RZauEkvORMeP06npyaIYa', '6RT5ir7all6RgZEAupLNlO', '2j1Os2WNkwb6KJvaiHFdUl', '280MV4FuB5uusjx8wj1dpt', '5YkXkfXWTE1pk6l2m78JnH', '0FiwMxsaV8SNBnjmZkHHra', '1mrGEef8GuaEnDdw8J5BQp', '4xD3DFKtDy9JkOOxcsTy3r', '1hkOuEeJQtDxHKBD8gJTBx', '1RBIzko2PMY5CP0d3MIkwl', '3YZdPvENFPytMyrnkRWm1B', '2BzAGK3lEZAQz5cU0Ae1wd', '2N9fGz3nPXci2w80p1lQIW', '2LnsEYFfPwk6ueO2OCBNLA', '1wAPbQ5XjbZqPl0WDl5mHH', '1pY5rVjr4BqQlJMx3S7Mmf', '1KCXEsHxKDq72C70fyM0vq', '77fRc8iT858bzRdcR4k8T8', '0CiJazqgaY4QhTNB66xfzm', '6cBvcf3JEn3NjIvaqkHkn0', '46PGzHQRAFjuVXB6fKRmDZ', '1MCvAAKHSdGhe4ZPq0YMrF', '7fdqKCfTKNv1UNwmCYHUpu', '6sb1CGojNdNMiToRfSNwzY', '5dXIrAUNLOcN2mYkCSeO3k', '38qCAgXW23GmzHG5bWhPzg', '0yPlsLJNceFwpgEiYMe0tv', '05nKsnLJGrsDwQIXAExTQt', '1kjixr3Tv9ku0HmXrDqWNH', '7GTlrFi1WMmZyLEUlRTihW', '6P5yJhVBhB0nV27SXhwTZc', '6v2ezoIqtD8UKjaQhqde6r', '6fSRCnfSfTBCbgoa6Nwhim', '4SEiKLEcOsLEtvU53N6bex', '70f71uZ7egz2Vshwx4D425', '7MwUFO1Av7sEOCUa1ULmwa', '6miahXSZE01l2lNDqNCfxQ', '3Kp4DMEXVilurnN1PBvHui', '2aDuY0WsvDlIs5KczrYFid', '7onHzHeOVE3M9p0tNKQbXc', '7pIoByp3uzkV6saBAHfG2c', '0PzcMfqECraaBGxX7zr7wV', '12e5rUktNoga7mdtziCw33', '46OKHucGhjhskazqD8tKnH', '0B8U71SDP0h9FF6xSZqftH', '6sjLKQtx6CbICWREw5tDPY', '0mPh3y1fgrZiWlhuNmPq5Y', '3fRK9qG08iZyWvqjOWkdKc', '7ytFo4I2OsaiGRhYdFGoQW', '3LBp0NzDmMXfbDbBlWD3vO', '1FOcJ48XhC9gBMyONLB2Cr', '5B6u8ImBwp0lKZXCH0tbx8', '7CtRS8xbsxUnT2ZA7uowqD', '5Cfh8D9E3CFEVj0LGjf9wU', '5oBUlWZcYKuYuuSsDeNQR7', '0Q3DprZOlvkOWlC3pmr5Mx', '1mS7CcE30VDxZAJOtgeIjA', '2O9enJqAqs46tfBlGhLsnW', '2s1lS0DxcxTB8Y6oFgVKqW', '3IR9wKWxI0TK1DLXvZq8uQ', '2kUKeN9ZpYHqfBjB8Gphb2', '27Z3UdqvdAhtJlWBMoDjBD', '14M6BbiHt2w9KHVvoIUIUF', '13tc5dzElXbImNjDzz4E2B', '19dD5F9Mu5DvraJr0f5eho', '7vX1e8Tcj1cl20HoWaDI4h', '2mIfMDTR6pNa3iWne56HGe', '2XLPtKom1ixf7IJgPsPAvp', '6cBvcf3JEn3NjIvaqkHkn0', '0igELlHJcgbgEtgsTmj9t0', '5csxKPX4HuN8UDEdHUxcqz', '3R3li8sx8AjMRI1BdmwXAf', '3bGGvbwbhq9kIMhHaXBdYL', '5YkXkfXWTE1pk6l2m78JnH', '3BFlHQD1nt7vHXmh0SswCO', '5aSLIxdiQAgfTGsqGwgivC', '3PeW31cRh8BlN7fwj6cGe9', '5oBUlWZcYKuYuuSsDeNQR7', '3eGuT5Bs8s9CGQbUxDXFzb', '2FHsE83xbrzzWusudCFpg1', '1isJQKjH3cFutccvz3jrCD', '1TO85DMVoOejzq5YMMWAkl', '5cOkUTJvuYBNV1JZ5yPWex', '72HFkyZ8MFEbplFjRO7aqA', '1H366E2OeWiWQvMj0iESzX', '67XtpHJ5S4KO8w8CllZx7I', '52Z9VzMQ91wrhnn1zefaVi', '0exjGVTPrIA5MYokrYG862', '17tejn8Dt8IDKKRknPznPD', '2D0BQfVCn6qoK77flhU7nR', '2YAgixJPrOiEZSgZMlmqqF', '48ghUr9q4ZCKTGEGzdZJlj', '2uj7OACDZUQIvAfKAwtHES', '4xJfZesfZ3UGR0v647p8Y5', '4Z1u8ZwrxBwdnFH4vibcYO', '5dxsliYJaYcDMfw5emzJer', '5cyYphxofHgRspEKNn3UTl', '62nJqZs3Qs7DGUto35dVUv', '5cZ6NaDFs0a7ZYfGpaJWEt', '5rQG0YxxAgCKpJthO0K3JQ', '58D69P1dusriq8I3t83eji', '4ZpFLXdO1Tqs12uJe4OsN7', '4cvsvY3HYBV7jJbWsHGOAh', '2vd2HEhrkafOi2uveHjzzh', '6DdPeHn2Kc5weToqPO9anJ', '57AzeYIWwAYprDXRwPjgtZ', '7BiRw4sgXQMyNx8nPltnQr', '2TitxRtrE8OLcAwcNucvmJ', '5Zn1K7j3DkB1akPiBLwKR9', '5gyhZCykUqfbjqyPzR4CVe', '6nhc3daOpKaZBRj2ZFWfc7', '1CQH9bjtrHOnbXTGL4JzT7', '0dRYCtYfllnlfDiEufuwOU', '4Am0QoksGA70r4ZdsgV2Y9', '2mKGjVCoxL8Um9GkNhhyto', '7LsJd6JUzWy3SUvy33g6yQ', '0IkK4SEryuCtbQjm5LRLMZ', '1QMSIsTV6lcLCQ9MBHTLhT', '6TTHXR7QYOUNS2gyy2OVvg', '0wRFR5cUtBNArgtw4F1rw1', '0HdA4vcTOb3XzW3L43X6sK', '10WVEHOf1FZf5XgK6dUWvN', '4fKiuIavbsoTRZ6R7xuAyT', '4SBahN5KfX1RLG9XLNIlJA', '618v3huzqDQQBfMogznSb3', '2cptaUFdsU60tdh7zRglai', '6MYNfMiLwCmA3bRdfzvfcs', '5ULRlgiSPSKTaJN1vU9yso', '2syQErCMMM1rXeZqtuaqxg', '06N4bQF7MXzLbbifGMIJZW', '29f11nLUcMYQ2Ndbnb7N0o', '3WmJIqP0Fk5OyDKFuX09li', '2AGen6RvvTNEhdNoyJEMvu', '2wcseriGAqeodDazDXgmaq', '4C4wO1Lob3kTxvqXtPJice', '6AJGPFFuC8qTWD5SP50RNh', '45SbQo5bq8f0hNdB70IyFC', '5IYKZF1nw5V0GtxQN7mspQ', '6XnmPBOZfmvRHW1BSbwugJ', '7MwnbWnZCBg1iK7uAreNhm', '5BPYhountssVohoID7bS40', '3uRyuXf29unDXTFNNXHrYl', '07X4FAhX2R6xnAwd6ToUUx', '3a8gsld8gQzvfyLfPO1LP1', '6VkmdRz8YgHFQV3ZNTJAWU', '7kVssG465tU7XWgfrseOVS', '7eoKwUoGIQSQLusZiQIvmm', '1m84zLz4WizjR4mCDoXReg', '76mnMmcrLA3Rv5JtrjvfS7', '4VHM8pHDSBnzIppLyeMyJ8', '27829SWtwhWUANViVTEpol', '2vcDl2SLudnltyDEos3v6E', '29OB96bcpEnlfbdVREAr83', '2xQeykrgmC01UqRpkrT0Zg', '47rNYq9IUveetu35c65xTw', '4zYkSXrfgJyrNkNv3mTiIZ']\n",
      "Made in France\n"
     ]
    },
    {
     "name": "stderr",
     "output_type": "stream",
     "text": [
      "\r",
      " 36%|██████████████████████████████▏                                                    | 4/11 [01:09<02:07, 18.26s/it]"
     ]
    },
    {
     "name": "stdout",
     "output_type": "stream",
     "text": [
      "['00Blm7zeNqgYLPtW6zg8cj', '2O9enJqAqs46tfBlGhLsnW', '2JvWoj5bTklsb6fPzRfZ3x', '4R67rQNSbbsR4TdUVOIdez', '4iN16F8JtVxG2UTzp3avGl', '2QEtf4oCeJrfDeqf8rJiQK', '08SB2OtZkaliju77WYEKxk', '4H1CfsnXQonWnJeHzHuVUz', '18asYwWugKjjsihZ0YvRxO', '4SRkixF643LgySLh8owTkJ', '4MDDOpA7BwGDjYclTmCTVw', '19ZBncpk43fACvzKeqZIib', '38XLUjlR84JEwK0SOvX77a', '2u2gafIeAP55EjXhU768Zo', '4fcbxnnfUycb7fJAInJOob', '188rKyWMsC4WsKKZ85lnUO', '1544oKxSzETEcBpOKdf3de', '2lZrHFgxAdZrL0j8JvYhkc', '3RZauEkvORMeP06npyaIYa', '6RT5ir7all6RgZEAupLNlO', '2j1Os2WNkwb6KJvaiHFdUl', '280MV4FuB5uusjx8wj1dpt', '5YkXkfXWTE1pk6l2m78JnH', '0FiwMxsaV8SNBnjmZkHHra', '1mrGEef8GuaEnDdw8J5BQp', '4xD3DFKtDy9JkOOxcsTy3r', '1hkOuEeJQtDxHKBD8gJTBx', '1RBIzko2PMY5CP0d3MIkwl', '3YZdPvENFPytMyrnkRWm1B', '2BzAGK3lEZAQz5cU0Ae1wd', '2N9fGz3nPXci2w80p1lQIW', '2LnsEYFfPwk6ueO2OCBNLA', '1wAPbQ5XjbZqPl0WDl5mHH', '1pY5rVjr4BqQlJMx3S7Mmf', '1KCXEsHxKDq72C70fyM0vq', '77fRc8iT858bzRdcR4k8T8', '0CiJazqgaY4QhTNB66xfzm', '6cBvcf3JEn3NjIvaqkHkn0', '46PGzHQRAFjuVXB6fKRmDZ', '1MCvAAKHSdGhe4ZPq0YMrF', '7fdqKCfTKNv1UNwmCYHUpu', '6sb1CGojNdNMiToRfSNwzY', '5dXIrAUNLOcN2mYkCSeO3k', '38qCAgXW23GmzHG5bWhPzg', '0yPlsLJNceFwpgEiYMe0tv', '05nKsnLJGrsDwQIXAExTQt', '1kjixr3Tv9ku0HmXrDqWNH', '7GTlrFi1WMmZyLEUlRTihW', '6P5yJhVBhB0nV27SXhwTZc', '6v2ezoIqtD8UKjaQhqde6r', '6fSRCnfSfTBCbgoa6Nwhim', '4SEiKLEcOsLEtvU53N6bex', '70f71uZ7egz2Vshwx4D425', '7MwUFO1Av7sEOCUa1ULmwa', '6miahXSZE01l2lNDqNCfxQ', '3Kp4DMEXVilurnN1PBvHui', '2aDuY0WsvDlIs5KczrYFid', '7onHzHeOVE3M9p0tNKQbXc', '7pIoByp3uzkV6saBAHfG2c', '0PzcMfqECraaBGxX7zr7wV', '12e5rUktNoga7mdtziCw33', '46OKHucGhjhskazqD8tKnH', '0B8U71SDP0h9FF6xSZqftH', '6sjLKQtx6CbICWREw5tDPY', '0mPh3y1fgrZiWlhuNmPq5Y', '3fRK9qG08iZyWvqjOWkdKc', '7ytFo4I2OsaiGRhYdFGoQW', '3LBp0NzDmMXfbDbBlWD3vO', '1FOcJ48XhC9gBMyONLB2Cr', '5B6u8ImBwp0lKZXCH0tbx8', '7CtRS8xbsxUnT2ZA7uowqD', '5Cfh8D9E3CFEVj0LGjf9wU', '5oBUlWZcYKuYuuSsDeNQR7', '0Q3DprZOlvkOWlC3pmr5Mx', '1mS7CcE30VDxZAJOtgeIjA', '2O9enJqAqs46tfBlGhLsnW', '2s1lS0DxcxTB8Y6oFgVKqW', '3IR9wKWxI0TK1DLXvZq8uQ', '2kUKeN9ZpYHqfBjB8Gphb2', '27Z3UdqvdAhtJlWBMoDjBD', '14M6BbiHt2w9KHVvoIUIUF', '13tc5dzElXbImNjDzz4E2B', '19dD5F9Mu5DvraJr0f5eho', '7vX1e8Tcj1cl20HoWaDI4h', '2mIfMDTR6pNa3iWne56HGe', '2XLPtKom1ixf7IJgPsPAvp', '6cBvcf3JEn3NjIvaqkHkn0', '0igELlHJcgbgEtgsTmj9t0', '5csxKPX4HuN8UDEdHUxcqz', '3R3li8sx8AjMRI1BdmwXAf', '3bGGvbwbhq9kIMhHaXBdYL', '5YkXkfXWTE1pk6l2m78JnH', '3BFlHQD1nt7vHXmh0SswCO', '5aSLIxdiQAgfTGsqGwgivC', '3PeW31cRh8BlN7fwj6cGe9', '5oBUlWZcYKuYuuSsDeNQR7', '3eGuT5Bs8s9CGQbUxDXFzb', '2FHsE83xbrzzWusudCFpg1', '1isJQKjH3cFutccvz3jrCD', '1TO85DMVoOejzq5YMMWAkl', '5cOkUTJvuYBNV1JZ5yPWex', '72HFkyZ8MFEbplFjRO7aqA', '1H366E2OeWiWQvMj0iESzX', '67XtpHJ5S4KO8w8CllZx7I', '52Z9VzMQ91wrhnn1zefaVi', '0exjGVTPrIA5MYokrYG862', '17tejn8Dt8IDKKRknPznPD', '2D0BQfVCn6qoK77flhU7nR', '2YAgixJPrOiEZSgZMlmqqF', '48ghUr9q4ZCKTGEGzdZJlj', '2uj7OACDZUQIvAfKAwtHES', '4xJfZesfZ3UGR0v647p8Y5', '4Z1u8ZwrxBwdnFH4vibcYO', '5dxsliYJaYcDMfw5emzJer', '5cyYphxofHgRspEKNn3UTl', '62nJqZs3Qs7DGUto35dVUv', '5cZ6NaDFs0a7ZYfGpaJWEt', '5rQG0YxxAgCKpJthO0K3JQ', '58D69P1dusriq8I3t83eji', '4ZpFLXdO1Tqs12uJe4OsN7', '4cvsvY3HYBV7jJbWsHGOAh', '2vd2HEhrkafOi2uveHjzzh', '6DdPeHn2Kc5weToqPO9anJ', '57AzeYIWwAYprDXRwPjgtZ', '7BiRw4sgXQMyNx8nPltnQr', '2TitxRtrE8OLcAwcNucvmJ', '5Zn1K7j3DkB1akPiBLwKR9', '5gyhZCykUqfbjqyPzR4CVe', '6nhc3daOpKaZBRj2ZFWfc7', '1CQH9bjtrHOnbXTGL4JzT7', '0dRYCtYfllnlfDiEufuwOU', '4Am0QoksGA70r4ZdsgV2Y9', '2mKGjVCoxL8Um9GkNhhyto', '7LsJd6JUzWy3SUvy33g6yQ', '0IkK4SEryuCtbQjm5LRLMZ', '1QMSIsTV6lcLCQ9MBHTLhT', '6TTHXR7QYOUNS2gyy2OVvg', '0wRFR5cUtBNArgtw4F1rw1', '0HdA4vcTOb3XzW3L43X6sK', '10WVEHOf1FZf5XgK6dUWvN', '4fKiuIavbsoTRZ6R7xuAyT', '4SBahN5KfX1RLG9XLNIlJA', '618v3huzqDQQBfMogznSb3', '2cptaUFdsU60tdh7zRglai', '6MYNfMiLwCmA3bRdfzvfcs', '5ULRlgiSPSKTaJN1vU9yso', '2syQErCMMM1rXeZqtuaqxg', '06N4bQF7MXzLbbifGMIJZW', '29f11nLUcMYQ2Ndbnb7N0o', '3WmJIqP0Fk5OyDKFuX09li', '2AGen6RvvTNEhdNoyJEMvu', '2wcseriGAqeodDazDXgmaq', '4C4wO1Lob3kTxvqXtPJice', '6AJGPFFuC8qTWD5SP50RNh', '45SbQo5bq8f0hNdB70IyFC', '5IYKZF1nw5V0GtxQN7mspQ', '6XnmPBOZfmvRHW1BSbwugJ', '7MwnbWnZCBg1iK7uAreNhm', '5BPYhountssVohoID7bS40', '3uRyuXf29unDXTFNNXHrYl', '07X4FAhX2R6xnAwd6ToUUx', '3a8gsld8gQzvfyLfPO1LP1', '6VkmdRz8YgHFQV3ZNTJAWU', '7kVssG465tU7XWgfrseOVS', '7eoKwUoGIQSQLusZiQIvmm', '1m84zLz4WizjR4mCDoXReg', '76mnMmcrLA3Rv5JtrjvfS7', '4VHM8pHDSBnzIppLyeMyJ8', '27829SWtwhWUANViVTEpol', '2vcDl2SLudnltyDEos3v6E', '29OB96bcpEnlfbdVREAr83', '2xQeykrgmC01UqRpkrT0Zg', '47rNYq9IUveetu35c65xTw', '4zYkSXrfgJyrNkNv3mTiIZ', '4bwPVMQoabglAtg0HqiUuO', '03WMhty0KQ2ppU30LiyKy4', '6ths4lLgtobquTsQ6hM6oa', '6UWcp6ASpVIvUWX5eZMtp2', '2giJeD2J4YowE79mo8Fnqm', '2PfPIIxUiH9Y7miXqiQdqv', '7CaFGdmcY0tZev9f6zKzDR', '1QBhGI8QTvMYpp6i8FYiE0', '4mVY5qhPe2PWDvf7E2Sn0d', '1tmEnZhAhwUjzwJ7L0QFAh', '7Id3qONAw6sXE92FlfZEWI', '3KkdZgcQxYQQZQXumGO1Cy', '3UBZKE16VUDdeZj1VOPL0b', '0s1QWICdAhug2jCIZJ4QQZ', '3EpySzSXQYevKTq1glwGos', '44bUdMl0JyKxyDS4qku5SB', '6R3xtNGXOTqp8Qzuf22jaW', '6FaOW5zkj9QtfDSTeHkUCI', '3w5V2euF3wWJnZkkt0QBxq', '5toHaNWeaCf5cw9Jfn6yK4', '1yYLMVMSM2u7t1yfzAivy1', '0T9wtwG6ZJNgeqBBiGrwGK', '04EchQ81oKTRmabY8QMLsq', '6roMwL3sNdHRO2MRVmkBRn', '5kA30CMKo6wUWiINlG4YXt', '5smfgFsXaD4F510jOD0wLa', '5OSMwHdDsn4a7VBEOFACWg', '1hp6svNriVSFySA6rhsI5a', '45UT1NY9lpbJfdYp5Kdd1U', '0hLa19JP4bItkpyTjopqOb', '7tPjMXhFI1eSWUQlnlXEqy', '6YTphVWLG14d3eUiQ5grmU', '16RpNkwx8gaDyXD6duTt1l', '1LmmaY7vbIRD5qUnB507lz', '6w4Mc2Twjlm1gu6G4Qrqhd', '4km8XxyYCw5CSHM5H36K47', '5Qhf6Er2tQ71pluUxFwDqI', '7mYRC0kv4oI7ipqoPT8aXM', '053W70CWRzK053YEA8XBVW', '5mIf7UP0FEsGaGWBVjrNKP', '0O1wsXEiOMPwFSCdmpP6C0', '0Yr1TfeacyGFyDe0aWDla9', '0Jv6znEgiRN0QpJXQ9aaWA', '7GsKP7AgvqfNNJw74MhSLF', '7Fyfpwv9UUzfVUsfcoQzQt', '1BOv46ISdg4Xuv5Ou7M1cG', '7LyA1NPfCyT6mzx6MYTzFG', '3MkCJcOcLK0PaYy4QgKpWk', '2bBrRe20ZB7pJMQaNJ4nwk', '12sbRlZqz4ubIjKfft0tAk']\n",
      "Gym Tonic\n"
     ]
    },
    {
     "name": "stderr",
     "output_type": "stream",
     "text": [
      "\r",
      " 45%|█████████████████████████████████████▋                                             | 5/11 [01:24<01:43, 17.33s/it]"
     ]
    },
    {
     "name": "stdout",
     "output_type": "stream",
     "text": [
      "['00Blm7zeNqgYLPtW6zg8cj', '2O9enJqAqs46tfBlGhLsnW', '2JvWoj5bTklsb6fPzRfZ3x', '4R67rQNSbbsR4TdUVOIdez', '4iN16F8JtVxG2UTzp3avGl', '2QEtf4oCeJrfDeqf8rJiQK', '08SB2OtZkaliju77WYEKxk', '4H1CfsnXQonWnJeHzHuVUz', '18asYwWugKjjsihZ0YvRxO', '4SRkixF643LgySLh8owTkJ', '4MDDOpA7BwGDjYclTmCTVw', '19ZBncpk43fACvzKeqZIib', '38XLUjlR84JEwK0SOvX77a', '2u2gafIeAP55EjXhU768Zo', '4fcbxnnfUycb7fJAInJOob', '188rKyWMsC4WsKKZ85lnUO', '1544oKxSzETEcBpOKdf3de', '2lZrHFgxAdZrL0j8JvYhkc', '3RZauEkvORMeP06npyaIYa', '6RT5ir7all6RgZEAupLNlO', '2j1Os2WNkwb6KJvaiHFdUl', '280MV4FuB5uusjx8wj1dpt', '5YkXkfXWTE1pk6l2m78JnH', '0FiwMxsaV8SNBnjmZkHHra', '1mrGEef8GuaEnDdw8J5BQp', '4xD3DFKtDy9JkOOxcsTy3r', '1hkOuEeJQtDxHKBD8gJTBx', '1RBIzko2PMY5CP0d3MIkwl', '3YZdPvENFPytMyrnkRWm1B', '2BzAGK3lEZAQz5cU0Ae1wd', '2N9fGz3nPXci2w80p1lQIW', '2LnsEYFfPwk6ueO2OCBNLA', '1wAPbQ5XjbZqPl0WDl5mHH', '1pY5rVjr4BqQlJMx3S7Mmf', '1KCXEsHxKDq72C70fyM0vq', '77fRc8iT858bzRdcR4k8T8', '0CiJazqgaY4QhTNB66xfzm', '6cBvcf3JEn3NjIvaqkHkn0', '46PGzHQRAFjuVXB6fKRmDZ', '1MCvAAKHSdGhe4ZPq0YMrF', '7fdqKCfTKNv1UNwmCYHUpu', '6sb1CGojNdNMiToRfSNwzY', '5dXIrAUNLOcN2mYkCSeO3k', '38qCAgXW23GmzHG5bWhPzg', '0yPlsLJNceFwpgEiYMe0tv', '05nKsnLJGrsDwQIXAExTQt', '1kjixr3Tv9ku0HmXrDqWNH', '7GTlrFi1WMmZyLEUlRTihW', '6P5yJhVBhB0nV27SXhwTZc', '6v2ezoIqtD8UKjaQhqde6r', '6fSRCnfSfTBCbgoa6Nwhim', '4SEiKLEcOsLEtvU53N6bex', '70f71uZ7egz2Vshwx4D425', '7MwUFO1Av7sEOCUa1ULmwa', '6miahXSZE01l2lNDqNCfxQ', '3Kp4DMEXVilurnN1PBvHui', '2aDuY0WsvDlIs5KczrYFid', '7onHzHeOVE3M9p0tNKQbXc', '7pIoByp3uzkV6saBAHfG2c', '0PzcMfqECraaBGxX7zr7wV', '12e5rUktNoga7mdtziCw33', '46OKHucGhjhskazqD8tKnH', '0B8U71SDP0h9FF6xSZqftH', '6sjLKQtx6CbICWREw5tDPY', '0mPh3y1fgrZiWlhuNmPq5Y', '3fRK9qG08iZyWvqjOWkdKc', '7ytFo4I2OsaiGRhYdFGoQW', '3LBp0NzDmMXfbDbBlWD3vO', '1FOcJ48XhC9gBMyONLB2Cr', '5B6u8ImBwp0lKZXCH0tbx8', '7CtRS8xbsxUnT2ZA7uowqD', '5Cfh8D9E3CFEVj0LGjf9wU', '5oBUlWZcYKuYuuSsDeNQR7', '0Q3DprZOlvkOWlC3pmr5Mx', '1mS7CcE30VDxZAJOtgeIjA', '2O9enJqAqs46tfBlGhLsnW', '2s1lS0DxcxTB8Y6oFgVKqW', '3IR9wKWxI0TK1DLXvZq8uQ', '2kUKeN9ZpYHqfBjB8Gphb2', '27Z3UdqvdAhtJlWBMoDjBD', '14M6BbiHt2w9KHVvoIUIUF', '13tc5dzElXbImNjDzz4E2B', '19dD5F9Mu5DvraJr0f5eho', '7vX1e8Tcj1cl20HoWaDI4h', '2mIfMDTR6pNa3iWne56HGe', '2XLPtKom1ixf7IJgPsPAvp', '6cBvcf3JEn3NjIvaqkHkn0', '0igELlHJcgbgEtgsTmj9t0', '5csxKPX4HuN8UDEdHUxcqz', '3R3li8sx8AjMRI1BdmwXAf', '3bGGvbwbhq9kIMhHaXBdYL', '5YkXkfXWTE1pk6l2m78JnH', '3BFlHQD1nt7vHXmh0SswCO', '5aSLIxdiQAgfTGsqGwgivC', '3PeW31cRh8BlN7fwj6cGe9', '5oBUlWZcYKuYuuSsDeNQR7', '3eGuT5Bs8s9CGQbUxDXFzb', '2FHsE83xbrzzWusudCFpg1', '1isJQKjH3cFutccvz3jrCD', '1TO85DMVoOejzq5YMMWAkl', '5cOkUTJvuYBNV1JZ5yPWex', '72HFkyZ8MFEbplFjRO7aqA', '1H366E2OeWiWQvMj0iESzX', '67XtpHJ5S4KO8w8CllZx7I', '52Z9VzMQ91wrhnn1zefaVi', '0exjGVTPrIA5MYokrYG862', '17tejn8Dt8IDKKRknPznPD', '2D0BQfVCn6qoK77flhU7nR', '2YAgixJPrOiEZSgZMlmqqF', '48ghUr9q4ZCKTGEGzdZJlj', '2uj7OACDZUQIvAfKAwtHES', '4xJfZesfZ3UGR0v647p8Y5', '4Z1u8ZwrxBwdnFH4vibcYO', '5dxsliYJaYcDMfw5emzJer', '5cyYphxofHgRspEKNn3UTl', '62nJqZs3Qs7DGUto35dVUv', '5cZ6NaDFs0a7ZYfGpaJWEt', '5rQG0YxxAgCKpJthO0K3JQ', '58D69P1dusriq8I3t83eji', '4ZpFLXdO1Tqs12uJe4OsN7', '4cvsvY3HYBV7jJbWsHGOAh', '2vd2HEhrkafOi2uveHjzzh', '6DdPeHn2Kc5weToqPO9anJ', '57AzeYIWwAYprDXRwPjgtZ', '7BiRw4sgXQMyNx8nPltnQr', '2TitxRtrE8OLcAwcNucvmJ', '5Zn1K7j3DkB1akPiBLwKR9', '5gyhZCykUqfbjqyPzR4CVe', '6nhc3daOpKaZBRj2ZFWfc7', '1CQH9bjtrHOnbXTGL4JzT7', '0dRYCtYfllnlfDiEufuwOU', '4Am0QoksGA70r4ZdsgV2Y9', '2mKGjVCoxL8Um9GkNhhyto', '7LsJd6JUzWy3SUvy33g6yQ', '0IkK4SEryuCtbQjm5LRLMZ', '1QMSIsTV6lcLCQ9MBHTLhT', '6TTHXR7QYOUNS2gyy2OVvg', '0wRFR5cUtBNArgtw4F1rw1', '0HdA4vcTOb3XzW3L43X6sK', '10WVEHOf1FZf5XgK6dUWvN', '4fKiuIavbsoTRZ6R7xuAyT', '4SBahN5KfX1RLG9XLNIlJA', '618v3huzqDQQBfMogznSb3', '2cptaUFdsU60tdh7zRglai', '6MYNfMiLwCmA3bRdfzvfcs', '5ULRlgiSPSKTaJN1vU9yso', '2syQErCMMM1rXeZqtuaqxg', '06N4bQF7MXzLbbifGMIJZW', '29f11nLUcMYQ2Ndbnb7N0o', '3WmJIqP0Fk5OyDKFuX09li', '2AGen6RvvTNEhdNoyJEMvu', '2wcseriGAqeodDazDXgmaq', '4C4wO1Lob3kTxvqXtPJice', '6AJGPFFuC8qTWD5SP50RNh', '45SbQo5bq8f0hNdB70IyFC', '5IYKZF1nw5V0GtxQN7mspQ', '6XnmPBOZfmvRHW1BSbwugJ', '7MwnbWnZCBg1iK7uAreNhm', '5BPYhountssVohoID7bS40', '3uRyuXf29unDXTFNNXHrYl', '07X4FAhX2R6xnAwd6ToUUx', '3a8gsld8gQzvfyLfPO1LP1', '6VkmdRz8YgHFQV3ZNTJAWU', '7kVssG465tU7XWgfrseOVS', '7eoKwUoGIQSQLusZiQIvmm', '1m84zLz4WizjR4mCDoXReg', '76mnMmcrLA3Rv5JtrjvfS7', '4VHM8pHDSBnzIppLyeMyJ8', '27829SWtwhWUANViVTEpol', '2vcDl2SLudnltyDEos3v6E', '29OB96bcpEnlfbdVREAr83', '2xQeykrgmC01UqRpkrT0Zg', '47rNYq9IUveetu35c65xTw', '4zYkSXrfgJyrNkNv3mTiIZ', '4bwPVMQoabglAtg0HqiUuO', '03WMhty0KQ2ppU30LiyKy4', '6ths4lLgtobquTsQ6hM6oa', '6UWcp6ASpVIvUWX5eZMtp2', '2giJeD2J4YowE79mo8Fnqm', '2PfPIIxUiH9Y7miXqiQdqv', '7CaFGdmcY0tZev9f6zKzDR', '1QBhGI8QTvMYpp6i8FYiE0', '4mVY5qhPe2PWDvf7E2Sn0d', '1tmEnZhAhwUjzwJ7L0QFAh', '7Id3qONAw6sXE92FlfZEWI', '3KkdZgcQxYQQZQXumGO1Cy', '3UBZKE16VUDdeZj1VOPL0b', '0s1QWICdAhug2jCIZJ4QQZ', '3EpySzSXQYevKTq1glwGos', '44bUdMl0JyKxyDS4qku5SB', '6R3xtNGXOTqp8Qzuf22jaW', '6FaOW5zkj9QtfDSTeHkUCI', '3w5V2euF3wWJnZkkt0QBxq', '5toHaNWeaCf5cw9Jfn6yK4', '1yYLMVMSM2u7t1yfzAivy1', '0T9wtwG6ZJNgeqBBiGrwGK', '04EchQ81oKTRmabY8QMLsq', '6roMwL3sNdHRO2MRVmkBRn', '5kA30CMKo6wUWiINlG4YXt', '5smfgFsXaD4F510jOD0wLa', '5OSMwHdDsn4a7VBEOFACWg', '1hp6svNriVSFySA6rhsI5a', '45UT1NY9lpbJfdYp5Kdd1U', '0hLa19JP4bItkpyTjopqOb', '7tPjMXhFI1eSWUQlnlXEqy', '6YTphVWLG14d3eUiQ5grmU', '16RpNkwx8gaDyXD6duTt1l', '1LmmaY7vbIRD5qUnB507lz', '6w4Mc2Twjlm1gu6G4Qrqhd', '4km8XxyYCw5CSHM5H36K47', '5Qhf6Er2tQ71pluUxFwDqI', '7mYRC0kv4oI7ipqoPT8aXM', '053W70CWRzK053YEA8XBVW', '5mIf7UP0FEsGaGWBVjrNKP', '0O1wsXEiOMPwFSCdmpP6C0', '0Yr1TfeacyGFyDe0aWDla9', '0Jv6znEgiRN0QpJXQ9aaWA', '7GsKP7AgvqfNNJw74MhSLF', '7Fyfpwv9UUzfVUsfcoQzQt', '1BOv46ISdg4Xuv5Ou7M1cG', '7LyA1NPfCyT6mzx6MYTzFG', '3MkCJcOcLK0PaYy4QgKpWk', '2bBrRe20ZB7pJMQaNJ4nwk', '12sbRlZqz4ubIjKfft0tAk', '1ot6jEe4w4hYnsOPjd3xKQ', '4qv7YSyt5UV8LvrXyE8sGn', '1TfqLAPs4K3s2rJMoCokcS', '1jDJFeK9x3OZboIAHsY9k2', '4y1LsJpmMti1PfRQV9AWWe', '3YMTNzrRktpHDsi6OrmZNO', '2vz1CsL5WBsbpBcwgboTAw', '1OOtq8tRnDM8kG2gqUPjAj', '7o7E1nrHWncYY7PY94gCiX', '4aKIs5t9TqP59btlCGPrgw', '2IvetNzSZMH5gwjInoyr18', '7LmDmvqagpX0PKxveGtZTa', '1xPSDf8z4dH46gkvlLtvDO', '3cbV252akVZInSvJk7jAYX', '5pSvjjfsh34sLrkYSNGCl4', '5XsMz0YfEaHZE0MTb1aujs', '0cGG2EouYCEEC3xfa0tDFV', '3FlOciKDqFlTMPeC7t92Qy', '2KH16WveTQWT6KOG9Rg6e2', '4d6eqRtpDX7tydHJGDZUBQ', '4k6ktr10Hczmh55NY3LfJy', '273uCXd7NPrInaiNqtkOrA', '6A4Jc8npNo79BOgsrPptLA', '7fRvtXvJMpGfTLdF0M09a1', '2FpyKkCFIfqmp6eQx4Rn1V', '57Y3UccJEJqT8w8RWkUAz0', '0F0MA0ns8oXwGw66B2BSXm', '7INi4pMPG4IE0Smx5y4KVf', '1RSy7B2vfPi84N80QJ6frX', '6HA97v4wEGQ5TUClRM0XLc', '5zA8vzDGqPl2AzZkEYQGKh', '5tdKaKLnC4SgtDZ6RlWeal', '0uI4aw6ms90qFNawk9H9CO', '2eRmD96ncTEgQwJmXa6rrg', '5yf83IdQmCRRAHwhNtSnvD', '2olVm1lHicpveMAo4AUDRB', '3koCCeSaVUyrRo3N2gHrd8', '4WoT9wgK9o1cxBfKRWlRzx', '3m0y8qLoznUYi73SUBP8GI', '1uI848raFaNWwe9HjHpjQ5', '21qnJAMtzC6S5SESuqQLEK', '5vdp5UmvTsnMEMESIF2Ym7', '0Z7O8GMQShj9TJrm2yX1R6', '0RgLPN21aV1Ps39Tyb7268', '4uLU6hMCjMI75M1A2tKUQC', '4lRdpZYTwaPpuKpquO6bo3', '3hVrI7snZMTmHCnbwME47u', '5RLDIY4PICQWxdlLfDHNfi', '369JKykZZr1qzv9pg5zAhz', '6sT9MWlJManry3EQwf4V80']\n",
      "Validé\n"
     ]
    },
    {
     "name": "stderr",
     "output_type": "stream",
     "text": [
      "\r",
      " 55%|█████████████████████████████████████████████▎                                     | 6/11 [01:36<01:18, 15.74s/it]"
     ]
    },
    {
     "name": "stdout",
     "output_type": "stream",
     "text": [
      "['00Blm7zeNqgYLPtW6zg8cj', '2O9enJqAqs46tfBlGhLsnW', '2JvWoj5bTklsb6fPzRfZ3x', '4R67rQNSbbsR4TdUVOIdez', '4iN16F8JtVxG2UTzp3avGl', '2QEtf4oCeJrfDeqf8rJiQK', '08SB2OtZkaliju77WYEKxk', '4H1CfsnXQonWnJeHzHuVUz', '18asYwWugKjjsihZ0YvRxO', '4SRkixF643LgySLh8owTkJ', '4MDDOpA7BwGDjYclTmCTVw', '19ZBncpk43fACvzKeqZIib', '38XLUjlR84JEwK0SOvX77a', '2u2gafIeAP55EjXhU768Zo', '4fcbxnnfUycb7fJAInJOob', '188rKyWMsC4WsKKZ85lnUO', '1544oKxSzETEcBpOKdf3de', '2lZrHFgxAdZrL0j8JvYhkc', '3RZauEkvORMeP06npyaIYa', '6RT5ir7all6RgZEAupLNlO', '2j1Os2WNkwb6KJvaiHFdUl', '280MV4FuB5uusjx8wj1dpt', '5YkXkfXWTE1pk6l2m78JnH', '0FiwMxsaV8SNBnjmZkHHra', '1mrGEef8GuaEnDdw8J5BQp', '4xD3DFKtDy9JkOOxcsTy3r', '1hkOuEeJQtDxHKBD8gJTBx', '1RBIzko2PMY5CP0d3MIkwl', '3YZdPvENFPytMyrnkRWm1B', '2BzAGK3lEZAQz5cU0Ae1wd', '2N9fGz3nPXci2w80p1lQIW', '2LnsEYFfPwk6ueO2OCBNLA', '1wAPbQ5XjbZqPl0WDl5mHH', '1pY5rVjr4BqQlJMx3S7Mmf', '1KCXEsHxKDq72C70fyM0vq', '77fRc8iT858bzRdcR4k8T8', '0CiJazqgaY4QhTNB66xfzm', '6cBvcf3JEn3NjIvaqkHkn0', '46PGzHQRAFjuVXB6fKRmDZ', '1MCvAAKHSdGhe4ZPq0YMrF', '7fdqKCfTKNv1UNwmCYHUpu', '6sb1CGojNdNMiToRfSNwzY', '5dXIrAUNLOcN2mYkCSeO3k', '38qCAgXW23GmzHG5bWhPzg', '0yPlsLJNceFwpgEiYMe0tv', '05nKsnLJGrsDwQIXAExTQt', '1kjixr3Tv9ku0HmXrDqWNH', '7GTlrFi1WMmZyLEUlRTihW', '6P5yJhVBhB0nV27SXhwTZc', '6v2ezoIqtD8UKjaQhqde6r', '6fSRCnfSfTBCbgoa6Nwhim', '4SEiKLEcOsLEtvU53N6bex', '70f71uZ7egz2Vshwx4D425', '7MwUFO1Av7sEOCUa1ULmwa', '6miahXSZE01l2lNDqNCfxQ', '3Kp4DMEXVilurnN1PBvHui', '2aDuY0WsvDlIs5KczrYFid', '7onHzHeOVE3M9p0tNKQbXc', '7pIoByp3uzkV6saBAHfG2c', '0PzcMfqECraaBGxX7zr7wV', '12e5rUktNoga7mdtziCw33', '46OKHucGhjhskazqD8tKnH', '0B8U71SDP0h9FF6xSZqftH', '6sjLKQtx6CbICWREw5tDPY', '0mPh3y1fgrZiWlhuNmPq5Y', '3fRK9qG08iZyWvqjOWkdKc', '7ytFo4I2OsaiGRhYdFGoQW', '3LBp0NzDmMXfbDbBlWD3vO', '1FOcJ48XhC9gBMyONLB2Cr', '5B6u8ImBwp0lKZXCH0tbx8', '7CtRS8xbsxUnT2ZA7uowqD', '5Cfh8D9E3CFEVj0LGjf9wU', '5oBUlWZcYKuYuuSsDeNQR7', '0Q3DprZOlvkOWlC3pmr5Mx', '1mS7CcE30VDxZAJOtgeIjA', '2O9enJqAqs46tfBlGhLsnW', '2s1lS0DxcxTB8Y6oFgVKqW', '3IR9wKWxI0TK1DLXvZq8uQ', '2kUKeN9ZpYHqfBjB8Gphb2', '27Z3UdqvdAhtJlWBMoDjBD', '14M6BbiHt2w9KHVvoIUIUF', '13tc5dzElXbImNjDzz4E2B', '19dD5F9Mu5DvraJr0f5eho', '7vX1e8Tcj1cl20HoWaDI4h', '2mIfMDTR6pNa3iWne56HGe', '2XLPtKom1ixf7IJgPsPAvp', '6cBvcf3JEn3NjIvaqkHkn0', '0igELlHJcgbgEtgsTmj9t0', '5csxKPX4HuN8UDEdHUxcqz', '3R3li8sx8AjMRI1BdmwXAf', '3bGGvbwbhq9kIMhHaXBdYL', '5YkXkfXWTE1pk6l2m78JnH', '3BFlHQD1nt7vHXmh0SswCO', '5aSLIxdiQAgfTGsqGwgivC', '3PeW31cRh8BlN7fwj6cGe9', '5oBUlWZcYKuYuuSsDeNQR7', '3eGuT5Bs8s9CGQbUxDXFzb', '2FHsE83xbrzzWusudCFpg1', '1isJQKjH3cFutccvz3jrCD', '1TO85DMVoOejzq5YMMWAkl', '5cOkUTJvuYBNV1JZ5yPWex', '72HFkyZ8MFEbplFjRO7aqA', '1H366E2OeWiWQvMj0iESzX', '67XtpHJ5S4KO8w8CllZx7I', '52Z9VzMQ91wrhnn1zefaVi', '0exjGVTPrIA5MYokrYG862', '17tejn8Dt8IDKKRknPznPD', '2D0BQfVCn6qoK77flhU7nR', '2YAgixJPrOiEZSgZMlmqqF', '48ghUr9q4ZCKTGEGzdZJlj', '2uj7OACDZUQIvAfKAwtHES', '4xJfZesfZ3UGR0v647p8Y5', '4Z1u8ZwrxBwdnFH4vibcYO', '5dxsliYJaYcDMfw5emzJer', '5cyYphxofHgRspEKNn3UTl', '62nJqZs3Qs7DGUto35dVUv', '5cZ6NaDFs0a7ZYfGpaJWEt', '5rQG0YxxAgCKpJthO0K3JQ', '58D69P1dusriq8I3t83eji', '4ZpFLXdO1Tqs12uJe4OsN7', '4cvsvY3HYBV7jJbWsHGOAh', '2vd2HEhrkafOi2uveHjzzh', '6DdPeHn2Kc5weToqPO9anJ', '57AzeYIWwAYprDXRwPjgtZ', '7BiRw4sgXQMyNx8nPltnQr', '2TitxRtrE8OLcAwcNucvmJ', '5Zn1K7j3DkB1akPiBLwKR9', '5gyhZCykUqfbjqyPzR4CVe', '6nhc3daOpKaZBRj2ZFWfc7', '1CQH9bjtrHOnbXTGL4JzT7', '0dRYCtYfllnlfDiEufuwOU', '4Am0QoksGA70r4ZdsgV2Y9', '2mKGjVCoxL8Um9GkNhhyto', '7LsJd6JUzWy3SUvy33g6yQ', '0IkK4SEryuCtbQjm5LRLMZ', '1QMSIsTV6lcLCQ9MBHTLhT', '6TTHXR7QYOUNS2gyy2OVvg', '0wRFR5cUtBNArgtw4F1rw1', '0HdA4vcTOb3XzW3L43X6sK', '10WVEHOf1FZf5XgK6dUWvN', '4fKiuIavbsoTRZ6R7xuAyT', '4SBahN5KfX1RLG9XLNIlJA', '618v3huzqDQQBfMogznSb3', '2cptaUFdsU60tdh7zRglai', '6MYNfMiLwCmA3bRdfzvfcs', '5ULRlgiSPSKTaJN1vU9yso', '2syQErCMMM1rXeZqtuaqxg', '06N4bQF7MXzLbbifGMIJZW', '29f11nLUcMYQ2Ndbnb7N0o', '3WmJIqP0Fk5OyDKFuX09li', '2AGen6RvvTNEhdNoyJEMvu', '2wcseriGAqeodDazDXgmaq', '4C4wO1Lob3kTxvqXtPJice', '6AJGPFFuC8qTWD5SP50RNh', '45SbQo5bq8f0hNdB70IyFC', '5IYKZF1nw5V0GtxQN7mspQ', '6XnmPBOZfmvRHW1BSbwugJ', '7MwnbWnZCBg1iK7uAreNhm', '5BPYhountssVohoID7bS40', '3uRyuXf29unDXTFNNXHrYl', '07X4FAhX2R6xnAwd6ToUUx', '3a8gsld8gQzvfyLfPO1LP1', '6VkmdRz8YgHFQV3ZNTJAWU', '7kVssG465tU7XWgfrseOVS', '7eoKwUoGIQSQLusZiQIvmm', '1m84zLz4WizjR4mCDoXReg', '76mnMmcrLA3Rv5JtrjvfS7', '4VHM8pHDSBnzIppLyeMyJ8', '27829SWtwhWUANViVTEpol', '2vcDl2SLudnltyDEos3v6E', '29OB96bcpEnlfbdVREAr83', '2xQeykrgmC01UqRpkrT0Zg', '47rNYq9IUveetu35c65xTw', '4zYkSXrfgJyrNkNv3mTiIZ', '4bwPVMQoabglAtg0HqiUuO', '03WMhty0KQ2ppU30LiyKy4', '6ths4lLgtobquTsQ6hM6oa', '6UWcp6ASpVIvUWX5eZMtp2', '2giJeD2J4YowE79mo8Fnqm', '2PfPIIxUiH9Y7miXqiQdqv', '7CaFGdmcY0tZev9f6zKzDR', '1QBhGI8QTvMYpp6i8FYiE0', '4mVY5qhPe2PWDvf7E2Sn0d', '1tmEnZhAhwUjzwJ7L0QFAh', '7Id3qONAw6sXE92FlfZEWI', '3KkdZgcQxYQQZQXumGO1Cy', '3UBZKE16VUDdeZj1VOPL0b', '0s1QWICdAhug2jCIZJ4QQZ', '3EpySzSXQYevKTq1glwGos', '44bUdMl0JyKxyDS4qku5SB', '6R3xtNGXOTqp8Qzuf22jaW', '6FaOW5zkj9QtfDSTeHkUCI', '3w5V2euF3wWJnZkkt0QBxq', '5toHaNWeaCf5cw9Jfn6yK4', '1yYLMVMSM2u7t1yfzAivy1', '0T9wtwG6ZJNgeqBBiGrwGK', '04EchQ81oKTRmabY8QMLsq', '6roMwL3sNdHRO2MRVmkBRn', '5kA30CMKo6wUWiINlG4YXt', '5smfgFsXaD4F510jOD0wLa', '5OSMwHdDsn4a7VBEOFACWg', '1hp6svNriVSFySA6rhsI5a', '45UT1NY9lpbJfdYp5Kdd1U', '0hLa19JP4bItkpyTjopqOb', '7tPjMXhFI1eSWUQlnlXEqy', '6YTphVWLG14d3eUiQ5grmU', '16RpNkwx8gaDyXD6duTt1l', '1LmmaY7vbIRD5qUnB507lz', '6w4Mc2Twjlm1gu6G4Qrqhd', '4km8XxyYCw5CSHM5H36K47', '5Qhf6Er2tQ71pluUxFwDqI', '7mYRC0kv4oI7ipqoPT8aXM', '053W70CWRzK053YEA8XBVW', '5mIf7UP0FEsGaGWBVjrNKP', '0O1wsXEiOMPwFSCdmpP6C0', '0Yr1TfeacyGFyDe0aWDla9', '0Jv6znEgiRN0QpJXQ9aaWA', '7GsKP7AgvqfNNJw74MhSLF', '7Fyfpwv9UUzfVUsfcoQzQt', '1BOv46ISdg4Xuv5Ou7M1cG', '7LyA1NPfCyT6mzx6MYTzFG', '3MkCJcOcLK0PaYy4QgKpWk', '2bBrRe20ZB7pJMQaNJ4nwk', '12sbRlZqz4ubIjKfft0tAk', '1ot6jEe4w4hYnsOPjd3xKQ', '4qv7YSyt5UV8LvrXyE8sGn', '1TfqLAPs4K3s2rJMoCokcS', '1jDJFeK9x3OZboIAHsY9k2', '4y1LsJpmMti1PfRQV9AWWe', '3YMTNzrRktpHDsi6OrmZNO', '2vz1CsL5WBsbpBcwgboTAw', '1OOtq8tRnDM8kG2gqUPjAj', '7o7E1nrHWncYY7PY94gCiX', '4aKIs5t9TqP59btlCGPrgw', '2IvetNzSZMH5gwjInoyr18', '7LmDmvqagpX0PKxveGtZTa', '1xPSDf8z4dH46gkvlLtvDO', '3cbV252akVZInSvJk7jAYX', '5pSvjjfsh34sLrkYSNGCl4', '5XsMz0YfEaHZE0MTb1aujs', '0cGG2EouYCEEC3xfa0tDFV', '3FlOciKDqFlTMPeC7t92Qy', '2KH16WveTQWT6KOG9Rg6e2', '4d6eqRtpDX7tydHJGDZUBQ', '4k6ktr10Hczmh55NY3LfJy', '273uCXd7NPrInaiNqtkOrA', '6A4Jc8npNo79BOgsrPptLA', '7fRvtXvJMpGfTLdF0M09a1', '2FpyKkCFIfqmp6eQx4Rn1V', '57Y3UccJEJqT8w8RWkUAz0', '0F0MA0ns8oXwGw66B2BSXm', '7INi4pMPG4IE0Smx5y4KVf', '1RSy7B2vfPi84N80QJ6frX', '6HA97v4wEGQ5TUClRM0XLc', '5zA8vzDGqPl2AzZkEYQGKh', '5tdKaKLnC4SgtDZ6RlWeal', '0uI4aw6ms90qFNawk9H9CO', '2eRmD96ncTEgQwJmXa6rrg', '5yf83IdQmCRRAHwhNtSnvD', '2olVm1lHicpveMAo4AUDRB', '3koCCeSaVUyrRo3N2gHrd8', '4WoT9wgK9o1cxBfKRWlRzx', '3m0y8qLoznUYi73SUBP8GI', '1uI848raFaNWwe9HjHpjQ5', '21qnJAMtzC6S5SESuqQLEK', '5vdp5UmvTsnMEMESIF2Ym7', '0Z7O8GMQShj9TJrm2yX1R6', '0RgLPN21aV1Ps39Tyb7268', '4uLU6hMCjMI75M1A2tKUQC', '4lRdpZYTwaPpuKpquO6bo3', '3hVrI7snZMTmHCnbwME47u', '5RLDIY4PICQWxdlLfDHNfi', '369JKykZZr1qzv9pg5zAhz', '6sT9MWlJManry3EQwf4V80', '2s1lS0DxcxTB8Y6oFgVKqW', '27NovPIUIRrOZoCHxABJwK', '27Z3UdqvdAhtJlWBMoDjBD', '4IbDTrLxImTJfZePAX2nKB', '3IR9wKWxI0TK1DLXvZq8uQ', '37Nqx7iavZpotJSDXZWbJ3', '6CyIkPh5mRkJg7T5xXynQ8', '2kUKeN9ZpYHqfBjB8Gphb2', '6D5R8LKkeTmQveLoUKrK0D', '6Uj1ctrBOjOas8xZXGqKk4', '14M6BbiHt2w9KHVvoIUIUF', '2gmTz7pHMqAk6fpOc88qxA', '7r9KkTYiFYMuNcGR4aySxh', '21AJQhGZpujjZQXByZAXpr', '0JyX9jNf4mUdp1eNUVAqyR', '5sLfmuQHJtPjSORQF2sbrJ', '62nJqZs3Qs7DGUto35dVUv', '7hU3IHwjX150XLoTVmjD0q', '1VOn2rRxe7JBweoK4SINHe', '4QAv7uyOwIgqOVgzczomOo', '6YC6zgdJog4gw0y2IyfRmR', '40uMIn2zJLAQhNXghRjBed', '13tc5dzElXbImNjDzz4E2B', '3bGGvbwbhq9kIMhHaXBdYL', '1SelxYHPb04GjUy0oYV1Jw', '25r6MZ4Gtd76l43qnZI1DG', '6Vcxzw4ifKqYxVrp3ckpVF', '2vd2HEhrkafOi2uveHjzzh', '0e8nrvls4Qqv5Rfa2UhqmO', '5csxKPX4HuN8UDEdHUxcqz', '7qezIDRM0E3WTW1lWxItug', '4PYfFHKfjYz6dwAtZhBy1z', '3EwsJXInOSrHZqSRW2UceI', '4CWcaGtaOyAqBDKIeZMUe0', '7moGDROshDKDpuQxtQ3q4m', '4XvcHTUfIlWfyJTRG0aqlo', '731JjfIII1qYfeatc3zhtU', '2Dv1CPIgX29t816ZLscdB2', '1mBdiyA2OUySEprEEOKJ6g', '06ZtJB09ab4la47q7ZcPbB']\n",
      "Flashback\n"
     ]
    },
    {
     "name": "stderr",
     "output_type": "stream",
     "text": [
      "\r",
      " 64%|████████████████████████████████████████████████████▊                              | 7/11 [01:56<01:07, 16.96s/it]"
     ]
    },
    {
     "name": "stdout",
     "output_type": "stream",
     "text": [
      "['00Blm7zeNqgYLPtW6zg8cj', '2O9enJqAqs46tfBlGhLsnW', '2JvWoj5bTklsb6fPzRfZ3x', '4R67rQNSbbsR4TdUVOIdez', '4iN16F8JtVxG2UTzp3avGl', '2QEtf4oCeJrfDeqf8rJiQK', '08SB2OtZkaliju77WYEKxk', '4H1CfsnXQonWnJeHzHuVUz', '18asYwWugKjjsihZ0YvRxO', '4SRkixF643LgySLh8owTkJ', '4MDDOpA7BwGDjYclTmCTVw', '19ZBncpk43fACvzKeqZIib', '38XLUjlR84JEwK0SOvX77a', '2u2gafIeAP55EjXhU768Zo', '4fcbxnnfUycb7fJAInJOob', '188rKyWMsC4WsKKZ85lnUO', '1544oKxSzETEcBpOKdf3de', '2lZrHFgxAdZrL0j8JvYhkc', '3RZauEkvORMeP06npyaIYa', '6RT5ir7all6RgZEAupLNlO', '2j1Os2WNkwb6KJvaiHFdUl', '280MV4FuB5uusjx8wj1dpt', '5YkXkfXWTE1pk6l2m78JnH', '0FiwMxsaV8SNBnjmZkHHra', '1mrGEef8GuaEnDdw8J5BQp', '4xD3DFKtDy9JkOOxcsTy3r', '1hkOuEeJQtDxHKBD8gJTBx', '1RBIzko2PMY5CP0d3MIkwl', '3YZdPvENFPytMyrnkRWm1B', '2BzAGK3lEZAQz5cU0Ae1wd', '2N9fGz3nPXci2w80p1lQIW', '2LnsEYFfPwk6ueO2OCBNLA', '1wAPbQ5XjbZqPl0WDl5mHH', '1pY5rVjr4BqQlJMx3S7Mmf', '1KCXEsHxKDq72C70fyM0vq', '77fRc8iT858bzRdcR4k8T8', '0CiJazqgaY4QhTNB66xfzm', '6cBvcf3JEn3NjIvaqkHkn0', '46PGzHQRAFjuVXB6fKRmDZ', '1MCvAAKHSdGhe4ZPq0YMrF', '7fdqKCfTKNv1UNwmCYHUpu', '6sb1CGojNdNMiToRfSNwzY', '5dXIrAUNLOcN2mYkCSeO3k', '38qCAgXW23GmzHG5bWhPzg', '0yPlsLJNceFwpgEiYMe0tv', '05nKsnLJGrsDwQIXAExTQt', '1kjixr3Tv9ku0HmXrDqWNH', '7GTlrFi1WMmZyLEUlRTihW', '6P5yJhVBhB0nV27SXhwTZc', '6v2ezoIqtD8UKjaQhqde6r', '6fSRCnfSfTBCbgoa6Nwhim', '4SEiKLEcOsLEtvU53N6bex', '70f71uZ7egz2Vshwx4D425', '7MwUFO1Av7sEOCUa1ULmwa', '6miahXSZE01l2lNDqNCfxQ', '3Kp4DMEXVilurnN1PBvHui', '2aDuY0WsvDlIs5KczrYFid', '7onHzHeOVE3M9p0tNKQbXc', '7pIoByp3uzkV6saBAHfG2c', '0PzcMfqECraaBGxX7zr7wV', '12e5rUktNoga7mdtziCw33', '46OKHucGhjhskazqD8tKnH', '0B8U71SDP0h9FF6xSZqftH', '6sjLKQtx6CbICWREw5tDPY', '0mPh3y1fgrZiWlhuNmPq5Y', '3fRK9qG08iZyWvqjOWkdKc', '7ytFo4I2OsaiGRhYdFGoQW', '3LBp0NzDmMXfbDbBlWD3vO', '1FOcJ48XhC9gBMyONLB2Cr', '5B6u8ImBwp0lKZXCH0tbx8', '7CtRS8xbsxUnT2ZA7uowqD', '5Cfh8D9E3CFEVj0LGjf9wU', '5oBUlWZcYKuYuuSsDeNQR7', '0Q3DprZOlvkOWlC3pmr5Mx', '1mS7CcE30VDxZAJOtgeIjA', '2O9enJqAqs46tfBlGhLsnW', '2s1lS0DxcxTB8Y6oFgVKqW', '3IR9wKWxI0TK1DLXvZq8uQ', '2kUKeN9ZpYHqfBjB8Gphb2', '27Z3UdqvdAhtJlWBMoDjBD', '14M6BbiHt2w9KHVvoIUIUF', '13tc5dzElXbImNjDzz4E2B', '19dD5F9Mu5DvraJr0f5eho', '7vX1e8Tcj1cl20HoWaDI4h', '2mIfMDTR6pNa3iWne56HGe', '2XLPtKom1ixf7IJgPsPAvp', '6cBvcf3JEn3NjIvaqkHkn0', '0igELlHJcgbgEtgsTmj9t0', '5csxKPX4HuN8UDEdHUxcqz', '3R3li8sx8AjMRI1BdmwXAf', '3bGGvbwbhq9kIMhHaXBdYL', '5YkXkfXWTE1pk6l2m78JnH', '3BFlHQD1nt7vHXmh0SswCO', '5aSLIxdiQAgfTGsqGwgivC', '3PeW31cRh8BlN7fwj6cGe9', '5oBUlWZcYKuYuuSsDeNQR7', '3eGuT5Bs8s9CGQbUxDXFzb', '2FHsE83xbrzzWusudCFpg1', '1isJQKjH3cFutccvz3jrCD', '1TO85DMVoOejzq5YMMWAkl', '5cOkUTJvuYBNV1JZ5yPWex', '72HFkyZ8MFEbplFjRO7aqA', '1H366E2OeWiWQvMj0iESzX', '67XtpHJ5S4KO8w8CllZx7I', '52Z9VzMQ91wrhnn1zefaVi', '0exjGVTPrIA5MYokrYG862', '17tejn8Dt8IDKKRknPznPD', '2D0BQfVCn6qoK77flhU7nR', '2YAgixJPrOiEZSgZMlmqqF', '48ghUr9q4ZCKTGEGzdZJlj', '2uj7OACDZUQIvAfKAwtHES', '4xJfZesfZ3UGR0v647p8Y5', '4Z1u8ZwrxBwdnFH4vibcYO', '5dxsliYJaYcDMfw5emzJer', '5cyYphxofHgRspEKNn3UTl', '62nJqZs3Qs7DGUto35dVUv', '5cZ6NaDFs0a7ZYfGpaJWEt', '5rQG0YxxAgCKpJthO0K3JQ', '58D69P1dusriq8I3t83eji', '4ZpFLXdO1Tqs12uJe4OsN7', '4cvsvY3HYBV7jJbWsHGOAh', '2vd2HEhrkafOi2uveHjzzh', '6DdPeHn2Kc5weToqPO9anJ', '57AzeYIWwAYprDXRwPjgtZ', '7BiRw4sgXQMyNx8nPltnQr', '2TitxRtrE8OLcAwcNucvmJ', '5Zn1K7j3DkB1akPiBLwKR9', '5gyhZCykUqfbjqyPzR4CVe', '6nhc3daOpKaZBRj2ZFWfc7', '1CQH9bjtrHOnbXTGL4JzT7', '0dRYCtYfllnlfDiEufuwOU', '4Am0QoksGA70r4ZdsgV2Y9', '2mKGjVCoxL8Um9GkNhhyto', '7LsJd6JUzWy3SUvy33g6yQ', '0IkK4SEryuCtbQjm5LRLMZ', '1QMSIsTV6lcLCQ9MBHTLhT', '6TTHXR7QYOUNS2gyy2OVvg', '0wRFR5cUtBNArgtw4F1rw1', '0HdA4vcTOb3XzW3L43X6sK', '10WVEHOf1FZf5XgK6dUWvN', '4fKiuIavbsoTRZ6R7xuAyT', '4SBahN5KfX1RLG9XLNIlJA', '618v3huzqDQQBfMogznSb3', '2cptaUFdsU60tdh7zRglai', '6MYNfMiLwCmA3bRdfzvfcs', '5ULRlgiSPSKTaJN1vU9yso', '2syQErCMMM1rXeZqtuaqxg', '06N4bQF7MXzLbbifGMIJZW', '29f11nLUcMYQ2Ndbnb7N0o', '3WmJIqP0Fk5OyDKFuX09li', '2AGen6RvvTNEhdNoyJEMvu', '2wcseriGAqeodDazDXgmaq', '4C4wO1Lob3kTxvqXtPJice', '6AJGPFFuC8qTWD5SP50RNh', '45SbQo5bq8f0hNdB70IyFC', '5IYKZF1nw5V0GtxQN7mspQ', '6XnmPBOZfmvRHW1BSbwugJ', '7MwnbWnZCBg1iK7uAreNhm', '5BPYhountssVohoID7bS40', '3uRyuXf29unDXTFNNXHrYl', '07X4FAhX2R6xnAwd6ToUUx', '3a8gsld8gQzvfyLfPO1LP1', '6VkmdRz8YgHFQV3ZNTJAWU', '7kVssG465tU7XWgfrseOVS', '7eoKwUoGIQSQLusZiQIvmm', '1m84zLz4WizjR4mCDoXReg', '76mnMmcrLA3Rv5JtrjvfS7', '4VHM8pHDSBnzIppLyeMyJ8', '27829SWtwhWUANViVTEpol', '2vcDl2SLudnltyDEos3v6E', '29OB96bcpEnlfbdVREAr83', '2xQeykrgmC01UqRpkrT0Zg', '47rNYq9IUveetu35c65xTw', '4zYkSXrfgJyrNkNv3mTiIZ', '4bwPVMQoabglAtg0HqiUuO', '03WMhty0KQ2ppU30LiyKy4', '6ths4lLgtobquTsQ6hM6oa', '6UWcp6ASpVIvUWX5eZMtp2', '2giJeD2J4YowE79mo8Fnqm', '2PfPIIxUiH9Y7miXqiQdqv', '7CaFGdmcY0tZev9f6zKzDR', '1QBhGI8QTvMYpp6i8FYiE0', '4mVY5qhPe2PWDvf7E2Sn0d', '1tmEnZhAhwUjzwJ7L0QFAh', '7Id3qONAw6sXE92FlfZEWI', '3KkdZgcQxYQQZQXumGO1Cy', '3UBZKE16VUDdeZj1VOPL0b', '0s1QWICdAhug2jCIZJ4QQZ', '3EpySzSXQYevKTq1glwGos', '44bUdMl0JyKxyDS4qku5SB', '6R3xtNGXOTqp8Qzuf22jaW', '6FaOW5zkj9QtfDSTeHkUCI', '3w5V2euF3wWJnZkkt0QBxq', '5toHaNWeaCf5cw9Jfn6yK4', '1yYLMVMSM2u7t1yfzAivy1', '0T9wtwG6ZJNgeqBBiGrwGK', '04EchQ81oKTRmabY8QMLsq', '6roMwL3sNdHRO2MRVmkBRn', '5kA30CMKo6wUWiINlG4YXt', '5smfgFsXaD4F510jOD0wLa', '5OSMwHdDsn4a7VBEOFACWg', '1hp6svNriVSFySA6rhsI5a', '45UT1NY9lpbJfdYp5Kdd1U', '0hLa19JP4bItkpyTjopqOb', '7tPjMXhFI1eSWUQlnlXEqy', '6YTphVWLG14d3eUiQ5grmU', '16RpNkwx8gaDyXD6duTt1l', '1LmmaY7vbIRD5qUnB507lz', '6w4Mc2Twjlm1gu6G4Qrqhd', '4km8XxyYCw5CSHM5H36K47', '5Qhf6Er2tQ71pluUxFwDqI', '7mYRC0kv4oI7ipqoPT8aXM', '053W70CWRzK053YEA8XBVW', '5mIf7UP0FEsGaGWBVjrNKP', '0O1wsXEiOMPwFSCdmpP6C0', '0Yr1TfeacyGFyDe0aWDla9', '0Jv6znEgiRN0QpJXQ9aaWA', '7GsKP7AgvqfNNJw74MhSLF', '7Fyfpwv9UUzfVUsfcoQzQt', '1BOv46ISdg4Xuv5Ou7M1cG', '7LyA1NPfCyT6mzx6MYTzFG', '3MkCJcOcLK0PaYy4QgKpWk', '2bBrRe20ZB7pJMQaNJ4nwk', '12sbRlZqz4ubIjKfft0tAk', '1ot6jEe4w4hYnsOPjd3xKQ', '4qv7YSyt5UV8LvrXyE8sGn', '1TfqLAPs4K3s2rJMoCokcS', '1jDJFeK9x3OZboIAHsY9k2', '4y1LsJpmMti1PfRQV9AWWe', '3YMTNzrRktpHDsi6OrmZNO', '2vz1CsL5WBsbpBcwgboTAw', '1OOtq8tRnDM8kG2gqUPjAj', '7o7E1nrHWncYY7PY94gCiX', '4aKIs5t9TqP59btlCGPrgw', '2IvetNzSZMH5gwjInoyr18', '7LmDmvqagpX0PKxveGtZTa', '1xPSDf8z4dH46gkvlLtvDO', '3cbV252akVZInSvJk7jAYX', '5pSvjjfsh34sLrkYSNGCl4', '5XsMz0YfEaHZE0MTb1aujs', '0cGG2EouYCEEC3xfa0tDFV', '3FlOciKDqFlTMPeC7t92Qy', '2KH16WveTQWT6KOG9Rg6e2', '4d6eqRtpDX7tydHJGDZUBQ', '4k6ktr10Hczmh55NY3LfJy', '273uCXd7NPrInaiNqtkOrA', '6A4Jc8npNo79BOgsrPptLA', '7fRvtXvJMpGfTLdF0M09a1', '2FpyKkCFIfqmp6eQx4Rn1V', '57Y3UccJEJqT8w8RWkUAz0', '0F0MA0ns8oXwGw66B2BSXm', '7INi4pMPG4IE0Smx5y4KVf', '1RSy7B2vfPi84N80QJ6frX', '6HA97v4wEGQ5TUClRM0XLc', '5zA8vzDGqPl2AzZkEYQGKh', '5tdKaKLnC4SgtDZ6RlWeal', '0uI4aw6ms90qFNawk9H9CO', '2eRmD96ncTEgQwJmXa6rrg', '5yf83IdQmCRRAHwhNtSnvD', '2olVm1lHicpveMAo4AUDRB', '3koCCeSaVUyrRo3N2gHrd8', '4WoT9wgK9o1cxBfKRWlRzx', '3m0y8qLoznUYi73SUBP8GI', '1uI848raFaNWwe9HjHpjQ5', '21qnJAMtzC6S5SESuqQLEK', '5vdp5UmvTsnMEMESIF2Ym7', '0Z7O8GMQShj9TJrm2yX1R6', '0RgLPN21aV1Ps39Tyb7268', '4uLU6hMCjMI75M1A2tKUQC', '4lRdpZYTwaPpuKpquO6bo3', '3hVrI7snZMTmHCnbwME47u', '5RLDIY4PICQWxdlLfDHNfi', '369JKykZZr1qzv9pg5zAhz', '6sT9MWlJManry3EQwf4V80', '2s1lS0DxcxTB8Y6oFgVKqW', '27NovPIUIRrOZoCHxABJwK', '27Z3UdqvdAhtJlWBMoDjBD', '4IbDTrLxImTJfZePAX2nKB', '3IR9wKWxI0TK1DLXvZq8uQ', '37Nqx7iavZpotJSDXZWbJ3', '6CyIkPh5mRkJg7T5xXynQ8', '2kUKeN9ZpYHqfBjB8Gphb2', '6D5R8LKkeTmQveLoUKrK0D', '6Uj1ctrBOjOas8xZXGqKk4', '14M6BbiHt2w9KHVvoIUIUF', '2gmTz7pHMqAk6fpOc88qxA', '7r9KkTYiFYMuNcGR4aySxh', '21AJQhGZpujjZQXByZAXpr', '0JyX9jNf4mUdp1eNUVAqyR', '5sLfmuQHJtPjSORQF2sbrJ', '62nJqZs3Qs7DGUto35dVUv', '7hU3IHwjX150XLoTVmjD0q', '1VOn2rRxe7JBweoK4SINHe', '4QAv7uyOwIgqOVgzczomOo', '6YC6zgdJog4gw0y2IyfRmR', '40uMIn2zJLAQhNXghRjBed', '13tc5dzElXbImNjDzz4E2B', '3bGGvbwbhq9kIMhHaXBdYL', '1SelxYHPb04GjUy0oYV1Jw', '25r6MZ4Gtd76l43qnZI1DG', '6Vcxzw4ifKqYxVrp3ckpVF', '2vd2HEhrkafOi2uveHjzzh', '0e8nrvls4Qqv5Rfa2UhqmO', '5csxKPX4HuN8UDEdHUxcqz', '7qezIDRM0E3WTW1lWxItug', '4PYfFHKfjYz6dwAtZhBy1z', '3EwsJXInOSrHZqSRW2UceI', '4CWcaGtaOyAqBDKIeZMUe0', '7moGDROshDKDpuQxtQ3q4m', '4XvcHTUfIlWfyJTRG0aqlo', '731JjfIII1qYfeatc3zhtU', '2Dv1CPIgX29t816ZLscdB2', '1mBdiyA2OUySEprEEOKJ6g', '06ZtJB09ab4la47q7ZcPbB', '3z1YJ16Cgv4Zuw9ETkQQ9Z', '5TUs6T93fNFvgQov6MlYkP', '6kie23fo40j9gBNWGWg5Dc', '610XWgnlPtTUXWlJ0Q3jAV', '4yQw7FR9lcvL6RHtegbJBh', '3wlLBTQWAF6DnMhraXASQ0', '3gsCAGsWr6pUm1Vy7CPPob', '1k1Bqnv2R0uJXQN4u6LKYt', '3pf96IFggfQuT6Gafqx2rt', '4QT3YKobBj4BI7xCYRLr9u', '0SzAKZYTUvDLqlPgllEb3N', '2lhs6cxLdBCzFPbNQr6Qmj', '0Eq4BMgsdV6DkLSJfX8eBt', '3WMbD1OyfKuwWDWMNbPQ4g', '5KgbyD2lQQlIupAaPjgiXg', '3kEA66ZM9mCxwhynOxgsLh', '7EIETgqBk63OdvVyIFDNKx', '50f0mt35cIwwu3Krk7nS7b', '5UcQ2g3M6Hh9gR8RmhjP9N', '2zMJN9JvDlvGP4jB03l1Bz', '1UNP66Mr3sPB3ItYt5bEUe', '6ztstiyZL6FXzh4aG46ZPD', '6tYIQpc9rX2wTBtb9Rh37K', '6GNmMC3RoZ1WiilCcukXLW', '57Y3UccJEJqT8w8RWkUAz0', '7IQMKJNcppgahjNWVPmxkl', '4vYauy3ABO65vTXggGYaZg', '1CpDrx0Q7f2Wv3tBXDMt6z', '2xSXw1EqGSAKc1e4TPaQvV', '0lwHorTzvh8D4pQaWFYqnn', '6StJLSmuKWwIfia0EUROQk', '6TYPryzyiUkxMk7PlI8k9c', '5csdrJ0JtFn0qvwlvSh2EI', '37j56IWzpplKE5zrlQRmxc', '4Af8yzidDPc520TFd4TmkE', '6pMHMzwTsWIxLigr54GGVm', '72PoJMDfdaw9gGECgA9kTZ', '4TxBGpTxrNvRNhF39Dl3NQ', '6Llr9PVC1cirKUwu7Fle83', '3zYQ1KXzqBWRsxIqdVMoYF', '1ot6jEe4w4hYnsOPjd3xKQ', '1NQFeJQOvirHNJ4lp17XUZ', '15ySyt38mBi1v4xMLRfD25', '7tqhbajSfrz2F7E1Z75ASX', '7s25THrKz86DM225dOYwnr', '38DAUnVJ0zqOdRuW7RG3sl', '5GcDAsm0vgFWsrcL4kqK6k', '3qZHUZTQiTMfJXcUYzY5mT', '34b3a3Pz9Jlz0092LMyNAB', '300RfAPZ57B0y6YYj9n6DN', '3ClOMebBxeNTYCOfTH24YJ', '5uES1C2NgkdrNHiCwf9jRr', '714hERk9U1W8FMYkoC83CO', '1JQ6Xm1JrvHfvAqhl5pwaA', '1mCI3atQyw3r8rd0icztLR', '1it9umP1j9qSqzKbSLLqqy', '6RANU8AS5ICU5PEHh8BYtH', '5qo4PkfY1ncj3NGTHDaZQF', '22ff60cZy4APp7bzESHLR8', '4N3stlRuz5cBNI4J4vDJ18']\n",
      "indémodable\n"
     ]
    },
    {
     "name": "stderr",
     "output_type": "stream",
     "text": [
      "\r",
      " 73%|████████████████████████████████████████████████████████████▎                      | 8/11 [02:11<00:49, 16.34s/it]"
     ]
    },
    {
     "name": "stdout",
     "output_type": "stream",
     "text": [
      "['00Blm7zeNqgYLPtW6zg8cj', '2O9enJqAqs46tfBlGhLsnW', '2JvWoj5bTklsb6fPzRfZ3x', '4R67rQNSbbsR4TdUVOIdez', '4iN16F8JtVxG2UTzp3avGl', '2QEtf4oCeJrfDeqf8rJiQK', '08SB2OtZkaliju77WYEKxk', '4H1CfsnXQonWnJeHzHuVUz', '18asYwWugKjjsihZ0YvRxO', '4SRkixF643LgySLh8owTkJ', '4MDDOpA7BwGDjYclTmCTVw', '19ZBncpk43fACvzKeqZIib', '38XLUjlR84JEwK0SOvX77a', '2u2gafIeAP55EjXhU768Zo', '4fcbxnnfUycb7fJAInJOob', '188rKyWMsC4WsKKZ85lnUO', '1544oKxSzETEcBpOKdf3de', '2lZrHFgxAdZrL0j8JvYhkc', '3RZauEkvORMeP06npyaIYa', '6RT5ir7all6RgZEAupLNlO', '2j1Os2WNkwb6KJvaiHFdUl', '280MV4FuB5uusjx8wj1dpt', '5YkXkfXWTE1pk6l2m78JnH', '0FiwMxsaV8SNBnjmZkHHra', '1mrGEef8GuaEnDdw8J5BQp', '4xD3DFKtDy9JkOOxcsTy3r', '1hkOuEeJQtDxHKBD8gJTBx', '1RBIzko2PMY5CP0d3MIkwl', '3YZdPvENFPytMyrnkRWm1B', '2BzAGK3lEZAQz5cU0Ae1wd', '2N9fGz3nPXci2w80p1lQIW', '2LnsEYFfPwk6ueO2OCBNLA', '1wAPbQ5XjbZqPl0WDl5mHH', '1pY5rVjr4BqQlJMx3S7Mmf', '1KCXEsHxKDq72C70fyM0vq', '77fRc8iT858bzRdcR4k8T8', '0CiJazqgaY4QhTNB66xfzm', '6cBvcf3JEn3NjIvaqkHkn0', '46PGzHQRAFjuVXB6fKRmDZ', '1MCvAAKHSdGhe4ZPq0YMrF', '7fdqKCfTKNv1UNwmCYHUpu', '6sb1CGojNdNMiToRfSNwzY', '5dXIrAUNLOcN2mYkCSeO3k', '38qCAgXW23GmzHG5bWhPzg', '0yPlsLJNceFwpgEiYMe0tv', '05nKsnLJGrsDwQIXAExTQt', '1kjixr3Tv9ku0HmXrDqWNH', '7GTlrFi1WMmZyLEUlRTihW', '6P5yJhVBhB0nV27SXhwTZc', '6v2ezoIqtD8UKjaQhqde6r', '6fSRCnfSfTBCbgoa6Nwhim', '4SEiKLEcOsLEtvU53N6bex', '70f71uZ7egz2Vshwx4D425', '7MwUFO1Av7sEOCUa1ULmwa', '6miahXSZE01l2lNDqNCfxQ', '3Kp4DMEXVilurnN1PBvHui', '2aDuY0WsvDlIs5KczrYFid', '7onHzHeOVE3M9p0tNKQbXc', '7pIoByp3uzkV6saBAHfG2c', '0PzcMfqECraaBGxX7zr7wV', '12e5rUktNoga7mdtziCw33', '46OKHucGhjhskazqD8tKnH', '0B8U71SDP0h9FF6xSZqftH', '6sjLKQtx6CbICWREw5tDPY', '0mPh3y1fgrZiWlhuNmPq5Y', '3fRK9qG08iZyWvqjOWkdKc', '7ytFo4I2OsaiGRhYdFGoQW', '3LBp0NzDmMXfbDbBlWD3vO', '1FOcJ48XhC9gBMyONLB2Cr', '5B6u8ImBwp0lKZXCH0tbx8', '7CtRS8xbsxUnT2ZA7uowqD', '5Cfh8D9E3CFEVj0LGjf9wU', '5oBUlWZcYKuYuuSsDeNQR7', '0Q3DprZOlvkOWlC3pmr5Mx', '1mS7CcE30VDxZAJOtgeIjA', '2O9enJqAqs46tfBlGhLsnW', '2s1lS0DxcxTB8Y6oFgVKqW', '3IR9wKWxI0TK1DLXvZq8uQ', '2kUKeN9ZpYHqfBjB8Gphb2', '27Z3UdqvdAhtJlWBMoDjBD', '14M6BbiHt2w9KHVvoIUIUF', '13tc5dzElXbImNjDzz4E2B', '19dD5F9Mu5DvraJr0f5eho', '7vX1e8Tcj1cl20HoWaDI4h', '2mIfMDTR6pNa3iWne56HGe', '2XLPtKom1ixf7IJgPsPAvp', '6cBvcf3JEn3NjIvaqkHkn0', '0igELlHJcgbgEtgsTmj9t0', '5csxKPX4HuN8UDEdHUxcqz', '3R3li8sx8AjMRI1BdmwXAf', '3bGGvbwbhq9kIMhHaXBdYL', '5YkXkfXWTE1pk6l2m78JnH', '3BFlHQD1nt7vHXmh0SswCO', '5aSLIxdiQAgfTGsqGwgivC', '3PeW31cRh8BlN7fwj6cGe9', '5oBUlWZcYKuYuuSsDeNQR7', '3eGuT5Bs8s9CGQbUxDXFzb', '2FHsE83xbrzzWusudCFpg1', '1isJQKjH3cFutccvz3jrCD', '1TO85DMVoOejzq5YMMWAkl', '5cOkUTJvuYBNV1JZ5yPWex', '72HFkyZ8MFEbplFjRO7aqA', '1H366E2OeWiWQvMj0iESzX', '67XtpHJ5S4KO8w8CllZx7I', '52Z9VzMQ91wrhnn1zefaVi', '0exjGVTPrIA5MYokrYG862', '17tejn8Dt8IDKKRknPznPD', '2D0BQfVCn6qoK77flhU7nR', '2YAgixJPrOiEZSgZMlmqqF', '48ghUr9q4ZCKTGEGzdZJlj', '2uj7OACDZUQIvAfKAwtHES', '4xJfZesfZ3UGR0v647p8Y5', '4Z1u8ZwrxBwdnFH4vibcYO', '5dxsliYJaYcDMfw5emzJer', '5cyYphxofHgRspEKNn3UTl', '62nJqZs3Qs7DGUto35dVUv', '5cZ6NaDFs0a7ZYfGpaJWEt', '5rQG0YxxAgCKpJthO0K3JQ', '58D69P1dusriq8I3t83eji', '4ZpFLXdO1Tqs12uJe4OsN7', '4cvsvY3HYBV7jJbWsHGOAh', '2vd2HEhrkafOi2uveHjzzh', '6DdPeHn2Kc5weToqPO9anJ', '57AzeYIWwAYprDXRwPjgtZ', '7BiRw4sgXQMyNx8nPltnQr', '2TitxRtrE8OLcAwcNucvmJ', '5Zn1K7j3DkB1akPiBLwKR9', '5gyhZCykUqfbjqyPzR4CVe', '6nhc3daOpKaZBRj2ZFWfc7', '1CQH9bjtrHOnbXTGL4JzT7', '0dRYCtYfllnlfDiEufuwOU', '4Am0QoksGA70r4ZdsgV2Y9', '2mKGjVCoxL8Um9GkNhhyto', '7LsJd6JUzWy3SUvy33g6yQ', '0IkK4SEryuCtbQjm5LRLMZ', '1QMSIsTV6lcLCQ9MBHTLhT', '6TTHXR7QYOUNS2gyy2OVvg', '0wRFR5cUtBNArgtw4F1rw1', '0HdA4vcTOb3XzW3L43X6sK', '10WVEHOf1FZf5XgK6dUWvN', '4fKiuIavbsoTRZ6R7xuAyT', '4SBahN5KfX1RLG9XLNIlJA', '618v3huzqDQQBfMogznSb3', '2cptaUFdsU60tdh7zRglai', '6MYNfMiLwCmA3bRdfzvfcs', '5ULRlgiSPSKTaJN1vU9yso', '2syQErCMMM1rXeZqtuaqxg', '06N4bQF7MXzLbbifGMIJZW', '29f11nLUcMYQ2Ndbnb7N0o', '3WmJIqP0Fk5OyDKFuX09li', '2AGen6RvvTNEhdNoyJEMvu', '2wcseriGAqeodDazDXgmaq', '4C4wO1Lob3kTxvqXtPJice', '6AJGPFFuC8qTWD5SP50RNh', '45SbQo5bq8f0hNdB70IyFC', '5IYKZF1nw5V0GtxQN7mspQ', '6XnmPBOZfmvRHW1BSbwugJ', '7MwnbWnZCBg1iK7uAreNhm', '5BPYhountssVohoID7bS40', '3uRyuXf29unDXTFNNXHrYl', '07X4FAhX2R6xnAwd6ToUUx', '3a8gsld8gQzvfyLfPO1LP1', '6VkmdRz8YgHFQV3ZNTJAWU', '7kVssG465tU7XWgfrseOVS', '7eoKwUoGIQSQLusZiQIvmm', '1m84zLz4WizjR4mCDoXReg', '76mnMmcrLA3Rv5JtrjvfS7', '4VHM8pHDSBnzIppLyeMyJ8', '27829SWtwhWUANViVTEpol', '2vcDl2SLudnltyDEos3v6E', '29OB96bcpEnlfbdVREAr83', '2xQeykrgmC01UqRpkrT0Zg', '47rNYq9IUveetu35c65xTw', '4zYkSXrfgJyrNkNv3mTiIZ', '4bwPVMQoabglAtg0HqiUuO', '03WMhty0KQ2ppU30LiyKy4', '6ths4lLgtobquTsQ6hM6oa', '6UWcp6ASpVIvUWX5eZMtp2', '2giJeD2J4YowE79mo8Fnqm', '2PfPIIxUiH9Y7miXqiQdqv', '7CaFGdmcY0tZev9f6zKzDR', '1QBhGI8QTvMYpp6i8FYiE0', '4mVY5qhPe2PWDvf7E2Sn0d', '1tmEnZhAhwUjzwJ7L0QFAh', '7Id3qONAw6sXE92FlfZEWI', '3KkdZgcQxYQQZQXumGO1Cy', '3UBZKE16VUDdeZj1VOPL0b', '0s1QWICdAhug2jCIZJ4QQZ', '3EpySzSXQYevKTq1glwGos', '44bUdMl0JyKxyDS4qku5SB', '6R3xtNGXOTqp8Qzuf22jaW', '6FaOW5zkj9QtfDSTeHkUCI', '3w5V2euF3wWJnZkkt0QBxq', '5toHaNWeaCf5cw9Jfn6yK4', '1yYLMVMSM2u7t1yfzAivy1', '0T9wtwG6ZJNgeqBBiGrwGK', '04EchQ81oKTRmabY8QMLsq', '6roMwL3sNdHRO2MRVmkBRn', '5kA30CMKo6wUWiINlG4YXt', '5smfgFsXaD4F510jOD0wLa', '5OSMwHdDsn4a7VBEOFACWg', '1hp6svNriVSFySA6rhsI5a', '45UT1NY9lpbJfdYp5Kdd1U', '0hLa19JP4bItkpyTjopqOb', '7tPjMXhFI1eSWUQlnlXEqy', '6YTphVWLG14d3eUiQ5grmU', '16RpNkwx8gaDyXD6duTt1l', '1LmmaY7vbIRD5qUnB507lz', '6w4Mc2Twjlm1gu6G4Qrqhd', '4km8XxyYCw5CSHM5H36K47', '5Qhf6Er2tQ71pluUxFwDqI', '7mYRC0kv4oI7ipqoPT8aXM', '053W70CWRzK053YEA8XBVW', '5mIf7UP0FEsGaGWBVjrNKP', '0O1wsXEiOMPwFSCdmpP6C0', '0Yr1TfeacyGFyDe0aWDla9', '0Jv6znEgiRN0QpJXQ9aaWA', '7GsKP7AgvqfNNJw74MhSLF', '7Fyfpwv9UUzfVUsfcoQzQt', '1BOv46ISdg4Xuv5Ou7M1cG', '7LyA1NPfCyT6mzx6MYTzFG', '3MkCJcOcLK0PaYy4QgKpWk', '2bBrRe20ZB7pJMQaNJ4nwk', '12sbRlZqz4ubIjKfft0tAk', '1ot6jEe4w4hYnsOPjd3xKQ', '4qv7YSyt5UV8LvrXyE8sGn', '1TfqLAPs4K3s2rJMoCokcS', '1jDJFeK9x3OZboIAHsY9k2', '4y1LsJpmMti1PfRQV9AWWe', '3YMTNzrRktpHDsi6OrmZNO', '2vz1CsL5WBsbpBcwgboTAw', '1OOtq8tRnDM8kG2gqUPjAj', '7o7E1nrHWncYY7PY94gCiX', '4aKIs5t9TqP59btlCGPrgw', '2IvetNzSZMH5gwjInoyr18', '7LmDmvqagpX0PKxveGtZTa', '1xPSDf8z4dH46gkvlLtvDO', '3cbV252akVZInSvJk7jAYX', '5pSvjjfsh34sLrkYSNGCl4', '5XsMz0YfEaHZE0MTb1aujs', '0cGG2EouYCEEC3xfa0tDFV', '3FlOciKDqFlTMPeC7t92Qy', '2KH16WveTQWT6KOG9Rg6e2', '4d6eqRtpDX7tydHJGDZUBQ', '4k6ktr10Hczmh55NY3LfJy', '273uCXd7NPrInaiNqtkOrA', '6A4Jc8npNo79BOgsrPptLA', '7fRvtXvJMpGfTLdF0M09a1', '2FpyKkCFIfqmp6eQx4Rn1V', '57Y3UccJEJqT8w8RWkUAz0', '0F0MA0ns8oXwGw66B2BSXm', '7INi4pMPG4IE0Smx5y4KVf', '1RSy7B2vfPi84N80QJ6frX', '6HA97v4wEGQ5TUClRM0XLc', '5zA8vzDGqPl2AzZkEYQGKh', '5tdKaKLnC4SgtDZ6RlWeal', '0uI4aw6ms90qFNawk9H9CO', '2eRmD96ncTEgQwJmXa6rrg', '5yf83IdQmCRRAHwhNtSnvD', '2olVm1lHicpveMAo4AUDRB', '3koCCeSaVUyrRo3N2gHrd8', '4WoT9wgK9o1cxBfKRWlRzx', '3m0y8qLoznUYi73SUBP8GI', '1uI848raFaNWwe9HjHpjQ5', '21qnJAMtzC6S5SESuqQLEK', '5vdp5UmvTsnMEMESIF2Ym7', '0Z7O8GMQShj9TJrm2yX1R6', '0RgLPN21aV1Ps39Tyb7268', '4uLU6hMCjMI75M1A2tKUQC', '4lRdpZYTwaPpuKpquO6bo3', '3hVrI7snZMTmHCnbwME47u', '5RLDIY4PICQWxdlLfDHNfi', '369JKykZZr1qzv9pg5zAhz', '6sT9MWlJManry3EQwf4V80', '2s1lS0DxcxTB8Y6oFgVKqW', '27NovPIUIRrOZoCHxABJwK', '27Z3UdqvdAhtJlWBMoDjBD', '4IbDTrLxImTJfZePAX2nKB', '3IR9wKWxI0TK1DLXvZq8uQ', '37Nqx7iavZpotJSDXZWbJ3', '6CyIkPh5mRkJg7T5xXynQ8', '2kUKeN9ZpYHqfBjB8Gphb2', '6D5R8LKkeTmQveLoUKrK0D', '6Uj1ctrBOjOas8xZXGqKk4', '14M6BbiHt2w9KHVvoIUIUF', '2gmTz7pHMqAk6fpOc88qxA', '7r9KkTYiFYMuNcGR4aySxh', '21AJQhGZpujjZQXByZAXpr', '0JyX9jNf4mUdp1eNUVAqyR', '5sLfmuQHJtPjSORQF2sbrJ', '62nJqZs3Qs7DGUto35dVUv', '7hU3IHwjX150XLoTVmjD0q', '1VOn2rRxe7JBweoK4SINHe', '4QAv7uyOwIgqOVgzczomOo', '6YC6zgdJog4gw0y2IyfRmR', '40uMIn2zJLAQhNXghRjBed', '13tc5dzElXbImNjDzz4E2B', '3bGGvbwbhq9kIMhHaXBdYL', '1SelxYHPb04GjUy0oYV1Jw', '25r6MZ4Gtd76l43qnZI1DG', '6Vcxzw4ifKqYxVrp3ckpVF', '2vd2HEhrkafOi2uveHjzzh', '0e8nrvls4Qqv5Rfa2UhqmO', '5csxKPX4HuN8UDEdHUxcqz', '7qezIDRM0E3WTW1lWxItug', '4PYfFHKfjYz6dwAtZhBy1z', '3EwsJXInOSrHZqSRW2UceI', '4CWcaGtaOyAqBDKIeZMUe0', '7moGDROshDKDpuQxtQ3q4m', '4XvcHTUfIlWfyJTRG0aqlo', '731JjfIII1qYfeatc3zhtU', '2Dv1CPIgX29t816ZLscdB2', '1mBdiyA2OUySEprEEOKJ6g', '06ZtJB09ab4la47q7ZcPbB', '3z1YJ16Cgv4Zuw9ETkQQ9Z', '5TUs6T93fNFvgQov6MlYkP', '6kie23fo40j9gBNWGWg5Dc', '610XWgnlPtTUXWlJ0Q3jAV', '4yQw7FR9lcvL6RHtegbJBh', '3wlLBTQWAF6DnMhraXASQ0', '3gsCAGsWr6pUm1Vy7CPPob', '1k1Bqnv2R0uJXQN4u6LKYt', '3pf96IFggfQuT6Gafqx2rt', '4QT3YKobBj4BI7xCYRLr9u', '0SzAKZYTUvDLqlPgllEb3N', '2lhs6cxLdBCzFPbNQr6Qmj', '0Eq4BMgsdV6DkLSJfX8eBt', '3WMbD1OyfKuwWDWMNbPQ4g', '5KgbyD2lQQlIupAaPjgiXg', '3kEA66ZM9mCxwhynOxgsLh', '7EIETgqBk63OdvVyIFDNKx', '50f0mt35cIwwu3Krk7nS7b', '5UcQ2g3M6Hh9gR8RmhjP9N', '2zMJN9JvDlvGP4jB03l1Bz', '1UNP66Mr3sPB3ItYt5bEUe', '6ztstiyZL6FXzh4aG46ZPD', '6tYIQpc9rX2wTBtb9Rh37K', '6GNmMC3RoZ1WiilCcukXLW', '57Y3UccJEJqT8w8RWkUAz0', '7IQMKJNcppgahjNWVPmxkl', '4vYauy3ABO65vTXggGYaZg', '1CpDrx0Q7f2Wv3tBXDMt6z', '2xSXw1EqGSAKc1e4TPaQvV', '0lwHorTzvh8D4pQaWFYqnn', '6StJLSmuKWwIfia0EUROQk', '6TYPryzyiUkxMk7PlI8k9c', '5csdrJ0JtFn0qvwlvSh2EI', '37j56IWzpplKE5zrlQRmxc', '4Af8yzidDPc520TFd4TmkE', '6pMHMzwTsWIxLigr54GGVm', '72PoJMDfdaw9gGECgA9kTZ', '4TxBGpTxrNvRNhF39Dl3NQ', '6Llr9PVC1cirKUwu7Fle83', '3zYQ1KXzqBWRsxIqdVMoYF', '1ot6jEe4w4hYnsOPjd3xKQ', '1NQFeJQOvirHNJ4lp17XUZ', '15ySyt38mBi1v4xMLRfD25', '7tqhbajSfrz2F7E1Z75ASX', '7s25THrKz86DM225dOYwnr', '38DAUnVJ0zqOdRuW7RG3sl', '5GcDAsm0vgFWsrcL4kqK6k', '3qZHUZTQiTMfJXcUYzY5mT', '34b3a3Pz9Jlz0092LMyNAB', '300RfAPZ57B0y6YYj9n6DN', '3ClOMebBxeNTYCOfTH24YJ', '5uES1C2NgkdrNHiCwf9jRr', '714hERk9U1W8FMYkoC83CO', '1JQ6Xm1JrvHfvAqhl5pwaA', '1mCI3atQyw3r8rd0icztLR', '1it9umP1j9qSqzKbSLLqqy', '6RANU8AS5ICU5PEHh8BYtH', '5qo4PkfY1ncj3NGTHDaZQF', '22ff60cZy4APp7bzESHLR8', '4N3stlRuz5cBNI4J4vDJ18', '6K4t31amVTZDgR3sKmwUJJ', '3kLVvnXLbuQuu1sanJNDjf', '7gARZ2i5u5DHC1b1n1fML5', '0bXpmJyHHYPk6QBFj25bYF', '0yc6Gst2xkRu0eMLeRMGCX', '7w87IxuO7BDcJ3YUqCyMTT', '1Bz9S9TweSbkFeXM5NdtOC', '4JHg4nNYUJQ5HULcCmI18R', '1wgqttlPacpvmX5DKVboOa', '6vECYJHxYmm3Ydt3fF01pE', '6GyFP1nfCDB8lbD2bG0Hq9', '0d28khcov6AiegSCpG5TuT', '3Ty7OTBNSigGEpeW2PqcsC', '7d23MhPFE9eB3U8DPRirnL', '0iTpQYzJnYgh7kIxyq8A2O', '15Hb4YapPuC0iNGvez2PXE', '4iG2gAwKXsOcijVaVXzRPW', '7kcy8ctwafCfiUFuBcvxpp', '6bS7DqTuzrpkluB7boWmw2', '7w5cxTEzp1rfV3KCy0Bd5N', '4dyx5SzxPPaD8xQIid5Wjj', '3RRf5KNBCzK3uxWKRAC67q', '1mvyqSb1tOvtVP1qfWEyPa', '6QgjcU0zLnzq5OrUoSZ3OK', '295WZ1UJn67ZaiQMWrSkys', '70WyPf8WtXvG3CgeTZZWz6', '1NyFRrFiJAJIaR6icj1goI', '3dYD57lRAUcMHufyqn9GcI', '0V2SavjRuimH4TIbrKyyN0', '5RoIXwyTCdyUjpMMkk4uPd', '2KOvNaMJcuaYTciDe2TmCP', '2UWdUez9MB9yzL7Y81Mcip', '24jvD83UgLmrdGjhWTFslY', '2nvZv4qatgsDIbEqqbQLUT', '244AvzGQ4Ksa5637JQu5Gy', '6xVdHfNIcWB0Bzd1obzcwj', '12pdXFcruNcPUbZypKUDgz', '6ZEaDwf50SdJzHcVSQx0vL', '3g86N0SqyfxEVNMHlmW3RE', '4c9WmjVlQMr0s1IjbYO52Z', '2xbrMtkxp399aSiCJ8EAON', '4m8ttWM8IKXyhpv89E867J', '5rAff9XfcWx7rguN3t0fkW', '6L4fEE9awoUnSEy1bmQebb', '1jy7SkRcmBCTcv4ZMtwz29', '3VPp3qrfCioIbPmp7c7Con', '3ji1o94rKqulYA4I2eDKat', '4j4pPKE3xAblPIbhxScC1j', '7vRdcsmD92oErIQDnmp60e', '2fXKyAyPrEa24c6PJyqznF']\n",
      "Garde la pêche !\n"
     ]
    },
    {
     "name": "stderr",
     "output_type": "stream",
     "text": [
      "\r",
      " 82%|███████████████████████████████████████████████████████████████████▉               | 9/11 [02:27<00:32, 16.28s/it]"
     ]
    },
    {
     "name": "stdout",
     "output_type": "stream",
     "text": [
      "['00Blm7zeNqgYLPtW6zg8cj', '2O9enJqAqs46tfBlGhLsnW', '2JvWoj5bTklsb6fPzRfZ3x', '4R67rQNSbbsR4TdUVOIdez', '4iN16F8JtVxG2UTzp3avGl', '2QEtf4oCeJrfDeqf8rJiQK', '08SB2OtZkaliju77WYEKxk', '4H1CfsnXQonWnJeHzHuVUz', '18asYwWugKjjsihZ0YvRxO', '4SRkixF643LgySLh8owTkJ', '4MDDOpA7BwGDjYclTmCTVw', '19ZBncpk43fACvzKeqZIib', '38XLUjlR84JEwK0SOvX77a', '2u2gafIeAP55EjXhU768Zo', '4fcbxnnfUycb7fJAInJOob', '188rKyWMsC4WsKKZ85lnUO', '1544oKxSzETEcBpOKdf3de', '2lZrHFgxAdZrL0j8JvYhkc', '3RZauEkvORMeP06npyaIYa', '6RT5ir7all6RgZEAupLNlO', '2j1Os2WNkwb6KJvaiHFdUl', '280MV4FuB5uusjx8wj1dpt', '5YkXkfXWTE1pk6l2m78JnH', '0FiwMxsaV8SNBnjmZkHHra', '1mrGEef8GuaEnDdw8J5BQp', '4xD3DFKtDy9JkOOxcsTy3r', '1hkOuEeJQtDxHKBD8gJTBx', '1RBIzko2PMY5CP0d3MIkwl', '3YZdPvENFPytMyrnkRWm1B', '2BzAGK3lEZAQz5cU0Ae1wd', '2N9fGz3nPXci2w80p1lQIW', '2LnsEYFfPwk6ueO2OCBNLA', '1wAPbQ5XjbZqPl0WDl5mHH', '1pY5rVjr4BqQlJMx3S7Mmf', '1KCXEsHxKDq72C70fyM0vq', '77fRc8iT858bzRdcR4k8T8', '0CiJazqgaY4QhTNB66xfzm', '6cBvcf3JEn3NjIvaqkHkn0', '46PGzHQRAFjuVXB6fKRmDZ', '1MCvAAKHSdGhe4ZPq0YMrF', '7fdqKCfTKNv1UNwmCYHUpu', '6sb1CGojNdNMiToRfSNwzY', '5dXIrAUNLOcN2mYkCSeO3k', '38qCAgXW23GmzHG5bWhPzg', '0yPlsLJNceFwpgEiYMe0tv', '05nKsnLJGrsDwQIXAExTQt', '1kjixr3Tv9ku0HmXrDqWNH', '7GTlrFi1WMmZyLEUlRTihW', '6P5yJhVBhB0nV27SXhwTZc', '6v2ezoIqtD8UKjaQhqde6r', '6fSRCnfSfTBCbgoa6Nwhim', '4SEiKLEcOsLEtvU53N6bex', '70f71uZ7egz2Vshwx4D425', '7MwUFO1Av7sEOCUa1ULmwa', '6miahXSZE01l2lNDqNCfxQ', '3Kp4DMEXVilurnN1PBvHui', '2aDuY0WsvDlIs5KczrYFid', '7onHzHeOVE3M9p0tNKQbXc', '7pIoByp3uzkV6saBAHfG2c', '0PzcMfqECraaBGxX7zr7wV', '12e5rUktNoga7mdtziCw33', '46OKHucGhjhskazqD8tKnH', '0B8U71SDP0h9FF6xSZqftH', '6sjLKQtx6CbICWREw5tDPY', '0mPh3y1fgrZiWlhuNmPq5Y', '3fRK9qG08iZyWvqjOWkdKc', '7ytFo4I2OsaiGRhYdFGoQW', '3LBp0NzDmMXfbDbBlWD3vO', '1FOcJ48XhC9gBMyONLB2Cr', '5B6u8ImBwp0lKZXCH0tbx8', '7CtRS8xbsxUnT2ZA7uowqD', '5Cfh8D9E3CFEVj0LGjf9wU', '5oBUlWZcYKuYuuSsDeNQR7', '0Q3DprZOlvkOWlC3pmr5Mx', '1mS7CcE30VDxZAJOtgeIjA', '2O9enJqAqs46tfBlGhLsnW', '2s1lS0DxcxTB8Y6oFgVKqW', '3IR9wKWxI0TK1DLXvZq8uQ', '2kUKeN9ZpYHqfBjB8Gphb2', '27Z3UdqvdAhtJlWBMoDjBD', '14M6BbiHt2w9KHVvoIUIUF', '13tc5dzElXbImNjDzz4E2B', '19dD5F9Mu5DvraJr0f5eho', '7vX1e8Tcj1cl20HoWaDI4h', '2mIfMDTR6pNa3iWne56HGe', '2XLPtKom1ixf7IJgPsPAvp', '6cBvcf3JEn3NjIvaqkHkn0', '0igELlHJcgbgEtgsTmj9t0', '5csxKPX4HuN8UDEdHUxcqz', '3R3li8sx8AjMRI1BdmwXAf', '3bGGvbwbhq9kIMhHaXBdYL', '5YkXkfXWTE1pk6l2m78JnH', '3BFlHQD1nt7vHXmh0SswCO', '5aSLIxdiQAgfTGsqGwgivC', '3PeW31cRh8BlN7fwj6cGe9', '5oBUlWZcYKuYuuSsDeNQR7', '3eGuT5Bs8s9CGQbUxDXFzb', '2FHsE83xbrzzWusudCFpg1', '1isJQKjH3cFutccvz3jrCD', '1TO85DMVoOejzq5YMMWAkl', '5cOkUTJvuYBNV1JZ5yPWex', '72HFkyZ8MFEbplFjRO7aqA', '1H366E2OeWiWQvMj0iESzX', '67XtpHJ5S4KO8w8CllZx7I', '52Z9VzMQ91wrhnn1zefaVi', '0exjGVTPrIA5MYokrYG862', '17tejn8Dt8IDKKRknPznPD', '2D0BQfVCn6qoK77flhU7nR', '2YAgixJPrOiEZSgZMlmqqF', '48ghUr9q4ZCKTGEGzdZJlj', '2uj7OACDZUQIvAfKAwtHES', '4xJfZesfZ3UGR0v647p8Y5', '4Z1u8ZwrxBwdnFH4vibcYO', '5dxsliYJaYcDMfw5emzJer', '5cyYphxofHgRspEKNn3UTl', '62nJqZs3Qs7DGUto35dVUv', '5cZ6NaDFs0a7ZYfGpaJWEt', '5rQG0YxxAgCKpJthO0K3JQ', '58D69P1dusriq8I3t83eji', '4ZpFLXdO1Tqs12uJe4OsN7', '4cvsvY3HYBV7jJbWsHGOAh', '2vd2HEhrkafOi2uveHjzzh', '6DdPeHn2Kc5weToqPO9anJ', '57AzeYIWwAYprDXRwPjgtZ', '7BiRw4sgXQMyNx8nPltnQr', '2TitxRtrE8OLcAwcNucvmJ', '5Zn1K7j3DkB1akPiBLwKR9', '5gyhZCykUqfbjqyPzR4CVe', '6nhc3daOpKaZBRj2ZFWfc7', '1CQH9bjtrHOnbXTGL4JzT7', '0dRYCtYfllnlfDiEufuwOU', '4Am0QoksGA70r4ZdsgV2Y9', '2mKGjVCoxL8Um9GkNhhyto', '7LsJd6JUzWy3SUvy33g6yQ', '0IkK4SEryuCtbQjm5LRLMZ', '1QMSIsTV6lcLCQ9MBHTLhT', '6TTHXR7QYOUNS2gyy2OVvg', '0wRFR5cUtBNArgtw4F1rw1', '0HdA4vcTOb3XzW3L43X6sK', '10WVEHOf1FZf5XgK6dUWvN', '4fKiuIavbsoTRZ6R7xuAyT', '4SBahN5KfX1RLG9XLNIlJA', '618v3huzqDQQBfMogznSb3', '2cptaUFdsU60tdh7zRglai', '6MYNfMiLwCmA3bRdfzvfcs', '5ULRlgiSPSKTaJN1vU9yso', '2syQErCMMM1rXeZqtuaqxg', '06N4bQF7MXzLbbifGMIJZW', '29f11nLUcMYQ2Ndbnb7N0o', '3WmJIqP0Fk5OyDKFuX09li', '2AGen6RvvTNEhdNoyJEMvu', '2wcseriGAqeodDazDXgmaq', '4C4wO1Lob3kTxvqXtPJice', '6AJGPFFuC8qTWD5SP50RNh', '45SbQo5bq8f0hNdB70IyFC', '5IYKZF1nw5V0GtxQN7mspQ', '6XnmPBOZfmvRHW1BSbwugJ', '7MwnbWnZCBg1iK7uAreNhm', '5BPYhountssVohoID7bS40', '3uRyuXf29unDXTFNNXHrYl', '07X4FAhX2R6xnAwd6ToUUx', '3a8gsld8gQzvfyLfPO1LP1', '6VkmdRz8YgHFQV3ZNTJAWU', '7kVssG465tU7XWgfrseOVS', '7eoKwUoGIQSQLusZiQIvmm', '1m84zLz4WizjR4mCDoXReg', '76mnMmcrLA3Rv5JtrjvfS7', '4VHM8pHDSBnzIppLyeMyJ8', '27829SWtwhWUANViVTEpol', '2vcDl2SLudnltyDEos3v6E', '29OB96bcpEnlfbdVREAr83', '2xQeykrgmC01UqRpkrT0Zg', '47rNYq9IUveetu35c65xTw', '4zYkSXrfgJyrNkNv3mTiIZ', '4bwPVMQoabglAtg0HqiUuO', '03WMhty0KQ2ppU30LiyKy4', '6ths4lLgtobquTsQ6hM6oa', '6UWcp6ASpVIvUWX5eZMtp2', '2giJeD2J4YowE79mo8Fnqm', '2PfPIIxUiH9Y7miXqiQdqv', '7CaFGdmcY0tZev9f6zKzDR', '1QBhGI8QTvMYpp6i8FYiE0', '4mVY5qhPe2PWDvf7E2Sn0d', '1tmEnZhAhwUjzwJ7L0QFAh', '7Id3qONAw6sXE92FlfZEWI', '3KkdZgcQxYQQZQXumGO1Cy', '3UBZKE16VUDdeZj1VOPL0b', '0s1QWICdAhug2jCIZJ4QQZ', '3EpySzSXQYevKTq1glwGos', '44bUdMl0JyKxyDS4qku5SB', '6R3xtNGXOTqp8Qzuf22jaW', '6FaOW5zkj9QtfDSTeHkUCI', '3w5V2euF3wWJnZkkt0QBxq', '5toHaNWeaCf5cw9Jfn6yK4', '1yYLMVMSM2u7t1yfzAivy1', '0T9wtwG6ZJNgeqBBiGrwGK', '04EchQ81oKTRmabY8QMLsq', '6roMwL3sNdHRO2MRVmkBRn', '5kA30CMKo6wUWiINlG4YXt', '5smfgFsXaD4F510jOD0wLa', '5OSMwHdDsn4a7VBEOFACWg', '1hp6svNriVSFySA6rhsI5a', '45UT1NY9lpbJfdYp5Kdd1U', '0hLa19JP4bItkpyTjopqOb', '7tPjMXhFI1eSWUQlnlXEqy', '6YTphVWLG14d3eUiQ5grmU', '16RpNkwx8gaDyXD6duTt1l', '1LmmaY7vbIRD5qUnB507lz', '6w4Mc2Twjlm1gu6G4Qrqhd', '4km8XxyYCw5CSHM5H36K47', '5Qhf6Er2tQ71pluUxFwDqI', '7mYRC0kv4oI7ipqoPT8aXM', '053W70CWRzK053YEA8XBVW', '5mIf7UP0FEsGaGWBVjrNKP', '0O1wsXEiOMPwFSCdmpP6C0', '0Yr1TfeacyGFyDe0aWDla9', '0Jv6znEgiRN0QpJXQ9aaWA', '7GsKP7AgvqfNNJw74MhSLF', '7Fyfpwv9UUzfVUsfcoQzQt', '1BOv46ISdg4Xuv5Ou7M1cG', '7LyA1NPfCyT6mzx6MYTzFG', '3MkCJcOcLK0PaYy4QgKpWk', '2bBrRe20ZB7pJMQaNJ4nwk', '12sbRlZqz4ubIjKfft0tAk', '1ot6jEe4w4hYnsOPjd3xKQ', '4qv7YSyt5UV8LvrXyE8sGn', '1TfqLAPs4K3s2rJMoCokcS', '1jDJFeK9x3OZboIAHsY9k2', '4y1LsJpmMti1PfRQV9AWWe', '3YMTNzrRktpHDsi6OrmZNO', '2vz1CsL5WBsbpBcwgboTAw', '1OOtq8tRnDM8kG2gqUPjAj', '7o7E1nrHWncYY7PY94gCiX', '4aKIs5t9TqP59btlCGPrgw', '2IvetNzSZMH5gwjInoyr18', '7LmDmvqagpX0PKxveGtZTa', '1xPSDf8z4dH46gkvlLtvDO', '3cbV252akVZInSvJk7jAYX', '5pSvjjfsh34sLrkYSNGCl4', '5XsMz0YfEaHZE0MTb1aujs', '0cGG2EouYCEEC3xfa0tDFV', '3FlOciKDqFlTMPeC7t92Qy', '2KH16WveTQWT6KOG9Rg6e2', '4d6eqRtpDX7tydHJGDZUBQ', '4k6ktr10Hczmh55NY3LfJy', '273uCXd7NPrInaiNqtkOrA', '6A4Jc8npNo79BOgsrPptLA', '7fRvtXvJMpGfTLdF0M09a1', '2FpyKkCFIfqmp6eQx4Rn1V', '57Y3UccJEJqT8w8RWkUAz0', '0F0MA0ns8oXwGw66B2BSXm', '7INi4pMPG4IE0Smx5y4KVf', '1RSy7B2vfPi84N80QJ6frX', '6HA97v4wEGQ5TUClRM0XLc', '5zA8vzDGqPl2AzZkEYQGKh', '5tdKaKLnC4SgtDZ6RlWeal', '0uI4aw6ms90qFNawk9H9CO', '2eRmD96ncTEgQwJmXa6rrg', '5yf83IdQmCRRAHwhNtSnvD', '2olVm1lHicpveMAo4AUDRB', '3koCCeSaVUyrRo3N2gHrd8', '4WoT9wgK9o1cxBfKRWlRzx', '3m0y8qLoznUYi73SUBP8GI', '1uI848raFaNWwe9HjHpjQ5', '21qnJAMtzC6S5SESuqQLEK', '5vdp5UmvTsnMEMESIF2Ym7', '0Z7O8GMQShj9TJrm2yX1R6', '0RgLPN21aV1Ps39Tyb7268', '4uLU6hMCjMI75M1A2tKUQC', '4lRdpZYTwaPpuKpquO6bo3', '3hVrI7snZMTmHCnbwME47u', '5RLDIY4PICQWxdlLfDHNfi', '369JKykZZr1qzv9pg5zAhz', '6sT9MWlJManry3EQwf4V80', '2s1lS0DxcxTB8Y6oFgVKqW', '27NovPIUIRrOZoCHxABJwK', '27Z3UdqvdAhtJlWBMoDjBD', '4IbDTrLxImTJfZePAX2nKB', '3IR9wKWxI0TK1DLXvZq8uQ', '37Nqx7iavZpotJSDXZWbJ3', '6CyIkPh5mRkJg7T5xXynQ8', '2kUKeN9ZpYHqfBjB8Gphb2', '6D5R8LKkeTmQveLoUKrK0D', '6Uj1ctrBOjOas8xZXGqKk4', '14M6BbiHt2w9KHVvoIUIUF', '2gmTz7pHMqAk6fpOc88qxA', '7r9KkTYiFYMuNcGR4aySxh', '21AJQhGZpujjZQXByZAXpr', '0JyX9jNf4mUdp1eNUVAqyR', '5sLfmuQHJtPjSORQF2sbrJ', '62nJqZs3Qs7DGUto35dVUv', '7hU3IHwjX150XLoTVmjD0q', '1VOn2rRxe7JBweoK4SINHe', '4QAv7uyOwIgqOVgzczomOo', '6YC6zgdJog4gw0y2IyfRmR', '40uMIn2zJLAQhNXghRjBed', '13tc5dzElXbImNjDzz4E2B', '3bGGvbwbhq9kIMhHaXBdYL', '1SelxYHPb04GjUy0oYV1Jw', '25r6MZ4Gtd76l43qnZI1DG', '6Vcxzw4ifKqYxVrp3ckpVF', '2vd2HEhrkafOi2uveHjzzh', '0e8nrvls4Qqv5Rfa2UhqmO', '5csxKPX4HuN8UDEdHUxcqz', '7qezIDRM0E3WTW1lWxItug', '4PYfFHKfjYz6dwAtZhBy1z', '3EwsJXInOSrHZqSRW2UceI', '4CWcaGtaOyAqBDKIeZMUe0', '7moGDROshDKDpuQxtQ3q4m', '4XvcHTUfIlWfyJTRG0aqlo', '731JjfIII1qYfeatc3zhtU', '2Dv1CPIgX29t816ZLscdB2', '1mBdiyA2OUySEprEEOKJ6g', '06ZtJB09ab4la47q7ZcPbB', '3z1YJ16Cgv4Zuw9ETkQQ9Z', '5TUs6T93fNFvgQov6MlYkP', '6kie23fo40j9gBNWGWg5Dc', '610XWgnlPtTUXWlJ0Q3jAV', '4yQw7FR9lcvL6RHtegbJBh', '3wlLBTQWAF6DnMhraXASQ0', '3gsCAGsWr6pUm1Vy7CPPob', '1k1Bqnv2R0uJXQN4u6LKYt', '3pf96IFggfQuT6Gafqx2rt', '4QT3YKobBj4BI7xCYRLr9u', '0SzAKZYTUvDLqlPgllEb3N', '2lhs6cxLdBCzFPbNQr6Qmj', '0Eq4BMgsdV6DkLSJfX8eBt', '3WMbD1OyfKuwWDWMNbPQ4g', '5KgbyD2lQQlIupAaPjgiXg', '3kEA66ZM9mCxwhynOxgsLh', '7EIETgqBk63OdvVyIFDNKx', '50f0mt35cIwwu3Krk7nS7b', '5UcQ2g3M6Hh9gR8RmhjP9N', '2zMJN9JvDlvGP4jB03l1Bz', '1UNP66Mr3sPB3ItYt5bEUe', '6ztstiyZL6FXzh4aG46ZPD', '6tYIQpc9rX2wTBtb9Rh37K', '6GNmMC3RoZ1WiilCcukXLW', '57Y3UccJEJqT8w8RWkUAz0', '7IQMKJNcppgahjNWVPmxkl', '4vYauy3ABO65vTXggGYaZg', '1CpDrx0Q7f2Wv3tBXDMt6z', '2xSXw1EqGSAKc1e4TPaQvV', '0lwHorTzvh8D4pQaWFYqnn', '6StJLSmuKWwIfia0EUROQk', '6TYPryzyiUkxMk7PlI8k9c', '5csdrJ0JtFn0qvwlvSh2EI', '37j56IWzpplKE5zrlQRmxc', '4Af8yzidDPc520TFd4TmkE', '6pMHMzwTsWIxLigr54GGVm', '72PoJMDfdaw9gGECgA9kTZ', '4TxBGpTxrNvRNhF39Dl3NQ', '6Llr9PVC1cirKUwu7Fle83', '3zYQ1KXzqBWRsxIqdVMoYF', '1ot6jEe4w4hYnsOPjd3xKQ', '1NQFeJQOvirHNJ4lp17XUZ', '15ySyt38mBi1v4xMLRfD25', '7tqhbajSfrz2F7E1Z75ASX', '7s25THrKz86DM225dOYwnr', '38DAUnVJ0zqOdRuW7RG3sl', '5GcDAsm0vgFWsrcL4kqK6k', '3qZHUZTQiTMfJXcUYzY5mT', '34b3a3Pz9Jlz0092LMyNAB', '300RfAPZ57B0y6YYj9n6DN', '3ClOMebBxeNTYCOfTH24YJ', '5uES1C2NgkdrNHiCwf9jRr', '714hERk9U1W8FMYkoC83CO', '1JQ6Xm1JrvHfvAqhl5pwaA', '1mCI3atQyw3r8rd0icztLR', '1it9umP1j9qSqzKbSLLqqy', '6RANU8AS5ICU5PEHh8BYtH', '5qo4PkfY1ncj3NGTHDaZQF', '22ff60cZy4APp7bzESHLR8', '4N3stlRuz5cBNI4J4vDJ18', '6K4t31amVTZDgR3sKmwUJJ', '3kLVvnXLbuQuu1sanJNDjf', '7gARZ2i5u5DHC1b1n1fML5', '0bXpmJyHHYPk6QBFj25bYF', '0yc6Gst2xkRu0eMLeRMGCX', '7w87IxuO7BDcJ3YUqCyMTT', '1Bz9S9TweSbkFeXM5NdtOC', '4JHg4nNYUJQ5HULcCmI18R', '1wgqttlPacpvmX5DKVboOa', '6vECYJHxYmm3Ydt3fF01pE', '6GyFP1nfCDB8lbD2bG0Hq9', '0d28khcov6AiegSCpG5TuT', '3Ty7OTBNSigGEpeW2PqcsC', '7d23MhPFE9eB3U8DPRirnL', '0iTpQYzJnYgh7kIxyq8A2O', '15Hb4YapPuC0iNGvez2PXE', '4iG2gAwKXsOcijVaVXzRPW', '7kcy8ctwafCfiUFuBcvxpp', '6bS7DqTuzrpkluB7boWmw2', '7w5cxTEzp1rfV3KCy0Bd5N', '4dyx5SzxPPaD8xQIid5Wjj', '3RRf5KNBCzK3uxWKRAC67q', '1mvyqSb1tOvtVP1qfWEyPa', '6QgjcU0zLnzq5OrUoSZ3OK', '295WZ1UJn67ZaiQMWrSkys', '70WyPf8WtXvG3CgeTZZWz6', '1NyFRrFiJAJIaR6icj1goI', '3dYD57lRAUcMHufyqn9GcI', '0V2SavjRuimH4TIbrKyyN0', '5RoIXwyTCdyUjpMMkk4uPd', '2KOvNaMJcuaYTciDe2TmCP', '2UWdUez9MB9yzL7Y81Mcip', '24jvD83UgLmrdGjhWTFslY', '2nvZv4qatgsDIbEqqbQLUT', '244AvzGQ4Ksa5637JQu5Gy', '6xVdHfNIcWB0Bzd1obzcwj', '12pdXFcruNcPUbZypKUDgz', '6ZEaDwf50SdJzHcVSQx0vL', '3g86N0SqyfxEVNMHlmW3RE', '4c9WmjVlQMr0s1IjbYO52Z', '2xbrMtkxp399aSiCJ8EAON', '4m8ttWM8IKXyhpv89E867J', '5rAff9XfcWx7rguN3t0fkW', '6L4fEE9awoUnSEy1bmQebb', '1jy7SkRcmBCTcv4ZMtwz29', '3VPp3qrfCioIbPmp7c7Con', '3ji1o94rKqulYA4I2eDKat', '4j4pPKE3xAblPIbhxScC1j', '7vRdcsmD92oErIQDnmp60e', '2fXKyAyPrEa24c6PJyqznF', '5fwSHlTEWpluwOM0Sxnh5k', '3c8iiZGfEammKJuWTErE5x', '6zSpb8dQRaw0M1dK8PBwQz', '4ofwffwvvnbSkrMSCKQDaC', '3Iba59sFmGhQ4kbCY5L8AX', '2Z8WuEywRWYTKe1NybPQEW', '0iVkWge9ytV4Scgy2hQ2za', '4Ljs6Dvpz7Arf9Ac8RN7tn', '5FqaXHqw79ILxvJUKvOzxc', '780be5fB7823aHG06mwTat', '0e8nrvls4Qqv5Rfa2UhqmO', '2vBET2pmrQqafaS6zIaYta', '5PjdY0CKGZdEuoNab3yDmX', '77sFlmQh56N5VSBMKX7e63', '0J07ya7WC09FaQADutoBRZ', '45PF1Y3RcW5MK0jxWvhc4D', '41rOnZXVg3cLacziEBgkpW', '1058fW9H3fZA6QjYCdOBad', '6PQ88X9TkUIAUIZJHW2upE', '1gOANd4qcnkftl869IOvBu', '6IPNp9PfaEqrzotY47TIWy', '5WHTFyqSii0lmT9R21abT8', '1OWLQ4FQrO13w6ssWgP8tk', '5tf1VVWniHgryyumXyJM7w', '3uUuGVFu1V7jTQL60S1r8z', '2YWjW3wwQIBLNhxWKBQd16', '6OGogr19zPTM4BALXuMQpF', '5dyDkXi1bnQKSyIdO0JXp8', '0xfMlIW8lS40qvpsUw1l0X', '2gam98EZKrF9XuOkU13ApN', '03SEp9sXkAOAgxJtSLuVEi', '4sOjKbpa7RLZVRNxcO26eb', '5itOtNx0WxtJmi1TQ3RuRd', '75MNhvTCCKsST3YqqUiU9r', '1kPpge9JDLpcj15qgrPbYX', '5UbJD3lat3SVDDBXmf8gLc', '03aENfSuuy3VS0sbgH7u1D', '6Uj1ctrBOjOas8xZXGqKk4', '0nrRP2bk19rLc0orkWPQk2', '0mV43B6pJWRjcM5TmzNe6d', '1XGmzt0PVuFgQYYnV2It7A', '4ZtFanR9U6ndgddUvNcjcG', '2S5LNtRVRPbXk01yRQ14sZ', '0KzCNeuMVGXbnMbjX6ilCU', '49FYlytm3dAAraYgpoJZux', '7cdy4PbCdDZZNjyxoZyE0c', '7vFoFDWqTX0mHzLfrF1Cfy', '6Dy1jexKYriXAVG6evyUTJ', '1qSQ8ivU7OPqFcEO1D99vU', '3vXnuFnC5RhPGwsFi0ORcI']\n",
      "Variété d'Aujourd'hui\n"
     ]
    },
    {
     "name": "stderr",
     "output_type": "stream",
     "text": [
      "\r",
      " 91%|██████████████████████████████████████████████████████████████████████████▌       | 10/11 [02:42<00:15, 15.93s/it]"
     ]
    },
    {
     "name": "stdout",
     "output_type": "stream",
     "text": [
      "['00Blm7zeNqgYLPtW6zg8cj', '2O9enJqAqs46tfBlGhLsnW', '2JvWoj5bTklsb6fPzRfZ3x', '4R67rQNSbbsR4TdUVOIdez', '4iN16F8JtVxG2UTzp3avGl', '2QEtf4oCeJrfDeqf8rJiQK', '08SB2OtZkaliju77WYEKxk', '4H1CfsnXQonWnJeHzHuVUz', '18asYwWugKjjsihZ0YvRxO', '4SRkixF643LgySLh8owTkJ', '4MDDOpA7BwGDjYclTmCTVw', '19ZBncpk43fACvzKeqZIib', '38XLUjlR84JEwK0SOvX77a', '2u2gafIeAP55EjXhU768Zo', '4fcbxnnfUycb7fJAInJOob', '188rKyWMsC4WsKKZ85lnUO', '1544oKxSzETEcBpOKdf3de', '2lZrHFgxAdZrL0j8JvYhkc', '3RZauEkvORMeP06npyaIYa', '6RT5ir7all6RgZEAupLNlO', '2j1Os2WNkwb6KJvaiHFdUl', '280MV4FuB5uusjx8wj1dpt', '5YkXkfXWTE1pk6l2m78JnH', '0FiwMxsaV8SNBnjmZkHHra', '1mrGEef8GuaEnDdw8J5BQp', '4xD3DFKtDy9JkOOxcsTy3r', '1hkOuEeJQtDxHKBD8gJTBx', '1RBIzko2PMY5CP0d3MIkwl', '3YZdPvENFPytMyrnkRWm1B', '2BzAGK3lEZAQz5cU0Ae1wd', '2N9fGz3nPXci2w80p1lQIW', '2LnsEYFfPwk6ueO2OCBNLA', '1wAPbQ5XjbZqPl0WDl5mHH', '1pY5rVjr4BqQlJMx3S7Mmf', '1KCXEsHxKDq72C70fyM0vq', '77fRc8iT858bzRdcR4k8T8', '0CiJazqgaY4QhTNB66xfzm', '6cBvcf3JEn3NjIvaqkHkn0', '46PGzHQRAFjuVXB6fKRmDZ', '1MCvAAKHSdGhe4ZPq0YMrF', '7fdqKCfTKNv1UNwmCYHUpu', '6sb1CGojNdNMiToRfSNwzY', '5dXIrAUNLOcN2mYkCSeO3k', '38qCAgXW23GmzHG5bWhPzg', '0yPlsLJNceFwpgEiYMe0tv', '05nKsnLJGrsDwQIXAExTQt', '1kjixr3Tv9ku0HmXrDqWNH', '7GTlrFi1WMmZyLEUlRTihW', '6P5yJhVBhB0nV27SXhwTZc', '6v2ezoIqtD8UKjaQhqde6r', '6fSRCnfSfTBCbgoa6Nwhim', '4SEiKLEcOsLEtvU53N6bex', '70f71uZ7egz2Vshwx4D425', '7MwUFO1Av7sEOCUa1ULmwa', '6miahXSZE01l2lNDqNCfxQ', '3Kp4DMEXVilurnN1PBvHui', '2aDuY0WsvDlIs5KczrYFid', '7onHzHeOVE3M9p0tNKQbXc', '7pIoByp3uzkV6saBAHfG2c', '0PzcMfqECraaBGxX7zr7wV', '12e5rUktNoga7mdtziCw33', '46OKHucGhjhskazqD8tKnH', '0B8U71SDP0h9FF6xSZqftH', '6sjLKQtx6CbICWREw5tDPY', '0mPh3y1fgrZiWlhuNmPq5Y', '3fRK9qG08iZyWvqjOWkdKc', '7ytFo4I2OsaiGRhYdFGoQW', '3LBp0NzDmMXfbDbBlWD3vO', '1FOcJ48XhC9gBMyONLB2Cr', '5B6u8ImBwp0lKZXCH0tbx8', '7CtRS8xbsxUnT2ZA7uowqD', '5Cfh8D9E3CFEVj0LGjf9wU', '5oBUlWZcYKuYuuSsDeNQR7', '0Q3DprZOlvkOWlC3pmr5Mx', '1mS7CcE30VDxZAJOtgeIjA', '2O9enJqAqs46tfBlGhLsnW', '2s1lS0DxcxTB8Y6oFgVKqW', '3IR9wKWxI0TK1DLXvZq8uQ', '2kUKeN9ZpYHqfBjB8Gphb2', '27Z3UdqvdAhtJlWBMoDjBD', '14M6BbiHt2w9KHVvoIUIUF', '13tc5dzElXbImNjDzz4E2B', '19dD5F9Mu5DvraJr0f5eho', '7vX1e8Tcj1cl20HoWaDI4h', '2mIfMDTR6pNa3iWne56HGe', '2XLPtKom1ixf7IJgPsPAvp', '6cBvcf3JEn3NjIvaqkHkn0', '0igELlHJcgbgEtgsTmj9t0', '5csxKPX4HuN8UDEdHUxcqz', '3R3li8sx8AjMRI1BdmwXAf', '3bGGvbwbhq9kIMhHaXBdYL', '5YkXkfXWTE1pk6l2m78JnH', '3BFlHQD1nt7vHXmh0SswCO', '5aSLIxdiQAgfTGsqGwgivC', '3PeW31cRh8BlN7fwj6cGe9', '5oBUlWZcYKuYuuSsDeNQR7', '3eGuT5Bs8s9CGQbUxDXFzb', '2FHsE83xbrzzWusudCFpg1', '1isJQKjH3cFutccvz3jrCD', '1TO85DMVoOejzq5YMMWAkl', '5cOkUTJvuYBNV1JZ5yPWex', '72HFkyZ8MFEbplFjRO7aqA', '1H366E2OeWiWQvMj0iESzX', '67XtpHJ5S4KO8w8CllZx7I', '52Z9VzMQ91wrhnn1zefaVi', '0exjGVTPrIA5MYokrYG862', '17tejn8Dt8IDKKRknPznPD', '2D0BQfVCn6qoK77flhU7nR', '2YAgixJPrOiEZSgZMlmqqF', '48ghUr9q4ZCKTGEGzdZJlj', '2uj7OACDZUQIvAfKAwtHES', '4xJfZesfZ3UGR0v647p8Y5', '4Z1u8ZwrxBwdnFH4vibcYO', '5dxsliYJaYcDMfw5emzJer', '5cyYphxofHgRspEKNn3UTl', '62nJqZs3Qs7DGUto35dVUv', '5cZ6NaDFs0a7ZYfGpaJWEt', '5rQG0YxxAgCKpJthO0K3JQ', '58D69P1dusriq8I3t83eji', '4ZpFLXdO1Tqs12uJe4OsN7', '4cvsvY3HYBV7jJbWsHGOAh', '2vd2HEhrkafOi2uveHjzzh', '6DdPeHn2Kc5weToqPO9anJ', '57AzeYIWwAYprDXRwPjgtZ', '7BiRw4sgXQMyNx8nPltnQr', '2TitxRtrE8OLcAwcNucvmJ', '5Zn1K7j3DkB1akPiBLwKR9', '5gyhZCykUqfbjqyPzR4CVe', '6nhc3daOpKaZBRj2ZFWfc7', '1CQH9bjtrHOnbXTGL4JzT7', '0dRYCtYfllnlfDiEufuwOU', '4Am0QoksGA70r4ZdsgV2Y9', '2mKGjVCoxL8Um9GkNhhyto', '7LsJd6JUzWy3SUvy33g6yQ', '0IkK4SEryuCtbQjm5LRLMZ', '1QMSIsTV6lcLCQ9MBHTLhT', '6TTHXR7QYOUNS2gyy2OVvg', '0wRFR5cUtBNArgtw4F1rw1', '0HdA4vcTOb3XzW3L43X6sK', '10WVEHOf1FZf5XgK6dUWvN', '4fKiuIavbsoTRZ6R7xuAyT', '4SBahN5KfX1RLG9XLNIlJA', '618v3huzqDQQBfMogznSb3', '2cptaUFdsU60tdh7zRglai', '6MYNfMiLwCmA3bRdfzvfcs', '5ULRlgiSPSKTaJN1vU9yso', '2syQErCMMM1rXeZqtuaqxg', '06N4bQF7MXzLbbifGMIJZW', '29f11nLUcMYQ2Ndbnb7N0o', '3WmJIqP0Fk5OyDKFuX09li', '2AGen6RvvTNEhdNoyJEMvu', '2wcseriGAqeodDazDXgmaq', '4C4wO1Lob3kTxvqXtPJice', '6AJGPFFuC8qTWD5SP50RNh', '45SbQo5bq8f0hNdB70IyFC', '5IYKZF1nw5V0GtxQN7mspQ', '6XnmPBOZfmvRHW1BSbwugJ', '7MwnbWnZCBg1iK7uAreNhm', '5BPYhountssVohoID7bS40', '3uRyuXf29unDXTFNNXHrYl', '07X4FAhX2R6xnAwd6ToUUx', '3a8gsld8gQzvfyLfPO1LP1', '6VkmdRz8YgHFQV3ZNTJAWU', '7kVssG465tU7XWgfrseOVS', '7eoKwUoGIQSQLusZiQIvmm', '1m84zLz4WizjR4mCDoXReg', '76mnMmcrLA3Rv5JtrjvfS7', '4VHM8pHDSBnzIppLyeMyJ8', '27829SWtwhWUANViVTEpol', '2vcDl2SLudnltyDEos3v6E', '29OB96bcpEnlfbdVREAr83', '2xQeykrgmC01UqRpkrT0Zg', '47rNYq9IUveetu35c65xTw', '4zYkSXrfgJyrNkNv3mTiIZ', '4bwPVMQoabglAtg0HqiUuO', '03WMhty0KQ2ppU30LiyKy4', '6ths4lLgtobquTsQ6hM6oa', '6UWcp6ASpVIvUWX5eZMtp2', '2giJeD2J4YowE79mo8Fnqm', '2PfPIIxUiH9Y7miXqiQdqv', '7CaFGdmcY0tZev9f6zKzDR', '1QBhGI8QTvMYpp6i8FYiE0', '4mVY5qhPe2PWDvf7E2Sn0d', '1tmEnZhAhwUjzwJ7L0QFAh', '7Id3qONAw6sXE92FlfZEWI', '3KkdZgcQxYQQZQXumGO1Cy', '3UBZKE16VUDdeZj1VOPL0b', '0s1QWICdAhug2jCIZJ4QQZ', '3EpySzSXQYevKTq1glwGos', '44bUdMl0JyKxyDS4qku5SB', '6R3xtNGXOTqp8Qzuf22jaW', '6FaOW5zkj9QtfDSTeHkUCI', '3w5V2euF3wWJnZkkt0QBxq', '5toHaNWeaCf5cw9Jfn6yK4', '1yYLMVMSM2u7t1yfzAivy1', '0T9wtwG6ZJNgeqBBiGrwGK', '04EchQ81oKTRmabY8QMLsq', '6roMwL3sNdHRO2MRVmkBRn', '5kA30CMKo6wUWiINlG4YXt', '5smfgFsXaD4F510jOD0wLa', '5OSMwHdDsn4a7VBEOFACWg', '1hp6svNriVSFySA6rhsI5a', '45UT1NY9lpbJfdYp5Kdd1U', '0hLa19JP4bItkpyTjopqOb', '7tPjMXhFI1eSWUQlnlXEqy', '6YTphVWLG14d3eUiQ5grmU', '16RpNkwx8gaDyXD6duTt1l', '1LmmaY7vbIRD5qUnB507lz', '6w4Mc2Twjlm1gu6G4Qrqhd', '4km8XxyYCw5CSHM5H36K47', '5Qhf6Er2tQ71pluUxFwDqI', '7mYRC0kv4oI7ipqoPT8aXM', '053W70CWRzK053YEA8XBVW', '5mIf7UP0FEsGaGWBVjrNKP', '0O1wsXEiOMPwFSCdmpP6C0', '0Yr1TfeacyGFyDe0aWDla9', '0Jv6znEgiRN0QpJXQ9aaWA', '7GsKP7AgvqfNNJw74MhSLF', '7Fyfpwv9UUzfVUsfcoQzQt', '1BOv46ISdg4Xuv5Ou7M1cG', '7LyA1NPfCyT6mzx6MYTzFG', '3MkCJcOcLK0PaYy4QgKpWk', '2bBrRe20ZB7pJMQaNJ4nwk', '12sbRlZqz4ubIjKfft0tAk', '1ot6jEe4w4hYnsOPjd3xKQ', '4qv7YSyt5UV8LvrXyE8sGn', '1TfqLAPs4K3s2rJMoCokcS', '1jDJFeK9x3OZboIAHsY9k2', '4y1LsJpmMti1PfRQV9AWWe', '3YMTNzrRktpHDsi6OrmZNO', '2vz1CsL5WBsbpBcwgboTAw', '1OOtq8tRnDM8kG2gqUPjAj', '7o7E1nrHWncYY7PY94gCiX', '4aKIs5t9TqP59btlCGPrgw', '2IvetNzSZMH5gwjInoyr18', '7LmDmvqagpX0PKxveGtZTa', '1xPSDf8z4dH46gkvlLtvDO', '3cbV252akVZInSvJk7jAYX', '5pSvjjfsh34sLrkYSNGCl4', '5XsMz0YfEaHZE0MTb1aujs', '0cGG2EouYCEEC3xfa0tDFV', '3FlOciKDqFlTMPeC7t92Qy', '2KH16WveTQWT6KOG9Rg6e2', '4d6eqRtpDX7tydHJGDZUBQ', '4k6ktr10Hczmh55NY3LfJy', '273uCXd7NPrInaiNqtkOrA', '6A4Jc8npNo79BOgsrPptLA', '7fRvtXvJMpGfTLdF0M09a1', '2FpyKkCFIfqmp6eQx4Rn1V', '57Y3UccJEJqT8w8RWkUAz0', '0F0MA0ns8oXwGw66B2BSXm', '7INi4pMPG4IE0Smx5y4KVf', '1RSy7B2vfPi84N80QJ6frX', '6HA97v4wEGQ5TUClRM0XLc', '5zA8vzDGqPl2AzZkEYQGKh', '5tdKaKLnC4SgtDZ6RlWeal', '0uI4aw6ms90qFNawk9H9CO', '2eRmD96ncTEgQwJmXa6rrg', '5yf83IdQmCRRAHwhNtSnvD', '2olVm1lHicpveMAo4AUDRB', '3koCCeSaVUyrRo3N2gHrd8', '4WoT9wgK9o1cxBfKRWlRzx', '3m0y8qLoznUYi73SUBP8GI', '1uI848raFaNWwe9HjHpjQ5', '21qnJAMtzC6S5SESuqQLEK', '5vdp5UmvTsnMEMESIF2Ym7', '0Z7O8GMQShj9TJrm2yX1R6', '0RgLPN21aV1Ps39Tyb7268', '4uLU6hMCjMI75M1A2tKUQC', '4lRdpZYTwaPpuKpquO6bo3', '3hVrI7snZMTmHCnbwME47u', '5RLDIY4PICQWxdlLfDHNfi', '369JKykZZr1qzv9pg5zAhz', '6sT9MWlJManry3EQwf4V80', '2s1lS0DxcxTB8Y6oFgVKqW', '27NovPIUIRrOZoCHxABJwK', '27Z3UdqvdAhtJlWBMoDjBD', '4IbDTrLxImTJfZePAX2nKB', '3IR9wKWxI0TK1DLXvZq8uQ', '37Nqx7iavZpotJSDXZWbJ3', '6CyIkPh5mRkJg7T5xXynQ8', '2kUKeN9ZpYHqfBjB8Gphb2', '6D5R8LKkeTmQveLoUKrK0D', '6Uj1ctrBOjOas8xZXGqKk4', '14M6BbiHt2w9KHVvoIUIUF', '2gmTz7pHMqAk6fpOc88qxA', '7r9KkTYiFYMuNcGR4aySxh', '21AJQhGZpujjZQXByZAXpr', '0JyX9jNf4mUdp1eNUVAqyR', '5sLfmuQHJtPjSORQF2sbrJ', '62nJqZs3Qs7DGUto35dVUv', '7hU3IHwjX150XLoTVmjD0q', '1VOn2rRxe7JBweoK4SINHe', '4QAv7uyOwIgqOVgzczomOo', '6YC6zgdJog4gw0y2IyfRmR', '40uMIn2zJLAQhNXghRjBed', '13tc5dzElXbImNjDzz4E2B', '3bGGvbwbhq9kIMhHaXBdYL', '1SelxYHPb04GjUy0oYV1Jw', '25r6MZ4Gtd76l43qnZI1DG', '6Vcxzw4ifKqYxVrp3ckpVF', '2vd2HEhrkafOi2uveHjzzh', '0e8nrvls4Qqv5Rfa2UhqmO', '5csxKPX4HuN8UDEdHUxcqz', '7qezIDRM0E3WTW1lWxItug', '4PYfFHKfjYz6dwAtZhBy1z', '3EwsJXInOSrHZqSRW2UceI', '4CWcaGtaOyAqBDKIeZMUe0', '7moGDROshDKDpuQxtQ3q4m', '4XvcHTUfIlWfyJTRG0aqlo', '731JjfIII1qYfeatc3zhtU', '2Dv1CPIgX29t816ZLscdB2', '1mBdiyA2OUySEprEEOKJ6g', '06ZtJB09ab4la47q7ZcPbB', '3z1YJ16Cgv4Zuw9ETkQQ9Z', '5TUs6T93fNFvgQov6MlYkP', '6kie23fo40j9gBNWGWg5Dc', '610XWgnlPtTUXWlJ0Q3jAV', '4yQw7FR9lcvL6RHtegbJBh', '3wlLBTQWAF6DnMhraXASQ0', '3gsCAGsWr6pUm1Vy7CPPob', '1k1Bqnv2R0uJXQN4u6LKYt', '3pf96IFggfQuT6Gafqx2rt', '4QT3YKobBj4BI7xCYRLr9u', '0SzAKZYTUvDLqlPgllEb3N', '2lhs6cxLdBCzFPbNQr6Qmj', '0Eq4BMgsdV6DkLSJfX8eBt', '3WMbD1OyfKuwWDWMNbPQ4g', '5KgbyD2lQQlIupAaPjgiXg', '3kEA66ZM9mCxwhynOxgsLh', '7EIETgqBk63OdvVyIFDNKx', '50f0mt35cIwwu3Krk7nS7b', '5UcQ2g3M6Hh9gR8RmhjP9N', '2zMJN9JvDlvGP4jB03l1Bz', '1UNP66Mr3sPB3ItYt5bEUe', '6ztstiyZL6FXzh4aG46ZPD', '6tYIQpc9rX2wTBtb9Rh37K', '6GNmMC3RoZ1WiilCcukXLW', '57Y3UccJEJqT8w8RWkUAz0', '7IQMKJNcppgahjNWVPmxkl', '4vYauy3ABO65vTXggGYaZg', '1CpDrx0Q7f2Wv3tBXDMt6z', '2xSXw1EqGSAKc1e4TPaQvV', '0lwHorTzvh8D4pQaWFYqnn', '6StJLSmuKWwIfia0EUROQk', '6TYPryzyiUkxMk7PlI8k9c', '5csdrJ0JtFn0qvwlvSh2EI', '37j56IWzpplKE5zrlQRmxc', '4Af8yzidDPc520TFd4TmkE', '6pMHMzwTsWIxLigr54GGVm', '72PoJMDfdaw9gGECgA9kTZ', '4TxBGpTxrNvRNhF39Dl3NQ', '6Llr9PVC1cirKUwu7Fle83', '3zYQ1KXzqBWRsxIqdVMoYF', '1ot6jEe4w4hYnsOPjd3xKQ', '1NQFeJQOvirHNJ4lp17XUZ', '15ySyt38mBi1v4xMLRfD25', '7tqhbajSfrz2F7E1Z75ASX', '7s25THrKz86DM225dOYwnr', '38DAUnVJ0zqOdRuW7RG3sl', '5GcDAsm0vgFWsrcL4kqK6k', '3qZHUZTQiTMfJXcUYzY5mT', '34b3a3Pz9Jlz0092LMyNAB', '300RfAPZ57B0y6YYj9n6DN', '3ClOMebBxeNTYCOfTH24YJ', '5uES1C2NgkdrNHiCwf9jRr', '714hERk9U1W8FMYkoC83CO', '1JQ6Xm1JrvHfvAqhl5pwaA', '1mCI3atQyw3r8rd0icztLR', '1it9umP1j9qSqzKbSLLqqy', '6RANU8AS5ICU5PEHh8BYtH', '5qo4PkfY1ncj3NGTHDaZQF', '22ff60cZy4APp7bzESHLR8', '4N3stlRuz5cBNI4J4vDJ18', '6K4t31amVTZDgR3sKmwUJJ', '3kLVvnXLbuQuu1sanJNDjf', '7gARZ2i5u5DHC1b1n1fML5', '0bXpmJyHHYPk6QBFj25bYF', '0yc6Gst2xkRu0eMLeRMGCX', '7w87IxuO7BDcJ3YUqCyMTT', '1Bz9S9TweSbkFeXM5NdtOC', '4JHg4nNYUJQ5HULcCmI18R', '1wgqttlPacpvmX5DKVboOa', '6vECYJHxYmm3Ydt3fF01pE', '6GyFP1nfCDB8lbD2bG0Hq9', '0d28khcov6AiegSCpG5TuT', '3Ty7OTBNSigGEpeW2PqcsC', '7d23MhPFE9eB3U8DPRirnL', '0iTpQYzJnYgh7kIxyq8A2O', '15Hb4YapPuC0iNGvez2PXE', '4iG2gAwKXsOcijVaVXzRPW', '7kcy8ctwafCfiUFuBcvxpp', '6bS7DqTuzrpkluB7boWmw2', '7w5cxTEzp1rfV3KCy0Bd5N', '4dyx5SzxPPaD8xQIid5Wjj', '3RRf5KNBCzK3uxWKRAC67q', '1mvyqSb1tOvtVP1qfWEyPa', '6QgjcU0zLnzq5OrUoSZ3OK', '295WZ1UJn67ZaiQMWrSkys', '70WyPf8WtXvG3CgeTZZWz6', '1NyFRrFiJAJIaR6icj1goI', '3dYD57lRAUcMHufyqn9GcI', '0V2SavjRuimH4TIbrKyyN0', '5RoIXwyTCdyUjpMMkk4uPd', '2KOvNaMJcuaYTciDe2TmCP', '2UWdUez9MB9yzL7Y81Mcip', '24jvD83UgLmrdGjhWTFslY', '2nvZv4qatgsDIbEqqbQLUT', '244AvzGQ4Ksa5637JQu5Gy', '6xVdHfNIcWB0Bzd1obzcwj', '12pdXFcruNcPUbZypKUDgz', '6ZEaDwf50SdJzHcVSQx0vL', '3g86N0SqyfxEVNMHlmW3RE', '4c9WmjVlQMr0s1IjbYO52Z', '2xbrMtkxp399aSiCJ8EAON', '4m8ttWM8IKXyhpv89E867J', '5rAff9XfcWx7rguN3t0fkW', '6L4fEE9awoUnSEy1bmQebb', '1jy7SkRcmBCTcv4ZMtwz29', '3VPp3qrfCioIbPmp7c7Con', '3ji1o94rKqulYA4I2eDKat', '4j4pPKE3xAblPIbhxScC1j', '7vRdcsmD92oErIQDnmp60e', '2fXKyAyPrEa24c6PJyqznF', '5fwSHlTEWpluwOM0Sxnh5k', '3c8iiZGfEammKJuWTErE5x', '6zSpb8dQRaw0M1dK8PBwQz', '4ofwffwvvnbSkrMSCKQDaC', '3Iba59sFmGhQ4kbCY5L8AX', '2Z8WuEywRWYTKe1NybPQEW', '0iVkWge9ytV4Scgy2hQ2za', '4Ljs6Dvpz7Arf9Ac8RN7tn', '5FqaXHqw79ILxvJUKvOzxc', '780be5fB7823aHG06mwTat', '0e8nrvls4Qqv5Rfa2UhqmO', '2vBET2pmrQqafaS6zIaYta', '5PjdY0CKGZdEuoNab3yDmX', '77sFlmQh56N5VSBMKX7e63', '0J07ya7WC09FaQADutoBRZ', '45PF1Y3RcW5MK0jxWvhc4D', '41rOnZXVg3cLacziEBgkpW', '1058fW9H3fZA6QjYCdOBad', '6PQ88X9TkUIAUIZJHW2upE', '1gOANd4qcnkftl869IOvBu', '6IPNp9PfaEqrzotY47TIWy', '5WHTFyqSii0lmT9R21abT8', '1OWLQ4FQrO13w6ssWgP8tk', '5tf1VVWniHgryyumXyJM7w', '3uUuGVFu1V7jTQL60S1r8z', '2YWjW3wwQIBLNhxWKBQd16', '6OGogr19zPTM4BALXuMQpF', '5dyDkXi1bnQKSyIdO0JXp8', '0xfMlIW8lS40qvpsUw1l0X', '2gam98EZKrF9XuOkU13ApN', '03SEp9sXkAOAgxJtSLuVEi', '4sOjKbpa7RLZVRNxcO26eb', '5itOtNx0WxtJmi1TQ3RuRd', '75MNhvTCCKsST3YqqUiU9r', '1kPpge9JDLpcj15qgrPbYX', '5UbJD3lat3SVDDBXmf8gLc', '03aENfSuuy3VS0sbgH7u1D', '6Uj1ctrBOjOas8xZXGqKk4', '0nrRP2bk19rLc0orkWPQk2', '0mV43B6pJWRjcM5TmzNe6d', '1XGmzt0PVuFgQYYnV2It7A', '4ZtFanR9U6ndgddUvNcjcG', '2S5LNtRVRPbXk01yRQ14sZ', '0KzCNeuMVGXbnMbjX6ilCU', '49FYlytm3dAAraYgpoJZux', '7cdy4PbCdDZZNjyxoZyE0c', '7vFoFDWqTX0mHzLfrF1Cfy', '6Dy1jexKYriXAVG6evyUTJ', '1qSQ8ivU7OPqFcEO1D99vU', '3vXnuFnC5RhPGwsFi0ORcI', '7FhcGzIb6BUapFSNVwxpCq', '3HLUrzmua2lTafzu3heQZV', '3mvMxWdTEy3sNZoRUNeris', '0bPKPZ6qlfwptPL6ta6t43', '3tJljA8IkRARbsFojNbwRl', '3Fg9sxDMmWwodqI678gIwX', '41xAUseykaaSdmry5hVOkV', '6WNVFXtZyFmfosAxvisgPL', '1ncaQAHCLAOjgnceZhqYt5', '5G7ub4dl5ABYB1fYlgCJ2i', '4xSRna7VTC2qN3INhdpYmD', '3hYClPLgnc4Eu5GIU87Kkk', '303oeyQJklQReUBrszN2j2', '0QIshyPSwHWvmA2jzs2LND', '0LHDyKHY7sZfc2YLMfiJBw', '7h7wrenhCbADpRK6ItHxI0', '7ayi6LtgxUK4057CF7MCJL', '1h7LWORFpHl8qTz8xXlVYN', '76Ef208V2nkxvbvs7pzKdA', '1rp1KboJQdhF8gRKdm3Alk', '6SLZaOxvjCJ6RnpbH8imwZ', '360Xv6Pn6ENVkFD7Hcfymf', '6w5FDbVTPCk582bYwQGbDN', '6KCVVAM5j4JukdJ8BpNVjv', '4D7PndWbd8MB96lDZF3te2', '2ZSFeJu61yIbsXG2KJbcGG', '1LqvKE7xaNbACFD8GbyT4l', '4kdzLRk1pX5kTLcgoDqaQ7', '5vBKODjjr4NVPqW0sNNvr0', '3RHMz6FpEF6SHoOlk831Nh', '0ndvphNmJuUDL6JLHhMiki', '2uB3uXWY1iwknxWQ5gD2g4', '2njmoIaPd0hKIlCFtyGHUZ', '6bAaEf97dH8fzQhLPiLacp', '4GjRmJWJmEHXgH0Qdbw6Os', '4HS5UK3JioFXvHLP14ydJB', '6SBDaSKJHFlDpaFKDn4Dy7', '6U6SpEY3xhXSw9A6l4WU1N', '4iNdMRQRQ0cMunOLCPnkXQ', '0OueLn8Bd2P2XU9aX1My4Z', '1ABDYmUKWYAY7FjGKOFLyU', '2Dh8f30wYZ97NWo2NL4e8c', '7hbIay5rEvtVH9iI40vQMG', '38TKubI8iddW5RZZq4znNx', '3yv4jovrvRsUXi8LxJBzip', '2N3ft2Plv5PXRYuOBVRoqq', '1yxX9H77a40Xn1AFCru6kD', '45nOY1My3YTbbO7lAxrIGm', '0Yr1TfeacyGFyDe0aWDla9', '2dI1vNXtxBDQzJqM6cxiY0']\n",
      "Trajet en musique\n"
     ]
    },
    {
     "name": "stderr",
     "output_type": "stream",
     "text": [
      "100%|██████████████████████████████████████████████████████████████████████████████████| 11/11 [02:57<00:00, 16.14s/it]"
     ]
    },
    {
     "name": "stdout",
     "output_type": "stream",
     "text": [
      "['00Blm7zeNqgYLPtW6zg8cj', '2O9enJqAqs46tfBlGhLsnW', '2JvWoj5bTklsb6fPzRfZ3x', '4R67rQNSbbsR4TdUVOIdez', '4iN16F8JtVxG2UTzp3avGl', '2QEtf4oCeJrfDeqf8rJiQK', '08SB2OtZkaliju77WYEKxk', '4H1CfsnXQonWnJeHzHuVUz', '18asYwWugKjjsihZ0YvRxO', '4SRkixF643LgySLh8owTkJ', '4MDDOpA7BwGDjYclTmCTVw', '19ZBncpk43fACvzKeqZIib', '38XLUjlR84JEwK0SOvX77a', '2u2gafIeAP55EjXhU768Zo', '4fcbxnnfUycb7fJAInJOob', '188rKyWMsC4WsKKZ85lnUO', '1544oKxSzETEcBpOKdf3de', '2lZrHFgxAdZrL0j8JvYhkc', '3RZauEkvORMeP06npyaIYa', '6RT5ir7all6RgZEAupLNlO', '2j1Os2WNkwb6KJvaiHFdUl', '280MV4FuB5uusjx8wj1dpt', '5YkXkfXWTE1pk6l2m78JnH', '0FiwMxsaV8SNBnjmZkHHra', '1mrGEef8GuaEnDdw8J5BQp', '4xD3DFKtDy9JkOOxcsTy3r', '1hkOuEeJQtDxHKBD8gJTBx', '1RBIzko2PMY5CP0d3MIkwl', '3YZdPvENFPytMyrnkRWm1B', '2BzAGK3lEZAQz5cU0Ae1wd', '2N9fGz3nPXci2w80p1lQIW', '2LnsEYFfPwk6ueO2OCBNLA', '1wAPbQ5XjbZqPl0WDl5mHH', '1pY5rVjr4BqQlJMx3S7Mmf', '1KCXEsHxKDq72C70fyM0vq', '77fRc8iT858bzRdcR4k8T8', '0CiJazqgaY4QhTNB66xfzm', '6cBvcf3JEn3NjIvaqkHkn0', '46PGzHQRAFjuVXB6fKRmDZ', '1MCvAAKHSdGhe4ZPq0YMrF', '7fdqKCfTKNv1UNwmCYHUpu', '6sb1CGojNdNMiToRfSNwzY', '5dXIrAUNLOcN2mYkCSeO3k', '38qCAgXW23GmzHG5bWhPzg', '0yPlsLJNceFwpgEiYMe0tv', '05nKsnLJGrsDwQIXAExTQt', '1kjixr3Tv9ku0HmXrDqWNH', '7GTlrFi1WMmZyLEUlRTihW', '6P5yJhVBhB0nV27SXhwTZc', '6v2ezoIqtD8UKjaQhqde6r', '6fSRCnfSfTBCbgoa6Nwhim', '4SEiKLEcOsLEtvU53N6bex', '70f71uZ7egz2Vshwx4D425', '7MwUFO1Av7sEOCUa1ULmwa', '6miahXSZE01l2lNDqNCfxQ', '3Kp4DMEXVilurnN1PBvHui', '2aDuY0WsvDlIs5KczrYFid', '7onHzHeOVE3M9p0tNKQbXc', '7pIoByp3uzkV6saBAHfG2c', '0PzcMfqECraaBGxX7zr7wV', '12e5rUktNoga7mdtziCw33', '46OKHucGhjhskazqD8tKnH', '0B8U71SDP0h9FF6xSZqftH', '6sjLKQtx6CbICWREw5tDPY', '0mPh3y1fgrZiWlhuNmPq5Y', '3fRK9qG08iZyWvqjOWkdKc', '7ytFo4I2OsaiGRhYdFGoQW', '3LBp0NzDmMXfbDbBlWD3vO', '1FOcJ48XhC9gBMyONLB2Cr', '5B6u8ImBwp0lKZXCH0tbx8', '7CtRS8xbsxUnT2ZA7uowqD', '5Cfh8D9E3CFEVj0LGjf9wU', '5oBUlWZcYKuYuuSsDeNQR7', '0Q3DprZOlvkOWlC3pmr5Mx', '1mS7CcE30VDxZAJOtgeIjA', '2O9enJqAqs46tfBlGhLsnW', '2s1lS0DxcxTB8Y6oFgVKqW', '3IR9wKWxI0TK1DLXvZq8uQ', '2kUKeN9ZpYHqfBjB8Gphb2', '27Z3UdqvdAhtJlWBMoDjBD', '14M6BbiHt2w9KHVvoIUIUF', '13tc5dzElXbImNjDzz4E2B', '19dD5F9Mu5DvraJr0f5eho', '7vX1e8Tcj1cl20HoWaDI4h', '2mIfMDTR6pNa3iWne56HGe', '2XLPtKom1ixf7IJgPsPAvp', '6cBvcf3JEn3NjIvaqkHkn0', '0igELlHJcgbgEtgsTmj9t0', '5csxKPX4HuN8UDEdHUxcqz', '3R3li8sx8AjMRI1BdmwXAf', '3bGGvbwbhq9kIMhHaXBdYL', '5YkXkfXWTE1pk6l2m78JnH', '3BFlHQD1nt7vHXmh0SswCO', '5aSLIxdiQAgfTGsqGwgivC', '3PeW31cRh8BlN7fwj6cGe9', '5oBUlWZcYKuYuuSsDeNQR7', '3eGuT5Bs8s9CGQbUxDXFzb', '2FHsE83xbrzzWusudCFpg1', '1isJQKjH3cFutccvz3jrCD', '1TO85DMVoOejzq5YMMWAkl', '5cOkUTJvuYBNV1JZ5yPWex', '72HFkyZ8MFEbplFjRO7aqA', '1H366E2OeWiWQvMj0iESzX', '67XtpHJ5S4KO8w8CllZx7I', '52Z9VzMQ91wrhnn1zefaVi', '0exjGVTPrIA5MYokrYG862', '17tejn8Dt8IDKKRknPznPD', '2D0BQfVCn6qoK77flhU7nR', '2YAgixJPrOiEZSgZMlmqqF', '48ghUr9q4ZCKTGEGzdZJlj', '2uj7OACDZUQIvAfKAwtHES', '4xJfZesfZ3UGR0v647p8Y5', '4Z1u8ZwrxBwdnFH4vibcYO', '5dxsliYJaYcDMfw5emzJer', '5cyYphxofHgRspEKNn3UTl', '62nJqZs3Qs7DGUto35dVUv', '5cZ6NaDFs0a7ZYfGpaJWEt', '5rQG0YxxAgCKpJthO0K3JQ', '58D69P1dusriq8I3t83eji', '4ZpFLXdO1Tqs12uJe4OsN7', '4cvsvY3HYBV7jJbWsHGOAh', '2vd2HEhrkafOi2uveHjzzh', '6DdPeHn2Kc5weToqPO9anJ', '57AzeYIWwAYprDXRwPjgtZ', '7BiRw4sgXQMyNx8nPltnQr', '2TitxRtrE8OLcAwcNucvmJ', '5Zn1K7j3DkB1akPiBLwKR9', '5gyhZCykUqfbjqyPzR4CVe', '6nhc3daOpKaZBRj2ZFWfc7', '1CQH9bjtrHOnbXTGL4JzT7', '0dRYCtYfllnlfDiEufuwOU', '4Am0QoksGA70r4ZdsgV2Y9', '2mKGjVCoxL8Um9GkNhhyto', '7LsJd6JUzWy3SUvy33g6yQ', '0IkK4SEryuCtbQjm5LRLMZ', '1QMSIsTV6lcLCQ9MBHTLhT', '6TTHXR7QYOUNS2gyy2OVvg', '0wRFR5cUtBNArgtw4F1rw1', '0HdA4vcTOb3XzW3L43X6sK', '10WVEHOf1FZf5XgK6dUWvN', '4fKiuIavbsoTRZ6R7xuAyT', '4SBahN5KfX1RLG9XLNIlJA', '618v3huzqDQQBfMogznSb3', '2cptaUFdsU60tdh7zRglai', '6MYNfMiLwCmA3bRdfzvfcs', '5ULRlgiSPSKTaJN1vU9yso', '2syQErCMMM1rXeZqtuaqxg', '06N4bQF7MXzLbbifGMIJZW', '29f11nLUcMYQ2Ndbnb7N0o', '3WmJIqP0Fk5OyDKFuX09li', '2AGen6RvvTNEhdNoyJEMvu', '2wcseriGAqeodDazDXgmaq', '4C4wO1Lob3kTxvqXtPJice', '6AJGPFFuC8qTWD5SP50RNh', '45SbQo5bq8f0hNdB70IyFC', '5IYKZF1nw5V0GtxQN7mspQ', '6XnmPBOZfmvRHW1BSbwugJ', '7MwnbWnZCBg1iK7uAreNhm', '5BPYhountssVohoID7bS40', '3uRyuXf29unDXTFNNXHrYl', '07X4FAhX2R6xnAwd6ToUUx', '3a8gsld8gQzvfyLfPO1LP1', '6VkmdRz8YgHFQV3ZNTJAWU', '7kVssG465tU7XWgfrseOVS', '7eoKwUoGIQSQLusZiQIvmm', '1m84zLz4WizjR4mCDoXReg', '76mnMmcrLA3Rv5JtrjvfS7', '4VHM8pHDSBnzIppLyeMyJ8', '27829SWtwhWUANViVTEpol', '2vcDl2SLudnltyDEos3v6E', '29OB96bcpEnlfbdVREAr83', '2xQeykrgmC01UqRpkrT0Zg', '47rNYq9IUveetu35c65xTw', '4zYkSXrfgJyrNkNv3mTiIZ', '4bwPVMQoabglAtg0HqiUuO', '03WMhty0KQ2ppU30LiyKy4', '6ths4lLgtobquTsQ6hM6oa', '6UWcp6ASpVIvUWX5eZMtp2', '2giJeD2J4YowE79mo8Fnqm', '2PfPIIxUiH9Y7miXqiQdqv', '7CaFGdmcY0tZev9f6zKzDR', '1QBhGI8QTvMYpp6i8FYiE0', '4mVY5qhPe2PWDvf7E2Sn0d', '1tmEnZhAhwUjzwJ7L0QFAh', '7Id3qONAw6sXE92FlfZEWI', '3KkdZgcQxYQQZQXumGO1Cy', '3UBZKE16VUDdeZj1VOPL0b', '0s1QWICdAhug2jCIZJ4QQZ', '3EpySzSXQYevKTq1glwGos', '44bUdMl0JyKxyDS4qku5SB', '6R3xtNGXOTqp8Qzuf22jaW', '6FaOW5zkj9QtfDSTeHkUCI', '3w5V2euF3wWJnZkkt0QBxq', '5toHaNWeaCf5cw9Jfn6yK4', '1yYLMVMSM2u7t1yfzAivy1', '0T9wtwG6ZJNgeqBBiGrwGK', '04EchQ81oKTRmabY8QMLsq', '6roMwL3sNdHRO2MRVmkBRn', '5kA30CMKo6wUWiINlG4YXt', '5smfgFsXaD4F510jOD0wLa', '5OSMwHdDsn4a7VBEOFACWg', '1hp6svNriVSFySA6rhsI5a', '45UT1NY9lpbJfdYp5Kdd1U', '0hLa19JP4bItkpyTjopqOb', '7tPjMXhFI1eSWUQlnlXEqy', '6YTphVWLG14d3eUiQ5grmU', '16RpNkwx8gaDyXD6duTt1l', '1LmmaY7vbIRD5qUnB507lz', '6w4Mc2Twjlm1gu6G4Qrqhd', '4km8XxyYCw5CSHM5H36K47', '5Qhf6Er2tQ71pluUxFwDqI', '7mYRC0kv4oI7ipqoPT8aXM', '053W70CWRzK053YEA8XBVW', '5mIf7UP0FEsGaGWBVjrNKP', '0O1wsXEiOMPwFSCdmpP6C0', '0Yr1TfeacyGFyDe0aWDla9', '0Jv6znEgiRN0QpJXQ9aaWA', '7GsKP7AgvqfNNJw74MhSLF', '7Fyfpwv9UUzfVUsfcoQzQt', '1BOv46ISdg4Xuv5Ou7M1cG', '7LyA1NPfCyT6mzx6MYTzFG', '3MkCJcOcLK0PaYy4QgKpWk', '2bBrRe20ZB7pJMQaNJ4nwk', '12sbRlZqz4ubIjKfft0tAk', '1ot6jEe4w4hYnsOPjd3xKQ', '4qv7YSyt5UV8LvrXyE8sGn', '1TfqLAPs4K3s2rJMoCokcS', '1jDJFeK9x3OZboIAHsY9k2', '4y1LsJpmMti1PfRQV9AWWe', '3YMTNzrRktpHDsi6OrmZNO', '2vz1CsL5WBsbpBcwgboTAw', '1OOtq8tRnDM8kG2gqUPjAj', '7o7E1nrHWncYY7PY94gCiX', '4aKIs5t9TqP59btlCGPrgw', '2IvetNzSZMH5gwjInoyr18', '7LmDmvqagpX0PKxveGtZTa', '1xPSDf8z4dH46gkvlLtvDO', '3cbV252akVZInSvJk7jAYX', '5pSvjjfsh34sLrkYSNGCl4', '5XsMz0YfEaHZE0MTb1aujs', '0cGG2EouYCEEC3xfa0tDFV', '3FlOciKDqFlTMPeC7t92Qy', '2KH16WveTQWT6KOG9Rg6e2', '4d6eqRtpDX7tydHJGDZUBQ', '4k6ktr10Hczmh55NY3LfJy', '273uCXd7NPrInaiNqtkOrA', '6A4Jc8npNo79BOgsrPptLA', '7fRvtXvJMpGfTLdF0M09a1', '2FpyKkCFIfqmp6eQx4Rn1V', '57Y3UccJEJqT8w8RWkUAz0', '0F0MA0ns8oXwGw66B2BSXm', '7INi4pMPG4IE0Smx5y4KVf', '1RSy7B2vfPi84N80QJ6frX', '6HA97v4wEGQ5TUClRM0XLc', '5zA8vzDGqPl2AzZkEYQGKh', '5tdKaKLnC4SgtDZ6RlWeal', '0uI4aw6ms90qFNawk9H9CO', '2eRmD96ncTEgQwJmXa6rrg', '5yf83IdQmCRRAHwhNtSnvD', '2olVm1lHicpveMAo4AUDRB', '3koCCeSaVUyrRo3N2gHrd8', '4WoT9wgK9o1cxBfKRWlRzx', '3m0y8qLoznUYi73SUBP8GI', '1uI848raFaNWwe9HjHpjQ5', '21qnJAMtzC6S5SESuqQLEK', '5vdp5UmvTsnMEMESIF2Ym7', '0Z7O8GMQShj9TJrm2yX1R6', '0RgLPN21aV1Ps39Tyb7268', '4uLU6hMCjMI75M1A2tKUQC', '4lRdpZYTwaPpuKpquO6bo3', '3hVrI7snZMTmHCnbwME47u', '5RLDIY4PICQWxdlLfDHNfi', '369JKykZZr1qzv9pg5zAhz', '6sT9MWlJManry3EQwf4V80', '2s1lS0DxcxTB8Y6oFgVKqW', '27NovPIUIRrOZoCHxABJwK', '27Z3UdqvdAhtJlWBMoDjBD', '4IbDTrLxImTJfZePAX2nKB', '3IR9wKWxI0TK1DLXvZq8uQ', '37Nqx7iavZpotJSDXZWbJ3', '6CyIkPh5mRkJg7T5xXynQ8', '2kUKeN9ZpYHqfBjB8Gphb2', '6D5R8LKkeTmQveLoUKrK0D', '6Uj1ctrBOjOas8xZXGqKk4', '14M6BbiHt2w9KHVvoIUIUF', '2gmTz7pHMqAk6fpOc88qxA', '7r9KkTYiFYMuNcGR4aySxh', '21AJQhGZpujjZQXByZAXpr', '0JyX9jNf4mUdp1eNUVAqyR', '5sLfmuQHJtPjSORQF2sbrJ', '62nJqZs3Qs7DGUto35dVUv', '7hU3IHwjX150XLoTVmjD0q', '1VOn2rRxe7JBweoK4SINHe', '4QAv7uyOwIgqOVgzczomOo', '6YC6zgdJog4gw0y2IyfRmR', '40uMIn2zJLAQhNXghRjBed', '13tc5dzElXbImNjDzz4E2B', '3bGGvbwbhq9kIMhHaXBdYL', '1SelxYHPb04GjUy0oYV1Jw', '25r6MZ4Gtd76l43qnZI1DG', '6Vcxzw4ifKqYxVrp3ckpVF', '2vd2HEhrkafOi2uveHjzzh', '0e8nrvls4Qqv5Rfa2UhqmO', '5csxKPX4HuN8UDEdHUxcqz', '7qezIDRM0E3WTW1lWxItug', '4PYfFHKfjYz6dwAtZhBy1z', '3EwsJXInOSrHZqSRW2UceI', '4CWcaGtaOyAqBDKIeZMUe0', '7moGDROshDKDpuQxtQ3q4m', '4XvcHTUfIlWfyJTRG0aqlo', '731JjfIII1qYfeatc3zhtU', '2Dv1CPIgX29t816ZLscdB2', '1mBdiyA2OUySEprEEOKJ6g', '06ZtJB09ab4la47q7ZcPbB', '3z1YJ16Cgv4Zuw9ETkQQ9Z', '5TUs6T93fNFvgQov6MlYkP', '6kie23fo40j9gBNWGWg5Dc', '610XWgnlPtTUXWlJ0Q3jAV', '4yQw7FR9lcvL6RHtegbJBh', '3wlLBTQWAF6DnMhraXASQ0', '3gsCAGsWr6pUm1Vy7CPPob', '1k1Bqnv2R0uJXQN4u6LKYt', '3pf96IFggfQuT6Gafqx2rt', '4QT3YKobBj4BI7xCYRLr9u', '0SzAKZYTUvDLqlPgllEb3N', '2lhs6cxLdBCzFPbNQr6Qmj', '0Eq4BMgsdV6DkLSJfX8eBt', '3WMbD1OyfKuwWDWMNbPQ4g', '5KgbyD2lQQlIupAaPjgiXg', '3kEA66ZM9mCxwhynOxgsLh', '7EIETgqBk63OdvVyIFDNKx', '50f0mt35cIwwu3Krk7nS7b', '5UcQ2g3M6Hh9gR8RmhjP9N', '2zMJN9JvDlvGP4jB03l1Bz', '1UNP66Mr3sPB3ItYt5bEUe', '6ztstiyZL6FXzh4aG46ZPD', '6tYIQpc9rX2wTBtb9Rh37K', '6GNmMC3RoZ1WiilCcukXLW', '57Y3UccJEJqT8w8RWkUAz0', '7IQMKJNcppgahjNWVPmxkl', '4vYauy3ABO65vTXggGYaZg', '1CpDrx0Q7f2Wv3tBXDMt6z', '2xSXw1EqGSAKc1e4TPaQvV', '0lwHorTzvh8D4pQaWFYqnn', '6StJLSmuKWwIfia0EUROQk', '6TYPryzyiUkxMk7PlI8k9c', '5csdrJ0JtFn0qvwlvSh2EI', '37j56IWzpplKE5zrlQRmxc', '4Af8yzidDPc520TFd4TmkE', '6pMHMzwTsWIxLigr54GGVm', '72PoJMDfdaw9gGECgA9kTZ', '4TxBGpTxrNvRNhF39Dl3NQ', '6Llr9PVC1cirKUwu7Fle83', '3zYQ1KXzqBWRsxIqdVMoYF', '1ot6jEe4w4hYnsOPjd3xKQ', '1NQFeJQOvirHNJ4lp17XUZ', '15ySyt38mBi1v4xMLRfD25', '7tqhbajSfrz2F7E1Z75ASX', '7s25THrKz86DM225dOYwnr', '38DAUnVJ0zqOdRuW7RG3sl', '5GcDAsm0vgFWsrcL4kqK6k', '3qZHUZTQiTMfJXcUYzY5mT', '34b3a3Pz9Jlz0092LMyNAB', '300RfAPZ57B0y6YYj9n6DN', '3ClOMebBxeNTYCOfTH24YJ', '5uES1C2NgkdrNHiCwf9jRr', '714hERk9U1W8FMYkoC83CO', '1JQ6Xm1JrvHfvAqhl5pwaA', '1mCI3atQyw3r8rd0icztLR', '1it9umP1j9qSqzKbSLLqqy', '6RANU8AS5ICU5PEHh8BYtH', '5qo4PkfY1ncj3NGTHDaZQF', '22ff60cZy4APp7bzESHLR8', '4N3stlRuz5cBNI4J4vDJ18', '6K4t31amVTZDgR3sKmwUJJ', '3kLVvnXLbuQuu1sanJNDjf', '7gARZ2i5u5DHC1b1n1fML5', '0bXpmJyHHYPk6QBFj25bYF', '0yc6Gst2xkRu0eMLeRMGCX', '7w87IxuO7BDcJ3YUqCyMTT', '1Bz9S9TweSbkFeXM5NdtOC', '4JHg4nNYUJQ5HULcCmI18R', '1wgqttlPacpvmX5DKVboOa', '6vECYJHxYmm3Ydt3fF01pE', '6GyFP1nfCDB8lbD2bG0Hq9', '0d28khcov6AiegSCpG5TuT', '3Ty7OTBNSigGEpeW2PqcsC', '7d23MhPFE9eB3U8DPRirnL', '0iTpQYzJnYgh7kIxyq8A2O', '15Hb4YapPuC0iNGvez2PXE', '4iG2gAwKXsOcijVaVXzRPW', '7kcy8ctwafCfiUFuBcvxpp', '6bS7DqTuzrpkluB7boWmw2', '7w5cxTEzp1rfV3KCy0Bd5N', '4dyx5SzxPPaD8xQIid5Wjj', '3RRf5KNBCzK3uxWKRAC67q', '1mvyqSb1tOvtVP1qfWEyPa', '6QgjcU0zLnzq5OrUoSZ3OK', '295WZ1UJn67ZaiQMWrSkys', '70WyPf8WtXvG3CgeTZZWz6', '1NyFRrFiJAJIaR6icj1goI', '3dYD57lRAUcMHufyqn9GcI', '0V2SavjRuimH4TIbrKyyN0', '5RoIXwyTCdyUjpMMkk4uPd', '2KOvNaMJcuaYTciDe2TmCP', '2UWdUez9MB9yzL7Y81Mcip', '24jvD83UgLmrdGjhWTFslY', '2nvZv4qatgsDIbEqqbQLUT', '244AvzGQ4Ksa5637JQu5Gy', '6xVdHfNIcWB0Bzd1obzcwj', '12pdXFcruNcPUbZypKUDgz', '6ZEaDwf50SdJzHcVSQx0vL', '3g86N0SqyfxEVNMHlmW3RE', '4c9WmjVlQMr0s1IjbYO52Z', '2xbrMtkxp399aSiCJ8EAON', '4m8ttWM8IKXyhpv89E867J', '5rAff9XfcWx7rguN3t0fkW', '6L4fEE9awoUnSEy1bmQebb', '1jy7SkRcmBCTcv4ZMtwz29', '3VPp3qrfCioIbPmp7c7Con', '3ji1o94rKqulYA4I2eDKat', '4j4pPKE3xAblPIbhxScC1j', '7vRdcsmD92oErIQDnmp60e', '2fXKyAyPrEa24c6PJyqznF', '5fwSHlTEWpluwOM0Sxnh5k', '3c8iiZGfEammKJuWTErE5x', '6zSpb8dQRaw0M1dK8PBwQz', '4ofwffwvvnbSkrMSCKQDaC', '3Iba59sFmGhQ4kbCY5L8AX', '2Z8WuEywRWYTKe1NybPQEW', '0iVkWge9ytV4Scgy2hQ2za', '4Ljs6Dvpz7Arf9Ac8RN7tn', '5FqaXHqw79ILxvJUKvOzxc', '780be5fB7823aHG06mwTat', '0e8nrvls4Qqv5Rfa2UhqmO', '2vBET2pmrQqafaS6zIaYta', '5PjdY0CKGZdEuoNab3yDmX', '77sFlmQh56N5VSBMKX7e63', '0J07ya7WC09FaQADutoBRZ', '45PF1Y3RcW5MK0jxWvhc4D', '41rOnZXVg3cLacziEBgkpW', '1058fW9H3fZA6QjYCdOBad', '6PQ88X9TkUIAUIZJHW2upE', '1gOANd4qcnkftl869IOvBu', '6IPNp9PfaEqrzotY47TIWy', '5WHTFyqSii0lmT9R21abT8', '1OWLQ4FQrO13w6ssWgP8tk', '5tf1VVWniHgryyumXyJM7w', '3uUuGVFu1V7jTQL60S1r8z', '2YWjW3wwQIBLNhxWKBQd16', '6OGogr19zPTM4BALXuMQpF', '5dyDkXi1bnQKSyIdO0JXp8', '0xfMlIW8lS40qvpsUw1l0X', '2gam98EZKrF9XuOkU13ApN', '03SEp9sXkAOAgxJtSLuVEi', '4sOjKbpa7RLZVRNxcO26eb', '5itOtNx0WxtJmi1TQ3RuRd', '75MNhvTCCKsST3YqqUiU9r', '1kPpge9JDLpcj15qgrPbYX', '5UbJD3lat3SVDDBXmf8gLc', '03aENfSuuy3VS0sbgH7u1D', '6Uj1ctrBOjOas8xZXGqKk4', '0nrRP2bk19rLc0orkWPQk2', '0mV43B6pJWRjcM5TmzNe6d', '1XGmzt0PVuFgQYYnV2It7A', '4ZtFanR9U6ndgddUvNcjcG', '2S5LNtRVRPbXk01yRQ14sZ', '0KzCNeuMVGXbnMbjX6ilCU', '49FYlytm3dAAraYgpoJZux', '7cdy4PbCdDZZNjyxoZyE0c', '7vFoFDWqTX0mHzLfrF1Cfy', '6Dy1jexKYriXAVG6evyUTJ', '1qSQ8ivU7OPqFcEO1D99vU', '3vXnuFnC5RhPGwsFi0ORcI', '7FhcGzIb6BUapFSNVwxpCq', '3HLUrzmua2lTafzu3heQZV', '3mvMxWdTEy3sNZoRUNeris', '0bPKPZ6qlfwptPL6ta6t43', '3tJljA8IkRARbsFojNbwRl', '3Fg9sxDMmWwodqI678gIwX', '41xAUseykaaSdmry5hVOkV', '6WNVFXtZyFmfosAxvisgPL', '1ncaQAHCLAOjgnceZhqYt5', '5G7ub4dl5ABYB1fYlgCJ2i', '4xSRna7VTC2qN3INhdpYmD', '3hYClPLgnc4Eu5GIU87Kkk', '303oeyQJklQReUBrszN2j2', '0QIshyPSwHWvmA2jzs2LND', '0LHDyKHY7sZfc2YLMfiJBw', '7h7wrenhCbADpRK6ItHxI0', '7ayi6LtgxUK4057CF7MCJL', '1h7LWORFpHl8qTz8xXlVYN', '76Ef208V2nkxvbvs7pzKdA', '1rp1KboJQdhF8gRKdm3Alk', '6SLZaOxvjCJ6RnpbH8imwZ', '360Xv6Pn6ENVkFD7Hcfymf', '6w5FDbVTPCk582bYwQGbDN', '6KCVVAM5j4JukdJ8BpNVjv', '4D7PndWbd8MB96lDZF3te2', '2ZSFeJu61yIbsXG2KJbcGG', '1LqvKE7xaNbACFD8GbyT4l', '4kdzLRk1pX5kTLcgoDqaQ7', '5vBKODjjr4NVPqW0sNNvr0', '3RHMz6FpEF6SHoOlk831Nh', '0ndvphNmJuUDL6JLHhMiki', '2uB3uXWY1iwknxWQ5gD2g4', '2njmoIaPd0hKIlCFtyGHUZ', '6bAaEf97dH8fzQhLPiLacp', '4GjRmJWJmEHXgH0Qdbw6Os', '4HS5UK3JioFXvHLP14ydJB', '6SBDaSKJHFlDpaFKDn4Dy7', '6U6SpEY3xhXSw9A6l4WU1N', '4iNdMRQRQ0cMunOLCPnkXQ', '0OueLn8Bd2P2XU9aX1My4Z', '1ABDYmUKWYAY7FjGKOFLyU', '2Dh8f30wYZ97NWo2NL4e8c', '7hbIay5rEvtVH9iI40vQMG', '38TKubI8iddW5RZZq4znNx', '3yv4jovrvRsUXi8LxJBzip', '2N3ft2Plv5PXRYuOBVRoqq', '1yxX9H77a40Xn1AFCru6kD', '45nOY1My3YTbbO7lAxrIGm', '0Yr1TfeacyGFyDe0aWDla9', '2dI1vNXtxBDQzJqM6cxiY0', '3FeVmId7tL5YN8B7R3imoM', '0J07ya7WC09FaQADutoBRZ', '45PF1Y3RcW5MK0jxWvhc4D', '2gQPv5jvVPqU2a9HhMNO1v', '6ngjb2Je6gEjjVOOQpWSWG', '5CZ40GBx1sQ9agT82CLQCT', '2Xr1dTzJee307rmrkt8c0g', '7rglLriMNBPAyuJOMGwi39', '4sOjKbpa7RLZVRNxcO26eb', '149BxWeweaCqmsyedkNiiE', '07MDkzWARZaLEdKxo6yArG', '3DarAbFujv6eYNliUTyqtz', '6M3PsepEj5gyJoIi7Xvr7u', '3IM7zXywZ6sRTtkRjRLxJ8', '75MNhvTCCKsST3YqqUiU9r', '7zjEyeBsaw9gV0jofJLfOM', '6IPNp9PfaEqrzotY47TIWy', '1diS6nkxMQc3wwC4G1j0bh', '0iVkWge9ytV4Scgy2hQ2za', '4qu63nuBpdn0qHUHuObEj1', '6nRSyu4oOed8HgcVxV1cWl', '3USxtqRwSYz57Ewm6wWRMp', '24OeEKPQ8qqNZnPevRHxUT', '2JPLbjOn0wPCngEot2STUS', '0gplL1WMoJ6iYaPgMCL0gX', '71qB68guEJjbvtjlkZ8DF5', '6Uj1ctrBOjOas8xZXGqKk4', '5fwSHlTEWpluwOM0Sxnh5k', '1bwhDrXcAtqePp8mNJ0pTe', '1Cx3Lpnto8xJ5dsfU3DPus', '3uUuGVFu1V7jTQL60S1r8z', '00Blm7zeNqgYLPtW6zg8cj', '6PQ88X9TkUIAUIZJHW2upE', '3eJH2nAjvNXdmPfBkALiPZ', '0fQfJFfngYfG26560HLMLN', '1SC5rEoYDGUK4NfG82494W', '3vXnuFnC5RhPGwsFi0ORcI', '0z8hI3OPS8ADPWtoCjjLl6', '5HCyWlXZPP0y6Gqq8TgA20', '46nvQpUDsxpS08UTFOeKTA', '2gpWyfu7eZ01zzncHpxOtA', '4btFHqumCO31GksfuBLLv3', '1058fW9H3fZA6QjYCdOBad', '18XlJEroUwFo0tLZxscgXE', '08SB2OtZkaliju77WYEKxk', '6I3mqTwhRpn34SLVafSH7G', '0HLhptvI8NozbOHRLNniFz', '0e8nrvls4Qqv5Rfa2UhqmO', '6RBfz4bNLNzvt37HycN1Xf', '32BeYxKPrig1LefHsC0Xuo']\n"
     ]
    },
    {
     "name": "stderr",
     "output_type": "stream",
     "text": [
      "\n"
     ]
    }
   ],
   "source": [
    "tracks_id = []*n\n",
    "print(tracks_id)\n",
    "main_dict = {'name':[],'playlist':[]}\n",
    "\n",
    "for i in tqdm(range(n)):\n",
    "    playlist_x = playlist['playlists']['items'][i]\n",
    "    playlist_id = playlist_x['id']\n",
    "    playlist_name = playlist_x['name']\n",
    "    #print('\\n################')\n",
    "    print(playlist_name)\n",
    "    #print('################\\n')\n",
    "    pl_length = playlist_x['tracks']['total']\n",
    "    for j in range(pl_length):\n",
    "        #print(get_tracks_from_playlist_id()['items'][j]['track']['name'])\n",
    "        track_x = get_tracks_from_playlist_id(playlist_id)['items'][j]['track']\n",
    "        id = track_x['id']\n",
    "        name = track_x['name']\n",
    "        main_dict['name'].append(name)\n",
    "\n",
    "        main_dict['playlist'].append(playlist_name)\n",
    "\n",
    "        #print(id)\n",
    "        tracks_id.append(id)\n",
    "    #print(tracks_id)"
   ]
  },
  {
   "cell_type": "code",
   "execution_count": 45,
   "metadata": {},
   "outputs": [],
   "source": [
    "get_tracks_url = f'https://api.spotify.com/v1/playlists/'\n",
    "\n",
    "def get_tracks_from_playlist_id(playlist_id):\n",
    "    response = requests.get(\n",
    "           get_tracks_url+playlist_id+'/tracks',\n",
    "        headers={\n",
    "            \"Accept\": \"application/json\",\n",
    "            \"Content-Type\": \"application/json\",\n",
    "            \"Authorization\": f\"Bearer {featured_token}\"\n",
    "        },\n",
    "    )\n",
    "    json_resp = response.json()\n",
    "    \n",
    "    return json_resp"
   ]
  },
  {
   "cell_type": "code",
   "execution_count": 13,
   "metadata": {
    "scrolled": false
   },
   "outputs": [
    {
     "name": "stdout",
     "output_type": "stream",
     "text": [
      "Woke up in Bangkok\n",
      "Because You Move Me\n",
      "Keeps Me High\n",
      "Beautiful\n",
      "Not Gonna Sleep Alone\n",
      "Somebody to Hate\n",
      "End Of Nights\n",
      "She Said (Big Jet Plane)\n",
      "Missing U\n",
      "Tender love\n",
      "The Sun\n",
      "Your Light\n",
      "Walking Away\n",
      "Live Your Life\n",
      "Run Little House\n",
      "Waves\n",
      "Ani Kuni\n",
      "What A Wonderful World\n",
      "Real for Me\n",
      "Electric Feel\n",
      "Overflow - feat. Joel Stewart\n",
      "Nopalitos\n",
      "Fast Car\n",
      "Soul Phazed\n",
      "Night Trouble\n",
      "Wasted\n",
      "Tourment d'amour\n",
      "The Way It Is\n",
      "The Beach\n",
      "Should've Known\n",
      "Hit Me Up\n",
      "Seve - Radio Edit\n",
      "Feelings\n",
      "L.A.\n",
      "Be Happy\n",
      "Feeling\n",
      "We Are\n",
      "What To Do ?\n",
      "Breathe, Be Happy\n",
      "Easier\n",
      "Alright\n",
      "Alive\n",
      "Your Eyes\n",
      "Paradise\n",
      "Summertime\n",
      "Feels Like Summer\n",
      "Jungle\n",
      "Chasing Pavement\n",
      "Hey There Delilah\n",
      "Forever\n"
     ]
    }
   ],
   "source": [
    "for j in range(50):\n",
    "    print(get_tracks_from_playlist_id(playlist_id)['items'][j]['track']['name'])"
   ]
  },
  {
   "cell_type": "code",
   "execution_count": 74,
   "metadata": {},
   "outputs": [],
   "source": [
    "get_tracks_features_url = 'https://api.spotify.com/v1/audio-features'\n",
    "\n",
    "def get_tracks_features(ids):\n",
    "    print(ids)\n",
    "    tot_ids = '%'.join(el for el in ids)\n",
    "    print(tot_ids)\n",
    "    print(get_tracks_features_url+'?ids='+tot_ids)\n",
    "    response = requests.get(\n",
    "           get_tracks_features_url+'?ids='+tot_ids,\n",
    "        headers={\n",
    "            \"Accept\": \"application/json\",\n",
    "            \"Content-Type\": \"application/json\",\n",
    "            \"Authorization\": f\"Bearer {featured_token}\"\n",
    "        },\n",
    "    )\n",
    "    json_resp = response.json()\n",
    "    \n",
    "    return json_resp"
   ]
  },
  {
   "cell_type": "code",
   "execution_count": 79,
   "metadata": {
    "scrolled": true
   },
   "outputs": [
    {
     "name": "stderr",
     "output_type": "stream",
     "text": [
      "\r",
      "  0%|                                                                                          | 0/574 [00:00<?, ?it/s]"
     ]
    },
    {
     "name": "stdout",
     "output_type": "stream",
     "text": [
      "['00Blm7zeNqgYLPtW6zg8cj']\n",
      "00Blm7zeNqgYLPtW6zg8cj\n",
      "https://api.spotify.com/v1/audio-features?ids=00Blm7zeNqgYLPtW6zg8cj\n"
     ]
    },
    {
     "name": "stderr",
     "output_type": "stream",
     "text": [
      "  0%|▎                                                                                 | 2/574 [00:00<01:51,  5.14it/s]"
     ]
    },
    {
     "name": "stdout",
     "output_type": "stream",
     "text": [
      "['2O9enJqAqs46tfBlGhLsnW']\n",
      "2O9enJqAqs46tfBlGhLsnW\n",
      "https://api.spotify.com/v1/audio-features?ids=2O9enJqAqs46tfBlGhLsnW\n"
     ]
    },
    {
     "name": "stderr",
     "output_type": "stream",
     "text": [
      "\r",
      "  1%|▍                                                                                 | 3/574 [00:00<01:52,  5.09it/s]"
     ]
    },
    {
     "name": "stdout",
     "output_type": "stream",
     "text": [
      "['2JvWoj5bTklsb6fPzRfZ3x']\n",
      "2JvWoj5bTklsb6fPzRfZ3x\n",
      "https://api.spotify.com/v1/audio-features?ids=2JvWoj5bTklsb6fPzRfZ3x\n"
     ]
    },
    {
     "name": "stderr",
     "output_type": "stream",
     "text": [
      "\r",
      "  1%|▌                                                                                 | 4/574 [00:00<01:50,  5.16it/s]"
     ]
    },
    {
     "name": "stdout",
     "output_type": "stream",
     "text": [
      "['4R67rQNSbbsR4TdUVOIdez']\n",
      "4R67rQNSbbsR4TdUVOIdez\n",
      "https://api.spotify.com/v1/audio-features?ids=4R67rQNSbbsR4TdUVOIdez\n"
     ]
    },
    {
     "name": "stderr",
     "output_type": "stream",
     "text": [
      "\r",
      "  1%|▋                                                                                 | 5/574 [00:00<01:45,  5.42it/s]"
     ]
    },
    {
     "name": "stdout",
     "output_type": "stream",
     "text": [
      "['4iN16F8JtVxG2UTzp3avGl']\n",
      "4iN16F8JtVxG2UTzp3avGl\n",
      "https://api.spotify.com/v1/audio-features?ids=4iN16F8JtVxG2UTzp3avGl\n",
      "['2QEtf4oCeJrfDeqf8rJiQK']\n",
      "2QEtf4oCeJrfDeqf8rJiQK\n",
      "https://api.spotify.com/v1/audio-features?ids=2QEtf4oCeJrfDeqf8rJiQK\n"
     ]
    },
    {
     "name": "stderr",
     "output_type": "stream",
     "text": [
      "  1%|█                                                                                 | 7/574 [00:01<01:43,  5.49it/s]"
     ]
    },
    {
     "name": "stdout",
     "output_type": "stream",
     "text": [
      "['08SB2OtZkaliju77WYEKxk']\n",
      "08SB2OtZkaliju77WYEKxk\n",
      "https://api.spotify.com/v1/audio-features?ids=08SB2OtZkaliju77WYEKxk\n"
     ]
    },
    {
     "name": "stderr",
     "output_type": "stream",
     "text": [
      "\r",
      "  1%|█▏                                                                                | 8/574 [00:01<01:40,  5.61it/s]"
     ]
    },
    {
     "name": "stdout",
     "output_type": "stream",
     "text": [
      "['4H1CfsnXQonWnJeHzHuVUz']\n",
      "4H1CfsnXQonWnJeHzHuVUz\n",
      "https://api.spotify.com/v1/audio-features?ids=4H1CfsnXQonWnJeHzHuVUz\n",
      "['18asYwWugKjjsihZ0YvRxO']\n",
      "18asYwWugKjjsihZ0YvRxO\n",
      "https://api.spotify.com/v1/audio-features?ids=18asYwWugKjjsihZ0YvRxO\n"
     ]
    },
    {
     "name": "stderr",
     "output_type": "stream",
     "text": [
      "  2%|█▍                                                                               | 10/574 [00:01<01:38,  5.74it/s]"
     ]
    },
    {
     "name": "stdout",
     "output_type": "stream",
     "text": [
      "['4SRkixF643LgySLh8owTkJ']\n",
      "4SRkixF643LgySLh8owTkJ\n",
      "https://api.spotify.com/v1/audio-features?ids=4SRkixF643LgySLh8owTkJ\n",
      "['4MDDOpA7BwGDjYclTmCTVw']\n",
      "4MDDOpA7BwGDjYclTmCTVw\n",
      "https://api.spotify.com/v1/audio-features?ids=4MDDOpA7BwGDjYclTmCTVw\n"
     ]
    },
    {
     "name": "stderr",
     "output_type": "stream",
     "text": [
      "  2%|█▋                                                                               | 12/574 [00:02<01:37,  5.76it/s]"
     ]
    },
    {
     "name": "stdout",
     "output_type": "stream",
     "text": [
      "['19ZBncpk43fACvzKeqZIib']\n",
      "19ZBncpk43fACvzKeqZIib\n",
      "https://api.spotify.com/v1/audio-features?ids=19ZBncpk43fACvzKeqZIib\n",
      "['38XLUjlR84JEwK0SOvX77a']\n",
      "38XLUjlR84JEwK0SOvX77a\n",
      "https://api.spotify.com/v1/audio-features?ids=38XLUjlR84JEwK0SOvX77a\n"
     ]
    },
    {
     "name": "stderr",
     "output_type": "stream",
     "text": [
      "  2%|█▉                                                                               | 14/574 [00:02<01:33,  5.96it/s]"
     ]
    },
    {
     "name": "stdout",
     "output_type": "stream",
     "text": [
      "['2u2gafIeAP55EjXhU768Zo']\n",
      "2u2gafIeAP55EjXhU768Zo\n",
      "https://api.spotify.com/v1/audio-features?ids=2u2gafIeAP55EjXhU768Zo\n",
      "['4fcbxnnfUycb7fJAInJOob']\n",
      "4fcbxnnfUycb7fJAInJOob\n",
      "https://api.spotify.com/v1/audio-features?ids=4fcbxnnfUycb7fJAInJOob\n"
     ]
    },
    {
     "name": "stderr",
     "output_type": "stream",
     "text": [
      "  3%|██▎                                                                              | 16/574 [00:02<01:36,  5.79it/s]"
     ]
    },
    {
     "name": "stdout",
     "output_type": "stream",
     "text": [
      "['188rKyWMsC4WsKKZ85lnUO']\n",
      "188rKyWMsC4WsKKZ85lnUO\n",
      "https://api.spotify.com/v1/audio-features?ids=188rKyWMsC4WsKKZ85lnUO\n",
      "['1544oKxSzETEcBpOKdf3de']\n",
      "1544oKxSzETEcBpOKdf3de\n",
      "https://api.spotify.com/v1/audio-features?ids=1544oKxSzETEcBpOKdf3de\n"
     ]
    },
    {
     "name": "stderr",
     "output_type": "stream",
     "text": [
      "  3%|██▌                                                                              | 18/574 [00:03<01:35,  5.82it/s]"
     ]
    },
    {
     "name": "stdout",
     "output_type": "stream",
     "text": [
      "['2lZrHFgxAdZrL0j8JvYhkc']\n",
      "2lZrHFgxAdZrL0j8JvYhkc\n",
      "https://api.spotify.com/v1/audio-features?ids=2lZrHFgxAdZrL0j8JvYhkc\n",
      "['3RZauEkvORMeP06npyaIYa']\n",
      "3RZauEkvORMeP06npyaIYa\n",
      "https://api.spotify.com/v1/audio-features?ids=3RZauEkvORMeP06npyaIYa\n"
     ]
    },
    {
     "name": "stderr",
     "output_type": "stream",
     "text": [
      "  3%|██▊                                                                              | 20/574 [00:03<01:32,  6.01it/s]"
     ]
    },
    {
     "name": "stdout",
     "output_type": "stream",
     "text": [
      "['6RT5ir7all6RgZEAupLNlO']\n",
      "6RT5ir7all6RgZEAupLNlO\n",
      "https://api.spotify.com/v1/audio-features?ids=6RT5ir7all6RgZEAupLNlO\n",
      "['2j1Os2WNkwb6KJvaiHFdUl']\n",
      "2j1Os2WNkwb6KJvaiHFdUl\n",
      "https://api.spotify.com/v1/audio-features?ids=2j1Os2WNkwb6KJvaiHFdUl\n"
     ]
    },
    {
     "name": "stderr",
     "output_type": "stream",
     "text": [
      "  4%|███                                                                              | 22/574 [00:03<01:33,  5.92it/s]"
     ]
    },
    {
     "name": "stdout",
     "output_type": "stream",
     "text": [
      "['280MV4FuB5uusjx8wj1dpt']\n",
      "280MV4FuB5uusjx8wj1dpt\n",
      "https://api.spotify.com/v1/audio-features?ids=280MV4FuB5uusjx8wj1dpt\n",
      "['5YkXkfXWTE1pk6l2m78JnH']\n",
      "5YkXkfXWTE1pk6l2m78JnH\n",
      "https://api.spotify.com/v1/audio-features?ids=5YkXkfXWTE1pk6l2m78JnH\n"
     ]
    },
    {
     "name": "stderr",
     "output_type": "stream",
     "text": [
      "  4%|███▍                                                                             | 24/574 [00:04<01:35,  5.79it/s]"
     ]
    },
    {
     "name": "stdout",
     "output_type": "stream",
     "text": [
      "['0FiwMxsaV8SNBnjmZkHHra']\n",
      "0FiwMxsaV8SNBnjmZkHHra\n",
      "https://api.spotify.com/v1/audio-features?ids=0FiwMxsaV8SNBnjmZkHHra\n"
     ]
    },
    {
     "name": "stderr",
     "output_type": "stream",
     "text": [
      "\r",
      "  4%|███▌                                                                             | 25/574 [00:04<01:39,  5.50it/s]"
     ]
    },
    {
     "name": "stdout",
     "output_type": "stream",
     "text": [
      "['1mrGEef8GuaEnDdw8J5BQp']\n",
      "1mrGEef8GuaEnDdw8J5BQp\n",
      "https://api.spotify.com/v1/audio-features?ids=1mrGEef8GuaEnDdw8J5BQp\n"
     ]
    },
    {
     "name": "stderr",
     "output_type": "stream",
     "text": [
      "\r",
      "  5%|███▋                                                                             | 26/574 [00:04<01:36,  5.67it/s]"
     ]
    },
    {
     "name": "stdout",
     "output_type": "stream",
     "text": [
      "['4xD3DFKtDy9JkOOxcsTy3r']\n",
      "4xD3DFKtDy9JkOOxcsTy3r\n",
      "https://api.spotify.com/v1/audio-features?ids=4xD3DFKtDy9JkOOxcsTy3r\n",
      "['1hkOuEeJQtDxHKBD8gJTBx']\n",
      "1hkOuEeJQtDxHKBD8gJTBx\n",
      "https://api.spotify.com/v1/audio-features?ids=1hkOuEeJQtDxHKBD8gJTBx\n"
     ]
    },
    {
     "name": "stderr",
     "output_type": "stream",
     "text": [
      "  5%|███▉                                                                             | 28/574 [00:04<01:38,  5.54it/s]"
     ]
    },
    {
     "name": "stdout",
     "output_type": "stream",
     "text": [
      "['1RBIzko2PMY5CP0d3MIkwl']\n",
      "1RBIzko2PMY5CP0d3MIkwl\n",
      "https://api.spotify.com/v1/audio-features?ids=1RBIzko2PMY5CP0d3MIkwl\n"
     ]
    },
    {
     "name": "stderr",
     "output_type": "stream",
     "text": [
      "\r",
      "  5%|████                                                                             | 29/574 [00:05<01:38,  5.51it/s]"
     ]
    },
    {
     "name": "stdout",
     "output_type": "stream",
     "text": [
      "['3YZdPvENFPytMyrnkRWm1B']\n",
      "3YZdPvENFPytMyrnkRWm1B\n",
      "https://api.spotify.com/v1/audio-features?ids=3YZdPvENFPytMyrnkRWm1B\n"
     ]
    },
    {
     "name": "stderr",
     "output_type": "stream",
     "text": [
      "\r",
      "  5%|████▏                                                                            | 30/574 [00:05<01:36,  5.64it/s]"
     ]
    },
    {
     "name": "stdout",
     "output_type": "stream",
     "text": [
      "['2BzAGK3lEZAQz5cU0Ae1wd']\n",
      "2BzAGK3lEZAQz5cU0Ae1wd\n",
      "https://api.spotify.com/v1/audio-features?ids=2BzAGK3lEZAQz5cU0Ae1wd\n",
      "['2N9fGz3nPXci2w80p1lQIW']\n",
      "2N9fGz3nPXci2w80p1lQIW\n",
      "https://api.spotify.com/v1/audio-features?ids=2N9fGz3nPXci2w80p1lQIW\n"
     ]
    },
    {
     "name": "stderr",
     "output_type": "stream",
     "text": [
      "\r",
      "  5%|████▎                                                                            | 31/574 [00:05<01:32,  5.86it/s]"
     ]
    },
    {
     "name": "stdout",
     "output_type": "stream",
     "text": [
      "['2LnsEYFfPwk6ueO2OCBNLA']\n",
      "2LnsEYFfPwk6ueO2OCBNLA\n",
      "https://api.spotify.com/v1/audio-features?ids=2LnsEYFfPwk6ueO2OCBNLA\n"
     ]
    },
    {
     "name": "stderr",
     "output_type": "stream",
     "text": [
      "  6%|████▋                                                                            | 33/574 [00:05<01:38,  5.47it/s]"
     ]
    },
    {
     "name": "stdout",
     "output_type": "stream",
     "text": [
      "['1wAPbQ5XjbZqPl0WDl5mHH']\n",
      "1wAPbQ5XjbZqPl0WDl5mHH\n",
      "https://api.spotify.com/v1/audio-features?ids=1wAPbQ5XjbZqPl0WDl5mHH\n"
     ]
    },
    {
     "name": "stderr",
     "output_type": "stream",
     "text": [
      "\r",
      "  6%|████▊                                                                            | 34/574 [00:06<01:38,  5.49it/s]"
     ]
    },
    {
     "name": "stdout",
     "output_type": "stream",
     "text": [
      "['1pY5rVjr4BqQlJMx3S7Mmf']\n",
      "1pY5rVjr4BqQlJMx3S7Mmf\n",
      "https://api.spotify.com/v1/audio-features?ids=1pY5rVjr4BqQlJMx3S7Mmf\n"
     ]
    },
    {
     "name": "stderr",
     "output_type": "stream",
     "text": [
      "\r",
      "  6%|████▉                                                                            | 35/574 [00:06<01:37,  5.53it/s]"
     ]
    },
    {
     "name": "stdout",
     "output_type": "stream",
     "text": [
      "['1KCXEsHxKDq72C70fyM0vq']\n",
      "1KCXEsHxKDq72C70fyM0vq\n",
      "https://api.spotify.com/v1/audio-features?ids=1KCXEsHxKDq72C70fyM0vq\n",
      "['77fRc8iT858bzRdcR4k8T8']\n",
      "77fRc8iT858bzRdcR4k8T8\n",
      "https://api.spotify.com/v1/audio-features?ids=77fRc8iT858bzRdcR4k8T8\n"
     ]
    },
    {
     "name": "stderr",
     "output_type": "stream",
     "text": [
      "\r",
      "  6%|█████                                                                            | 36/574 [00:06<01:35,  5.63it/s]"
     ]
    },
    {
     "name": "stdout",
     "output_type": "stream",
     "text": [
      "['0CiJazqgaY4QhTNB66xfzm']\n",
      "0CiJazqgaY4QhTNB66xfzm\n",
      "https://api.spotify.com/v1/audio-features?ids=0CiJazqgaY4QhTNB66xfzm\n"
     ]
    },
    {
     "name": "stderr",
     "output_type": "stream",
     "text": [
      "  7%|█████▎                                                                           | 38/574 [00:06<01:41,  5.29it/s]"
     ]
    },
    {
     "name": "stdout",
     "output_type": "stream",
     "text": [
      "['6cBvcf3JEn3NjIvaqkHkn0']\n",
      "6cBvcf3JEn3NjIvaqkHkn0\n",
      "https://api.spotify.com/v1/audio-features?ids=6cBvcf3JEn3NjIvaqkHkn0\n",
      "['46PGzHQRAFjuVXB6fKRmDZ']\n",
      "46PGzHQRAFjuVXB6fKRmDZ\n",
      "https://api.spotify.com/v1/audio-features?ids=46PGzHQRAFjuVXB6fKRmDZ\n"
     ]
    },
    {
     "name": "stderr",
     "output_type": "stream",
     "text": [
      "  7%|█████▋                                                                           | 40/574 [00:07<01:40,  5.32it/s]"
     ]
    },
    {
     "name": "stdout",
     "output_type": "stream",
     "text": [
      "['1MCvAAKHSdGhe4ZPq0YMrF']\n",
      "1MCvAAKHSdGhe4ZPq0YMrF\n",
      "https://api.spotify.com/v1/audio-features?ids=1MCvAAKHSdGhe4ZPq0YMrF\n"
     ]
    },
    {
     "name": "stderr",
     "output_type": "stream",
     "text": [
      "\r",
      "  7%|█████▊                                                                           | 41/574 [00:07<01:39,  5.38it/s]"
     ]
    },
    {
     "name": "stdout",
     "output_type": "stream",
     "text": [
      "['7fdqKCfTKNv1UNwmCYHUpu']\n",
      "7fdqKCfTKNv1UNwmCYHUpu\n",
      "https://api.spotify.com/v1/audio-features?ids=7fdqKCfTKNv1UNwmCYHUpu\n",
      "['6sb1CGojNdNMiToRfSNwzY']\n",
      "6sb1CGojNdNMiToRfSNwzY\n",
      "https://api.spotify.com/v1/audio-features?ids=6sb1CGojNdNMiToRfSNwzY\n"
     ]
    },
    {
     "name": "stderr",
     "output_type": "stream",
     "text": [
      "  7%|██████                                                                           | 43/574 [00:07<01:39,  5.33it/s]"
     ]
    },
    {
     "name": "stdout",
     "output_type": "stream",
     "text": [
      "['5dXIrAUNLOcN2mYkCSeO3k']\n",
      "5dXIrAUNLOcN2mYkCSeO3k\n",
      "https://api.spotify.com/v1/audio-features?ids=5dXIrAUNLOcN2mYkCSeO3k\n"
     ]
    },
    {
     "name": "stderr",
     "output_type": "stream",
     "text": [
      "\r",
      "  8%|██████▏                                                                          | 44/574 [00:07<01:35,  5.54it/s]"
     ]
    },
    {
     "name": "stdout",
     "output_type": "stream",
     "text": [
      "['38qCAgXW23GmzHG5bWhPzg']\n",
      "38qCAgXW23GmzHG5bWhPzg\n",
      "https://api.spotify.com/v1/audio-features?ids=38qCAgXW23GmzHG5bWhPzg\n",
      "['0yPlsLJNceFwpgEiYMe0tv']\n",
      "0yPlsLJNceFwpgEiYMe0tv\n",
      "https://api.spotify.com/v1/audio-features?ids=0yPlsLJNceFwpgEiYMe0tv\n"
     ]
    },
    {
     "name": "stderr",
     "output_type": "stream",
     "text": [
      "  8%|██████▍                                                                          | 46/574 [00:08<01:37,  5.44it/s]"
     ]
    },
    {
     "name": "stdout",
     "output_type": "stream",
     "text": [
      "['05nKsnLJGrsDwQIXAExTQt']\n",
      "05nKsnLJGrsDwQIXAExTQt\n",
      "https://api.spotify.com/v1/audio-features?ids=05nKsnLJGrsDwQIXAExTQt\n",
      "['1kjixr3Tv9ku0HmXrDqWNH']\n",
      "1kjixr3Tv9ku0HmXrDqWNH\n",
      "https://api.spotify.com/v1/audio-features?ids=1kjixr3Tv9ku0HmXrDqWNH\n"
     ]
    },
    {
     "name": "stderr",
     "output_type": "stream",
     "text": [
      "\r",
      "  8%|██████▋                                                                          | 47/574 [00:08<01:37,  5.40it/s]"
     ]
    },
    {
     "name": "stdout",
     "output_type": "stream",
     "text": [
      "['7GTlrFi1WMmZyLEUlRTihW']\n",
      "7GTlrFi1WMmZyLEUlRTihW\n",
      "https://api.spotify.com/v1/audio-features?ids=7GTlrFi1WMmZyLEUlRTihW\n"
     ]
    },
    {
     "name": "stderr",
     "output_type": "stream",
     "text": [
      "  9%|██████▉                                                                          | 49/574 [00:08<01:42,  5.11it/s]"
     ]
    },
    {
     "name": "stdout",
     "output_type": "stream",
     "text": [
      "['6P5yJhVBhB0nV27SXhwTZc']\n",
      "6P5yJhVBhB0nV27SXhwTZc\n",
      "https://api.spotify.com/v1/audio-features?ids=6P5yJhVBhB0nV27SXhwTZc\n"
     ]
    },
    {
     "name": "stderr",
     "output_type": "stream",
     "text": [
      "\r",
      "  9%|███████                                                                          | 50/574 [00:09<01:39,  5.28it/s]"
     ]
    },
    {
     "name": "stdout",
     "output_type": "stream",
     "text": [
      "['6v2ezoIqtD8UKjaQhqde6r']\n",
      "6v2ezoIqtD8UKjaQhqde6r\n",
      "https://api.spotify.com/v1/audio-features?ids=6v2ezoIqtD8UKjaQhqde6r\n",
      "['6fSRCnfSfTBCbgoa6Nwhim']\n",
      "6fSRCnfSfTBCbgoa6Nwhim\n",
      "https://api.spotify.com/v1/audio-features?ids=6fSRCnfSfTBCbgoa6Nwhim\n"
     ]
    },
    {
     "name": "stderr",
     "output_type": "stream",
     "text": [
      "\r",
      "  9%|███████▏                                                                         | 51/574 [00:09<01:35,  5.50it/s]"
     ]
    },
    {
     "name": "stdout",
     "output_type": "stream",
     "text": [
      "['4SEiKLEcOsLEtvU53N6bex']\n",
      "4SEiKLEcOsLEtvU53N6bex\n",
      "https://api.spotify.com/v1/audio-features?ids=4SEiKLEcOsLEtvU53N6bex\n"
     ]
    },
    {
     "name": "stderr",
     "output_type": "stream",
     "text": [
      "\r",
      "  9%|███████▎                                                                         | 52/574 [00:09<01:43,  5.06it/s]"
     ]
    },
    {
     "name": "stdout",
     "output_type": "stream",
     "text": [
      "['70f71uZ7egz2Vshwx4D425']\n",
      "70f71uZ7egz2Vshwx4D425\n",
      "https://api.spotify.com/v1/audio-features?ids=70f71uZ7egz2Vshwx4D425\n"
     ]
    },
    {
     "name": "stderr",
     "output_type": "stream",
     "text": [
      "\r",
      "  9%|███████▍                                                                         | 53/574 [00:09<01:45,  4.92it/s]"
     ]
    },
    {
     "name": "stdout",
     "output_type": "stream",
     "text": [
      "['7MwUFO1Av7sEOCUa1ULmwa']\n",
      "7MwUFO1Av7sEOCUa1ULmwa\n",
      "https://api.spotify.com/v1/audio-features?ids=7MwUFO1Av7sEOCUa1ULmwa\n"
     ]
    },
    {
     "name": "stderr",
     "output_type": "stream",
     "text": [
      " 10%|███████▊                                                                         | 55/574 [00:10<01:44,  4.97it/s]"
     ]
    },
    {
     "name": "stdout",
     "output_type": "stream",
     "text": [
      "['6miahXSZE01l2lNDqNCfxQ']\n",
      "6miahXSZE01l2lNDqNCfxQ\n",
      "https://api.spotify.com/v1/audio-features?ids=6miahXSZE01l2lNDqNCfxQ\n",
      "['3Kp4DMEXVilurnN1PBvHui']\n",
      "3Kp4DMEXVilurnN1PBvHui\n",
      "https://api.spotify.com/v1/audio-features?ids=3Kp4DMEXVilurnN1PBvHui\n"
     ]
    },
    {
     "name": "stderr",
     "output_type": "stream",
     "text": [
      " 10%|████████                                                                         | 57/574 [00:10<01:40,  5.12it/s]"
     ]
    },
    {
     "name": "stdout",
     "output_type": "stream",
     "text": [
      "['2aDuY0WsvDlIs5KczrYFid']\n",
      "2aDuY0WsvDlIs5KczrYFid\n",
      "https://api.spotify.com/v1/audio-features?ids=2aDuY0WsvDlIs5KczrYFid\n",
      "['7onHzHeOVE3M9p0tNKQbXc']\n",
      "7onHzHeOVE3M9p0tNKQbXc\n",
      "https://api.spotify.com/v1/audio-features?ids=7onHzHeOVE3M9p0tNKQbXc\n"
     ]
    },
    {
     "name": "stderr",
     "output_type": "stream",
     "text": [
      " 10%|████████▎                                                                        | 59/574 [00:10<01:41,  5.06it/s]"
     ]
    },
    {
     "name": "stdout",
     "output_type": "stream",
     "text": [
      "['7pIoByp3uzkV6saBAHfG2c']\n",
      "7pIoByp3uzkV6saBAHfG2c\n",
      "https://api.spotify.com/v1/audio-features?ids=7pIoByp3uzkV6saBAHfG2c\n",
      "['0PzcMfqECraaBGxX7zr7wV']\n",
      "0PzcMfqECraaBGxX7zr7wV\n",
      "https://api.spotify.com/v1/audio-features?ids=0PzcMfqECraaBGxX7zr7wV\n"
     ]
    },
    {
     "name": "stderr",
     "output_type": "stream",
     "text": [
      "\r",
      " 10%|████████▍                                                                        | 60/574 [00:11<01:44,  4.91it/s]"
     ]
    },
    {
     "name": "stdout",
     "output_type": "stream",
     "text": [
      "['12e5rUktNoga7mdtziCw33']\n",
      "12e5rUktNoga7mdtziCw33\n",
      "https://api.spotify.com/v1/audio-features?ids=12e5rUktNoga7mdtziCw33\n"
     ]
    },
    {
     "name": "stderr",
     "output_type": "stream",
     "text": [
      "\r",
      " 11%|████████▌                                                                        | 61/574 [00:11<01:48,  4.75it/s]"
     ]
    },
    {
     "name": "stdout",
     "output_type": "stream",
     "text": [
      "['46OKHucGhjhskazqD8tKnH']\n",
      "46OKHucGhjhskazqD8tKnH\n",
      "https://api.spotify.com/v1/audio-features?ids=46OKHucGhjhskazqD8tKnH\n"
     ]
    },
    {
     "name": "stderr",
     "output_type": "stream",
     "text": [
      " 11%|████████▉                                                                        | 63/574 [00:11<01:47,  4.74it/s]"
     ]
    },
    {
     "name": "stdout",
     "output_type": "stream",
     "text": [
      "['0B8U71SDP0h9FF6xSZqftH']\n",
      "0B8U71SDP0h9FF6xSZqftH\n",
      "https://api.spotify.com/v1/audio-features?ids=0B8U71SDP0h9FF6xSZqftH\n"
     ]
    },
    {
     "name": "stderr",
     "output_type": "stream",
     "text": [
      "\r",
      " 11%|█████████                                                                        | 64/574 [00:11<01:42,  5.00it/s]"
     ]
    },
    {
     "name": "stdout",
     "output_type": "stream",
     "text": [
      "['6sjLKQtx6CbICWREw5tDPY']\n",
      "6sjLKQtx6CbICWREw5tDPY\n",
      "https://api.spotify.com/v1/audio-features?ids=6sjLKQtx6CbICWREw5tDPY\n",
      "['0mPh3y1fgrZiWlhuNmPq5Y']\n",
      "0mPh3y1fgrZiWlhuNmPq5Y\n",
      "https://api.spotify.com/v1/audio-features?ids=0mPh3y1fgrZiWlhuNmPq5Y\n"
     ]
    },
    {
     "name": "stderr",
     "output_type": "stream",
     "text": [
      "\r",
      " 11%|█████████▏                                                                       | 65/574 [00:12<01:42,  4.98it/s]"
     ]
    },
    {
     "name": "stdout",
     "output_type": "stream",
     "text": [
      "['3fRK9qG08iZyWvqjOWkdKc']\n",
      "3fRK9qG08iZyWvqjOWkdKc\n",
      "https://api.spotify.com/v1/audio-features?ids=3fRK9qG08iZyWvqjOWkdKc\n"
     ]
    },
    {
     "name": "stderr",
     "output_type": "stream",
     "text": [
      " 12%|█████████▍                                                                       | 67/574 [00:12<01:42,  4.92it/s]"
     ]
    },
    {
     "name": "stdout",
     "output_type": "stream",
     "text": [
      "['7ytFo4I2OsaiGRhYdFGoQW']\n",
      "7ytFo4I2OsaiGRhYdFGoQW\n",
      "https://api.spotify.com/v1/audio-features?ids=7ytFo4I2OsaiGRhYdFGoQW\n"
     ]
    },
    {
     "name": "stderr",
     "output_type": "stream",
     "text": [
      "\r",
      " 12%|█████████▌                                                                       | 68/574 [00:12<01:41,  4.99it/s]"
     ]
    },
    {
     "name": "stdout",
     "output_type": "stream",
     "text": [
      "['3LBp0NzDmMXfbDbBlWD3vO']\n",
      "3LBp0NzDmMXfbDbBlWD3vO\n",
      "https://api.spotify.com/v1/audio-features?ids=3LBp0NzDmMXfbDbBlWD3vO\n"
     ]
    },
    {
     "name": "stderr",
     "output_type": "stream",
     "text": [
      "\r",
      " 12%|█████████▋                                                                       | 69/574 [00:12<01:39,  5.06it/s]"
     ]
    },
    {
     "name": "stdout",
     "output_type": "stream",
     "text": [
      "['1FOcJ48XhC9gBMyONLB2Cr']\n",
      "1FOcJ48XhC9gBMyONLB2Cr\n",
      "https://api.spotify.com/v1/audio-features?ids=1FOcJ48XhC9gBMyONLB2Cr\n",
      "['5B6u8ImBwp0lKZXCH0tbx8']\n",
      "5B6u8ImBwp0lKZXCH0tbx8\n",
      "https://api.spotify.com/v1/audio-features?ids=5B6u8ImBwp0lKZXCH0tbx8\n"
     ]
    },
    {
     "name": "stderr",
     "output_type": "stream",
     "text": [
      " 12%|██████████                                                                       | 71/574 [00:13<01:44,  4.82it/s]"
     ]
    },
    {
     "name": "stdout",
     "output_type": "stream",
     "text": [
      "['7CtRS8xbsxUnT2ZA7uowqD']\n",
      "7CtRS8xbsxUnT2ZA7uowqD\n",
      "https://api.spotify.com/v1/audio-features?ids=7CtRS8xbsxUnT2ZA7uowqD\n"
     ]
    },
    {
     "name": "stderr",
     "output_type": "stream",
     "text": [
      "\r",
      " 13%|██████████▏                                                                      | 72/574 [00:13<01:39,  5.06it/s]"
     ]
    },
    {
     "name": "stdout",
     "output_type": "stream",
     "text": [
      "['5Cfh8D9E3CFEVj0LGjf9wU']\n",
      "5Cfh8D9E3CFEVj0LGjf9wU\n",
      "https://api.spotify.com/v1/audio-features?ids=5Cfh8D9E3CFEVj0LGjf9wU\n",
      "['5oBUlWZcYKuYuuSsDeNQR7']\n",
      "5oBUlWZcYKuYuuSsDeNQR7\n",
      "https://api.spotify.com/v1/audio-features?ids=5oBUlWZcYKuYuuSsDeNQR7\n"
     ]
    },
    {
     "name": "stderr",
     "output_type": "stream",
     "text": [
      " 13%|██████████▍                                                                      | 74/574 [00:13<01:36,  5.16it/s]"
     ]
    },
    {
     "name": "stdout",
     "output_type": "stream",
     "text": [
      "['0Q3DprZOlvkOWlC3pmr5Mx']\n",
      "0Q3DprZOlvkOWlC3pmr5Mx\n",
      "https://api.spotify.com/v1/audio-features?ids=0Q3DprZOlvkOWlC3pmr5Mx\n"
     ]
    },
    {
     "name": "stderr",
     "output_type": "stream",
     "text": [
      "\r",
      " 13%|██████████▌                                                                      | 75/574 [00:14<01:33,  5.31it/s]"
     ]
    },
    {
     "name": "stdout",
     "output_type": "stream",
     "text": [
      "['1mS7CcE30VDxZAJOtgeIjA']\n",
      "1mS7CcE30VDxZAJOtgeIjA\n",
      "https://api.spotify.com/v1/audio-features?ids=1mS7CcE30VDxZAJOtgeIjA\n",
      "['2O9enJqAqs46tfBlGhLsnW']\n",
      "2O9enJqAqs46tfBlGhLsnW\n",
      "https://api.spotify.com/v1/audio-features?ids=2O9enJqAqs46tfBlGhLsnW\n"
     ]
    },
    {
     "name": "stderr",
     "output_type": "stream",
     "text": [
      " 13%|██████████▊                                                                      | 77/574 [00:14<01:32,  5.38it/s]"
     ]
    },
    {
     "name": "stdout",
     "output_type": "stream",
     "text": [
      "['2s1lS0DxcxTB8Y6oFgVKqW']\n",
      "2s1lS0DxcxTB8Y6oFgVKqW\n",
      "https://api.spotify.com/v1/audio-features?ids=2s1lS0DxcxTB8Y6oFgVKqW\n"
     ]
    },
    {
     "name": "stderr",
     "output_type": "stream",
     "text": [
      "\r",
      " 14%|███████████                                                                      | 78/574 [00:14<01:34,  5.27it/s]"
     ]
    },
    {
     "name": "stdout",
     "output_type": "stream",
     "text": [
      "['3IR9wKWxI0TK1DLXvZq8uQ']\n",
      "3IR9wKWxI0TK1DLXvZq8uQ\n",
      "https://api.spotify.com/v1/audio-features?ids=3IR9wKWxI0TK1DLXvZq8uQ\n"
     ]
    },
    {
     "name": "stderr",
     "output_type": "stream",
     "text": [
      "\r",
      " 14%|███████████▏                                                                     | 79/574 [00:14<01:32,  5.33it/s]"
     ]
    },
    {
     "name": "stdout",
     "output_type": "stream",
     "text": [
      "['2kUKeN9ZpYHqfBjB8Gphb2']\n",
      "2kUKeN9ZpYHqfBjB8Gphb2\n",
      "https://api.spotify.com/v1/audio-features?ids=2kUKeN9ZpYHqfBjB8Gphb2\n",
      "['27Z3UdqvdAhtJlWBMoDjBD']\n",
      "27Z3UdqvdAhtJlWBMoDjBD\n",
      "https://api.spotify.com/v1/audio-features?ids=27Z3UdqvdAhtJlWBMoDjBD\n"
     ]
    },
    {
     "name": "stderr",
     "output_type": "stream",
     "text": [
      " 14%|███████████▍                                                                     | 81/574 [00:15<01:31,  5.41it/s]"
     ]
    },
    {
     "name": "stdout",
     "output_type": "stream",
     "text": [
      "['14M6BbiHt2w9KHVvoIUIUF']\n",
      "14M6BbiHt2w9KHVvoIUIUF\n",
      "https://api.spotify.com/v1/audio-features?ids=14M6BbiHt2w9KHVvoIUIUF\n"
     ]
    },
    {
     "name": "stderr",
     "output_type": "stream",
     "text": [
      "\r",
      " 14%|███████████▌                                                                     | 82/574 [00:15<01:28,  5.56it/s]"
     ]
    },
    {
     "name": "stdout",
     "output_type": "stream",
     "text": [
      "['13tc5dzElXbImNjDzz4E2B']\n",
      "13tc5dzElXbImNjDzz4E2B\n",
      "https://api.spotify.com/v1/audio-features?ids=13tc5dzElXbImNjDzz4E2B\n",
      "['19dD5F9Mu5DvraJr0f5eho']\n",
      "19dD5F9Mu5DvraJr0f5eho\n",
      "https://api.spotify.com/v1/audio-features?ids=19dD5F9Mu5DvraJr0f5eho\n"
     ]
    },
    {
     "name": "stderr",
     "output_type": "stream",
     "text": [
      " 15%|███████████▊                                                                     | 84/574 [00:15<01:22,  5.96it/s]"
     ]
    },
    {
     "name": "stdout",
     "output_type": "stream",
     "text": [
      "['7vX1e8Tcj1cl20HoWaDI4h']\n",
      "7vX1e8Tcj1cl20HoWaDI4h\n",
      "https://api.spotify.com/v1/audio-features?ids=7vX1e8Tcj1cl20HoWaDI4h\n",
      "['2mIfMDTR6pNa3iWne56HGe']\n",
      "2mIfMDTR6pNa3iWne56HGe\n",
      "https://api.spotify.com/v1/audio-features?ids=2mIfMDTR6pNa3iWne56HGe\n"
     ]
    },
    {
     "name": "stderr",
     "output_type": "stream",
     "text": [
      " 15%|████████████▏                                                                    | 86/574 [00:16<01:29,  5.45it/s]"
     ]
    },
    {
     "name": "stdout",
     "output_type": "stream",
     "text": [
      "['2XLPtKom1ixf7IJgPsPAvp']\n",
      "2XLPtKom1ixf7IJgPsPAvp\n",
      "https://api.spotify.com/v1/audio-features?ids=2XLPtKom1ixf7IJgPsPAvp\n"
     ]
    },
    {
     "name": "stderr",
     "output_type": "stream",
     "text": [
      "\r",
      " 15%|████████████▎                                                                    | 87/574 [00:16<01:31,  5.34it/s]"
     ]
    },
    {
     "name": "stdout",
     "output_type": "stream",
     "text": [
      "['6cBvcf3JEn3NjIvaqkHkn0']\n",
      "6cBvcf3JEn3NjIvaqkHkn0\n",
      "https://api.spotify.com/v1/audio-features?ids=6cBvcf3JEn3NjIvaqkHkn0\n"
     ]
    },
    {
     "name": "stderr",
     "output_type": "stream",
     "text": [
      "\r",
      " 15%|████████████▍                                                                    | 88/574 [00:16<01:31,  5.31it/s]"
     ]
    },
    {
     "name": "stdout",
     "output_type": "stream",
     "text": [
      "['0igELlHJcgbgEtgsTmj9t0']\n",
      "0igELlHJcgbgEtgsTmj9t0\n",
      "https://api.spotify.com/v1/audio-features?ids=0igELlHJcgbgEtgsTmj9t0\n",
      "['5csxKPX4HuN8UDEdHUxcqz']\n",
      "5csxKPX4HuN8UDEdHUxcqz\n",
      "https://api.spotify.com/v1/audio-features?ids=5csxKPX4HuN8UDEdHUxcqz\n"
     ]
    },
    {
     "name": "stderr",
     "output_type": "stream",
     "text": [
      "\r",
      " 16%|████████████▌                                                                    | 89/574 [00:16<01:37,  4.99it/s]"
     ]
    },
    {
     "name": "stdout",
     "output_type": "stream",
     "text": [
      "['3R3li8sx8AjMRI1BdmwXAf']\n",
      "3R3li8sx8AjMRI1BdmwXAf\n",
      "https://api.spotify.com/v1/audio-features?ids=3R3li8sx8AjMRI1BdmwXAf\n"
     ]
    },
    {
     "name": "stderr",
     "output_type": "stream",
     "text": [
      "\r",
      " 16%|████████████▋                                                                    | 90/574 [00:16<01:47,  4.50it/s]"
     ]
    },
    {
     "name": "stdout",
     "output_type": "stream",
     "text": [
      "['3bGGvbwbhq9kIMhHaXBdYL']\n",
      "3bGGvbwbhq9kIMhHaXBdYL\n",
      "https://api.spotify.com/v1/audio-features?ids=3bGGvbwbhq9kIMhHaXBdYL\n"
     ]
    },
    {
     "name": "stderr",
     "output_type": "stream",
     "text": [
      " 16%|████████████▉                                                                    | 92/574 [00:17<01:42,  4.70it/s]"
     ]
    },
    {
     "name": "stdout",
     "output_type": "stream",
     "text": [
      "['5YkXkfXWTE1pk6l2m78JnH']\n",
      "5YkXkfXWTE1pk6l2m78JnH\n",
      "https://api.spotify.com/v1/audio-features?ids=5YkXkfXWTE1pk6l2m78JnH\n"
     ]
    },
    {
     "name": "stderr",
     "output_type": "stream",
     "text": [
      "\r",
      " 16%|█████████████                                                                    | 93/574 [00:17<01:39,  4.84it/s]"
     ]
    },
    {
     "name": "stdout",
     "output_type": "stream",
     "text": [
      "['3BFlHQD1nt7vHXmh0SswCO']\n",
      "3BFlHQD1nt7vHXmh0SswCO\n",
      "https://api.spotify.com/v1/audio-features?ids=3BFlHQD1nt7vHXmh0SswCO\n",
      "['5aSLIxdiQAgfTGsqGwgivC']\n",
      "5aSLIxdiQAgfTGsqGwgivC\n",
      "https://api.spotify.com/v1/audio-features?ids=5aSLIxdiQAgfTGsqGwgivC\n"
     ]
    },
    {
     "name": "stderr",
     "output_type": "stream",
     "text": [
      " 17%|█████████████▍                                                                   | 95/574 [00:17<01:41,  4.74it/s]"
     ]
    },
    {
     "name": "stdout",
     "output_type": "stream",
     "text": [
      "['3PeW31cRh8BlN7fwj6cGe9']\n",
      "3PeW31cRh8BlN7fwj6cGe9\n",
      "https://api.spotify.com/v1/audio-features?ids=3PeW31cRh8BlN7fwj6cGe9\n"
     ]
    },
    {
     "name": "stderr",
     "output_type": "stream",
     "text": [
      "\r",
      " 17%|█████████████▌                                                                   | 96/574 [00:18<01:35,  5.00it/s]"
     ]
    },
    {
     "name": "stdout",
     "output_type": "stream",
     "text": [
      "['5oBUlWZcYKuYuuSsDeNQR7']\n",
      "5oBUlWZcYKuYuuSsDeNQR7\n",
      "https://api.spotify.com/v1/audio-features?ids=5oBUlWZcYKuYuuSsDeNQR7\n",
      "['3eGuT5Bs8s9CGQbUxDXFzb']\n",
      "3eGuT5Bs8s9CGQbUxDXFzb\n",
      "https://api.spotify.com/v1/audio-features?ids=3eGuT5Bs8s9CGQbUxDXFzb\n"
     ]
    },
    {
     "name": "stderr",
     "output_type": "stream",
     "text": [
      "\r",
      " 17%|█████████████▋                                                                   | 97/574 [00:18<01:32,  5.14it/s]"
     ]
    },
    {
     "name": "stdout",
     "output_type": "stream",
     "text": [
      "['2FHsE83xbrzzWusudCFpg1']\n",
      "2FHsE83xbrzzWusudCFpg1\n",
      "https://api.spotify.com/v1/audio-features?ids=2FHsE83xbrzzWusudCFpg1\n"
     ]
    },
    {
     "name": "stderr",
     "output_type": "stream",
     "text": [
      "\r",
      " 17%|█████████████▊                                                                   | 98/574 [00:18<01:36,  4.91it/s]"
     ]
    },
    {
     "name": "stdout",
     "output_type": "stream",
     "text": [
      "['1isJQKjH3cFutccvz3jrCD']\n",
      "1isJQKjH3cFutccvz3jrCD\n",
      "https://api.spotify.com/v1/audio-features?ids=1isJQKjH3cFutccvz3jrCD\n"
     ]
    },
    {
     "name": "stderr",
     "output_type": "stream",
     "text": [
      "\r",
      " 17%|█████████████▉                                                                   | 99/574 [00:18<01:40,  4.72it/s]"
     ]
    },
    {
     "name": "stdout",
     "output_type": "stream",
     "text": [
      "['1TO85DMVoOejzq5YMMWAkl']\n",
      "1TO85DMVoOejzq5YMMWAkl\n",
      "https://api.spotify.com/v1/audio-features?ids=1TO85DMVoOejzq5YMMWAkl\n"
     ]
    },
    {
     "name": "stderr",
     "output_type": "stream",
     "text": [
      "\r",
      " 17%|█████████████▉                                                                  | 100/574 [00:18<01:39,  4.76it/s]"
     ]
    },
    {
     "name": "stdout",
     "output_type": "stream",
     "text": [
      "['5cOkUTJvuYBNV1JZ5yPWex']\n",
      "5cOkUTJvuYBNV1JZ5yPWex\n",
      "https://api.spotify.com/v1/audio-features?ids=5cOkUTJvuYBNV1JZ5yPWex\n"
     ]
    },
    {
     "name": "stderr",
     "output_type": "stream",
     "text": [
      "\r",
      " 18%|██████████████                                                                  | 101/574 [00:19<01:42,  4.62it/s]"
     ]
    },
    {
     "name": "stdout",
     "output_type": "stream",
     "text": [
      "['72HFkyZ8MFEbplFjRO7aqA']\n",
      "72HFkyZ8MFEbplFjRO7aqA\n",
      "https://api.spotify.com/v1/audio-features?ids=72HFkyZ8MFEbplFjRO7aqA\n"
     ]
    },
    {
     "name": "stderr",
     "output_type": "stream",
     "text": [
      "\r",
      " 18%|██████████████▏                                                                 | 102/574 [00:19<01:41,  4.64it/s]"
     ]
    },
    {
     "name": "stdout",
     "output_type": "stream",
     "text": [
      "['1H366E2OeWiWQvMj0iESzX']\n",
      "1H366E2OeWiWQvMj0iESzX\n",
      "https://api.spotify.com/v1/audio-features?ids=1H366E2OeWiWQvMj0iESzX\n"
     ]
    },
    {
     "name": "stderr",
     "output_type": "stream",
     "text": [
      " 18%|██████████████▍                                                                 | 104/574 [00:19<01:40,  4.65it/s]"
     ]
    },
    {
     "name": "stdout",
     "output_type": "stream",
     "text": [
      "['67XtpHJ5S4KO8w8CllZx7I']\n",
      "67XtpHJ5S4KO8w8CllZx7I\n",
      "https://api.spotify.com/v1/audio-features?ids=67XtpHJ5S4KO8w8CllZx7I\n"
     ]
    },
    {
     "name": "stderr",
     "output_type": "stream",
     "text": [
      "\r",
      " 18%|██████████████▋                                                                 | 105/574 [00:20<01:36,  4.87it/s]"
     ]
    },
    {
     "name": "stdout",
     "output_type": "stream",
     "text": [
      "['52Z9VzMQ91wrhnn1zefaVi']\n",
      "52Z9VzMQ91wrhnn1zefaVi\n",
      "https://api.spotify.com/v1/audio-features?ids=52Z9VzMQ91wrhnn1zefaVi\n",
      "['0exjGVTPrIA5MYokrYG862']\n",
      "0exjGVTPrIA5MYokrYG862\n",
      "https://api.spotify.com/v1/audio-features?ids=0exjGVTPrIA5MYokrYG862\n"
     ]
    },
    {
     "name": "stderr",
     "output_type": "stream",
     "text": [
      " 19%|██████████████▉                                                                 | 107/574 [00:20<01:36,  4.86it/s]"
     ]
    },
    {
     "name": "stdout",
     "output_type": "stream",
     "text": [
      "['17tejn8Dt8IDKKRknPznPD']\n",
      "17tejn8Dt8IDKKRknPznPD\n",
      "https://api.spotify.com/v1/audio-features?ids=17tejn8Dt8IDKKRknPznPD\n",
      "['2D0BQfVCn6qoK77flhU7nR']\n",
      "2D0BQfVCn6qoK77flhU7nR\n",
      "https://api.spotify.com/v1/audio-features?ids=2D0BQfVCn6qoK77flhU7nR\n"
     ]
    },
    {
     "name": "stderr",
     "output_type": "stream",
     "text": [
      "\r",
      " 19%|███████████████                                                                 | 108/574 [00:20<01:45,  4.42it/s]"
     ]
    },
    {
     "name": "stdout",
     "output_type": "stream",
     "text": [
      "['2YAgixJPrOiEZSgZMlmqqF']\n",
      "2YAgixJPrOiEZSgZMlmqqF\n",
      "https://api.spotify.com/v1/audio-features?ids=2YAgixJPrOiEZSgZMlmqqF\n"
     ]
    },
    {
     "name": "stderr",
     "output_type": "stream",
     "text": [
      "\r",
      " 19%|███████████████▏                                                                | 109/574 [00:20<01:46,  4.38it/s]"
     ]
    },
    {
     "name": "stdout",
     "output_type": "stream",
     "text": [
      "['48ghUr9q4ZCKTGEGzdZJlj']\n",
      "48ghUr9q4ZCKTGEGzdZJlj\n",
      "https://api.spotify.com/v1/audio-features?ids=48ghUr9q4ZCKTGEGzdZJlj\n"
     ]
    },
    {
     "name": "stderr",
     "output_type": "stream",
     "text": [
      " 19%|███████████████▍                                                                | 111/574 [00:21<01:35,  4.82it/s]"
     ]
    },
    {
     "name": "stdout",
     "output_type": "stream",
     "text": [
      "['2uj7OACDZUQIvAfKAwtHES']\n",
      "2uj7OACDZUQIvAfKAwtHES\n",
      "https://api.spotify.com/v1/audio-features?ids=2uj7OACDZUQIvAfKAwtHES\n"
     ]
    },
    {
     "name": "stderr",
     "output_type": "stream",
     "text": [
      "\r",
      " 20%|███████████████▌                                                                | 112/574 [00:21<01:29,  5.14it/s]"
     ]
    },
    {
     "name": "stdout",
     "output_type": "stream",
     "text": [
      "['4xJfZesfZ3UGR0v647p8Y5']\n",
      "4xJfZesfZ3UGR0v647p8Y5\n",
      "https://api.spotify.com/v1/audio-features?ids=4xJfZesfZ3UGR0v647p8Y5\n",
      "['4Z1u8ZwrxBwdnFH4vibcYO']\n",
      "4Z1u8ZwrxBwdnFH4vibcYO\n",
      "https://api.spotify.com/v1/audio-features?ids=4Z1u8ZwrxBwdnFH4vibcYO\n"
     ]
    },
    {
     "name": "stderr",
     "output_type": "stream",
     "text": [
      "\r",
      " 20%|███████████████▋                                                                | 113/574 [00:21<01:30,  5.09it/s]"
     ]
    },
    {
     "name": "stdout",
     "output_type": "stream",
     "text": [
      "['5dxsliYJaYcDMfw5emzJer']\n",
      "5dxsliYJaYcDMfw5emzJer\n",
      "https://api.spotify.com/v1/audio-features?ids=5dxsliYJaYcDMfw5emzJer\n"
     ]
    },
    {
     "name": "stderr",
     "output_type": "stream",
     "text": [
      " 20%|████████████████                                                                | 115/574 [00:22<01:34,  4.85it/s]"
     ]
    },
    {
     "name": "stdout",
     "output_type": "stream",
     "text": [
      "['5cyYphxofHgRspEKNn3UTl']\n",
      "5cyYphxofHgRspEKNn3UTl\n",
      "https://api.spotify.com/v1/audio-features?ids=5cyYphxofHgRspEKNn3UTl\n",
      "['62nJqZs3Qs7DGUto35dVUv']\n",
      "62nJqZs3Qs7DGUto35dVUv\n",
      "https://api.spotify.com/v1/audio-features?ids=62nJqZs3Qs7DGUto35dVUv\n"
     ]
    },
    {
     "name": "stderr",
     "output_type": "stream",
     "text": [
      " 20%|████████████████▎                                                               | 117/574 [00:22<01:32,  4.94it/s]"
     ]
    },
    {
     "name": "stdout",
     "output_type": "stream",
     "text": [
      "['5cZ6NaDFs0a7ZYfGpaJWEt']\n",
      "5cZ6NaDFs0a7ZYfGpaJWEt\n",
      "https://api.spotify.com/v1/audio-features?ids=5cZ6NaDFs0a7ZYfGpaJWEt\n"
     ]
    },
    {
     "name": "stderr",
     "output_type": "stream",
     "text": [
      "\r",
      " 21%|████████████████▍                                                               | 118/574 [00:22<01:28,  5.15it/s]"
     ]
    },
    {
     "name": "stdout",
     "output_type": "stream",
     "text": [
      "['5rQG0YxxAgCKpJthO0K3JQ']\n",
      "5rQG0YxxAgCKpJthO0K3JQ\n",
      "https://api.spotify.com/v1/audio-features?ids=5rQG0YxxAgCKpJthO0K3JQ\n",
      "['58D69P1dusriq8I3t83eji']\n",
      "58D69P1dusriq8I3t83eji\n",
      "https://api.spotify.com/v1/audio-features?ids=58D69P1dusriq8I3t83eji\n"
     ]
    },
    {
     "name": "stderr",
     "output_type": "stream",
     "text": [
      " 21%|████████████████▋                                                               | 120/574 [00:23<01:26,  5.22it/s]"
     ]
    },
    {
     "name": "stdout",
     "output_type": "stream",
     "text": [
      "['4ZpFLXdO1Tqs12uJe4OsN7']\n",
      "4ZpFLXdO1Tqs12uJe4OsN7\n",
      "https://api.spotify.com/v1/audio-features?ids=4ZpFLXdO1Tqs12uJe4OsN7\n"
     ]
    },
    {
     "name": "stderr",
     "output_type": "stream",
     "text": [
      "\r",
      " 21%|████████████████▊                                                               | 121/574 [00:23<01:25,  5.28it/s]"
     ]
    },
    {
     "name": "stdout",
     "output_type": "stream",
     "text": [
      "['4cvsvY3HYBV7jJbWsHGOAh']\n",
      "4cvsvY3HYBV7jJbWsHGOAh\n",
      "https://api.spotify.com/v1/audio-features?ids=4cvsvY3HYBV7jJbWsHGOAh\n"
     ]
    },
    {
     "name": "stderr",
     "output_type": "stream",
     "text": [
      "\r",
      " 21%|█████████████████                                                               | 122/574 [00:23<01:25,  5.26it/s]"
     ]
    },
    {
     "name": "stdout",
     "output_type": "stream",
     "text": [
      "['2vd2HEhrkafOi2uveHjzzh']\n",
      "2vd2HEhrkafOi2uveHjzzh\n",
      "https://api.spotify.com/v1/audio-features?ids=2vd2HEhrkafOi2uveHjzzh\n"
     ]
    },
    {
     "name": "stderr",
     "output_type": "stream",
     "text": [
      "\r",
      " 21%|█████████████████▏                                                              | 123/574 [00:23<01:21,  5.52it/s]"
     ]
    },
    {
     "name": "stdout",
     "output_type": "stream",
     "text": [
      "['6DdPeHn2Kc5weToqPO9anJ']\n",
      "6DdPeHn2Kc5weToqPO9anJ\n",
      "https://api.spotify.com/v1/audio-features?ids=6DdPeHn2Kc5weToqPO9anJ\n",
      "['57AzeYIWwAYprDXRwPjgtZ']\n",
      "57AzeYIWwAYprDXRwPjgtZ\n",
      "https://api.spotify.com/v1/audio-features?ids=57AzeYIWwAYprDXRwPjgtZ\n"
     ]
    },
    {
     "name": "stderr",
     "output_type": "stream",
     "text": [
      "\r",
      " 22%|█████████████████▎                                                              | 124/574 [00:23<01:21,  5.52it/s]"
     ]
    },
    {
     "name": "stdout",
     "output_type": "stream",
     "text": [
      "['7BiRw4sgXQMyNx8nPltnQr']\n",
      "7BiRw4sgXQMyNx8nPltnQr\n",
      "https://api.spotify.com/v1/audio-features?ids=7BiRw4sgXQMyNx8nPltnQr\n"
     ]
    },
    {
     "name": "stderr",
     "output_type": "stream",
     "text": [
      " 22%|█████████████████▌                                                              | 126/574 [00:24<01:26,  5.19it/s]"
     ]
    },
    {
     "name": "stdout",
     "output_type": "stream",
     "text": [
      "['2TitxRtrE8OLcAwcNucvmJ']\n",
      "2TitxRtrE8OLcAwcNucvmJ\n",
      "https://api.spotify.com/v1/audio-features?ids=2TitxRtrE8OLcAwcNucvmJ\n"
     ]
    },
    {
     "name": "stderr",
     "output_type": "stream",
     "text": [
      "\r",
      " 22%|█████████████████▋                                                              | 127/574 [00:24<01:26,  5.15it/s]"
     ]
    },
    {
     "name": "stdout",
     "output_type": "stream",
     "text": [
      "['5Zn1K7j3DkB1akPiBLwKR9']\n",
      "5Zn1K7j3DkB1akPiBLwKR9\n",
      "https://api.spotify.com/v1/audio-features?ids=5Zn1K7j3DkB1akPiBLwKR9\n"
     ]
    },
    {
     "name": "stderr",
     "output_type": "stream",
     "text": [
      "\r",
      " 22%|█████████████████▊                                                              | 128/574 [00:24<01:25,  5.23it/s]"
     ]
    },
    {
     "name": "stdout",
     "output_type": "stream",
     "text": [
      "['5gyhZCykUqfbjqyPzR4CVe']\n",
      "5gyhZCykUqfbjqyPzR4CVe\n",
      "https://api.spotify.com/v1/audio-features?ids=5gyhZCykUqfbjqyPzR4CVe\n"
     ]
    },
    {
     "name": "stderr",
     "output_type": "stream",
     "text": [
      "\r",
      " 22%|█████████████████▉                                                              | 129/574 [00:24<01:26,  5.15it/s]"
     ]
    },
    {
     "name": "stdout",
     "output_type": "stream",
     "text": [
      "['6nhc3daOpKaZBRj2ZFWfc7']\n",
      "6nhc3daOpKaZBRj2ZFWfc7\n",
      "https://api.spotify.com/v1/audio-features?ids=6nhc3daOpKaZBRj2ZFWfc7\n"
     ]
    },
    {
     "name": "stderr",
     "output_type": "stream",
     "text": [
      "\r",
      " 23%|██████████████████                                                              | 130/574 [00:24<01:25,  5.22it/s]"
     ]
    },
    {
     "name": "stdout",
     "output_type": "stream",
     "text": [
      "['1CQH9bjtrHOnbXTGL4JzT7']\n",
      "1CQH9bjtrHOnbXTGL4JzT7\n",
      "https://api.spotify.com/v1/audio-features?ids=1CQH9bjtrHOnbXTGL4JzT7\n",
      "['0dRYCtYfllnlfDiEufuwOU']\n",
      "0dRYCtYfllnlfDiEufuwOU\n",
      "https://api.spotify.com/v1/audio-features?ids=0dRYCtYfllnlfDiEufuwOU\n"
     ]
    },
    {
     "name": "stderr",
     "output_type": "stream",
     "text": [
      "\r",
      " 23%|██████████████████▎                                                             | 131/574 [00:25<01:23,  5.32it/s]"
     ]
    },
    {
     "name": "stdout",
     "output_type": "stream",
     "text": [
      "['4Am0QoksGA70r4ZdsgV2Y9']\n",
      "4Am0QoksGA70r4ZdsgV2Y9\n",
      "https://api.spotify.com/v1/audio-features?ids=4Am0QoksGA70r4ZdsgV2Y9\n"
     ]
    },
    {
     "name": "stderr",
     "output_type": "stream",
     "text": [
      " 23%|██████████████████▌                                                             | 133/574 [00:25<01:22,  5.35it/s]"
     ]
    },
    {
     "name": "stdout",
     "output_type": "stream",
     "text": [
      "['2mKGjVCoxL8Um9GkNhhyto']\n",
      "2mKGjVCoxL8Um9GkNhhyto\n",
      "https://api.spotify.com/v1/audio-features?ids=2mKGjVCoxL8Um9GkNhhyto\n",
      "['7LsJd6JUzWy3SUvy33g6yQ']\n",
      "7LsJd6JUzWy3SUvy33g6yQ\n",
      "https://api.spotify.com/v1/audio-features?ids=7LsJd6JUzWy3SUvy33g6yQ\n"
     ]
    },
    {
     "name": "stderr",
     "output_type": "stream",
     "text": [
      " 24%|██████████████████▊                                                             | 135/574 [00:25<01:14,  5.86it/s]"
     ]
    },
    {
     "name": "stdout",
     "output_type": "stream",
     "text": [
      "['0IkK4SEryuCtbQjm5LRLMZ']\n",
      "0IkK4SEryuCtbQjm5LRLMZ\n",
      "https://api.spotify.com/v1/audio-features?ids=0IkK4SEryuCtbQjm5LRLMZ\n",
      "['1QMSIsTV6lcLCQ9MBHTLhT']\n",
      "1QMSIsTV6lcLCQ9MBHTLhT\n",
      "https://api.spotify.com/v1/audio-features?ids=1QMSIsTV6lcLCQ9MBHTLhT\n"
     ]
    },
    {
     "name": "stderr",
     "output_type": "stream",
     "text": [
      " 24%|███████████████████                                                             | 137/574 [00:26<01:16,  5.71it/s]"
     ]
    },
    {
     "name": "stdout",
     "output_type": "stream",
     "text": [
      "['6TTHXR7QYOUNS2gyy2OVvg']\n",
      "6TTHXR7QYOUNS2gyy2OVvg\n",
      "https://api.spotify.com/v1/audio-features?ids=6TTHXR7QYOUNS2gyy2OVvg\n"
     ]
    },
    {
     "name": "stderr",
     "output_type": "stream",
     "text": [
      "\r",
      " 24%|███████████████████▏                                                            | 138/574 [00:26<01:14,  5.88it/s]"
     ]
    },
    {
     "name": "stdout",
     "output_type": "stream",
     "text": [
      "['0wRFR5cUtBNArgtw4F1rw1']\n",
      "0wRFR5cUtBNArgtw4F1rw1\n",
      "https://api.spotify.com/v1/audio-features?ids=0wRFR5cUtBNArgtw4F1rw1\n",
      "['0HdA4vcTOb3XzW3L43X6sK']\n",
      "0HdA4vcTOb3XzW3L43X6sK\n",
      "https://api.spotify.com/v1/audio-features?ids=0HdA4vcTOb3XzW3L43X6sK\n"
     ]
    },
    {
     "name": "stderr",
     "output_type": "stream",
     "text": [
      " 24%|███████████████████▌                                                            | 140/574 [00:26<01:13,  5.88it/s]"
     ]
    },
    {
     "name": "stdout",
     "output_type": "stream",
     "text": [
      "['10WVEHOf1FZf5XgK6dUWvN']\n",
      "10WVEHOf1FZf5XgK6dUWvN\n",
      "https://api.spotify.com/v1/audio-features?ids=10WVEHOf1FZf5XgK6dUWvN\n"
     ]
    },
    {
     "name": "stderr",
     "output_type": "stream",
     "text": [
      "\r",
      " 25%|███████████████████▋                                                            | 141/574 [00:26<01:13,  5.91it/s]"
     ]
    },
    {
     "name": "stdout",
     "output_type": "stream",
     "text": [
      "['4fKiuIavbsoTRZ6R7xuAyT']\n",
      "4fKiuIavbsoTRZ6R7xuAyT\n",
      "https://api.spotify.com/v1/audio-features?ids=4fKiuIavbsoTRZ6R7xuAyT\n",
      "['4SBahN5KfX1RLG9XLNIlJA']\n",
      "4SBahN5KfX1RLG9XLNIlJA\n",
      "https://api.spotify.com/v1/audio-features?ids=4SBahN5KfX1RLG9XLNIlJA\n"
     ]
    },
    {
     "name": "stderr",
     "output_type": "stream",
     "text": [
      " 25%|███████████████████▉                                                            | 143/574 [00:27<01:12,  5.95it/s]"
     ]
    },
    {
     "name": "stdout",
     "output_type": "stream",
     "text": [
      "['618v3huzqDQQBfMogznSb3']\n",
      "618v3huzqDQQBfMogznSb3\n",
      "https://api.spotify.com/v1/audio-features?ids=618v3huzqDQQBfMogznSb3\n",
      "['2cptaUFdsU60tdh7zRglai']\n",
      "2cptaUFdsU60tdh7zRglai\n",
      "https://api.spotify.com/v1/audio-features?ids=2cptaUFdsU60tdh7zRglai\n"
     ]
    },
    {
     "name": "stderr",
     "output_type": "stream",
     "text": [
      " 25%|████████████████████▏                                                           | 145/574 [00:27<01:09,  6.18it/s]"
     ]
    },
    {
     "name": "stdout",
     "output_type": "stream",
     "text": [
      "['6MYNfMiLwCmA3bRdfzvfcs']\n",
      "6MYNfMiLwCmA3bRdfzvfcs\n",
      "https://api.spotify.com/v1/audio-features?ids=6MYNfMiLwCmA3bRdfzvfcs\n",
      "['5ULRlgiSPSKTaJN1vU9yso']\n",
      "5ULRlgiSPSKTaJN1vU9yso\n",
      "https://api.spotify.com/v1/audio-features?ids=5ULRlgiSPSKTaJN1vU9yso\n"
     ]
    },
    {
     "name": "stderr",
     "output_type": "stream",
     "text": [
      " 26%|████████████████████▍                                                           | 147/574 [00:27<01:10,  6.08it/s]"
     ]
    },
    {
     "name": "stdout",
     "output_type": "stream",
     "text": [
      "['2syQErCMMM1rXeZqtuaqxg']\n",
      "2syQErCMMM1rXeZqtuaqxg\n",
      "https://api.spotify.com/v1/audio-features?ids=2syQErCMMM1rXeZqtuaqxg\n",
      "['06N4bQF7MXzLbbifGMIJZW']\n",
      "06N4bQF7MXzLbbifGMIJZW\n",
      "https://api.spotify.com/v1/audio-features?ids=06N4bQF7MXzLbbifGMIJZW\n"
     ]
    },
    {
     "name": "stderr",
     "output_type": "stream",
     "text": [
      "\r",
      " 26%|████████████████████▋                                                           | 148/574 [00:27<01:09,  6.11it/s]"
     ]
    },
    {
     "name": "stdout",
     "output_type": "stream",
     "text": [
      "['29f11nLUcMYQ2Ndbnb7N0o']\n",
      "29f11nLUcMYQ2Ndbnb7N0o\n",
      "https://api.spotify.com/v1/audio-features?ids=29f11nLUcMYQ2Ndbnb7N0o\n"
     ]
    },
    {
     "name": "stderr",
     "output_type": "stream",
     "text": [
      " 26%|████████████████████▉                                                           | 150/574 [00:28<01:15,  5.60it/s]"
     ]
    },
    {
     "name": "stdout",
     "output_type": "stream",
     "text": [
      "['3WmJIqP0Fk5OyDKFuX09li']\n",
      "3WmJIqP0Fk5OyDKFuX09li\n",
      "https://api.spotify.com/v1/audio-features?ids=3WmJIqP0Fk5OyDKFuX09li\n"
     ]
    },
    {
     "name": "stderr",
     "output_type": "stream",
     "text": [
      "\r",
      " 26%|█████████████████████                                                           | 151/574 [00:28<01:14,  5.65it/s]"
     ]
    },
    {
     "name": "stdout",
     "output_type": "stream",
     "text": [
      "['2AGen6RvvTNEhdNoyJEMvu']\n",
      "2AGen6RvvTNEhdNoyJEMvu\n",
      "https://api.spotify.com/v1/audio-features?ids=2AGen6RvvTNEhdNoyJEMvu\n",
      "['2wcseriGAqeodDazDXgmaq']\n",
      "2wcseriGAqeodDazDXgmaq\n",
      "https://api.spotify.com/v1/audio-features?ids=2wcseriGAqeodDazDXgmaq\n"
     ]
    },
    {
     "name": "stderr",
     "output_type": "stream",
     "text": [
      " 27%|█████████████████████▎                                                          | 153/574 [00:28<01:10,  6.00it/s]"
     ]
    },
    {
     "name": "stdout",
     "output_type": "stream",
     "text": [
      "['4C4wO1Lob3kTxvqXtPJice']\n",
      "4C4wO1Lob3kTxvqXtPJice\n",
      "https://api.spotify.com/v1/audio-features?ids=4C4wO1Lob3kTxvqXtPJice\n",
      "['6AJGPFFuC8qTWD5SP50RNh']\n",
      "6AJGPFFuC8qTWD5SP50RNh\n",
      "https://api.spotify.com/v1/audio-features?ids=6AJGPFFuC8qTWD5SP50RNh\n"
     ]
    },
    {
     "name": "stderr",
     "output_type": "stream",
     "text": [
      " 27%|█████████████████████▌                                                          | 155/574 [00:29<01:11,  5.83it/s]"
     ]
    },
    {
     "name": "stdout",
     "output_type": "stream",
     "text": [
      "['45SbQo5bq8f0hNdB70IyFC']\n",
      "45SbQo5bq8f0hNdB70IyFC\n",
      "https://api.spotify.com/v1/audio-features?ids=45SbQo5bq8f0hNdB70IyFC\n",
      "['5IYKZF1nw5V0GtxQN7mspQ']\n",
      "5IYKZF1nw5V0GtxQN7mspQ\n",
      "https://api.spotify.com/v1/audio-features?ids=5IYKZF1nw5V0GtxQN7mspQ\n"
     ]
    },
    {
     "name": "stderr",
     "output_type": "stream",
     "text": [
      " 27%|█████████████████████▉                                                          | 157/574 [00:29<01:11,  5.82it/s]"
     ]
    },
    {
     "name": "stdout",
     "output_type": "stream",
     "text": [
      "['6XnmPBOZfmvRHW1BSbwugJ']\n",
      "6XnmPBOZfmvRHW1BSbwugJ\n",
      "https://api.spotify.com/v1/audio-features?ids=6XnmPBOZfmvRHW1BSbwugJ\n",
      "['7MwnbWnZCBg1iK7uAreNhm']\n",
      "7MwnbWnZCBg1iK7uAreNhm\n",
      "https://api.spotify.com/v1/audio-features?ids=7MwnbWnZCBg1iK7uAreNhm\n"
     ]
    },
    {
     "name": "stderr",
     "output_type": "stream",
     "text": [
      " 28%|██████████████████████▏                                                         | 159/574 [00:29<01:09,  5.98it/s]"
     ]
    },
    {
     "name": "stdout",
     "output_type": "stream",
     "text": [
      "['5BPYhountssVohoID7bS40']\n",
      "5BPYhountssVohoID7bS40\n",
      "https://api.spotify.com/v1/audio-features?ids=5BPYhountssVohoID7bS40\n",
      "['3uRyuXf29unDXTFNNXHrYl']\n",
      "3uRyuXf29unDXTFNNXHrYl\n",
      "https://api.spotify.com/v1/audio-features?ids=3uRyuXf29unDXTFNNXHrYl\n"
     ]
    },
    {
     "name": "stderr",
     "output_type": "stream",
     "text": [
      " 28%|██████████████████████▍                                                         | 161/574 [00:30<01:12,  5.68it/s]"
     ]
    },
    {
     "name": "stdout",
     "output_type": "stream",
     "text": [
      "['07X4FAhX2R6xnAwd6ToUUx']\n",
      "07X4FAhX2R6xnAwd6ToUUx\n",
      "https://api.spotify.com/v1/audio-features?ids=07X4FAhX2R6xnAwd6ToUUx\n"
     ]
    },
    {
     "name": "stderr",
     "output_type": "stream",
     "text": [
      "\r",
      " 28%|██████████████████████▌                                                         | 162/574 [00:30<01:12,  5.67it/s]"
     ]
    },
    {
     "name": "stdout",
     "output_type": "stream",
     "text": [
      "['3a8gsld8gQzvfyLfPO1LP1']\n",
      "3a8gsld8gQzvfyLfPO1LP1\n",
      "https://api.spotify.com/v1/audio-features?ids=3a8gsld8gQzvfyLfPO1LP1\n",
      "['6VkmdRz8YgHFQV3ZNTJAWU']\n",
      "6VkmdRz8YgHFQV3ZNTJAWU\n",
      "https://api.spotify.com/v1/audio-features?ids=6VkmdRz8YgHFQV3ZNTJAWU\n"
     ]
    },
    {
     "name": "stderr",
     "output_type": "stream",
     "text": [
      " 29%|██████████████████████▊                                                         | 164/574 [00:30<01:09,  5.90it/s]"
     ]
    },
    {
     "name": "stdout",
     "output_type": "stream",
     "text": [
      "['7kVssG465tU7XWgfrseOVS']\n",
      "7kVssG465tU7XWgfrseOVS\n",
      "https://api.spotify.com/v1/audio-features?ids=7kVssG465tU7XWgfrseOVS\n",
      "['7eoKwUoGIQSQLusZiQIvmm']\n",
      "7eoKwUoGIQSQLusZiQIvmm\n",
      "https://api.spotify.com/v1/audio-features?ids=7eoKwUoGIQSQLusZiQIvmm\n"
     ]
    },
    {
     "name": "stderr",
     "output_type": "stream",
     "text": [
      " 29%|███████████████████████▏                                                        | 166/574 [00:31<01:09,  5.87it/s]"
     ]
    },
    {
     "name": "stdout",
     "output_type": "stream",
     "text": [
      "['1m84zLz4WizjR4mCDoXReg']\n",
      "1m84zLz4WizjR4mCDoXReg\n",
      "https://api.spotify.com/v1/audio-features?ids=1m84zLz4WizjR4mCDoXReg\n"
     ]
    },
    {
     "name": "stderr",
     "output_type": "stream",
     "text": [
      "\r",
      " 29%|███████████████████████▎                                                        | 167/574 [00:31<01:07,  6.06it/s]"
     ]
    },
    {
     "name": "stdout",
     "output_type": "stream",
     "text": [
      "['76mnMmcrLA3Rv5JtrjvfS7']\n",
      "76mnMmcrLA3Rv5JtrjvfS7\n",
      "https://api.spotify.com/v1/audio-features?ids=76mnMmcrLA3Rv5JtrjvfS7\n",
      "['4VHM8pHDSBnzIppLyeMyJ8']\n",
      "4VHM8pHDSBnzIppLyeMyJ8\n",
      "https://api.spotify.com/v1/audio-features?ids=4VHM8pHDSBnzIppLyeMyJ8\n"
     ]
    },
    {
     "name": "stderr",
     "output_type": "stream",
     "text": [
      " 29%|███████████████████████▌                                                        | 169/574 [00:31<01:07,  5.96it/s]"
     ]
    },
    {
     "name": "stdout",
     "output_type": "stream",
     "text": [
      "['27829SWtwhWUANViVTEpol']\n",
      "27829SWtwhWUANViVTEpol\n",
      "https://api.spotify.com/v1/audio-features?ids=27829SWtwhWUANViVTEpol\n",
      "['2vcDl2SLudnltyDEos3v6E']\n",
      "2vcDl2SLudnltyDEos3v6E\n",
      "https://api.spotify.com/v1/audio-features?ids=2vcDl2SLudnltyDEos3v6E\n"
     ]
    },
    {
     "name": "stderr",
     "output_type": "stream",
     "text": [
      " 30%|███████████████████████▊                                                        | 171/574 [00:31<01:08,  5.90it/s]"
     ]
    },
    {
     "name": "stdout",
     "output_type": "stream",
     "text": [
      "['29OB96bcpEnlfbdVREAr83']\n",
      "29OB96bcpEnlfbdVREAr83\n",
      "https://api.spotify.com/v1/audio-features?ids=29OB96bcpEnlfbdVREAr83\n",
      "['2xQeykrgmC01UqRpkrT0Zg']\n",
      "2xQeykrgmC01UqRpkrT0Zg\n",
      "https://api.spotify.com/v1/audio-features?ids=2xQeykrgmC01UqRpkrT0Zg\n"
     ]
    },
    {
     "name": "stderr",
     "output_type": "stream",
     "text": [
      " 30%|████████████████████████                                                        | 173/574 [00:32<01:07,  5.94it/s]"
     ]
    },
    {
     "name": "stdout",
     "output_type": "stream",
     "text": [
      "['47rNYq9IUveetu35c65xTw']\n",
      "47rNYq9IUveetu35c65xTw\n",
      "https://api.spotify.com/v1/audio-features?ids=47rNYq9IUveetu35c65xTw\n",
      "['4zYkSXrfgJyrNkNv3mTiIZ']\n",
      "4zYkSXrfgJyrNkNv3mTiIZ\n",
      "https://api.spotify.com/v1/audio-features?ids=4zYkSXrfgJyrNkNv3mTiIZ\n"
     ]
    },
    {
     "name": "stderr",
     "output_type": "stream",
     "text": [
      " 30%|████████████████████████▍                                                       | 175/574 [00:32<01:13,  5.42it/s]"
     ]
    },
    {
     "name": "stdout",
     "output_type": "stream",
     "text": [
      "['4bwPVMQoabglAtg0HqiUuO']\n",
      "4bwPVMQoabglAtg0HqiUuO\n",
      "https://api.spotify.com/v1/audio-features?ids=4bwPVMQoabglAtg0HqiUuO\n"
     ]
    },
    {
     "name": "stderr",
     "output_type": "stream",
     "text": [
      "\r",
      " 31%|████████████████████████▌                                                       | 176/574 [00:32<01:09,  5.72it/s]"
     ]
    },
    {
     "name": "stdout",
     "output_type": "stream",
     "text": [
      "['03WMhty0KQ2ppU30LiyKy4']\n",
      "03WMhty0KQ2ppU30LiyKy4\n",
      "https://api.spotify.com/v1/audio-features?ids=03WMhty0KQ2ppU30LiyKy4\n",
      "['6ths4lLgtobquTsQ6hM6oa']\n",
      "6ths4lLgtobquTsQ6hM6oa\n",
      "https://api.spotify.com/v1/audio-features?ids=6ths4lLgtobquTsQ6hM6oa\n"
     ]
    },
    {
     "name": "stderr",
     "output_type": "stream",
     "text": [
      " 31%|████████████████████████▊                                                       | 178/574 [00:33<01:05,  6.02it/s]"
     ]
    },
    {
     "name": "stdout",
     "output_type": "stream",
     "text": [
      "['6UWcp6ASpVIvUWX5eZMtp2']\n",
      "6UWcp6ASpVIvUWX5eZMtp2\n",
      "https://api.spotify.com/v1/audio-features?ids=6UWcp6ASpVIvUWX5eZMtp2\n",
      "['2giJeD2J4YowE79mo8Fnqm']\n",
      "2giJeD2J4YowE79mo8Fnqm\n",
      "https://api.spotify.com/v1/audio-features?ids=2giJeD2J4YowE79mo8Fnqm\n"
     ]
    },
    {
     "name": "stderr",
     "output_type": "stream",
     "text": [
      " 31%|█████████████████████████                                                       | 180/574 [00:33<01:05,  5.98it/s]"
     ]
    },
    {
     "name": "stdout",
     "output_type": "stream",
     "text": [
      "['2PfPIIxUiH9Y7miXqiQdqv']\n",
      "2PfPIIxUiH9Y7miXqiQdqv\n",
      "https://api.spotify.com/v1/audio-features?ids=2PfPIIxUiH9Y7miXqiQdqv\n",
      "['7CaFGdmcY0tZev9f6zKzDR']\n",
      "7CaFGdmcY0tZev9f6zKzDR\n",
      "https://api.spotify.com/v1/audio-features?ids=7CaFGdmcY0tZev9f6zKzDR\n"
     ]
    },
    {
     "name": "stderr",
     "output_type": "stream",
     "text": [
      " 32%|█████████████████████████▎                                                      | 182/574 [00:33<01:08,  5.76it/s]"
     ]
    },
    {
     "name": "stdout",
     "output_type": "stream",
     "text": [
      "['1QBhGI8QTvMYpp6i8FYiE0']\n",
      "1QBhGI8QTvMYpp6i8FYiE0\n",
      "https://api.spotify.com/v1/audio-features?ids=1QBhGI8QTvMYpp6i8FYiE0\n"
     ]
    },
    {
     "name": "stderr",
     "output_type": "stream",
     "text": [
      "\r",
      " 32%|█████████████████████████▌                                                      | 183/574 [00:34<01:09,  5.61it/s]"
     ]
    },
    {
     "name": "stdout",
     "output_type": "stream",
     "text": [
      "['4mVY5qhPe2PWDvf7E2Sn0d']\n",
      "4mVY5qhPe2PWDvf7E2Sn0d\n",
      "https://api.spotify.com/v1/audio-features?ids=4mVY5qhPe2PWDvf7E2Sn0d\n"
     ]
    },
    {
     "name": "stderr",
     "output_type": "stream",
     "text": [
      "\r",
      " 32%|█████████████████████████▋                                                      | 184/574 [00:34<01:07,  5.80it/s]"
     ]
    },
    {
     "name": "stdout",
     "output_type": "stream",
     "text": [
      "['1tmEnZhAhwUjzwJ7L0QFAh']\n",
      "1tmEnZhAhwUjzwJ7L0QFAh\n",
      "https://api.spotify.com/v1/audio-features?ids=1tmEnZhAhwUjzwJ7L0QFAh\n",
      "['7Id3qONAw6sXE92FlfZEWI']\n",
      "7Id3qONAw6sXE92FlfZEWI\n",
      "https://api.spotify.com/v1/audio-features?ids=7Id3qONAw6sXE92FlfZEWI\n"
     ]
    },
    {
     "name": "stderr",
     "output_type": "stream",
     "text": [
      " 32%|█████████████████████████▉                                                      | 186/574 [00:34<01:04,  6.05it/s]"
     ]
    },
    {
     "name": "stdout",
     "output_type": "stream",
     "text": [
      "['3KkdZgcQxYQQZQXumGO1Cy']\n",
      "3KkdZgcQxYQQZQXumGO1Cy\n",
      "https://api.spotify.com/v1/audio-features?ids=3KkdZgcQxYQQZQXumGO1Cy\n",
      "['3UBZKE16VUDdeZj1VOPL0b']\n",
      "3UBZKE16VUDdeZj1VOPL0b\n",
      "https://api.spotify.com/v1/audio-features?ids=3UBZKE16VUDdeZj1VOPL0b\n"
     ]
    },
    {
     "name": "stderr",
     "output_type": "stream",
     "text": [
      " 33%|██████████████████████████▏                                                     | 188/574 [00:34<01:05,  5.87it/s]"
     ]
    },
    {
     "name": "stdout",
     "output_type": "stream",
     "text": [
      "['0s1QWICdAhug2jCIZJ4QQZ']\n",
      "0s1QWICdAhug2jCIZJ4QQZ\n",
      "https://api.spotify.com/v1/audio-features?ids=0s1QWICdAhug2jCIZJ4QQZ\n",
      "['3EpySzSXQYevKTq1glwGos']\n",
      "3EpySzSXQYevKTq1glwGos\n",
      "https://api.spotify.com/v1/audio-features?ids=3EpySzSXQYevKTq1glwGos\n"
     ]
    },
    {
     "name": "stderr",
     "output_type": "stream",
     "text": [
      " 33%|██████████████████████████▍                                                     | 190/574 [00:35<01:02,  6.14it/s]"
     ]
    },
    {
     "name": "stdout",
     "output_type": "stream",
     "text": [
      "['44bUdMl0JyKxyDS4qku5SB']\n",
      "44bUdMl0JyKxyDS4qku5SB\n",
      "https://api.spotify.com/v1/audio-features?ids=44bUdMl0JyKxyDS4qku5SB\n",
      "['6R3xtNGXOTqp8Qzuf22jaW']\n",
      "6R3xtNGXOTqp8Qzuf22jaW\n",
      "https://api.spotify.com/v1/audio-features?ids=6R3xtNGXOTqp8Qzuf22jaW\n"
     ]
    },
    {
     "name": "stderr",
     "output_type": "stream",
     "text": [
      " 33%|██████████████████████████▊                                                     | 192/574 [00:35<01:02,  6.13it/s]"
     ]
    },
    {
     "name": "stdout",
     "output_type": "stream",
     "text": [
      "['6FaOW5zkj9QtfDSTeHkUCI']\n",
      "6FaOW5zkj9QtfDSTeHkUCI\n",
      "https://api.spotify.com/v1/audio-features?ids=6FaOW5zkj9QtfDSTeHkUCI\n",
      "['3w5V2euF3wWJnZkkt0QBxq']\n",
      "3w5V2euF3wWJnZkkt0QBxq\n",
      "https://api.spotify.com/v1/audio-features?ids=3w5V2euF3wWJnZkkt0QBxq\n"
     ]
    },
    {
     "name": "stderr",
     "output_type": "stream",
     "text": [
      " 34%|███████████████████████████                                                     | 194/574 [00:35<01:03,  5.96it/s]"
     ]
    },
    {
     "name": "stdout",
     "output_type": "stream",
     "text": [
      "['5toHaNWeaCf5cw9Jfn6yK4']\n",
      "5toHaNWeaCf5cw9Jfn6yK4\n",
      "https://api.spotify.com/v1/audio-features?ids=5toHaNWeaCf5cw9Jfn6yK4\n",
      "['1yYLMVMSM2u7t1yfzAivy1']\n",
      "1yYLMVMSM2u7t1yfzAivy1\n",
      "https://api.spotify.com/v1/audio-features?ids=1yYLMVMSM2u7t1yfzAivy1\n"
     ]
    },
    {
     "name": "stderr",
     "output_type": "stream",
     "text": [
      " 34%|███████████████████████████▎                                                    | 196/574 [00:36<01:08,  5.50it/s]"
     ]
    },
    {
     "name": "stdout",
     "output_type": "stream",
     "text": [
      "['0T9wtwG6ZJNgeqBBiGrwGK']\n",
      "0T9wtwG6ZJNgeqBBiGrwGK\n",
      "https://api.spotify.com/v1/audio-features?ids=0T9wtwG6ZJNgeqBBiGrwGK\n",
      "['04EchQ81oKTRmabY8QMLsq']\n",
      "04EchQ81oKTRmabY8QMLsq\n",
      "https://api.spotify.com/v1/audio-features?ids=04EchQ81oKTRmabY8QMLsq\n"
     ]
    },
    {
     "name": "stderr",
     "output_type": "stream",
     "text": [
      " 34%|███████████████████████████▌                                                    | 198/574 [00:36<01:09,  5.44it/s]"
     ]
    },
    {
     "name": "stdout",
     "output_type": "stream",
     "text": [
      "['6roMwL3sNdHRO2MRVmkBRn']\n",
      "6roMwL3sNdHRO2MRVmkBRn\n",
      "https://api.spotify.com/v1/audio-features?ids=6roMwL3sNdHRO2MRVmkBRn\n"
     ]
    },
    {
     "name": "stderr",
     "output_type": "stream",
     "text": [
      "\r",
      " 35%|███████████████████████████▋                                                    | 199/574 [00:36<01:06,  5.63it/s]"
     ]
    },
    {
     "name": "stdout",
     "output_type": "stream",
     "text": [
      "['5kA30CMKo6wUWiINlG4YXt']\n",
      "5kA30CMKo6wUWiINlG4YXt\n",
      "https://api.spotify.com/v1/audio-features?ids=5kA30CMKo6wUWiINlG4YXt\n",
      "['5smfgFsXaD4F510jOD0wLa']\n",
      "5smfgFsXaD4F510jOD0wLa\n",
      "https://api.spotify.com/v1/audio-features?ids=5smfgFsXaD4F510jOD0wLa\n"
     ]
    },
    {
     "name": "stderr",
     "output_type": "stream",
     "text": [
      " 35%|████████████████████████████                                                    | 201/574 [00:37<01:03,  5.87it/s]"
     ]
    },
    {
     "name": "stdout",
     "output_type": "stream",
     "text": [
      "['5OSMwHdDsn4a7VBEOFACWg']\n",
      "5OSMwHdDsn4a7VBEOFACWg\n",
      "https://api.spotify.com/v1/audio-features?ids=5OSMwHdDsn4a7VBEOFACWg\n",
      "['1hp6svNriVSFySA6rhsI5a']\n",
      "1hp6svNriVSFySA6rhsI5a\n",
      "https://api.spotify.com/v1/audio-features?ids=1hp6svNriVSFySA6rhsI5a\n"
     ]
    },
    {
     "name": "stderr",
     "output_type": "stream",
     "text": [
      " 35%|████████████████████████████▎                                                   | 203/574 [00:37<01:02,  5.91it/s]"
     ]
    },
    {
     "name": "stdout",
     "output_type": "stream",
     "text": [
      "['45UT1NY9lpbJfdYp5Kdd1U']\n",
      "45UT1NY9lpbJfdYp5Kdd1U\n",
      "https://api.spotify.com/v1/audio-features?ids=45UT1NY9lpbJfdYp5Kdd1U\n",
      "['0hLa19JP4bItkpyTjopqOb']\n",
      "0hLa19JP4bItkpyTjopqOb\n",
      "https://api.spotify.com/v1/audio-features?ids=0hLa19JP4bItkpyTjopqOb\n"
     ]
    },
    {
     "name": "stderr",
     "output_type": "stream",
     "text": [
      " 36%|████████████████████████████▌                                                   | 205/574 [00:37<01:01,  5.98it/s]"
     ]
    },
    {
     "name": "stdout",
     "output_type": "stream",
     "text": [
      "['7tPjMXhFI1eSWUQlnlXEqy']\n",
      "7tPjMXhFI1eSWUQlnlXEqy\n",
      "https://api.spotify.com/v1/audio-features?ids=7tPjMXhFI1eSWUQlnlXEqy\n",
      "['6YTphVWLG14d3eUiQ5grmU']\n",
      "6YTphVWLG14d3eUiQ5grmU\n",
      "https://api.spotify.com/v1/audio-features?ids=6YTphVWLG14d3eUiQ5grmU\n"
     ]
    },
    {
     "name": "stderr",
     "output_type": "stream",
     "text": [
      " 36%|████████████████████████████▊                                                   | 207/574 [00:38<01:03,  5.76it/s]"
     ]
    },
    {
     "name": "stdout",
     "output_type": "stream",
     "text": [
      "['16RpNkwx8gaDyXD6duTt1l']\n",
      "16RpNkwx8gaDyXD6duTt1l\n",
      "https://api.spotify.com/v1/audio-features?ids=16RpNkwx8gaDyXD6duTt1l\n"
     ]
    },
    {
     "name": "stderr",
     "output_type": "stream",
     "text": [
      "\r",
      " 36%|████████████████████████████▉                                                   | 208/574 [00:38<01:01,  5.94it/s]"
     ]
    },
    {
     "name": "stdout",
     "output_type": "stream",
     "text": [
      "['1LmmaY7vbIRD5qUnB507lz']\n",
      "1LmmaY7vbIRD5qUnB507lz\n",
      "https://api.spotify.com/v1/audio-features?ids=1LmmaY7vbIRD5qUnB507lz\n",
      "['6w4Mc2Twjlm1gu6G4Qrqhd']\n",
      "6w4Mc2Twjlm1gu6G4Qrqhd\n",
      "https://api.spotify.com/v1/audio-features?ids=6w4Mc2Twjlm1gu6G4Qrqhd\n"
     ]
    },
    {
     "name": "stderr",
     "output_type": "stream",
     "text": [
      " 37%|█████████████████████████████▎                                                  | 210/574 [00:38<01:02,  5.84it/s]"
     ]
    },
    {
     "name": "stdout",
     "output_type": "stream",
     "text": [
      "['4km8XxyYCw5CSHM5H36K47']\n",
      "4km8XxyYCw5CSHM5H36K47\n",
      "https://api.spotify.com/v1/audio-features?ids=4km8XxyYCw5CSHM5H36K47\n"
     ]
    },
    {
     "name": "stderr",
     "output_type": "stream",
     "text": [
      "\r",
      " 37%|█████████████████████████████▍                                                  | 211/574 [00:38<01:03,  5.71it/s]"
     ]
    },
    {
     "name": "stdout",
     "output_type": "stream",
     "text": [
      "['5Qhf6Er2tQ71pluUxFwDqI']\n",
      "5Qhf6Er2tQ71pluUxFwDqI\n",
      "https://api.spotify.com/v1/audio-features?ids=5Qhf6Er2tQ71pluUxFwDqI\n"
     ]
    },
    {
     "name": "stderr",
     "output_type": "stream",
     "text": [
      "\r",
      " 37%|█████████████████████████████▌                                                  | 212/574 [00:39<01:04,  5.64it/s]"
     ]
    },
    {
     "name": "stdout",
     "output_type": "stream",
     "text": [
      "['7mYRC0kv4oI7ipqoPT8aXM']\n",
      "7mYRC0kv4oI7ipqoPT8aXM\n",
      "https://api.spotify.com/v1/audio-features?ids=7mYRC0kv4oI7ipqoPT8aXM\n",
      "['053W70CWRzK053YEA8XBVW']\n",
      "053W70CWRzK053YEA8XBVW\n",
      "https://api.spotify.com/v1/audio-features?ids=053W70CWRzK053YEA8XBVW\n"
     ]
    },
    {
     "name": "stderr",
     "output_type": "stream",
     "text": [
      " 37%|█████████████████████████████▊                                                  | 214/574 [00:39<01:04,  5.56it/s]"
     ]
    },
    {
     "name": "stdout",
     "output_type": "stream",
     "text": [
      "['5mIf7UP0FEsGaGWBVjrNKP']\n",
      "5mIf7UP0FEsGaGWBVjrNKP\n",
      "https://api.spotify.com/v1/audio-features?ids=5mIf7UP0FEsGaGWBVjrNKP\n",
      "['0O1wsXEiOMPwFSCdmpP6C0']\n",
      "0O1wsXEiOMPwFSCdmpP6C0\n",
      "https://api.spotify.com/v1/audio-features?ids=0O1wsXEiOMPwFSCdmpP6C0\n"
     ]
    },
    {
     "name": "stderr",
     "output_type": "stream",
     "text": [
      " 38%|██████████████████████████████                                                  | 216/574 [00:39<01:06,  5.42it/s]"
     ]
    },
    {
     "name": "stdout",
     "output_type": "stream",
     "text": [
      "['0Yr1TfeacyGFyDe0aWDla9']\n",
      "0Yr1TfeacyGFyDe0aWDla9\n",
      "https://api.spotify.com/v1/audio-features?ids=0Yr1TfeacyGFyDe0aWDla9\n"
     ]
    },
    {
     "name": "stderr",
     "output_type": "stream",
     "text": [
      "\r",
      " 38%|██████████████████████████████▏                                                 | 217/574 [00:39<01:03,  5.63it/s]"
     ]
    },
    {
     "name": "stdout",
     "output_type": "stream",
     "text": [
      "['0Jv6znEgiRN0QpJXQ9aaWA']\n",
      "0Jv6znEgiRN0QpJXQ9aaWA\n",
      "https://api.spotify.com/v1/audio-features?ids=0Jv6znEgiRN0QpJXQ9aaWA\n",
      "['7GsKP7AgvqfNNJw74MhSLF']\n",
      "7GsKP7AgvqfNNJw74MhSLF\n",
      "https://api.spotify.com/v1/audio-features?ids=7GsKP7AgvqfNNJw74MhSLF\n"
     ]
    },
    {
     "name": "stderr",
     "output_type": "stream",
     "text": [
      " 38%|██████████████████████████████▌                                                 | 219/574 [00:40<01:01,  5.73it/s]"
     ]
    },
    {
     "name": "stdout",
     "output_type": "stream",
     "text": [
      "['7Fyfpwv9UUzfVUsfcoQzQt']\n",
      "7Fyfpwv9UUzfVUsfcoQzQt\n",
      "https://api.spotify.com/v1/audio-features?ids=7Fyfpwv9UUzfVUsfcoQzQt\n",
      "['1BOv46ISdg4Xuv5Ou7M1cG']\n",
      "1BOv46ISdg4Xuv5Ou7M1cG\n",
      "https://api.spotify.com/v1/audio-features?ids=1BOv46ISdg4Xuv5Ou7M1cG\n"
     ]
    },
    {
     "name": "stderr",
     "output_type": "stream",
     "text": [
      " 39%|██████████████████████████████▊                                                 | 221/574 [00:40<01:06,  5.28it/s]"
     ]
    },
    {
     "name": "stdout",
     "output_type": "stream",
     "text": [
      "['7LyA1NPfCyT6mzx6MYTzFG']\n",
      "7LyA1NPfCyT6mzx6MYTzFG\n",
      "https://api.spotify.com/v1/audio-features?ids=7LyA1NPfCyT6mzx6MYTzFG\n"
     ]
    },
    {
     "name": "stderr",
     "output_type": "stream",
     "text": [
      "\r",
      " 39%|██████████████████████████████▉                                                 | 222/574 [00:40<01:07,  5.18it/s]"
     ]
    },
    {
     "name": "stdout",
     "output_type": "stream",
     "text": [
      "['3MkCJcOcLK0PaYy4QgKpWk']\n",
      "3MkCJcOcLK0PaYy4QgKpWk\n",
      "https://api.spotify.com/v1/audio-features?ids=3MkCJcOcLK0PaYy4QgKpWk\n"
     ]
    },
    {
     "name": "stderr",
     "output_type": "stream",
     "text": [
      "\r",
      " 39%|███████████████████████████████                                                 | 223/574 [00:41<01:02,  5.60it/s]"
     ]
    },
    {
     "name": "stdout",
     "output_type": "stream",
     "text": [
      "['2bBrRe20ZB7pJMQaNJ4nwk']\n",
      "2bBrRe20ZB7pJMQaNJ4nwk\n",
      "https://api.spotify.com/v1/audio-features?ids=2bBrRe20ZB7pJMQaNJ4nwk\n",
      "['12sbRlZqz4ubIjKfft0tAk']\n",
      "12sbRlZqz4ubIjKfft0tAk\n",
      "https://api.spotify.com/v1/audio-features?ids=12sbRlZqz4ubIjKfft0tAk\n"
     ]
    },
    {
     "name": "stderr",
     "output_type": "stream",
     "text": [
      " 39%|███████████████████████████████▎                                                | 225/574 [00:41<01:02,  5.57it/s]"
     ]
    },
    {
     "name": "stdout",
     "output_type": "stream",
     "text": [
      "['1ot6jEe4w4hYnsOPjd3xKQ']\n",
      "1ot6jEe4w4hYnsOPjd3xKQ\n",
      "https://api.spotify.com/v1/audio-features?ids=1ot6jEe4w4hYnsOPjd3xKQ\n",
      "['4qv7YSyt5UV8LvrXyE8sGn']\n",
      "4qv7YSyt5UV8LvrXyE8sGn\n",
      "https://api.spotify.com/v1/audio-features?ids=4qv7YSyt5UV8LvrXyE8sGn\n"
     ]
    },
    {
     "name": "stderr",
     "output_type": "stream",
     "text": [
      " 40%|███████████████████████████████▋                                                | 227/574 [00:41<01:02,  5.53it/s]"
     ]
    },
    {
     "name": "stdout",
     "output_type": "stream",
     "text": [
      "['1TfqLAPs4K3s2rJMoCokcS']\n",
      "1TfqLAPs4K3s2rJMoCokcS\n",
      "https://api.spotify.com/v1/audio-features?ids=1TfqLAPs4K3s2rJMoCokcS\n"
     ]
    },
    {
     "name": "stderr",
     "output_type": "stream",
     "text": [
      "\r",
      " 40%|███████████████████████████████▊                                                | 228/574 [00:41<00:59,  5.84it/s]"
     ]
    },
    {
     "name": "stdout",
     "output_type": "stream",
     "text": [
      "['1jDJFeK9x3OZboIAHsY9k2']\n",
      "1jDJFeK9x3OZboIAHsY9k2\n",
      "https://api.spotify.com/v1/audio-features?ids=1jDJFeK9x3OZboIAHsY9k2\n",
      "['4y1LsJpmMti1PfRQV9AWWe']\n",
      "4y1LsJpmMti1PfRQV9AWWe\n",
      "https://api.spotify.com/v1/audio-features?ids=4y1LsJpmMti1PfRQV9AWWe\n"
     ]
    },
    {
     "name": "stderr",
     "output_type": "stream",
     "text": [
      " 40%|████████████████████████████████                                                | 230/574 [00:42<00:59,  5.82it/s]"
     ]
    },
    {
     "name": "stdout",
     "output_type": "stream",
     "text": [
      "['3YMTNzrRktpHDsi6OrmZNO']\n",
      "3YMTNzrRktpHDsi6OrmZNO\n",
      "https://api.spotify.com/v1/audio-features?ids=3YMTNzrRktpHDsi6OrmZNO\n",
      "['2vz1CsL5WBsbpBcwgboTAw']\n",
      "2vz1CsL5WBsbpBcwgboTAw\n",
      "https://api.spotify.com/v1/audio-features?ids=2vz1CsL5WBsbpBcwgboTAw\n"
     ]
    },
    {
     "name": "stderr",
     "output_type": "stream",
     "text": [
      " 40%|████████████████████████████████▎                                               | 232/574 [00:42<00:57,  5.94it/s]"
     ]
    },
    {
     "name": "stdout",
     "output_type": "stream",
     "text": [
      "['1OOtq8tRnDM8kG2gqUPjAj']\n",
      "1OOtq8tRnDM8kG2gqUPjAj\n",
      "https://api.spotify.com/v1/audio-features?ids=1OOtq8tRnDM8kG2gqUPjAj\n",
      "['7o7E1nrHWncYY7PY94gCiX']\n",
      "7o7E1nrHWncYY7PY94gCiX\n",
      "https://api.spotify.com/v1/audio-features?ids=7o7E1nrHWncYY7PY94gCiX\n"
     ]
    },
    {
     "name": "stderr",
     "output_type": "stream",
     "text": [
      " 41%|████████████████████████████████▌                                               | 234/574 [00:42<00:53,  6.30it/s]"
     ]
    },
    {
     "name": "stdout",
     "output_type": "stream",
     "text": [
      "['4aKIs5t9TqP59btlCGPrgw']\n",
      "4aKIs5t9TqP59btlCGPrgw\n",
      "https://api.spotify.com/v1/audio-features?ids=4aKIs5t9TqP59btlCGPrgw\n",
      "['2IvetNzSZMH5gwjInoyr18']\n",
      "2IvetNzSZMH5gwjInoyr18\n",
      "https://api.spotify.com/v1/audio-features?ids=2IvetNzSZMH5gwjInoyr18\n"
     ]
    },
    {
     "name": "stderr",
     "output_type": "stream",
     "text": [
      " 41%|████████████████████████████████▉                                               | 236/574 [00:43<01:00,  5.62it/s]"
     ]
    },
    {
     "name": "stdout",
     "output_type": "stream",
     "text": [
      "['7LmDmvqagpX0PKxveGtZTa']\n",
      "7LmDmvqagpX0PKxveGtZTa\n",
      "https://api.spotify.com/v1/audio-features?ids=7LmDmvqagpX0PKxveGtZTa\n"
     ]
    },
    {
     "name": "stderr",
     "output_type": "stream",
     "text": [
      "\r",
      " 41%|█████████████████████████████████                                               | 237/574 [00:43<00:58,  5.78it/s]"
     ]
    },
    {
     "name": "stdout",
     "output_type": "stream",
     "text": [
      "['1xPSDf8z4dH46gkvlLtvDO']\n",
      "1xPSDf8z4dH46gkvlLtvDO\n",
      "https://api.spotify.com/v1/audio-features?ids=1xPSDf8z4dH46gkvlLtvDO\n",
      "['3cbV252akVZInSvJk7jAYX']\n",
      "3cbV252akVZInSvJk7jAYX\n",
      "https://api.spotify.com/v1/audio-features?ids=3cbV252akVZInSvJk7jAYX\n"
     ]
    },
    {
     "name": "stderr",
     "output_type": "stream",
     "text": [
      " 42%|█████████████████████████████████▎                                              | 239/574 [00:43<00:53,  6.21it/s]"
     ]
    },
    {
     "name": "stdout",
     "output_type": "stream",
     "text": [
      "['5pSvjjfsh34sLrkYSNGCl4']\n",
      "5pSvjjfsh34sLrkYSNGCl4\n",
      "https://api.spotify.com/v1/audio-features?ids=5pSvjjfsh34sLrkYSNGCl4\n",
      "['5XsMz0YfEaHZE0MTb1aujs']\n",
      "5XsMz0YfEaHZE0MTb1aujs\n",
      "https://api.spotify.com/v1/audio-features?ids=5XsMz0YfEaHZE0MTb1aujs\n"
     ]
    },
    {
     "name": "stderr",
     "output_type": "stream",
     "text": [
      " 42%|█████████████████████████████████▌                                              | 241/574 [00:44<00:52,  6.37it/s]"
     ]
    },
    {
     "name": "stdout",
     "output_type": "stream",
     "text": [
      "['0cGG2EouYCEEC3xfa0tDFV']\n",
      "0cGG2EouYCEEC3xfa0tDFV\n",
      "https://api.spotify.com/v1/audio-features?ids=0cGG2EouYCEEC3xfa0tDFV\n",
      "['3FlOciKDqFlTMPeC7t92Qy']\n",
      "3FlOciKDqFlTMPeC7t92Qy\n",
      "https://api.spotify.com/v1/audio-features?ids=3FlOciKDqFlTMPeC7t92Qy\n"
     ]
    },
    {
     "name": "stderr",
     "output_type": "stream",
     "text": [
      " 42%|█████████████████████████████████▊                                              | 243/574 [00:44<00:54,  6.10it/s]"
     ]
    },
    {
     "name": "stdout",
     "output_type": "stream",
     "text": [
      "['2KH16WveTQWT6KOG9Rg6e2']\n",
      "2KH16WveTQWT6KOG9Rg6e2\n",
      "https://api.spotify.com/v1/audio-features?ids=2KH16WveTQWT6KOG9Rg6e2\n",
      "['4d6eqRtpDX7tydHJGDZUBQ']\n",
      "4d6eqRtpDX7tydHJGDZUBQ\n",
      "https://api.spotify.com/v1/audio-features?ids=4d6eqRtpDX7tydHJGDZUBQ\n"
     ]
    },
    {
     "name": "stderr",
     "output_type": "stream",
     "text": [
      " 43%|██████████████████████████████████▏                                             | 245/574 [00:44<00:54,  6.04it/s]"
     ]
    },
    {
     "name": "stdout",
     "output_type": "stream",
     "text": [
      "['4k6ktr10Hczmh55NY3LfJy']\n",
      "4k6ktr10Hczmh55NY3LfJy\n",
      "https://api.spotify.com/v1/audio-features?ids=4k6ktr10Hczmh55NY3LfJy\n",
      "['273uCXd7NPrInaiNqtkOrA']\n",
      "273uCXd7NPrInaiNqtkOrA\n",
      "https://api.spotify.com/v1/audio-features?ids=273uCXd7NPrInaiNqtkOrA\n"
     ]
    },
    {
     "name": "stderr",
     "output_type": "stream",
     "text": [
      " 43%|██████████████████████████████████▍                                             | 247/574 [00:45<00:52,  6.24it/s]"
     ]
    },
    {
     "name": "stdout",
     "output_type": "stream",
     "text": [
      "['6A4Jc8npNo79BOgsrPptLA']\n",
      "6A4Jc8npNo79BOgsrPptLA\n",
      "https://api.spotify.com/v1/audio-features?ids=6A4Jc8npNo79BOgsrPptLA\n",
      "['7fRvtXvJMpGfTLdF0M09a1']\n",
      "7fRvtXvJMpGfTLdF0M09a1\n",
      "https://api.spotify.com/v1/audio-features?ids=7fRvtXvJMpGfTLdF0M09a1\n"
     ]
    },
    {
     "name": "stderr",
     "output_type": "stream",
     "text": [
      " 43%|██████████████████████████████████▋                                             | 249/574 [00:45<00:54,  5.97it/s]"
     ]
    },
    {
     "name": "stdout",
     "output_type": "stream",
     "text": [
      "['2FpyKkCFIfqmp6eQx4Rn1V']\n",
      "2FpyKkCFIfqmp6eQx4Rn1V\n",
      "https://api.spotify.com/v1/audio-features?ids=2FpyKkCFIfqmp6eQx4Rn1V\n",
      "['57Y3UccJEJqT8w8RWkUAz0']\n",
      "57Y3UccJEJqT8w8RWkUAz0\n",
      "https://api.spotify.com/v1/audio-features?ids=57Y3UccJEJqT8w8RWkUAz0\n"
     ]
    },
    {
     "name": "stderr",
     "output_type": "stream",
     "text": [
      " 44%|██████████████████████████████████▉                                             | 251/574 [00:45<00:53,  6.09it/s]"
     ]
    },
    {
     "name": "stdout",
     "output_type": "stream",
     "text": [
      "['0F0MA0ns8oXwGw66B2BSXm']\n",
      "0F0MA0ns8oXwGw66B2BSXm\n",
      "https://api.spotify.com/v1/audio-features?ids=0F0MA0ns8oXwGw66B2BSXm\n",
      "['7INi4pMPG4IE0Smx5y4KVf']\n",
      "7INi4pMPG4IE0Smx5y4KVf\n",
      "https://api.spotify.com/v1/audio-features?ids=7INi4pMPG4IE0Smx5y4KVf\n"
     ]
    },
    {
     "name": "stderr",
     "output_type": "stream",
     "text": [
      " 44%|███████████████████████████████████▎                                            | 253/574 [00:46<00:52,  6.06it/s]"
     ]
    },
    {
     "name": "stdout",
     "output_type": "stream",
     "text": [
      "['1RSy7B2vfPi84N80QJ6frX']\n",
      "1RSy7B2vfPi84N80QJ6frX\n",
      "https://api.spotify.com/v1/audio-features?ids=1RSy7B2vfPi84N80QJ6frX\n",
      "['6HA97v4wEGQ5TUClRM0XLc']\n",
      "6HA97v4wEGQ5TUClRM0XLc\n",
      "https://api.spotify.com/v1/audio-features?ids=6HA97v4wEGQ5TUClRM0XLc\n"
     ]
    },
    {
     "name": "stderr",
     "output_type": "stream",
     "text": [
      " 44%|███████████████████████████████████▌                                            | 255/574 [00:46<00:54,  5.83it/s]"
     ]
    },
    {
     "name": "stdout",
     "output_type": "stream",
     "text": [
      "['5zA8vzDGqPl2AzZkEYQGKh']\n",
      "5zA8vzDGqPl2AzZkEYQGKh\n",
      "https://api.spotify.com/v1/audio-features?ids=5zA8vzDGqPl2AzZkEYQGKh\n",
      "['5tdKaKLnC4SgtDZ6RlWeal']\n",
      "5tdKaKLnC4SgtDZ6RlWeal\n",
      "https://api.spotify.com/v1/audio-features?ids=5tdKaKLnC4SgtDZ6RlWeal\n"
     ]
    },
    {
     "name": "stderr",
     "output_type": "stream",
     "text": [
      " 45%|███████████████████████████████████▊                                            | 257/574 [00:46<00:53,  5.97it/s]"
     ]
    },
    {
     "name": "stdout",
     "output_type": "stream",
     "text": [
      "['0uI4aw6ms90qFNawk9H9CO']\n",
      "0uI4aw6ms90qFNawk9H9CO\n",
      "https://api.spotify.com/v1/audio-features?ids=0uI4aw6ms90qFNawk9H9CO\n",
      "['2eRmD96ncTEgQwJmXa6rrg']\n",
      "2eRmD96ncTEgQwJmXa6rrg\n",
      "https://api.spotify.com/v1/audio-features?ids=2eRmD96ncTEgQwJmXa6rrg\n"
     ]
    },
    {
     "name": "stderr",
     "output_type": "stream",
     "text": [
      "\r",
      " 45%|███████████████████████████████████▉                                            | 258/574 [00:46<00:52,  6.07it/s]"
     ]
    },
    {
     "name": "stdout",
     "output_type": "stream",
     "text": [
      "['5yf83IdQmCRRAHwhNtSnvD']\n",
      "5yf83IdQmCRRAHwhNtSnvD\n",
      "https://api.spotify.com/v1/audio-features?ids=5yf83IdQmCRRAHwhNtSnvD\n"
     ]
    },
    {
     "name": "stderr",
     "output_type": "stream",
     "text": [
      " 45%|████████████████████████████████████▏                                           | 260/574 [00:47<00:57,  5.45it/s]"
     ]
    },
    {
     "name": "stdout",
     "output_type": "stream",
     "text": [
      "['2olVm1lHicpveMAo4AUDRB']\n",
      "2olVm1lHicpveMAo4AUDRB\n",
      "https://api.spotify.com/v1/audio-features?ids=2olVm1lHicpveMAo4AUDRB\n"
     ]
    },
    {
     "name": "stderr",
     "output_type": "stream",
     "text": [
      "\r",
      " 45%|████████████████████████████████████▍                                           | 261/574 [00:47<00:56,  5.51it/s]"
     ]
    },
    {
     "name": "stdout",
     "output_type": "stream",
     "text": [
      "['3koCCeSaVUyrRo3N2gHrd8']\n",
      "3koCCeSaVUyrRo3N2gHrd8\n",
      "https://api.spotify.com/v1/audio-features?ids=3koCCeSaVUyrRo3N2gHrd8\n",
      "['4WoT9wgK9o1cxBfKRWlRzx']\n",
      "4WoT9wgK9o1cxBfKRWlRzx\n",
      "https://api.spotify.com/v1/audio-features?ids=4WoT9wgK9o1cxBfKRWlRzx\n"
     ]
    },
    {
     "name": "stderr",
     "output_type": "stream",
     "text": [
      "\r",
      " 46%|████████████████████████████████████▌                                           | 262/574 [00:47<00:58,  5.35it/s]"
     ]
    },
    {
     "name": "stdout",
     "output_type": "stream",
     "text": [
      "['3m0y8qLoznUYi73SUBP8GI']\n",
      "3m0y8qLoznUYi73SUBP8GI\n",
      "https://api.spotify.com/v1/audio-features?ids=3m0y8qLoznUYi73SUBP8GI\n"
     ]
    },
    {
     "name": "stderr",
     "output_type": "stream",
     "text": [
      " 46%|████████████████████████████████████▊                                           | 264/574 [00:48<01:00,  5.09it/s]"
     ]
    },
    {
     "name": "stdout",
     "output_type": "stream",
     "text": [
      "['1uI848raFaNWwe9HjHpjQ5']\n",
      "1uI848raFaNWwe9HjHpjQ5\n",
      "https://api.spotify.com/v1/audio-features?ids=1uI848raFaNWwe9HjHpjQ5\n"
     ]
    },
    {
     "name": "stderr",
     "output_type": "stream",
     "text": [
      "\r",
      " 46%|████████████████████████████████████▉                                           | 265/574 [00:48<01:01,  5.05it/s]"
     ]
    },
    {
     "name": "stdout",
     "output_type": "stream",
     "text": [
      "['21qnJAMtzC6S5SESuqQLEK']\n",
      "21qnJAMtzC6S5SESuqQLEK\n",
      "https://api.spotify.com/v1/audio-features?ids=21qnJAMtzC6S5SESuqQLEK\n"
     ]
    },
    {
     "name": "stderr",
     "output_type": "stream",
     "text": [
      "\r",
      " 46%|█████████████████████████████████████                                           | 266/574 [00:48<00:59,  5.15it/s]"
     ]
    },
    {
     "name": "stdout",
     "output_type": "stream",
     "text": [
      "['5vdp5UmvTsnMEMESIF2Ym7']\n",
      "5vdp5UmvTsnMEMESIF2Ym7\n",
      "https://api.spotify.com/v1/audio-features?ids=5vdp5UmvTsnMEMESIF2Ym7\n"
     ]
    },
    {
     "name": "stderr",
     "output_type": "stream",
     "text": [
      "\r",
      " 47%|█████████████████████████████████████▏                                          | 267/574 [00:48<00:56,  5.40it/s]"
     ]
    },
    {
     "name": "stdout",
     "output_type": "stream",
     "text": [
      "['0Z7O8GMQShj9TJrm2yX1R6']\n",
      "0Z7O8GMQShj9TJrm2yX1R6\n",
      "https://api.spotify.com/v1/audio-features?ids=0Z7O8GMQShj9TJrm2yX1R6\n",
      "['0RgLPN21aV1Ps39Tyb7268']\n",
      "0RgLPN21aV1Ps39Tyb7268\n",
      "https://api.spotify.com/v1/audio-features?ids=0RgLPN21aV1Ps39Tyb7268\n"
     ]
    },
    {
     "name": "stderr",
     "output_type": "stream",
     "text": [
      " 47%|█████████████████████████████████████▍                                          | 269/574 [00:48<00:53,  5.68it/s]"
     ]
    },
    {
     "name": "stdout",
     "output_type": "stream",
     "text": [
      "['4uLU6hMCjMI75M1A2tKUQC']\n",
      "4uLU6hMCjMI75M1A2tKUQC\n",
      "https://api.spotify.com/v1/audio-features?ids=4uLU6hMCjMI75M1A2tKUQC\n"
     ]
    },
    {
     "name": "stderr",
     "output_type": "stream",
     "text": [
      "\r",
      " 47%|█████████████████████████████████████▋                                          | 270/574 [00:49<00:50,  6.04it/s]"
     ]
    },
    {
     "name": "stdout",
     "output_type": "stream",
     "text": [
      "['4lRdpZYTwaPpuKpquO6bo3']\n",
      "4lRdpZYTwaPpuKpquO6bo3\n",
      "https://api.spotify.com/v1/audio-features?ids=4lRdpZYTwaPpuKpquO6bo3\n",
      "['3hVrI7snZMTmHCnbwME47u']\n",
      "3hVrI7snZMTmHCnbwME47u\n",
      "https://api.spotify.com/v1/audio-features?ids=3hVrI7snZMTmHCnbwME47u\n"
     ]
    },
    {
     "name": "stderr",
     "output_type": "stream",
     "text": [
      " 47%|█████████████████████████████████████▉                                          | 272/574 [00:49<00:50,  6.04it/s]"
     ]
    },
    {
     "name": "stdout",
     "output_type": "stream",
     "text": [
      "['5RLDIY4PICQWxdlLfDHNfi']\n",
      "5RLDIY4PICQWxdlLfDHNfi\n",
      "https://api.spotify.com/v1/audio-features?ids=5RLDIY4PICQWxdlLfDHNfi\n",
      "['369JKykZZr1qzv9pg5zAhz']\n",
      "369JKykZZr1qzv9pg5zAhz\n",
      "https://api.spotify.com/v1/audio-features?ids=369JKykZZr1qzv9pg5zAhz\n"
     ]
    },
    {
     "name": "stderr",
     "output_type": "stream",
     "text": [
      " 48%|██████████████████████████████████████▏                                         | 274/574 [00:49<00:52,  5.76it/s]"
     ]
    },
    {
     "name": "stdout",
     "output_type": "stream",
     "text": [
      "['6sT9MWlJManry3EQwf4V80']\n",
      "6sT9MWlJManry3EQwf4V80\n",
      "https://api.spotify.com/v1/audio-features?ids=6sT9MWlJManry3EQwf4V80\n",
      "['2s1lS0DxcxTB8Y6oFgVKqW']\n",
      "2s1lS0DxcxTB8Y6oFgVKqW\n",
      "https://api.spotify.com/v1/audio-features?ids=2s1lS0DxcxTB8Y6oFgVKqW\n"
     ]
    },
    {
     "name": "stderr",
     "output_type": "stream",
     "text": [
      " 48%|██████████████████████████████████████▍                                         | 276/574 [00:50<00:52,  5.70it/s]"
     ]
    },
    {
     "name": "stdout",
     "output_type": "stream",
     "text": [
      "['27NovPIUIRrOZoCHxABJwK']\n",
      "27NovPIUIRrOZoCHxABJwK\n",
      "https://api.spotify.com/v1/audio-features?ids=27NovPIUIRrOZoCHxABJwK\n"
     ]
    },
    {
     "name": "stderr",
     "output_type": "stream",
     "text": [
      "\r",
      " 48%|██████████████████████████████████████▌                                         | 277/574 [00:50<00:51,  5.79it/s]"
     ]
    },
    {
     "name": "stdout",
     "output_type": "stream",
     "text": [
      "['27Z3UdqvdAhtJlWBMoDjBD']\n",
      "27Z3UdqvdAhtJlWBMoDjBD\n",
      "https://api.spotify.com/v1/audio-features?ids=27Z3UdqvdAhtJlWBMoDjBD\n",
      "['4IbDTrLxImTJfZePAX2nKB']\n",
      "4IbDTrLxImTJfZePAX2nKB\n",
      "https://api.spotify.com/v1/audio-features?ids=4IbDTrLxImTJfZePAX2nKB\n"
     ]
    },
    {
     "name": "stderr",
     "output_type": "stream",
     "text": [
      " 49%|██████████████████████████████████████▉                                         | 279/574 [00:50<00:53,  5.56it/s]"
     ]
    },
    {
     "name": "stdout",
     "output_type": "stream",
     "text": [
      "['3IR9wKWxI0TK1DLXvZq8uQ']\n",
      "3IR9wKWxI0TK1DLXvZq8uQ\n",
      "https://api.spotify.com/v1/audio-features?ids=3IR9wKWxI0TK1DLXvZq8uQ\n"
     ]
    },
    {
     "name": "stderr",
     "output_type": "stream",
     "text": [
      "\r",
      " 49%|███████████████████████████████████████                                         | 280/574 [00:50<00:51,  5.66it/s]"
     ]
    },
    {
     "name": "stdout",
     "output_type": "stream",
     "text": [
      "['37Nqx7iavZpotJSDXZWbJ3']\n",
      "37Nqx7iavZpotJSDXZWbJ3\n",
      "https://api.spotify.com/v1/audio-features?ids=37Nqx7iavZpotJSDXZWbJ3\n",
      "['6CyIkPh5mRkJg7T5xXynQ8']\n",
      "6CyIkPh5mRkJg7T5xXynQ8\n",
      "https://api.spotify.com/v1/audio-features?ids=6CyIkPh5mRkJg7T5xXynQ8\n"
     ]
    },
    {
     "name": "stderr",
     "output_type": "stream",
     "text": [
      " 49%|███████████████████████████████████████▎                                        | 282/574 [00:51<00:50,  5.73it/s]"
     ]
    },
    {
     "name": "stdout",
     "output_type": "stream",
     "text": [
      "['2kUKeN9ZpYHqfBjB8Gphb2']\n",
      "2kUKeN9ZpYHqfBjB8Gphb2\n",
      "https://api.spotify.com/v1/audio-features?ids=2kUKeN9ZpYHqfBjB8Gphb2\n",
      "['6D5R8LKkeTmQveLoUKrK0D']\n",
      "6D5R8LKkeTmQveLoUKrK0D\n",
      "https://api.spotify.com/v1/audio-features?ids=6D5R8LKkeTmQveLoUKrK0D\n"
     ]
    },
    {
     "name": "stderr",
     "output_type": "stream",
     "text": [
      "\r",
      " 49%|███████████████████████████████████████▍                                        | 283/574 [00:51<00:51,  5.70it/s]"
     ]
    },
    {
     "name": "stdout",
     "output_type": "stream",
     "text": [
      "['6Uj1ctrBOjOas8xZXGqKk4']\n",
      "6Uj1ctrBOjOas8xZXGqKk4\n",
      "https://api.spotify.com/v1/audio-features?ids=6Uj1ctrBOjOas8xZXGqKk4\n"
     ]
    },
    {
     "name": "stderr",
     "output_type": "stream",
     "text": [
      " 50%|███████████████████████████████████████▋                                        | 285/574 [00:51<00:51,  5.60it/s]"
     ]
    },
    {
     "name": "stdout",
     "output_type": "stream",
     "text": [
      "['14M6BbiHt2w9KHVvoIUIUF']\n",
      "14M6BbiHt2w9KHVvoIUIUF\n",
      "https://api.spotify.com/v1/audio-features?ids=14M6BbiHt2w9KHVvoIUIUF\n",
      "['2gmTz7pHMqAk6fpOc88qxA']\n",
      "2gmTz7pHMqAk6fpOc88qxA\n",
      "https://api.spotify.com/v1/audio-features?ids=2gmTz7pHMqAk6fpOc88qxA\n"
     ]
    },
    {
     "name": "stderr",
     "output_type": "stream",
     "text": [
      " 50%|████████████████████████████████████████                                        | 287/574 [00:52<00:48,  5.88it/s]"
     ]
    },
    {
     "name": "stdout",
     "output_type": "stream",
     "text": [
      "['7r9KkTYiFYMuNcGR4aySxh']\n",
      "7r9KkTYiFYMuNcGR4aySxh\n",
      "https://api.spotify.com/v1/audio-features?ids=7r9KkTYiFYMuNcGR4aySxh\n",
      "['21AJQhGZpujjZQXByZAXpr']\n",
      "21AJQhGZpujjZQXByZAXpr\n",
      "https://api.spotify.com/v1/audio-features?ids=21AJQhGZpujjZQXByZAXpr\n"
     ]
    },
    {
     "name": "stderr",
     "output_type": "stream",
     "text": [
      " 50%|████████████████████████████████████████▎                                       | 289/574 [00:52<00:46,  6.20it/s]"
     ]
    },
    {
     "name": "stdout",
     "output_type": "stream",
     "text": [
      "['0JyX9jNf4mUdp1eNUVAqyR']\n",
      "0JyX9jNf4mUdp1eNUVAqyR\n",
      "https://api.spotify.com/v1/audio-features?ids=0JyX9jNf4mUdp1eNUVAqyR\n",
      "['5sLfmuQHJtPjSORQF2sbrJ']\n",
      "5sLfmuQHJtPjSORQF2sbrJ\n",
      "https://api.spotify.com/v1/audio-features?ids=5sLfmuQHJtPjSORQF2sbrJ\n"
     ]
    },
    {
     "name": "stderr",
     "output_type": "stream",
     "text": [
      " 51%|████████████████████████████████████████▌                                       | 291/574 [00:52<00:47,  5.98it/s]"
     ]
    },
    {
     "name": "stdout",
     "output_type": "stream",
     "text": [
      "['62nJqZs3Qs7DGUto35dVUv']\n",
      "62nJqZs3Qs7DGUto35dVUv\n",
      "https://api.spotify.com/v1/audio-features?ids=62nJqZs3Qs7DGUto35dVUv\n",
      "['7hU3IHwjX150XLoTVmjD0q']\n",
      "7hU3IHwjX150XLoTVmjD0q\n",
      "https://api.spotify.com/v1/audio-features?ids=7hU3IHwjX150XLoTVmjD0q\n"
     ]
    },
    {
     "name": "stderr",
     "output_type": "stream",
     "text": [
      " 51%|████████████████████████████████████████▊                                       | 293/574 [00:53<00:47,  5.90it/s]"
     ]
    },
    {
     "name": "stdout",
     "output_type": "stream",
     "text": [
      "['1VOn2rRxe7JBweoK4SINHe']\n",
      "1VOn2rRxe7JBweoK4SINHe\n",
      "https://api.spotify.com/v1/audio-features?ids=1VOn2rRxe7JBweoK4SINHe\n"
     ]
    },
    {
     "name": "stderr",
     "output_type": "stream",
     "text": [
      "\r",
      " 51%|████████████████████████████████████████▉                                       | 294/574 [00:53<00:45,  6.10it/s]"
     ]
    },
    {
     "name": "stdout",
     "output_type": "stream",
     "text": [
      "['4QAv7uyOwIgqOVgzczomOo']\n",
      "4QAv7uyOwIgqOVgzczomOo\n",
      "https://api.spotify.com/v1/audio-features?ids=4QAv7uyOwIgqOVgzczomOo\n",
      "['6YC6zgdJog4gw0y2IyfRmR']\n",
      "6YC6zgdJog4gw0y2IyfRmR\n",
      "https://api.spotify.com/v1/audio-features?ids=6YC6zgdJog4gw0y2IyfRmR\n"
     ]
    },
    {
     "name": "stderr",
     "output_type": "stream",
     "text": [
      " 52%|█████████████████████████████████████████▎                                      | 296/574 [00:53<00:47,  5.85it/s]"
     ]
    },
    {
     "name": "stdout",
     "output_type": "stream",
     "text": [
      "['40uMIn2zJLAQhNXghRjBed']\n",
      "40uMIn2zJLAQhNXghRjBed\n",
      "https://api.spotify.com/v1/audio-features?ids=40uMIn2zJLAQhNXghRjBed\n",
      "['13tc5dzElXbImNjDzz4E2B']\n",
      "13tc5dzElXbImNjDzz4E2B\n",
      "https://api.spotify.com/v1/audio-features?ids=13tc5dzElXbImNjDzz4E2B\n"
     ]
    },
    {
     "name": "stderr",
     "output_type": "stream",
     "text": [
      " 52%|█████████████████████████████████████████▌                                      | 298/574 [00:53<00:44,  6.15it/s]"
     ]
    },
    {
     "name": "stdout",
     "output_type": "stream",
     "text": [
      "['3bGGvbwbhq9kIMhHaXBdYL']\n",
      "3bGGvbwbhq9kIMhHaXBdYL\n",
      "https://api.spotify.com/v1/audio-features?ids=3bGGvbwbhq9kIMhHaXBdYL\n",
      "['1SelxYHPb04GjUy0oYV1Jw']\n",
      "1SelxYHPb04GjUy0oYV1Jw\n",
      "https://api.spotify.com/v1/audio-features?ids=1SelxYHPb04GjUy0oYV1Jw\n"
     ]
    },
    {
     "name": "stderr",
     "output_type": "stream",
     "text": [
      " 52%|█████████████████████████████████████████▊                                      | 300/574 [00:54<00:43,  6.25it/s]"
     ]
    },
    {
     "name": "stdout",
     "output_type": "stream",
     "text": [
      "['25r6MZ4Gtd76l43qnZI1DG']\n",
      "25r6MZ4Gtd76l43qnZI1DG\n",
      "https://api.spotify.com/v1/audio-features?ids=25r6MZ4Gtd76l43qnZI1DG\n",
      "['6Vcxzw4ifKqYxVrp3ckpVF']\n",
      "6Vcxzw4ifKqYxVrp3ckpVF\n",
      "https://api.spotify.com/v1/audio-features?ids=6Vcxzw4ifKqYxVrp3ckpVF\n"
     ]
    },
    {
     "name": "stderr",
     "output_type": "stream",
     "text": [
      " 53%|██████████████████████████████████████████                                      | 302/574 [00:54<00:45,  5.95it/s]"
     ]
    },
    {
     "name": "stdout",
     "output_type": "stream",
     "text": [
      "['2vd2HEhrkafOi2uveHjzzh']\n",
      "2vd2HEhrkafOi2uveHjzzh\n",
      "https://api.spotify.com/v1/audio-features?ids=2vd2HEhrkafOi2uveHjzzh\n",
      "['0e8nrvls4Qqv5Rfa2UhqmO']\n",
      "0e8nrvls4Qqv5Rfa2UhqmO\n",
      "https://api.spotify.com/v1/audio-features?ids=0e8nrvls4Qqv5Rfa2UhqmO\n"
     ]
    },
    {
     "name": "stderr",
     "output_type": "stream",
     "text": [
      "\r",
      " 53%|██████████████████████████████████████████▏                                     | 303/574 [00:54<00:46,  5.88it/s]"
     ]
    },
    {
     "name": "stdout",
     "output_type": "stream",
     "text": [
      "['5csxKPX4HuN8UDEdHUxcqz']\n",
      "5csxKPX4HuN8UDEdHUxcqz\n",
      "https://api.spotify.com/v1/audio-features?ids=5csxKPX4HuN8UDEdHUxcqz\n"
     ]
    },
    {
     "name": "stderr",
     "output_type": "stream",
     "text": [
      "\r",
      " 53%|██████████████████████████████████████████▎                                     | 304/574 [00:54<00:51,  5.24it/s]"
     ]
    },
    {
     "name": "stdout",
     "output_type": "stream",
     "text": [
      "['7qezIDRM0E3WTW1lWxItug']\n",
      "7qezIDRM0E3WTW1lWxItug\n",
      "https://api.spotify.com/v1/audio-features?ids=7qezIDRM0E3WTW1lWxItug\n"
     ]
    },
    {
     "name": "stderr",
     "output_type": "stream",
     "text": [
      " 53%|██████████████████████████████████████████▋                                     | 306/574 [00:55<00:52,  5.10it/s]"
     ]
    },
    {
     "name": "stdout",
     "output_type": "stream",
     "text": [
      "['4PYfFHKfjYz6dwAtZhBy1z']\n",
      "4PYfFHKfjYz6dwAtZhBy1z\n",
      "https://api.spotify.com/v1/audio-features?ids=4PYfFHKfjYz6dwAtZhBy1z\n"
     ]
    },
    {
     "name": "stderr",
     "output_type": "stream",
     "text": [
      "\r",
      " 53%|██████████████████████████████████████████▊                                     | 307/574 [00:55<00:50,  5.31it/s]"
     ]
    },
    {
     "name": "stdout",
     "output_type": "stream",
     "text": [
      "['3EwsJXInOSrHZqSRW2UceI']\n",
      "3EwsJXInOSrHZqSRW2UceI\n",
      "https://api.spotify.com/v1/audio-features?ids=3EwsJXInOSrHZqSRW2UceI\n",
      "['4CWcaGtaOyAqBDKIeZMUe0']\n",
      "4CWcaGtaOyAqBDKIeZMUe0\n",
      "https://api.spotify.com/v1/audio-features?ids=4CWcaGtaOyAqBDKIeZMUe0\n"
     ]
    },
    {
     "name": "stderr",
     "output_type": "stream",
     "text": [
      " 54%|███████████████████████████████████████████                                     | 309/574 [00:55<00:48,  5.48it/s]"
     ]
    },
    {
     "name": "stdout",
     "output_type": "stream",
     "text": [
      "['7moGDROshDKDpuQxtQ3q4m']\n",
      "7moGDROshDKDpuQxtQ3q4m\n",
      "https://api.spotify.com/v1/audio-features?ids=7moGDROshDKDpuQxtQ3q4m\n",
      "['4XvcHTUfIlWfyJTRG0aqlo']\n",
      "4XvcHTUfIlWfyJTRG0aqlo\n",
      "https://api.spotify.com/v1/audio-features?ids=4XvcHTUfIlWfyJTRG0aqlo\n"
     ]
    },
    {
     "name": "stderr",
     "output_type": "stream",
     "text": [
      " 54%|███████████████████████████████████████████▎                                    | 311/574 [00:56<00:50,  5.17it/s]"
     ]
    },
    {
     "name": "stdout",
     "output_type": "stream",
     "text": [
      "['731JjfIII1qYfeatc3zhtU']\n",
      "731JjfIII1qYfeatc3zhtU\n",
      "https://api.spotify.com/v1/audio-features?ids=731JjfIII1qYfeatc3zhtU\n"
     ]
    },
    {
     "name": "stderr",
     "output_type": "stream",
     "text": [
      "\r",
      " 54%|███████████████████████████████████████████▍                                    | 312/574 [00:56<00:51,  5.11it/s]"
     ]
    },
    {
     "name": "stdout",
     "output_type": "stream",
     "text": [
      "['2Dv1CPIgX29t816ZLscdB2']\n",
      "2Dv1CPIgX29t816ZLscdB2\n",
      "https://api.spotify.com/v1/audio-features?ids=2Dv1CPIgX29t816ZLscdB2\n"
     ]
    },
    {
     "name": "stderr",
     "output_type": "stream",
     "text": [
      "\r",
      " 55%|███████████████████████████████████████████▌                                    | 313/574 [00:56<00:50,  5.20it/s]"
     ]
    },
    {
     "name": "stdout",
     "output_type": "stream",
     "text": [
      "['1mBdiyA2OUySEprEEOKJ6g']\n",
      "1mBdiyA2OUySEprEEOKJ6g\n",
      "https://api.spotify.com/v1/audio-features?ids=1mBdiyA2OUySEprEEOKJ6g\n"
     ]
    },
    {
     "name": "stderr",
     "output_type": "stream",
     "text": [
      "\r",
      " 55%|███████████████████████████████████████████▊                                    | 314/574 [00:56<00:50,  5.16it/s]"
     ]
    },
    {
     "name": "stdout",
     "output_type": "stream",
     "text": [
      "['06ZtJB09ab4la47q7ZcPbB']\n",
      "06ZtJB09ab4la47q7ZcPbB\n",
      "https://api.spotify.com/v1/audio-features?ids=06ZtJB09ab4la47q7ZcPbB\n"
     ]
    },
    {
     "name": "stderr",
     "output_type": "stream",
     "text": [
      "\r",
      " 55%|███████████████████████████████████████████▉                                    | 315/574 [00:57<00:50,  5.14it/s]"
     ]
    },
    {
     "name": "stdout",
     "output_type": "stream",
     "text": [
      "['3z1YJ16Cgv4Zuw9ETkQQ9Z']\n",
      "3z1YJ16Cgv4Zuw9ETkQQ9Z\n",
      "https://api.spotify.com/v1/audio-features?ids=3z1YJ16Cgv4Zuw9ETkQQ9Z\n"
     ]
    },
    {
     "name": "stderr",
     "output_type": "stream",
     "text": [
      "\r",
      " 55%|████████████████████████████████████████████                                    | 316/574 [00:57<00:50,  5.10it/s]"
     ]
    },
    {
     "name": "stdout",
     "output_type": "stream",
     "text": [
      "['5TUs6T93fNFvgQov6MlYkP']\n",
      "5TUs6T93fNFvgQov6MlYkP\n",
      "https://api.spotify.com/v1/audio-features?ids=5TUs6T93fNFvgQov6MlYkP\n"
     ]
    },
    {
     "name": "stderr",
     "output_type": "stream",
     "text": [
      "\r",
      " 55%|████████████████████████████████████████████▏                                   | 317/574 [00:57<00:50,  5.13it/s]"
     ]
    },
    {
     "name": "stdout",
     "output_type": "stream",
     "text": [
      "['6kie23fo40j9gBNWGWg5Dc']\n",
      "6kie23fo40j9gBNWGWg5Dc\n",
      "https://api.spotify.com/v1/audio-features?ids=6kie23fo40j9gBNWGWg5Dc\n",
      "['610XWgnlPtTUXWlJ0Q3jAV']\n",
      "610XWgnlPtTUXWlJ0Q3jAV\n",
      "https://api.spotify.com/v1/audio-features?ids=610XWgnlPtTUXWlJ0Q3jAV\n"
     ]
    },
    {
     "name": "stderr",
     "output_type": "stream",
     "text": [
      " 56%|████████████████████████████████████████████▍                                   | 319/574 [00:57<00:51,  4.98it/s]"
     ]
    },
    {
     "name": "stdout",
     "output_type": "stream",
     "text": [
      "['4yQw7FR9lcvL6RHtegbJBh']\n",
      "4yQw7FR9lcvL6RHtegbJBh\n",
      "https://api.spotify.com/v1/audio-features?ids=4yQw7FR9lcvL6RHtegbJBh\n"
     ]
    },
    {
     "name": "stderr",
     "output_type": "stream",
     "text": [
      "\r",
      " 56%|████████████████████████████████████████████▌                                   | 320/574 [00:58<00:50,  5.03it/s]"
     ]
    },
    {
     "name": "stdout",
     "output_type": "stream",
     "text": [
      "['3wlLBTQWAF6DnMhraXASQ0']\n",
      "3wlLBTQWAF6DnMhraXASQ0\n",
      "https://api.spotify.com/v1/audio-features?ids=3wlLBTQWAF6DnMhraXASQ0\n"
     ]
    },
    {
     "name": "stderr",
     "output_type": "stream",
     "text": [
      "\r",
      " 56%|████████████████████████████████████████████▋                                   | 321/574 [00:58<00:48,  5.24it/s]"
     ]
    },
    {
     "name": "stdout",
     "output_type": "stream",
     "text": [
      "['3gsCAGsWr6pUm1Vy7CPPob']\n",
      "3gsCAGsWr6pUm1Vy7CPPob\n",
      "https://api.spotify.com/v1/audio-features?ids=3gsCAGsWr6pUm1Vy7CPPob\n",
      "['1k1Bqnv2R0uJXQN4u6LKYt']\n",
      "1k1Bqnv2R0uJXQN4u6LKYt\n",
      "https://api.spotify.com/v1/audio-features?ids=1k1Bqnv2R0uJXQN4u6LKYt\n"
     ]
    },
    {
     "name": "stderr",
     "output_type": "stream",
     "text": [
      " 56%|█████████████████████████████████████████████                                   | 323/574 [00:58<00:47,  5.32it/s]"
     ]
    },
    {
     "name": "stdout",
     "output_type": "stream",
     "text": [
      "['3pf96IFggfQuT6Gafqx2rt']\n",
      "3pf96IFggfQuT6Gafqx2rt\n",
      "https://api.spotify.com/v1/audio-features?ids=3pf96IFggfQuT6Gafqx2rt\n",
      "['4QT3YKobBj4BI7xCYRLr9u']\n",
      "4QT3YKobBj4BI7xCYRLr9u\n",
      "https://api.spotify.com/v1/audio-features?ids=4QT3YKobBj4BI7xCYRLr9u\n"
     ]
    },
    {
     "name": "stderr",
     "output_type": "stream",
     "text": [
      " 57%|█████████████████████████████████████████████▎                                  | 325/574 [00:59<00:48,  5.13it/s]"
     ]
    },
    {
     "name": "stdout",
     "output_type": "stream",
     "text": [
      "['0SzAKZYTUvDLqlPgllEb3N']\n",
      "0SzAKZYTUvDLqlPgllEb3N\n",
      "https://api.spotify.com/v1/audio-features?ids=0SzAKZYTUvDLqlPgllEb3N\n"
     ]
    },
    {
     "name": "stderr",
     "output_type": "stream",
     "text": [
      "\r",
      " 57%|█████████████████████████████████████████████▍                                  | 326/574 [00:59<00:46,  5.29it/s]"
     ]
    },
    {
     "name": "stdout",
     "output_type": "stream",
     "text": [
      "['2lhs6cxLdBCzFPbNQr6Qmj']\n",
      "2lhs6cxLdBCzFPbNQr6Qmj\n",
      "https://api.spotify.com/v1/audio-features?ids=2lhs6cxLdBCzFPbNQr6Qmj\n",
      "['0Eq4BMgsdV6DkLSJfX8eBt']\n",
      "0Eq4BMgsdV6DkLSJfX8eBt\n",
      "https://api.spotify.com/v1/audio-features?ids=0Eq4BMgsdV6DkLSJfX8eBt\n"
     ]
    },
    {
     "name": "stderr",
     "output_type": "stream",
     "text": [
      " 57%|█████████████████████████████████████████████▋                                  | 328/574 [00:59<00:46,  5.31it/s]"
     ]
    },
    {
     "name": "stdout",
     "output_type": "stream",
     "text": [
      "['3WMbD1OyfKuwWDWMNbPQ4g']\n",
      "3WMbD1OyfKuwWDWMNbPQ4g\n",
      "https://api.spotify.com/v1/audio-features?ids=3WMbD1OyfKuwWDWMNbPQ4g\n"
     ]
    },
    {
     "name": "stderr",
     "output_type": "stream",
     "text": [
      "\r",
      " 57%|█████████████████████████████████████████████▊                                  | 329/574 [00:59<00:46,  5.32it/s]"
     ]
    },
    {
     "name": "stdout",
     "output_type": "stream",
     "text": [
      "['5KgbyD2lQQlIupAaPjgiXg']\n",
      "5KgbyD2lQQlIupAaPjgiXg\n",
      "https://api.spotify.com/v1/audio-features?ids=5KgbyD2lQQlIupAaPjgiXg\n",
      "['3kEA66ZM9mCxwhynOxgsLh']\n",
      "3kEA66ZM9mCxwhynOxgsLh\n",
      "https://api.spotify.com/v1/audio-features?ids=3kEA66ZM9mCxwhynOxgsLh\n"
     ]
    },
    {
     "name": "stderr",
     "output_type": "stream",
     "text": [
      " 58%|██████████████████████████████████████████████▏                                 | 331/574 [01:00<00:43,  5.61it/s]"
     ]
    },
    {
     "name": "stdout",
     "output_type": "stream",
     "text": [
      "['7EIETgqBk63OdvVyIFDNKx']\n",
      "7EIETgqBk63OdvVyIFDNKx\n",
      "https://api.spotify.com/v1/audio-features?ids=7EIETgqBk63OdvVyIFDNKx\n",
      "['50f0mt35cIwwu3Krk7nS7b']\n",
      "50f0mt35cIwwu3Krk7nS7b\n",
      "https://api.spotify.com/v1/audio-features?ids=50f0mt35cIwwu3Krk7nS7b\n"
     ]
    },
    {
     "name": "stderr",
     "output_type": "stream",
     "text": [
      " 58%|██████████████████████████████████████████████▍                                 | 333/574 [01:00<00:43,  5.56it/s]"
     ]
    },
    {
     "name": "stdout",
     "output_type": "stream",
     "text": [
      "['5UcQ2g3M6Hh9gR8RmhjP9N']\n",
      "5UcQ2g3M6Hh9gR8RmhjP9N\n",
      "https://api.spotify.com/v1/audio-features?ids=5UcQ2g3M6Hh9gR8RmhjP9N\n"
     ]
    },
    {
     "name": "stderr",
     "output_type": "stream",
     "text": [
      "\r",
      " 58%|██████████████████████████████████████████████▌                                 | 334/574 [01:00<00:42,  5.71it/s]"
     ]
    },
    {
     "name": "stdout",
     "output_type": "stream",
     "text": [
      "['2zMJN9JvDlvGP4jB03l1Bz']\n",
      "2zMJN9JvDlvGP4jB03l1Bz\n",
      "https://api.spotify.com/v1/audio-features?ids=2zMJN9JvDlvGP4jB03l1Bz\n",
      "['1UNP66Mr3sPB3ItYt5bEUe']\n",
      "1UNP66Mr3sPB3ItYt5bEUe\n",
      "https://api.spotify.com/v1/audio-features?ids=1UNP66Mr3sPB3ItYt5bEUe\n"
     ]
    },
    {
     "name": "stderr",
     "output_type": "stream",
     "text": [
      " 59%|██████████████████████████████████████████████▊                                 | 336/574 [01:01<00:41,  5.69it/s]"
     ]
    },
    {
     "name": "stdout",
     "output_type": "stream",
     "text": [
      "['6ztstiyZL6FXzh4aG46ZPD']\n",
      "6ztstiyZL6FXzh4aG46ZPD\n",
      "https://api.spotify.com/v1/audio-features?ids=6ztstiyZL6FXzh4aG46ZPD\n",
      "['6tYIQpc9rX2wTBtb9Rh37K']\n",
      "6tYIQpc9rX2wTBtb9Rh37K\n",
      "https://api.spotify.com/v1/audio-features?ids=6tYIQpc9rX2wTBtb9Rh37K\n"
     ]
    },
    {
     "name": "stderr",
     "output_type": "stream",
     "text": [
      " 59%|███████████████████████████████████████████████                                 | 338/574 [01:01<00:39,  5.97it/s]"
     ]
    },
    {
     "name": "stdout",
     "output_type": "stream",
     "text": [
      "['6GNmMC3RoZ1WiilCcukXLW']\n",
      "6GNmMC3RoZ1WiilCcukXLW\n",
      "https://api.spotify.com/v1/audio-features?ids=6GNmMC3RoZ1WiilCcukXLW\n",
      "['57Y3UccJEJqT8w8RWkUAz0']\n",
      "57Y3UccJEJqT8w8RWkUAz0\n",
      "https://api.spotify.com/v1/audio-features?ids=57Y3UccJEJqT8w8RWkUAz0\n"
     ]
    },
    {
     "name": "stderr",
     "output_type": "stream",
     "text": [
      " 59%|███████████████████████████████████████████████▍                                | 340/574 [01:01<00:38,  6.00it/s]"
     ]
    },
    {
     "name": "stdout",
     "output_type": "stream",
     "text": [
      "['7IQMKJNcppgahjNWVPmxkl']\n",
      "7IQMKJNcppgahjNWVPmxkl\n",
      "https://api.spotify.com/v1/audio-features?ids=7IQMKJNcppgahjNWVPmxkl\n",
      "['4vYauy3ABO65vTXggGYaZg']\n",
      "4vYauy3ABO65vTXggGYaZg\n",
      "https://api.spotify.com/v1/audio-features?ids=4vYauy3ABO65vTXggGYaZg\n"
     ]
    },
    {
     "name": "stderr",
     "output_type": "stream",
     "text": [
      "\r",
      " 59%|███████████████████████████████████████████████▌                                | 341/574 [01:01<00:41,  5.57it/s]"
     ]
    },
    {
     "name": "stdout",
     "output_type": "stream",
     "text": [
      "['1CpDrx0Q7f2Wv3tBXDMt6z']\n",
      "1CpDrx0Q7f2Wv3tBXDMt6z\n",
      "https://api.spotify.com/v1/audio-features?ids=1CpDrx0Q7f2Wv3tBXDMt6z\n"
     ]
    },
    {
     "name": "stderr",
     "output_type": "stream",
     "text": [
      "\r",
      " 60%|███████████████████████████████████████████████▋                                | 342/574 [01:02<00:44,  5.26it/s]"
     ]
    },
    {
     "name": "stdout",
     "output_type": "stream",
     "text": [
      "['2xSXw1EqGSAKc1e4TPaQvV']\n",
      "2xSXw1EqGSAKc1e4TPaQvV\n",
      "https://api.spotify.com/v1/audio-features?ids=2xSXw1EqGSAKc1e4TPaQvV\n"
     ]
    },
    {
     "name": "stderr",
     "output_type": "stream",
     "text": [
      " 60%|███████████████████████████████████████████████▉                                | 344/574 [01:02<00:41,  5.49it/s]"
     ]
    },
    {
     "name": "stdout",
     "output_type": "stream",
     "text": [
      "['0lwHorTzvh8D4pQaWFYqnn']\n",
      "0lwHorTzvh8D4pQaWFYqnn\n",
      "https://api.spotify.com/v1/audio-features?ids=0lwHorTzvh8D4pQaWFYqnn\n",
      "['6StJLSmuKWwIfia0EUROQk']\n",
      "6StJLSmuKWwIfia0EUROQk\n",
      "https://api.spotify.com/v1/audio-features?ids=6StJLSmuKWwIfia0EUROQk\n"
     ]
    },
    {
     "name": "stderr",
     "output_type": "stream",
     "text": [
      " 60%|████████████████████████████████████████████████▏                               | 346/574 [01:02<00:41,  5.48it/s]"
     ]
    },
    {
     "name": "stdout",
     "output_type": "stream",
     "text": [
      "['6TYPryzyiUkxMk7PlI8k9c']\n",
      "6TYPryzyiUkxMk7PlI8k9c\n",
      "https://api.spotify.com/v1/audio-features?ids=6TYPryzyiUkxMk7PlI8k9c\n",
      "['5csdrJ0JtFn0qvwlvSh2EI']\n",
      "5csdrJ0JtFn0qvwlvSh2EI\n",
      "https://api.spotify.com/v1/audio-features?ids=5csdrJ0JtFn0qvwlvSh2EI\n"
     ]
    },
    {
     "name": "stderr",
     "output_type": "stream",
     "text": [
      " 61%|████████████████████████████████████████████████▌                               | 348/574 [01:03<00:38,  5.80it/s]"
     ]
    },
    {
     "name": "stdout",
     "output_type": "stream",
     "text": [
      "['37j56IWzpplKE5zrlQRmxc']\n",
      "37j56IWzpplKE5zrlQRmxc\n",
      "https://api.spotify.com/v1/audio-features?ids=37j56IWzpplKE5zrlQRmxc\n",
      "['4Af8yzidDPc520TFd4TmkE']\n",
      "4Af8yzidDPc520TFd4TmkE\n",
      "https://api.spotify.com/v1/audio-features?ids=4Af8yzidDPc520TFd4TmkE\n"
     ]
    },
    {
     "name": "stderr",
     "output_type": "stream",
     "text": [
      " 61%|████████████████████████████████████████████████▊                               | 350/574 [01:03<00:37,  5.95it/s]"
     ]
    },
    {
     "name": "stdout",
     "output_type": "stream",
     "text": [
      "['6pMHMzwTsWIxLigr54GGVm']\n",
      "6pMHMzwTsWIxLigr54GGVm\n",
      "https://api.spotify.com/v1/audio-features?ids=6pMHMzwTsWIxLigr54GGVm\n",
      "['72PoJMDfdaw9gGECgA9kTZ']\n",
      "72PoJMDfdaw9gGECgA9kTZ\n",
      "https://api.spotify.com/v1/audio-features?ids=72PoJMDfdaw9gGECgA9kTZ\n"
     ]
    },
    {
     "name": "stderr",
     "output_type": "stream",
     "text": [
      " 61%|█████████████████████████████████████████████████                               | 352/574 [01:03<00:36,  6.15it/s]"
     ]
    },
    {
     "name": "stdout",
     "output_type": "stream",
     "text": [
      "['4TxBGpTxrNvRNhF39Dl3NQ']\n",
      "4TxBGpTxrNvRNhF39Dl3NQ\n",
      "https://api.spotify.com/v1/audio-features?ids=4TxBGpTxrNvRNhF39Dl3NQ\n",
      "['6Llr9PVC1cirKUwu7Fle83']\n",
      "6Llr9PVC1cirKUwu7Fle83\n",
      "https://api.spotify.com/v1/audio-features?ids=6Llr9PVC1cirKUwu7Fle83\n"
     ]
    },
    {
     "name": "stderr",
     "output_type": "stream",
     "text": [
      " 62%|█████████████████████████████████████████████████▎                              | 354/574 [01:04<00:37,  5.91it/s]"
     ]
    },
    {
     "name": "stdout",
     "output_type": "stream",
     "text": [
      "['3zYQ1KXzqBWRsxIqdVMoYF']\n",
      "3zYQ1KXzqBWRsxIqdVMoYF\n",
      "https://api.spotify.com/v1/audio-features?ids=3zYQ1KXzqBWRsxIqdVMoYF\n"
     ]
    },
    {
     "name": "stderr",
     "output_type": "stream",
     "text": [
      "\r",
      " 62%|█████████████████████████████████████████████████▍                              | 355/574 [01:04<00:37,  5.88it/s]"
     ]
    },
    {
     "name": "stdout",
     "output_type": "stream",
     "text": [
      "['1ot6jEe4w4hYnsOPjd3xKQ']\n",
      "1ot6jEe4w4hYnsOPjd3xKQ\n",
      "https://api.spotify.com/v1/audio-features?ids=1ot6jEe4w4hYnsOPjd3xKQ\n",
      "['1NQFeJQOvirHNJ4lp17XUZ']\n",
      "1NQFeJQOvirHNJ4lp17XUZ\n",
      "https://api.spotify.com/v1/audio-features?ids=1NQFeJQOvirHNJ4lp17XUZ\n"
     ]
    },
    {
     "name": "stderr",
     "output_type": "stream",
     "text": [
      " 62%|█████████████████████████████████████████████████▊                              | 357/574 [01:04<00:37,  5.83it/s]"
     ]
    },
    {
     "name": "stdout",
     "output_type": "stream",
     "text": [
      "['15ySyt38mBi1v4xMLRfD25']\n",
      "15ySyt38mBi1v4xMLRfD25\n",
      "https://api.spotify.com/v1/audio-features?ids=15ySyt38mBi1v4xMLRfD25\n",
      "['7tqhbajSfrz2F7E1Z75ASX']\n",
      "7tqhbajSfrz2F7E1Z75ASX\n",
      "https://api.spotify.com/v1/audio-features?ids=7tqhbajSfrz2F7E1Z75ASX\n"
     ]
    },
    {
     "name": "stderr",
     "output_type": "stream",
     "text": [
      " 63%|██████████████████████████████████████████████████                              | 359/574 [01:04<00:35,  5.98it/s]"
     ]
    },
    {
     "name": "stdout",
     "output_type": "stream",
     "text": [
      "['7s25THrKz86DM225dOYwnr']\n",
      "7s25THrKz86DM225dOYwnr\n",
      "https://api.spotify.com/v1/audio-features?ids=7s25THrKz86DM225dOYwnr\n",
      "['38DAUnVJ0zqOdRuW7RG3sl']\n",
      "38DAUnVJ0zqOdRuW7RG3sl\n",
      "https://api.spotify.com/v1/audio-features?ids=38DAUnVJ0zqOdRuW7RG3sl\n"
     ]
    },
    {
     "name": "stderr",
     "output_type": "stream",
     "text": [
      " 63%|██████████████████████████████████████████████████▎                             | 361/574 [01:05<00:39,  5.44it/s]"
     ]
    },
    {
     "name": "stdout",
     "output_type": "stream",
     "text": [
      "['5GcDAsm0vgFWsrcL4kqK6k']\n",
      "5GcDAsm0vgFWsrcL4kqK6k\n",
      "https://api.spotify.com/v1/audio-features?ids=5GcDAsm0vgFWsrcL4kqK6k\n",
      "['3qZHUZTQiTMfJXcUYzY5mT']\n",
      "3qZHUZTQiTMfJXcUYzY5mT\n",
      "https://api.spotify.com/v1/audio-features?ids=3qZHUZTQiTMfJXcUYzY5mT\n"
     ]
    },
    {
     "name": "stderr",
     "output_type": "stream",
     "text": [
      " 63%|██████████████████████████████████████████████████▌                             | 363/574 [01:05<00:36,  5.72it/s]"
     ]
    },
    {
     "name": "stdout",
     "output_type": "stream",
     "text": [
      "['34b3a3Pz9Jlz0092LMyNAB']\n",
      "34b3a3Pz9Jlz0092LMyNAB\n",
      "https://api.spotify.com/v1/audio-features?ids=34b3a3Pz9Jlz0092LMyNAB\n",
      "['300RfAPZ57B0y6YYj9n6DN']\n",
      "300RfAPZ57B0y6YYj9n6DN\n",
      "https://api.spotify.com/v1/audio-features?ids=300RfAPZ57B0y6YYj9n6DN\n"
     ]
    },
    {
     "name": "stderr",
     "output_type": "stream",
     "text": [
      " 64%|██████████████████████████████████████████████████▊                             | 365/574 [01:06<00:36,  5.75it/s]"
     ]
    },
    {
     "name": "stdout",
     "output_type": "stream",
     "text": [
      "['3ClOMebBxeNTYCOfTH24YJ']\n",
      "3ClOMebBxeNTYCOfTH24YJ\n",
      "https://api.spotify.com/v1/audio-features?ids=3ClOMebBxeNTYCOfTH24YJ\n"
     ]
    },
    {
     "name": "stderr",
     "output_type": "stream",
     "text": [
      "\r",
      " 64%|███████████████████████████████████████████████████                             | 366/574 [01:06<00:35,  5.79it/s]"
     ]
    },
    {
     "name": "stdout",
     "output_type": "stream",
     "text": [
      "['5uES1C2NgkdrNHiCwf9jRr']\n",
      "5uES1C2NgkdrNHiCwf9jRr\n",
      "https://api.spotify.com/v1/audio-features?ids=5uES1C2NgkdrNHiCwf9jRr\n",
      "['714hERk9U1W8FMYkoC83CO']\n",
      "714hERk9U1W8FMYkoC83CO\n",
      "https://api.spotify.com/v1/audio-features?ids=714hERk9U1W8FMYkoC83CO\n"
     ]
    },
    {
     "name": "stderr",
     "output_type": "stream",
     "text": [
      " 64%|███████████████████████████████████████████████████▎                            | 368/574 [01:06<00:35,  5.77it/s]"
     ]
    },
    {
     "name": "stdout",
     "output_type": "stream",
     "text": [
      "['1JQ6Xm1JrvHfvAqhl5pwaA']\n",
      "1JQ6Xm1JrvHfvAqhl5pwaA\n",
      "https://api.spotify.com/v1/audio-features?ids=1JQ6Xm1JrvHfvAqhl5pwaA\n"
     ]
    },
    {
     "name": "stderr",
     "output_type": "stream",
     "text": [
      "\r",
      " 64%|███████████████████████████████████████████████████▍                            | 369/574 [01:06<00:36,  5.58it/s]"
     ]
    },
    {
     "name": "stdout",
     "output_type": "stream",
     "text": [
      "['1mCI3atQyw3r8rd0icztLR']\n",
      "1mCI3atQyw3r8rd0icztLR\n",
      "https://api.spotify.com/v1/audio-features?ids=1mCI3atQyw3r8rd0icztLR\n"
     ]
    },
    {
     "name": "stderr",
     "output_type": "stream",
     "text": [
      "\r",
      " 64%|███████████████████████████████████████████████████▌                            | 370/574 [01:06<00:37,  5.38it/s]"
     ]
    },
    {
     "name": "stdout",
     "output_type": "stream",
     "text": [
      "['1it9umP1j9qSqzKbSLLqqy']\n",
      "1it9umP1j9qSqzKbSLLqqy\n",
      "https://api.spotify.com/v1/audio-features?ids=1it9umP1j9qSqzKbSLLqqy\n"
     ]
    },
    {
     "name": "stderr",
     "output_type": "stream",
     "text": [
      "\r",
      " 65%|███████████████████████████████████████████████████▋                            | 371/574 [01:07<00:37,  5.37it/s]"
     ]
    },
    {
     "name": "stdout",
     "output_type": "stream",
     "text": [
      "['6RANU8AS5ICU5PEHh8BYtH']\n",
      "6RANU8AS5ICU5PEHh8BYtH\n",
      "https://api.spotify.com/v1/audio-features?ids=6RANU8AS5ICU5PEHh8BYtH\n"
     ]
    },
    {
     "name": "stderr",
     "output_type": "stream",
     "text": [
      "\r",
      " 65%|███████████████████████████████████████████████████▊                            | 372/574 [01:07<00:36,  5.55it/s]"
     ]
    },
    {
     "name": "stdout",
     "output_type": "stream",
     "text": [
      "['5qo4PkfY1ncj3NGTHDaZQF']\n",
      "5qo4PkfY1ncj3NGTHDaZQF\n",
      "https://api.spotify.com/v1/audio-features?ids=5qo4PkfY1ncj3NGTHDaZQF\n",
      "['22ff60cZy4APp7bzESHLR8']\n",
      "22ff60cZy4APp7bzESHLR8\n",
      "https://api.spotify.com/v1/audio-features?ids=22ff60cZy4APp7bzESHLR8\n"
     ]
    },
    {
     "name": "stderr",
     "output_type": "stream",
     "text": [
      " 65%|████████████████████████████████████████████████████▏                           | 374/574 [01:07<00:34,  5.81it/s]"
     ]
    },
    {
     "name": "stdout",
     "output_type": "stream",
     "text": [
      "['4N3stlRuz5cBNI4J4vDJ18']\n",
      "4N3stlRuz5cBNI4J4vDJ18\n",
      "https://api.spotify.com/v1/audio-features?ids=4N3stlRuz5cBNI4J4vDJ18\n",
      "['6K4t31amVTZDgR3sKmwUJJ']\n",
      "6K4t31amVTZDgR3sKmwUJJ\n",
      "https://api.spotify.com/v1/audio-features?ids=6K4t31amVTZDgR3sKmwUJJ\n"
     ]
    },
    {
     "name": "stderr",
     "output_type": "stream",
     "text": [
      " 66%|████████████████████████████████████████████████████▍                           | 376/574 [01:07<00:33,  5.92it/s]"
     ]
    },
    {
     "name": "stdout",
     "output_type": "stream",
     "text": [
      "['3kLVvnXLbuQuu1sanJNDjf']\n",
      "3kLVvnXLbuQuu1sanJNDjf\n",
      "https://api.spotify.com/v1/audio-features?ids=3kLVvnXLbuQuu1sanJNDjf\n",
      "['7gARZ2i5u5DHC1b1n1fML5']\n",
      "7gARZ2i5u5DHC1b1n1fML5\n",
      "https://api.spotify.com/v1/audio-features?ids=7gARZ2i5u5DHC1b1n1fML5\n"
     ]
    },
    {
     "name": "stderr",
     "output_type": "stream",
     "text": [
      " 66%|████████████████████████████████████████████████████▋                           | 378/574 [01:08<00:34,  5.71it/s]"
     ]
    },
    {
     "name": "stdout",
     "output_type": "stream",
     "text": [
      "['0bXpmJyHHYPk6QBFj25bYF']\n",
      "0bXpmJyHHYPk6QBFj25bYF\n",
      "https://api.spotify.com/v1/audio-features?ids=0bXpmJyHHYPk6QBFj25bYF\n"
     ]
    },
    {
     "name": "stderr",
     "output_type": "stream",
     "text": [
      " 66%|████████████████████████████████████████████████████▉                           | 380/574 [01:08<00:32,  5.90it/s]"
     ]
    },
    {
     "name": "stdout",
     "output_type": "stream",
     "text": [
      "['0yc6Gst2xkRu0eMLeRMGCX']\n",
      "0yc6Gst2xkRu0eMLeRMGCX\n",
      "https://api.spotify.com/v1/audio-features?ids=0yc6Gst2xkRu0eMLeRMGCX\n",
      "['7w87IxuO7BDcJ3YUqCyMTT']\n",
      "7w87IxuO7BDcJ3YUqCyMTT\n",
      "https://api.spotify.com/v1/audio-features?ids=7w87IxuO7BDcJ3YUqCyMTT\n",
      "['1Bz9S9TweSbkFeXM5NdtOC']\n",
      "1Bz9S9TweSbkFeXM5NdtOC\n",
      "https://api.spotify.com/v1/audio-features?ids=1Bz9S9TweSbkFeXM5NdtOC\n"
     ]
    },
    {
     "name": "stderr",
     "output_type": "stream",
     "text": [
      " 67%|█████████████████████████████████████████████████████▏                          | 382/574 [01:08<00:30,  6.26it/s]"
     ]
    },
    {
     "name": "stdout",
     "output_type": "stream",
     "text": [
      "['4JHg4nNYUJQ5HULcCmI18R']\n",
      "4JHg4nNYUJQ5HULcCmI18R\n",
      "https://api.spotify.com/v1/audio-features?ids=4JHg4nNYUJQ5HULcCmI18R\n",
      "['1wgqttlPacpvmX5DKVboOa']\n",
      "1wgqttlPacpvmX5DKVboOa\n",
      "https://api.spotify.com/v1/audio-features?ids=1wgqttlPacpvmX5DKVboOa\n"
     ]
    },
    {
     "name": "stderr",
     "output_type": "stream",
     "text": [
      " 67%|█████████████████████████████████████████████████████▌                          | 384/574 [01:09<00:33,  5.65it/s]"
     ]
    },
    {
     "name": "stdout",
     "output_type": "stream",
     "text": [
      "['6vECYJHxYmm3Ydt3fF01pE']\n",
      "6vECYJHxYmm3Ydt3fF01pE\n",
      "https://api.spotify.com/v1/audio-features?ids=6vECYJHxYmm3Ydt3fF01pE\n"
     ]
    },
    {
     "name": "stderr",
     "output_type": "stream",
     "text": [
      "\r",
      " 67%|█████████████████████████████████████████████████████▋                          | 385/574 [01:09<00:32,  5.85it/s]"
     ]
    },
    {
     "name": "stdout",
     "output_type": "stream",
     "text": [
      "['6GyFP1nfCDB8lbD2bG0Hq9']\n",
      "6GyFP1nfCDB8lbD2bG0Hq9\n",
      "https://api.spotify.com/v1/audio-features?ids=6GyFP1nfCDB8lbD2bG0Hq9\n",
      "['0d28khcov6AiegSCpG5TuT']\n",
      "0d28khcov6AiegSCpG5TuT\n",
      "https://api.spotify.com/v1/audio-features?ids=0d28khcov6AiegSCpG5TuT\n"
     ]
    },
    {
     "name": "stderr",
     "output_type": "stream",
     "text": [
      " 67%|█████████████████████████████████████████████████████▉                          | 387/574 [01:09<00:31,  5.95it/s]"
     ]
    },
    {
     "name": "stdout",
     "output_type": "stream",
     "text": [
      "['3Ty7OTBNSigGEpeW2PqcsC']\n",
      "3Ty7OTBNSigGEpeW2PqcsC\n",
      "https://api.spotify.com/v1/audio-features?ids=3Ty7OTBNSigGEpeW2PqcsC\n",
      "['7d23MhPFE9eB3U8DPRirnL']\n",
      "7d23MhPFE9eB3U8DPRirnL\n",
      "https://api.spotify.com/v1/audio-features?ids=7d23MhPFE9eB3U8DPRirnL\n"
     ]
    },
    {
     "name": "stderr",
     "output_type": "stream",
     "text": [
      " 68%|██████████████████████████████████████████████████████▏                         | 389/574 [01:10<00:30,  6.01it/s]"
     ]
    },
    {
     "name": "stdout",
     "output_type": "stream",
     "text": [
      "['0iTpQYzJnYgh7kIxyq8A2O']\n",
      "0iTpQYzJnYgh7kIxyq8A2O\n",
      "https://api.spotify.com/v1/audio-features?ids=0iTpQYzJnYgh7kIxyq8A2O\n",
      "['15Hb4YapPuC0iNGvez2PXE']\n",
      "15Hb4YapPuC0iNGvez2PXE\n",
      "https://api.spotify.com/v1/audio-features?ids=15Hb4YapPuC0iNGvez2PXE\n"
     ]
    },
    {
     "name": "stderr",
     "output_type": "stream",
     "text": [
      " 68%|██████████████████████████████████████████████████████▍                         | 391/574 [01:10<00:33,  5.49it/s]"
     ]
    },
    {
     "name": "stdout",
     "output_type": "stream",
     "text": [
      "['4iG2gAwKXsOcijVaVXzRPW']\n",
      "4iG2gAwKXsOcijVaVXzRPW\n",
      "https://api.spotify.com/v1/audio-features?ids=4iG2gAwKXsOcijVaVXzRPW\n"
     ]
    },
    {
     "name": "stderr",
     "output_type": "stream",
     "text": [
      "\r",
      " 68%|██████████████████████████████████████████████████████▋                         | 392/574 [01:10<00:32,  5.58it/s]"
     ]
    },
    {
     "name": "stdout",
     "output_type": "stream",
     "text": [
      "['7kcy8ctwafCfiUFuBcvxpp']\n",
      "7kcy8ctwafCfiUFuBcvxpp\n",
      "https://api.spotify.com/v1/audio-features?ids=7kcy8ctwafCfiUFuBcvxpp\n",
      "['6bS7DqTuzrpkluB7boWmw2']\n",
      "6bS7DqTuzrpkluB7boWmw2\n",
      "https://api.spotify.com/v1/audio-features?ids=6bS7DqTuzrpkluB7boWmw2\n"
     ]
    },
    {
     "name": "stderr",
     "output_type": "stream",
     "text": [
      " 69%|██████████████████████████████████████████████████████▉                         | 394/574 [01:11<00:30,  5.84it/s]"
     ]
    },
    {
     "name": "stdout",
     "output_type": "stream",
     "text": [
      "['7w5cxTEzp1rfV3KCy0Bd5N']\n",
      "7w5cxTEzp1rfV3KCy0Bd5N\n",
      "https://api.spotify.com/v1/audio-features?ids=7w5cxTEzp1rfV3KCy0Bd5N\n",
      "['4dyx5SzxPPaD8xQIid5Wjj']\n",
      "4dyx5SzxPPaD8xQIid5Wjj\n",
      "https://api.spotify.com/v1/audio-features?ids=4dyx5SzxPPaD8xQIid5Wjj\n"
     ]
    },
    {
     "name": "stderr",
     "output_type": "stream",
     "text": [
      " 69%|███████████████████████████████████████████████████████▏                        | 396/574 [01:11<00:30,  5.93it/s]"
     ]
    },
    {
     "name": "stdout",
     "output_type": "stream",
     "text": [
      "['3RRf5KNBCzK3uxWKRAC67q']\n",
      "3RRf5KNBCzK3uxWKRAC67q\n",
      "https://api.spotify.com/v1/audio-features?ids=3RRf5KNBCzK3uxWKRAC67q\n",
      "['1mvyqSb1tOvtVP1qfWEyPa']\n",
      "1mvyqSb1tOvtVP1qfWEyPa\n",
      "https://api.spotify.com/v1/audio-features?ids=1mvyqSb1tOvtVP1qfWEyPa\n"
     ]
    },
    {
     "name": "stderr",
     "output_type": "stream",
     "text": [
      " 69%|███████████████████████████████████████████████████████▍                        | 398/574 [01:11<00:29,  5.97it/s]"
     ]
    },
    {
     "name": "stdout",
     "output_type": "stream",
     "text": [
      "['6QgjcU0zLnzq5OrUoSZ3OK']\n",
      "6QgjcU0zLnzq5OrUoSZ3OK\n",
      "https://api.spotify.com/v1/audio-features?ids=6QgjcU0zLnzq5OrUoSZ3OK\n",
      "['295WZ1UJn67ZaiQMWrSkys']\n",
      "295WZ1UJn67ZaiQMWrSkys\n",
      "https://api.spotify.com/v1/audio-features?ids=295WZ1UJn67ZaiQMWrSkys\n"
     ]
    },
    {
     "name": "stderr",
     "output_type": "stream",
     "text": [
      " 70%|███████████████████████████████████████████████████████▋                        | 400/574 [01:12<00:28,  6.16it/s]"
     ]
    },
    {
     "name": "stdout",
     "output_type": "stream",
     "text": [
      "['70WyPf8WtXvG3CgeTZZWz6']\n",
      "70WyPf8WtXvG3CgeTZZWz6\n",
      "https://api.spotify.com/v1/audio-features?ids=70WyPf8WtXvG3CgeTZZWz6\n",
      "['1NyFRrFiJAJIaR6icj1goI']\n",
      "1NyFRrFiJAJIaR6icj1goI\n",
      "https://api.spotify.com/v1/audio-features?ids=1NyFRrFiJAJIaR6icj1goI\n"
     ]
    },
    {
     "name": "stderr",
     "output_type": "stream",
     "text": [
      " 70%|████████████████████████████████████████████████████████                        | 402/574 [01:12<00:29,  5.80it/s]"
     ]
    },
    {
     "name": "stdout",
     "output_type": "stream",
     "text": [
      "['3dYD57lRAUcMHufyqn9GcI']\n",
      "3dYD57lRAUcMHufyqn9GcI\n",
      "https://api.spotify.com/v1/audio-features?ids=3dYD57lRAUcMHufyqn9GcI\n",
      "['0V2SavjRuimH4TIbrKyyN0']\n",
      "0V2SavjRuimH4TIbrKyyN0\n",
      "https://api.spotify.com/v1/audio-features?ids=0V2SavjRuimH4TIbrKyyN0\n"
     ]
    },
    {
     "name": "stderr",
     "output_type": "stream",
     "text": [
      " 70%|████████████████████████████████████████████████████████▎                       | 404/574 [01:12<00:29,  5.79it/s]"
     ]
    },
    {
     "name": "stdout",
     "output_type": "stream",
     "text": [
      "['5RoIXwyTCdyUjpMMkk4uPd']\n",
      "5RoIXwyTCdyUjpMMkk4uPd\n",
      "https://api.spotify.com/v1/audio-features?ids=5RoIXwyTCdyUjpMMkk4uPd\n",
      "['2KOvNaMJcuaYTciDe2TmCP']\n",
      "2KOvNaMJcuaYTciDe2TmCP\n",
      "https://api.spotify.com/v1/audio-features?ids=2KOvNaMJcuaYTciDe2TmCP\n"
     ]
    },
    {
     "name": "stderr",
     "output_type": "stream",
     "text": [
      " 71%|████████████████████████████████████████████████████████▌                       | 406/574 [01:13<00:29,  5.71it/s]"
     ]
    },
    {
     "name": "stdout",
     "output_type": "stream",
     "text": [
      "['2UWdUez9MB9yzL7Y81Mcip']\n",
      "2UWdUez9MB9yzL7Y81Mcip\n",
      "https://api.spotify.com/v1/audio-features?ids=2UWdUez9MB9yzL7Y81Mcip\n"
     ]
    },
    {
     "name": "stderr",
     "output_type": "stream",
     "text": [
      "\r",
      " 71%|████████████████████████████████████████████████████████▋                       | 407/574 [01:13<00:28,  5.83it/s]"
     ]
    },
    {
     "name": "stdout",
     "output_type": "stream",
     "text": [
      "['24jvD83UgLmrdGjhWTFslY']\n",
      "24jvD83UgLmrdGjhWTFslY\n",
      "https://api.spotify.com/v1/audio-features?ids=24jvD83UgLmrdGjhWTFslY\n",
      "['2nvZv4qatgsDIbEqqbQLUT']\n",
      "2nvZv4qatgsDIbEqqbQLUT\n",
      "https://api.spotify.com/v1/audio-features?ids=2nvZv4qatgsDIbEqqbQLUT\n"
     ]
    },
    {
     "name": "stderr",
     "output_type": "stream",
     "text": [
      " 71%|█████████████████████████████████████████████████████████                       | 409/574 [01:13<00:27,  6.00it/s]"
     ]
    },
    {
     "name": "stdout",
     "output_type": "stream",
     "text": [
      "['244AvzGQ4Ksa5637JQu5Gy']\n",
      "244AvzGQ4Ksa5637JQu5Gy\n",
      "https://api.spotify.com/v1/audio-features?ids=244AvzGQ4Ksa5637JQu5Gy\n",
      "['6xVdHfNIcWB0Bzd1obzcwj']\n",
      "6xVdHfNIcWB0Bzd1obzcwj\n",
      "https://api.spotify.com/v1/audio-features?ids=6xVdHfNIcWB0Bzd1obzcwj\n"
     ]
    },
    {
     "name": "stderr",
     "output_type": "stream",
     "text": [
      " 72%|█████████████████████████████████████████████████████████▎                      | 411/574 [01:13<00:27,  6.00it/s]"
     ]
    },
    {
     "name": "stdout",
     "output_type": "stream",
     "text": [
      "['12pdXFcruNcPUbZypKUDgz']\n",
      "12pdXFcruNcPUbZypKUDgz\n",
      "https://api.spotify.com/v1/audio-features?ids=12pdXFcruNcPUbZypKUDgz\n",
      "['6ZEaDwf50SdJzHcVSQx0vL']\n",
      "6ZEaDwf50SdJzHcVSQx0vL\n",
      "https://api.spotify.com/v1/audio-features?ids=6ZEaDwf50SdJzHcVSQx0vL\n"
     ]
    },
    {
     "name": "stderr",
     "output_type": "stream",
     "text": [
      " 72%|█████████████████████████████████████████████████████████▌                      | 413/574 [01:14<00:27,  5.92it/s]"
     ]
    },
    {
     "name": "stdout",
     "output_type": "stream",
     "text": [
      "['3g86N0SqyfxEVNMHlmW3RE']\n",
      "3g86N0SqyfxEVNMHlmW3RE\n",
      "https://api.spotify.com/v1/audio-features?ids=3g86N0SqyfxEVNMHlmW3RE\n",
      "['4c9WmjVlQMr0s1IjbYO52Z']\n",
      "4c9WmjVlQMr0s1IjbYO52Z\n",
      "https://api.spotify.com/v1/audio-features?ids=4c9WmjVlQMr0s1IjbYO52Z\n"
     ]
    },
    {
     "name": "stderr",
     "output_type": "stream",
     "text": [
      " 72%|█████████████████████████████████████████████████████████▊                      | 415/574 [01:14<00:25,  6.28it/s]"
     ]
    },
    {
     "name": "stdout",
     "output_type": "stream",
     "text": [
      "['2xbrMtkxp399aSiCJ8EAON']\n",
      "2xbrMtkxp399aSiCJ8EAON\n",
      "https://api.spotify.com/v1/audio-features?ids=2xbrMtkxp399aSiCJ8EAON\n",
      "['4m8ttWM8IKXyhpv89E867J']\n",
      "4m8ttWM8IKXyhpv89E867J\n",
      "https://api.spotify.com/v1/audio-features?ids=4m8ttWM8IKXyhpv89E867J\n"
     ]
    },
    {
     "name": "stderr",
     "output_type": "stream",
     "text": [
      " 73%|██████████████████████████████████████████████████████████                      | 417/574 [01:14<00:25,  6.25it/s]"
     ]
    },
    {
     "name": "stdout",
     "output_type": "stream",
     "text": [
      "['5rAff9XfcWx7rguN3t0fkW']\n",
      "5rAff9XfcWx7rguN3t0fkW\n",
      "https://api.spotify.com/v1/audio-features?ids=5rAff9XfcWx7rguN3t0fkW\n",
      "['6L4fEE9awoUnSEy1bmQebb']\n",
      "6L4fEE9awoUnSEy1bmQebb\n",
      "https://api.spotify.com/v1/audio-features?ids=6L4fEE9awoUnSEy1bmQebb\n"
     ]
    },
    {
     "name": "stderr",
     "output_type": "stream",
     "text": [
      " 73%|██████████████████████████████████████████████████████████▍                     | 419/574 [01:15<00:25,  6.15it/s]"
     ]
    },
    {
     "name": "stdout",
     "output_type": "stream",
     "text": [
      "['1jy7SkRcmBCTcv4ZMtwz29']\n",
      "1jy7SkRcmBCTcv4ZMtwz29\n",
      "https://api.spotify.com/v1/audio-features?ids=1jy7SkRcmBCTcv4ZMtwz29\n",
      "['3VPp3qrfCioIbPmp7c7Con']\n",
      "3VPp3qrfCioIbPmp7c7Con\n",
      "https://api.spotify.com/v1/audio-features?ids=3VPp3qrfCioIbPmp7c7Con\n"
     ]
    },
    {
     "name": "stderr",
     "output_type": "stream",
     "text": [
      " 73%|██████████████████████████████████████████████████████████▋                     | 421/574 [01:15<00:25,  5.93it/s]"
     ]
    },
    {
     "name": "stdout",
     "output_type": "stream",
     "text": [
      "['3ji1o94rKqulYA4I2eDKat']\n",
      "3ji1o94rKqulYA4I2eDKat\n",
      "https://api.spotify.com/v1/audio-features?ids=3ji1o94rKqulYA4I2eDKat\n",
      "['4j4pPKE3xAblPIbhxScC1j']\n",
      "4j4pPKE3xAblPIbhxScC1j\n",
      "https://api.spotify.com/v1/audio-features?ids=4j4pPKE3xAblPIbhxScC1j\n"
     ]
    },
    {
     "name": "stderr",
     "output_type": "stream",
     "text": [
      " 74%|██████████████████████████████████████████████████████████▉                     | 423/574 [01:15<00:26,  5.76it/s]"
     ]
    },
    {
     "name": "stdout",
     "output_type": "stream",
     "text": [
      "['7vRdcsmD92oErIQDnmp60e']\n",
      "7vRdcsmD92oErIQDnmp60e\n",
      "https://api.spotify.com/v1/audio-features?ids=7vRdcsmD92oErIQDnmp60e\n"
     ]
    },
    {
     "name": "stderr",
     "output_type": "stream",
     "text": [
      "\r",
      " 74%|███████████████████████████████████████████████████████████                     | 424/574 [01:16<00:25,  5.92it/s]"
     ]
    },
    {
     "name": "stdout",
     "output_type": "stream",
     "text": [
      "['2fXKyAyPrEa24c6PJyqznF']\n",
      "2fXKyAyPrEa24c6PJyqznF\n",
      "https://api.spotify.com/v1/audio-features?ids=2fXKyAyPrEa24c6PJyqznF\n",
      "['5fwSHlTEWpluwOM0Sxnh5k']\n",
      "5fwSHlTEWpluwOM0Sxnh5k\n",
      "https://api.spotify.com/v1/audio-features?ids=5fwSHlTEWpluwOM0Sxnh5k\n"
     ]
    },
    {
     "name": "stderr",
     "output_type": "stream",
     "text": [
      " 74%|███████████████████████████████████████████████████████████▎                    | 426/574 [01:16<00:24,  6.12it/s]"
     ]
    },
    {
     "name": "stdout",
     "output_type": "stream",
     "text": [
      "['3c8iiZGfEammKJuWTErE5x']\n",
      "3c8iiZGfEammKJuWTErE5x\n",
      "https://api.spotify.com/v1/audio-features?ids=3c8iiZGfEammKJuWTErE5x\n",
      "['6zSpb8dQRaw0M1dK8PBwQz']\n",
      "6zSpb8dQRaw0M1dK8PBwQz\n",
      "https://api.spotify.com/v1/audio-features?ids=6zSpb8dQRaw0M1dK8PBwQz\n"
     ]
    },
    {
     "name": "stderr",
     "output_type": "stream",
     "text": [
      " 75%|███████████████████████████████████████████████████████████▋                    | 428/574 [01:16<00:22,  6.35it/s]"
     ]
    },
    {
     "name": "stdout",
     "output_type": "stream",
     "text": [
      "['4ofwffwvvnbSkrMSCKQDaC']\n",
      "4ofwffwvvnbSkrMSCKQDaC\n",
      "https://api.spotify.com/v1/audio-features?ids=4ofwffwvvnbSkrMSCKQDaC\n",
      "['3Iba59sFmGhQ4kbCY5L8AX']\n",
      "3Iba59sFmGhQ4kbCY5L8AX\n",
      "https://api.spotify.com/v1/audio-features?ids=3Iba59sFmGhQ4kbCY5L8AX\n"
     ]
    },
    {
     "name": "stderr",
     "output_type": "stream",
     "text": [
      " 75%|███████████████████████████████████████████████████████████▉                    | 430/574 [01:17<00:23,  6.08it/s]"
     ]
    },
    {
     "name": "stdout",
     "output_type": "stream",
     "text": [
      "['2Z8WuEywRWYTKe1NybPQEW']\n",
      "2Z8WuEywRWYTKe1NybPQEW\n",
      "https://api.spotify.com/v1/audio-features?ids=2Z8WuEywRWYTKe1NybPQEW\n",
      "['0iVkWge9ytV4Scgy2hQ2za']\n",
      "0iVkWge9ytV4Scgy2hQ2za\n",
      "https://api.spotify.com/v1/audio-features?ids=0iVkWge9ytV4Scgy2hQ2za\n"
     ]
    },
    {
     "name": "stderr",
     "output_type": "stream",
     "text": [
      " 75%|████████████████████████████████████████████████████████████▏                   | 432/574 [01:17<00:24,  5.69it/s]"
     ]
    },
    {
     "name": "stdout",
     "output_type": "stream",
     "text": [
      "['4Ljs6Dvpz7Arf9Ac8RN7tn']\n",
      "4Ljs6Dvpz7Arf9Ac8RN7tn\n",
      "https://api.spotify.com/v1/audio-features?ids=4Ljs6Dvpz7Arf9Ac8RN7tn\n",
      "['5FqaXHqw79ILxvJUKvOzxc']\n",
      "5FqaXHqw79ILxvJUKvOzxc\n",
      "https://api.spotify.com/v1/audio-features?ids=5FqaXHqw79ILxvJUKvOzxc\n"
     ]
    },
    {
     "name": "stderr",
     "output_type": "stream",
     "text": [
      " 76%|████████████████████████████████████████████████████████████▍                   | 434/574 [01:17<00:25,  5.49it/s]"
     ]
    },
    {
     "name": "stdout",
     "output_type": "stream",
     "text": [
      "['780be5fB7823aHG06mwTat']\n",
      "780be5fB7823aHG06mwTat\n",
      "https://api.spotify.com/v1/audio-features?ids=780be5fB7823aHG06mwTat\n",
      "['0e8nrvls4Qqv5Rfa2UhqmO']\n",
      "0e8nrvls4Qqv5Rfa2UhqmO\n",
      "https://api.spotify.com/v1/audio-features?ids=0e8nrvls4Qqv5Rfa2UhqmO\n"
     ]
    },
    {
     "name": "stderr",
     "output_type": "stream",
     "text": [
      " 76%|████████████████████████████████████████████████████████████▊                   | 436/574 [01:18<00:24,  5.69it/s]"
     ]
    },
    {
     "name": "stdout",
     "output_type": "stream",
     "text": [
      "['2vBET2pmrQqafaS6zIaYta']\n",
      "2vBET2pmrQqafaS6zIaYta\n",
      "https://api.spotify.com/v1/audio-features?ids=2vBET2pmrQqafaS6zIaYta\n"
     ]
    },
    {
     "name": "stderr",
     "output_type": "stream",
     "text": [
      "\r",
      " 76%|████████████████████████████████████████████████████████████▉                   | 437/574 [01:18<00:23,  5.74it/s]"
     ]
    },
    {
     "name": "stdout",
     "output_type": "stream",
     "text": [
      "['5PjdY0CKGZdEuoNab3yDmX']\n",
      "5PjdY0CKGZdEuoNab3yDmX\n",
      "https://api.spotify.com/v1/audio-features?ids=5PjdY0CKGZdEuoNab3yDmX\n",
      "['77sFlmQh56N5VSBMKX7e63']\n",
      "77sFlmQh56N5VSBMKX7e63\n",
      "https://api.spotify.com/v1/audio-features?ids=77sFlmQh56N5VSBMKX7e63\n"
     ]
    },
    {
     "name": "stderr",
     "output_type": "stream",
     "text": [
      " 76%|█████████████████████████████████████████████████████████████▏                  | 439/574 [01:18<00:22,  6.00it/s]"
     ]
    },
    {
     "name": "stdout",
     "output_type": "stream",
     "text": [
      "['0J07ya7WC09FaQADutoBRZ']\n",
      "0J07ya7WC09FaQADutoBRZ\n",
      "https://api.spotify.com/v1/audio-features?ids=0J07ya7WC09FaQADutoBRZ\n",
      "['45PF1Y3RcW5MK0jxWvhc4D']\n",
      "45PF1Y3RcW5MK0jxWvhc4D\n",
      "https://api.spotify.com/v1/audio-features?ids=45PF1Y3RcW5MK0jxWvhc4D\n"
     ]
    },
    {
     "name": "stderr",
     "output_type": "stream",
     "text": [
      " 77%|█████████████████████████████████████████████████████████████▍                  | 441/574 [01:18<00:22,  6.04it/s]"
     ]
    },
    {
     "name": "stdout",
     "output_type": "stream",
     "text": [
      "['41rOnZXVg3cLacziEBgkpW']\n",
      "41rOnZXVg3cLacziEBgkpW\n",
      "https://api.spotify.com/v1/audio-features?ids=41rOnZXVg3cLacziEBgkpW\n",
      "['1058fW9H3fZA6QjYCdOBad']\n",
      "1058fW9H3fZA6QjYCdOBad\n",
      "https://api.spotify.com/v1/audio-features?ids=1058fW9H3fZA6QjYCdOBad\n"
     ]
    },
    {
     "name": "stderr",
     "output_type": "stream",
     "text": [
      " 77%|█████████████████████████████████████████████████████████████▋                  | 443/574 [01:19<00:20,  6.25it/s]"
     ]
    },
    {
     "name": "stdout",
     "output_type": "stream",
     "text": [
      "['6PQ88X9TkUIAUIZJHW2upE']\n",
      "6PQ88X9TkUIAUIZJHW2upE\n",
      "https://api.spotify.com/v1/audio-features?ids=6PQ88X9TkUIAUIZJHW2upE\n",
      "['1gOANd4qcnkftl869IOvBu']\n",
      "1gOANd4qcnkftl869IOvBu\n",
      "https://api.spotify.com/v1/audio-features?ids=1gOANd4qcnkftl869IOvBu\n"
     ]
    },
    {
     "name": "stderr",
     "output_type": "stream",
     "text": [
      " 78%|██████████████████████████████████████████████████████████████                  | 445/574 [01:19<00:20,  6.15it/s]"
     ]
    },
    {
     "name": "stdout",
     "output_type": "stream",
     "text": [
      "['6IPNp9PfaEqrzotY47TIWy']\n",
      "6IPNp9PfaEqrzotY47TIWy\n",
      "https://api.spotify.com/v1/audio-features?ids=6IPNp9PfaEqrzotY47TIWy\n",
      "['5WHTFyqSii0lmT9R21abT8']\n",
      "5WHTFyqSii0lmT9R21abT8\n",
      "https://api.spotify.com/v1/audio-features?ids=5WHTFyqSii0lmT9R21abT8\n"
     ]
    },
    {
     "name": "stderr",
     "output_type": "stream",
     "text": [
      " 78%|██████████████████████████████████████████████████████████████▎                 | 447/574 [01:19<00:20,  6.13it/s]"
     ]
    },
    {
     "name": "stdout",
     "output_type": "stream",
     "text": [
      "['1OWLQ4FQrO13w6ssWgP8tk']\n",
      "1OWLQ4FQrO13w6ssWgP8tk\n",
      "https://api.spotify.com/v1/audio-features?ids=1OWLQ4FQrO13w6ssWgP8tk\n",
      "['5tf1VVWniHgryyumXyJM7w']\n",
      "5tf1VVWniHgryyumXyJM7w\n",
      "https://api.spotify.com/v1/audio-features?ids=5tf1VVWniHgryyumXyJM7w\n"
     ]
    },
    {
     "name": "stderr",
     "output_type": "stream",
     "text": [
      " 78%|██████████████████████████████████████████████████████████████▌                 | 449/574 [01:20<00:21,  5.82it/s]"
     ]
    },
    {
     "name": "stdout",
     "output_type": "stream",
     "text": [
      "['3uUuGVFu1V7jTQL60S1r8z']\n",
      "3uUuGVFu1V7jTQL60S1r8z\n",
      "https://api.spotify.com/v1/audio-features?ids=3uUuGVFu1V7jTQL60S1r8z\n"
     ]
    },
    {
     "name": "stderr",
     "output_type": "stream",
     "text": [
      " 79%|██████████████████████████████████████████████████████████████▊                 | 451/574 [01:20<00:20,  6.15it/s]"
     ]
    },
    {
     "name": "stdout",
     "output_type": "stream",
     "text": [
      "['2YWjW3wwQIBLNhxWKBQd16']\n",
      "2YWjW3wwQIBLNhxWKBQd16\n",
      "https://api.spotify.com/v1/audio-features?ids=2YWjW3wwQIBLNhxWKBQd16\n",
      "['6OGogr19zPTM4BALXuMQpF']\n",
      "6OGogr19zPTM4BALXuMQpF\n",
      "https://api.spotify.com/v1/audio-features?ids=6OGogr19zPTM4BALXuMQpF\n",
      "['5dyDkXi1bnQKSyIdO0JXp8']\n",
      "5dyDkXi1bnQKSyIdO0JXp8\n",
      "https://api.spotify.com/v1/audio-features?ids=5dyDkXi1bnQKSyIdO0JXp8\n"
     ]
    },
    {
     "name": "stderr",
     "output_type": "stream",
     "text": [
      " 79%|███████████████████████████████████████████████████████████████▏                | 453/574 [01:20<00:19,  6.12it/s]"
     ]
    },
    {
     "name": "stdout",
     "output_type": "stream",
     "text": [
      "['0xfMlIW8lS40qvpsUw1l0X']\n",
      "0xfMlIW8lS40qvpsUw1l0X\n",
      "https://api.spotify.com/v1/audio-features?ids=0xfMlIW8lS40qvpsUw1l0X\n",
      "['2gam98EZKrF9XuOkU13ApN']\n",
      "2gam98EZKrF9XuOkU13ApN\n",
      "https://api.spotify.com/v1/audio-features?ids=2gam98EZKrF9XuOkU13ApN\n"
     ]
    },
    {
     "name": "stderr",
     "output_type": "stream",
     "text": [
      " 79%|███████████████████████████████████████████████████████████████▍                | 455/574 [01:21<00:20,  5.91it/s]"
     ]
    },
    {
     "name": "stdout",
     "output_type": "stream",
     "text": [
      "['03SEp9sXkAOAgxJtSLuVEi']\n",
      "03SEp9sXkAOAgxJtSLuVEi\n",
      "https://api.spotify.com/v1/audio-features?ids=03SEp9sXkAOAgxJtSLuVEi\n",
      "['4sOjKbpa7RLZVRNxcO26eb']\n",
      "4sOjKbpa7RLZVRNxcO26eb\n",
      "https://api.spotify.com/v1/audio-features?ids=4sOjKbpa7RLZVRNxcO26eb\n"
     ]
    },
    {
     "name": "stderr",
     "output_type": "stream",
     "text": [
      " 80%|███████████████████████████████████████████████████████████████▋                | 457/574 [01:21<00:19,  6.09it/s]"
     ]
    },
    {
     "name": "stdout",
     "output_type": "stream",
     "text": [
      "['5itOtNx0WxtJmi1TQ3RuRd']\n",
      "5itOtNx0WxtJmi1TQ3RuRd\n",
      "https://api.spotify.com/v1/audio-features?ids=5itOtNx0WxtJmi1TQ3RuRd\n",
      "['75MNhvTCCKsST3YqqUiU9r']\n",
      "75MNhvTCCKsST3YqqUiU9r\n",
      "https://api.spotify.com/v1/audio-features?ids=75MNhvTCCKsST3YqqUiU9r\n"
     ]
    },
    {
     "name": "stderr",
     "output_type": "stream",
     "text": [
      " 80%|███████████████████████████████████████████████████████████████▉                | 459/574 [01:21<00:19,  5.95it/s]"
     ]
    },
    {
     "name": "stdout",
     "output_type": "stream",
     "text": [
      "['1kPpge9JDLpcj15qgrPbYX']\n",
      "1kPpge9JDLpcj15qgrPbYX\n",
      "https://api.spotify.com/v1/audio-features?ids=1kPpge9JDLpcj15qgrPbYX\n",
      "['5UbJD3lat3SVDDBXmf8gLc']\n",
      "5UbJD3lat3SVDDBXmf8gLc\n",
      "https://api.spotify.com/v1/audio-features?ids=5UbJD3lat3SVDDBXmf8gLc\n"
     ]
    },
    {
     "name": "stderr",
     "output_type": "stream",
     "text": [
      " 80%|████████████████████████████████████████████████████████████████▎               | 461/574 [01:22<00:19,  5.91it/s]"
     ]
    },
    {
     "name": "stdout",
     "output_type": "stream",
     "text": [
      "['03aENfSuuy3VS0sbgH7u1D']\n",
      "03aENfSuuy3VS0sbgH7u1D\n",
      "https://api.spotify.com/v1/audio-features?ids=03aENfSuuy3VS0sbgH7u1D\n",
      "['6Uj1ctrBOjOas8xZXGqKk4']\n",
      "6Uj1ctrBOjOas8xZXGqKk4\n",
      "https://api.spotify.com/v1/audio-features?ids=6Uj1ctrBOjOas8xZXGqKk4\n"
     ]
    },
    {
     "name": "stderr",
     "output_type": "stream",
     "text": [
      " 81%|████████████████████████████████████████████████████████████████▌               | 463/574 [01:22<00:18,  5.95it/s]"
     ]
    },
    {
     "name": "stdout",
     "output_type": "stream",
     "text": [
      "['0nrRP2bk19rLc0orkWPQk2']\n",
      "0nrRP2bk19rLc0orkWPQk2\n",
      "https://api.spotify.com/v1/audio-features?ids=0nrRP2bk19rLc0orkWPQk2\n",
      "['0mV43B6pJWRjcM5TmzNe6d']\n",
      "0mV43B6pJWRjcM5TmzNe6d\n",
      "https://api.spotify.com/v1/audio-features?ids=0mV43B6pJWRjcM5TmzNe6d\n"
     ]
    },
    {
     "name": "stderr",
     "output_type": "stream",
     "text": [
      " 81%|████████████████████████████████████████████████████████████████▊               | 465/574 [01:22<00:17,  6.11it/s]"
     ]
    },
    {
     "name": "stdout",
     "output_type": "stream",
     "text": [
      "['1XGmzt0PVuFgQYYnV2It7A']\n",
      "1XGmzt0PVuFgQYYnV2It7A\n",
      "https://api.spotify.com/v1/audio-features?ids=1XGmzt0PVuFgQYYnV2It7A\n",
      "['4ZtFanR9U6ndgddUvNcjcG']\n",
      "4ZtFanR9U6ndgddUvNcjcG\n",
      "https://api.spotify.com/v1/audio-features?ids=4ZtFanR9U6ndgddUvNcjcG\n"
     ]
    },
    {
     "name": "stderr",
     "output_type": "stream",
     "text": [
      " 81%|█████████████████████████████████████████████████████████████████               | 467/574 [01:23<00:17,  6.04it/s]"
     ]
    },
    {
     "name": "stdout",
     "output_type": "stream",
     "text": [
      "['2S5LNtRVRPbXk01yRQ14sZ']\n",
      "2S5LNtRVRPbXk01yRQ14sZ\n",
      "https://api.spotify.com/v1/audio-features?ids=2S5LNtRVRPbXk01yRQ14sZ\n",
      "['0KzCNeuMVGXbnMbjX6ilCU']\n",
      "0KzCNeuMVGXbnMbjX6ilCU\n",
      "https://api.spotify.com/v1/audio-features?ids=0KzCNeuMVGXbnMbjX6ilCU\n"
     ]
    },
    {
     "name": "stderr",
     "output_type": "stream",
     "text": [
      " 82%|█████████████████████████████████████████████████████████████████▎              | 469/574 [01:23<00:16,  6.22it/s]"
     ]
    },
    {
     "name": "stdout",
     "output_type": "stream",
     "text": [
      "['49FYlytm3dAAraYgpoJZux']\n",
      "49FYlytm3dAAraYgpoJZux\n",
      "https://api.spotify.com/v1/audio-features?ids=49FYlytm3dAAraYgpoJZux\n",
      "['7cdy4PbCdDZZNjyxoZyE0c']\n",
      "7cdy4PbCdDZZNjyxoZyE0c\n",
      "https://api.spotify.com/v1/audio-features?ids=7cdy4PbCdDZZNjyxoZyE0c\n"
     ]
    },
    {
     "name": "stderr",
     "output_type": "stream",
     "text": [
      " 82%|█████████████████████████████████████████████████████████████████▋              | 471/574 [01:24<00:17,  5.75it/s]"
     ]
    },
    {
     "name": "stdout",
     "output_type": "stream",
     "text": [
      "['7vFoFDWqTX0mHzLfrF1Cfy']\n",
      "7vFoFDWqTX0mHzLfrF1Cfy\n",
      "https://api.spotify.com/v1/audio-features?ids=7vFoFDWqTX0mHzLfrF1Cfy\n"
     ]
    },
    {
     "name": "stderr",
     "output_type": "stream",
     "text": [
      "\r",
      " 82%|█████████████████████████████████████████████████████████████████▊              | 472/574 [01:24<00:18,  5.42it/s]"
     ]
    },
    {
     "name": "stdout",
     "output_type": "stream",
     "text": [
      "['6Dy1jexKYriXAVG6evyUTJ']\n",
      "6Dy1jexKYriXAVG6evyUTJ\n",
      "https://api.spotify.com/v1/audio-features?ids=6Dy1jexKYriXAVG6evyUTJ\n"
     ]
    },
    {
     "name": "stderr",
     "output_type": "stream",
     "text": [
      "\r",
      " 82%|█████████████████████████████████████████████████████████████████▉              | 473/574 [01:24<00:18,  5.53it/s]"
     ]
    },
    {
     "name": "stdout",
     "output_type": "stream",
     "text": [
      "['1qSQ8ivU7OPqFcEO1D99vU']\n",
      "1qSQ8ivU7OPqFcEO1D99vU\n",
      "https://api.spotify.com/v1/audio-features?ids=1qSQ8ivU7OPqFcEO1D99vU\n",
      "['3vXnuFnC5RhPGwsFi0ORcI']\n",
      "3vXnuFnC5RhPGwsFi0ORcI\n",
      "https://api.spotify.com/v1/audio-features?ids=3vXnuFnC5RhPGwsFi0ORcI\n"
     ]
    },
    {
     "name": "stderr",
     "output_type": "stream",
     "text": [
      " 83%|██████████████████████████████████████████████████████████████████▏             | 475/574 [01:24<00:17,  5.57it/s]"
     ]
    },
    {
     "name": "stdout",
     "output_type": "stream",
     "text": [
      "['7FhcGzIb6BUapFSNVwxpCq']\n",
      "7FhcGzIb6BUapFSNVwxpCq\n",
      "https://api.spotify.com/v1/audio-features?ids=7FhcGzIb6BUapFSNVwxpCq\n",
      "['3HLUrzmua2lTafzu3heQZV']\n",
      "3HLUrzmua2lTafzu3heQZV\n",
      "https://api.spotify.com/v1/audio-features?ids=3HLUrzmua2lTafzu3heQZV\n"
     ]
    },
    {
     "name": "stderr",
     "output_type": "stream",
     "text": [
      "\r",
      " 83%|██████████████████████████████████████████████████████████████████▎             | 476/574 [01:24<00:17,  5.71it/s]"
     ]
    },
    {
     "name": "stdout",
     "output_type": "stream",
     "text": [
      "['3mvMxWdTEy3sNZoRUNeris']\n",
      "3mvMxWdTEy3sNZoRUNeris\n",
      "https://api.spotify.com/v1/audio-features?ids=3mvMxWdTEy3sNZoRUNeris\n"
     ]
    },
    {
     "name": "stderr",
     "output_type": "stream",
     "text": [
      " 83%|██████████████████████████████████████████████████████████████████▌             | 478/574 [01:25<00:17,  5.36it/s]"
     ]
    },
    {
     "name": "stdout",
     "output_type": "stream",
     "text": [
      "['0bPKPZ6qlfwptPL6ta6t43']\n",
      "0bPKPZ6qlfwptPL6ta6t43\n",
      "https://api.spotify.com/v1/audio-features?ids=0bPKPZ6qlfwptPL6ta6t43\n"
     ]
    },
    {
     "name": "stderr",
     "output_type": "stream",
     "text": [
      "\r",
      " 83%|██████████████████████████████████████████████████████████████████▊             | 479/574 [01:25<00:17,  5.55it/s]"
     ]
    },
    {
     "name": "stdout",
     "output_type": "stream",
     "text": [
      "['3tJljA8IkRARbsFojNbwRl']\n",
      "3tJljA8IkRARbsFojNbwRl\n",
      "https://api.spotify.com/v1/audio-features?ids=3tJljA8IkRARbsFojNbwRl\n",
      "['3Fg9sxDMmWwodqI678gIwX']\n",
      "3Fg9sxDMmWwodqI678gIwX\n",
      "https://api.spotify.com/v1/audio-features?ids=3Fg9sxDMmWwodqI678gIwX\n"
     ]
    },
    {
     "name": "stderr",
     "output_type": "stream",
     "text": [
      " 84%|███████████████████████████████████████████████████████████████████             | 481/574 [01:25<00:16,  5.62it/s]"
     ]
    },
    {
     "name": "stdout",
     "output_type": "stream",
     "text": [
      "['41xAUseykaaSdmry5hVOkV']\n",
      "41xAUseykaaSdmry5hVOkV\n",
      "https://api.spotify.com/v1/audio-features?ids=41xAUseykaaSdmry5hVOkV\n",
      "['6WNVFXtZyFmfosAxvisgPL']\n",
      "6WNVFXtZyFmfosAxvisgPL\n",
      "https://api.spotify.com/v1/audio-features?ids=6WNVFXtZyFmfosAxvisgPL\n"
     ]
    },
    {
     "name": "stderr",
     "output_type": "stream",
     "text": [
      " 84%|███████████████████████████████████████████████████████████████████▎            | 483/574 [01:26<00:16,  5.64it/s]"
     ]
    },
    {
     "name": "stdout",
     "output_type": "stream",
     "text": [
      "['1ncaQAHCLAOjgnceZhqYt5']\n",
      "1ncaQAHCLAOjgnceZhqYt5\n",
      "https://api.spotify.com/v1/audio-features?ids=1ncaQAHCLAOjgnceZhqYt5\n",
      "['5G7ub4dl5ABYB1fYlgCJ2i']\n",
      "5G7ub4dl5ABYB1fYlgCJ2i\n",
      "https://api.spotify.com/v1/audio-features?ids=5G7ub4dl5ABYB1fYlgCJ2i\n"
     ]
    },
    {
     "name": "stderr",
     "output_type": "stream",
     "text": [
      " 84%|███████████████████████████████████████████████████████████████████▌            | 485/574 [01:26<00:15,  5.90it/s]"
     ]
    },
    {
     "name": "stdout",
     "output_type": "stream",
     "text": [
      "['4xSRna7VTC2qN3INhdpYmD']\n",
      "4xSRna7VTC2qN3INhdpYmD\n",
      "https://api.spotify.com/v1/audio-features?ids=4xSRna7VTC2qN3INhdpYmD\n",
      "['3hYClPLgnc4Eu5GIU87Kkk']\n",
      "3hYClPLgnc4Eu5GIU87Kkk\n",
      "https://api.spotify.com/v1/audio-features?ids=3hYClPLgnc4Eu5GIU87Kkk\n"
     ]
    },
    {
     "name": "stderr",
     "output_type": "stream",
     "text": [
      " 85%|███████████████████████████████████████████████████████████████████▊            | 487/574 [01:26<00:15,  5.76it/s]"
     ]
    },
    {
     "name": "stdout",
     "output_type": "stream",
     "text": [
      "['303oeyQJklQReUBrszN2j2']\n",
      "303oeyQJklQReUBrszN2j2\n",
      "https://api.spotify.com/v1/audio-features?ids=303oeyQJklQReUBrszN2j2\n"
     ]
    },
    {
     "name": "stderr",
     "output_type": "stream",
     "text": [
      "\r",
      " 85%|████████████████████████████████████████████████████████████████████            | 488/574 [01:27<00:15,  5.56it/s]"
     ]
    },
    {
     "name": "stdout",
     "output_type": "stream",
     "text": [
      "['0QIshyPSwHWvmA2jzs2LND']\n",
      "0QIshyPSwHWvmA2jzs2LND\n",
      "https://api.spotify.com/v1/audio-features?ids=0QIshyPSwHWvmA2jzs2LND\n",
      "['0LHDyKHY7sZfc2YLMfiJBw']\n",
      "0LHDyKHY7sZfc2YLMfiJBw\n",
      "https://api.spotify.com/v1/audio-features?ids=0LHDyKHY7sZfc2YLMfiJBw\n"
     ]
    },
    {
     "name": "stderr",
     "output_type": "stream",
     "text": [
      " 85%|████████████████████████████████████████████████████████████████████▎           | 490/574 [01:27<00:15,  5.49it/s]"
     ]
    },
    {
     "name": "stdout",
     "output_type": "stream",
     "text": [
      "['7h7wrenhCbADpRK6ItHxI0']\n",
      "7h7wrenhCbADpRK6ItHxI0\n",
      "https://api.spotify.com/v1/audio-features?ids=7h7wrenhCbADpRK6ItHxI0\n",
      "['7ayi6LtgxUK4057CF7MCJL']\n",
      "7ayi6LtgxUK4057CF7MCJL\n",
      "https://api.spotify.com/v1/audio-features?ids=7ayi6LtgxUK4057CF7MCJL\n"
     ]
    },
    {
     "name": "stderr",
     "output_type": "stream",
     "text": [
      " 86%|████████████████████████████████████████████████████████████████████▌           | 492/574 [01:27<00:14,  5.60it/s]"
     ]
    },
    {
     "name": "stdout",
     "output_type": "stream",
     "text": [
      "['1h7LWORFpHl8qTz8xXlVYN']\n",
      "1h7LWORFpHl8qTz8xXlVYN\n",
      "https://api.spotify.com/v1/audio-features?ids=1h7LWORFpHl8qTz8xXlVYN\n",
      "['76Ef208V2nkxvbvs7pzKdA']\n",
      "76Ef208V2nkxvbvs7pzKdA\n",
      "https://api.spotify.com/v1/audio-features?ids=76Ef208V2nkxvbvs7pzKdA\n"
     ]
    },
    {
     "name": "stderr",
     "output_type": "stream",
     "text": [
      " 86%|████████████████████████████████████████████████████████████████████▊           | 494/574 [01:28<00:14,  5.44it/s]"
     ]
    },
    {
     "name": "stdout",
     "output_type": "stream",
     "text": [
      "['1rp1KboJQdhF8gRKdm3Alk']\n",
      "1rp1KboJQdhF8gRKdm3Alk\n",
      "https://api.spotify.com/v1/audio-features?ids=1rp1KboJQdhF8gRKdm3Alk\n",
      "['6SLZaOxvjCJ6RnpbH8imwZ']\n",
      "6SLZaOxvjCJ6RnpbH8imwZ\n",
      "https://api.spotify.com/v1/audio-features?ids=6SLZaOxvjCJ6RnpbH8imwZ\n"
     ]
    },
    {
     "name": "stderr",
     "output_type": "stream",
     "text": [
      "\r",
      " 86%|████████████████████████████████████████████████████████████████████▉           | 495/574 [01:28<00:15,  5.16it/s]"
     ]
    },
    {
     "name": "stdout",
     "output_type": "stream",
     "text": [
      "['360Xv6Pn6ENVkFD7Hcfymf']\n",
      "360Xv6Pn6ENVkFD7Hcfymf\n",
      "https://api.spotify.com/v1/audio-features?ids=360Xv6Pn6ENVkFD7Hcfymf\n"
     ]
    },
    {
     "name": "stderr",
     "output_type": "stream",
     "text": [
      " 87%|█████████████████████████████████████████████████████████████████████▎          | 497/574 [01:28<00:15,  5.07it/s]"
     ]
    },
    {
     "name": "stdout",
     "output_type": "stream",
     "text": [
      "['6w5FDbVTPCk582bYwQGbDN']\n",
      "6w5FDbVTPCk582bYwQGbDN\n",
      "https://api.spotify.com/v1/audio-features?ids=6w5FDbVTPCk582bYwQGbDN\n"
     ]
    },
    {
     "name": "stderr",
     "output_type": "stream",
     "text": [
      "\r",
      " 87%|█████████████████████████████████████████████████████████████████████▍          | 498/574 [01:28<00:14,  5.17it/s]"
     ]
    },
    {
     "name": "stdout",
     "output_type": "stream",
     "text": [
      "['6KCVVAM5j4JukdJ8BpNVjv']\n",
      "6KCVVAM5j4JukdJ8BpNVjv\n",
      "https://api.spotify.com/v1/audio-features?ids=6KCVVAM5j4JukdJ8BpNVjv\n",
      "['4D7PndWbd8MB96lDZF3te2']\n",
      "4D7PndWbd8MB96lDZF3te2\n",
      "https://api.spotify.com/v1/audio-features?ids=4D7PndWbd8MB96lDZF3te2\n"
     ]
    },
    {
     "name": "stderr",
     "output_type": "stream",
     "text": [
      " 87%|█████████████████████████████████████████████████████████████████████▋          | 500/574 [01:29<00:13,  5.41it/s]"
     ]
    },
    {
     "name": "stdout",
     "output_type": "stream",
     "text": [
      "['2ZSFeJu61yIbsXG2KJbcGG']\n",
      "2ZSFeJu61yIbsXG2KJbcGG\n",
      "https://api.spotify.com/v1/audio-features?ids=2ZSFeJu61yIbsXG2KJbcGG\n"
     ]
    },
    {
     "name": "stderr",
     "output_type": "stream",
     "text": [
      "\r",
      " 87%|█████████████████████████████████████████████████████████████████████▊          | 501/574 [01:29<00:12,  5.64it/s]"
     ]
    },
    {
     "name": "stdout",
     "output_type": "stream",
     "text": [
      "['1LqvKE7xaNbACFD8GbyT4l']\n",
      "1LqvKE7xaNbACFD8GbyT4l\n",
      "https://api.spotify.com/v1/audio-features?ids=1LqvKE7xaNbACFD8GbyT4l\n",
      "['4kdzLRk1pX5kTLcgoDqaQ7']\n",
      "4kdzLRk1pX5kTLcgoDqaQ7\n",
      "https://api.spotify.com/v1/audio-features?ids=4kdzLRk1pX5kTLcgoDqaQ7\n"
     ]
    },
    {
     "name": "stderr",
     "output_type": "stream",
     "text": [
      " 88%|██████████████████████████████████████████████████████████████████████          | 503/574 [01:29<00:12,  5.81it/s]"
     ]
    },
    {
     "name": "stdout",
     "output_type": "stream",
     "text": [
      "['5vBKODjjr4NVPqW0sNNvr0']\n",
      "5vBKODjjr4NVPqW0sNNvr0\n",
      "https://api.spotify.com/v1/audio-features?ids=5vBKODjjr4NVPqW0sNNvr0\n",
      "['3RHMz6FpEF6SHoOlk831Nh']\n",
      "3RHMz6FpEF6SHoOlk831Nh\n",
      "https://api.spotify.com/v1/audio-features?ids=3RHMz6FpEF6SHoOlk831Nh\n"
     ]
    },
    {
     "name": "stderr",
     "output_type": "stream",
     "text": [
      " 88%|██████████████████████████████████████████████████████████████████████▍         | 505/574 [01:30<00:11,  5.96it/s]"
     ]
    },
    {
     "name": "stdout",
     "output_type": "stream",
     "text": [
      "['0ndvphNmJuUDL6JLHhMiki']\n",
      "0ndvphNmJuUDL6JLHhMiki\n",
      "https://api.spotify.com/v1/audio-features?ids=0ndvphNmJuUDL6JLHhMiki\n",
      "['2uB3uXWY1iwknxWQ5gD2g4']\n",
      "2uB3uXWY1iwknxWQ5gD2g4\n",
      "https://api.spotify.com/v1/audio-features?ids=2uB3uXWY1iwknxWQ5gD2g4\n"
     ]
    },
    {
     "name": "stderr",
     "output_type": "stream",
     "text": [
      " 88%|██████████████████████████████████████████████████████████████████████▋         | 507/574 [01:30<00:11,  5.87it/s]"
     ]
    },
    {
     "name": "stdout",
     "output_type": "stream",
     "text": [
      "['2njmoIaPd0hKIlCFtyGHUZ']\n",
      "2njmoIaPd0hKIlCFtyGHUZ\n",
      "https://api.spotify.com/v1/audio-features?ids=2njmoIaPd0hKIlCFtyGHUZ\n"
     ]
    },
    {
     "name": "stderr",
     "output_type": "stream",
     "text": [
      "\r",
      " 89%|██████████████████████████████████████████████████████████████████████▊         | 508/574 [01:30<00:11,  5.87it/s]"
     ]
    },
    {
     "name": "stdout",
     "output_type": "stream",
     "text": [
      "['6bAaEf97dH8fzQhLPiLacp']\n",
      "6bAaEf97dH8fzQhLPiLacp\n",
      "https://api.spotify.com/v1/audio-features?ids=6bAaEf97dH8fzQhLPiLacp\n",
      "['4GjRmJWJmEHXgH0Qdbw6Os']\n",
      "4GjRmJWJmEHXgH0Qdbw6Os\n",
      "https://api.spotify.com/v1/audio-features?ids=4GjRmJWJmEHXgH0Qdbw6Os\n"
     ]
    },
    {
     "name": "stderr",
     "output_type": "stream",
     "text": [
      " 89%|███████████████████████████████████████████████████████████████████████         | 510/574 [01:30<00:10,  5.93it/s]"
     ]
    },
    {
     "name": "stdout",
     "output_type": "stream",
     "text": [
      "['4HS5UK3JioFXvHLP14ydJB']\n",
      "4HS5UK3JioFXvHLP14ydJB\n",
      "https://api.spotify.com/v1/audio-features?ids=4HS5UK3JioFXvHLP14ydJB\n",
      "['6SBDaSKJHFlDpaFKDn4Dy7']\n",
      "6SBDaSKJHFlDpaFKDn4Dy7\n",
      "https://api.spotify.com/v1/audio-features?ids=6SBDaSKJHFlDpaFKDn4Dy7\n"
     ]
    },
    {
     "name": "stderr",
     "output_type": "stream",
     "text": [
      " 89%|███████████████████████████████████████████████████████████████████████▎        | 512/574 [01:31<00:10,  5.67it/s]"
     ]
    },
    {
     "name": "stdout",
     "output_type": "stream",
     "text": [
      "['6U6SpEY3xhXSw9A6l4WU1N']\n",
      "6U6SpEY3xhXSw9A6l4WU1N\n",
      "https://api.spotify.com/v1/audio-features?ids=6U6SpEY3xhXSw9A6l4WU1N\n"
     ]
    },
    {
     "name": "stderr",
     "output_type": "stream",
     "text": [
      "\r",
      " 89%|███████████████████████████████████████████████████████████████████████▍        | 513/574 [01:31<00:10,  5.62it/s]"
     ]
    },
    {
     "name": "stdout",
     "output_type": "stream",
     "text": [
      "['4iNdMRQRQ0cMunOLCPnkXQ']\n",
      "4iNdMRQRQ0cMunOLCPnkXQ\n",
      "https://api.spotify.com/v1/audio-features?ids=4iNdMRQRQ0cMunOLCPnkXQ\n"
     ]
    },
    {
     "name": "stderr",
     "output_type": "stream",
     "text": [
      "\r",
      " 90%|███████████████████████████████████████████████████████████████████████▋        | 514/574 [01:31<00:10,  5.70it/s]"
     ]
    },
    {
     "name": "stdout",
     "output_type": "stream",
     "text": [
      "['0OueLn8Bd2P2XU9aX1My4Z']\n",
      "0OueLn8Bd2P2XU9aX1My4Z\n",
      "https://api.spotify.com/v1/audio-features?ids=0OueLn8Bd2P2XU9aX1My4Z\n",
      "['1ABDYmUKWYAY7FjGKOFLyU']\n",
      "1ABDYmUKWYAY7FjGKOFLyU\n",
      "https://api.spotify.com/v1/audio-features?ids=1ABDYmUKWYAY7FjGKOFLyU\n"
     ]
    },
    {
     "name": "stderr",
     "output_type": "stream",
     "text": [
      " 90%|███████████████████████████████████████████████████████████████████████▉        | 516/574 [01:32<00:10,  5.43it/s]"
     ]
    },
    {
     "name": "stdout",
     "output_type": "stream",
     "text": [
      "['2Dh8f30wYZ97NWo2NL4e8c']\n",
      "2Dh8f30wYZ97NWo2NL4e8c\n",
      "https://api.spotify.com/v1/audio-features?ids=2Dh8f30wYZ97NWo2NL4e8c\n",
      "['7hbIay5rEvtVH9iI40vQMG']\n",
      "7hbIay5rEvtVH9iI40vQMG\n",
      "https://api.spotify.com/v1/audio-features?ids=7hbIay5rEvtVH9iI40vQMG\n"
     ]
    },
    {
     "name": "stderr",
     "output_type": "stream",
     "text": [
      "\r",
      " 90%|████████████████████████████████████████████████████████████████████████        | 517/574 [01:32<00:10,  5.31it/s]"
     ]
    },
    {
     "name": "stdout",
     "output_type": "stream",
     "text": [
      "['38TKubI8iddW5RZZq4znNx']\n",
      "38TKubI8iddW5RZZq4znNx\n",
      "https://api.spotify.com/v1/audio-features?ids=38TKubI8iddW5RZZq4znNx\n"
     ]
    },
    {
     "name": "stderr",
     "output_type": "stream",
     "text": [
      " 90%|████████████████████████████████████████████████████████████████████████▎       | 519/574 [01:32<00:10,  5.15it/s]"
     ]
    },
    {
     "name": "stdout",
     "output_type": "stream",
     "text": [
      "['3yv4jovrvRsUXi8LxJBzip']\n",
      "3yv4jovrvRsUXi8LxJBzip\n",
      "https://api.spotify.com/v1/audio-features?ids=3yv4jovrvRsUXi8LxJBzip\n"
     ]
    },
    {
     "name": "stderr",
     "output_type": "stream",
     "text": [
      "\r",
      " 91%|████████████████████████████████████████████████████████████████████████▍       | 520/574 [01:32<00:10,  5.17it/s]"
     ]
    },
    {
     "name": "stdout",
     "output_type": "stream",
     "text": [
      "['2N3ft2Plv5PXRYuOBVRoqq']\n",
      "2N3ft2Plv5PXRYuOBVRoqq\n",
      "https://api.spotify.com/v1/audio-features?ids=2N3ft2Plv5PXRYuOBVRoqq\n"
     ]
    },
    {
     "name": "stderr",
     "output_type": "stream",
     "text": [
      "\r",
      " 91%|████████████████████████████████████████████████████████████████████████▌       | 521/574 [01:33<00:09,  5.35it/s]"
     ]
    },
    {
     "name": "stdout",
     "output_type": "stream",
     "text": [
      "['1yxX9H77a40Xn1AFCru6kD']\n",
      "1yxX9H77a40Xn1AFCru6kD\n",
      "https://api.spotify.com/v1/audio-features?ids=1yxX9H77a40Xn1AFCru6kD\n",
      "['45nOY1My3YTbbO7lAxrIGm']\n",
      "45nOY1My3YTbbO7lAxrIGm\n",
      "https://api.spotify.com/v1/audio-features?ids=45nOY1My3YTbbO7lAxrIGm\n"
     ]
    },
    {
     "name": "stderr",
     "output_type": "stream",
     "text": [
      " 91%|████████████████████████████████████████████████████████████████████████▉       | 523/574 [01:33<00:08,  5.71it/s]"
     ]
    },
    {
     "name": "stdout",
     "output_type": "stream",
     "text": [
      "['0Yr1TfeacyGFyDe0aWDla9']\n",
      "0Yr1TfeacyGFyDe0aWDla9\n",
      "https://api.spotify.com/v1/audio-features?ids=0Yr1TfeacyGFyDe0aWDla9\n",
      "['2dI1vNXtxBDQzJqM6cxiY0']\n",
      "2dI1vNXtxBDQzJqM6cxiY0\n",
      "https://api.spotify.com/v1/audio-features?ids=2dI1vNXtxBDQzJqM6cxiY0\n"
     ]
    },
    {
     "name": "stderr",
     "output_type": "stream",
     "text": [
      " 91%|█████████████████████████████████████████████████████████████████████████▏      | 525/574 [01:33<00:07,  6.18it/s]"
     ]
    },
    {
     "name": "stdout",
     "output_type": "stream",
     "text": [
      "['3FeVmId7tL5YN8B7R3imoM']\n",
      "3FeVmId7tL5YN8B7R3imoM\n",
      "https://api.spotify.com/v1/audio-features?ids=3FeVmId7tL5YN8B7R3imoM\n",
      "['0J07ya7WC09FaQADutoBRZ']\n",
      "0J07ya7WC09FaQADutoBRZ\n",
      "https://api.spotify.com/v1/audio-features?ids=0J07ya7WC09FaQADutoBRZ\n"
     ]
    },
    {
     "name": "stderr",
     "output_type": "stream",
     "text": [
      " 92%|█████████████████████████████████████████████████████████████████████████▍      | 527/574 [01:34<00:07,  6.08it/s]"
     ]
    },
    {
     "name": "stdout",
     "output_type": "stream",
     "text": [
      "['45PF1Y3RcW5MK0jxWvhc4D']\n",
      "45PF1Y3RcW5MK0jxWvhc4D\n",
      "https://api.spotify.com/v1/audio-features?ids=45PF1Y3RcW5MK0jxWvhc4D\n",
      "['2gQPv5jvVPqU2a9HhMNO1v']\n",
      "2gQPv5jvVPqU2a9HhMNO1v\n",
      "https://api.spotify.com/v1/audio-features?ids=2gQPv5jvVPqU2a9HhMNO1v\n"
     ]
    },
    {
     "name": "stderr",
     "output_type": "stream",
     "text": [
      " 92%|█████████████████████████████████████████████████████████████████████████▋      | 529/574 [01:34<00:07,  5.96it/s]"
     ]
    },
    {
     "name": "stdout",
     "output_type": "stream",
     "text": [
      "['6ngjb2Je6gEjjVOOQpWSWG']\n",
      "6ngjb2Je6gEjjVOOQpWSWG\n",
      "https://api.spotify.com/v1/audio-features?ids=6ngjb2Je6gEjjVOOQpWSWG\n",
      "['5CZ40GBx1sQ9agT82CLQCT']\n",
      "5CZ40GBx1sQ9agT82CLQCT\n",
      "https://api.spotify.com/v1/audio-features?ids=5CZ40GBx1sQ9agT82CLQCT\n"
     ]
    },
    {
     "name": "stderr",
     "output_type": "stream",
     "text": [
      " 93%|██████████████████████████████████████████████████████████████████████████      | 531/574 [01:34<00:07,  5.85it/s]"
     ]
    },
    {
     "name": "stdout",
     "output_type": "stream",
     "text": [
      "['2Xr1dTzJee307rmrkt8c0g']\n",
      "2Xr1dTzJee307rmrkt8c0g\n",
      "https://api.spotify.com/v1/audio-features?ids=2Xr1dTzJee307rmrkt8c0g\n",
      "['7rglLriMNBPAyuJOMGwi39']\n",
      "7rglLriMNBPAyuJOMGwi39\n",
      "https://api.spotify.com/v1/audio-features?ids=7rglLriMNBPAyuJOMGwi39\n"
     ]
    },
    {
     "name": "stderr",
     "output_type": "stream",
     "text": [
      " 93%|██████████████████████████████████████████████████████████████████████████▎     | 533/574 [01:35<00:06,  5.96it/s]"
     ]
    },
    {
     "name": "stdout",
     "output_type": "stream",
     "text": [
      "['4sOjKbpa7RLZVRNxcO26eb']\n",
      "4sOjKbpa7RLZVRNxcO26eb\n",
      "https://api.spotify.com/v1/audio-features?ids=4sOjKbpa7RLZVRNxcO26eb\n"
     ]
    },
    {
     "name": "stderr",
     "output_type": "stream",
     "text": [
      "\r",
      " 93%|██████████████████████████████████████████████████████████████████████████▍     | 534/574 [01:35<00:06,  5.97it/s]"
     ]
    },
    {
     "name": "stdout",
     "output_type": "stream",
     "text": [
      "['149BxWeweaCqmsyedkNiiE']\n",
      "149BxWeweaCqmsyedkNiiE\n",
      "https://api.spotify.com/v1/audio-features?ids=149BxWeweaCqmsyedkNiiE\n",
      "['07MDkzWARZaLEdKxo6yArG']\n",
      "07MDkzWARZaLEdKxo6yArG\n",
      "https://api.spotify.com/v1/audio-features?ids=07MDkzWARZaLEdKxo6yArG\n"
     ]
    },
    {
     "name": "stderr",
     "output_type": "stream",
     "text": [
      " 93%|██████████████████████████████████████████████████████████████████████████▋     | 536/574 [01:35<00:06,  5.93it/s]"
     ]
    },
    {
     "name": "stdout",
     "output_type": "stream",
     "text": [
      "['3DarAbFujv6eYNliUTyqtz']\n",
      "3DarAbFujv6eYNliUTyqtz\n",
      "https://api.spotify.com/v1/audio-features?ids=3DarAbFujv6eYNliUTyqtz\n",
      "['6M3PsepEj5gyJoIi7Xvr7u']\n",
      "6M3PsepEj5gyJoIi7Xvr7u\n",
      "https://api.spotify.com/v1/audio-features?ids=6M3PsepEj5gyJoIi7Xvr7u\n"
     ]
    },
    {
     "name": "stderr",
     "output_type": "stream",
     "text": [
      "\r",
      " 94%|██████████████████████████████████████████████████████████████████████████▊     | 537/574 [01:35<00:06,  5.99it/s]"
     ]
    },
    {
     "name": "stdout",
     "output_type": "stream",
     "text": [
      "['3IM7zXywZ6sRTtkRjRLxJ8']\n",
      "3IM7zXywZ6sRTtkRjRLxJ8\n",
      "https://api.spotify.com/v1/audio-features?ids=3IM7zXywZ6sRTtkRjRLxJ8\n"
     ]
    },
    {
     "name": "stderr",
     "output_type": "stream",
     "text": [
      " 94%|███████████████████████████████████████████████████████████████████████████     | 539/574 [01:36<00:06,  5.51it/s]"
     ]
    },
    {
     "name": "stdout",
     "output_type": "stream",
     "text": [
      "['75MNhvTCCKsST3YqqUiU9r']\n",
      "75MNhvTCCKsST3YqqUiU9r\n",
      "https://api.spotify.com/v1/audio-features?ids=75MNhvTCCKsST3YqqUiU9r\n",
      "['7zjEyeBsaw9gV0jofJLfOM']\n",
      "7zjEyeBsaw9gV0jofJLfOM\n",
      "https://api.spotify.com/v1/audio-features?ids=7zjEyeBsaw9gV0jofJLfOM\n"
     ]
    },
    {
     "name": "stderr",
     "output_type": "stream",
     "text": [
      " 94%|███████████████████████████████████████████████████████████████████████████▍    | 541/574 [01:36<00:06,  5.28it/s]"
     ]
    },
    {
     "name": "stdout",
     "output_type": "stream",
     "text": [
      "['6IPNp9PfaEqrzotY47TIWy']\n",
      "6IPNp9PfaEqrzotY47TIWy\n",
      "https://api.spotify.com/v1/audio-features?ids=6IPNp9PfaEqrzotY47TIWy\n"
     ]
    },
    {
     "name": "stderr",
     "output_type": "stream",
     "text": [
      "\r",
      " 94%|███████████████████████████████████████████████████████████████████████████▌    | 542/574 [01:36<00:06,  5.28it/s]"
     ]
    },
    {
     "name": "stdout",
     "output_type": "stream",
     "text": [
      "['1diS6nkxMQc3wwC4G1j0bh']\n",
      "1diS6nkxMQc3wwC4G1j0bh\n",
      "https://api.spotify.com/v1/audio-features?ids=1diS6nkxMQc3wwC4G1j0bh\n"
     ]
    },
    {
     "name": "stderr",
     "output_type": "stream",
     "text": [
      "\r",
      " 95%|███████████████████████████████████████████████████████████████████████████▋    | 543/574 [01:36<00:05,  5.48it/s]"
     ]
    },
    {
     "name": "stdout",
     "output_type": "stream",
     "text": [
      "['0iVkWge9ytV4Scgy2hQ2za']\n",
      "0iVkWge9ytV4Scgy2hQ2za\n",
      "https://api.spotify.com/v1/audio-features?ids=0iVkWge9ytV4Scgy2hQ2za\n",
      "['4qu63nuBpdn0qHUHuObEj1']\n",
      "4qu63nuBpdn0qHUHuObEj1\n",
      "https://api.spotify.com/v1/audio-features?ids=4qu63nuBpdn0qHUHuObEj1\n"
     ]
    },
    {
     "name": "stderr",
     "output_type": "stream",
     "text": [
      " 95%|███████████████████████████████████████████████████████████████████████████▉    | 545/574 [01:37<00:05,  5.65it/s]"
     ]
    },
    {
     "name": "stdout",
     "output_type": "stream",
     "text": [
      "['6nRSyu4oOed8HgcVxV1cWl']\n",
      "6nRSyu4oOed8HgcVxV1cWl\n",
      "https://api.spotify.com/v1/audio-features?ids=6nRSyu4oOed8HgcVxV1cWl\n"
     ]
    },
    {
     "name": "stderr",
     "output_type": "stream",
     "text": [
      "\r",
      " 95%|████████████████████████████████████████████████████████████████████████████    | 546/574 [01:37<00:05,  5.45it/s]"
     ]
    },
    {
     "name": "stdout",
     "output_type": "stream",
     "text": [
      "['3USxtqRwSYz57Ewm6wWRMp']\n",
      "3USxtqRwSYz57Ewm6wWRMp\n",
      "https://api.spotify.com/v1/audio-features?ids=3USxtqRwSYz57Ewm6wWRMp\n"
     ]
    },
    {
     "name": "stderr",
     "output_type": "stream",
     "text": [
      "\r",
      " 95%|████████████████████████████████████████████████████████████████████████████▏   | 547/574 [01:37<00:04,  5.60it/s]"
     ]
    },
    {
     "name": "stdout",
     "output_type": "stream",
     "text": [
      "['24OeEKPQ8qqNZnPevRHxUT']\n",
      "24OeEKPQ8qqNZnPevRHxUT\n",
      "https://api.spotify.com/v1/audio-features?ids=24OeEKPQ8qqNZnPevRHxUT\n",
      "['2JPLbjOn0wPCngEot2STUS']\n",
      "2JPLbjOn0wPCngEot2STUS\n",
      "https://api.spotify.com/v1/audio-features?ids=2JPLbjOn0wPCngEot2STUS\n"
     ]
    },
    {
     "name": "stderr",
     "output_type": "stream",
     "text": [
      " 96%|████████████████████████████████████████████████████████████████████████████▌   | 549/574 [01:37<00:04,  6.05it/s]"
     ]
    },
    {
     "name": "stdout",
     "output_type": "stream",
     "text": [
      "['0gplL1WMoJ6iYaPgMCL0gX']\n",
      "0gplL1WMoJ6iYaPgMCL0gX\n",
      "https://api.spotify.com/v1/audio-features?ids=0gplL1WMoJ6iYaPgMCL0gX\n",
      "['71qB68guEJjbvtjlkZ8DF5']\n",
      "71qB68guEJjbvtjlkZ8DF5\n",
      "https://api.spotify.com/v1/audio-features?ids=71qB68guEJjbvtjlkZ8DF5\n"
     ]
    },
    {
     "name": "stderr",
     "output_type": "stream",
     "text": [
      " 96%|████████████████████████████████████████████████████████████████████████████▊   | 551/574 [01:38<00:03,  5.92it/s]"
     ]
    },
    {
     "name": "stdout",
     "output_type": "stream",
     "text": [
      "['6Uj1ctrBOjOas8xZXGqKk4']\n",
      "6Uj1ctrBOjOas8xZXGqKk4\n",
      "https://api.spotify.com/v1/audio-features?ids=6Uj1ctrBOjOas8xZXGqKk4\n",
      "['5fwSHlTEWpluwOM0Sxnh5k']\n",
      "5fwSHlTEWpluwOM0Sxnh5k\n",
      "https://api.spotify.com/v1/audio-features?ids=5fwSHlTEWpluwOM0Sxnh5k\n"
     ]
    },
    {
     "name": "stderr",
     "output_type": "stream",
     "text": [
      " 96%|█████████████████████████████████████████████████████████████████████████████   | 553/574 [01:38<00:03,  6.12it/s]"
     ]
    },
    {
     "name": "stdout",
     "output_type": "stream",
     "text": [
      "['1bwhDrXcAtqePp8mNJ0pTe']\n",
      "1bwhDrXcAtqePp8mNJ0pTe\n",
      "https://api.spotify.com/v1/audio-features?ids=1bwhDrXcAtqePp8mNJ0pTe\n",
      "['1Cx3Lpnto8xJ5dsfU3DPus']\n",
      "1Cx3Lpnto8xJ5dsfU3DPus\n",
      "https://api.spotify.com/v1/audio-features?ids=1Cx3Lpnto8xJ5dsfU3DPus\n"
     ]
    },
    {
     "name": "stderr",
     "output_type": "stream",
     "text": [
      " 97%|█████████████████████████████████████████████████████████████████████████████▎  | 555/574 [01:38<00:03,  5.98it/s]"
     ]
    },
    {
     "name": "stdout",
     "output_type": "stream",
     "text": [
      "['3uUuGVFu1V7jTQL60S1r8z']\n",
      "3uUuGVFu1V7jTQL60S1r8z\n",
      "https://api.spotify.com/v1/audio-features?ids=3uUuGVFu1V7jTQL60S1r8z\n",
      "['00Blm7zeNqgYLPtW6zg8cj']\n",
      "00Blm7zeNqgYLPtW6zg8cj\n",
      "https://api.spotify.com/v1/audio-features?ids=00Blm7zeNqgYLPtW6zg8cj\n"
     ]
    },
    {
     "name": "stderr",
     "output_type": "stream",
     "text": [
      " 97%|█████████████████████████████████████████████████████████████████████████████▋  | 557/574 [01:39<00:02,  5.86it/s]"
     ]
    },
    {
     "name": "stdout",
     "output_type": "stream",
     "text": [
      "['6PQ88X9TkUIAUIZJHW2upE']\n",
      "6PQ88X9TkUIAUIZJHW2upE\n",
      "https://api.spotify.com/v1/audio-features?ids=6PQ88X9TkUIAUIZJHW2upE\n",
      "['3eJH2nAjvNXdmPfBkALiPZ']\n",
      "3eJH2nAjvNXdmPfBkALiPZ\n",
      "https://api.spotify.com/v1/audio-features?ids=3eJH2nAjvNXdmPfBkALiPZ\n"
     ]
    },
    {
     "name": "stderr",
     "output_type": "stream",
     "text": [
      " 97%|█████████████████████████████████████████████████████████████████████████████▉  | 559/574 [01:39<00:02,  5.56it/s]"
     ]
    },
    {
     "name": "stdout",
     "output_type": "stream",
     "text": [
      "['0fQfJFfngYfG26560HLMLN']\n",
      "0fQfJFfngYfG26560HLMLN\n",
      "https://api.spotify.com/v1/audio-features?ids=0fQfJFfngYfG26560HLMLN\n",
      "['1SC5rEoYDGUK4NfG82494W']\n",
      "1SC5rEoYDGUK4NfG82494W\n",
      "https://api.spotify.com/v1/audio-features?ids=1SC5rEoYDGUK4NfG82494W\n"
     ]
    },
    {
     "name": "stderr",
     "output_type": "stream",
     "text": [
      " 98%|██████████████████████████████████████████████████████████████████████████████▏ | 561/574 [01:39<00:02,  5.92it/s]"
     ]
    },
    {
     "name": "stdout",
     "output_type": "stream",
     "text": [
      "['3vXnuFnC5RhPGwsFi0ORcI']\n",
      "3vXnuFnC5RhPGwsFi0ORcI\n",
      "https://api.spotify.com/v1/audio-features?ids=3vXnuFnC5RhPGwsFi0ORcI\n",
      "['0z8hI3OPS8ADPWtoCjjLl6']\n",
      "0z8hI3OPS8ADPWtoCjjLl6\n",
      "https://api.spotify.com/v1/audio-features?ids=0z8hI3OPS8ADPWtoCjjLl6\n"
     ]
    },
    {
     "name": "stderr",
     "output_type": "stream",
     "text": [
      " 98%|██████████████████████████████████████████████████████████████████████████████▍ | 563/574 [01:40<00:01,  5.67it/s]"
     ]
    },
    {
     "name": "stdout",
     "output_type": "stream",
     "text": [
      "['5HCyWlXZPP0y6Gqq8TgA20']\n",
      "5HCyWlXZPP0y6Gqq8TgA20\n",
      "https://api.spotify.com/v1/audio-features?ids=5HCyWlXZPP0y6Gqq8TgA20\n"
     ]
    },
    {
     "name": "stderr",
     "output_type": "stream",
     "text": [
      "\r",
      " 98%|██████████████████████████████████████████████████████████████████████████████▌ | 564/574 [01:40<00:01,  5.74it/s]"
     ]
    },
    {
     "name": "stdout",
     "output_type": "stream",
     "text": [
      "['46nvQpUDsxpS08UTFOeKTA']\n",
      "46nvQpUDsxpS08UTFOeKTA\n",
      "https://api.spotify.com/v1/audio-features?ids=46nvQpUDsxpS08UTFOeKTA\n",
      "['2gpWyfu7eZ01zzncHpxOtA']\n",
      "2gpWyfu7eZ01zzncHpxOtA\n",
      "https://api.spotify.com/v1/audio-features?ids=2gpWyfu7eZ01zzncHpxOtA\n"
     ]
    },
    {
     "name": "stderr",
     "output_type": "stream",
     "text": [
      " 99%|██████████████████████████████████████████████████████████████████████████████▉ | 566/574 [01:40<00:01,  5.86it/s]"
     ]
    },
    {
     "name": "stdout",
     "output_type": "stream",
     "text": [
      "['4btFHqumCO31GksfuBLLv3']\n",
      "4btFHqumCO31GksfuBLLv3\n",
      "https://api.spotify.com/v1/audio-features?ids=4btFHqumCO31GksfuBLLv3\n"
     ]
    },
    {
     "name": "stderr",
     "output_type": "stream",
     "text": [
      "\r",
      " 99%|███████████████████████████████████████████████████████████████████████████████ | 567/574 [01:40<00:01,  5.66it/s]"
     ]
    },
    {
     "name": "stdout",
     "output_type": "stream",
     "text": [
      "['1058fW9H3fZA6QjYCdOBad']\n",
      "1058fW9H3fZA6QjYCdOBad\n",
      "https://api.spotify.com/v1/audio-features?ids=1058fW9H3fZA6QjYCdOBad\n"
     ]
    },
    {
     "name": "stderr",
     "output_type": "stream",
     "text": [
      "\r",
      " 99%|███████████████████████████████████████████████████████████████████████████████▏| 568/574 [01:41<00:01,  5.86it/s]"
     ]
    },
    {
     "name": "stdout",
     "output_type": "stream",
     "text": [
      "['18XlJEroUwFo0tLZxscgXE']\n",
      "18XlJEroUwFo0tLZxscgXE\n",
      "https://api.spotify.com/v1/audio-features?ids=18XlJEroUwFo0tLZxscgXE\n",
      "['08SB2OtZkaliju77WYEKxk']\n",
      "08SB2OtZkaliju77WYEKxk\n",
      "https://api.spotify.com/v1/audio-features?ids=08SB2OtZkaliju77WYEKxk\n"
     ]
    },
    {
     "name": "stderr",
     "output_type": "stream",
     "text": [
      " 99%|███████████████████████████████████████████████████████████████████████████████▍| 570/574 [01:41<00:00,  6.02it/s]"
     ]
    },
    {
     "name": "stdout",
     "output_type": "stream",
     "text": [
      "['6I3mqTwhRpn34SLVafSH7G']\n",
      "6I3mqTwhRpn34SLVafSH7G\n",
      "https://api.spotify.com/v1/audio-features?ids=6I3mqTwhRpn34SLVafSH7G\n",
      "['0HLhptvI8NozbOHRLNniFz']\n",
      "0HLhptvI8NozbOHRLNniFz\n",
      "https://api.spotify.com/v1/audio-features?ids=0HLhptvI8NozbOHRLNniFz\n"
     ]
    },
    {
     "name": "stderr",
     "output_type": "stream",
     "text": [
      "100%|███████████████████████████████████████████████████████████████████████████████▋| 572/574 [01:41<00:00,  5.91it/s]"
     ]
    },
    {
     "name": "stdout",
     "output_type": "stream",
     "text": [
      "['0e8nrvls4Qqv5Rfa2UhqmO']\n",
      "0e8nrvls4Qqv5Rfa2UhqmO\n",
      "https://api.spotify.com/v1/audio-features?ids=0e8nrvls4Qqv5Rfa2UhqmO\n",
      "['6RBfz4bNLNzvt37HycN1Xf']\n",
      "6RBfz4bNLNzvt37HycN1Xf\n",
      "https://api.spotify.com/v1/audio-features?ids=6RBfz4bNLNzvt37HycN1Xf\n"
     ]
    },
    {
     "name": "stderr",
     "output_type": "stream",
     "text": [
      "100%|████████████████████████████████████████████████████████████████████████████████| 574/574 [01:42<00:00,  5.62it/s]"
     ]
    },
    {
     "name": "stdout",
     "output_type": "stream",
     "text": [
      "['32BeYxKPrig1LefHsC0Xuo']\n",
      "32BeYxKPrig1LefHsC0Xuo\n",
      "https://api.spotify.com/v1/audio-features?ids=32BeYxKPrig1LefHsC0Xuo\n",
      "['danceability', 'energy', 'key', 'loudness', 'mode', 'speechiness', 'acousticness', 'instrumentalness', 'liveness', 'valence', 'tempo', 'type', 'id', 'uri', 'track_href', 'analysis_url', 'duration_ms', 'time_signature']\n",
      "{'name': ['One Right Now (with The Weeknd)', 'Le classico organisé', 'New Shapes (feat. Christine and the Queens and Caroline Polachek)', 'ESCAPE PLAN', 'Smokin Out The Window', 'Comment Faire', 'No Love (with SZA)', 'N.I', 'The Motto', 'Dadada', 'Wake Me Up', 'Billy Goodbye', \"Let's go to Hell\", 'Rater le coche', 'Your Song Saved My Life - From Sing 2', 'Hold No Grudge - Bonus Track', 'le manège', 'Get Better', 'Famous', 'Bad Life (feat. Kali Uchis)', '0.6', 'the older you get, the less you cry', 'Bonita', 'On Guard (feat. 6lack)', 'Anuel AA: Bzrp Music Sessions, Vol. 46', 'Cracklanders', 'Wegue Wegue', 'Scooter', 'Leo Messi', 'Flowers (Say My Name)', 'Between Us', 'The Antidote', 'Tainted Love', 'Jimi Hendrix', 'Beat 100', 'Glory', 'Arigato', 'Jolie', 'One Day', 'Fall in Love at Christmas', \"L'amour à la sauvette\", 'Explore', 'Car Crash', 'MYOSOTIS', 'Blenda', 'Heavy (feat. Your Smith)', \"Vu d'ici\", 'Pa Pa Power', 'Hollow', 'Late Night', 'Wreck (feat. Big Sean)', '0.9 (feat. Leto)', 'Heavy', 'Les galactiques', 'Prada', 'Na zdrowie', \"Livin' Loud (by glo™) (feat. ILIRA)\", 'NEO', 'Bonbon', 'Queen Of Ice', 'Deja Vu', 'When You Danced With Me', 'This Side of the Sun', 'Get Famous', 'sims', 'Holy Toledo! (from the Original Motion Picture “Mark, Mary & Some Other People”)', \"Another year like that and we'd all be dead\", 'La Clef', 'Ordinaire', 'Television', 'Cosmonaute', 'Crying In The Club', 'Senhorita', 'Panicking', 'Popo', 'Le classico organisé', 'Tu le sais', 'Trucs de choses', 'Best life', 'TDB', 'Pic et pic, alcool et drame', 'Papel', 'RS4', 'Mapess', 'Dose', 'Pololo', 'Jolie', 'Ghenda', 'Tiki Taka', '100 pas', 'La danse des bandits', 'Bonita', 'La beu beu', 'Kodo', 'Zehma', 'Senhorita', 'Elle avait les mots', 'Je veux', 'Briller', 'Mal à la tête', 'Aminata', 'Triste mélodie', 'Ninetta (feat. GLK)', \"C'est ma vie (feat. Jul)\", 'Rio de Janeiro', 'Plan (feat. Franglish, Abou Debeing & Dadju)', 'Fada', 'P2', 'Avengers', 'Pousse toi', 'Jolie madame (feat. Ronisia)', 'Mexico', 'Amoureuse', 'Tourner', 'Bye Bye', 'Afro Trap Part. 11 (King Kong)', 'Sans moi', 'Bébé (feat. Lartiste)', 'Ça va vite', '4.4.2 (feat. La Quica, HMZ, Kliff & Kenem)', 'Bracelet', 'La Seleçao', 'Baby Boy', 'Rider toute la night', 'Shivers - Acoustic Version', 'Peaches - Acoustic', 'Wasted Love (feat. Lagique) - Acoustic', 'Following The Sun - Acoustic', 'My Universe - Acoustic Version', \"Let's Love (feat. Sia) - Acoustic\", 'Love Not War (The Tampa Beat) (Acoustic)', 'Selfish Love (with Selena Gomez) - Acoustic Mix', 'Stay - Spotify Singles', 'Control - Acoustic Guitar Version', 'Bad Habits - Acoustic Version', 'By Your Side (feat. Tom Grennan) - Acoustic', 'Mood - Acoustic', 'beau-papa (acoustique)', 'Breaking Me - Acoustic Version', 'Sweet but Psycho - Acoustic', 'Lonely (with benny blanco) - Acoustic', 'you broke me first - Spotify Singles', 'Fast Car - Acoustic', 'Let’s Go Home Together - Stripped', 'Never Seen The Rain - Alternate Version', 'Shape of You - Acoustic', 'telepatía // acoustic', 'Head & Heart (feat. MNEK) - Acoustic', 'Dancing With A Stranger (With Normani) - Acoustic', 'Deep End - Acoustic', 'Watermelon Sugar - Acoustic', 'You (with Marshmello & Vance Joy) - Acoustic', 'Donne-moi ton cœur - acoustique', 'Our Song - Acoustic', 'Save Your Tears', 'Alien - Acoustic', 'I Leave Again - Acoustic', 'Fallin’ (Adrenaline) - Acoustic', 'Girls Like Us - Piano Version', 'drivers license - Acoustic', 'Head Shoulders Knees & Toes (feat. Norma Jean Martine) - Acoustic', \"Don't Call Me Up - Acoustic\", 'Intentions - Acoustic', 'death bed (coffee for your head) - Acoustic Mix', 'Last Hurrah - Acoustic', \"I Don't Care - Acoustic\", 'Castles - Acoustic', 'Savage Love - Acoustic Cover', 'Before You Go - Guitar Acoustic', 'Beautiful Scars (Maximillian x Moira Dela Torre) - Acoustic', 'Be Honest (feat. Burna Boy) (acoustic)', 'Evidemment - Version Acoustique', 'Power Over Me - Acoustic', 'Dance Monkey', 'Un peu plus souvent', 'Les jolies choses', 'Médicament', '+ La vie', 'SÉMANTIQUE', 'Peur des filles', 'ophelie', 'Meguro', 'Dans mes rêves', 'Les bonnes manières', 'Avec toi', \"What A Life (j'fais ma life) [feat. Suzane]\", \"Pas d'ici\", 'Mauvaises habitudes', 'Nos regards', 'Shining Light', 'Paris en août', 'La Cigarette', 'Noir - Radio Edit', 'Tata', 'Mauvaise Idée', 'Insomnie', 'En Douce', 'Toi & moi - Edit', 'Space Trip', 'La vie de tous les jours', 'Suzanne', 'Disco Dream', 'Orange Mountains', 'Nouveau Genre', \"La vague aux cheveux d'or\", 'By the Beach', 'CAMISOLE', 'Cour Des Miracles', 'La carioca', 'Bloqué', 'Gens de la nuit', 'United', 'You Want My Money', 'Ilya', 'Half Somewhere', 'Virus X - SAGE Rework - radio edit', 'Should I Call U Baby', 'Get to Me', 'Revu - Edit', 'Honey', '200 Lovesongs', 'It Might Be Something', \"Only One Man (with Melody's Echo Chamber)\", 'Tender Sofa', \"I'm So Excited\", 'Can You Feel It - 7\" Version', 'Sweet Dreams (Are Made of This) - Remastered', \"I'm Still Standing\", 'Girls Just Want to Have Fun', 'Take on Me', 'Footloose - From \"Footloose\" Soundtrack', 'Beat It', 'Video Killed The Radio Star', 'Maneater', \"It's Raining Men\", 'Jeopardy', 'Maniac', 'Flashdance...What a Feeling - Radio Edit', 'Down Under', 'Wake Me Up Before You Go-Go', 'Tainted Love', 'She Works Hard For The Money', 'Eye of the Tiger', 'She Drives Me Crazy', 'Holiday', 'Tarzan Boy', \"Somebody's Watching Me - Single Version\", 'Talking In Your Sleep', \"Just Can't Get Enough - 2006 Digital Remaster\", 'Upside Down', \"Let's Dance - 1999 Remaster\", 'Easy Lover', 'Blue Monday - 2016 Remaster', '99 Luftballons', 'Uptown Girl', 'How Will I Know', 'Need You Tonight', 'Teardrops', 'Dr. Beat', 'The Power Of Love', \"Let's Groove\", 'Jump (For My Love) - Single Remix', 'Ghostbusters', 'Boys - Summertime Love', 'Pump Up The Jam', 'Another One Bites The Dust - Remastered 2011', 'Jump - 2004 Remaster', 'Venus', 'Never Gonna Give You Up', 'Walk This Way', 'Physical', 'Fame', 'Pump Up The Volume (7\")', 'Push It', 'Tu le sais', 'INDUSTRY BABY (feat. Jack Harlow)', 'TDB', 'Daddy chocolat', 'Trucs de choses', 'Girls Want Girls (with Lil Baby)', 'Gasolina (feat. Ninho)', 'Best life', 'Dans le Réseau', 'Woman', 'Pic et pic, alcool et drame', 'Pololo', 'Ça canarde', 'REPEAT IT (with Gunna)', 'Manège', 'Fixette', 'Afro Trap Part. 11 (King Kong)', 'MONEY', 'ONGBAK 2', 'Mapessa (feat. Tiakola)', 'Elle veut', 'Motley Crew', 'Papel', 'La danse des bandits', 'Mon poto - Extrait de la BO de « En Passant Pécho »', 'Flocky Flocky (feat. Travis Scott)', 'HAINE&SEX', 'La Seleçao', 'THATS WHAT I WANT', 'Tiki Taka', 'Mode Akimbo (feat. Jul)', 'Obsessed With You', 'De bon matin', 'La kiffance', 'Champion', '2055', 'Le billet', 'Mon soleil', 'Fuego', 'MONTERO (Call Me By Your Name)', 'This World Today Is A Mess', 'Your Song', 'Think', \"You're The First, The Last, My Everything - Single Version\", 'Think', 'Wot', 'Killing Me Softly With His Song', \"Ain't No Sunshine\", 'Sunny', 'Just an Illusion', 'Ai No Corrida', 'Saddle Up', 'Fantasy - Single Version', 'Daddy Cool', 'Night Fever - From \"Saturday Night Fever\" Soundtrack', 'Music and Lights', \"Let 'Em In\", 'Ma quale idea', 'You Can Do It', 'Hot Stuff', 'Yes Sir, I Can Boogie', 'Boogie Wonderland', \"Reach Out I'll Be There - Single Version / Mono\", 'Straight Ahead', 'Upside Down', 'Give Me the Night - Edit', \"Don't Leave Me This Way (feat. Teddy Pendergrass)\", 'Roof Garden', 'Stayin\\' Alive - From \"Saturday Night Fever\" Soundtrack', \"Livin' It Up\", 'On Broadway - Edit', 'Georgy Porgy (feat. Cheryl Lynn) - Disco Version', \"Love's Theme\", 'I Heard It Through The Grapevine', \"Don't Leave Me This Way\", 'Rock Your Baby', 'Nothing From Nothing', \"Mornin'\", 'Street Life - Single Edit', 'Need Your Love', \"I'm So Excited\", \"Darlin' (I Think About You)\", 'Theme From \"Shaft\"', \"Ain't No Mountain High Enough\", 'Respect', 'Why Did You Do It - Remastered', 'Body Talk', 'In the Stone', \"What's Going On\", 'Superstition - Single Version', 'Le Freak - 2018 Remaster', 'Baby Love', 'You Sexy Thing', 'Easy', 'Gonna Get Along Without You Now', 'Chain Reaction', \"Isn't She Lovely\", 'Gimme The Funk', 'Disco Inferno - Single Edit', 'Good Times - 2018 Remaster', 'The Less I Know The Better', 'The Look', 'Breezeblocks', 'Intro', 'Apocalypse', 'Pumped Up Kicks', 'That Look You Give That Guy', 'What You Know', 'Paper Planes', 'Stolen Dance', 'Midnight City', 'Feel Good Inc.', 'Glory Box', 'Disparate Youth', 'Two Weeks', 'Walking On A Dream', 'Time to Pretend', 'This Head I Hold', 'America', 'Home', 'Young Folks', 'Wasting My Young Years', '1901', 'Feel It Still', 'Little Numbers', 'Nantes', 'Skinny Love', 'Take Me To Church', 'How Deep Is Your Love?', 'Sweet Disposition', 'Big Jet Plane', 'The Suburbs', 'Video Games - Remastered', 'West Coast', \"You've Got The Love\", '1517', 'Love Is Mystical', 'Retrograde', \"Busy Earnin'\", 'My Number', 'Knives Out', 'Cherry Blossom Girl', \"New York, I Love You but You're Bringing Me Down\", 'Country House - 2012 Remaster', 'Loud Places', 'Low Rising', 'Heaven', 'Rawnald Gregory Erickson the Second', 'Pa Pa Power', 'Common People', 'Pepas', \"Ain't Nobody (Loves Me Better) (feat. Jasmine Thompson)\", 'Cold Heart - PNAU Remix', 'Shotgun', 'Little Bit of Love', 'Ride', 'Hurricane', 'Stereo Hearts (feat. Adam Levine)', 'love nwantiti (feat. Franglish) - French Remix', 'Baianá', 'THATS WHAT I WANT', 'GIRL LIKE ME', 'STAY (with Justin Bieber)', 'Got 2 Luv U - feat. Alexis Jordan', 'Love Tonight - Robin Schulz Remix', \"Don't Wait Up\", 'Devil in Me (feat. Joe Killington & Duane Harden)', \"Don't Go Yet\", 'Bad Habits', 'Fade Out Lines - The Avener Rework', 'SG (with Ozuna, Megan Thee Stallion & LISA of BLACKPINK)', \"Don't Call Me Up\", '1+1 (feat. Amir) - Banx & Ranx Remix', 'Sugar (feat. Francesco Yates)', 'Where Are You Now', 'Lean On (feat. MØ & DJ Snake)', 'Take My Breath', 'Hundred Miles', 'Never Going Home', 'Promiscuous', 'Ride With Me (feat. Kid Ink)', 'Bruxelles je t’aime', \"Giant (with Rag'n'Bone Man)\", 'Shivers', 'Good Time', 'Summer Thing', 'Mi Gente', 'Woman', 'Wake Me Up', 'EveryTime I Cry', 'Payphone', 'good 4 u', \"I Don't Like It, I Love It (feat. Robin Thicke & Verdine White)\", 'Dopamine (feat. Eyelar)', 'Umbrella', 'Vacation', 'Cheerleader - Felix Jaehn Remix Radio Edit', 'OUT OUT (feat. Charli XCX & Saweetie)', 'Five More Hours', 'Santé', 'Si tu tombes', \"Y'a du soleil\", 'Mamma', 'Je viens du Sud', \"À la santé des gens que j'aime\", 'La rivière de notre enfance', 'BELLE', 'Tu ne seras jamais là', 'Puisque tu pars', 'Je te donne', \"L'instinct\", 'Si la vie demande ça - Version masterisée 2021', 'Imagine', 'Le pouvoir des fleurs 2020', \"Je m'voyais déjà (en duo avec Patrick Bruel)\", 'Les jours heureux', 'Centre ville', 'Maintenant - Version radio', \"On s'aimera toujours\", \"À l'aube revenant - Edit single\", 'Brésil, Finistère', 'Aimer', 'Le marin (avec Pierre Souchon et Ours)', 'Ta place dans ce monde', \"On lâche pas l'affaire\", 'Le cœur du monde', 'Sache que je', 'Dis-Lui', 'On se love', 'Une seconde (ou la vie entière)', \"Là où je t'emmènerai\", 'Le temps - Bonus', 'Nouveau monde', 'Ces ombres', 'La belle histoire', 'Double papa', 'Le souhait de Carmen', 'Comment tu vas ?', 'Un petit peu d’amour', 'Ma route', 'Où me tourner', 'Les plages de Dunkerque', 'La 5ème saison', 'Changer', \"Comme si c'était hier - versione estiva\", 'France et Jojo', \"À l'amour\", 'Les vents contraires', 'Virus X - SAGE Rework - radio edit', 'Pensez à moi, parfois', 'My Universe', 'Love Tonight - Robin Schulz Remix', \"Don't Wait Up\", 'Toxic', 'Because You Move Me', 'traitor', 'love nwantiti (ah ah ah)', 'Cold Heart - PNAU Remix', 'Bruxelles je t’aime', 'Wrecked', 'Meet Me At Our Spot', 'Kiss Me More (feat. SZA)', 'Take My Breath', 'La terre est ronde', 'Shivers', 'Livin It Up (with Post Malone & A$AP Rocky)', 'SG (with Ozuna, Megan Thee Stallion & LISA of BLACKPINK)', \"We're Good\", 'Hurricane', 'Leave Before You Love Me (with Jonas Brothers)', 'Blesse-moi', 'Heat Waves', 'Red Eye (feat. TroyBoi)', 'Yonaguni', 'Easy On Me', 'Undeniable (feat. X Ambassadors)', 'Woman', 'Pepas', 'La kiffance', 'The Feeling', 'Where Are You Now', 'One Right Now (with The Weeknd)', 'Bad Habits', 'Acapulco', 'Dynamite', 'MONTERO (Call Me By Your Name)', 'Santé', 'Summer of Love (Shawn Mendes & Tainy)', 'STAY (with Justin Bieber)', 'Tell It To My Heart', 'Moth To A Flame (with The Weeknd)', 'Overpass Graffiti', \"Don't Go Yet\", 'Lost', 'No Love (with SZA)', 'Ghost', 'Family (feat. Bebe Rexha, Ty Dolla $ign & A Boogie Wit da Hoodie)', 'THATS WHAT I WANT', 'Present', 'Happier Than Ever - Edit'], 'playlist': ['New Music Friday France', 'New Music Friday France', 'New Music Friday France', 'New Music Friday France', 'New Music Friday France', 'New Music Friday France', 'New Music Friday France', 'New Music Friday France', 'New Music Friday France', 'New Music Friday France', 'New Music Friday France', 'New Music Friday France', 'New Music Friday France', 'New Music Friday France', 'New Music Friday France', 'New Music Friday France', 'New Music Friday France', 'New Music Friday France', 'New Music Friday France', 'New Music Friday France', 'New Music Friday France', 'New Music Friday France', 'New Music Friday France', 'New Music Friday France', 'New Music Friday France', 'New Music Friday France', 'New Music Friday France', 'New Music Friday France', 'New Music Friday France', 'New Music Friday France', 'New Music Friday France', 'New Music Friday France', 'New Music Friday France', 'New Music Friday France', 'New Music Friday France', 'New Music Friday France', 'New Music Friday France', 'New Music Friday France', 'New Music Friday France', 'New Music Friday France', 'New Music Friday France', 'New Music Friday France', 'New Music Friday France', 'New Music Friday France', 'New Music Friday France', 'New Music Friday France', 'New Music Friday France', 'New Music Friday France', 'New Music Friday France', 'New Music Friday France', 'New Music Friday France', 'New Music Friday France', 'New Music Friday France', 'New Music Friday France', 'New Music Friday France', 'New Music Friday France', 'New Music Friday France', 'New Music Friday France', 'New Music Friday France', 'New Music Friday France', 'New Music Friday France', 'New Music Friday France', 'New Music Friday France', 'New Music Friday France', 'New Music Friday France', 'New Music Friday France', 'New Music Friday France', 'New Music Friday France', 'New Music Friday France', 'New Music Friday France', 'New Music Friday France', 'New Music Friday France', 'New Music Friday France', 'New Music Friday France', 'New Music Friday France', 'Pop Urbaine', 'Pop Urbaine', 'Pop Urbaine', 'Pop Urbaine', 'Pop Urbaine', 'Pop Urbaine', 'Pop Urbaine', 'Pop Urbaine', 'Pop Urbaine', 'Pop Urbaine', 'Pop Urbaine', 'Pop Urbaine', 'Pop Urbaine', 'Pop Urbaine', 'Pop Urbaine', 'Pop Urbaine', 'Pop Urbaine', 'Pop Urbaine', 'Pop Urbaine', 'Pop Urbaine', 'Pop Urbaine', 'Pop Urbaine', 'Pop Urbaine', 'Pop Urbaine', 'Pop Urbaine', 'Pop Urbaine', 'Pop Urbaine', 'Pop Urbaine', 'Pop Urbaine', 'Pop Urbaine', 'Pop Urbaine', 'Pop Urbaine', 'Pop Urbaine', 'Pop Urbaine', 'Pop Urbaine', 'Pop Urbaine', 'Pop Urbaine', 'Pop Urbaine', 'Pop Urbaine', 'Pop Urbaine', 'Pop Urbaine', 'Pop Urbaine', 'Pop Urbaine', 'Pop Urbaine', 'Pop Urbaine', 'Pop Urbaine', 'Pop Urbaine', 'Pop Urbaine', 'Pop Urbaine', 'Hit Acoustique', 'Hit Acoustique', 'Hit Acoustique', 'Hit Acoustique', 'Hit Acoustique', 'Hit Acoustique', 'Hit Acoustique', 'Hit Acoustique', 'Hit Acoustique', 'Hit Acoustique', 'Hit Acoustique', 'Hit Acoustique', 'Hit Acoustique', 'Hit Acoustique', 'Hit Acoustique', 'Hit Acoustique', 'Hit Acoustique', 'Hit Acoustique', 'Hit Acoustique', 'Hit Acoustique', 'Hit Acoustique', 'Hit Acoustique', 'Hit Acoustique', 'Hit Acoustique', 'Hit Acoustique', 'Hit Acoustique', 'Hit Acoustique', 'Hit Acoustique', 'Hit Acoustique', 'Hit Acoustique', 'Hit Acoustique', 'Hit Acoustique', 'Hit Acoustique', 'Hit Acoustique', 'Hit Acoustique', 'Hit Acoustique', 'Hit Acoustique', 'Hit Acoustique', 'Hit Acoustique', 'Hit Acoustique', 'Hit Acoustique', 'Hit Acoustique', 'Hit Acoustique', 'Hit Acoustique', 'Hit Acoustique', 'Hit Acoustique', 'Hit Acoustique', 'Hit Acoustique', 'Hit Acoustique', 'Hit Acoustique', 'Made in France', 'Made in France', 'Made in France', 'Made in France', 'Made in France', 'Made in France', 'Made in France', 'Made in France', 'Made in France', 'Made in France', 'Made in France', 'Made in France', 'Made in France', 'Made in France', 'Made in France', 'Made in France', 'Made in France', 'Made in France', 'Made in France', 'Made in France', 'Made in France', 'Made in France', 'Made in France', 'Made in France', 'Made in France', 'Made in France', 'Made in France', 'Made in France', 'Made in France', 'Made in France', 'Made in France', 'Made in France', 'Made in France', 'Made in France', 'Made in France', 'Made in France', 'Made in France', 'Made in France', 'Made in France', 'Made in France', 'Made in France', 'Made in France', 'Made in France', 'Made in France', 'Made in France', 'Made in France', 'Made in France', 'Made in France', 'Made in France', 'Made in France', 'Gym Tonic', 'Gym Tonic', 'Gym Tonic', 'Gym Tonic', 'Gym Tonic', 'Gym Tonic', 'Gym Tonic', 'Gym Tonic', 'Gym Tonic', 'Gym Tonic', 'Gym Tonic', 'Gym Tonic', 'Gym Tonic', 'Gym Tonic', 'Gym Tonic', 'Gym Tonic', 'Gym Tonic', 'Gym Tonic', 'Gym Tonic', 'Gym Tonic', 'Gym Tonic', 'Gym Tonic', 'Gym Tonic', 'Gym Tonic', 'Gym Tonic', 'Gym Tonic', 'Gym Tonic', 'Gym Tonic', 'Gym Tonic', 'Gym Tonic', 'Gym Tonic', 'Gym Tonic', 'Gym Tonic', 'Gym Tonic', 'Gym Tonic', 'Gym Tonic', 'Gym Tonic', 'Gym Tonic', 'Gym Tonic', 'Gym Tonic', 'Gym Tonic', 'Gym Tonic', 'Gym Tonic', 'Gym Tonic', 'Gym Tonic', 'Gym Tonic', 'Gym Tonic', 'Gym Tonic', 'Gym Tonic', 'Gym Tonic', 'Validé', 'Validé', 'Validé', 'Validé', 'Validé', 'Validé', 'Validé', 'Validé', 'Validé', 'Validé', 'Validé', 'Validé', 'Validé', 'Validé', 'Validé', 'Validé', 'Validé', 'Validé', 'Validé', 'Validé', 'Validé', 'Validé', 'Validé', 'Validé', 'Validé', 'Validé', 'Validé', 'Validé', 'Validé', 'Validé', 'Validé', 'Validé', 'Validé', 'Validé', 'Validé', 'Validé', 'Validé', 'Validé', 'Validé', 'Validé', 'Flashback', 'Flashback', 'Flashback', 'Flashback', 'Flashback', 'Flashback', 'Flashback', 'Flashback', 'Flashback', 'Flashback', 'Flashback', 'Flashback', 'Flashback', 'Flashback', 'Flashback', 'Flashback', 'Flashback', 'Flashback', 'Flashback', 'Flashback', 'Flashback', 'Flashback', 'Flashback', 'Flashback', 'Flashback', 'Flashback', 'Flashback', 'Flashback', 'Flashback', 'Flashback', 'Flashback', 'Flashback', 'Flashback', 'Flashback', 'Flashback', 'Flashback', 'Flashback', 'Flashback', 'Flashback', 'Flashback', 'Flashback', 'Flashback', 'Flashback', 'Flashback', 'Flashback', 'Flashback', 'Flashback', 'Flashback', 'Flashback', 'Flashback', 'Flashback', 'Flashback', 'Flashback', 'Flashback', 'Flashback', 'Flashback', 'Flashback', 'Flashback', 'Flashback', 'Flashback', 'indémodable', 'indémodable', 'indémodable', 'indémodable', 'indémodable', 'indémodable', 'indémodable', 'indémodable', 'indémodable', 'indémodable', 'indémodable', 'indémodable', 'indémodable', 'indémodable', 'indémodable', 'indémodable', 'indémodable', 'indémodable', 'indémodable', 'indémodable', 'indémodable', 'indémodable', 'indémodable', 'indémodable', 'indémodable', 'indémodable', 'indémodable', 'indémodable', 'indémodable', 'indémodable', 'indémodable', 'indémodable', 'indémodable', 'indémodable', 'indémodable', 'indémodable', 'indémodable', 'indémodable', 'indémodable', 'indémodable', 'indémodable', 'indémodable', 'indémodable', 'indémodable', 'indémodable', 'indémodable', 'indémodable', 'indémodable', 'indémodable', 'indémodable', 'Garde la pêche !', 'Garde la pêche !', 'Garde la pêche !', 'Garde la pêche !', 'Garde la pêche !', 'Garde la pêche !', 'Garde la pêche !', 'Garde la pêche !', 'Garde la pêche !', 'Garde la pêche !', 'Garde la pêche !', 'Garde la pêche !', 'Garde la pêche !', 'Garde la pêche !', 'Garde la pêche !', 'Garde la pêche !', 'Garde la pêche !', 'Garde la pêche !', 'Garde la pêche !', 'Garde la pêche !', 'Garde la pêche !', 'Garde la pêche !', 'Garde la pêche !', 'Garde la pêche !', 'Garde la pêche !', 'Garde la pêche !', 'Garde la pêche !', 'Garde la pêche !', 'Garde la pêche !', 'Garde la pêche !', 'Garde la pêche !', 'Garde la pêche !', 'Garde la pêche !', 'Garde la pêche !', 'Garde la pêche !', 'Garde la pêche !', 'Garde la pêche !', 'Garde la pêche !', 'Garde la pêche !', 'Garde la pêche !', 'Garde la pêche !', 'Garde la pêche !', 'Garde la pêche !', 'Garde la pêche !', 'Garde la pêche !', 'Garde la pêche !', 'Garde la pêche !', 'Garde la pêche !', 'Garde la pêche !', 'Garde la pêche !', \"Variété d'Aujourd'hui\", \"Variété d'Aujourd'hui\", \"Variété d'Aujourd'hui\", \"Variété d'Aujourd'hui\", \"Variété d'Aujourd'hui\", \"Variété d'Aujourd'hui\", \"Variété d'Aujourd'hui\", \"Variété d'Aujourd'hui\", \"Variété d'Aujourd'hui\", \"Variété d'Aujourd'hui\", \"Variété d'Aujourd'hui\", \"Variété d'Aujourd'hui\", \"Variété d'Aujourd'hui\", \"Variété d'Aujourd'hui\", \"Variété d'Aujourd'hui\", \"Variété d'Aujourd'hui\", \"Variété d'Aujourd'hui\", \"Variété d'Aujourd'hui\", \"Variété d'Aujourd'hui\", \"Variété d'Aujourd'hui\", \"Variété d'Aujourd'hui\", \"Variété d'Aujourd'hui\", \"Variété d'Aujourd'hui\", \"Variété d'Aujourd'hui\", \"Variété d'Aujourd'hui\", \"Variété d'Aujourd'hui\", \"Variété d'Aujourd'hui\", \"Variété d'Aujourd'hui\", \"Variété d'Aujourd'hui\", \"Variété d'Aujourd'hui\", \"Variété d'Aujourd'hui\", \"Variété d'Aujourd'hui\", \"Variété d'Aujourd'hui\", \"Variété d'Aujourd'hui\", \"Variété d'Aujourd'hui\", \"Variété d'Aujourd'hui\", \"Variété d'Aujourd'hui\", \"Variété d'Aujourd'hui\", \"Variété d'Aujourd'hui\", \"Variété d'Aujourd'hui\", \"Variété d'Aujourd'hui\", \"Variété d'Aujourd'hui\", \"Variété d'Aujourd'hui\", \"Variété d'Aujourd'hui\", \"Variété d'Aujourd'hui\", \"Variété d'Aujourd'hui\", \"Variété d'Aujourd'hui\", \"Variété d'Aujourd'hui\", \"Variété d'Aujourd'hui\", \"Variété d'Aujourd'hui\", 'Trajet en musique', 'Trajet en musique', 'Trajet en musique', 'Trajet en musique', 'Trajet en musique', 'Trajet en musique', 'Trajet en musique', 'Trajet en musique', 'Trajet en musique', 'Trajet en musique', 'Trajet en musique', 'Trajet en musique', 'Trajet en musique', 'Trajet en musique', 'Trajet en musique', 'Trajet en musique', 'Trajet en musique', 'Trajet en musique', 'Trajet en musique', 'Trajet en musique', 'Trajet en musique', 'Trajet en musique', 'Trajet en musique', 'Trajet en musique', 'Trajet en musique', 'Trajet en musique', 'Trajet en musique', 'Trajet en musique', 'Trajet en musique', 'Trajet en musique', 'Trajet en musique', 'Trajet en musique', 'Trajet en musique', 'Trajet en musique', 'Trajet en musique', 'Trajet en musique', 'Trajet en musique', 'Trajet en musique', 'Trajet en musique', 'Trajet en musique', 'Trajet en musique', 'Trajet en musique', 'Trajet en musique', 'Trajet en musique', 'Trajet en musique', 'Trajet en musique', 'Trajet en musique', 'Trajet en musique', 'Trajet en musique', 'Trajet en musique'], 'danceability': [0.687, 0.828, 0.735, 0.839, 0.627, 0.543, 0.707, 0.763, 0.754, 0.752, 0.65, 0.613, 0.782, 0.868, 0.38, 0.661, 0.418, 0.592, 0.659, 0.565, 0.653, 0.547, 0.634, 0.386, 0.405, 0.637, 0.874, 0.864, 0.909, 0.723, 0.505, 0.473, 0.843, 0.486, 0.794, 0.609, 0.353, 0.665, 0.782, 0.566, 0.271, 0.623, 0.516, 0.622, 0.76, 0.708, 0.427, 0.672, 0.68, 0.75, 0.889, 0.78, 0.454, 0.847, 0.619, 0.745, 0.829, 0.981, 0.848, 0.256, 0.373, 0.477, 0.558, 0.755, 0.672, 0.253, 0.522, 0.63, 0.478, 0.421, 0.684, 0.606, 0.749, 0.772, 0.817, 0.828, 0.731, 0.54, 0.919, 0.882, 0.898, 0.798, 0.862, 0.925, 0.787, 0.756, 0.665, 0.703, 0.828, 0.681, 0.83, 0.634, 0.768, 0.808, 0.781, 0.749, 0.659, 0.942, 0.762, 0.853, 0.858, 0.707, 0.778, 0.788, 0.874, 0.593, 0.803, 0.774, 0.866, 0.871, 0.754, 0.903, 0.769, 0.815, 0.748, 0.92, 0.709, 0.95, 0.881, 0.849, 0.832, 0.825, 0.718, 0.719, 0.734, 0.682, 0.4, 0.717, 0.501, 0.516, 0.391, 0.658, 0.533, 0.63, 0.807, 0.804, 0.742, 0.645, 0.717, 0.817, 0.365, 0.548, 0.475, 0.649, 0.495, 0.843, 0.495, 0.329, 0.623, 0.445, 0.428, 0.579, 0.623, 0.546, 0.735, 0.826, 0.596, 0.518, 0.661, 0.515, 0.481, 0.52, 0.711, 0.725, 0.627, 0.706, 0.583, 0.661, 0.477, 0.785, 0.689, 0.541, 0.609, 0.541, 0.86, 0.667, 0.718, 0.816, 0.651, 0.915, 0.752, 0.75, 0.558, 0.762, 0.723, 0.725, 0.677, 0.792, 0.707, 0.662, 0.709, 0.617, 0.848, 0.854, 0.468, 0.803, 0.615, 0.741, 0.617, 0.884, 0.48, 0.703, 0.411, 0.875, 0.738, 0.734, 0.392, 0.698, 0.651, 0.857, 0.761, 0.615, 0.837, 0.758, 0.675, 0.706, 0.608, 0.76, 0.623, 0.511, 0.596, 0.668, 0.742, 0.546, 0.59, 0.843, 0.692, 0.504, 0.71, 0.526, 0.583, 0.779, 0.68, 0.727, 0.69, 0.851, 0.617, 0.572, 0.738, 0.618, 0.5, 0.758, 0.817, 0.799, 0.854, 0.684, 0.767, 0.72, 0.764, 0.887, 0.619, 0.749, 0.793, 0.466, 0.701, 0.832, 0.793, 0.872, 0.891, 0.768, 0.869, 0.854, 0.788, 0.835, 0.885, 0.933, 0.553, 0.722, 0.721, 0.767, 0.834, 0.701, 0.751, 0.913, 0.731, 0.736, 0.882, 0.721, 0.54, 0.767, 0.631, 0.919, 0.868, 0.824, 0.898, 0.773, 0.757, 0.681, 0.889, 0.866, 0.92, 0.831, 0.87, 0.62, 0.669, 0.797, 0.798, 0.83, 0.743, 0.8, 0.774, 0.825, 0.737, 0.828, 0.875, 0.769, 0.774, 0.806, 0.556, 0.829, 0.97, 0.656, 0.759, 0.61, 0.668, 0.497, 0.653, 0.629, 0.687, 0.829, 0.476, 0.527, 0.647, 0.752, 0.798, 0.931, 0.666, 0.763, 0.733, 0.775, 0.673, 0.868, 0.936, 0.823, 0.468, 0.802, 0.621, 0.707, 0.887, 0.867, 0.472, 0.749, 0.699, 0.62, 0.772, 0.779, 0.496, 0.724, 0.553, 0.594, 0.808, 0.58, 0.505, 0.713, 0.59, 0.724, 0.485, 0.663, 0.805, 0.748, 0.753, 0.656, 0.265, 0.642, 0.91, 0.595, 0.791, 0.589, 0.64, 0.794, 0.481, 0.817, 0.766, 0.869, 0.64, 0.638, 0.569, 0.617, 0.37, 0.733, 0.777, 0.549, 0.447, 0.885, 0.507, 0.818, 0.51, 0.642, 0.537, 0.87, 0.438, 0.663, 0.447, 0.542, 0.699, 0.546, 0.607, 0.801, 0.541, 0.541, 0.592, 0.566, 0.472, 0.531, 0.762, 0.616, 0.236, 0.532, 0.574, 0.784, 0.567, 0.477, 0.457, 0.639, 0.433, 0.436, 0.39, 0.331, 0.646, 0.519, 0.368, 0.9, 0.654, 0.314, 0.762, 0.778, 0.796, 0.673, 0.689, 0.645, 0.56, 0.646, 0.607, 0.587, 0.737, 0.964, 0.591, 0.605, 0.52, 0.916, 0.808, 0.666, 0.808, 0.876, 0.8, 0.674, 0.77, 0.636, 0.671, 0.723, 0.748, 0.479, 0.836, 0.808, 0.623, 0.74, 0.807, 0.788, 0.56, 0.768, 0.548, 0.824, 0.532, 0.727, 0.743, 0.563, 0.854, 0.689, 0.583, 0.736, 0.782, 0.787, 0.699, 0.641, 0.545, 0.882, 0.469, 0.436, 0.367, 0.541, 0.503, 0.635, 0.582, 0.633, 0.541, 0.72, 0.533, 0.69, 0.726, 0.411, 0.491, 0.722, 0.564, 0.629, 0.61, 0.732, 0.572, 0.633, 0.772, 0.711, 0.527, 0.642, 0.663, 0.612, 0.553, 0.413, 0.594, 0.362, 0.698, 0.663, 0.369, 0.495, 0.683, 0.368, 0.638, 0.376, 0.71, 0.622, 0.649, 0.491, 0.88, 0.643, 0.706, 0.824, 0.588, 0.52, 0.916, 0.594, 0.789, 0.38, 0.727, 0.795, 0.74, 0.625, 0.773, 0.764, 0.747, 0.634, 0.788, 0.767, 0.8, 0.722, 0.56, 0.721, 0.637, 0.761, 0.815, 0.644, 0.604, 0.684, 0.824, 0.762, 0.805, 0.683, 0.671, 0.687, 0.808, 0.774, 0.624, 0.593, 0.641, 0.776, 0.591, 0.539, 0.542, 0.52, 0.666, 0.766, 0.707, 0.601, 0.687, 0.737, 0.684, 0.334], 'energy': [0.781, 0.878, 0.74, 0.506, 0.618, 0.255, 0.618, 0.762, 0.763, 0.517, 0.94, 0.905, 0.798, 0.714, 0.637, 0.336, 0.289, 0.116, 0.819, 0.25, 0.592, 0.703, 0.641, 0.331, 0.837, 0.678, 0.854, 0.478, 0.493, 0.713, 0.728, 0.921, 0.335, 0.473, 0.495, 0.809, 0.647, 0.625, 0.862, 0.652, 0.34, 0.577, 0.807, 0.682, 0.859, 0.72, 0.366, 0.468, 0.606, 0.674, 0.594, 0.694, 0.354, 0.809, 0.712, 0.759, 0.848, 0.338, 0.721, 0.523, 0.722, 0.687, 0.919, 0.731, 0.685, 0.863, 0.304, 0.567, 0.493, 0.107, 0.569, 0.551, 0.825, 0.543, 0.604, 0.878, 0.59, 0.577, 0.779, 0.675, 0.738, 0.768, 0.794, 0.716, 0.641, 0.854, 0.625, 0.839, 0.68, 0.71, 0.676, 0.641, 0.863, 0.608, 0.631, 0.825, 0.639, 0.799, 0.771, 0.773, 0.827, 0.695, 0.808, 0.819, 0.873, 0.831, 0.751, 0.797, 0.804, 0.528, 0.563, 0.653, 0.749, 0.615, 0.653, 0.864, 0.645, 0.699, 0.794, 0.879, 0.649, 0.878, 0.762, 0.691, 0.412, 0.244, 0.32, 0.506, 0.54, 0.359, 0.51, 0.36, 0.505, 0.337, 0.237, 0.657, 0.291, 0.378, 0.513, 0.45, 0.117, 0.306, 0.237, 0.441, 0.33, 0.4, 0.374, 0.392, 0.276, 0.418, 0.122, 0.299, 0.211, 0.475, 0.275, 0.359, 0.245, 0.381, 0.274, 0.259, 0.392, 0.425, 0.411, 0.36, 0.378, 0.349, 0.276, 0.278, 0.445, 0.317, 0.264, 0.297, 0.489, 0.192, 0.676, 0.734, 0.526, 0.554, 0.695, 0.408, 0.48, 0.709, 0.568, 0.471, 0.718, 0.564, 0.723, 0.586, 0.459, 0.422, 0.554, 0.558, 0.496, 0.789, 0.787, 0.549, 0.524, 0.683, 0.607, 0.392, 0.202, 0.687, 0.528, 0.558, 0.533, 0.706, 0.474, 0.476, 0.619, 0.546, 0.619, 0.923, 0.738, 0.685, 0.525, 0.766, 0.654, 0.6, 0.667, 0.0258, 0.76, 0.606, 0.765, 0.501, 0.868, 0.702, 0.711, 0.904, 0.799, 0.931, 0.905, 0.867, 0.678, 0.685, 0.744, 0.808, 0.533, 0.654, 0.809, 0.764, 0.501, 0.638, 0.599, 0.687, 0.796, 0.573, 0.712, 0.967, 0.857, 0.904, 0.703, 0.699, 0.703, 0.438, 0.944, 0.544, 0.61, 0.715, 0.632, 0.829, 0.648, 0.85, 0.846, 0.679, 0.844, 0.528, 0.838, 0.961, 0.939, 0.651, 0.633, 0.73, 0.632, 0.596, 0.59, 0.704, 0.675, 0.523, 0.577, 0.438, 0.583, 0.779, 0.662, 0.764, 0.738, 0.776, 0.743, 0.687, 0.635, 0.694, 0.864, 0.554, 0.415, 0.558, 0.537, 0.631, 0.768, 0.676, 0.622, 0.541, 0.583, 0.878, 0.846, 0.68, 0.848, 0.809, 0.801, 0.637, 0.639, 0.512, 0.877, 0.718, 0.645, 0.508, 0.696, 0.73, 0.836, 0.7, 0.63, 0.724, 0.381, 0.415, 0.868, 0.548, 0.748, 0.532, 0.714, 0.777, 0.795, 0.509, 0.823, 0.788, 0.497, 0.743, 0.817, 0.756, 0.535, 0.55, 0.904, 0.79, 0.71, 0.475, 0.607, 0.355, 0.507, 0.661, 0.563, 0.346, 0.839, 0.906, 0.83, 0.464, 0.625, 0.8, 0.868, 0.672, 0.706, 0.6, 0.558, 0.755, 0.516, 0.662, 0.824, 0.735, 0.641, 0.643, 0.733, 0.384, 0.724, 0.55, 0.826, 0.7, 0.844, 0.503, 0.74, 0.535, 0.645, 0.778, 0.467, 0.71, 0.512, 0.754, 0.848, 0.581, 0.729, 0.705, 0.434, 0.931, 0.712, 0.699, 0.94, 0.873, 0.568, 0.589, 0.812, 0.306, 0.835, 0.795, 0.787, 0.533, 0.256, 0.664, 0.83, 0.821, 0.383, 0.682, 0.249, 0.597, 0.694, 0.539, 0.863, 0.255, 0.883, 0.744, 0.675, 0.76, 0.37, 0.885, 0.63, 0.515, 0.905, 0.538, 0.535, 0.797, 0.766, 0.566, 0.798, 0.735, 0.706, 0.713, 0.851, 0.795, 0.756, 0.722, 0.846, 0.486, 0.764, 0.793, 0.785, 0.552, 0.665, 0.796, 0.897, 0.731, 0.837, 0.881, 0.725, 0.815, 0.636, 0.809, 0.74, 0.714, 0.846, 0.97, 0.889, 0.567, 0.887, 0.859, 0.872, 0.649, 0.701, 0.764, 0.783, 0.832, 0.752, 0.664, 0.766, 0.797, 0.829, 0.751, 0.685, 0.833, 0.883, 0.681, 0.355, 0.855, 0.314, 0.714, 0.525, 0.866, 0.588, 0.193, 0.366, 0.643, 0.421, 0.868, 0.817, 0.746, 0.869, 0.432, 0.923, 0.646, 0.739, 0.428, 0.816, 0.851, 0.241, 0.573, 0.622, 0.566, 0.535, 0.641, 0.768, 0.573, 0.587, 0.52, 0.73, 0.138, 0.735, 0.377, 0.444, 0.445, 0.47, 0.672, 0.764, 0.637, 0.45, 0.568, 0.711, 0.823, 0.533, 0.564, 0.766, 0.346, 0.701, 0.785, 0.552, 0.612, 0.435, 0.339, 0.739, 0.8, 0.567, 0.562, 0.47, 0.705, 0.739, 0.675, 0.859, 0.313, 0.837, 0.588, 0.851, 0.738, 0.74, 0.525, 0.816, 0.648, 0.366, 0.506, 0.764, 0.766, 0.637, 0.776, 0.636, 0.781, 0.897, 0.792, 0.86, 0.503, 0.681, 0.808, 0.764, 0.715, 0.659, 0.849, 0.796, 0.706, 0.618, 0.741, 0.717, 0.846, 0.514, 0.599], 'key': [1, 7, 0, 5, 2, 0, 1, 5, 7, 11, 0, 7, 4, 5, 5, 7, 7, 2, 2, 11, 5, 1, 6, 10, 8, 2, 8, 9, 9, 2, 4, 1, 9, 11, 7, 11, 8, 2, 0, 7, 6, 7, 3, 9, 10, 10, 0, 11, 11, 6, 10, 2, 3, 2, 4, 0, 9, 9, 1, 1, 1, 2, 0, 9, 1, 9, 4, 4, 7, 0, 8, 9, 1, 10, 2, 7, 5, 9, 7, 3, 7, 2, 3, 9, 4, 1, 2, 7, 0, 5, 0, 6, 5, 8, 4, 1, 2, 0, 6, 10, 6, 7, 11, 7, 1, 4, 7, 6, 10, 9, 1, 10, 6, 3, 0, 7, 1, 5, 11, 7, 3, 9, 0, 7, 10, 0, 6, 9, 4, 5, 8, 3, 10, 4, 11, 7, 10, 10, 9, 1, 11, 4, 9, 4, 4, 8, 11, 5, 5, 4, 10, 11, 8, 2, 8, 0, 4, 0, 1, 10, 6, 9, 9, 0, 11, 6, 4, 3, 3, 3, 0, 10, 9, 0, 0, 0, 1, 3, 6, 1, 1, 5, 11, 8, 8, 9, 6, 2, 2, 4, 0, 11, 6, 5, 2, 0, 8, 8, 11, 8, 7, 10, 9, 2, 0, 9, 5, 0, 3, 7, 10, 8, 4, 4, 10, 7, 0, 4, 0, 1, 3, 11, 0, 11, 5, 6, 0, 6, 6, 6, 2, 3, 1, 11, 1, 0, 3, 7, 11, 0, 0, 8, 0, 2, 11, 5, 1, 9, 0, 5, 10, 1, 0, 4, 4, 6, 0, 11, 0, 5, 11, 10, 4, 5, 10, 5, 0, 9, 8, 6, 4, 0, 7, 11, 5, 3, 3, 7, 9, 7, 9, 7, 6, 5, 7, 1, 6, 9, 1, 1, 7, 1, 10, 5, 4, 3, 2, 0, 4, 10, 0, 9, 1, 0, 11, 3, 0, 6, 9, 6, 0, 2, 9, 8, 0, 0, 5, 5, 6, 7, 5, 4, 0, 11, 11, 9, 4, 5, 1, 4, 0, 1, 8, 0, 2, 2, 3, 6, 5, 1, 0, 8, 10, 5, 10, 11, 4, 3, 0, 1, 9, 2, 5, 7, 5, 0, 9, 7, 0, 6, 5, 4, 1, 8, 7, 5, 5, 10, 2, 11, 1, 5, 10, 2, 4, 9, 5, 9, 5, 5, 5, 6, 2, 11, 11, 6, 1, 1, 5, 5, 2, 0, 2, 2, 0, 5, 0, 1, 1, 6, 4, 4, 9, 2, 10, 6, 6, 10, 6, 11, 7, 7, 10, 6, 2, 1, 7, 9, 8, 9, 9, 7, 6, 0, 7, 2, 1, 5, 1, 6, 2, 9, 1, 2, 1, 2, 1, 7, 0, 3, 9, 10, 11, 1, 6, 9, 9, 5, 6, 7, 8, 7, 0, 10, 7, 0, 1, 2, 3, 0, 11, 5, 2, 9, 4, 9, 9, 11, 1, 8, 4, 8, 5, 0, 5, 1, 9, 11, 2, 5, 3, 8, 6, 5, 3, 4, 9, 10, 1, 8, 9, 7, 4, 2, 1, 4, 9, 7, 2, 2, 9, 4, 11, 3, 4, 8, 10, 6, 4, 6, 0, 10, 0, 8, 0, 5, 5, 9, 0, 2, 5, 4, 7, 11, 9, 0, 3, 8, 2, 3, 8, 1, 0, 0, 2, 8, 8, 7, 2, 7, 6, 6, 2, 7, 0, 11, 5, 1, 5, 6, 5, 7, 6, 6, 6, 1, 11, 10, 8, 8, 0, 11, 1, 11, 8, 9, 10, 7, 1, 2, 11, 1, 1, 0], 'loudness': [-4.806, -5.241, -4.929, -6.714, -8.529, -8.619, -5.825, -5.112, -4.627, -8.303, -4.152, -4.195, -5.07, -4.238, -7.128, -12.942, -12.71, -19.498, -7.596, -8.927, -8.515, -6.287, -6.035, -9.706, -4.188, -6.777, -6.368, -7.229, -9.822, -6.879, -3.492, -3.522, -11.537, -9.217, -9.506, -4.972, -9.613, -10.01, -3.198, -5.832, -8.432, -8.793, -6.717, -6.565, -8.65, -8.648, -12.254, -8.662, -10.16, -7.879, -6.593, -5.777, -9.656, -4.992, -6.893, -7.643, -3.128, -6.091, -5.815, -6.621, -5.654, -6.469, -2.96, -4.331, -6.166, -5.556, -13.561, -9.54, -7.289, -14.187, -9.636, -7.431, -5.008, -7.078, -5.935, -5.241, -6.27, -4.733, -4.739, -6.004, -3.521, -7.631, -4.03, -5.095, -5.691, -6.003, -10.01, -4.498, -5.726, -4.469, -5.275, -6.035, -5.353, -5.608, -7.358, -5.008, -6.842, -5.18, -6.431, -6.916, -4.522, -7.739, -4.484, -4.586, -3.863, -4.008, -3.408, -5.932, -5.761, -8.474, -6.468, -5.997, -6.336, -5.12, -5.209, -3.783, -4.449, -6.8, -3.1, -3.16, -5.613, -5.485, -6.388, -4.104, -6.315, -13.391, -9.318, -7.323, -6.918, -9.303, -5.772, -8.084, -12.096, -7.653, -8.039, -6.285, -8.17, -5.966, -5.972, -7.434, -10.61, -8.503, -9.923, -4.042, -8.376, -5.576, -7.958, -8.441, -8.893, -9.462, -15.147, -8.104, -11.874, -5.864, -8.994, -14.165, -11.146, -7.093, -9.764, -7.688, -11.296, -5.736, -6.657, -6.513, -8.863, -8.125, -4.32, -10.188, -5.395, -8.138, -10.809, -9.765, -6.001, -13.995, -7.258, -9.891, -9.132, -6.176, -6.013, -10.705, -9.921, -6.437, -8.428, -9.657, -7.714, -5.64, -7.765, -9.521, -8.59, -11.185, -9.802, -8.491, -7.738, -5.786, -5.739, -12.212, -10.755, -7.393, -7.469, -9.749, -12.081, -8.029, -9.656, -8.645, -6.961, -9.779, -8.417, -9.149, -7.418, -6.956, -10.305, -4.576, -4.894, -6.211, -7.972, -6.055, -7.131, -11.396, -9.54, -19.465, -7.355, -8.859, -6.568, -9.632, -5.832, -4.981, -7.498, -6.863, -4.897, -6.436, -6.132, -3.704, -11.548, -7.159, -12.721, -4.695, -11.516, -7.027, -4.368, -6.027, -8.284, -13.01, -9.249, -5.682, -5.567, -12.3, -4.128, -4.434, -7.453, -5.107, -9.414, -13.108, -9.548, -12.858, -2.986, -12.697, -7.685, -10.182, -12.245, -5.109, -8.698, -7.013, -5.017, -10.539, -9.225, -6.472, -5.824, -4.812, -11.823, -10.186, -11.442, -8.755, -14.803, -12.477, -6.27, -7.409, -6.004, -8.399, -4.733, -8.726, -6.402, -4.739, -5.244, -4.175, -3.521, -8.692, -5.983, -7.612, -4.546, -5.222, -3.783, -9.998, -10.225, -9.689, -8.833, -3.818, -7.631, -5.275, -5.332, -5.05, -8.649, -5.485, -4.51, -5.726, -5.859, -4.529, -6.532, -6.515, -6.652, -5.865, -6.088, -6.482, -8.102, -6.682, -7.381, -8.514, -5.594, -7.139, -10.817, -9.398, -10.238, -11.451, -6.427, -10.532, -12.163, -12.321, -9.448, -6.932, -7.224, -11.356, -7.392, -4.321, -9.486, -13.98, -6.147, -10.791, -10.053, -13.85, -5.107, -5.424, -8.852, -13.875, -15.293, -14.081, -9.384, -13.189, -12.129, -11.256, -5.844, -5.536, -3.995, -13.252, -8.195, -5.938, -5.832, -12.94, -14.863, -10.87, -5.226, -7.28, -15.791, -10.346, -5.654, -8.866, -11.316, -9.275, -5.465, -15.075, -7.543, -12.988, -6.974, -8.845, -3.851, -12.804, -4.083, -7.792, -7.368, -8.871, -9.013, -5.849, -9.238, -4.011, -6.175, -8.813, -5.399, -6.679, -10.004, -4.142, -5.597, -5.541, -3.249, -4.915, -4.975, -6.623, -6.005, -10.339, -5.427, -5.115, -4.861, -9.575, -14.031, -5.303, -3.938, -6.812, -8.699, -6.148, -9.595, -6.109, -4.697, -7.676, -5.158, -11.223, -5.61, -8.377, -6.702, -7.906, -8.288, -6.606, -10.748, -8.19, -6.346, -7.879, -8.251, -9.026, -3.955, -6.959, -6.312, -4.733, -4.48, -5.355, -2.851, -3.293, -5.611, -6.983, -4.51, -8.891, -5.484, -3.084, -7.816, -5.051, -6.273, -6.967, -3.712, -5.833, -2.807, -2.853, -4.556, -5.098, -8.117, -3.081, -6.01, -3.776, -4.673, -6.098, -2.169, -8.025, -4.311, -2.724, -4.269, -8.508, -4.862, -4.175, -5.697, -4.327, -4.813, -5.044, -4.697, -5.604, -4.603, -5.588, -6.237, -4.403, -3.226, -6.418, -7.385, -4.264, -7.706, -5.479, -9.745, -5.212, -5.804, -13.312, -8.073, -6.977, -7.856, -4.28, -5.41, -5.203, -5.906, -8.357, -7.039, -6.678, -7.219, -11.193, -7.994, -6.451, -13.772, -11.64, -8.917, -9.396, -11.377, -6.645, -6.265, -10.499, -10.344, -6.248, -5.933, -11.484, -6.532, -9.941, -8.824, -8.571, -7.956, -8.033, -6.035, -5.117, -11.234, -8.017, -8.583, -5.997, -9.344, -9.385, -6.055, -10.867, -6.39, -7.816, -5.051, -6.627, -9.506, -7.885, -3.805, -6.32, -8.025, -5.828, -7.93, -3.463, -6.008, -7.351, -2.724, -12.059, -2.807, -5.932, -2.851, -4.77, -6.809, -6.9, -4.393, -4.601, -7.519, -6.743, -4.175, -3.955, -6.515, -4.064, -8.117, -4.806, -3.712, -4.021, -3.012, -6.725, -6.418, -4.501, -5.484, -6.639, -7.289, -3.794, -6.967, -6.553, -5.825, -5.569, -6.61, -4.51, -8.584, -5.742], 'mode': [1, 1, 1, 0, 1, 0, 0, 0, 0, 0, 1, 1, 0, 1, 1, 1, 1, 1, 0, 0, 0, 1, 0, 1, 0, 0, 1, 1, 1, 0, 0, 1, 0, 0, 0, 0, 1, 1, 1, 0, 0, 0, 1, 0, 0, 0, 1, 1, 1, 1, 0, 1, 1, 0, 0, 1, 0, 1, 1, 0, 0, 1, 1, 1, 1, 1, 1, 1, 1, 1, 1, 0, 0, 0, 1, 1, 0, 0, 0, 1, 0, 0, 0, 0, 0, 0, 1, 0, 0, 0, 0, 0, 0, 0, 0, 0, 0, 0, 0, 0, 0, 0, 0, 1, 0, 0, 1, 0, 0, 1, 1, 1, 0, 0, 1, 1, 1, 0, 0, 0, 0, 0, 1, 1, 0, 1, 0, 1, 1, 1, 1, 1, 0, 1, 0, 1, 1, 0, 0, 1, 0, 1, 1, 1, 1, 0, 0, 0, 0, 0, 1, 1, 0, 1, 0, 1, 1, 1, 1, 1, 0, 1, 1, 1, 0, 1, 1, 1, 1, 0, 1, 1, 0, 0, 0, 1, 0, 0, 0, 0, 1, 0, 0, 1, 0, 0, 0, 0, 0, 0, 1, 0, 1, 0, 0, 1, 1, 0, 1, 1, 1, 0, 0, 0, 0, 0, 0, 1, 1, 0, 0, 0, 0, 0, 0, 0, 1, 0, 1, 1, 0, 0, 1, 1, 0, 0, 0, 1, 1, 0, 1, 0, 1, 0, 1, 1, 0, 0, 0, 1, 0, 0, 0, 1, 0, 1, 0, 0, 1, 0, 0, 1, 1, 1, 1, 1, 1, 1, 1, 1, 0, 0, 1, 0, 0, 0, 1, 1, 1, 0, 0, 0, 1, 0, 0, 0, 1, 1, 0, 0, 0, 0, 0, 0, 0, 0, 0, 1, 1, 0, 1, 0, 0, 0, 0, 0, 0, 0, 0, 0, 1, 0, 0, 0, 0, 1, 1, 1, 0, 0, 1, 0, 0, 0, 1, 0, 1, 1, 1, 1, 0, 0, 0, 0, 0, 0, 0, 0, 0, 0, 0, 1, 0, 1, 1, 0, 0, 1, 0, 1, 1, 1, 0, 0, 0, 0, 0, 0, 0, 1, 0, 1, 0, 0, 0, 0, 0, 1, 1, 0, 0, 1, 0, 1, 1, 1, 1, 0, 1, 1, 0, 1, 1, 1, 1, 0, 1, 0, 1, 0, 1, 0, 1, 1, 0, 1, 1, 1, 1, 0, 1, 1, 1, 1, 1, 0, 1, 0, 1, 1, 0, 0, 0, 1, 0, 0, 0, 1, 1, 0, 0, 0, 0, 0, 0, 0, 0, 1, 0, 1, 1, 1, 1, 1, 1, 0, 1, 1, 0, 1, 0, 1, 1, 0, 0, 1, 1, 0, 0, 0, 1, 0, 0, 0, 0, 1, 0, 0, 0, 0, 1, 0, 1, 0, 1, 1, 0, 1, 1, 0, 0, 0, 1, 0, 1, 1, 0, 0, 1, 1, 1, 1, 0, 1, 0, 0, 0, 1, 0, 1, 1, 0, 0, 1, 0, 0, 0, 1, 1, 1, 0, 0, 0, 1, 0, 0, 0, 0, 1, 0, 0, 0, 0, 1, 0, 1, 0, 0, 0, 0, 1, 0, 0, 1, 1, 1, 1, 1, 0, 0, 1, 0, 0, 0, 1, 0, 0, 0, 0, 1, 1, 1, 1, 0, 1, 1, 1, 0, 1, 1, 0, 1, 0, 1, 1, 1, 0, 1, 1, 1, 0, 1, 1, 1, 0, 1, 0, 1, 1, 0, 1, 1, 1, 0, 1, 0, 0, 0, 0, 1, 1, 0, 1, 1], 'speechiness': [0.053, 0.269, 0.0552, 0.133, 0.0437, 0.0497, 0.19, 0.0773, 0.0435, 0.058, 0.0473, 0.0658, 0.0337, 0.0616, 0.0274, 0.203, 0.0331, 0.047, 0.0391, 0.0306, 0.545, 0.0278, 0.0596, 0.241, 0.294, 0.289, 0.101, 0.0437, 0.335, 0.241, 0.0416, 0.0467, 0.102, 0.0335, 0.195, 0.0344, 0.567, 0.101, 0.173, 0.0325, 0.0357, 0.0358, 0.0564, 0.0379, 0.0546, 0.0282, 0.0644, 0.0587, 0.0372, 0.109, 0.104, 0.302, 0.0349, 0.282, 0.0328, 0.181, 0.174, 0.0676, 0.332, 0.038, 0.217, 0.0295, 0.0627, 0.0821, 0.0719, 0.0924, 0.0608, 0.0324, 0.144, 0.034, 0.0569, 0.282, 0.0391, 0.0517, 0.205, 0.269, 0.126, 0.189, 0.147, 0.141, 0.0509, 0.0994, 0.139, 0.216, 0.345, 0.0602, 0.101, 0.0403, 0.0383, 0.047, 0.0681, 0.0596, 0.155, 0.0552, 0.0438, 0.0391, 0.0728, 0.142, 0.204, 0.0719, 0.0506, 0.0589, 0.0657, 0.0982, 0.155, 0.231, 0.0717, 0.0513, 0.309, 0.219, 0.0601, 0.136, 0.0382, 0.0854, 0.0567, 0.287, 0.329, 0.108, 0.224, 0.288, 0.0899, 0.186, 0.0374, 0.0447, 0.0806, 0.0413, 0.0422, 0.0365, 0.0314, 0.0304, 0.0381, 0.0352, 0.038, 0.0347, 0.0411, 0.0351, 0.0455, 0.0922, 0.0419, 0.0376, 0.041, 0.0315, 0.0342, 0.0421, 0.0342, 0.103, 0.045, 0.0362, 0.0287, 0.0673, 0.0396, 0.0661, 0.107, 0.0362, 0.0304, 0.0396, 0.0339, 0.0325, 0.0315, 0.0375, 0.0281, 0.0383, 0.035, 0.058, 0.126, 0.0302, 0.0333, 0.041, 0.0338, 0.0379, 0.229, 0.0618, 0.0424, 0.0282, 0.0397, 0.318, 0.0687, 0.0283, 0.0411, 0.0868, 0.0447, 0.149, 0.0511, 0.166, 0.0487, 0.039, 0.041, 0.0621, 0.0329, 0.0396, 0.0734, 0.22, 0.0647, 0.0581, 0.0445, 0.0892, 0.0333, 0.0554, 0.0468, 0.0634, 0.0359, 0.0449, 0.0305, 0.0447, 0.125, 0.0822, 0.0296, 0.0785, 0.0376, 0.0764, 0.0788, 0.046, 0.0337, 0.0513, 0.0862, 0.0792, 0.0307, 0.124, 0.0315, 0.0451, 0.0484, 0.0348, 0.0315, 0.13, 0.048, 0.0462, 0.0317, 0.179, 0.0328, 0.0473, 0.0733, 0.0457, 0.0754, 0.0398, 0.0613, 0.0355, 0.0651, 0.0344, 0.026, 0.0562, 0.0376, 0.0378, 0.0328, 0.0431, 0.0399, 0.0261, 0.0324, 0.0343, 0.0343, 0.0703, 0.0525, 0.0371, 0.0581, 0.0608, 0.0455, 0.0442, 0.0832, 0.0468, 0.0613, 0.0313, 0.0633, 0.0606, 0.0372, 0.0322, 0.0733, 0.161, 0.0317, 0.0514, 0.0376, 0.0501, 0.0422, 0.0318, 0.0585, 0.0707, 0.126, 0.0615, 0.141, 0.147, 0.189, 0.29, 0.0455, 0.147, 0.0532, 0.0854, 0.0509, 0.0622, 0.281, 0.332, 0.178, 0.363, 0.287, 0.218, 0.307, 0.203, 0.0885, 0.0786, 0.0994, 0.0681, 0.136, 0.0375, 0.169, 0.186, 0.22, 0.0383, 0.158, 0.0554, 0.266, 0.0881, 0.0974, 0.187, 0.272, 0.202, 0.117, 0.152, 0.0998, 0.0511, 0.188, 0.0299, 0.0389, 0.07, 0.0342, 0.122, 0.106, 0.0329, 0.036, 0.0364, 0.0617, 0.0364, 0.0249, 0.0391, 0.0805, 0.0547, 0.0514, 0.0316, 0.0978, 0.0349, 0.0289, 0.0268, 0.0703, 0.0518, 0.0599, 0.0737, 0.0353, 0.0398, 0.0503, 0.0802, 0.0337, 0.0366, 0.116, 0.0594, 0.0283, 0.0339, 0.0686, 0.0349, 0.048, 0.0297, 0.0439, 0.032, 0.041, 0.0782, 0.0531, 0.0493, 0.0991, 0.0806, 0.0589, 0.0365, 0.0633, 0.0332, 0.0324, 0.0367, 0.0851, 0.112, 0.0361, 0.0479, 0.0284, 0.0415, 0.0387, 0.027, 0.0273, 0.0292, 0.0266, 0.0407, 0.222, 0.0378, 0.0393, 0.177, 0.0361, 0.0417, 0.0286, 0.0459, 0.0452, 0.0328, 0.0305, 0.0318, 0.0377, 0.0345, 0.0415, 0.0504, 0.0389, 0.037, 0.0449, 0.0464, 0.0593, 0.0439, 0.0277, 0.0265, 0.0348, 0.0261, 0.0327, 0.0406, 0.037, 0.0349, 0.0376, 0.0368, 0.0337, 0.0374, 0.0457, 0.0924, 0.0435, 0.0358, 0.0577, 0.0343, 0.0375, 0.038, 0.0343, 0.0311, 0.0317, 0.0457, 0.0312, 0.0393, 0.0486, 0.0976, 0.273, 0.0709, 0.22, 0.188, 0.0483, 0.297, 0.0764, 0.0546, 0.0523, 0.103, 0.0348, 0.0325, 0.0491, 0.147, 0.0468, 0.0581, 0.103, 0.0625, 0.0484, 0.109, 0.0392, 0.0506, 0.0367, 0.036, 0.0361, 0.0856, 0.14, 0.0304, 0.0914, 0.0854, 0.0523, 0.0366, 0.0414, 0.154, 0.141, 0.128, 0.134, 0.034, 0.0309, 0.0478, 0.219, 0.354, 0.0343, 0.0375, 0.0421, 0.0373, 0.0357, 0.0333, 0.0527, 0.0399, 0.0278, 0.0309, 0.0325, 0.0554, 0.0573, 0.0348, 0.205, 0.042, 0.0459, 0.0734, 0.0346, 0.0313, 0.0327, 0.0792, 0.0593, 0.0441, 0.036, 0.039, 0.0262, 0.0373, 0.0547, 0.0312, 0.0267, 0.0282, 0.0799, 0.0349, 0.0321, 0.0356, 0.0536, 0.0485, 0.0267, 0.0342, 0.0276, 0.0579, 0.0532, 0.0326, 0.0409, 0.174, 0.0519, 0.0471, 0.0792, 0.0367, 0.0402, 0.0764, 0.0546, 0.363, 0.149, 0.0338, 0.0411, 0.0309, 0.036, 0.0289, 0.0299, 0.0284, 0.0487, 0.0926, 0.0856, 0.0798, 0.0491, 0.0544, 0.0486, 0.0403, 0.121, 0.0944, 0.0513, 0.118, 0.0282, 0.0338, 0.0854, 0.0343, 0.0869, 0.0423, 0.103, 0.053, 0.0348, 0.0523, 0.124, 0.22, 0.354, 0.117, 0.0483, 0.0595, 0.0389, 0.186, 0.103, 0.16, 0.19, 0.0478, 0.0755, 0.22, 0.0327, 0.0365], 'acousticness': [0.0361, 0.321, 0.111, 0.00207, 0.0558, 0.941, 0.17, 0.148, 0.0301, 0.0961, 0.00355, 0.00352, 0.141, 0.221, 0.28, 0.878, 0.742, 0.873, 0.0476, 0.743, 0.31, 0.0776, 0.394, 0.631, 0.347, 0.154, 0.351, 0.052, 0.341, 0.495, 0.0942, 0.00109, 0.539, 0.0846, 0.196, 0.00386, 0.161, 0.232, 0.00553, 0.33, 0.617, 0.0332, 0.0015, 0.395, 0.0114, 0.00661, 0.933, 0.0696, 0.408, 0.457, 0.563, 0.124, 0.706, 0.275, 0.103, 0.115, 0.00978, 0.25, 0.281, 0.131, 0.142, 0.385, 0.00287, 0.000546, 0.322, 0.000639, 0.386, 0.115, 0.859, 0.947, 0.333, 0.425, 0.0529, 0.0193, 0.173, 0.321, 0.352, 0.323, 0.258, 0.0474, 0.397, 0.473, 0.0791, 0.016, 0.531, 0.318, 0.232, 0.348, 0.149, 0.387, 0.185, 0.394, 0.0606, 0.214, 0.598, 0.0529, 0.109, 0.295, 0.401, 0.1, 0.382, 0.0565, 0.571, 0.318, 0.192, 0.194, 0.113, 0.158, 0.0899, 0.339, 0.289, 0.146, 0.0797, 0.443, 0.192, 0.0616, 0.145, 0.284, 0.0505, 0.12, 0.174, 0.128, 0.137, 0.0744, 0.407, 0.801, 0.779, 0.809, 0.588, 0.887, 0.2, 0.893, 0.548, 0.8, 0.797, 0.608, 0.846, 0.599, 0.691, 0.785, 0.969, 0.826, 0.865, 0.619, 0.918, 0.49, 0.847, 0.799, 0.89, 0.835, 0.909, 0.855, 0.968, 0.222, 0.746, 0.00922, 0.775, 0.627, 0.828, 0.875, 0.466, 0.807, 0.594, 0.959, 0.697, 0.791, 0.909, 0.89, 0.717, 0.851, 0.742, 0.698, 0.85, 0.893, 0.413, 0.61, 0.684, 0.618, 0.107, 0.0796, 0.625, 0.0439, 0.0509, 0.658, 0.0082, 0.499, 0.0698, 0.438, 0.0152, 0.203, 0.375, 0.0132, 0.00079, 0.0155, 0.00148, 0.599, 0.383, 0.0261, 0.29, 0.655, 0.911, 0.299, 0.327, 0.035, 0.553, 0.647, 0.526, 0.787, 0.0622, 0.142, 0.044, 0.0189, 0.0189, 0.493, 0.163, 0.00513, 0.304, 0.194, 0.518, 0.99, 0.0954, 0.195, 0.00637, 0.624, 0.0962, 0.0499, 0.225, 0.356, 0.22, 0.0118, 0.0984, 0.0491, 0.103, 0.0351, 0.034, 0.0712, 0.0891, 0.0058, 0.0964, 0.186, 0.462, 0.00486, 0.132, 0.193, 0.0542, 0.318, 0.0409, 0.0289, 0.426, 0.079, 0.00388, 0.0674, 0.000726, 0.089, 0.0755, 0.201, 0.0473, 0.0876, 0.216, 0.0964, 0.121, 0.0289, 0.0103, 0.137, 0.0147, 0.112, 0.123, 0.0883, 0.115, 0.00841, 0.0631, 0.13, 0.00116, 0.00658, 0.352, 0.0203, 0.0474, 0.0693, 0.323, 0.181, 0.843, 0.258, 0.58, 0.0888, 0.397, 0.316, 0.167, 0.0555, 0.232, 0.168, 0.0616, 0.161, 0.105, 0.389, 0.385, 0.0904, 0.473, 0.185, 0.904, 0.0252, 0.422, 0.128, 0.00614, 0.149, 0.0717, 0.377, 0.171, 0.232, 0.282, 0.492, 0.0538, 0.129, 0.489, 0.297, 0.389, 0.408, 0.495, 0.00221, 0.251, 0.0106, 0.727, 0.457, 0.088, 0.295, 0.0555, 0.0389, 0.291, 0.281, 0.0266, 0.55, 0.245, 0.0334, 0.126, 0.00559, 0.0739, 0.0843, 0.33, 0.00368, 0.079, 0.343, 0.278, 0.147, 0.103, 0.402, 0.232, 0.114, 0.000835, 0.199, 0.153, 0.169, 0.613, 0.19, 0.603, 0.0491, 0.0962, 0.0491, 0.0406, 0.43, 0.164, 0.0554, 0.0847, 0.0964, 0.0991, 0.0172, 0.0258, 0.76, 0.523, 0.112, 0.0312, 0.155, 0.182, 0.167, 0.0261, 0.0818, 0.0115, 0.623, 0.118, 0.459, 0.0205, 0.145, 0.592, 0.000675, 0.033, 0.427, 0.0182, 0.00836, 0.177, 0.0131, 0.289, 0.245, 8.74e-05, 0.0268, 0.295, 0.292, 0.0164, 0.835, 0.0588, 0.0417, 0.141, 0.786, 0.842, 0.634, 0.00065, 0.0701, 0.241, 0.0578, 0.811, 0.464, 0.00481, 0.317, 0.00462, 0.872, 0.209, 0.0319, 0.0911, 0.362, 0.474, 0.205, 0.00462, 0.00959, 0.000105, 0.229, 0.767, 0.0057, 0.00776, 0.672, 0.034, 0.286, 0.0833, 0.00835, 0.225, 0.0319, 0.535, 0.000754, 0.00614, 0.0194, 0.0383, 0.0825, 0.0319, 0.344, 0.0403, 0.0492, 0.0469, 0.0163, 0.00406, 0.296, 0.0362, 0.0185, 0.515, 0.00346, 0.0107, 0.025, 0.0907, 0.0569, 0.0939, 0.104, 0.016, 0.281, 0.0239, 0.107, 0.0178, 0.0888, 0.0038, 0.181, 0.0188, 0.335, 0.0242, 0.0537, 0.00864, 0.0381, 0.166, 0.018, 0.0288, 0.123, 0.782, 0.082, 0.816, 0.513, 0.107, 0.00705, 0.797, 0.97, 0.741, 0.734, 0.521, 0.0553, 0.62, 0.104, 0.0712, 0.807, 0.00162, 0.18, 0.0192, 0.825, 0.051, 0.362, 0.849, 0.771, 0.306, 0.399, 0.816, 0.374, 0.518, 0.0678, 0.0756, 0.545, 0.0445, 0.954, 0.286, 0.67, 0.797, 0.725, 0.587, 0.126, 0.0187, 0.00752, 0.163, 0.314, 0.581, 0.301, 0.0555, 0.39, 0.00513, 0.158, 0.00813, 0.0319, 0.344, 0.835, 0.691, 0.691, 0.365, 0.0354, 0.104, 0.149, 0.0153, 0.259, 0.0106, 0.099, 0.281, 0.838, 0.00406, 0.0319, 0.225, 0.00226, 0.0314, 0.44, 0.0501, 0.276, 0.578, 0.159, 0.0888, 0.00776, 0.228, 0.186, 0.515, 0.0361, 0.0469, 0.051, 0.0704, 0.293, 0.123, 0.0297, 0.0383, 0.0265, 0.00279, 0.00253, 0.0492, 0.223, 0.17, 0.185, 0.0744, 0.00614, 0.00242, 0.0468], 'instrumentalness': [0, 0, 0, 0, 0, 0, 0, 0, 2.23e-05, 0, 0.00376, 3.89e-06, 0, 0, 0, 2.51e-05, 0.564, 0.00531, 0.0289, 7.26e-05, 0, 1.81e-06, 0, 0.000148, 0, 8.12e-05, 0.000105, 0.0275, 0.00222, 0, 0, 1.25e-06, 0.373, 0.0326, 0.00225, 0.00296, 0.0333, 0, 0, 0, 0.342, 0.242, 0.674, 0.00042, 0.0987, 0.0143, 0.354, 0.00805, 0.953, 0.00597, 0, 0, 0, 0, 0, 0, 0, 0, 1.38e-06, 0, 0, 0.00394, 0.00147, 3.27e-05, 0.000855, 0, 6.92e-05, 3.59e-05, 0, 0.00129, 8.68e-05, 0.015, 4.41e-06, 0, 6.87e-06, 0, 0, 0, 0, 0.000598, 0, 0.000597, 0, 0.00056, 0, 0.000101, 0, 5.25e-06, 4.97e-06, 0, 1.28e-05, 0, 3.22e-05, 0, 0.000422, 4.41e-06, 0, 1.16e-05, 0, 4.94e-06, 0, 1.37e-05, 0, 0, 0, 0, 0, 0.000132, 1e-06, 0, 0, 0.00144, 0, 0, 0, 0, 0, 1.5e-05, 5.58e-06, 0, 0, 8.94e-05, 4.58e-05, 0, 0, 0, 0, 0.000271, 0, 0.000876, 0, 0, 0.00931, 0, 0, 3.51e-06, 0, 0, 0, 0, 2.48e-06, 0, 0, 0, 0, 0, 0, 0, 0, 0, 0, 0, 1.41e-06, 0, 0, 0.00379, 0, 0, 0, 0, 9.68e-05, 0, 0, 9.73e-06, 0, 0, 0, 0, 0, 0, 0, 0, 0, 0, 0.592, 0.0523, 0.000372, 0.000636, 2.73e-05, 0.158, 0.0256, 0.241, 0.043, 0.631, 0.00105, 0, 1.26e-05, 2.27e-05, 0.000116, 0, 0.000796, 0.035, 0.00843, 0.00246, 0.032, 0.0592, 0.154, 0.000138, 0.199, 0.00216, 2.31e-06, 0.0597, 0.173, 1.09e-05, 0.632, 0.00793, 0.00289, 0.0168, 0.63, 0, 0.0414, 0.438, 0.000507, 0.0129, 0.000351, 0.0192, 0, 0.000211, 0.258, 8.69e-05, 0, 0.027, 0.0249, 0.0213, 0.000322, 0.000306, 0, 0.121, 0.000602, 0.00182, 0.00019, 7.98e-06, 0.00828, 4.43e-05, 0.598, 0.0504, 4.04e-06, 3.21e-06, 0.00918, 0, 0, 0.0141, 0.000311, 0.000188, 0.00184, 0.028, 8.08e-05, 0.000345, 0.036, 0.0101, 0.205, 0.00192, 0.88, 5.62e-06, 0, 0.000139, 0.487, 0.0706, 0.00711, 2.92e-05, 2.17e-05, 6.47e-05, 0.000281, 0.476, 4.49e-06, 0.312, 3.01e-05, 0.61, 3.79e-05, 3.86e-05, 5e-05, 0, 0.4, 0.00349, 0, 0, 0.000598, 0, 0, 0, 0, 0, 0, 0.00294, 0, 7.15e-05, 0, 0, 6.03e-06, 0, 0, 6.12e-05, 1.36e-05, 0, 0, 3.71e-06, 0.000597, 1.28e-05, 1.66e-05, 0, 1.55e-05, 8.94e-05, 0, 4.97e-06, 0.000613, 0, 0, 0, 0, 0, 0, 0, 0, 0, 0, 2.14e-06, 0.000232, 0.000208, 0, 0.05, 0, 1.72e-05, 0.124, 0.115, 0.105, 0.00251, 0.0212, 0.79, 0.000948, 0.0252, 3.8e-05, 2.6e-05, 0, 0.0306, 2.23e-06, 0.00765, 0, 0.0191, 0.0101, 0.0131, 1.36e-06, 0, 0.000629, 0.00619, 9.82e-05, 0.00123, 0.804, 0, 6e-05, 0.00122, 0.0112, 3e-05, 3.98e-05, 7.96e-05, 0.000322, 0.0103, 0.000192, 0, 2.2e-05, 0, 0.000377, 0.000612, 0, 0.000733, 6.42e-05, 0, 0.0016, 2.8e-05, 0.34, 0.000271, 0.00352, 0.00012, 0.605, 0.00837, 0.00678, 0.0391, 0.00114, 0.925, 0.572, 0.115, 0.0135, 6.24e-06, 7.45e-05, 0.000204, 1.4e-06, 0.00233, 0.516, 0.825, 0.00568, 6.76e-06, 0.0777, 0.0108, 3.26e-06, 0.000522, 0.000763, 0.000748, 4.71e-05, 0.000113, 0, 0.0102, 2.38e-06, 0, 0.000589, 0.171, 0.00676, 0.0241, 1e-06, 0.000123, 0, 0.377, 4.77e-05, 0.0754, 5.11e-06, 0.000458, 0.293, 0.955, 0.00013, 0, 0.27, 0.0873, 0.152, 0.843, 0.00172, 5.59e-05, 6.98e-05, 0.000197, 4.19e-05, 0, 0, 0, 2.9e-06, 0, 3.61e-05, 0.668, 0, 0.04, 0, 0, 0.000373, 0.000722, 0, 0, 3.14e-05, 0.0926, 0.00313, 3.01e-06, 0, 0, 0.000411, 0.00123, 2.18e-05, 0.0153, 0.047, 6.13e-05, 0, 0, 0.000503, 0, 6.98e-06, 0.0202, 1.34e-05, 0.00294, 0.0012, 0, 0, 0, 0, 0, 0, 0, 1.18e-05, 0.00747, 0, 3.36e-05, 0, 8.31e-06, 0, 0, 0, 0, 0, 0, 0, 0, 0, 0, 0, 0, 0, 2.58e-06, 4.27e-05, 0, 0, 0.000866, 0.000264, 1.64e-05, 0, 2.98e-05, 3.92e-05, 0.0196, 0.295, 0.023, 0, 0, 0.308, 0, 1.18e-06, 2.28e-05, 0, 4.77e-06, 0, 0, 1.28e-05, 0.000606, 0.00373, 0, 0.0368, 0.000765, 0.00751, 0, 0.0849, 0.0687, 0.0192, 3.61e-06, 0, 0.000373, 0.000722, 0, 0.0395, 0, 0.00137, 7.25e-05, 0, 1.67e-05, 0.000193, 8.92e-05, 2.22e-05, 0.000314, 0, 0, 0.00313, 0, 2.9e-06, 4.41e-06, 1.05e-05, 6.7e-06, 0.000887, 0, 0, 0, 0.00294, 6.98e-05, 0, 1.34e-06, 0.000411, 0, 3.14e-05, 0, 0, 0, 3.36e-05, 0.000127, 0, 0, 0, 0, 0, 0.00028, 0, 2.91e-05, 0, 0, 0, 0.000392], 'liveness': [0.0755, 0.1, 0.032, 0.13, 0.351, 0.124, 0.293, 0.196, 0.0901, 0.127, 0.0489, 0.0727, 0.685, 0.196, 0.0545, 0.0798, 0.132, 0.0639, 0.0819, 0.109, 0.151, 0.1, 0.195, 0.12, 0.0901, 0.0836, 0.0896, 0.186, 0.17, 0.513, 0.0982, 0.0334, 0.147, 0.102, 0.105, 0.349, 0.442, 0.113, 0.0823, 0.354, 0.142, 0.322, 0.2, 0.189, 0.0962, 0.191, 0.108, 0.11, 0.0745, 0.111, 0.175, 0.095, 0.102, 0.0763, 0.24, 0.0992, 0.0668, 0.0845, 0.231, 0.388, 0.307, 0.403, 0.114, 0.156, 0.274, 0.103, 0.233, 0.359, 0.0825, 0.0759, 0.106, 0.618, 0.0564, 0.274, 0.1, 0.1, 0.126, 0.265, 0.0991, 0.124, 0.0786, 0.065, 0.0781, 0.192, 0.12, 0.0756, 0.113, 0.0827, 0.118, 0.0878, 0.105, 0.195, 0.0967, 0.0487, 0.0898, 0.0564, 0.154, 0.0787, 0.322, 0.0818, 0.102, 0.234, 0.142, 0.118, 0.186, 0.206, 0.0963, 0.0848, 0.196, 0.0792, 0.109, 0.143, 0.393, 0.095, 0.105, 0.0944, 0.0869, 0.109, 0.25, 0.0527, 0.0792, 0.0963, 0.0577, 0.186, 0.0842, 0.214, 0.117, 0.0907, 0.313, 0.152, 0.316, 0.116, 0.132, 0.12, 0.136, 0.119, 0.112, 0.258, 0.222, 0.0461, 0.684, 0.102, 0.0881, 0.152, 0.0973, 0.125, 0.109, 0.117, 0.146, 0.35, 0.162, 0.133, 0.118, 0.121, 0.131, 0.0653, 0.0762, 0.103, 0.116, 0.109, 0.136, 0.149, 0.0903, 0.126, 0.134, 0.108, 0.0987, 0.117, 0.0996, 0.104, 0.0982, 0.144, 0.104, 0.193, 0.108, 0.641, 0.337, 0.0727, 0.114, 0.218, 0.0943, 0.304, 0.0674, 0.101, 0.22, 0.074, 0.102, 0.111, 0.114, 0.104, 0.108, 0.135, 0.0777, 0.0876, 0.115, 0.107, 0.112, 0.0768, 0.101, 0.166, 0.12, 0.241, 0.112, 0.171, 0.111, 0.106, 0.117, 0.122, 0.0985, 0.068, 0.165, 0.07, 0.225, 0.104, 0.108, 0.199, 0.0827, 0.674, 0.172, 0.0952, 0.111, 0.123, 0.0731, 0.0844, 0.442, 0.308, 0.12, 0.14, 0.349, 0.0537, 0.0593, 0.197, 0.204, 0.0973, 0.453, 0.156, 0.0415, 0.09, 0.18, 0.12, 0.26, 0.0938, 0.0873, 0.0307, 0.151, 0.306, 0.132, 0.142, 0.181, 0.0165, 0.163, 0.0763, 0.075, 0.113, 0.601, 0.632, 0.0877, 0.177, 0.135, 0.097, 0.126, 0.445, 0.26, 0.0611, 0.0494, 0.163, 0.053, 0.278, 0.108, 0.0609, 0.313, 0.0923, 0.0549, 0.078, 0.126, 0.0501, 0.124, 0.281, 0.265, 0.142, 0.0744, 0.0991, 0.11, 0.117, 0.0786, 0.0571, 0.266, 0.062, 0.259, 0.0585, 0.0944, 0.152, 0.349, 0.192, 0.175, 0.0998, 0.065, 0.105, 0.143, 0.146, 0.145, 0.0963, 0.0486, 0.118, 0.0828, 0.238, 0.3, 0.071, 0.0878, 0.12, 0.0909, 0.0726, 0.0566, 0.384, 0.116, 0.0928, 0.24, 0.42, 0.221, 0.342, 0.0614, 0.117, 0.129, 0.0582, 0.0615, 0.041, 0.128, 0.134, 0.083, 0.0768, 0.121, 0.0801, 0.0728, 0.0707, 0.0997, 0.0521, 0.103, 0.0739, 0.0165, 0.245, 0.103, 0.175, 0.236, 0.0585, 0.0647, 0.0511, 0.373, 0.111, 0.13, 0.0778, 0.198, 0.263, 0.0823, 0.0921, 0.442, 0.0576, 0.305, 0.184, 0.0546, 0.0628, 0.045, 0.0853, 0.359, 0.0391, 0.0642, 0.538, 0.167, 0.0596, 0.377, 0.113, 0.324, 0.158, 0.18, 0.187, 0.167, 0.0837, 0.146, 0.128, 0.109, 0.0956, 0.0962, 0.0912, 0.65, 0.0759, 0.0658, 0.613, 0.0603, 0.215, 0.08, 0.0588, 0.3, 0.261, 0.355, 0.177, 0.105, 0.098, 0.195, 0.0717, 0.0828, 0.138, 0.088, 0.116, 0.212, 0.124, 0.126, 0.342, 0.087, 0.0643, 0.102, 0.0989, 0.207, 0.141, 0.0912, 0.466, 0.159, 0.13, 0.115, 0.123, 0.122, 0.108, 0.144, 0.287, 0.113, 0.0718, 0.128, 0.0698, 0.0952, 0.242, 0.105, 0.113, 0.177, 0.267, 0.107, 0.543, 0.0486, 0.0694, 0.103, 0.124, 0.392, 0.0566, 0.336, 0.0442, 0.364, 0.101, 0.0904, 0.0793, 0.0699, 0.163, 0.172, 0.565, 0.101, 0.206, 0.057, 0.154, 0.358, 0.237, 0.0811, 0.0424, 0.371, 0.133, 0.134, 0.117, 0.161, 0.0615, 0.287, 0.0849, 0.0793, 0.212, 0.0426, 0.105, 0.16, 0.0374, 0.817, 0.0425, 0.0833, 0.0336, 0.133, 0.102, 0.0912, 0.123, 0.18, 0.113, 0.111, 0.105, 0.0955, 0.343, 0.184, 0.0924, 0.0534, 0.0994, 0.306, 0.0975, 0.321, 0.0926, 0.354, 0.0889, 0.0987, 0.106, 0.332, 0.0877, 0.119, 0.197, 0.0926, 0.0601, 0.102, 0.117, 0.0743, 0.0947, 0.0862, 0.102, 0.123, 0.104, 0.096, 0.0469, 0.109, 0.119, 0.0946, 0.0907, 0.167, 0.112, 0.0788, 0.252, 0.199, 0.0792, 0.2, 0.392, 0.0566, 0.461, 0.107, 0.12, 0.161, 0.0915, 0.237, 0.109, 0.0851, 0.12, 0.101, 0.362, 0.0424, 0.105, 0.0904, 0.183, 0.177, 0.118, 0.104, 0.0921, 0.0761, 0.135, 0.133, 0.26, 0.117, 0.128, 0.071, 0.0717, 0.172, 0.0755, 0.364, 0.155, 0.0819, 0.405, 0.0425, 0.103, 0.103, 0.609, 0.105, 0.119, 0.0442, 0.064, 0.293, 0.415, 0.134, 0.0486, 0.193, 0.205], 'valence': [0.688, 0.777, 0.553, 0.44, 0.848, 0.435, 0.517, 0.789, 0.464, 0.647, 0.647, 0.76, 0.905, 0.942, 0.392, 0.494, 0.039, 0.466, 0.878, 0.163, 0.57, 0.385, 0.556, 0.322, 0.655, 0.568, 0.506, 0.479, 0.484, 0.803, 0.239, 0.39, 0.408, 0.218, 0.655, 0.763, 0.65, 0.489, 0.763, 0.267, 0.242, 0.304, 0.515, 0.452, 0.812, 0.523, 0.298, 0.317, 0.0379, 0.324, 0.758, 0.456, 0.205, 0.817, 0.35, 0.7, 0.293, 0.606, 0.82, 0.185, 0.574, 0.724, 0.703, 0.673, 0.772, 0.423, 0.102, 0.385, 0.422, 0.0447, 0.417, 0.544, 0.697, 0.357, 0.486, 0.777, 0.321, 0.634, 0.941, 0.758, 0.604, 0.697, 0.68, 0.574, 0.493, 0.871, 0.489, 0.786, 0.587, 0.6, 0.576, 0.556, 0.844, 0.7, 0.572, 0.697, 0.482, 0.749, 0.707, 0.638, 0.63, 0.473, 0.63, 0.343, 0.94, 0.785, 0.659, 0.333, 0.681, 0.498, 0.914, 0.681, 0.734, 0.684, 0.46, 0.666, 0.423, 0.794, 0.687, 0.713, 0.451, 0.847, 0.41, 0.369, 0.711, 0.698, 0.287, 0.54, 0.449, 0.28, 0.397, 0.576, 0.261, 0.231, 0.362, 0.449, 0.682, 0.396, 0.771, 0.635, 0.119, 0.248, 0.595, 0.331, 0.33, 0.927, 0.427, 0.333, 0.308, 0.356, 0.439, 0.315, 0.259, 0.539, 0.294, 0.937, 0.525, 0.488, 0.312, 0.284, 0.39, 0.673, 0.791, 0.847, 0.643, 0.624, 0.214, 0.347, 0.466, 0.783, 0.695, 0.331, 0.567, 0.317, 0.899, 0.145, 0.698, 0.95, 0.262, 0.6, 0.655, 0.694, 0.387, 0.658, 0.675, 0.548, 0.584, 0.238, 0.536, 0.236, 0.631, 0.487, 0.903, 0.73, 0.543, 0.609, 0.795, 0.825, 0.493, 0.708, 0.459, 0.833, 0.412, 0.807, 0.275, 0.579, 0.271, 0.296, 0.431, 0.778, 0.447, 0.928, 0.952, 0.223, 0.452, 0.661, 0.277, 0.673, 0.547, 0.297, 0.346, 0.533, 0.764, 0.389, 0.798, 0.882, 0.875, 0.772, 0.725, 0.81, 0.646, 0.915, 0.251, 0.812, 0.56, 0.89, 0.835, 0.399, 0.906, 0.876, 0.623, 0.984, 0.548, 0.965, 0.946, 0.716, 0.804, 0.977, 0.925, 0.89, 0.709, 0.935, 0.856, 0.587, 0.792, 0.928, 0.781, 0.967, 0.913, 0.962, 0.9, 0.851, 0.738, 0.936, 0.715, 0.754, 0.821, 0.91, 0.914, 0.946, 0.904, 0.938, 0.68, 0.973, 0.321, 0.894, 0.758, 0.757, 0.634, 0.381, 0.618, 0.941, 0.683, 0.881, 0.604, 0.895, 0.605, 0.588, 0.679, 0.649, 0.666, 0.396, 0.439, 0.492, 0.343, 0.288, 0.697, 0.576, 0.317, 0.194, 0.323, 0.847, 0.546, 0.587, 0.577, 0.886, 0.713, 0.674, 0.591, 0.638, 0.363, 0.665, 0.626, 0.758, 0.934, 0.704, 0.713, 0.912, 0.926, 0.666, 0.33, 0.515, 0.804, 0.658, 0.896, 0.901, 0.69, 0.929, 0.892, 0.708, 0.717, 0.961, 0.855, 0.966, 0.493, 0.963, 0.769, 0.909, 0.89, 0.814, 0.527, 0.866, 0.958, 0.659, 0.835, 0.939, 0.723, 0.637, 0.673, 0.892, 0.909, 0.563, 0.608, 0.814, 0.798, 0.975, 0.859, 0.8, 0.965, 0.886, 0.792, 0.717, 0.811, 0.864, 0.903, 0.73, 0.962, 0.354, 0.703, 0.744, 0.819, 0.779, 0.835, 0.914, 0.785, 0.504, 0.247, 0.152, 0.182, 0.965, 0.5, 0.828, 0.485, 0.728, 0.272, 0.772, 0.207, 0.548, 0.704, 0.726, 0.421, 0.962, 0.149, 0.137, 0.662, 0.111, 0.719, 0.754, 0.714, 0.642, 0.103, 0.437, 0.136, 0.34, 0.26, 0.528, 0.181, 0.345, 0.401, 0.962, 0.722, 0.179, 0.736, 0.825, 0.184, 0.504, 0.0909, 0.589, 0.164, 0.4, 0.49, 0.713, 0.479, 0.569, 0.442, 0.479, 0.942, 0.754, 0.623, 0.566, 0.461, 0.796, 0.44, 0.466, 0.546, 0.318, 0.478, 0.647, 0.225, 0.349, 0.633, 0.61, 0.591, 0.699, 0.702, 0.234, 0.463, 0.636, 0.262, 0.274, 0.518, 0.49, 0.942, 0.868, 0.466, 0.497, 0.606, 0.822, 0.682, 0.36, 0.309, 0.881, 0.643, 0.213, 0.545, 0.688, 0.784, 0.855, 0.575, 0.839, 0.603, 0.796, 0.499, 0.836, 0.235, 0.968, 0.324, 0.274, 0.506, 0.234, 0.404, 0.43, 0.309, 0.714, 0.342, 0.767, 0.909, 0.639, 0.502, 0.393, 0.747, 0.459, 0.695, 0.316, 0.572, 0.605, 0.29, 0.385, 0.759, 0.524, 0.801, 0.61, 0.41, 0.533, 0.359, 0.619, 0.57, 0.0773, 0.711, 0.2, 0.251, 0.329, 0.281, 0.48, 0.67, 0.214, 0.656, 0.414, 0.647, 0.761, 0.97, 0.576, 0.661, 0.405, 0.443, 0.225, 0.349, 0.687, 0.166, 0.0849, 0.533, 0.934, 0.497, 0.229, 0.399, 0.781, 0.523, 0.633, 0.822, 0.765, 0.702, 0.59, 0.461, 0.637, 0.534, 0.531, 0.774, 0.44, 0.13, 0.352, 0.881, 0.442, 0.678, 0.667, 0.262, 0.688, 0.591, 0.507, 0.816, 0.71, 0.836, 0.494, 0.478, 0.489, 0.109, 0.774, 0.61, 0.766, 0.517, 0.441, 0.685, 0.546, 0.202, 0.127], 'tempo': [97.014, 142.886, 107.061, 154.12, 82.03, 87.458, 133.876, 135.014, 117.953, 84.996, 120.027, 124.025, 127.89, 100.004, 183.968, 154.944, 81.303, 106.086, 124.75, 109.048, 180.068, 75.009, 88.058, 180.827, 74.966, 128.882, 135.019, 110.001, 120.024, 143.052, 92.062, 152.143, 113.979, 77.999, 177.948, 118.04, 86.079, 141.983, 128.021, 120.069, 62.628, 79.942, 69.93, 120.003, 124.004, 115.998, 75.104, 125.137, 115.004, 104.046, 119.984, 145.99, 78.197, 139.014, 95.025, 116.125, 125.951, 116.985, 140.955, 205.563, 93.491, 88.001, 128.084, 140.006, 159.975, 202.983, 119.967, 79.973, 79.195, 123.334, 134.998, 164.112, 124.01, 134.917, 146.076, 142.886, 91.989, 96.657, 138.038, 140.092, 128.048, 129.932, 126.041, 129.987, 156.041, 106.091, 141.983, 125.039, 140.023, 80.942, 135.023, 88.058, 143.038, 130.032, 126.033, 124.01, 163.097, 125.943, 119.853, 125.033, 111.033, 83.035, 111.005, 131.921, 129.028, 110.588, 98.983, 141.994, 140.035, 137.945, 160.029, 129.958, 134.049, 119.036, 100.036, 123.986, 91.793, 112.959, 139.977, 142.996, 109.998, 126.994, 93.014, 154.006, 143.003, 142.872, 142.685, 127.025, 105.031, 93.029, 96.008, 111.076, 120.044, 113.724, 125.044, 122.983, 75.098, 119.554, 122.093, 126.992, 168.744, 121.01, 103.045, 153.603, 76.875, 100.728, 112.566, 87.664, 99.623, 110.882, 91.363, 133.037, 83.71, 77.98, 116.004, 110.975, 117.214, 133.521, 100.202, 145.851, 98.675, 92.251, 73.997, 71.632, 173.671, 94.058, 112.784, 119.792, 82.765, 132.729, 91.948, 81.679, 115.902, 139.938, 119.994, 142.968, 91.988, 111.021, 109.992, 102.02, 102.018, 107.006, 102.99, 167.033, 114.014, 113.881, 115.019, 117.034, 97.977, 115.938, 138.117, 165.899, 121.047, 93.5, 164.15, 129.944, 179.901, 101.039, 78.024, 101.05, 137.849, 124.985, 160.197, 124.998, 116.022, 113.982, 157.705, 117.978, 112.129, 113.984, 97.958, 122.027, 126.011, 101.004, 133.127, 101.999, 124.935, 101.986, 148.064, 136.087, 120.005, 86.006, 112.014, 182.013, 184.348, 125.464, 125.135, 176.808, 120.372, 169.422, 173.982, 138.858, 131.165, 88.75, 136.918, 110.566, 158.86, 122.491, 107.233, 81.366, 144.438, 136.502, 108.873, 108.804, 115.625, 107.363, 124.092, 129.766, 128.182, 107.955, 115.043, 128.904, 130.27, 193.1, 128.993, 119.49, 108.698, 133.225, 116.625, 118.773, 125.035, 134.393, 115.636, 119.862, 124.602, 109.967, 129.893, 126.113, 113.309, 105.592, 123.815, 130.532, 112.992, 127.215, 91.989, 149.995, 140.092, 141.034, 96.657, 86.975, 84.87, 138.038, 126.002, 107.998, 128.048, 106.022, 150.119, 108.641, 125.017, 145.041, 123.986, 140.026, 132.043, 74.934, 134.919, 129.915, 129.932, 135.023, 140.054, 135.99, 148.018, 126.994, 87.981, 140.023, 122.983, 143.074, 137.997, 140.053, 99.627, 80.511, 124.011, 176.27, 137.065, 178.818, 133.103, 131.188, 128.628, 131.007, 110.051, 101.96, 121.948, 78.169, 121.82, 105.125, 122.429, 110.908, 89.018, 124.431, 109.122, 99.972, 99.909, 114.674, 116.234, 120.471, 122.787, 131.715, 119.587, 118.883, 107.955, 110.048, 120.052, 98.53, 103.612, 84.181, 117.242, 97.464, 97.136, 117.188, 121.819, 104.411, 102.8, 89.775, 110.791, 139.942, 184.348, 114.968, 120.355, 129.991, 114.95, 98.284, 83.984, 114.612, 203.206, 99.682, 118.533, 135.633, 105.853, 132.909, 119.455, 127.736, 118.679, 114.924, 129.323, 112.664, 116.879, 84.947, 74.985, 100.363, 94.485, 127.975, 94.417, 139.052, 172.247, 114.016, 105.013, 138.559, 119.695, 152.005, 159.871, 126.967, 100.99, 162.021, 90.933, 111.665, 138.185, 126.857, 144.087, 79.028, 191.869, 131.147, 76.361, 128.945, 122.316, 129.139, 109.939, 117.78, 72.847, 80.031, 109.85, 122.53, 106.03, 77.513, 99.937, 128.047, 137.268, 75.012, 176.526, 175.294, 109.018, 147.705, 157.976, 95.508, 116.035, 145.393, 130.001, 117.971, 116.032, 115.744, 106.52, 74.989, 125.947, 89.99, 185.838, 121.964, 87.981, 124.058, 169.928, 184.032, 122.935, 118.981, 119.987, 110.108, 126.026, 119.011, 100.015, 98.994, 110.048, 123.063, 120.966, 98.007, 121.004, 98.23, 122.042, 114.328, 149.931, 107.998, 122.015, 141.02, 126.05, 122.009, 104.237, 107.998, 124.08, 127.035, 110.015, 166.928, 118.004, 117.982, 174.028, 150.064, 118.016, 123.97, 127.961, 138.095, 91.433, 121.973, 109.728, 159.86, 97.009, 156.035, 168.025, 99.943, 130.061, 121.975, 139.068, 95.981, 91.805, 123.99, 137.979, 127.265, 160.009, 112.991, 120.025, 78.867, 117.958, 102.005, 109.652, 101.123, 123.922, 87.024, 147.933, 98.047, 113.988, 124.043, 90.011, 91.113, 92.539, 133.76, 82.004, 112.112, 174.645, 171.795, 100.015, 69.637, 123.994, 146.958, 106.026, 94.974, 112.016, 93.106, 113.031, 155.875, 101.999, 100.001, 104.988, 122.935, 118.981, 179.629, 122.997, 100.607, 93.005, 116.032, 107.998, 93.998, 94.995, 110.97, 120.996, 82.183, 141.02, 82.582, 100.015, 134.01, 125.947, 119.976, 174.93, 80.87, 96.033, 179.951, 141.981, 108.036, 107.998, 130.001, 140.045, 121.947, 120.966, 97.014, 126.026, 122.062, 100.897, 178.781, 138.095, 123.988, 169.928, 123.854, 120.122, 175.908, 110.108, 142.989, 133.876, 153.96, 88.063, 87.981, 88.014, 161.74], 'type': ['audio_features', 'audio_features', 'audio_features', 'audio_features', 'audio_features', 'audio_features', 'audio_features', 'audio_features', 'audio_features', 'audio_features', 'audio_features', 'audio_features', 'audio_features', 'audio_features', 'audio_features', 'audio_features', 'audio_features', 'audio_features', 'audio_features', 'audio_features', 'audio_features', 'audio_features', 'audio_features', 'audio_features', 'audio_features', 'audio_features', 'audio_features', 'audio_features', 'audio_features', 'audio_features', 'audio_features', 'audio_features', 'audio_features', 'audio_features', 'audio_features', 'audio_features', 'audio_features', 'audio_features', 'audio_features', 'audio_features', 'audio_features', 'audio_features', 'audio_features', 'audio_features', 'audio_features', 'audio_features', 'audio_features', 'audio_features', 'audio_features', 'audio_features', 'audio_features', 'audio_features', 'audio_features', 'audio_features', 'audio_features', 'audio_features', 'audio_features', 'audio_features', 'audio_features', 'audio_features', 'audio_features', 'audio_features', 'audio_features', 'audio_features', 'audio_features', 'audio_features', 'audio_features', 'audio_features', 'audio_features', 'audio_features', 'audio_features', 'audio_features', 'audio_features', 'audio_features', 'audio_features', 'audio_features', 'audio_features', 'audio_features', 'audio_features', 'audio_features', 'audio_features', 'audio_features', 'audio_features', 'audio_features', 'audio_features', 'audio_features', 'audio_features', 'audio_features', 'audio_features', 'audio_features', 'audio_features', 'audio_features', 'audio_features', 'audio_features', 'audio_features', 'audio_features', 'audio_features', 'audio_features', 'audio_features', 'audio_features', 'audio_features', 'audio_features', 'audio_features', 'audio_features', 'audio_features', 'audio_features', 'audio_features', 'audio_features', 'audio_features', 'audio_features', 'audio_features', 'audio_features', 'audio_features', 'audio_features', 'audio_features', 'audio_features', 'audio_features', 'audio_features', 'audio_features', 'audio_features', 'audio_features', 'audio_features', 'audio_features', 'audio_features', 'audio_features', 'audio_features', 'audio_features', 'audio_features', 'audio_features', 'audio_features', 'audio_features', 'audio_features', 'audio_features', 'audio_features', 'audio_features', 'audio_features', 'audio_features', 'audio_features', 'audio_features', 'audio_features', 'audio_features', 'audio_features', 'audio_features', 'audio_features', 'audio_features', 'audio_features', 'audio_features', 'audio_features', 'audio_features', 'audio_features', 'audio_features', 'audio_features', 'audio_features', 'audio_features', 'audio_features', 'audio_features', 'audio_features', 'audio_features', 'audio_features', 'audio_features', 'audio_features', 'audio_features', 'audio_features', 'audio_features', 'audio_features', 'audio_features', 'audio_features', 'audio_features', 'audio_features', 'audio_features', 'audio_features', 'audio_features', 'audio_features', 'audio_features', 'audio_features', 'audio_features', 'audio_features', 'audio_features', 'audio_features', 'audio_features', 'audio_features', 'audio_features', 'audio_features', 'audio_features', 'audio_features', 'audio_features', 'audio_features', 'audio_features', 'audio_features', 'audio_features', 'audio_features', 'audio_features', 'audio_features', 'audio_features', 'audio_features', 'audio_features', 'audio_features', 'audio_features', 'audio_features', 'audio_features', 'audio_features', 'audio_features', 'audio_features', 'audio_features', 'audio_features', 'audio_features', 'audio_features', 'audio_features', 'audio_features', 'audio_features', 'audio_features', 'audio_features', 'audio_features', 'audio_features', 'audio_features', 'audio_features', 'audio_features', 'audio_features', 'audio_features', 'audio_features', 'audio_features', 'audio_features', 'audio_features', 'audio_features', 'audio_features', 'audio_features', 'audio_features', 'audio_features', 'audio_features', 'audio_features', 'audio_features', 'audio_features', 'audio_features', 'audio_features', 'audio_features', 'audio_features', 'audio_features', 'audio_features', 'audio_features', 'audio_features', 'audio_features', 'audio_features', 'audio_features', 'audio_features', 'audio_features', 'audio_features', 'audio_features', 'audio_features', 'audio_features', 'audio_features', 'audio_features', 'audio_features', 'audio_features', 'audio_features', 'audio_features', 'audio_features', 'audio_features', 'audio_features', 'audio_features', 'audio_features', 'audio_features', 'audio_features', 'audio_features', 'audio_features', 'audio_features', 'audio_features', 'audio_features', 'audio_features', 'audio_features', 'audio_features', 'audio_features', 'audio_features', 'audio_features', 'audio_features', 'audio_features', 'audio_features', 'audio_features', 'audio_features', 'audio_features', 'audio_features', 'audio_features', 'audio_features', 'audio_features', 'audio_features', 'audio_features', 'audio_features', 'audio_features', 'audio_features', 'audio_features', 'audio_features', 'audio_features', 'audio_features', 'audio_features', 'audio_features', 'audio_features', 'audio_features', 'audio_features', 'audio_features', 'audio_features', 'audio_features', 'audio_features', 'audio_features', 'audio_features', 'audio_features', 'audio_features', 'audio_features', 'audio_features', 'audio_features', 'audio_features', 'audio_features', 'audio_features', 'audio_features', 'audio_features', 'audio_features', 'audio_features', 'audio_features', 'audio_features', 'audio_features', 'audio_features', 'audio_features', 'audio_features', 'audio_features', 'audio_features', 'audio_features', 'audio_features', 'audio_features', 'audio_features', 'audio_features', 'audio_features', 'audio_features', 'audio_features', 'audio_features', 'audio_features', 'audio_features', 'audio_features', 'audio_features', 'audio_features', 'audio_features', 'audio_features', 'audio_features', 'audio_features', 'audio_features', 'audio_features', 'audio_features', 'audio_features', 'audio_features', 'audio_features', 'audio_features', 'audio_features', 'audio_features', 'audio_features', 'audio_features', 'audio_features', 'audio_features', 'audio_features', 'audio_features', 'audio_features', 'audio_features', 'audio_features', 'audio_features', 'audio_features', 'audio_features', 'audio_features', 'audio_features', 'audio_features', 'audio_features', 'audio_features', 'audio_features', 'audio_features', 'audio_features', 'audio_features', 'audio_features', 'audio_features', 'audio_features', 'audio_features', 'audio_features', 'audio_features', 'audio_features', 'audio_features', 'audio_features', 'audio_features', 'audio_features', 'audio_features', 'audio_features', 'audio_features', 'audio_features', 'audio_features', 'audio_features', 'audio_features', 'audio_features', 'audio_features', 'audio_features', 'audio_features', 'audio_features', 'audio_features', 'audio_features', 'audio_features', 'audio_features', 'audio_features', 'audio_features', 'audio_features', 'audio_features', 'audio_features', 'audio_features', 'audio_features', 'audio_features', 'audio_features', 'audio_features', 'audio_features', 'audio_features', 'audio_features', 'audio_features', 'audio_features', 'audio_features', 'audio_features', 'audio_features', 'audio_features', 'audio_features', 'audio_features', 'audio_features', 'audio_features', 'audio_features', 'audio_features', 'audio_features', 'audio_features', 'audio_features', 'audio_features', 'audio_features', 'audio_features', 'audio_features', 'audio_features', 'audio_features', 'audio_features', 'audio_features', 'audio_features', 'audio_features', 'audio_features', 'audio_features', 'audio_features', 'audio_features', 'audio_features', 'audio_features', 'audio_features', 'audio_features', 'audio_features', 'audio_features', 'audio_features', 'audio_features', 'audio_features', 'audio_features', 'audio_features', 'audio_features', 'audio_features', 'audio_features', 'audio_features', 'audio_features', 'audio_features', 'audio_features', 'audio_features', 'audio_features', 'audio_features', 'audio_features', 'audio_features', 'audio_features', 'audio_features', 'audio_features', 'audio_features', 'audio_features', 'audio_features', 'audio_features', 'audio_features', 'audio_features', 'audio_features', 'audio_features', 'audio_features', 'audio_features', 'audio_features', 'audio_features', 'audio_features', 'audio_features', 'audio_features', 'audio_features', 'audio_features', 'audio_features', 'audio_features', 'audio_features', 'audio_features', 'audio_features', 'audio_features', 'audio_features', 'audio_features', 'audio_features', 'audio_features', 'audio_features', 'audio_features', 'audio_features', 'audio_features', 'audio_features', 'audio_features', 'audio_features', 'audio_features', 'audio_features', 'audio_features', 'audio_features', 'audio_features', 'audio_features', 'audio_features', 'audio_features', 'audio_features', 'audio_features', 'audio_features', 'audio_features', 'audio_features', 'audio_features', 'audio_features', 'audio_features', 'audio_features', 'audio_features', 'audio_features', 'audio_features', 'audio_features', 'audio_features', 'audio_features', 'audio_features', 'audio_features', 'audio_features', 'audio_features', 'audio_features', 'audio_features', 'audio_features', 'audio_features', 'audio_features', 'audio_features', 'audio_features', 'audio_features', 'audio_features', 'audio_features', 'audio_features', 'audio_features', 'audio_features', 'audio_features', 'audio_features', 'audio_features', 'audio_features', 'audio_features', 'audio_features', 'audio_features', 'audio_features', 'audio_features', 'audio_features', 'audio_features', 'audio_features', 'audio_features', 'audio_features', 'audio_features', 'audio_features', 'audio_features', 'audio_features', 'audio_features', 'audio_features', 'audio_features', 'audio_features', 'audio_features', 'audio_features', 'audio_features', 'audio_features', 'audio_features', 'audio_features', 'audio_features', 'audio_features', 'audio_features', 'audio_features', 'audio_features', 'audio_features'], 'id': ['00Blm7zeNqgYLPtW6zg8cj', '2O9enJqAqs46tfBlGhLsnW', '2JvWoj5bTklsb6fPzRfZ3x', '4R67rQNSbbsR4TdUVOIdez', '4iN16F8JtVxG2UTzp3avGl', '2QEtf4oCeJrfDeqf8rJiQK', '08SB2OtZkaliju77WYEKxk', '4H1CfsnXQonWnJeHzHuVUz', '18asYwWugKjjsihZ0YvRxO', '4SRkixF643LgySLh8owTkJ', '4MDDOpA7BwGDjYclTmCTVw', '19ZBncpk43fACvzKeqZIib', '38XLUjlR84JEwK0SOvX77a', '2u2gafIeAP55EjXhU768Zo', '4fcbxnnfUycb7fJAInJOob', '188rKyWMsC4WsKKZ85lnUO', '1544oKxSzETEcBpOKdf3de', '2lZrHFgxAdZrL0j8JvYhkc', '3RZauEkvORMeP06npyaIYa', '6RT5ir7all6RgZEAupLNlO', '2j1Os2WNkwb6KJvaiHFdUl', '280MV4FuB5uusjx8wj1dpt', '5YkXkfXWTE1pk6l2m78JnH', '0FiwMxsaV8SNBnjmZkHHra', '1mrGEef8GuaEnDdw8J5BQp', '4xD3DFKtDy9JkOOxcsTy3r', '1hkOuEeJQtDxHKBD8gJTBx', '1RBIzko2PMY5CP0d3MIkwl', '3YZdPvENFPytMyrnkRWm1B', '2BzAGK3lEZAQz5cU0Ae1wd', '2N9fGz3nPXci2w80p1lQIW', '2LnsEYFfPwk6ueO2OCBNLA', '1wAPbQ5XjbZqPl0WDl5mHH', '1pY5rVjr4BqQlJMx3S7Mmf', '1KCXEsHxKDq72C70fyM0vq', '77fRc8iT858bzRdcR4k8T8', '0CiJazqgaY4QhTNB66xfzm', '6cBvcf3JEn3NjIvaqkHkn0', '46PGzHQRAFjuVXB6fKRmDZ', '1MCvAAKHSdGhe4ZPq0YMrF', '7fdqKCfTKNv1UNwmCYHUpu', '6sb1CGojNdNMiToRfSNwzY', '5dXIrAUNLOcN2mYkCSeO3k', '38qCAgXW23GmzHG5bWhPzg', '0yPlsLJNceFwpgEiYMe0tv', '05nKsnLJGrsDwQIXAExTQt', '1kjixr3Tv9ku0HmXrDqWNH', '7GTlrFi1WMmZyLEUlRTihW', '6P5yJhVBhB0nV27SXhwTZc', '6v2ezoIqtD8UKjaQhqde6r', '6fSRCnfSfTBCbgoa6Nwhim', '4SEiKLEcOsLEtvU53N6bex', '70f71uZ7egz2Vshwx4D425', '7MwUFO1Av7sEOCUa1ULmwa', '6miahXSZE01l2lNDqNCfxQ', '3Kp4DMEXVilurnN1PBvHui', '2aDuY0WsvDlIs5KczrYFid', '7onHzHeOVE3M9p0tNKQbXc', '7pIoByp3uzkV6saBAHfG2c', '0PzcMfqECraaBGxX7zr7wV', '12e5rUktNoga7mdtziCw33', '46OKHucGhjhskazqD8tKnH', '0B8U71SDP0h9FF6xSZqftH', '6sjLKQtx6CbICWREw5tDPY', '0mPh3y1fgrZiWlhuNmPq5Y', '3fRK9qG08iZyWvqjOWkdKc', '7ytFo4I2OsaiGRhYdFGoQW', '3LBp0NzDmMXfbDbBlWD3vO', '1FOcJ48XhC9gBMyONLB2Cr', '5B6u8ImBwp0lKZXCH0tbx8', '7CtRS8xbsxUnT2ZA7uowqD', '5Cfh8D9E3CFEVj0LGjf9wU', '5oBUlWZcYKuYuuSsDeNQR7', '0Q3DprZOlvkOWlC3pmr5Mx', '1mS7CcE30VDxZAJOtgeIjA', '2O9enJqAqs46tfBlGhLsnW', '2s1lS0DxcxTB8Y6oFgVKqW', '3IR9wKWxI0TK1DLXvZq8uQ', '2kUKeN9ZpYHqfBjB8Gphb2', '27Z3UdqvdAhtJlWBMoDjBD', '14M6BbiHt2w9KHVvoIUIUF', '13tc5dzElXbImNjDzz4E2B', '19dD5F9Mu5DvraJr0f5eho', '7vX1e8Tcj1cl20HoWaDI4h', '2mIfMDTR6pNa3iWne56HGe', '2XLPtKom1ixf7IJgPsPAvp', '6cBvcf3JEn3NjIvaqkHkn0', '0igELlHJcgbgEtgsTmj9t0', '5csxKPX4HuN8UDEdHUxcqz', '3R3li8sx8AjMRI1BdmwXAf', '3bGGvbwbhq9kIMhHaXBdYL', '5YkXkfXWTE1pk6l2m78JnH', '3BFlHQD1nt7vHXmh0SswCO', '5aSLIxdiQAgfTGsqGwgivC', '3PeW31cRh8BlN7fwj6cGe9', '5oBUlWZcYKuYuuSsDeNQR7', '3eGuT5Bs8s9CGQbUxDXFzb', '2FHsE83xbrzzWusudCFpg1', '1isJQKjH3cFutccvz3jrCD', '1TO85DMVoOejzq5YMMWAkl', '5cOkUTJvuYBNV1JZ5yPWex', '72HFkyZ8MFEbplFjRO7aqA', '1H366E2OeWiWQvMj0iESzX', '67XtpHJ5S4KO8w8CllZx7I', '52Z9VzMQ91wrhnn1zefaVi', '0exjGVTPrIA5MYokrYG862', '17tejn8Dt8IDKKRknPznPD', '2D0BQfVCn6qoK77flhU7nR', '2YAgixJPrOiEZSgZMlmqqF', '48ghUr9q4ZCKTGEGzdZJlj', '2uj7OACDZUQIvAfKAwtHES', '4xJfZesfZ3UGR0v647p8Y5', '4Z1u8ZwrxBwdnFH4vibcYO', '5dxsliYJaYcDMfw5emzJer', '5cyYphxofHgRspEKNn3UTl', '62nJqZs3Qs7DGUto35dVUv', '5cZ6NaDFs0a7ZYfGpaJWEt', '5rQG0YxxAgCKpJthO0K3JQ', '58D69P1dusriq8I3t83eji', '4ZpFLXdO1Tqs12uJe4OsN7', '4cvsvY3HYBV7jJbWsHGOAh', '2vd2HEhrkafOi2uveHjzzh', '6DdPeHn2Kc5weToqPO9anJ', '57AzeYIWwAYprDXRwPjgtZ', '7BiRw4sgXQMyNx8nPltnQr', '2TitxRtrE8OLcAwcNucvmJ', '5Zn1K7j3DkB1akPiBLwKR9', '5gyhZCykUqfbjqyPzR4CVe', '6nhc3daOpKaZBRj2ZFWfc7', '1CQH9bjtrHOnbXTGL4JzT7', '0dRYCtYfllnlfDiEufuwOU', '4Am0QoksGA70r4ZdsgV2Y9', '2mKGjVCoxL8Um9GkNhhyto', '7LsJd6JUzWy3SUvy33g6yQ', '0IkK4SEryuCtbQjm5LRLMZ', '1QMSIsTV6lcLCQ9MBHTLhT', '6TTHXR7QYOUNS2gyy2OVvg', '0wRFR5cUtBNArgtw4F1rw1', '0HdA4vcTOb3XzW3L43X6sK', '10WVEHOf1FZf5XgK6dUWvN', '4fKiuIavbsoTRZ6R7xuAyT', '4SBahN5KfX1RLG9XLNIlJA', '618v3huzqDQQBfMogznSb3', '2cptaUFdsU60tdh7zRglai', '6MYNfMiLwCmA3bRdfzvfcs', '5ULRlgiSPSKTaJN1vU9yso', '2syQErCMMM1rXeZqtuaqxg', '06N4bQF7MXzLbbifGMIJZW', '29f11nLUcMYQ2Ndbnb7N0o', '3WmJIqP0Fk5OyDKFuX09li', '2AGen6RvvTNEhdNoyJEMvu', '2wcseriGAqeodDazDXgmaq', '4C4wO1Lob3kTxvqXtPJice', '6AJGPFFuC8qTWD5SP50RNh', '45SbQo5bq8f0hNdB70IyFC', '5IYKZF1nw5V0GtxQN7mspQ', '6XnmPBOZfmvRHW1BSbwugJ', '7MwnbWnZCBg1iK7uAreNhm', '5BPYhountssVohoID7bS40', '3uRyuXf29unDXTFNNXHrYl', '07X4FAhX2R6xnAwd6ToUUx', '3a8gsld8gQzvfyLfPO1LP1', '6VkmdRz8YgHFQV3ZNTJAWU', '7kVssG465tU7XWgfrseOVS', '7eoKwUoGIQSQLusZiQIvmm', '1m84zLz4WizjR4mCDoXReg', '76mnMmcrLA3Rv5JtrjvfS7', '4VHM8pHDSBnzIppLyeMyJ8', '27829SWtwhWUANViVTEpol', '2vcDl2SLudnltyDEos3v6E', '29OB96bcpEnlfbdVREAr83', '2xQeykrgmC01UqRpkrT0Zg', '47rNYq9IUveetu35c65xTw', '4zYkSXrfgJyrNkNv3mTiIZ', '4bwPVMQoabglAtg0HqiUuO', '03WMhty0KQ2ppU30LiyKy4', '6ths4lLgtobquTsQ6hM6oa', '6UWcp6ASpVIvUWX5eZMtp2', '2giJeD2J4YowE79mo8Fnqm', '2PfPIIxUiH9Y7miXqiQdqv', '7CaFGdmcY0tZev9f6zKzDR', '1QBhGI8QTvMYpp6i8FYiE0', '4mVY5qhPe2PWDvf7E2Sn0d', '1tmEnZhAhwUjzwJ7L0QFAh', '7Id3qONAw6sXE92FlfZEWI', '3KkdZgcQxYQQZQXumGO1Cy', '3UBZKE16VUDdeZj1VOPL0b', '0s1QWICdAhug2jCIZJ4QQZ', '3EpySzSXQYevKTq1glwGos', '44bUdMl0JyKxyDS4qku5SB', '6R3xtNGXOTqp8Qzuf22jaW', '6FaOW5zkj9QtfDSTeHkUCI', '3w5V2euF3wWJnZkkt0QBxq', '5toHaNWeaCf5cw9Jfn6yK4', '1yYLMVMSM2u7t1yfzAivy1', '0T9wtwG6ZJNgeqBBiGrwGK', '04EchQ81oKTRmabY8QMLsq', '6roMwL3sNdHRO2MRVmkBRn', '5kA30CMKo6wUWiINlG4YXt', '5smfgFsXaD4F510jOD0wLa', '5OSMwHdDsn4a7VBEOFACWg', '1hp6svNriVSFySA6rhsI5a', '45UT1NY9lpbJfdYp5Kdd1U', '0hLa19JP4bItkpyTjopqOb', '7tPjMXhFI1eSWUQlnlXEqy', '6YTphVWLG14d3eUiQ5grmU', '16RpNkwx8gaDyXD6duTt1l', '1LmmaY7vbIRD5qUnB507lz', '6w4Mc2Twjlm1gu6G4Qrqhd', '4km8XxyYCw5CSHM5H36K47', '5Qhf6Er2tQ71pluUxFwDqI', '7mYRC0kv4oI7ipqoPT8aXM', '053W70CWRzK053YEA8XBVW', '5mIf7UP0FEsGaGWBVjrNKP', '0O1wsXEiOMPwFSCdmpP6C0', '0Yr1TfeacyGFyDe0aWDla9', '0Jv6znEgiRN0QpJXQ9aaWA', '7GsKP7AgvqfNNJw74MhSLF', '7Fyfpwv9UUzfVUsfcoQzQt', '1BOv46ISdg4Xuv5Ou7M1cG', '7LyA1NPfCyT6mzx6MYTzFG', '3MkCJcOcLK0PaYy4QgKpWk', '2bBrRe20ZB7pJMQaNJ4nwk', '12sbRlZqz4ubIjKfft0tAk', '1ot6jEe4w4hYnsOPjd3xKQ', '4qv7YSyt5UV8LvrXyE8sGn', '1TfqLAPs4K3s2rJMoCokcS', '1jDJFeK9x3OZboIAHsY9k2', '4y1LsJpmMti1PfRQV9AWWe', '3YMTNzrRktpHDsi6OrmZNO', '2vz1CsL5WBsbpBcwgboTAw', '1OOtq8tRnDM8kG2gqUPjAj', '7o7E1nrHWncYY7PY94gCiX', '4aKIs5t9TqP59btlCGPrgw', '2IvetNzSZMH5gwjInoyr18', '7LmDmvqagpX0PKxveGtZTa', '1xPSDf8z4dH46gkvlLtvDO', '3cbV252akVZInSvJk7jAYX', '5pSvjjfsh34sLrkYSNGCl4', '5XsMz0YfEaHZE0MTb1aujs', '0cGG2EouYCEEC3xfa0tDFV', '3FlOciKDqFlTMPeC7t92Qy', '2KH16WveTQWT6KOG9Rg6e2', '4d6eqRtpDX7tydHJGDZUBQ', '4k6ktr10Hczmh55NY3LfJy', '273uCXd7NPrInaiNqtkOrA', '6A4Jc8npNo79BOgsrPptLA', '7fRvtXvJMpGfTLdF0M09a1', '2FpyKkCFIfqmp6eQx4Rn1V', '57Y3UccJEJqT8w8RWkUAz0', '0F0MA0ns8oXwGw66B2BSXm', '7INi4pMPG4IE0Smx5y4KVf', '1RSy7B2vfPi84N80QJ6frX', '6HA97v4wEGQ5TUClRM0XLc', '5zA8vzDGqPl2AzZkEYQGKh', '5tdKaKLnC4SgtDZ6RlWeal', '0uI4aw6ms90qFNawk9H9CO', '2eRmD96ncTEgQwJmXa6rrg', '5yf83IdQmCRRAHwhNtSnvD', '2olVm1lHicpveMAo4AUDRB', '3koCCeSaVUyrRo3N2gHrd8', '4WoT9wgK9o1cxBfKRWlRzx', '3m0y8qLoznUYi73SUBP8GI', '1uI848raFaNWwe9HjHpjQ5', '21qnJAMtzC6S5SESuqQLEK', '5vdp5UmvTsnMEMESIF2Ym7', '0Z7O8GMQShj9TJrm2yX1R6', '0RgLPN21aV1Ps39Tyb7268', '4uLU6hMCjMI75M1A2tKUQC', '4lRdpZYTwaPpuKpquO6bo3', '3hVrI7snZMTmHCnbwME47u', '5RLDIY4PICQWxdlLfDHNfi', '369JKykZZr1qzv9pg5zAhz', '6sT9MWlJManry3EQwf4V80', '2s1lS0DxcxTB8Y6oFgVKqW', '27NovPIUIRrOZoCHxABJwK', '27Z3UdqvdAhtJlWBMoDjBD', '4IbDTrLxImTJfZePAX2nKB', '3IR9wKWxI0TK1DLXvZq8uQ', '37Nqx7iavZpotJSDXZWbJ3', '6CyIkPh5mRkJg7T5xXynQ8', '2kUKeN9ZpYHqfBjB8Gphb2', '6D5R8LKkeTmQveLoUKrK0D', '6Uj1ctrBOjOas8xZXGqKk4', '14M6BbiHt2w9KHVvoIUIUF', '2gmTz7pHMqAk6fpOc88qxA', '7r9KkTYiFYMuNcGR4aySxh', '21AJQhGZpujjZQXByZAXpr', '0JyX9jNf4mUdp1eNUVAqyR', '5sLfmuQHJtPjSORQF2sbrJ', '62nJqZs3Qs7DGUto35dVUv', '7hU3IHwjX150XLoTVmjD0q', '1VOn2rRxe7JBweoK4SINHe', '4QAv7uyOwIgqOVgzczomOo', '6YC6zgdJog4gw0y2IyfRmR', '40uMIn2zJLAQhNXghRjBed', '13tc5dzElXbImNjDzz4E2B', '3bGGvbwbhq9kIMhHaXBdYL', '1SelxYHPb04GjUy0oYV1Jw', '25r6MZ4Gtd76l43qnZI1DG', '6Vcxzw4ifKqYxVrp3ckpVF', '2vd2HEhrkafOi2uveHjzzh', '0e8nrvls4Qqv5Rfa2UhqmO', '5csxKPX4HuN8UDEdHUxcqz', '7qezIDRM0E3WTW1lWxItug', '4PYfFHKfjYz6dwAtZhBy1z', '3EwsJXInOSrHZqSRW2UceI', '4CWcaGtaOyAqBDKIeZMUe0', '7moGDROshDKDpuQxtQ3q4m', '4XvcHTUfIlWfyJTRG0aqlo', '731JjfIII1qYfeatc3zhtU', '2Dv1CPIgX29t816ZLscdB2', '1mBdiyA2OUySEprEEOKJ6g', '06ZtJB09ab4la47q7ZcPbB', '3z1YJ16Cgv4Zuw9ETkQQ9Z', '5TUs6T93fNFvgQov6MlYkP', '6kie23fo40j9gBNWGWg5Dc', '610XWgnlPtTUXWlJ0Q3jAV', '4yQw7FR9lcvL6RHtegbJBh', '3wlLBTQWAF6DnMhraXASQ0', '3gsCAGsWr6pUm1Vy7CPPob', '1k1Bqnv2R0uJXQN4u6LKYt', '3pf96IFggfQuT6Gafqx2rt', '4QT3YKobBj4BI7xCYRLr9u', '0SzAKZYTUvDLqlPgllEb3N', '2lhs6cxLdBCzFPbNQr6Qmj', '0Eq4BMgsdV6DkLSJfX8eBt', '3WMbD1OyfKuwWDWMNbPQ4g', '5KgbyD2lQQlIupAaPjgiXg', '3kEA66ZM9mCxwhynOxgsLh', '7EIETgqBk63OdvVyIFDNKx', '50f0mt35cIwwu3Krk7nS7b', '5UcQ2g3M6Hh9gR8RmhjP9N', '2zMJN9JvDlvGP4jB03l1Bz', '1UNP66Mr3sPB3ItYt5bEUe', '6ztstiyZL6FXzh4aG46ZPD', '6tYIQpc9rX2wTBtb9Rh37K', '6GNmMC3RoZ1WiilCcukXLW', '57Y3UccJEJqT8w8RWkUAz0', '7IQMKJNcppgahjNWVPmxkl', '4vYauy3ABO65vTXggGYaZg', '1CpDrx0Q7f2Wv3tBXDMt6z', '2xSXw1EqGSAKc1e4TPaQvV', '0lwHorTzvh8D4pQaWFYqnn', '6StJLSmuKWwIfia0EUROQk', '6TYPryzyiUkxMk7PlI8k9c', '5csdrJ0JtFn0qvwlvSh2EI', '37j56IWzpplKE5zrlQRmxc', '4Af8yzidDPc520TFd4TmkE', '6pMHMzwTsWIxLigr54GGVm', '72PoJMDfdaw9gGECgA9kTZ', '4TxBGpTxrNvRNhF39Dl3NQ', '6Llr9PVC1cirKUwu7Fle83', '3zYQ1KXzqBWRsxIqdVMoYF', '1ot6jEe4w4hYnsOPjd3xKQ', '1NQFeJQOvirHNJ4lp17XUZ', '15ySyt38mBi1v4xMLRfD25', '7tqhbajSfrz2F7E1Z75ASX', '7s25THrKz86DM225dOYwnr', '38DAUnVJ0zqOdRuW7RG3sl', '5GcDAsm0vgFWsrcL4kqK6k', '3qZHUZTQiTMfJXcUYzY5mT', '34b3a3Pz9Jlz0092LMyNAB', '300RfAPZ57B0y6YYj9n6DN', '3ClOMebBxeNTYCOfTH24YJ', '5uES1C2NgkdrNHiCwf9jRr', '714hERk9U1W8FMYkoC83CO', '1JQ6Xm1JrvHfvAqhl5pwaA', '1mCI3atQyw3r8rd0icztLR', '1it9umP1j9qSqzKbSLLqqy', '6RANU8AS5ICU5PEHh8BYtH', '5qo4PkfY1ncj3NGTHDaZQF', '22ff60cZy4APp7bzESHLR8', '4N3stlRuz5cBNI4J4vDJ18', '6K4t31amVTZDgR3sKmwUJJ', '3kLVvnXLbuQuu1sanJNDjf', '7gARZ2i5u5DHC1b1n1fML5', '0bXpmJyHHYPk6QBFj25bYF', '0yc6Gst2xkRu0eMLeRMGCX', '7w87IxuO7BDcJ3YUqCyMTT', '1Bz9S9TweSbkFeXM5NdtOC', '4JHg4nNYUJQ5HULcCmI18R', '1wgqttlPacpvmX5DKVboOa', '6vECYJHxYmm3Ydt3fF01pE', '6GyFP1nfCDB8lbD2bG0Hq9', '0d28khcov6AiegSCpG5TuT', '3Ty7OTBNSigGEpeW2PqcsC', '7d23MhPFE9eB3U8DPRirnL', '0iTpQYzJnYgh7kIxyq8A2O', '15Hb4YapPuC0iNGvez2PXE', '4iG2gAwKXsOcijVaVXzRPW', '7kcy8ctwafCfiUFuBcvxpp', '6bS7DqTuzrpkluB7boWmw2', '7w5cxTEzp1rfV3KCy0Bd5N', '4dyx5SzxPPaD8xQIid5Wjj', '3RRf5KNBCzK3uxWKRAC67q', '1mvyqSb1tOvtVP1qfWEyPa', '6QgjcU0zLnzq5OrUoSZ3OK', '295WZ1UJn67ZaiQMWrSkys', '70WyPf8WtXvG3CgeTZZWz6', '1NyFRrFiJAJIaR6icj1goI', '3dYD57lRAUcMHufyqn9GcI', '0V2SavjRuimH4TIbrKyyN0', '5RoIXwyTCdyUjpMMkk4uPd', '2KOvNaMJcuaYTciDe2TmCP', '2UWdUez9MB9yzL7Y81Mcip', '24jvD83UgLmrdGjhWTFslY', '2nvZv4qatgsDIbEqqbQLUT', '244AvzGQ4Ksa5637JQu5Gy', '6xVdHfNIcWB0Bzd1obzcwj', '12pdXFcruNcPUbZypKUDgz', '6ZEaDwf50SdJzHcVSQx0vL', '3g86N0SqyfxEVNMHlmW3RE', '4c9WmjVlQMr0s1IjbYO52Z', '2xbrMtkxp399aSiCJ8EAON', '4m8ttWM8IKXyhpv89E867J', '5rAff9XfcWx7rguN3t0fkW', '6L4fEE9awoUnSEy1bmQebb', '1jy7SkRcmBCTcv4ZMtwz29', '3VPp3qrfCioIbPmp7c7Con', '3ji1o94rKqulYA4I2eDKat', '4j4pPKE3xAblPIbhxScC1j', '7vRdcsmD92oErIQDnmp60e', '2fXKyAyPrEa24c6PJyqznF', '5fwSHlTEWpluwOM0Sxnh5k', '3c8iiZGfEammKJuWTErE5x', '6zSpb8dQRaw0M1dK8PBwQz', '4ofwffwvvnbSkrMSCKQDaC', '3Iba59sFmGhQ4kbCY5L8AX', '2Z8WuEywRWYTKe1NybPQEW', '0iVkWge9ytV4Scgy2hQ2za', '4Ljs6Dvpz7Arf9Ac8RN7tn', '5FqaXHqw79ILxvJUKvOzxc', '780be5fB7823aHG06mwTat', '0e8nrvls4Qqv5Rfa2UhqmO', '2vBET2pmrQqafaS6zIaYta', '5PjdY0CKGZdEuoNab3yDmX', '77sFlmQh56N5VSBMKX7e63', '0J07ya7WC09FaQADutoBRZ', '45PF1Y3RcW5MK0jxWvhc4D', '41rOnZXVg3cLacziEBgkpW', '1058fW9H3fZA6QjYCdOBad', '6PQ88X9TkUIAUIZJHW2upE', '1gOANd4qcnkftl869IOvBu', '6IPNp9PfaEqrzotY47TIWy', '5WHTFyqSii0lmT9R21abT8', '1OWLQ4FQrO13w6ssWgP8tk', '5tf1VVWniHgryyumXyJM7w', '3uUuGVFu1V7jTQL60S1r8z', '2YWjW3wwQIBLNhxWKBQd16', '6OGogr19zPTM4BALXuMQpF', '5dyDkXi1bnQKSyIdO0JXp8', '0xfMlIW8lS40qvpsUw1l0X', '2gam98EZKrF9XuOkU13ApN', '03SEp9sXkAOAgxJtSLuVEi', '4sOjKbpa7RLZVRNxcO26eb', '5itOtNx0WxtJmi1TQ3RuRd', '75MNhvTCCKsST3YqqUiU9r', '1kPpge9JDLpcj15qgrPbYX', '5UbJD3lat3SVDDBXmf8gLc', '03aENfSuuy3VS0sbgH7u1D', '6Uj1ctrBOjOas8xZXGqKk4', '0nrRP2bk19rLc0orkWPQk2', '0mV43B6pJWRjcM5TmzNe6d', '1XGmzt0PVuFgQYYnV2It7A', '4ZtFanR9U6ndgddUvNcjcG', '2S5LNtRVRPbXk01yRQ14sZ', '0KzCNeuMVGXbnMbjX6ilCU', '49FYlytm3dAAraYgpoJZux', '7cdy4PbCdDZZNjyxoZyE0c', '7vFoFDWqTX0mHzLfrF1Cfy', '6Dy1jexKYriXAVG6evyUTJ', '1qSQ8ivU7OPqFcEO1D99vU', '3vXnuFnC5RhPGwsFi0ORcI', '7FhcGzIb6BUapFSNVwxpCq', '3HLUrzmua2lTafzu3heQZV', '3mvMxWdTEy3sNZoRUNeris', '0bPKPZ6qlfwptPL6ta6t43', '3tJljA8IkRARbsFojNbwRl', '3Fg9sxDMmWwodqI678gIwX', '41xAUseykaaSdmry5hVOkV', '6WNVFXtZyFmfosAxvisgPL', '1ncaQAHCLAOjgnceZhqYt5', '5G7ub4dl5ABYB1fYlgCJ2i', '4xSRna7VTC2qN3INhdpYmD', '3hYClPLgnc4Eu5GIU87Kkk', '303oeyQJklQReUBrszN2j2', '0QIshyPSwHWvmA2jzs2LND', '0LHDyKHY7sZfc2YLMfiJBw', '7h7wrenhCbADpRK6ItHxI0', '7ayi6LtgxUK4057CF7MCJL', '1h7LWORFpHl8qTz8xXlVYN', '76Ef208V2nkxvbvs7pzKdA', '1rp1KboJQdhF8gRKdm3Alk', '6SLZaOxvjCJ6RnpbH8imwZ', '360Xv6Pn6ENVkFD7Hcfymf', '6w5FDbVTPCk582bYwQGbDN', '6KCVVAM5j4JukdJ8BpNVjv', '4D7PndWbd8MB96lDZF3te2', '2ZSFeJu61yIbsXG2KJbcGG', '1LqvKE7xaNbACFD8GbyT4l', '4kdzLRk1pX5kTLcgoDqaQ7', '5vBKODjjr4NVPqW0sNNvr0', '3RHMz6FpEF6SHoOlk831Nh', '0ndvphNmJuUDL6JLHhMiki', '2uB3uXWY1iwknxWQ5gD2g4', '2njmoIaPd0hKIlCFtyGHUZ', '6bAaEf97dH8fzQhLPiLacp', '4GjRmJWJmEHXgH0Qdbw6Os', '4HS5UK3JioFXvHLP14ydJB', '6SBDaSKJHFlDpaFKDn4Dy7', '6U6SpEY3xhXSw9A6l4WU1N', '4iNdMRQRQ0cMunOLCPnkXQ', '0OueLn8Bd2P2XU9aX1My4Z', '1ABDYmUKWYAY7FjGKOFLyU', '2Dh8f30wYZ97NWo2NL4e8c', '7hbIay5rEvtVH9iI40vQMG', '38TKubI8iddW5RZZq4znNx', '3yv4jovrvRsUXi8LxJBzip', '2N3ft2Plv5PXRYuOBVRoqq', '1yxX9H77a40Xn1AFCru6kD', '45nOY1My3YTbbO7lAxrIGm', '0Yr1TfeacyGFyDe0aWDla9', '2dI1vNXtxBDQzJqM6cxiY0', '3FeVmId7tL5YN8B7R3imoM', '0J07ya7WC09FaQADutoBRZ', '45PF1Y3RcW5MK0jxWvhc4D', '2gQPv5jvVPqU2a9HhMNO1v', '6ngjb2Je6gEjjVOOQpWSWG', '5CZ40GBx1sQ9agT82CLQCT', '2Xr1dTzJee307rmrkt8c0g', '7rglLriMNBPAyuJOMGwi39', '4sOjKbpa7RLZVRNxcO26eb', '149BxWeweaCqmsyedkNiiE', '07MDkzWARZaLEdKxo6yArG', '3DarAbFujv6eYNliUTyqtz', '6M3PsepEj5gyJoIi7Xvr7u', '3IM7zXywZ6sRTtkRjRLxJ8', '75MNhvTCCKsST3YqqUiU9r', '7zjEyeBsaw9gV0jofJLfOM', '6IPNp9PfaEqrzotY47TIWy', '1diS6nkxMQc3wwC4G1j0bh', '0iVkWge9ytV4Scgy2hQ2za', '4qu63nuBpdn0qHUHuObEj1', '6nRSyu4oOed8HgcVxV1cWl', '3USxtqRwSYz57Ewm6wWRMp', '24OeEKPQ8qqNZnPevRHxUT', '2JPLbjOn0wPCngEot2STUS', '0gplL1WMoJ6iYaPgMCL0gX', '71qB68guEJjbvtjlkZ8DF5', '6Uj1ctrBOjOas8xZXGqKk4', '5fwSHlTEWpluwOM0Sxnh5k', '1bwhDrXcAtqePp8mNJ0pTe', '1Cx3Lpnto8xJ5dsfU3DPus', '3uUuGVFu1V7jTQL60S1r8z', '00Blm7zeNqgYLPtW6zg8cj', '6PQ88X9TkUIAUIZJHW2upE', '3eJH2nAjvNXdmPfBkALiPZ', '0fQfJFfngYfG26560HLMLN', '1SC5rEoYDGUK4NfG82494W', '3vXnuFnC5RhPGwsFi0ORcI', '0z8hI3OPS8ADPWtoCjjLl6', '5HCyWlXZPP0y6Gqq8TgA20', '46nvQpUDsxpS08UTFOeKTA', '2gpWyfu7eZ01zzncHpxOtA', '4btFHqumCO31GksfuBLLv3', '1058fW9H3fZA6QjYCdOBad', '18XlJEroUwFo0tLZxscgXE', '08SB2OtZkaliju77WYEKxk', '6I3mqTwhRpn34SLVafSH7G', '0HLhptvI8NozbOHRLNniFz', '0e8nrvls4Qqv5Rfa2UhqmO', '6RBfz4bNLNzvt37HycN1Xf', '32BeYxKPrig1LefHsC0Xuo'], 'uri': ['spotify:track:00Blm7zeNqgYLPtW6zg8cj', 'spotify:track:2O9enJqAqs46tfBlGhLsnW', 'spotify:track:2JvWoj5bTklsb6fPzRfZ3x', 'spotify:track:4R67rQNSbbsR4TdUVOIdez', 'spotify:track:4iN16F8JtVxG2UTzp3avGl', 'spotify:track:2QEtf4oCeJrfDeqf8rJiQK', 'spotify:track:08SB2OtZkaliju77WYEKxk', 'spotify:track:4H1CfsnXQonWnJeHzHuVUz', 'spotify:track:18asYwWugKjjsihZ0YvRxO', 'spotify:track:4SRkixF643LgySLh8owTkJ', 'spotify:track:4MDDOpA7BwGDjYclTmCTVw', 'spotify:track:19ZBncpk43fACvzKeqZIib', 'spotify:track:38XLUjlR84JEwK0SOvX77a', 'spotify:track:2u2gafIeAP55EjXhU768Zo', 'spotify:track:4fcbxnnfUycb7fJAInJOob', 'spotify:track:188rKyWMsC4WsKKZ85lnUO', 'spotify:track:1544oKxSzETEcBpOKdf3de', 'spotify:track:2lZrHFgxAdZrL0j8JvYhkc', 'spotify:track:3RZauEkvORMeP06npyaIYa', 'spotify:track:6RT5ir7all6RgZEAupLNlO', 'spotify:track:2j1Os2WNkwb6KJvaiHFdUl', 'spotify:track:280MV4FuB5uusjx8wj1dpt', 'spotify:track:5YkXkfXWTE1pk6l2m78JnH', 'spotify:track:0FiwMxsaV8SNBnjmZkHHra', 'spotify:track:1mrGEef8GuaEnDdw8J5BQp', 'spotify:track:4xD3DFKtDy9JkOOxcsTy3r', 'spotify:track:1hkOuEeJQtDxHKBD8gJTBx', 'spotify:track:1RBIzko2PMY5CP0d3MIkwl', 'spotify:track:3YZdPvENFPytMyrnkRWm1B', 'spotify:track:2BzAGK3lEZAQz5cU0Ae1wd', 'spotify:track:2N9fGz3nPXci2w80p1lQIW', 'spotify:track:2LnsEYFfPwk6ueO2OCBNLA', 'spotify:track:1wAPbQ5XjbZqPl0WDl5mHH', 'spotify:track:1pY5rVjr4BqQlJMx3S7Mmf', 'spotify:track:1KCXEsHxKDq72C70fyM0vq', 'spotify:track:77fRc8iT858bzRdcR4k8T8', 'spotify:track:0CiJazqgaY4QhTNB66xfzm', 'spotify:track:6cBvcf3JEn3NjIvaqkHkn0', 'spotify:track:46PGzHQRAFjuVXB6fKRmDZ', 'spotify:track:1MCvAAKHSdGhe4ZPq0YMrF', 'spotify:track:7fdqKCfTKNv1UNwmCYHUpu', 'spotify:track:6sb1CGojNdNMiToRfSNwzY', 'spotify:track:5dXIrAUNLOcN2mYkCSeO3k', 'spotify:track:38qCAgXW23GmzHG5bWhPzg', 'spotify:track:0yPlsLJNceFwpgEiYMe0tv', 'spotify:track:05nKsnLJGrsDwQIXAExTQt', 'spotify:track:1kjixr3Tv9ku0HmXrDqWNH', 'spotify:track:7GTlrFi1WMmZyLEUlRTihW', 'spotify:track:6P5yJhVBhB0nV27SXhwTZc', 'spotify:track:6v2ezoIqtD8UKjaQhqde6r', 'spotify:track:6fSRCnfSfTBCbgoa6Nwhim', 'spotify:track:4SEiKLEcOsLEtvU53N6bex', 'spotify:track:70f71uZ7egz2Vshwx4D425', 'spotify:track:7MwUFO1Av7sEOCUa1ULmwa', 'spotify:track:6miahXSZE01l2lNDqNCfxQ', 'spotify:track:3Kp4DMEXVilurnN1PBvHui', 'spotify:track:2aDuY0WsvDlIs5KczrYFid', 'spotify:track:7onHzHeOVE3M9p0tNKQbXc', 'spotify:track:7pIoByp3uzkV6saBAHfG2c', 'spotify:track:0PzcMfqECraaBGxX7zr7wV', 'spotify:track:12e5rUktNoga7mdtziCw33', 'spotify:track:46OKHucGhjhskazqD8tKnH', 'spotify:track:0B8U71SDP0h9FF6xSZqftH', 'spotify:track:6sjLKQtx6CbICWREw5tDPY', 'spotify:track:0mPh3y1fgrZiWlhuNmPq5Y', 'spotify:track:3fRK9qG08iZyWvqjOWkdKc', 'spotify:track:7ytFo4I2OsaiGRhYdFGoQW', 'spotify:track:3LBp0NzDmMXfbDbBlWD3vO', 'spotify:track:1FOcJ48XhC9gBMyONLB2Cr', 'spotify:track:5B6u8ImBwp0lKZXCH0tbx8', 'spotify:track:7CtRS8xbsxUnT2ZA7uowqD', 'spotify:track:5Cfh8D9E3CFEVj0LGjf9wU', 'spotify:track:5oBUlWZcYKuYuuSsDeNQR7', 'spotify:track:0Q3DprZOlvkOWlC3pmr5Mx', 'spotify:track:1mS7CcE30VDxZAJOtgeIjA', 'spotify:track:2O9enJqAqs46tfBlGhLsnW', 'spotify:track:2s1lS0DxcxTB8Y6oFgVKqW', 'spotify:track:3IR9wKWxI0TK1DLXvZq8uQ', 'spotify:track:2kUKeN9ZpYHqfBjB8Gphb2', 'spotify:track:27Z3UdqvdAhtJlWBMoDjBD', 'spotify:track:14M6BbiHt2w9KHVvoIUIUF', 'spotify:track:13tc5dzElXbImNjDzz4E2B', 'spotify:track:19dD5F9Mu5DvraJr0f5eho', 'spotify:track:7vX1e8Tcj1cl20HoWaDI4h', 'spotify:track:2mIfMDTR6pNa3iWne56HGe', 'spotify:track:2XLPtKom1ixf7IJgPsPAvp', 'spotify:track:6cBvcf3JEn3NjIvaqkHkn0', 'spotify:track:0igELlHJcgbgEtgsTmj9t0', 'spotify:track:5csxKPX4HuN8UDEdHUxcqz', 'spotify:track:3R3li8sx8AjMRI1BdmwXAf', 'spotify:track:3bGGvbwbhq9kIMhHaXBdYL', 'spotify:track:5YkXkfXWTE1pk6l2m78JnH', 'spotify:track:3BFlHQD1nt7vHXmh0SswCO', 'spotify:track:5aSLIxdiQAgfTGsqGwgivC', 'spotify:track:3PeW31cRh8BlN7fwj6cGe9', 'spotify:track:5oBUlWZcYKuYuuSsDeNQR7', 'spotify:track:3eGuT5Bs8s9CGQbUxDXFzb', 'spotify:track:2FHsE83xbrzzWusudCFpg1', 'spotify:track:1isJQKjH3cFutccvz3jrCD', 'spotify:track:1TO85DMVoOejzq5YMMWAkl', 'spotify:track:5cOkUTJvuYBNV1JZ5yPWex', 'spotify:track:72HFkyZ8MFEbplFjRO7aqA', 'spotify:track:1H366E2OeWiWQvMj0iESzX', 'spotify:track:67XtpHJ5S4KO8w8CllZx7I', 'spotify:track:52Z9VzMQ91wrhnn1zefaVi', 'spotify:track:0exjGVTPrIA5MYokrYG862', 'spotify:track:17tejn8Dt8IDKKRknPznPD', 'spotify:track:2D0BQfVCn6qoK77flhU7nR', 'spotify:track:2YAgixJPrOiEZSgZMlmqqF', 'spotify:track:48ghUr9q4ZCKTGEGzdZJlj', 'spotify:track:2uj7OACDZUQIvAfKAwtHES', 'spotify:track:4xJfZesfZ3UGR0v647p8Y5', 'spotify:track:4Z1u8ZwrxBwdnFH4vibcYO', 'spotify:track:5dxsliYJaYcDMfw5emzJer', 'spotify:track:5cyYphxofHgRspEKNn3UTl', 'spotify:track:62nJqZs3Qs7DGUto35dVUv', 'spotify:track:5cZ6NaDFs0a7ZYfGpaJWEt', 'spotify:track:5rQG0YxxAgCKpJthO0K3JQ', 'spotify:track:58D69P1dusriq8I3t83eji', 'spotify:track:4ZpFLXdO1Tqs12uJe4OsN7', 'spotify:track:4cvsvY3HYBV7jJbWsHGOAh', 'spotify:track:2vd2HEhrkafOi2uveHjzzh', 'spotify:track:6DdPeHn2Kc5weToqPO9anJ', 'spotify:track:57AzeYIWwAYprDXRwPjgtZ', 'spotify:track:7BiRw4sgXQMyNx8nPltnQr', 'spotify:track:2TitxRtrE8OLcAwcNucvmJ', 'spotify:track:5Zn1K7j3DkB1akPiBLwKR9', 'spotify:track:5gyhZCykUqfbjqyPzR4CVe', 'spotify:track:6nhc3daOpKaZBRj2ZFWfc7', 'spotify:track:1CQH9bjtrHOnbXTGL4JzT7', 'spotify:track:0dRYCtYfllnlfDiEufuwOU', 'spotify:track:4Am0QoksGA70r4ZdsgV2Y9', 'spotify:track:2mKGjVCoxL8Um9GkNhhyto', 'spotify:track:7LsJd6JUzWy3SUvy33g6yQ', 'spotify:track:0IkK4SEryuCtbQjm5LRLMZ', 'spotify:track:1QMSIsTV6lcLCQ9MBHTLhT', 'spotify:track:6TTHXR7QYOUNS2gyy2OVvg', 'spotify:track:0wRFR5cUtBNArgtw4F1rw1', 'spotify:track:0HdA4vcTOb3XzW3L43X6sK', 'spotify:track:10WVEHOf1FZf5XgK6dUWvN', 'spotify:track:4fKiuIavbsoTRZ6R7xuAyT', 'spotify:track:4SBahN5KfX1RLG9XLNIlJA', 'spotify:track:618v3huzqDQQBfMogznSb3', 'spotify:track:2cptaUFdsU60tdh7zRglai', 'spotify:track:6MYNfMiLwCmA3bRdfzvfcs', 'spotify:track:5ULRlgiSPSKTaJN1vU9yso', 'spotify:track:2syQErCMMM1rXeZqtuaqxg', 'spotify:track:06N4bQF7MXzLbbifGMIJZW', 'spotify:track:29f11nLUcMYQ2Ndbnb7N0o', 'spotify:track:3WmJIqP0Fk5OyDKFuX09li', 'spotify:track:2AGen6RvvTNEhdNoyJEMvu', 'spotify:track:2wcseriGAqeodDazDXgmaq', 'spotify:track:4C4wO1Lob3kTxvqXtPJice', 'spotify:track:6AJGPFFuC8qTWD5SP50RNh', 'spotify:track:45SbQo5bq8f0hNdB70IyFC', 'spotify:track:5IYKZF1nw5V0GtxQN7mspQ', 'spotify:track:6XnmPBOZfmvRHW1BSbwugJ', 'spotify:track:7MwnbWnZCBg1iK7uAreNhm', 'spotify:track:5BPYhountssVohoID7bS40', 'spotify:track:3uRyuXf29unDXTFNNXHrYl', 'spotify:track:07X4FAhX2R6xnAwd6ToUUx', 'spotify:track:3a8gsld8gQzvfyLfPO1LP1', 'spotify:track:6VkmdRz8YgHFQV3ZNTJAWU', 'spotify:track:7kVssG465tU7XWgfrseOVS', 'spotify:track:7eoKwUoGIQSQLusZiQIvmm', 'spotify:track:1m84zLz4WizjR4mCDoXReg', 'spotify:track:76mnMmcrLA3Rv5JtrjvfS7', 'spotify:track:4VHM8pHDSBnzIppLyeMyJ8', 'spotify:track:27829SWtwhWUANViVTEpol', 'spotify:track:2vcDl2SLudnltyDEos3v6E', 'spotify:track:29OB96bcpEnlfbdVREAr83', 'spotify:track:2xQeykrgmC01UqRpkrT0Zg', 'spotify:track:47rNYq9IUveetu35c65xTw', 'spotify:track:4zYkSXrfgJyrNkNv3mTiIZ', 'spotify:track:4bwPVMQoabglAtg0HqiUuO', 'spotify:track:03WMhty0KQ2ppU30LiyKy4', 'spotify:track:6ths4lLgtobquTsQ6hM6oa', 'spotify:track:6UWcp6ASpVIvUWX5eZMtp2', 'spotify:track:2giJeD2J4YowE79mo8Fnqm', 'spotify:track:2PfPIIxUiH9Y7miXqiQdqv', 'spotify:track:7CaFGdmcY0tZev9f6zKzDR', 'spotify:track:1QBhGI8QTvMYpp6i8FYiE0', 'spotify:track:4mVY5qhPe2PWDvf7E2Sn0d', 'spotify:track:1tmEnZhAhwUjzwJ7L0QFAh', 'spotify:track:7Id3qONAw6sXE92FlfZEWI', 'spotify:track:3KkdZgcQxYQQZQXumGO1Cy', 'spotify:track:3UBZKE16VUDdeZj1VOPL0b', 'spotify:track:0s1QWICdAhug2jCIZJ4QQZ', 'spotify:track:3EpySzSXQYevKTq1glwGos', 'spotify:track:44bUdMl0JyKxyDS4qku5SB', 'spotify:track:6R3xtNGXOTqp8Qzuf22jaW', 'spotify:track:6FaOW5zkj9QtfDSTeHkUCI', 'spotify:track:3w5V2euF3wWJnZkkt0QBxq', 'spotify:track:5toHaNWeaCf5cw9Jfn6yK4', 'spotify:track:1yYLMVMSM2u7t1yfzAivy1', 'spotify:track:0T9wtwG6ZJNgeqBBiGrwGK', 'spotify:track:04EchQ81oKTRmabY8QMLsq', 'spotify:track:6roMwL3sNdHRO2MRVmkBRn', 'spotify:track:5kA30CMKo6wUWiINlG4YXt', 'spotify:track:5smfgFsXaD4F510jOD0wLa', 'spotify:track:5OSMwHdDsn4a7VBEOFACWg', 'spotify:track:1hp6svNriVSFySA6rhsI5a', 'spotify:track:45UT1NY9lpbJfdYp5Kdd1U', 'spotify:track:0hLa19JP4bItkpyTjopqOb', 'spotify:track:7tPjMXhFI1eSWUQlnlXEqy', 'spotify:track:6YTphVWLG14d3eUiQ5grmU', 'spotify:track:16RpNkwx8gaDyXD6duTt1l', 'spotify:track:1LmmaY7vbIRD5qUnB507lz', 'spotify:track:6w4Mc2Twjlm1gu6G4Qrqhd', 'spotify:track:4km8XxyYCw5CSHM5H36K47', 'spotify:track:5Qhf6Er2tQ71pluUxFwDqI', 'spotify:track:7mYRC0kv4oI7ipqoPT8aXM', 'spotify:track:053W70CWRzK053YEA8XBVW', 'spotify:track:5mIf7UP0FEsGaGWBVjrNKP', 'spotify:track:0O1wsXEiOMPwFSCdmpP6C0', 'spotify:track:0Yr1TfeacyGFyDe0aWDla9', 'spotify:track:0Jv6znEgiRN0QpJXQ9aaWA', 'spotify:track:7GsKP7AgvqfNNJw74MhSLF', 'spotify:track:7Fyfpwv9UUzfVUsfcoQzQt', 'spotify:track:1BOv46ISdg4Xuv5Ou7M1cG', 'spotify:track:7LyA1NPfCyT6mzx6MYTzFG', 'spotify:track:3MkCJcOcLK0PaYy4QgKpWk', 'spotify:track:2bBrRe20ZB7pJMQaNJ4nwk', 'spotify:track:12sbRlZqz4ubIjKfft0tAk', 'spotify:track:1ot6jEe4w4hYnsOPjd3xKQ', 'spotify:track:4qv7YSyt5UV8LvrXyE8sGn', 'spotify:track:1TfqLAPs4K3s2rJMoCokcS', 'spotify:track:1jDJFeK9x3OZboIAHsY9k2', 'spotify:track:4y1LsJpmMti1PfRQV9AWWe', 'spotify:track:3YMTNzrRktpHDsi6OrmZNO', 'spotify:track:2vz1CsL5WBsbpBcwgboTAw', 'spotify:track:1OOtq8tRnDM8kG2gqUPjAj', 'spotify:track:7o7E1nrHWncYY7PY94gCiX', 'spotify:track:4aKIs5t9TqP59btlCGPrgw', 'spotify:track:2IvetNzSZMH5gwjInoyr18', 'spotify:track:7LmDmvqagpX0PKxveGtZTa', 'spotify:track:1xPSDf8z4dH46gkvlLtvDO', 'spotify:track:3cbV252akVZInSvJk7jAYX', 'spotify:track:5pSvjjfsh34sLrkYSNGCl4', 'spotify:track:5XsMz0YfEaHZE0MTb1aujs', 'spotify:track:0cGG2EouYCEEC3xfa0tDFV', 'spotify:track:3FlOciKDqFlTMPeC7t92Qy', 'spotify:track:2KH16WveTQWT6KOG9Rg6e2', 'spotify:track:4d6eqRtpDX7tydHJGDZUBQ', 'spotify:track:4k6ktr10Hczmh55NY3LfJy', 'spotify:track:273uCXd7NPrInaiNqtkOrA', 'spotify:track:6A4Jc8npNo79BOgsrPptLA', 'spotify:track:7fRvtXvJMpGfTLdF0M09a1', 'spotify:track:2FpyKkCFIfqmp6eQx4Rn1V', 'spotify:track:57Y3UccJEJqT8w8RWkUAz0', 'spotify:track:0F0MA0ns8oXwGw66B2BSXm', 'spotify:track:7INi4pMPG4IE0Smx5y4KVf', 'spotify:track:1RSy7B2vfPi84N80QJ6frX', 'spotify:track:6HA97v4wEGQ5TUClRM0XLc', 'spotify:track:5zA8vzDGqPl2AzZkEYQGKh', 'spotify:track:5tdKaKLnC4SgtDZ6RlWeal', 'spotify:track:0uI4aw6ms90qFNawk9H9CO', 'spotify:track:2eRmD96ncTEgQwJmXa6rrg', 'spotify:track:5yf83IdQmCRRAHwhNtSnvD', 'spotify:track:2olVm1lHicpveMAo4AUDRB', 'spotify:track:3koCCeSaVUyrRo3N2gHrd8', 'spotify:track:4WoT9wgK9o1cxBfKRWlRzx', 'spotify:track:3m0y8qLoznUYi73SUBP8GI', 'spotify:track:1uI848raFaNWwe9HjHpjQ5', 'spotify:track:21qnJAMtzC6S5SESuqQLEK', 'spotify:track:5vdp5UmvTsnMEMESIF2Ym7', 'spotify:track:0Z7O8GMQShj9TJrm2yX1R6', 'spotify:track:0RgLPN21aV1Ps39Tyb7268', 'spotify:track:4uLU6hMCjMI75M1A2tKUQC', 'spotify:track:4lRdpZYTwaPpuKpquO6bo3', 'spotify:track:3hVrI7snZMTmHCnbwME47u', 'spotify:track:5RLDIY4PICQWxdlLfDHNfi', 'spotify:track:369JKykZZr1qzv9pg5zAhz', 'spotify:track:6sT9MWlJManry3EQwf4V80', 'spotify:track:2s1lS0DxcxTB8Y6oFgVKqW', 'spotify:track:27NovPIUIRrOZoCHxABJwK', 'spotify:track:27Z3UdqvdAhtJlWBMoDjBD', 'spotify:track:4IbDTrLxImTJfZePAX2nKB', 'spotify:track:3IR9wKWxI0TK1DLXvZq8uQ', 'spotify:track:37Nqx7iavZpotJSDXZWbJ3', 'spotify:track:6CyIkPh5mRkJg7T5xXynQ8', 'spotify:track:2kUKeN9ZpYHqfBjB8Gphb2', 'spotify:track:6D5R8LKkeTmQveLoUKrK0D', 'spotify:track:6Uj1ctrBOjOas8xZXGqKk4', 'spotify:track:14M6BbiHt2w9KHVvoIUIUF', 'spotify:track:2gmTz7pHMqAk6fpOc88qxA', 'spotify:track:7r9KkTYiFYMuNcGR4aySxh', 'spotify:track:21AJQhGZpujjZQXByZAXpr', 'spotify:track:0JyX9jNf4mUdp1eNUVAqyR', 'spotify:track:5sLfmuQHJtPjSORQF2sbrJ', 'spotify:track:62nJqZs3Qs7DGUto35dVUv', 'spotify:track:7hU3IHwjX150XLoTVmjD0q', 'spotify:track:1VOn2rRxe7JBweoK4SINHe', 'spotify:track:4QAv7uyOwIgqOVgzczomOo', 'spotify:track:6YC6zgdJog4gw0y2IyfRmR', 'spotify:track:40uMIn2zJLAQhNXghRjBed', 'spotify:track:13tc5dzElXbImNjDzz4E2B', 'spotify:track:3bGGvbwbhq9kIMhHaXBdYL', 'spotify:track:1SelxYHPb04GjUy0oYV1Jw', 'spotify:track:25r6MZ4Gtd76l43qnZI1DG', 'spotify:track:6Vcxzw4ifKqYxVrp3ckpVF', 'spotify:track:2vd2HEhrkafOi2uveHjzzh', 'spotify:track:0e8nrvls4Qqv5Rfa2UhqmO', 'spotify:track:5csxKPX4HuN8UDEdHUxcqz', 'spotify:track:7qezIDRM0E3WTW1lWxItug', 'spotify:track:4PYfFHKfjYz6dwAtZhBy1z', 'spotify:track:3EwsJXInOSrHZqSRW2UceI', 'spotify:track:4CWcaGtaOyAqBDKIeZMUe0', 'spotify:track:7moGDROshDKDpuQxtQ3q4m', 'spotify:track:4XvcHTUfIlWfyJTRG0aqlo', 'spotify:track:731JjfIII1qYfeatc3zhtU', 'spotify:track:2Dv1CPIgX29t816ZLscdB2', 'spotify:track:1mBdiyA2OUySEprEEOKJ6g', 'spotify:track:06ZtJB09ab4la47q7ZcPbB', 'spotify:track:3z1YJ16Cgv4Zuw9ETkQQ9Z', 'spotify:track:5TUs6T93fNFvgQov6MlYkP', 'spotify:track:6kie23fo40j9gBNWGWg5Dc', 'spotify:track:610XWgnlPtTUXWlJ0Q3jAV', 'spotify:track:4yQw7FR9lcvL6RHtegbJBh', 'spotify:track:3wlLBTQWAF6DnMhraXASQ0', 'spotify:track:3gsCAGsWr6pUm1Vy7CPPob', 'spotify:track:1k1Bqnv2R0uJXQN4u6LKYt', 'spotify:track:3pf96IFggfQuT6Gafqx2rt', 'spotify:track:4QT3YKobBj4BI7xCYRLr9u', 'spotify:track:0SzAKZYTUvDLqlPgllEb3N', 'spotify:track:2lhs6cxLdBCzFPbNQr6Qmj', 'spotify:track:0Eq4BMgsdV6DkLSJfX8eBt', 'spotify:track:3WMbD1OyfKuwWDWMNbPQ4g', 'spotify:track:5KgbyD2lQQlIupAaPjgiXg', 'spotify:track:3kEA66ZM9mCxwhynOxgsLh', 'spotify:track:7EIETgqBk63OdvVyIFDNKx', 'spotify:track:50f0mt35cIwwu3Krk7nS7b', 'spotify:track:5UcQ2g3M6Hh9gR8RmhjP9N', 'spotify:track:2zMJN9JvDlvGP4jB03l1Bz', 'spotify:track:1UNP66Mr3sPB3ItYt5bEUe', 'spotify:track:6ztstiyZL6FXzh4aG46ZPD', 'spotify:track:6tYIQpc9rX2wTBtb9Rh37K', 'spotify:track:6GNmMC3RoZ1WiilCcukXLW', 'spotify:track:57Y3UccJEJqT8w8RWkUAz0', 'spotify:track:7IQMKJNcppgahjNWVPmxkl', 'spotify:track:4vYauy3ABO65vTXggGYaZg', 'spotify:track:1CpDrx0Q7f2Wv3tBXDMt6z', 'spotify:track:2xSXw1EqGSAKc1e4TPaQvV', 'spotify:track:0lwHorTzvh8D4pQaWFYqnn', 'spotify:track:6StJLSmuKWwIfia0EUROQk', 'spotify:track:6TYPryzyiUkxMk7PlI8k9c', 'spotify:track:5csdrJ0JtFn0qvwlvSh2EI', 'spotify:track:37j56IWzpplKE5zrlQRmxc', 'spotify:track:4Af8yzidDPc520TFd4TmkE', 'spotify:track:6pMHMzwTsWIxLigr54GGVm', 'spotify:track:72PoJMDfdaw9gGECgA9kTZ', 'spotify:track:4TxBGpTxrNvRNhF39Dl3NQ', 'spotify:track:6Llr9PVC1cirKUwu7Fle83', 'spotify:track:3zYQ1KXzqBWRsxIqdVMoYF', 'spotify:track:1ot6jEe4w4hYnsOPjd3xKQ', 'spotify:track:1NQFeJQOvirHNJ4lp17XUZ', 'spotify:track:15ySyt38mBi1v4xMLRfD25', 'spotify:track:7tqhbajSfrz2F7E1Z75ASX', 'spotify:track:7s25THrKz86DM225dOYwnr', 'spotify:track:38DAUnVJ0zqOdRuW7RG3sl', 'spotify:track:5GcDAsm0vgFWsrcL4kqK6k', 'spotify:track:3qZHUZTQiTMfJXcUYzY5mT', 'spotify:track:34b3a3Pz9Jlz0092LMyNAB', 'spotify:track:300RfAPZ57B0y6YYj9n6DN', 'spotify:track:3ClOMebBxeNTYCOfTH24YJ', 'spotify:track:5uES1C2NgkdrNHiCwf9jRr', 'spotify:track:714hERk9U1W8FMYkoC83CO', 'spotify:track:1JQ6Xm1JrvHfvAqhl5pwaA', 'spotify:track:1mCI3atQyw3r8rd0icztLR', 'spotify:track:1it9umP1j9qSqzKbSLLqqy', 'spotify:track:6RANU8AS5ICU5PEHh8BYtH', 'spotify:track:5qo4PkfY1ncj3NGTHDaZQF', 'spotify:track:22ff60cZy4APp7bzESHLR8', 'spotify:track:4N3stlRuz5cBNI4J4vDJ18', 'spotify:track:6K4t31amVTZDgR3sKmwUJJ', 'spotify:track:3kLVvnXLbuQuu1sanJNDjf', 'spotify:track:7gARZ2i5u5DHC1b1n1fML5', 'spotify:track:0bXpmJyHHYPk6QBFj25bYF', 'spotify:track:0yc6Gst2xkRu0eMLeRMGCX', 'spotify:track:7w87IxuO7BDcJ3YUqCyMTT', 'spotify:track:1Bz9S9TweSbkFeXM5NdtOC', 'spotify:track:4JHg4nNYUJQ5HULcCmI18R', 'spotify:track:1wgqttlPacpvmX5DKVboOa', 'spotify:track:6vECYJHxYmm3Ydt3fF01pE', 'spotify:track:6GyFP1nfCDB8lbD2bG0Hq9', 'spotify:track:0d28khcov6AiegSCpG5TuT', 'spotify:track:3Ty7OTBNSigGEpeW2PqcsC', 'spotify:track:7d23MhPFE9eB3U8DPRirnL', 'spotify:track:0iTpQYzJnYgh7kIxyq8A2O', 'spotify:track:15Hb4YapPuC0iNGvez2PXE', 'spotify:track:4iG2gAwKXsOcijVaVXzRPW', 'spotify:track:7kcy8ctwafCfiUFuBcvxpp', 'spotify:track:6bS7DqTuzrpkluB7boWmw2', 'spotify:track:7w5cxTEzp1rfV3KCy0Bd5N', 'spotify:track:4dyx5SzxPPaD8xQIid5Wjj', 'spotify:track:3RRf5KNBCzK3uxWKRAC67q', 'spotify:track:1mvyqSb1tOvtVP1qfWEyPa', 'spotify:track:6QgjcU0zLnzq5OrUoSZ3OK', 'spotify:track:295WZ1UJn67ZaiQMWrSkys', 'spotify:track:70WyPf8WtXvG3CgeTZZWz6', 'spotify:track:1NyFRrFiJAJIaR6icj1goI', 'spotify:track:3dYD57lRAUcMHufyqn9GcI', 'spotify:track:0V2SavjRuimH4TIbrKyyN0', 'spotify:track:5RoIXwyTCdyUjpMMkk4uPd', 'spotify:track:2KOvNaMJcuaYTciDe2TmCP', 'spotify:track:2UWdUez9MB9yzL7Y81Mcip', 'spotify:track:24jvD83UgLmrdGjhWTFslY', 'spotify:track:2nvZv4qatgsDIbEqqbQLUT', 'spotify:track:244AvzGQ4Ksa5637JQu5Gy', 'spotify:track:6xVdHfNIcWB0Bzd1obzcwj', 'spotify:track:12pdXFcruNcPUbZypKUDgz', 'spotify:track:6ZEaDwf50SdJzHcVSQx0vL', 'spotify:track:3g86N0SqyfxEVNMHlmW3RE', 'spotify:track:4c9WmjVlQMr0s1IjbYO52Z', 'spotify:track:2xbrMtkxp399aSiCJ8EAON', 'spotify:track:4m8ttWM8IKXyhpv89E867J', 'spotify:track:5rAff9XfcWx7rguN3t0fkW', 'spotify:track:6L4fEE9awoUnSEy1bmQebb', 'spotify:track:1jy7SkRcmBCTcv4ZMtwz29', 'spotify:track:3VPp3qrfCioIbPmp7c7Con', 'spotify:track:3ji1o94rKqulYA4I2eDKat', 'spotify:track:4j4pPKE3xAblPIbhxScC1j', 'spotify:track:7vRdcsmD92oErIQDnmp60e', 'spotify:track:2fXKyAyPrEa24c6PJyqznF', 'spotify:track:5fwSHlTEWpluwOM0Sxnh5k', 'spotify:track:3c8iiZGfEammKJuWTErE5x', 'spotify:track:6zSpb8dQRaw0M1dK8PBwQz', 'spotify:track:4ofwffwvvnbSkrMSCKQDaC', 'spotify:track:3Iba59sFmGhQ4kbCY5L8AX', 'spotify:track:2Z8WuEywRWYTKe1NybPQEW', 'spotify:track:0iVkWge9ytV4Scgy2hQ2za', 'spotify:track:4Ljs6Dvpz7Arf9Ac8RN7tn', 'spotify:track:5FqaXHqw79ILxvJUKvOzxc', 'spotify:track:780be5fB7823aHG06mwTat', 'spotify:track:0e8nrvls4Qqv5Rfa2UhqmO', 'spotify:track:2vBET2pmrQqafaS6zIaYta', 'spotify:track:5PjdY0CKGZdEuoNab3yDmX', 'spotify:track:77sFlmQh56N5VSBMKX7e63', 'spotify:track:0J07ya7WC09FaQADutoBRZ', 'spotify:track:45PF1Y3RcW5MK0jxWvhc4D', 'spotify:track:41rOnZXVg3cLacziEBgkpW', 'spotify:track:1058fW9H3fZA6QjYCdOBad', 'spotify:track:6PQ88X9TkUIAUIZJHW2upE', 'spotify:track:1gOANd4qcnkftl869IOvBu', 'spotify:track:6IPNp9PfaEqrzotY47TIWy', 'spotify:track:5WHTFyqSii0lmT9R21abT8', 'spotify:track:1OWLQ4FQrO13w6ssWgP8tk', 'spotify:track:5tf1VVWniHgryyumXyJM7w', 'spotify:track:3uUuGVFu1V7jTQL60S1r8z', 'spotify:track:2YWjW3wwQIBLNhxWKBQd16', 'spotify:track:6OGogr19zPTM4BALXuMQpF', 'spotify:track:5dyDkXi1bnQKSyIdO0JXp8', 'spotify:track:0xfMlIW8lS40qvpsUw1l0X', 'spotify:track:2gam98EZKrF9XuOkU13ApN', 'spotify:track:03SEp9sXkAOAgxJtSLuVEi', 'spotify:track:4sOjKbpa7RLZVRNxcO26eb', 'spotify:track:5itOtNx0WxtJmi1TQ3RuRd', 'spotify:track:75MNhvTCCKsST3YqqUiU9r', 'spotify:track:1kPpge9JDLpcj15qgrPbYX', 'spotify:track:5UbJD3lat3SVDDBXmf8gLc', 'spotify:track:03aENfSuuy3VS0sbgH7u1D', 'spotify:track:6Uj1ctrBOjOas8xZXGqKk4', 'spotify:track:0nrRP2bk19rLc0orkWPQk2', 'spotify:track:0mV43B6pJWRjcM5TmzNe6d', 'spotify:track:1XGmzt0PVuFgQYYnV2It7A', 'spotify:track:4ZtFanR9U6ndgddUvNcjcG', 'spotify:track:2S5LNtRVRPbXk01yRQ14sZ', 'spotify:track:0KzCNeuMVGXbnMbjX6ilCU', 'spotify:track:49FYlytm3dAAraYgpoJZux', 'spotify:track:7cdy4PbCdDZZNjyxoZyE0c', 'spotify:track:7vFoFDWqTX0mHzLfrF1Cfy', 'spotify:track:6Dy1jexKYriXAVG6evyUTJ', 'spotify:track:1qSQ8ivU7OPqFcEO1D99vU', 'spotify:track:3vXnuFnC5RhPGwsFi0ORcI', 'spotify:track:7FhcGzIb6BUapFSNVwxpCq', 'spotify:track:3HLUrzmua2lTafzu3heQZV', 'spotify:track:3mvMxWdTEy3sNZoRUNeris', 'spotify:track:0bPKPZ6qlfwptPL6ta6t43', 'spotify:track:3tJljA8IkRARbsFojNbwRl', 'spotify:track:3Fg9sxDMmWwodqI678gIwX', 'spotify:track:41xAUseykaaSdmry5hVOkV', 'spotify:track:6WNVFXtZyFmfosAxvisgPL', 'spotify:track:1ncaQAHCLAOjgnceZhqYt5', 'spotify:track:5G7ub4dl5ABYB1fYlgCJ2i', 'spotify:track:4xSRna7VTC2qN3INhdpYmD', 'spotify:track:3hYClPLgnc4Eu5GIU87Kkk', 'spotify:track:303oeyQJklQReUBrszN2j2', 'spotify:track:0QIshyPSwHWvmA2jzs2LND', 'spotify:track:0LHDyKHY7sZfc2YLMfiJBw', 'spotify:track:7h7wrenhCbADpRK6ItHxI0', 'spotify:track:7ayi6LtgxUK4057CF7MCJL', 'spotify:track:1h7LWORFpHl8qTz8xXlVYN', 'spotify:track:76Ef208V2nkxvbvs7pzKdA', 'spotify:track:1rp1KboJQdhF8gRKdm3Alk', 'spotify:track:6SLZaOxvjCJ6RnpbH8imwZ', 'spotify:track:360Xv6Pn6ENVkFD7Hcfymf', 'spotify:track:6w5FDbVTPCk582bYwQGbDN', 'spotify:track:6KCVVAM5j4JukdJ8BpNVjv', 'spotify:track:4D7PndWbd8MB96lDZF3te2', 'spotify:track:2ZSFeJu61yIbsXG2KJbcGG', 'spotify:track:1LqvKE7xaNbACFD8GbyT4l', 'spotify:track:4kdzLRk1pX5kTLcgoDqaQ7', 'spotify:track:5vBKODjjr4NVPqW0sNNvr0', 'spotify:track:3RHMz6FpEF6SHoOlk831Nh', 'spotify:track:0ndvphNmJuUDL6JLHhMiki', 'spotify:track:2uB3uXWY1iwknxWQ5gD2g4', 'spotify:track:2njmoIaPd0hKIlCFtyGHUZ', 'spotify:track:6bAaEf97dH8fzQhLPiLacp', 'spotify:track:4GjRmJWJmEHXgH0Qdbw6Os', 'spotify:track:4HS5UK3JioFXvHLP14ydJB', 'spotify:track:6SBDaSKJHFlDpaFKDn4Dy7', 'spotify:track:6U6SpEY3xhXSw9A6l4WU1N', 'spotify:track:4iNdMRQRQ0cMunOLCPnkXQ', 'spotify:track:0OueLn8Bd2P2XU9aX1My4Z', 'spotify:track:1ABDYmUKWYAY7FjGKOFLyU', 'spotify:track:2Dh8f30wYZ97NWo2NL4e8c', 'spotify:track:7hbIay5rEvtVH9iI40vQMG', 'spotify:track:38TKubI8iddW5RZZq4znNx', 'spotify:track:3yv4jovrvRsUXi8LxJBzip', 'spotify:track:2N3ft2Plv5PXRYuOBVRoqq', 'spotify:track:1yxX9H77a40Xn1AFCru6kD', 'spotify:track:45nOY1My3YTbbO7lAxrIGm', 'spotify:track:0Yr1TfeacyGFyDe0aWDla9', 'spotify:track:2dI1vNXtxBDQzJqM6cxiY0', 'spotify:track:3FeVmId7tL5YN8B7R3imoM', 'spotify:track:0J07ya7WC09FaQADutoBRZ', 'spotify:track:45PF1Y3RcW5MK0jxWvhc4D', 'spotify:track:2gQPv5jvVPqU2a9HhMNO1v', 'spotify:track:6ngjb2Je6gEjjVOOQpWSWG', 'spotify:track:5CZ40GBx1sQ9agT82CLQCT', 'spotify:track:2Xr1dTzJee307rmrkt8c0g', 'spotify:track:7rglLriMNBPAyuJOMGwi39', 'spotify:track:4sOjKbpa7RLZVRNxcO26eb', 'spotify:track:149BxWeweaCqmsyedkNiiE', 'spotify:track:07MDkzWARZaLEdKxo6yArG', 'spotify:track:3DarAbFujv6eYNliUTyqtz', 'spotify:track:6M3PsepEj5gyJoIi7Xvr7u', 'spotify:track:3IM7zXywZ6sRTtkRjRLxJ8', 'spotify:track:75MNhvTCCKsST3YqqUiU9r', 'spotify:track:7zjEyeBsaw9gV0jofJLfOM', 'spotify:track:6IPNp9PfaEqrzotY47TIWy', 'spotify:track:1diS6nkxMQc3wwC4G1j0bh', 'spotify:track:0iVkWge9ytV4Scgy2hQ2za', 'spotify:track:4qu63nuBpdn0qHUHuObEj1', 'spotify:track:6nRSyu4oOed8HgcVxV1cWl', 'spotify:track:3USxtqRwSYz57Ewm6wWRMp', 'spotify:track:24OeEKPQ8qqNZnPevRHxUT', 'spotify:track:2JPLbjOn0wPCngEot2STUS', 'spotify:track:0gplL1WMoJ6iYaPgMCL0gX', 'spotify:track:71qB68guEJjbvtjlkZ8DF5', 'spotify:track:6Uj1ctrBOjOas8xZXGqKk4', 'spotify:track:5fwSHlTEWpluwOM0Sxnh5k', 'spotify:track:1bwhDrXcAtqePp8mNJ0pTe', 'spotify:track:1Cx3Lpnto8xJ5dsfU3DPus', 'spotify:track:3uUuGVFu1V7jTQL60S1r8z', 'spotify:track:00Blm7zeNqgYLPtW6zg8cj', 'spotify:track:6PQ88X9TkUIAUIZJHW2upE', 'spotify:track:3eJH2nAjvNXdmPfBkALiPZ', 'spotify:track:0fQfJFfngYfG26560HLMLN', 'spotify:track:1SC5rEoYDGUK4NfG82494W', 'spotify:track:3vXnuFnC5RhPGwsFi0ORcI', 'spotify:track:0z8hI3OPS8ADPWtoCjjLl6', 'spotify:track:5HCyWlXZPP0y6Gqq8TgA20', 'spotify:track:46nvQpUDsxpS08UTFOeKTA', 'spotify:track:2gpWyfu7eZ01zzncHpxOtA', 'spotify:track:4btFHqumCO31GksfuBLLv3', 'spotify:track:1058fW9H3fZA6QjYCdOBad', 'spotify:track:18XlJEroUwFo0tLZxscgXE', 'spotify:track:08SB2OtZkaliju77WYEKxk', 'spotify:track:6I3mqTwhRpn34SLVafSH7G', 'spotify:track:0HLhptvI8NozbOHRLNniFz', 'spotify:track:0e8nrvls4Qqv5Rfa2UhqmO', 'spotify:track:6RBfz4bNLNzvt37HycN1Xf', 'spotify:track:32BeYxKPrig1LefHsC0Xuo'], 'track_href': ['https://api.spotify.com/v1/tracks/00Blm7zeNqgYLPtW6zg8cj', 'https://api.spotify.com/v1/tracks/2O9enJqAqs46tfBlGhLsnW', 'https://api.spotify.com/v1/tracks/2JvWoj5bTklsb6fPzRfZ3x', 'https://api.spotify.com/v1/tracks/4R67rQNSbbsR4TdUVOIdez', 'https://api.spotify.com/v1/tracks/4iN16F8JtVxG2UTzp3avGl', 'https://api.spotify.com/v1/tracks/2QEtf4oCeJrfDeqf8rJiQK', 'https://api.spotify.com/v1/tracks/08SB2OtZkaliju77WYEKxk', 'https://api.spotify.com/v1/tracks/4H1CfsnXQonWnJeHzHuVUz', 'https://api.spotify.com/v1/tracks/18asYwWugKjjsihZ0YvRxO', 'https://api.spotify.com/v1/tracks/4SRkixF643LgySLh8owTkJ', 'https://api.spotify.com/v1/tracks/4MDDOpA7BwGDjYclTmCTVw', 'https://api.spotify.com/v1/tracks/19ZBncpk43fACvzKeqZIib', 'https://api.spotify.com/v1/tracks/38XLUjlR84JEwK0SOvX77a', 'https://api.spotify.com/v1/tracks/2u2gafIeAP55EjXhU768Zo', 'https://api.spotify.com/v1/tracks/4fcbxnnfUycb7fJAInJOob', 'https://api.spotify.com/v1/tracks/188rKyWMsC4WsKKZ85lnUO', 'https://api.spotify.com/v1/tracks/1544oKxSzETEcBpOKdf3de', 'https://api.spotify.com/v1/tracks/2lZrHFgxAdZrL0j8JvYhkc', 'https://api.spotify.com/v1/tracks/3RZauEkvORMeP06npyaIYa', 'https://api.spotify.com/v1/tracks/6RT5ir7all6RgZEAupLNlO', 'https://api.spotify.com/v1/tracks/2j1Os2WNkwb6KJvaiHFdUl', 'https://api.spotify.com/v1/tracks/280MV4FuB5uusjx8wj1dpt', 'https://api.spotify.com/v1/tracks/5YkXkfXWTE1pk6l2m78JnH', 'https://api.spotify.com/v1/tracks/0FiwMxsaV8SNBnjmZkHHra', 'https://api.spotify.com/v1/tracks/1mrGEef8GuaEnDdw8J5BQp', 'https://api.spotify.com/v1/tracks/4xD3DFKtDy9JkOOxcsTy3r', 'https://api.spotify.com/v1/tracks/1hkOuEeJQtDxHKBD8gJTBx', 'https://api.spotify.com/v1/tracks/1RBIzko2PMY5CP0d3MIkwl', 'https://api.spotify.com/v1/tracks/3YZdPvENFPytMyrnkRWm1B', 'https://api.spotify.com/v1/tracks/2BzAGK3lEZAQz5cU0Ae1wd', 'https://api.spotify.com/v1/tracks/2N9fGz3nPXci2w80p1lQIW', 'https://api.spotify.com/v1/tracks/2LnsEYFfPwk6ueO2OCBNLA', 'https://api.spotify.com/v1/tracks/1wAPbQ5XjbZqPl0WDl5mHH', 'https://api.spotify.com/v1/tracks/1pY5rVjr4BqQlJMx3S7Mmf', 'https://api.spotify.com/v1/tracks/1KCXEsHxKDq72C70fyM0vq', 'https://api.spotify.com/v1/tracks/77fRc8iT858bzRdcR4k8T8', 'https://api.spotify.com/v1/tracks/0CiJazqgaY4QhTNB66xfzm', 'https://api.spotify.com/v1/tracks/6cBvcf3JEn3NjIvaqkHkn0', 'https://api.spotify.com/v1/tracks/46PGzHQRAFjuVXB6fKRmDZ', 'https://api.spotify.com/v1/tracks/1MCvAAKHSdGhe4ZPq0YMrF', 'https://api.spotify.com/v1/tracks/7fdqKCfTKNv1UNwmCYHUpu', 'https://api.spotify.com/v1/tracks/6sb1CGojNdNMiToRfSNwzY', 'https://api.spotify.com/v1/tracks/5dXIrAUNLOcN2mYkCSeO3k', 'https://api.spotify.com/v1/tracks/38qCAgXW23GmzHG5bWhPzg', 'https://api.spotify.com/v1/tracks/0yPlsLJNceFwpgEiYMe0tv', 'https://api.spotify.com/v1/tracks/05nKsnLJGrsDwQIXAExTQt', 'https://api.spotify.com/v1/tracks/1kjixr3Tv9ku0HmXrDqWNH', 'https://api.spotify.com/v1/tracks/7GTlrFi1WMmZyLEUlRTihW', 'https://api.spotify.com/v1/tracks/6P5yJhVBhB0nV27SXhwTZc', 'https://api.spotify.com/v1/tracks/6v2ezoIqtD8UKjaQhqde6r', 'https://api.spotify.com/v1/tracks/6fSRCnfSfTBCbgoa6Nwhim', 'https://api.spotify.com/v1/tracks/4SEiKLEcOsLEtvU53N6bex', 'https://api.spotify.com/v1/tracks/70f71uZ7egz2Vshwx4D425', 'https://api.spotify.com/v1/tracks/7MwUFO1Av7sEOCUa1ULmwa', 'https://api.spotify.com/v1/tracks/6miahXSZE01l2lNDqNCfxQ', 'https://api.spotify.com/v1/tracks/3Kp4DMEXVilurnN1PBvHui', 'https://api.spotify.com/v1/tracks/2aDuY0WsvDlIs5KczrYFid', 'https://api.spotify.com/v1/tracks/7onHzHeOVE3M9p0tNKQbXc', 'https://api.spotify.com/v1/tracks/7pIoByp3uzkV6saBAHfG2c', 'https://api.spotify.com/v1/tracks/0PzcMfqECraaBGxX7zr7wV', 'https://api.spotify.com/v1/tracks/12e5rUktNoga7mdtziCw33', 'https://api.spotify.com/v1/tracks/46OKHucGhjhskazqD8tKnH', 'https://api.spotify.com/v1/tracks/0B8U71SDP0h9FF6xSZqftH', 'https://api.spotify.com/v1/tracks/6sjLKQtx6CbICWREw5tDPY', 'https://api.spotify.com/v1/tracks/0mPh3y1fgrZiWlhuNmPq5Y', 'https://api.spotify.com/v1/tracks/3fRK9qG08iZyWvqjOWkdKc', 'https://api.spotify.com/v1/tracks/7ytFo4I2OsaiGRhYdFGoQW', 'https://api.spotify.com/v1/tracks/3LBp0NzDmMXfbDbBlWD3vO', 'https://api.spotify.com/v1/tracks/1FOcJ48XhC9gBMyONLB2Cr', 'https://api.spotify.com/v1/tracks/5B6u8ImBwp0lKZXCH0tbx8', 'https://api.spotify.com/v1/tracks/7CtRS8xbsxUnT2ZA7uowqD', 'https://api.spotify.com/v1/tracks/5Cfh8D9E3CFEVj0LGjf9wU', 'https://api.spotify.com/v1/tracks/5oBUlWZcYKuYuuSsDeNQR7', 'https://api.spotify.com/v1/tracks/0Q3DprZOlvkOWlC3pmr5Mx', 'https://api.spotify.com/v1/tracks/1mS7CcE30VDxZAJOtgeIjA', 'https://api.spotify.com/v1/tracks/2O9enJqAqs46tfBlGhLsnW', 'https://api.spotify.com/v1/tracks/2s1lS0DxcxTB8Y6oFgVKqW', 'https://api.spotify.com/v1/tracks/3IR9wKWxI0TK1DLXvZq8uQ', 'https://api.spotify.com/v1/tracks/2kUKeN9ZpYHqfBjB8Gphb2', 'https://api.spotify.com/v1/tracks/27Z3UdqvdAhtJlWBMoDjBD', 'https://api.spotify.com/v1/tracks/14M6BbiHt2w9KHVvoIUIUF', 'https://api.spotify.com/v1/tracks/13tc5dzElXbImNjDzz4E2B', 'https://api.spotify.com/v1/tracks/19dD5F9Mu5DvraJr0f5eho', 'https://api.spotify.com/v1/tracks/7vX1e8Tcj1cl20HoWaDI4h', 'https://api.spotify.com/v1/tracks/2mIfMDTR6pNa3iWne56HGe', 'https://api.spotify.com/v1/tracks/2XLPtKom1ixf7IJgPsPAvp', 'https://api.spotify.com/v1/tracks/6cBvcf3JEn3NjIvaqkHkn0', 'https://api.spotify.com/v1/tracks/0igELlHJcgbgEtgsTmj9t0', 'https://api.spotify.com/v1/tracks/5csxKPX4HuN8UDEdHUxcqz', 'https://api.spotify.com/v1/tracks/3R3li8sx8AjMRI1BdmwXAf', 'https://api.spotify.com/v1/tracks/3bGGvbwbhq9kIMhHaXBdYL', 'https://api.spotify.com/v1/tracks/5YkXkfXWTE1pk6l2m78JnH', 'https://api.spotify.com/v1/tracks/3BFlHQD1nt7vHXmh0SswCO', 'https://api.spotify.com/v1/tracks/5aSLIxdiQAgfTGsqGwgivC', 'https://api.spotify.com/v1/tracks/3PeW31cRh8BlN7fwj6cGe9', 'https://api.spotify.com/v1/tracks/5oBUlWZcYKuYuuSsDeNQR7', 'https://api.spotify.com/v1/tracks/3eGuT5Bs8s9CGQbUxDXFzb', 'https://api.spotify.com/v1/tracks/2FHsE83xbrzzWusudCFpg1', 'https://api.spotify.com/v1/tracks/1isJQKjH3cFutccvz3jrCD', 'https://api.spotify.com/v1/tracks/1TO85DMVoOejzq5YMMWAkl', 'https://api.spotify.com/v1/tracks/5cOkUTJvuYBNV1JZ5yPWex', 'https://api.spotify.com/v1/tracks/72HFkyZ8MFEbplFjRO7aqA', 'https://api.spotify.com/v1/tracks/1H366E2OeWiWQvMj0iESzX', 'https://api.spotify.com/v1/tracks/67XtpHJ5S4KO8w8CllZx7I', 'https://api.spotify.com/v1/tracks/52Z9VzMQ91wrhnn1zefaVi', 'https://api.spotify.com/v1/tracks/0exjGVTPrIA5MYokrYG862', 'https://api.spotify.com/v1/tracks/17tejn8Dt8IDKKRknPznPD', 'https://api.spotify.com/v1/tracks/2D0BQfVCn6qoK77flhU7nR', 'https://api.spotify.com/v1/tracks/2YAgixJPrOiEZSgZMlmqqF', 'https://api.spotify.com/v1/tracks/48ghUr9q4ZCKTGEGzdZJlj', 'https://api.spotify.com/v1/tracks/2uj7OACDZUQIvAfKAwtHES', 'https://api.spotify.com/v1/tracks/4xJfZesfZ3UGR0v647p8Y5', 'https://api.spotify.com/v1/tracks/4Z1u8ZwrxBwdnFH4vibcYO', 'https://api.spotify.com/v1/tracks/5dxsliYJaYcDMfw5emzJer', 'https://api.spotify.com/v1/tracks/5cyYphxofHgRspEKNn3UTl', 'https://api.spotify.com/v1/tracks/62nJqZs3Qs7DGUto35dVUv', 'https://api.spotify.com/v1/tracks/5cZ6NaDFs0a7ZYfGpaJWEt', 'https://api.spotify.com/v1/tracks/5rQG0YxxAgCKpJthO0K3JQ', 'https://api.spotify.com/v1/tracks/58D69P1dusriq8I3t83eji', 'https://api.spotify.com/v1/tracks/4ZpFLXdO1Tqs12uJe4OsN7', 'https://api.spotify.com/v1/tracks/4cvsvY3HYBV7jJbWsHGOAh', 'https://api.spotify.com/v1/tracks/2vd2HEhrkafOi2uveHjzzh', 'https://api.spotify.com/v1/tracks/6DdPeHn2Kc5weToqPO9anJ', 'https://api.spotify.com/v1/tracks/57AzeYIWwAYprDXRwPjgtZ', 'https://api.spotify.com/v1/tracks/7BiRw4sgXQMyNx8nPltnQr', 'https://api.spotify.com/v1/tracks/2TitxRtrE8OLcAwcNucvmJ', 'https://api.spotify.com/v1/tracks/5Zn1K7j3DkB1akPiBLwKR9', 'https://api.spotify.com/v1/tracks/5gyhZCykUqfbjqyPzR4CVe', 'https://api.spotify.com/v1/tracks/6nhc3daOpKaZBRj2ZFWfc7', 'https://api.spotify.com/v1/tracks/1CQH9bjtrHOnbXTGL4JzT7', 'https://api.spotify.com/v1/tracks/0dRYCtYfllnlfDiEufuwOU', 'https://api.spotify.com/v1/tracks/4Am0QoksGA70r4ZdsgV2Y9', 'https://api.spotify.com/v1/tracks/2mKGjVCoxL8Um9GkNhhyto', 'https://api.spotify.com/v1/tracks/7LsJd6JUzWy3SUvy33g6yQ', 'https://api.spotify.com/v1/tracks/0IkK4SEryuCtbQjm5LRLMZ', 'https://api.spotify.com/v1/tracks/1QMSIsTV6lcLCQ9MBHTLhT', 'https://api.spotify.com/v1/tracks/6TTHXR7QYOUNS2gyy2OVvg', 'https://api.spotify.com/v1/tracks/0wRFR5cUtBNArgtw4F1rw1', 'https://api.spotify.com/v1/tracks/0HdA4vcTOb3XzW3L43X6sK', 'https://api.spotify.com/v1/tracks/10WVEHOf1FZf5XgK6dUWvN', 'https://api.spotify.com/v1/tracks/4fKiuIavbsoTRZ6R7xuAyT', 'https://api.spotify.com/v1/tracks/4SBahN5KfX1RLG9XLNIlJA', 'https://api.spotify.com/v1/tracks/618v3huzqDQQBfMogznSb3', 'https://api.spotify.com/v1/tracks/2cptaUFdsU60tdh7zRglai', 'https://api.spotify.com/v1/tracks/6MYNfMiLwCmA3bRdfzvfcs', 'https://api.spotify.com/v1/tracks/5ULRlgiSPSKTaJN1vU9yso', 'https://api.spotify.com/v1/tracks/2syQErCMMM1rXeZqtuaqxg', 'https://api.spotify.com/v1/tracks/06N4bQF7MXzLbbifGMIJZW', 'https://api.spotify.com/v1/tracks/29f11nLUcMYQ2Ndbnb7N0o', 'https://api.spotify.com/v1/tracks/3WmJIqP0Fk5OyDKFuX09li', 'https://api.spotify.com/v1/tracks/2AGen6RvvTNEhdNoyJEMvu', 'https://api.spotify.com/v1/tracks/2wcseriGAqeodDazDXgmaq', 'https://api.spotify.com/v1/tracks/4C4wO1Lob3kTxvqXtPJice', 'https://api.spotify.com/v1/tracks/6AJGPFFuC8qTWD5SP50RNh', 'https://api.spotify.com/v1/tracks/45SbQo5bq8f0hNdB70IyFC', 'https://api.spotify.com/v1/tracks/5IYKZF1nw5V0GtxQN7mspQ', 'https://api.spotify.com/v1/tracks/6XnmPBOZfmvRHW1BSbwugJ', 'https://api.spotify.com/v1/tracks/7MwnbWnZCBg1iK7uAreNhm', 'https://api.spotify.com/v1/tracks/5BPYhountssVohoID7bS40', 'https://api.spotify.com/v1/tracks/3uRyuXf29unDXTFNNXHrYl', 'https://api.spotify.com/v1/tracks/07X4FAhX2R6xnAwd6ToUUx', 'https://api.spotify.com/v1/tracks/3a8gsld8gQzvfyLfPO1LP1', 'https://api.spotify.com/v1/tracks/6VkmdRz8YgHFQV3ZNTJAWU', 'https://api.spotify.com/v1/tracks/7kVssG465tU7XWgfrseOVS', 'https://api.spotify.com/v1/tracks/7eoKwUoGIQSQLusZiQIvmm', 'https://api.spotify.com/v1/tracks/1m84zLz4WizjR4mCDoXReg', 'https://api.spotify.com/v1/tracks/76mnMmcrLA3Rv5JtrjvfS7', 'https://api.spotify.com/v1/tracks/4VHM8pHDSBnzIppLyeMyJ8', 'https://api.spotify.com/v1/tracks/27829SWtwhWUANViVTEpol', 'https://api.spotify.com/v1/tracks/2vcDl2SLudnltyDEos3v6E', 'https://api.spotify.com/v1/tracks/29OB96bcpEnlfbdVREAr83', 'https://api.spotify.com/v1/tracks/2xQeykrgmC01UqRpkrT0Zg', 'https://api.spotify.com/v1/tracks/47rNYq9IUveetu35c65xTw', 'https://api.spotify.com/v1/tracks/4zYkSXrfgJyrNkNv3mTiIZ', 'https://api.spotify.com/v1/tracks/4bwPVMQoabglAtg0HqiUuO', 'https://api.spotify.com/v1/tracks/03WMhty0KQ2ppU30LiyKy4', 'https://api.spotify.com/v1/tracks/6ths4lLgtobquTsQ6hM6oa', 'https://api.spotify.com/v1/tracks/6UWcp6ASpVIvUWX5eZMtp2', 'https://api.spotify.com/v1/tracks/2giJeD2J4YowE79mo8Fnqm', 'https://api.spotify.com/v1/tracks/2PfPIIxUiH9Y7miXqiQdqv', 'https://api.spotify.com/v1/tracks/7CaFGdmcY0tZev9f6zKzDR', 'https://api.spotify.com/v1/tracks/1QBhGI8QTvMYpp6i8FYiE0', 'https://api.spotify.com/v1/tracks/4mVY5qhPe2PWDvf7E2Sn0d', 'https://api.spotify.com/v1/tracks/1tmEnZhAhwUjzwJ7L0QFAh', 'https://api.spotify.com/v1/tracks/7Id3qONAw6sXE92FlfZEWI', 'https://api.spotify.com/v1/tracks/3KkdZgcQxYQQZQXumGO1Cy', 'https://api.spotify.com/v1/tracks/3UBZKE16VUDdeZj1VOPL0b', 'https://api.spotify.com/v1/tracks/0s1QWICdAhug2jCIZJ4QQZ', 'https://api.spotify.com/v1/tracks/3EpySzSXQYevKTq1glwGos', 'https://api.spotify.com/v1/tracks/44bUdMl0JyKxyDS4qku5SB', 'https://api.spotify.com/v1/tracks/6R3xtNGXOTqp8Qzuf22jaW', 'https://api.spotify.com/v1/tracks/6FaOW5zkj9QtfDSTeHkUCI', 'https://api.spotify.com/v1/tracks/3w5V2euF3wWJnZkkt0QBxq', 'https://api.spotify.com/v1/tracks/5toHaNWeaCf5cw9Jfn6yK4', 'https://api.spotify.com/v1/tracks/1yYLMVMSM2u7t1yfzAivy1', 'https://api.spotify.com/v1/tracks/0T9wtwG6ZJNgeqBBiGrwGK', 'https://api.spotify.com/v1/tracks/04EchQ81oKTRmabY8QMLsq', 'https://api.spotify.com/v1/tracks/6roMwL3sNdHRO2MRVmkBRn', 'https://api.spotify.com/v1/tracks/5kA30CMKo6wUWiINlG4YXt', 'https://api.spotify.com/v1/tracks/5smfgFsXaD4F510jOD0wLa', 'https://api.spotify.com/v1/tracks/5OSMwHdDsn4a7VBEOFACWg', 'https://api.spotify.com/v1/tracks/1hp6svNriVSFySA6rhsI5a', 'https://api.spotify.com/v1/tracks/45UT1NY9lpbJfdYp5Kdd1U', 'https://api.spotify.com/v1/tracks/0hLa19JP4bItkpyTjopqOb', 'https://api.spotify.com/v1/tracks/7tPjMXhFI1eSWUQlnlXEqy', 'https://api.spotify.com/v1/tracks/6YTphVWLG14d3eUiQ5grmU', 'https://api.spotify.com/v1/tracks/16RpNkwx8gaDyXD6duTt1l', 'https://api.spotify.com/v1/tracks/1LmmaY7vbIRD5qUnB507lz', 'https://api.spotify.com/v1/tracks/6w4Mc2Twjlm1gu6G4Qrqhd', 'https://api.spotify.com/v1/tracks/4km8XxyYCw5CSHM5H36K47', 'https://api.spotify.com/v1/tracks/5Qhf6Er2tQ71pluUxFwDqI', 'https://api.spotify.com/v1/tracks/7mYRC0kv4oI7ipqoPT8aXM', 'https://api.spotify.com/v1/tracks/053W70CWRzK053YEA8XBVW', 'https://api.spotify.com/v1/tracks/5mIf7UP0FEsGaGWBVjrNKP', 'https://api.spotify.com/v1/tracks/0O1wsXEiOMPwFSCdmpP6C0', 'https://api.spotify.com/v1/tracks/0Yr1TfeacyGFyDe0aWDla9', 'https://api.spotify.com/v1/tracks/0Jv6znEgiRN0QpJXQ9aaWA', 'https://api.spotify.com/v1/tracks/7GsKP7AgvqfNNJw74MhSLF', 'https://api.spotify.com/v1/tracks/7Fyfpwv9UUzfVUsfcoQzQt', 'https://api.spotify.com/v1/tracks/1BOv46ISdg4Xuv5Ou7M1cG', 'https://api.spotify.com/v1/tracks/7LyA1NPfCyT6mzx6MYTzFG', 'https://api.spotify.com/v1/tracks/3MkCJcOcLK0PaYy4QgKpWk', 'https://api.spotify.com/v1/tracks/2bBrRe20ZB7pJMQaNJ4nwk', 'https://api.spotify.com/v1/tracks/12sbRlZqz4ubIjKfft0tAk', 'https://api.spotify.com/v1/tracks/1ot6jEe4w4hYnsOPjd3xKQ', 'https://api.spotify.com/v1/tracks/4qv7YSyt5UV8LvrXyE8sGn', 'https://api.spotify.com/v1/tracks/1TfqLAPs4K3s2rJMoCokcS', 'https://api.spotify.com/v1/tracks/1jDJFeK9x3OZboIAHsY9k2', 'https://api.spotify.com/v1/tracks/4y1LsJpmMti1PfRQV9AWWe', 'https://api.spotify.com/v1/tracks/3YMTNzrRktpHDsi6OrmZNO', 'https://api.spotify.com/v1/tracks/2vz1CsL5WBsbpBcwgboTAw', 'https://api.spotify.com/v1/tracks/1OOtq8tRnDM8kG2gqUPjAj', 'https://api.spotify.com/v1/tracks/7o7E1nrHWncYY7PY94gCiX', 'https://api.spotify.com/v1/tracks/4aKIs5t9TqP59btlCGPrgw', 'https://api.spotify.com/v1/tracks/2IvetNzSZMH5gwjInoyr18', 'https://api.spotify.com/v1/tracks/7LmDmvqagpX0PKxveGtZTa', 'https://api.spotify.com/v1/tracks/1xPSDf8z4dH46gkvlLtvDO', 'https://api.spotify.com/v1/tracks/3cbV252akVZInSvJk7jAYX', 'https://api.spotify.com/v1/tracks/5pSvjjfsh34sLrkYSNGCl4', 'https://api.spotify.com/v1/tracks/5XsMz0YfEaHZE0MTb1aujs', 'https://api.spotify.com/v1/tracks/0cGG2EouYCEEC3xfa0tDFV', 'https://api.spotify.com/v1/tracks/3FlOciKDqFlTMPeC7t92Qy', 'https://api.spotify.com/v1/tracks/2KH16WveTQWT6KOG9Rg6e2', 'https://api.spotify.com/v1/tracks/4d6eqRtpDX7tydHJGDZUBQ', 'https://api.spotify.com/v1/tracks/4k6ktr10Hczmh55NY3LfJy', 'https://api.spotify.com/v1/tracks/273uCXd7NPrInaiNqtkOrA', 'https://api.spotify.com/v1/tracks/6A4Jc8npNo79BOgsrPptLA', 'https://api.spotify.com/v1/tracks/7fRvtXvJMpGfTLdF0M09a1', 'https://api.spotify.com/v1/tracks/2FpyKkCFIfqmp6eQx4Rn1V', 'https://api.spotify.com/v1/tracks/57Y3UccJEJqT8w8RWkUAz0', 'https://api.spotify.com/v1/tracks/0F0MA0ns8oXwGw66B2BSXm', 'https://api.spotify.com/v1/tracks/7INi4pMPG4IE0Smx5y4KVf', 'https://api.spotify.com/v1/tracks/1RSy7B2vfPi84N80QJ6frX', 'https://api.spotify.com/v1/tracks/6HA97v4wEGQ5TUClRM0XLc', 'https://api.spotify.com/v1/tracks/5zA8vzDGqPl2AzZkEYQGKh', 'https://api.spotify.com/v1/tracks/5tdKaKLnC4SgtDZ6RlWeal', 'https://api.spotify.com/v1/tracks/0uI4aw6ms90qFNawk9H9CO', 'https://api.spotify.com/v1/tracks/2eRmD96ncTEgQwJmXa6rrg', 'https://api.spotify.com/v1/tracks/5yf83IdQmCRRAHwhNtSnvD', 'https://api.spotify.com/v1/tracks/2olVm1lHicpveMAo4AUDRB', 'https://api.spotify.com/v1/tracks/3koCCeSaVUyrRo3N2gHrd8', 'https://api.spotify.com/v1/tracks/4WoT9wgK9o1cxBfKRWlRzx', 'https://api.spotify.com/v1/tracks/3m0y8qLoznUYi73SUBP8GI', 'https://api.spotify.com/v1/tracks/1uI848raFaNWwe9HjHpjQ5', 'https://api.spotify.com/v1/tracks/21qnJAMtzC6S5SESuqQLEK', 'https://api.spotify.com/v1/tracks/5vdp5UmvTsnMEMESIF2Ym7', 'https://api.spotify.com/v1/tracks/0Z7O8GMQShj9TJrm2yX1R6', 'https://api.spotify.com/v1/tracks/0RgLPN21aV1Ps39Tyb7268', 'https://api.spotify.com/v1/tracks/4uLU6hMCjMI75M1A2tKUQC', 'https://api.spotify.com/v1/tracks/4lRdpZYTwaPpuKpquO6bo3', 'https://api.spotify.com/v1/tracks/3hVrI7snZMTmHCnbwME47u', 'https://api.spotify.com/v1/tracks/5RLDIY4PICQWxdlLfDHNfi', 'https://api.spotify.com/v1/tracks/369JKykZZr1qzv9pg5zAhz', 'https://api.spotify.com/v1/tracks/6sT9MWlJManry3EQwf4V80', 'https://api.spotify.com/v1/tracks/2s1lS0DxcxTB8Y6oFgVKqW', 'https://api.spotify.com/v1/tracks/27NovPIUIRrOZoCHxABJwK', 'https://api.spotify.com/v1/tracks/27Z3UdqvdAhtJlWBMoDjBD', 'https://api.spotify.com/v1/tracks/4IbDTrLxImTJfZePAX2nKB', 'https://api.spotify.com/v1/tracks/3IR9wKWxI0TK1DLXvZq8uQ', 'https://api.spotify.com/v1/tracks/37Nqx7iavZpotJSDXZWbJ3', 'https://api.spotify.com/v1/tracks/6CyIkPh5mRkJg7T5xXynQ8', 'https://api.spotify.com/v1/tracks/2kUKeN9ZpYHqfBjB8Gphb2', 'https://api.spotify.com/v1/tracks/6D5R8LKkeTmQveLoUKrK0D', 'https://api.spotify.com/v1/tracks/6Uj1ctrBOjOas8xZXGqKk4', 'https://api.spotify.com/v1/tracks/14M6BbiHt2w9KHVvoIUIUF', 'https://api.spotify.com/v1/tracks/2gmTz7pHMqAk6fpOc88qxA', 'https://api.spotify.com/v1/tracks/7r9KkTYiFYMuNcGR4aySxh', 'https://api.spotify.com/v1/tracks/21AJQhGZpujjZQXByZAXpr', 'https://api.spotify.com/v1/tracks/0JyX9jNf4mUdp1eNUVAqyR', 'https://api.spotify.com/v1/tracks/5sLfmuQHJtPjSORQF2sbrJ', 'https://api.spotify.com/v1/tracks/62nJqZs3Qs7DGUto35dVUv', 'https://api.spotify.com/v1/tracks/7hU3IHwjX150XLoTVmjD0q', 'https://api.spotify.com/v1/tracks/1VOn2rRxe7JBweoK4SINHe', 'https://api.spotify.com/v1/tracks/4QAv7uyOwIgqOVgzczomOo', 'https://api.spotify.com/v1/tracks/6YC6zgdJog4gw0y2IyfRmR', 'https://api.spotify.com/v1/tracks/40uMIn2zJLAQhNXghRjBed', 'https://api.spotify.com/v1/tracks/13tc5dzElXbImNjDzz4E2B', 'https://api.spotify.com/v1/tracks/3bGGvbwbhq9kIMhHaXBdYL', 'https://api.spotify.com/v1/tracks/1SelxYHPb04GjUy0oYV1Jw', 'https://api.spotify.com/v1/tracks/25r6MZ4Gtd76l43qnZI1DG', 'https://api.spotify.com/v1/tracks/6Vcxzw4ifKqYxVrp3ckpVF', 'https://api.spotify.com/v1/tracks/2vd2HEhrkafOi2uveHjzzh', 'https://api.spotify.com/v1/tracks/0e8nrvls4Qqv5Rfa2UhqmO', 'https://api.spotify.com/v1/tracks/5csxKPX4HuN8UDEdHUxcqz', 'https://api.spotify.com/v1/tracks/7qezIDRM0E3WTW1lWxItug', 'https://api.spotify.com/v1/tracks/4PYfFHKfjYz6dwAtZhBy1z', 'https://api.spotify.com/v1/tracks/3EwsJXInOSrHZqSRW2UceI', 'https://api.spotify.com/v1/tracks/4CWcaGtaOyAqBDKIeZMUe0', 'https://api.spotify.com/v1/tracks/7moGDROshDKDpuQxtQ3q4m', 'https://api.spotify.com/v1/tracks/4XvcHTUfIlWfyJTRG0aqlo', 'https://api.spotify.com/v1/tracks/731JjfIII1qYfeatc3zhtU', 'https://api.spotify.com/v1/tracks/2Dv1CPIgX29t816ZLscdB2', 'https://api.spotify.com/v1/tracks/1mBdiyA2OUySEprEEOKJ6g', 'https://api.spotify.com/v1/tracks/06ZtJB09ab4la47q7ZcPbB', 'https://api.spotify.com/v1/tracks/3z1YJ16Cgv4Zuw9ETkQQ9Z', 'https://api.spotify.com/v1/tracks/5TUs6T93fNFvgQov6MlYkP', 'https://api.spotify.com/v1/tracks/6kie23fo40j9gBNWGWg5Dc', 'https://api.spotify.com/v1/tracks/610XWgnlPtTUXWlJ0Q3jAV', 'https://api.spotify.com/v1/tracks/4yQw7FR9lcvL6RHtegbJBh', 'https://api.spotify.com/v1/tracks/3wlLBTQWAF6DnMhraXASQ0', 'https://api.spotify.com/v1/tracks/3gsCAGsWr6pUm1Vy7CPPob', 'https://api.spotify.com/v1/tracks/1k1Bqnv2R0uJXQN4u6LKYt', 'https://api.spotify.com/v1/tracks/3pf96IFggfQuT6Gafqx2rt', 'https://api.spotify.com/v1/tracks/4QT3YKobBj4BI7xCYRLr9u', 'https://api.spotify.com/v1/tracks/0SzAKZYTUvDLqlPgllEb3N', 'https://api.spotify.com/v1/tracks/2lhs6cxLdBCzFPbNQr6Qmj', 'https://api.spotify.com/v1/tracks/0Eq4BMgsdV6DkLSJfX8eBt', 'https://api.spotify.com/v1/tracks/3WMbD1OyfKuwWDWMNbPQ4g', 'https://api.spotify.com/v1/tracks/5KgbyD2lQQlIupAaPjgiXg', 'https://api.spotify.com/v1/tracks/3kEA66ZM9mCxwhynOxgsLh', 'https://api.spotify.com/v1/tracks/7EIETgqBk63OdvVyIFDNKx', 'https://api.spotify.com/v1/tracks/50f0mt35cIwwu3Krk7nS7b', 'https://api.spotify.com/v1/tracks/5UcQ2g3M6Hh9gR8RmhjP9N', 'https://api.spotify.com/v1/tracks/2zMJN9JvDlvGP4jB03l1Bz', 'https://api.spotify.com/v1/tracks/1UNP66Mr3sPB3ItYt5bEUe', 'https://api.spotify.com/v1/tracks/6ztstiyZL6FXzh4aG46ZPD', 'https://api.spotify.com/v1/tracks/6tYIQpc9rX2wTBtb9Rh37K', 'https://api.spotify.com/v1/tracks/6GNmMC3RoZ1WiilCcukXLW', 'https://api.spotify.com/v1/tracks/57Y3UccJEJqT8w8RWkUAz0', 'https://api.spotify.com/v1/tracks/7IQMKJNcppgahjNWVPmxkl', 'https://api.spotify.com/v1/tracks/4vYauy3ABO65vTXggGYaZg', 'https://api.spotify.com/v1/tracks/1CpDrx0Q7f2Wv3tBXDMt6z', 'https://api.spotify.com/v1/tracks/2xSXw1EqGSAKc1e4TPaQvV', 'https://api.spotify.com/v1/tracks/0lwHorTzvh8D4pQaWFYqnn', 'https://api.spotify.com/v1/tracks/6StJLSmuKWwIfia0EUROQk', 'https://api.spotify.com/v1/tracks/6TYPryzyiUkxMk7PlI8k9c', 'https://api.spotify.com/v1/tracks/5csdrJ0JtFn0qvwlvSh2EI', 'https://api.spotify.com/v1/tracks/37j56IWzpplKE5zrlQRmxc', 'https://api.spotify.com/v1/tracks/4Af8yzidDPc520TFd4TmkE', 'https://api.spotify.com/v1/tracks/6pMHMzwTsWIxLigr54GGVm', 'https://api.spotify.com/v1/tracks/72PoJMDfdaw9gGECgA9kTZ', 'https://api.spotify.com/v1/tracks/4TxBGpTxrNvRNhF39Dl3NQ', 'https://api.spotify.com/v1/tracks/6Llr9PVC1cirKUwu7Fle83', 'https://api.spotify.com/v1/tracks/3zYQ1KXzqBWRsxIqdVMoYF', 'https://api.spotify.com/v1/tracks/1ot6jEe4w4hYnsOPjd3xKQ', 'https://api.spotify.com/v1/tracks/1NQFeJQOvirHNJ4lp17XUZ', 'https://api.spotify.com/v1/tracks/15ySyt38mBi1v4xMLRfD25', 'https://api.spotify.com/v1/tracks/7tqhbajSfrz2F7E1Z75ASX', 'https://api.spotify.com/v1/tracks/7s25THrKz86DM225dOYwnr', 'https://api.spotify.com/v1/tracks/38DAUnVJ0zqOdRuW7RG3sl', 'https://api.spotify.com/v1/tracks/5GcDAsm0vgFWsrcL4kqK6k', 'https://api.spotify.com/v1/tracks/3qZHUZTQiTMfJXcUYzY5mT', 'https://api.spotify.com/v1/tracks/34b3a3Pz9Jlz0092LMyNAB', 'https://api.spotify.com/v1/tracks/300RfAPZ57B0y6YYj9n6DN', 'https://api.spotify.com/v1/tracks/3ClOMebBxeNTYCOfTH24YJ', 'https://api.spotify.com/v1/tracks/5uES1C2NgkdrNHiCwf9jRr', 'https://api.spotify.com/v1/tracks/714hERk9U1W8FMYkoC83CO', 'https://api.spotify.com/v1/tracks/1JQ6Xm1JrvHfvAqhl5pwaA', 'https://api.spotify.com/v1/tracks/1mCI3atQyw3r8rd0icztLR', 'https://api.spotify.com/v1/tracks/1it9umP1j9qSqzKbSLLqqy', 'https://api.spotify.com/v1/tracks/6RANU8AS5ICU5PEHh8BYtH', 'https://api.spotify.com/v1/tracks/5qo4PkfY1ncj3NGTHDaZQF', 'https://api.spotify.com/v1/tracks/22ff60cZy4APp7bzESHLR8', 'https://api.spotify.com/v1/tracks/4N3stlRuz5cBNI4J4vDJ18', 'https://api.spotify.com/v1/tracks/6K4t31amVTZDgR3sKmwUJJ', 'https://api.spotify.com/v1/tracks/3kLVvnXLbuQuu1sanJNDjf', 'https://api.spotify.com/v1/tracks/7gARZ2i5u5DHC1b1n1fML5', 'https://api.spotify.com/v1/tracks/0bXpmJyHHYPk6QBFj25bYF', 'https://api.spotify.com/v1/tracks/0yc6Gst2xkRu0eMLeRMGCX', 'https://api.spotify.com/v1/tracks/7w87IxuO7BDcJ3YUqCyMTT', 'https://api.spotify.com/v1/tracks/1Bz9S9TweSbkFeXM5NdtOC', 'https://api.spotify.com/v1/tracks/4JHg4nNYUJQ5HULcCmI18R', 'https://api.spotify.com/v1/tracks/1wgqttlPacpvmX5DKVboOa', 'https://api.spotify.com/v1/tracks/6vECYJHxYmm3Ydt3fF01pE', 'https://api.spotify.com/v1/tracks/6GyFP1nfCDB8lbD2bG0Hq9', 'https://api.spotify.com/v1/tracks/0d28khcov6AiegSCpG5TuT', 'https://api.spotify.com/v1/tracks/3Ty7OTBNSigGEpeW2PqcsC', 'https://api.spotify.com/v1/tracks/7d23MhPFE9eB3U8DPRirnL', 'https://api.spotify.com/v1/tracks/0iTpQYzJnYgh7kIxyq8A2O', 'https://api.spotify.com/v1/tracks/15Hb4YapPuC0iNGvez2PXE', 'https://api.spotify.com/v1/tracks/4iG2gAwKXsOcijVaVXzRPW', 'https://api.spotify.com/v1/tracks/7kcy8ctwafCfiUFuBcvxpp', 'https://api.spotify.com/v1/tracks/6bS7DqTuzrpkluB7boWmw2', 'https://api.spotify.com/v1/tracks/7w5cxTEzp1rfV3KCy0Bd5N', 'https://api.spotify.com/v1/tracks/4dyx5SzxPPaD8xQIid5Wjj', 'https://api.spotify.com/v1/tracks/3RRf5KNBCzK3uxWKRAC67q', 'https://api.spotify.com/v1/tracks/1mvyqSb1tOvtVP1qfWEyPa', 'https://api.spotify.com/v1/tracks/6QgjcU0zLnzq5OrUoSZ3OK', 'https://api.spotify.com/v1/tracks/295WZ1UJn67ZaiQMWrSkys', 'https://api.spotify.com/v1/tracks/70WyPf8WtXvG3CgeTZZWz6', 'https://api.spotify.com/v1/tracks/1NyFRrFiJAJIaR6icj1goI', 'https://api.spotify.com/v1/tracks/3dYD57lRAUcMHufyqn9GcI', 'https://api.spotify.com/v1/tracks/0V2SavjRuimH4TIbrKyyN0', 'https://api.spotify.com/v1/tracks/5RoIXwyTCdyUjpMMkk4uPd', 'https://api.spotify.com/v1/tracks/2KOvNaMJcuaYTciDe2TmCP', 'https://api.spotify.com/v1/tracks/2UWdUez9MB9yzL7Y81Mcip', 'https://api.spotify.com/v1/tracks/24jvD83UgLmrdGjhWTFslY', 'https://api.spotify.com/v1/tracks/2nvZv4qatgsDIbEqqbQLUT', 'https://api.spotify.com/v1/tracks/244AvzGQ4Ksa5637JQu5Gy', 'https://api.spotify.com/v1/tracks/6xVdHfNIcWB0Bzd1obzcwj', 'https://api.spotify.com/v1/tracks/12pdXFcruNcPUbZypKUDgz', 'https://api.spotify.com/v1/tracks/6ZEaDwf50SdJzHcVSQx0vL', 'https://api.spotify.com/v1/tracks/3g86N0SqyfxEVNMHlmW3RE', 'https://api.spotify.com/v1/tracks/4c9WmjVlQMr0s1IjbYO52Z', 'https://api.spotify.com/v1/tracks/2xbrMtkxp399aSiCJ8EAON', 'https://api.spotify.com/v1/tracks/4m8ttWM8IKXyhpv89E867J', 'https://api.spotify.com/v1/tracks/5rAff9XfcWx7rguN3t0fkW', 'https://api.spotify.com/v1/tracks/6L4fEE9awoUnSEy1bmQebb', 'https://api.spotify.com/v1/tracks/1jy7SkRcmBCTcv4ZMtwz29', 'https://api.spotify.com/v1/tracks/3VPp3qrfCioIbPmp7c7Con', 'https://api.spotify.com/v1/tracks/3ji1o94rKqulYA4I2eDKat', 'https://api.spotify.com/v1/tracks/4j4pPKE3xAblPIbhxScC1j', 'https://api.spotify.com/v1/tracks/7vRdcsmD92oErIQDnmp60e', 'https://api.spotify.com/v1/tracks/2fXKyAyPrEa24c6PJyqznF', 'https://api.spotify.com/v1/tracks/5fwSHlTEWpluwOM0Sxnh5k', 'https://api.spotify.com/v1/tracks/3c8iiZGfEammKJuWTErE5x', 'https://api.spotify.com/v1/tracks/6zSpb8dQRaw0M1dK8PBwQz', 'https://api.spotify.com/v1/tracks/4ofwffwvvnbSkrMSCKQDaC', 'https://api.spotify.com/v1/tracks/3Iba59sFmGhQ4kbCY5L8AX', 'https://api.spotify.com/v1/tracks/2Z8WuEywRWYTKe1NybPQEW', 'https://api.spotify.com/v1/tracks/0iVkWge9ytV4Scgy2hQ2za', 'https://api.spotify.com/v1/tracks/4Ljs6Dvpz7Arf9Ac8RN7tn', 'https://api.spotify.com/v1/tracks/5FqaXHqw79ILxvJUKvOzxc', 'https://api.spotify.com/v1/tracks/780be5fB7823aHG06mwTat', 'https://api.spotify.com/v1/tracks/0e8nrvls4Qqv5Rfa2UhqmO', 'https://api.spotify.com/v1/tracks/2vBET2pmrQqafaS6zIaYta', 'https://api.spotify.com/v1/tracks/5PjdY0CKGZdEuoNab3yDmX', 'https://api.spotify.com/v1/tracks/77sFlmQh56N5VSBMKX7e63', 'https://api.spotify.com/v1/tracks/0J07ya7WC09FaQADutoBRZ', 'https://api.spotify.com/v1/tracks/45PF1Y3RcW5MK0jxWvhc4D', 'https://api.spotify.com/v1/tracks/41rOnZXVg3cLacziEBgkpW', 'https://api.spotify.com/v1/tracks/1058fW9H3fZA6QjYCdOBad', 'https://api.spotify.com/v1/tracks/6PQ88X9TkUIAUIZJHW2upE', 'https://api.spotify.com/v1/tracks/1gOANd4qcnkftl869IOvBu', 'https://api.spotify.com/v1/tracks/6IPNp9PfaEqrzotY47TIWy', 'https://api.spotify.com/v1/tracks/5WHTFyqSii0lmT9R21abT8', 'https://api.spotify.com/v1/tracks/1OWLQ4FQrO13w6ssWgP8tk', 'https://api.spotify.com/v1/tracks/5tf1VVWniHgryyumXyJM7w', 'https://api.spotify.com/v1/tracks/3uUuGVFu1V7jTQL60S1r8z', 'https://api.spotify.com/v1/tracks/2YWjW3wwQIBLNhxWKBQd16', 'https://api.spotify.com/v1/tracks/6OGogr19zPTM4BALXuMQpF', 'https://api.spotify.com/v1/tracks/5dyDkXi1bnQKSyIdO0JXp8', 'https://api.spotify.com/v1/tracks/0xfMlIW8lS40qvpsUw1l0X', 'https://api.spotify.com/v1/tracks/2gam98EZKrF9XuOkU13ApN', 'https://api.spotify.com/v1/tracks/03SEp9sXkAOAgxJtSLuVEi', 'https://api.spotify.com/v1/tracks/4sOjKbpa7RLZVRNxcO26eb', 'https://api.spotify.com/v1/tracks/5itOtNx0WxtJmi1TQ3RuRd', 'https://api.spotify.com/v1/tracks/75MNhvTCCKsST3YqqUiU9r', 'https://api.spotify.com/v1/tracks/1kPpge9JDLpcj15qgrPbYX', 'https://api.spotify.com/v1/tracks/5UbJD3lat3SVDDBXmf8gLc', 'https://api.spotify.com/v1/tracks/03aENfSuuy3VS0sbgH7u1D', 'https://api.spotify.com/v1/tracks/6Uj1ctrBOjOas8xZXGqKk4', 'https://api.spotify.com/v1/tracks/0nrRP2bk19rLc0orkWPQk2', 'https://api.spotify.com/v1/tracks/0mV43B6pJWRjcM5TmzNe6d', 'https://api.spotify.com/v1/tracks/1XGmzt0PVuFgQYYnV2It7A', 'https://api.spotify.com/v1/tracks/4ZtFanR9U6ndgddUvNcjcG', 'https://api.spotify.com/v1/tracks/2S5LNtRVRPbXk01yRQ14sZ', 'https://api.spotify.com/v1/tracks/0KzCNeuMVGXbnMbjX6ilCU', 'https://api.spotify.com/v1/tracks/49FYlytm3dAAraYgpoJZux', 'https://api.spotify.com/v1/tracks/7cdy4PbCdDZZNjyxoZyE0c', 'https://api.spotify.com/v1/tracks/7vFoFDWqTX0mHzLfrF1Cfy', 'https://api.spotify.com/v1/tracks/6Dy1jexKYriXAVG6evyUTJ', 'https://api.spotify.com/v1/tracks/1qSQ8ivU7OPqFcEO1D99vU', 'https://api.spotify.com/v1/tracks/3vXnuFnC5RhPGwsFi0ORcI', 'https://api.spotify.com/v1/tracks/7FhcGzIb6BUapFSNVwxpCq', 'https://api.spotify.com/v1/tracks/3HLUrzmua2lTafzu3heQZV', 'https://api.spotify.com/v1/tracks/3mvMxWdTEy3sNZoRUNeris', 'https://api.spotify.com/v1/tracks/0bPKPZ6qlfwptPL6ta6t43', 'https://api.spotify.com/v1/tracks/3tJljA8IkRARbsFojNbwRl', 'https://api.spotify.com/v1/tracks/3Fg9sxDMmWwodqI678gIwX', 'https://api.spotify.com/v1/tracks/41xAUseykaaSdmry5hVOkV', 'https://api.spotify.com/v1/tracks/6WNVFXtZyFmfosAxvisgPL', 'https://api.spotify.com/v1/tracks/1ncaQAHCLAOjgnceZhqYt5', 'https://api.spotify.com/v1/tracks/5G7ub4dl5ABYB1fYlgCJ2i', 'https://api.spotify.com/v1/tracks/4xSRna7VTC2qN3INhdpYmD', 'https://api.spotify.com/v1/tracks/3hYClPLgnc4Eu5GIU87Kkk', 'https://api.spotify.com/v1/tracks/303oeyQJklQReUBrszN2j2', 'https://api.spotify.com/v1/tracks/0QIshyPSwHWvmA2jzs2LND', 'https://api.spotify.com/v1/tracks/0LHDyKHY7sZfc2YLMfiJBw', 'https://api.spotify.com/v1/tracks/7h7wrenhCbADpRK6ItHxI0', 'https://api.spotify.com/v1/tracks/7ayi6LtgxUK4057CF7MCJL', 'https://api.spotify.com/v1/tracks/1h7LWORFpHl8qTz8xXlVYN', 'https://api.spotify.com/v1/tracks/76Ef208V2nkxvbvs7pzKdA', 'https://api.spotify.com/v1/tracks/1rp1KboJQdhF8gRKdm3Alk', 'https://api.spotify.com/v1/tracks/6SLZaOxvjCJ6RnpbH8imwZ', 'https://api.spotify.com/v1/tracks/360Xv6Pn6ENVkFD7Hcfymf', 'https://api.spotify.com/v1/tracks/6w5FDbVTPCk582bYwQGbDN', 'https://api.spotify.com/v1/tracks/6KCVVAM5j4JukdJ8BpNVjv', 'https://api.spotify.com/v1/tracks/4D7PndWbd8MB96lDZF3te2', 'https://api.spotify.com/v1/tracks/2ZSFeJu61yIbsXG2KJbcGG', 'https://api.spotify.com/v1/tracks/1LqvKE7xaNbACFD8GbyT4l', 'https://api.spotify.com/v1/tracks/4kdzLRk1pX5kTLcgoDqaQ7', 'https://api.spotify.com/v1/tracks/5vBKODjjr4NVPqW0sNNvr0', 'https://api.spotify.com/v1/tracks/3RHMz6FpEF6SHoOlk831Nh', 'https://api.spotify.com/v1/tracks/0ndvphNmJuUDL6JLHhMiki', 'https://api.spotify.com/v1/tracks/2uB3uXWY1iwknxWQ5gD2g4', 'https://api.spotify.com/v1/tracks/2njmoIaPd0hKIlCFtyGHUZ', 'https://api.spotify.com/v1/tracks/6bAaEf97dH8fzQhLPiLacp', 'https://api.spotify.com/v1/tracks/4GjRmJWJmEHXgH0Qdbw6Os', 'https://api.spotify.com/v1/tracks/4HS5UK3JioFXvHLP14ydJB', 'https://api.spotify.com/v1/tracks/6SBDaSKJHFlDpaFKDn4Dy7', 'https://api.spotify.com/v1/tracks/6U6SpEY3xhXSw9A6l4WU1N', 'https://api.spotify.com/v1/tracks/4iNdMRQRQ0cMunOLCPnkXQ', 'https://api.spotify.com/v1/tracks/0OueLn8Bd2P2XU9aX1My4Z', 'https://api.spotify.com/v1/tracks/1ABDYmUKWYAY7FjGKOFLyU', 'https://api.spotify.com/v1/tracks/2Dh8f30wYZ97NWo2NL4e8c', 'https://api.spotify.com/v1/tracks/7hbIay5rEvtVH9iI40vQMG', 'https://api.spotify.com/v1/tracks/38TKubI8iddW5RZZq4znNx', 'https://api.spotify.com/v1/tracks/3yv4jovrvRsUXi8LxJBzip', 'https://api.spotify.com/v1/tracks/2N3ft2Plv5PXRYuOBVRoqq', 'https://api.spotify.com/v1/tracks/1yxX9H77a40Xn1AFCru6kD', 'https://api.spotify.com/v1/tracks/45nOY1My3YTbbO7lAxrIGm', 'https://api.spotify.com/v1/tracks/0Yr1TfeacyGFyDe0aWDla9', 'https://api.spotify.com/v1/tracks/2dI1vNXtxBDQzJqM6cxiY0', 'https://api.spotify.com/v1/tracks/3FeVmId7tL5YN8B7R3imoM', 'https://api.spotify.com/v1/tracks/0J07ya7WC09FaQADutoBRZ', 'https://api.spotify.com/v1/tracks/45PF1Y3RcW5MK0jxWvhc4D', 'https://api.spotify.com/v1/tracks/2gQPv5jvVPqU2a9HhMNO1v', 'https://api.spotify.com/v1/tracks/6ngjb2Je6gEjjVOOQpWSWG', 'https://api.spotify.com/v1/tracks/5CZ40GBx1sQ9agT82CLQCT', 'https://api.spotify.com/v1/tracks/2Xr1dTzJee307rmrkt8c0g', 'https://api.spotify.com/v1/tracks/7rglLriMNBPAyuJOMGwi39', 'https://api.spotify.com/v1/tracks/4sOjKbpa7RLZVRNxcO26eb', 'https://api.spotify.com/v1/tracks/149BxWeweaCqmsyedkNiiE', 'https://api.spotify.com/v1/tracks/07MDkzWARZaLEdKxo6yArG', 'https://api.spotify.com/v1/tracks/3DarAbFujv6eYNliUTyqtz', 'https://api.spotify.com/v1/tracks/6M3PsepEj5gyJoIi7Xvr7u', 'https://api.spotify.com/v1/tracks/3IM7zXywZ6sRTtkRjRLxJ8', 'https://api.spotify.com/v1/tracks/75MNhvTCCKsST3YqqUiU9r', 'https://api.spotify.com/v1/tracks/7zjEyeBsaw9gV0jofJLfOM', 'https://api.spotify.com/v1/tracks/6IPNp9PfaEqrzotY47TIWy', 'https://api.spotify.com/v1/tracks/1diS6nkxMQc3wwC4G1j0bh', 'https://api.spotify.com/v1/tracks/0iVkWge9ytV4Scgy2hQ2za', 'https://api.spotify.com/v1/tracks/4qu63nuBpdn0qHUHuObEj1', 'https://api.spotify.com/v1/tracks/6nRSyu4oOed8HgcVxV1cWl', 'https://api.spotify.com/v1/tracks/3USxtqRwSYz57Ewm6wWRMp', 'https://api.spotify.com/v1/tracks/24OeEKPQ8qqNZnPevRHxUT', 'https://api.spotify.com/v1/tracks/2JPLbjOn0wPCngEot2STUS', 'https://api.spotify.com/v1/tracks/0gplL1WMoJ6iYaPgMCL0gX', 'https://api.spotify.com/v1/tracks/71qB68guEJjbvtjlkZ8DF5', 'https://api.spotify.com/v1/tracks/6Uj1ctrBOjOas8xZXGqKk4', 'https://api.spotify.com/v1/tracks/5fwSHlTEWpluwOM0Sxnh5k', 'https://api.spotify.com/v1/tracks/1bwhDrXcAtqePp8mNJ0pTe', 'https://api.spotify.com/v1/tracks/1Cx3Lpnto8xJ5dsfU3DPus', 'https://api.spotify.com/v1/tracks/3uUuGVFu1V7jTQL60S1r8z', 'https://api.spotify.com/v1/tracks/00Blm7zeNqgYLPtW6zg8cj', 'https://api.spotify.com/v1/tracks/6PQ88X9TkUIAUIZJHW2upE', 'https://api.spotify.com/v1/tracks/3eJH2nAjvNXdmPfBkALiPZ', 'https://api.spotify.com/v1/tracks/0fQfJFfngYfG26560HLMLN', 'https://api.spotify.com/v1/tracks/1SC5rEoYDGUK4NfG82494W', 'https://api.spotify.com/v1/tracks/3vXnuFnC5RhPGwsFi0ORcI', 'https://api.spotify.com/v1/tracks/0z8hI3OPS8ADPWtoCjjLl6', 'https://api.spotify.com/v1/tracks/5HCyWlXZPP0y6Gqq8TgA20', 'https://api.spotify.com/v1/tracks/46nvQpUDsxpS08UTFOeKTA', 'https://api.spotify.com/v1/tracks/2gpWyfu7eZ01zzncHpxOtA', 'https://api.spotify.com/v1/tracks/4btFHqumCO31GksfuBLLv3', 'https://api.spotify.com/v1/tracks/1058fW9H3fZA6QjYCdOBad', 'https://api.spotify.com/v1/tracks/18XlJEroUwFo0tLZxscgXE', 'https://api.spotify.com/v1/tracks/08SB2OtZkaliju77WYEKxk', 'https://api.spotify.com/v1/tracks/6I3mqTwhRpn34SLVafSH7G', 'https://api.spotify.com/v1/tracks/0HLhptvI8NozbOHRLNniFz', 'https://api.spotify.com/v1/tracks/0e8nrvls4Qqv5Rfa2UhqmO', 'https://api.spotify.com/v1/tracks/6RBfz4bNLNzvt37HycN1Xf', 'https://api.spotify.com/v1/tracks/32BeYxKPrig1LefHsC0Xuo'], 'analysis_url': ['https://api.spotify.com/v1/audio-analysis/00Blm7zeNqgYLPtW6zg8cj', 'https://api.spotify.com/v1/audio-analysis/2O9enJqAqs46tfBlGhLsnW', 'https://api.spotify.com/v1/audio-analysis/2JvWoj5bTklsb6fPzRfZ3x', 'https://api.spotify.com/v1/audio-analysis/4R67rQNSbbsR4TdUVOIdez', 'https://api.spotify.com/v1/audio-analysis/4iN16F8JtVxG2UTzp3avGl', 'https://api.spotify.com/v1/audio-analysis/2QEtf4oCeJrfDeqf8rJiQK', 'https://api.spotify.com/v1/audio-analysis/08SB2OtZkaliju77WYEKxk', 'https://api.spotify.com/v1/audio-analysis/4H1CfsnXQonWnJeHzHuVUz', 'https://api.spotify.com/v1/audio-analysis/18asYwWugKjjsihZ0YvRxO', 'https://api.spotify.com/v1/audio-analysis/4SRkixF643LgySLh8owTkJ', 'https://api.spotify.com/v1/audio-analysis/4MDDOpA7BwGDjYclTmCTVw', 'https://api.spotify.com/v1/audio-analysis/19ZBncpk43fACvzKeqZIib', 'https://api.spotify.com/v1/audio-analysis/38XLUjlR84JEwK0SOvX77a', 'https://api.spotify.com/v1/audio-analysis/2u2gafIeAP55EjXhU768Zo', 'https://api.spotify.com/v1/audio-analysis/4fcbxnnfUycb7fJAInJOob', 'https://api.spotify.com/v1/audio-analysis/188rKyWMsC4WsKKZ85lnUO', 'https://api.spotify.com/v1/audio-analysis/1544oKxSzETEcBpOKdf3de', 'https://api.spotify.com/v1/audio-analysis/2lZrHFgxAdZrL0j8JvYhkc', 'https://api.spotify.com/v1/audio-analysis/3RZauEkvORMeP06npyaIYa', 'https://api.spotify.com/v1/audio-analysis/6RT5ir7all6RgZEAupLNlO', 'https://api.spotify.com/v1/audio-analysis/2j1Os2WNkwb6KJvaiHFdUl', 'https://api.spotify.com/v1/audio-analysis/280MV4FuB5uusjx8wj1dpt', 'https://api.spotify.com/v1/audio-analysis/5YkXkfXWTE1pk6l2m78JnH', 'https://api.spotify.com/v1/audio-analysis/0FiwMxsaV8SNBnjmZkHHra', 'https://api.spotify.com/v1/audio-analysis/1mrGEef8GuaEnDdw8J5BQp', 'https://api.spotify.com/v1/audio-analysis/4xD3DFKtDy9JkOOxcsTy3r', 'https://api.spotify.com/v1/audio-analysis/1hkOuEeJQtDxHKBD8gJTBx', 'https://api.spotify.com/v1/audio-analysis/1RBIzko2PMY5CP0d3MIkwl', 'https://api.spotify.com/v1/audio-analysis/3YZdPvENFPytMyrnkRWm1B', 'https://api.spotify.com/v1/audio-analysis/2BzAGK3lEZAQz5cU0Ae1wd', 'https://api.spotify.com/v1/audio-analysis/2N9fGz3nPXci2w80p1lQIW', 'https://api.spotify.com/v1/audio-analysis/2LnsEYFfPwk6ueO2OCBNLA', 'https://api.spotify.com/v1/audio-analysis/1wAPbQ5XjbZqPl0WDl5mHH', 'https://api.spotify.com/v1/audio-analysis/1pY5rVjr4BqQlJMx3S7Mmf', 'https://api.spotify.com/v1/audio-analysis/1KCXEsHxKDq72C70fyM0vq', 'https://api.spotify.com/v1/audio-analysis/77fRc8iT858bzRdcR4k8T8', 'https://api.spotify.com/v1/audio-analysis/0CiJazqgaY4QhTNB66xfzm', 'https://api.spotify.com/v1/audio-analysis/6cBvcf3JEn3NjIvaqkHkn0', 'https://api.spotify.com/v1/audio-analysis/46PGzHQRAFjuVXB6fKRmDZ', 'https://api.spotify.com/v1/audio-analysis/1MCvAAKHSdGhe4ZPq0YMrF', 'https://api.spotify.com/v1/audio-analysis/7fdqKCfTKNv1UNwmCYHUpu', 'https://api.spotify.com/v1/audio-analysis/6sb1CGojNdNMiToRfSNwzY', 'https://api.spotify.com/v1/audio-analysis/5dXIrAUNLOcN2mYkCSeO3k', 'https://api.spotify.com/v1/audio-analysis/38qCAgXW23GmzHG5bWhPzg', 'https://api.spotify.com/v1/audio-analysis/0yPlsLJNceFwpgEiYMe0tv', 'https://api.spotify.com/v1/audio-analysis/05nKsnLJGrsDwQIXAExTQt', 'https://api.spotify.com/v1/audio-analysis/1kjixr3Tv9ku0HmXrDqWNH', 'https://api.spotify.com/v1/audio-analysis/7GTlrFi1WMmZyLEUlRTihW', 'https://api.spotify.com/v1/audio-analysis/6P5yJhVBhB0nV27SXhwTZc', 'https://api.spotify.com/v1/audio-analysis/6v2ezoIqtD8UKjaQhqde6r', 'https://api.spotify.com/v1/audio-analysis/6fSRCnfSfTBCbgoa6Nwhim', 'https://api.spotify.com/v1/audio-analysis/4SEiKLEcOsLEtvU53N6bex', 'https://api.spotify.com/v1/audio-analysis/70f71uZ7egz2Vshwx4D425', 'https://api.spotify.com/v1/audio-analysis/7MwUFO1Av7sEOCUa1ULmwa', 'https://api.spotify.com/v1/audio-analysis/6miahXSZE01l2lNDqNCfxQ', 'https://api.spotify.com/v1/audio-analysis/3Kp4DMEXVilurnN1PBvHui', 'https://api.spotify.com/v1/audio-analysis/2aDuY0WsvDlIs5KczrYFid', 'https://api.spotify.com/v1/audio-analysis/7onHzHeOVE3M9p0tNKQbXc', 'https://api.spotify.com/v1/audio-analysis/7pIoByp3uzkV6saBAHfG2c', 'https://api.spotify.com/v1/audio-analysis/0PzcMfqECraaBGxX7zr7wV', 'https://api.spotify.com/v1/audio-analysis/12e5rUktNoga7mdtziCw33', 'https://api.spotify.com/v1/audio-analysis/46OKHucGhjhskazqD8tKnH', 'https://api.spotify.com/v1/audio-analysis/0B8U71SDP0h9FF6xSZqftH', 'https://api.spotify.com/v1/audio-analysis/6sjLKQtx6CbICWREw5tDPY', 'https://api.spotify.com/v1/audio-analysis/0mPh3y1fgrZiWlhuNmPq5Y', 'https://api.spotify.com/v1/audio-analysis/3fRK9qG08iZyWvqjOWkdKc', 'https://api.spotify.com/v1/audio-analysis/7ytFo4I2OsaiGRhYdFGoQW', 'https://api.spotify.com/v1/audio-analysis/3LBp0NzDmMXfbDbBlWD3vO', 'https://api.spotify.com/v1/audio-analysis/1FOcJ48XhC9gBMyONLB2Cr', 'https://api.spotify.com/v1/audio-analysis/5B6u8ImBwp0lKZXCH0tbx8', 'https://api.spotify.com/v1/audio-analysis/7CtRS8xbsxUnT2ZA7uowqD', 'https://api.spotify.com/v1/audio-analysis/5Cfh8D9E3CFEVj0LGjf9wU', 'https://api.spotify.com/v1/audio-analysis/5oBUlWZcYKuYuuSsDeNQR7', 'https://api.spotify.com/v1/audio-analysis/0Q3DprZOlvkOWlC3pmr5Mx', 'https://api.spotify.com/v1/audio-analysis/1mS7CcE30VDxZAJOtgeIjA', 'https://api.spotify.com/v1/audio-analysis/2O9enJqAqs46tfBlGhLsnW', 'https://api.spotify.com/v1/audio-analysis/2s1lS0DxcxTB8Y6oFgVKqW', 'https://api.spotify.com/v1/audio-analysis/3IR9wKWxI0TK1DLXvZq8uQ', 'https://api.spotify.com/v1/audio-analysis/2kUKeN9ZpYHqfBjB8Gphb2', 'https://api.spotify.com/v1/audio-analysis/27Z3UdqvdAhtJlWBMoDjBD', 'https://api.spotify.com/v1/audio-analysis/14M6BbiHt2w9KHVvoIUIUF', 'https://api.spotify.com/v1/audio-analysis/13tc5dzElXbImNjDzz4E2B', 'https://api.spotify.com/v1/audio-analysis/19dD5F9Mu5DvraJr0f5eho', 'https://api.spotify.com/v1/audio-analysis/7vX1e8Tcj1cl20HoWaDI4h', 'https://api.spotify.com/v1/audio-analysis/2mIfMDTR6pNa3iWne56HGe', 'https://api.spotify.com/v1/audio-analysis/2XLPtKom1ixf7IJgPsPAvp', 'https://api.spotify.com/v1/audio-analysis/6cBvcf3JEn3NjIvaqkHkn0', 'https://api.spotify.com/v1/audio-analysis/0igELlHJcgbgEtgsTmj9t0', 'https://api.spotify.com/v1/audio-analysis/5csxKPX4HuN8UDEdHUxcqz', 'https://api.spotify.com/v1/audio-analysis/3R3li8sx8AjMRI1BdmwXAf', 'https://api.spotify.com/v1/audio-analysis/3bGGvbwbhq9kIMhHaXBdYL', 'https://api.spotify.com/v1/audio-analysis/5YkXkfXWTE1pk6l2m78JnH', 'https://api.spotify.com/v1/audio-analysis/3BFlHQD1nt7vHXmh0SswCO', 'https://api.spotify.com/v1/audio-analysis/5aSLIxdiQAgfTGsqGwgivC', 'https://api.spotify.com/v1/audio-analysis/3PeW31cRh8BlN7fwj6cGe9', 'https://api.spotify.com/v1/audio-analysis/5oBUlWZcYKuYuuSsDeNQR7', 'https://api.spotify.com/v1/audio-analysis/3eGuT5Bs8s9CGQbUxDXFzb', 'https://api.spotify.com/v1/audio-analysis/2FHsE83xbrzzWusudCFpg1', 'https://api.spotify.com/v1/audio-analysis/1isJQKjH3cFutccvz3jrCD', 'https://api.spotify.com/v1/audio-analysis/1TO85DMVoOejzq5YMMWAkl', 'https://api.spotify.com/v1/audio-analysis/5cOkUTJvuYBNV1JZ5yPWex', 'https://api.spotify.com/v1/audio-analysis/72HFkyZ8MFEbplFjRO7aqA', 'https://api.spotify.com/v1/audio-analysis/1H366E2OeWiWQvMj0iESzX', 'https://api.spotify.com/v1/audio-analysis/67XtpHJ5S4KO8w8CllZx7I', 'https://api.spotify.com/v1/audio-analysis/52Z9VzMQ91wrhnn1zefaVi', 'https://api.spotify.com/v1/audio-analysis/0exjGVTPrIA5MYokrYG862', 'https://api.spotify.com/v1/audio-analysis/17tejn8Dt8IDKKRknPznPD', 'https://api.spotify.com/v1/audio-analysis/2D0BQfVCn6qoK77flhU7nR', 'https://api.spotify.com/v1/audio-analysis/2YAgixJPrOiEZSgZMlmqqF', 'https://api.spotify.com/v1/audio-analysis/48ghUr9q4ZCKTGEGzdZJlj', 'https://api.spotify.com/v1/audio-analysis/2uj7OACDZUQIvAfKAwtHES', 'https://api.spotify.com/v1/audio-analysis/4xJfZesfZ3UGR0v647p8Y5', 'https://api.spotify.com/v1/audio-analysis/4Z1u8ZwrxBwdnFH4vibcYO', 'https://api.spotify.com/v1/audio-analysis/5dxsliYJaYcDMfw5emzJer', 'https://api.spotify.com/v1/audio-analysis/5cyYphxofHgRspEKNn3UTl', 'https://api.spotify.com/v1/audio-analysis/62nJqZs3Qs7DGUto35dVUv', 'https://api.spotify.com/v1/audio-analysis/5cZ6NaDFs0a7ZYfGpaJWEt', 'https://api.spotify.com/v1/audio-analysis/5rQG0YxxAgCKpJthO0K3JQ', 'https://api.spotify.com/v1/audio-analysis/58D69P1dusriq8I3t83eji', 'https://api.spotify.com/v1/audio-analysis/4ZpFLXdO1Tqs12uJe4OsN7', 'https://api.spotify.com/v1/audio-analysis/4cvsvY3HYBV7jJbWsHGOAh', 'https://api.spotify.com/v1/audio-analysis/2vd2HEhrkafOi2uveHjzzh', 'https://api.spotify.com/v1/audio-analysis/6DdPeHn2Kc5weToqPO9anJ', 'https://api.spotify.com/v1/audio-analysis/57AzeYIWwAYprDXRwPjgtZ', 'https://api.spotify.com/v1/audio-analysis/7BiRw4sgXQMyNx8nPltnQr', 'https://api.spotify.com/v1/audio-analysis/2TitxRtrE8OLcAwcNucvmJ', 'https://api.spotify.com/v1/audio-analysis/5Zn1K7j3DkB1akPiBLwKR9', 'https://api.spotify.com/v1/audio-analysis/5gyhZCykUqfbjqyPzR4CVe', 'https://api.spotify.com/v1/audio-analysis/6nhc3daOpKaZBRj2ZFWfc7', 'https://api.spotify.com/v1/audio-analysis/1CQH9bjtrHOnbXTGL4JzT7', 'https://api.spotify.com/v1/audio-analysis/0dRYCtYfllnlfDiEufuwOU', 'https://api.spotify.com/v1/audio-analysis/4Am0QoksGA70r4ZdsgV2Y9', 'https://api.spotify.com/v1/audio-analysis/2mKGjVCoxL8Um9GkNhhyto', 'https://api.spotify.com/v1/audio-analysis/7LsJd6JUzWy3SUvy33g6yQ', 'https://api.spotify.com/v1/audio-analysis/0IkK4SEryuCtbQjm5LRLMZ', 'https://api.spotify.com/v1/audio-analysis/1QMSIsTV6lcLCQ9MBHTLhT', 'https://api.spotify.com/v1/audio-analysis/6TTHXR7QYOUNS2gyy2OVvg', 'https://api.spotify.com/v1/audio-analysis/0wRFR5cUtBNArgtw4F1rw1', 'https://api.spotify.com/v1/audio-analysis/0HdA4vcTOb3XzW3L43X6sK', 'https://api.spotify.com/v1/audio-analysis/10WVEHOf1FZf5XgK6dUWvN', 'https://api.spotify.com/v1/audio-analysis/4fKiuIavbsoTRZ6R7xuAyT', 'https://api.spotify.com/v1/audio-analysis/4SBahN5KfX1RLG9XLNIlJA', 'https://api.spotify.com/v1/audio-analysis/618v3huzqDQQBfMogznSb3', 'https://api.spotify.com/v1/audio-analysis/2cptaUFdsU60tdh7zRglai', 'https://api.spotify.com/v1/audio-analysis/6MYNfMiLwCmA3bRdfzvfcs', 'https://api.spotify.com/v1/audio-analysis/5ULRlgiSPSKTaJN1vU9yso', 'https://api.spotify.com/v1/audio-analysis/2syQErCMMM1rXeZqtuaqxg', 'https://api.spotify.com/v1/audio-analysis/06N4bQF7MXzLbbifGMIJZW', 'https://api.spotify.com/v1/audio-analysis/29f11nLUcMYQ2Ndbnb7N0o', 'https://api.spotify.com/v1/audio-analysis/3WmJIqP0Fk5OyDKFuX09li', 'https://api.spotify.com/v1/audio-analysis/2AGen6RvvTNEhdNoyJEMvu', 'https://api.spotify.com/v1/audio-analysis/2wcseriGAqeodDazDXgmaq', 'https://api.spotify.com/v1/audio-analysis/4C4wO1Lob3kTxvqXtPJice', 'https://api.spotify.com/v1/audio-analysis/6AJGPFFuC8qTWD5SP50RNh', 'https://api.spotify.com/v1/audio-analysis/45SbQo5bq8f0hNdB70IyFC', 'https://api.spotify.com/v1/audio-analysis/5IYKZF1nw5V0GtxQN7mspQ', 'https://api.spotify.com/v1/audio-analysis/6XnmPBOZfmvRHW1BSbwugJ', 'https://api.spotify.com/v1/audio-analysis/7MwnbWnZCBg1iK7uAreNhm', 'https://api.spotify.com/v1/audio-analysis/5BPYhountssVohoID7bS40', 'https://api.spotify.com/v1/audio-analysis/3uRyuXf29unDXTFNNXHrYl', 'https://api.spotify.com/v1/audio-analysis/07X4FAhX2R6xnAwd6ToUUx', 'https://api.spotify.com/v1/audio-analysis/3a8gsld8gQzvfyLfPO1LP1', 'https://api.spotify.com/v1/audio-analysis/6VkmdRz8YgHFQV3ZNTJAWU', 'https://api.spotify.com/v1/audio-analysis/7kVssG465tU7XWgfrseOVS', 'https://api.spotify.com/v1/audio-analysis/7eoKwUoGIQSQLusZiQIvmm', 'https://api.spotify.com/v1/audio-analysis/1m84zLz4WizjR4mCDoXReg', 'https://api.spotify.com/v1/audio-analysis/76mnMmcrLA3Rv5JtrjvfS7', 'https://api.spotify.com/v1/audio-analysis/4VHM8pHDSBnzIppLyeMyJ8', 'https://api.spotify.com/v1/audio-analysis/27829SWtwhWUANViVTEpol', 'https://api.spotify.com/v1/audio-analysis/2vcDl2SLudnltyDEos3v6E', 'https://api.spotify.com/v1/audio-analysis/29OB96bcpEnlfbdVREAr83', 'https://api.spotify.com/v1/audio-analysis/2xQeykrgmC01UqRpkrT0Zg', 'https://api.spotify.com/v1/audio-analysis/47rNYq9IUveetu35c65xTw', 'https://api.spotify.com/v1/audio-analysis/4zYkSXrfgJyrNkNv3mTiIZ', 'https://api.spotify.com/v1/audio-analysis/4bwPVMQoabglAtg0HqiUuO', 'https://api.spotify.com/v1/audio-analysis/03WMhty0KQ2ppU30LiyKy4', 'https://api.spotify.com/v1/audio-analysis/6ths4lLgtobquTsQ6hM6oa', 'https://api.spotify.com/v1/audio-analysis/6UWcp6ASpVIvUWX5eZMtp2', 'https://api.spotify.com/v1/audio-analysis/2giJeD2J4YowE79mo8Fnqm', 'https://api.spotify.com/v1/audio-analysis/2PfPIIxUiH9Y7miXqiQdqv', 'https://api.spotify.com/v1/audio-analysis/7CaFGdmcY0tZev9f6zKzDR', 'https://api.spotify.com/v1/audio-analysis/1QBhGI8QTvMYpp6i8FYiE0', 'https://api.spotify.com/v1/audio-analysis/4mVY5qhPe2PWDvf7E2Sn0d', 'https://api.spotify.com/v1/audio-analysis/1tmEnZhAhwUjzwJ7L0QFAh', 'https://api.spotify.com/v1/audio-analysis/7Id3qONAw6sXE92FlfZEWI', 'https://api.spotify.com/v1/audio-analysis/3KkdZgcQxYQQZQXumGO1Cy', 'https://api.spotify.com/v1/audio-analysis/3UBZKE16VUDdeZj1VOPL0b', 'https://api.spotify.com/v1/audio-analysis/0s1QWICdAhug2jCIZJ4QQZ', 'https://api.spotify.com/v1/audio-analysis/3EpySzSXQYevKTq1glwGos', 'https://api.spotify.com/v1/audio-analysis/44bUdMl0JyKxyDS4qku5SB', 'https://api.spotify.com/v1/audio-analysis/6R3xtNGXOTqp8Qzuf22jaW', 'https://api.spotify.com/v1/audio-analysis/6FaOW5zkj9QtfDSTeHkUCI', 'https://api.spotify.com/v1/audio-analysis/3w5V2euF3wWJnZkkt0QBxq', 'https://api.spotify.com/v1/audio-analysis/5toHaNWeaCf5cw9Jfn6yK4', 'https://api.spotify.com/v1/audio-analysis/1yYLMVMSM2u7t1yfzAivy1', 'https://api.spotify.com/v1/audio-analysis/0T9wtwG6ZJNgeqBBiGrwGK', 'https://api.spotify.com/v1/audio-analysis/04EchQ81oKTRmabY8QMLsq', 'https://api.spotify.com/v1/audio-analysis/6roMwL3sNdHRO2MRVmkBRn', 'https://api.spotify.com/v1/audio-analysis/5kA30CMKo6wUWiINlG4YXt', 'https://api.spotify.com/v1/audio-analysis/5smfgFsXaD4F510jOD0wLa', 'https://api.spotify.com/v1/audio-analysis/5OSMwHdDsn4a7VBEOFACWg', 'https://api.spotify.com/v1/audio-analysis/1hp6svNriVSFySA6rhsI5a', 'https://api.spotify.com/v1/audio-analysis/45UT1NY9lpbJfdYp5Kdd1U', 'https://api.spotify.com/v1/audio-analysis/0hLa19JP4bItkpyTjopqOb', 'https://api.spotify.com/v1/audio-analysis/7tPjMXhFI1eSWUQlnlXEqy', 'https://api.spotify.com/v1/audio-analysis/6YTphVWLG14d3eUiQ5grmU', 'https://api.spotify.com/v1/audio-analysis/16RpNkwx8gaDyXD6duTt1l', 'https://api.spotify.com/v1/audio-analysis/1LmmaY7vbIRD5qUnB507lz', 'https://api.spotify.com/v1/audio-analysis/6w4Mc2Twjlm1gu6G4Qrqhd', 'https://api.spotify.com/v1/audio-analysis/4km8XxyYCw5CSHM5H36K47', 'https://api.spotify.com/v1/audio-analysis/5Qhf6Er2tQ71pluUxFwDqI', 'https://api.spotify.com/v1/audio-analysis/7mYRC0kv4oI7ipqoPT8aXM', 'https://api.spotify.com/v1/audio-analysis/053W70CWRzK053YEA8XBVW', 'https://api.spotify.com/v1/audio-analysis/5mIf7UP0FEsGaGWBVjrNKP', 'https://api.spotify.com/v1/audio-analysis/0O1wsXEiOMPwFSCdmpP6C0', 'https://api.spotify.com/v1/audio-analysis/0Yr1TfeacyGFyDe0aWDla9', 'https://api.spotify.com/v1/audio-analysis/0Jv6znEgiRN0QpJXQ9aaWA', 'https://api.spotify.com/v1/audio-analysis/7GsKP7AgvqfNNJw74MhSLF', 'https://api.spotify.com/v1/audio-analysis/7Fyfpwv9UUzfVUsfcoQzQt', 'https://api.spotify.com/v1/audio-analysis/1BOv46ISdg4Xuv5Ou7M1cG', 'https://api.spotify.com/v1/audio-analysis/7LyA1NPfCyT6mzx6MYTzFG', 'https://api.spotify.com/v1/audio-analysis/3MkCJcOcLK0PaYy4QgKpWk', 'https://api.spotify.com/v1/audio-analysis/2bBrRe20ZB7pJMQaNJ4nwk', 'https://api.spotify.com/v1/audio-analysis/12sbRlZqz4ubIjKfft0tAk', 'https://api.spotify.com/v1/audio-analysis/1ot6jEe4w4hYnsOPjd3xKQ', 'https://api.spotify.com/v1/audio-analysis/4qv7YSyt5UV8LvrXyE8sGn', 'https://api.spotify.com/v1/audio-analysis/1TfqLAPs4K3s2rJMoCokcS', 'https://api.spotify.com/v1/audio-analysis/1jDJFeK9x3OZboIAHsY9k2', 'https://api.spotify.com/v1/audio-analysis/4y1LsJpmMti1PfRQV9AWWe', 'https://api.spotify.com/v1/audio-analysis/3YMTNzrRktpHDsi6OrmZNO', 'https://api.spotify.com/v1/audio-analysis/2vz1CsL5WBsbpBcwgboTAw', 'https://api.spotify.com/v1/audio-analysis/1OOtq8tRnDM8kG2gqUPjAj', 'https://api.spotify.com/v1/audio-analysis/7o7E1nrHWncYY7PY94gCiX', 'https://api.spotify.com/v1/audio-analysis/4aKIs5t9TqP59btlCGPrgw', 'https://api.spotify.com/v1/audio-analysis/2IvetNzSZMH5gwjInoyr18', 'https://api.spotify.com/v1/audio-analysis/7LmDmvqagpX0PKxveGtZTa', 'https://api.spotify.com/v1/audio-analysis/1xPSDf8z4dH46gkvlLtvDO', 'https://api.spotify.com/v1/audio-analysis/3cbV252akVZInSvJk7jAYX', 'https://api.spotify.com/v1/audio-analysis/5pSvjjfsh34sLrkYSNGCl4', 'https://api.spotify.com/v1/audio-analysis/5XsMz0YfEaHZE0MTb1aujs', 'https://api.spotify.com/v1/audio-analysis/0cGG2EouYCEEC3xfa0tDFV', 'https://api.spotify.com/v1/audio-analysis/3FlOciKDqFlTMPeC7t92Qy', 'https://api.spotify.com/v1/audio-analysis/2KH16WveTQWT6KOG9Rg6e2', 'https://api.spotify.com/v1/audio-analysis/4d6eqRtpDX7tydHJGDZUBQ', 'https://api.spotify.com/v1/audio-analysis/4k6ktr10Hczmh55NY3LfJy', 'https://api.spotify.com/v1/audio-analysis/273uCXd7NPrInaiNqtkOrA', 'https://api.spotify.com/v1/audio-analysis/6A4Jc8npNo79BOgsrPptLA', 'https://api.spotify.com/v1/audio-analysis/7fRvtXvJMpGfTLdF0M09a1', 'https://api.spotify.com/v1/audio-analysis/2FpyKkCFIfqmp6eQx4Rn1V', 'https://api.spotify.com/v1/audio-analysis/57Y3UccJEJqT8w8RWkUAz0', 'https://api.spotify.com/v1/audio-analysis/0F0MA0ns8oXwGw66B2BSXm', 'https://api.spotify.com/v1/audio-analysis/7INi4pMPG4IE0Smx5y4KVf', 'https://api.spotify.com/v1/audio-analysis/1RSy7B2vfPi84N80QJ6frX', 'https://api.spotify.com/v1/audio-analysis/6HA97v4wEGQ5TUClRM0XLc', 'https://api.spotify.com/v1/audio-analysis/5zA8vzDGqPl2AzZkEYQGKh', 'https://api.spotify.com/v1/audio-analysis/5tdKaKLnC4SgtDZ6RlWeal', 'https://api.spotify.com/v1/audio-analysis/0uI4aw6ms90qFNawk9H9CO', 'https://api.spotify.com/v1/audio-analysis/2eRmD96ncTEgQwJmXa6rrg', 'https://api.spotify.com/v1/audio-analysis/5yf83IdQmCRRAHwhNtSnvD', 'https://api.spotify.com/v1/audio-analysis/2olVm1lHicpveMAo4AUDRB', 'https://api.spotify.com/v1/audio-analysis/3koCCeSaVUyrRo3N2gHrd8', 'https://api.spotify.com/v1/audio-analysis/4WoT9wgK9o1cxBfKRWlRzx', 'https://api.spotify.com/v1/audio-analysis/3m0y8qLoznUYi73SUBP8GI', 'https://api.spotify.com/v1/audio-analysis/1uI848raFaNWwe9HjHpjQ5', 'https://api.spotify.com/v1/audio-analysis/21qnJAMtzC6S5SESuqQLEK', 'https://api.spotify.com/v1/audio-analysis/5vdp5UmvTsnMEMESIF2Ym7', 'https://api.spotify.com/v1/audio-analysis/0Z7O8GMQShj9TJrm2yX1R6', 'https://api.spotify.com/v1/audio-analysis/0RgLPN21aV1Ps39Tyb7268', 'https://api.spotify.com/v1/audio-analysis/4uLU6hMCjMI75M1A2tKUQC', 'https://api.spotify.com/v1/audio-analysis/4lRdpZYTwaPpuKpquO6bo3', 'https://api.spotify.com/v1/audio-analysis/3hVrI7snZMTmHCnbwME47u', 'https://api.spotify.com/v1/audio-analysis/5RLDIY4PICQWxdlLfDHNfi', 'https://api.spotify.com/v1/audio-analysis/369JKykZZr1qzv9pg5zAhz', 'https://api.spotify.com/v1/audio-analysis/6sT9MWlJManry3EQwf4V80', 'https://api.spotify.com/v1/audio-analysis/2s1lS0DxcxTB8Y6oFgVKqW', 'https://api.spotify.com/v1/audio-analysis/27NovPIUIRrOZoCHxABJwK', 'https://api.spotify.com/v1/audio-analysis/27Z3UdqvdAhtJlWBMoDjBD', 'https://api.spotify.com/v1/audio-analysis/4IbDTrLxImTJfZePAX2nKB', 'https://api.spotify.com/v1/audio-analysis/3IR9wKWxI0TK1DLXvZq8uQ', 'https://api.spotify.com/v1/audio-analysis/37Nqx7iavZpotJSDXZWbJ3', 'https://api.spotify.com/v1/audio-analysis/6CyIkPh5mRkJg7T5xXynQ8', 'https://api.spotify.com/v1/audio-analysis/2kUKeN9ZpYHqfBjB8Gphb2', 'https://api.spotify.com/v1/audio-analysis/6D5R8LKkeTmQveLoUKrK0D', 'https://api.spotify.com/v1/audio-analysis/6Uj1ctrBOjOas8xZXGqKk4', 'https://api.spotify.com/v1/audio-analysis/14M6BbiHt2w9KHVvoIUIUF', 'https://api.spotify.com/v1/audio-analysis/2gmTz7pHMqAk6fpOc88qxA', 'https://api.spotify.com/v1/audio-analysis/7r9KkTYiFYMuNcGR4aySxh', 'https://api.spotify.com/v1/audio-analysis/21AJQhGZpujjZQXByZAXpr', 'https://api.spotify.com/v1/audio-analysis/0JyX9jNf4mUdp1eNUVAqyR', 'https://api.spotify.com/v1/audio-analysis/5sLfmuQHJtPjSORQF2sbrJ', 'https://api.spotify.com/v1/audio-analysis/62nJqZs3Qs7DGUto35dVUv', 'https://api.spotify.com/v1/audio-analysis/7hU3IHwjX150XLoTVmjD0q', 'https://api.spotify.com/v1/audio-analysis/1VOn2rRxe7JBweoK4SINHe', 'https://api.spotify.com/v1/audio-analysis/4QAv7uyOwIgqOVgzczomOo', 'https://api.spotify.com/v1/audio-analysis/6YC6zgdJog4gw0y2IyfRmR', 'https://api.spotify.com/v1/audio-analysis/40uMIn2zJLAQhNXghRjBed', 'https://api.spotify.com/v1/audio-analysis/13tc5dzElXbImNjDzz4E2B', 'https://api.spotify.com/v1/audio-analysis/3bGGvbwbhq9kIMhHaXBdYL', 'https://api.spotify.com/v1/audio-analysis/1SelxYHPb04GjUy0oYV1Jw', 'https://api.spotify.com/v1/audio-analysis/25r6MZ4Gtd76l43qnZI1DG', 'https://api.spotify.com/v1/audio-analysis/6Vcxzw4ifKqYxVrp3ckpVF', 'https://api.spotify.com/v1/audio-analysis/2vd2HEhrkafOi2uveHjzzh', 'https://api.spotify.com/v1/audio-analysis/0e8nrvls4Qqv5Rfa2UhqmO', 'https://api.spotify.com/v1/audio-analysis/5csxKPX4HuN8UDEdHUxcqz', 'https://api.spotify.com/v1/audio-analysis/7qezIDRM0E3WTW1lWxItug', 'https://api.spotify.com/v1/audio-analysis/4PYfFHKfjYz6dwAtZhBy1z', 'https://api.spotify.com/v1/audio-analysis/3EwsJXInOSrHZqSRW2UceI', 'https://api.spotify.com/v1/audio-analysis/4CWcaGtaOyAqBDKIeZMUe0', 'https://api.spotify.com/v1/audio-analysis/7moGDROshDKDpuQxtQ3q4m', 'https://api.spotify.com/v1/audio-analysis/4XvcHTUfIlWfyJTRG0aqlo', 'https://api.spotify.com/v1/audio-analysis/731JjfIII1qYfeatc3zhtU', 'https://api.spotify.com/v1/audio-analysis/2Dv1CPIgX29t816ZLscdB2', 'https://api.spotify.com/v1/audio-analysis/1mBdiyA2OUySEprEEOKJ6g', 'https://api.spotify.com/v1/audio-analysis/06ZtJB09ab4la47q7ZcPbB', 'https://api.spotify.com/v1/audio-analysis/3z1YJ16Cgv4Zuw9ETkQQ9Z', 'https://api.spotify.com/v1/audio-analysis/5TUs6T93fNFvgQov6MlYkP', 'https://api.spotify.com/v1/audio-analysis/6kie23fo40j9gBNWGWg5Dc', 'https://api.spotify.com/v1/audio-analysis/610XWgnlPtTUXWlJ0Q3jAV', 'https://api.spotify.com/v1/audio-analysis/4yQw7FR9lcvL6RHtegbJBh', 'https://api.spotify.com/v1/audio-analysis/3wlLBTQWAF6DnMhraXASQ0', 'https://api.spotify.com/v1/audio-analysis/3gsCAGsWr6pUm1Vy7CPPob', 'https://api.spotify.com/v1/audio-analysis/1k1Bqnv2R0uJXQN4u6LKYt', 'https://api.spotify.com/v1/audio-analysis/3pf96IFggfQuT6Gafqx2rt', 'https://api.spotify.com/v1/audio-analysis/4QT3YKobBj4BI7xCYRLr9u', 'https://api.spotify.com/v1/audio-analysis/0SzAKZYTUvDLqlPgllEb3N', 'https://api.spotify.com/v1/audio-analysis/2lhs6cxLdBCzFPbNQr6Qmj', 'https://api.spotify.com/v1/audio-analysis/0Eq4BMgsdV6DkLSJfX8eBt', 'https://api.spotify.com/v1/audio-analysis/3WMbD1OyfKuwWDWMNbPQ4g', 'https://api.spotify.com/v1/audio-analysis/5KgbyD2lQQlIupAaPjgiXg', 'https://api.spotify.com/v1/audio-analysis/3kEA66ZM9mCxwhynOxgsLh', 'https://api.spotify.com/v1/audio-analysis/7EIETgqBk63OdvVyIFDNKx', 'https://api.spotify.com/v1/audio-analysis/50f0mt35cIwwu3Krk7nS7b', 'https://api.spotify.com/v1/audio-analysis/5UcQ2g3M6Hh9gR8RmhjP9N', 'https://api.spotify.com/v1/audio-analysis/2zMJN9JvDlvGP4jB03l1Bz', 'https://api.spotify.com/v1/audio-analysis/1UNP66Mr3sPB3ItYt5bEUe', 'https://api.spotify.com/v1/audio-analysis/6ztstiyZL6FXzh4aG46ZPD', 'https://api.spotify.com/v1/audio-analysis/6tYIQpc9rX2wTBtb9Rh37K', 'https://api.spotify.com/v1/audio-analysis/6GNmMC3RoZ1WiilCcukXLW', 'https://api.spotify.com/v1/audio-analysis/57Y3UccJEJqT8w8RWkUAz0', 'https://api.spotify.com/v1/audio-analysis/7IQMKJNcppgahjNWVPmxkl', 'https://api.spotify.com/v1/audio-analysis/4vYauy3ABO65vTXggGYaZg', 'https://api.spotify.com/v1/audio-analysis/1CpDrx0Q7f2Wv3tBXDMt6z', 'https://api.spotify.com/v1/audio-analysis/2xSXw1EqGSAKc1e4TPaQvV', 'https://api.spotify.com/v1/audio-analysis/0lwHorTzvh8D4pQaWFYqnn', 'https://api.spotify.com/v1/audio-analysis/6StJLSmuKWwIfia0EUROQk', 'https://api.spotify.com/v1/audio-analysis/6TYPryzyiUkxMk7PlI8k9c', 'https://api.spotify.com/v1/audio-analysis/5csdrJ0JtFn0qvwlvSh2EI', 'https://api.spotify.com/v1/audio-analysis/37j56IWzpplKE5zrlQRmxc', 'https://api.spotify.com/v1/audio-analysis/4Af8yzidDPc520TFd4TmkE', 'https://api.spotify.com/v1/audio-analysis/6pMHMzwTsWIxLigr54GGVm', 'https://api.spotify.com/v1/audio-analysis/72PoJMDfdaw9gGECgA9kTZ', 'https://api.spotify.com/v1/audio-analysis/4TxBGpTxrNvRNhF39Dl3NQ', 'https://api.spotify.com/v1/audio-analysis/6Llr9PVC1cirKUwu7Fle83', 'https://api.spotify.com/v1/audio-analysis/3zYQ1KXzqBWRsxIqdVMoYF', 'https://api.spotify.com/v1/audio-analysis/1ot6jEe4w4hYnsOPjd3xKQ', 'https://api.spotify.com/v1/audio-analysis/1NQFeJQOvirHNJ4lp17XUZ', 'https://api.spotify.com/v1/audio-analysis/15ySyt38mBi1v4xMLRfD25', 'https://api.spotify.com/v1/audio-analysis/7tqhbajSfrz2F7E1Z75ASX', 'https://api.spotify.com/v1/audio-analysis/7s25THrKz86DM225dOYwnr', 'https://api.spotify.com/v1/audio-analysis/38DAUnVJ0zqOdRuW7RG3sl', 'https://api.spotify.com/v1/audio-analysis/5GcDAsm0vgFWsrcL4kqK6k', 'https://api.spotify.com/v1/audio-analysis/3qZHUZTQiTMfJXcUYzY5mT', 'https://api.spotify.com/v1/audio-analysis/34b3a3Pz9Jlz0092LMyNAB', 'https://api.spotify.com/v1/audio-analysis/300RfAPZ57B0y6YYj9n6DN', 'https://api.spotify.com/v1/audio-analysis/3ClOMebBxeNTYCOfTH24YJ', 'https://api.spotify.com/v1/audio-analysis/5uES1C2NgkdrNHiCwf9jRr', 'https://api.spotify.com/v1/audio-analysis/714hERk9U1W8FMYkoC83CO', 'https://api.spotify.com/v1/audio-analysis/1JQ6Xm1JrvHfvAqhl5pwaA', 'https://api.spotify.com/v1/audio-analysis/1mCI3atQyw3r8rd0icztLR', 'https://api.spotify.com/v1/audio-analysis/1it9umP1j9qSqzKbSLLqqy', 'https://api.spotify.com/v1/audio-analysis/6RANU8AS5ICU5PEHh8BYtH', 'https://api.spotify.com/v1/audio-analysis/5qo4PkfY1ncj3NGTHDaZQF', 'https://api.spotify.com/v1/audio-analysis/22ff60cZy4APp7bzESHLR8', 'https://api.spotify.com/v1/audio-analysis/4N3stlRuz5cBNI4J4vDJ18', 'https://api.spotify.com/v1/audio-analysis/6K4t31amVTZDgR3sKmwUJJ', 'https://api.spotify.com/v1/audio-analysis/3kLVvnXLbuQuu1sanJNDjf', 'https://api.spotify.com/v1/audio-analysis/7gARZ2i5u5DHC1b1n1fML5', 'https://api.spotify.com/v1/audio-analysis/0bXpmJyHHYPk6QBFj25bYF', 'https://api.spotify.com/v1/audio-analysis/0yc6Gst2xkRu0eMLeRMGCX', 'https://api.spotify.com/v1/audio-analysis/7w87IxuO7BDcJ3YUqCyMTT', 'https://api.spotify.com/v1/audio-analysis/1Bz9S9TweSbkFeXM5NdtOC', 'https://api.spotify.com/v1/audio-analysis/4JHg4nNYUJQ5HULcCmI18R', 'https://api.spotify.com/v1/audio-analysis/1wgqttlPacpvmX5DKVboOa', 'https://api.spotify.com/v1/audio-analysis/6vECYJHxYmm3Ydt3fF01pE', 'https://api.spotify.com/v1/audio-analysis/6GyFP1nfCDB8lbD2bG0Hq9', 'https://api.spotify.com/v1/audio-analysis/0d28khcov6AiegSCpG5TuT', 'https://api.spotify.com/v1/audio-analysis/3Ty7OTBNSigGEpeW2PqcsC', 'https://api.spotify.com/v1/audio-analysis/7d23MhPFE9eB3U8DPRirnL', 'https://api.spotify.com/v1/audio-analysis/0iTpQYzJnYgh7kIxyq8A2O', 'https://api.spotify.com/v1/audio-analysis/15Hb4YapPuC0iNGvez2PXE', 'https://api.spotify.com/v1/audio-analysis/4iG2gAwKXsOcijVaVXzRPW', 'https://api.spotify.com/v1/audio-analysis/7kcy8ctwafCfiUFuBcvxpp', 'https://api.spotify.com/v1/audio-analysis/6bS7DqTuzrpkluB7boWmw2', 'https://api.spotify.com/v1/audio-analysis/7w5cxTEzp1rfV3KCy0Bd5N', 'https://api.spotify.com/v1/audio-analysis/4dyx5SzxPPaD8xQIid5Wjj', 'https://api.spotify.com/v1/audio-analysis/3RRf5KNBCzK3uxWKRAC67q', 'https://api.spotify.com/v1/audio-analysis/1mvyqSb1tOvtVP1qfWEyPa', 'https://api.spotify.com/v1/audio-analysis/6QgjcU0zLnzq5OrUoSZ3OK', 'https://api.spotify.com/v1/audio-analysis/295WZ1UJn67ZaiQMWrSkys', 'https://api.spotify.com/v1/audio-analysis/70WyPf8WtXvG3CgeTZZWz6', 'https://api.spotify.com/v1/audio-analysis/1NyFRrFiJAJIaR6icj1goI', 'https://api.spotify.com/v1/audio-analysis/3dYD57lRAUcMHufyqn9GcI', 'https://api.spotify.com/v1/audio-analysis/0V2SavjRuimH4TIbrKyyN0', 'https://api.spotify.com/v1/audio-analysis/5RoIXwyTCdyUjpMMkk4uPd', 'https://api.spotify.com/v1/audio-analysis/2KOvNaMJcuaYTciDe2TmCP', 'https://api.spotify.com/v1/audio-analysis/2UWdUez9MB9yzL7Y81Mcip', 'https://api.spotify.com/v1/audio-analysis/24jvD83UgLmrdGjhWTFslY', 'https://api.spotify.com/v1/audio-analysis/2nvZv4qatgsDIbEqqbQLUT', 'https://api.spotify.com/v1/audio-analysis/244AvzGQ4Ksa5637JQu5Gy', 'https://api.spotify.com/v1/audio-analysis/6xVdHfNIcWB0Bzd1obzcwj', 'https://api.spotify.com/v1/audio-analysis/12pdXFcruNcPUbZypKUDgz', 'https://api.spotify.com/v1/audio-analysis/6ZEaDwf50SdJzHcVSQx0vL', 'https://api.spotify.com/v1/audio-analysis/3g86N0SqyfxEVNMHlmW3RE', 'https://api.spotify.com/v1/audio-analysis/4c9WmjVlQMr0s1IjbYO52Z', 'https://api.spotify.com/v1/audio-analysis/2xbrMtkxp399aSiCJ8EAON', 'https://api.spotify.com/v1/audio-analysis/4m8ttWM8IKXyhpv89E867J', 'https://api.spotify.com/v1/audio-analysis/5rAff9XfcWx7rguN3t0fkW', 'https://api.spotify.com/v1/audio-analysis/6L4fEE9awoUnSEy1bmQebb', 'https://api.spotify.com/v1/audio-analysis/1jy7SkRcmBCTcv4ZMtwz29', 'https://api.spotify.com/v1/audio-analysis/3VPp3qrfCioIbPmp7c7Con', 'https://api.spotify.com/v1/audio-analysis/3ji1o94rKqulYA4I2eDKat', 'https://api.spotify.com/v1/audio-analysis/4j4pPKE3xAblPIbhxScC1j', 'https://api.spotify.com/v1/audio-analysis/7vRdcsmD92oErIQDnmp60e', 'https://api.spotify.com/v1/audio-analysis/2fXKyAyPrEa24c6PJyqznF', 'https://api.spotify.com/v1/audio-analysis/5fwSHlTEWpluwOM0Sxnh5k', 'https://api.spotify.com/v1/audio-analysis/3c8iiZGfEammKJuWTErE5x', 'https://api.spotify.com/v1/audio-analysis/6zSpb8dQRaw0M1dK8PBwQz', 'https://api.spotify.com/v1/audio-analysis/4ofwffwvvnbSkrMSCKQDaC', 'https://api.spotify.com/v1/audio-analysis/3Iba59sFmGhQ4kbCY5L8AX', 'https://api.spotify.com/v1/audio-analysis/2Z8WuEywRWYTKe1NybPQEW', 'https://api.spotify.com/v1/audio-analysis/0iVkWge9ytV4Scgy2hQ2za', 'https://api.spotify.com/v1/audio-analysis/4Ljs6Dvpz7Arf9Ac8RN7tn', 'https://api.spotify.com/v1/audio-analysis/5FqaXHqw79ILxvJUKvOzxc', 'https://api.spotify.com/v1/audio-analysis/780be5fB7823aHG06mwTat', 'https://api.spotify.com/v1/audio-analysis/0e8nrvls4Qqv5Rfa2UhqmO', 'https://api.spotify.com/v1/audio-analysis/2vBET2pmrQqafaS6zIaYta', 'https://api.spotify.com/v1/audio-analysis/5PjdY0CKGZdEuoNab3yDmX', 'https://api.spotify.com/v1/audio-analysis/77sFlmQh56N5VSBMKX7e63', 'https://api.spotify.com/v1/audio-analysis/0J07ya7WC09FaQADutoBRZ', 'https://api.spotify.com/v1/audio-analysis/45PF1Y3RcW5MK0jxWvhc4D', 'https://api.spotify.com/v1/audio-analysis/41rOnZXVg3cLacziEBgkpW', 'https://api.spotify.com/v1/audio-analysis/1058fW9H3fZA6QjYCdOBad', 'https://api.spotify.com/v1/audio-analysis/6PQ88X9TkUIAUIZJHW2upE', 'https://api.spotify.com/v1/audio-analysis/1gOANd4qcnkftl869IOvBu', 'https://api.spotify.com/v1/audio-analysis/6IPNp9PfaEqrzotY47TIWy', 'https://api.spotify.com/v1/audio-analysis/5WHTFyqSii0lmT9R21abT8', 'https://api.spotify.com/v1/audio-analysis/1OWLQ4FQrO13w6ssWgP8tk', 'https://api.spotify.com/v1/audio-analysis/5tf1VVWniHgryyumXyJM7w', 'https://api.spotify.com/v1/audio-analysis/3uUuGVFu1V7jTQL60S1r8z', 'https://api.spotify.com/v1/audio-analysis/2YWjW3wwQIBLNhxWKBQd16', 'https://api.spotify.com/v1/audio-analysis/6OGogr19zPTM4BALXuMQpF', 'https://api.spotify.com/v1/audio-analysis/5dyDkXi1bnQKSyIdO0JXp8', 'https://api.spotify.com/v1/audio-analysis/0xfMlIW8lS40qvpsUw1l0X', 'https://api.spotify.com/v1/audio-analysis/2gam98EZKrF9XuOkU13ApN', 'https://api.spotify.com/v1/audio-analysis/03SEp9sXkAOAgxJtSLuVEi', 'https://api.spotify.com/v1/audio-analysis/4sOjKbpa7RLZVRNxcO26eb', 'https://api.spotify.com/v1/audio-analysis/5itOtNx0WxtJmi1TQ3RuRd', 'https://api.spotify.com/v1/audio-analysis/75MNhvTCCKsST3YqqUiU9r', 'https://api.spotify.com/v1/audio-analysis/1kPpge9JDLpcj15qgrPbYX', 'https://api.spotify.com/v1/audio-analysis/5UbJD3lat3SVDDBXmf8gLc', 'https://api.spotify.com/v1/audio-analysis/03aENfSuuy3VS0sbgH7u1D', 'https://api.spotify.com/v1/audio-analysis/6Uj1ctrBOjOas8xZXGqKk4', 'https://api.spotify.com/v1/audio-analysis/0nrRP2bk19rLc0orkWPQk2', 'https://api.spotify.com/v1/audio-analysis/0mV43B6pJWRjcM5TmzNe6d', 'https://api.spotify.com/v1/audio-analysis/1XGmzt0PVuFgQYYnV2It7A', 'https://api.spotify.com/v1/audio-analysis/4ZtFanR9U6ndgddUvNcjcG', 'https://api.spotify.com/v1/audio-analysis/2S5LNtRVRPbXk01yRQ14sZ', 'https://api.spotify.com/v1/audio-analysis/0KzCNeuMVGXbnMbjX6ilCU', 'https://api.spotify.com/v1/audio-analysis/49FYlytm3dAAraYgpoJZux', 'https://api.spotify.com/v1/audio-analysis/7cdy4PbCdDZZNjyxoZyE0c', 'https://api.spotify.com/v1/audio-analysis/7vFoFDWqTX0mHzLfrF1Cfy', 'https://api.spotify.com/v1/audio-analysis/6Dy1jexKYriXAVG6evyUTJ', 'https://api.spotify.com/v1/audio-analysis/1qSQ8ivU7OPqFcEO1D99vU', 'https://api.spotify.com/v1/audio-analysis/3vXnuFnC5RhPGwsFi0ORcI', 'https://api.spotify.com/v1/audio-analysis/7FhcGzIb6BUapFSNVwxpCq', 'https://api.spotify.com/v1/audio-analysis/3HLUrzmua2lTafzu3heQZV', 'https://api.spotify.com/v1/audio-analysis/3mvMxWdTEy3sNZoRUNeris', 'https://api.spotify.com/v1/audio-analysis/0bPKPZ6qlfwptPL6ta6t43', 'https://api.spotify.com/v1/audio-analysis/3tJljA8IkRARbsFojNbwRl', 'https://api.spotify.com/v1/audio-analysis/3Fg9sxDMmWwodqI678gIwX', 'https://api.spotify.com/v1/audio-analysis/41xAUseykaaSdmry5hVOkV', 'https://api.spotify.com/v1/audio-analysis/6WNVFXtZyFmfosAxvisgPL', 'https://api.spotify.com/v1/audio-analysis/1ncaQAHCLAOjgnceZhqYt5', 'https://api.spotify.com/v1/audio-analysis/5G7ub4dl5ABYB1fYlgCJ2i', 'https://api.spotify.com/v1/audio-analysis/4xSRna7VTC2qN3INhdpYmD', 'https://api.spotify.com/v1/audio-analysis/3hYClPLgnc4Eu5GIU87Kkk', 'https://api.spotify.com/v1/audio-analysis/303oeyQJklQReUBrszN2j2', 'https://api.spotify.com/v1/audio-analysis/0QIshyPSwHWvmA2jzs2LND', 'https://api.spotify.com/v1/audio-analysis/0LHDyKHY7sZfc2YLMfiJBw', 'https://api.spotify.com/v1/audio-analysis/7h7wrenhCbADpRK6ItHxI0', 'https://api.spotify.com/v1/audio-analysis/7ayi6LtgxUK4057CF7MCJL', 'https://api.spotify.com/v1/audio-analysis/1h7LWORFpHl8qTz8xXlVYN', 'https://api.spotify.com/v1/audio-analysis/76Ef208V2nkxvbvs7pzKdA', 'https://api.spotify.com/v1/audio-analysis/1rp1KboJQdhF8gRKdm3Alk', 'https://api.spotify.com/v1/audio-analysis/6SLZaOxvjCJ6RnpbH8imwZ', 'https://api.spotify.com/v1/audio-analysis/360Xv6Pn6ENVkFD7Hcfymf', 'https://api.spotify.com/v1/audio-analysis/6w5FDbVTPCk582bYwQGbDN', 'https://api.spotify.com/v1/audio-analysis/6KCVVAM5j4JukdJ8BpNVjv', 'https://api.spotify.com/v1/audio-analysis/4D7PndWbd8MB96lDZF3te2', 'https://api.spotify.com/v1/audio-analysis/2ZSFeJu61yIbsXG2KJbcGG', 'https://api.spotify.com/v1/audio-analysis/1LqvKE7xaNbACFD8GbyT4l', 'https://api.spotify.com/v1/audio-analysis/4kdzLRk1pX5kTLcgoDqaQ7', 'https://api.spotify.com/v1/audio-analysis/5vBKODjjr4NVPqW0sNNvr0', 'https://api.spotify.com/v1/audio-analysis/3RHMz6FpEF6SHoOlk831Nh', 'https://api.spotify.com/v1/audio-analysis/0ndvphNmJuUDL6JLHhMiki', 'https://api.spotify.com/v1/audio-analysis/2uB3uXWY1iwknxWQ5gD2g4', 'https://api.spotify.com/v1/audio-analysis/2njmoIaPd0hKIlCFtyGHUZ', 'https://api.spotify.com/v1/audio-analysis/6bAaEf97dH8fzQhLPiLacp', 'https://api.spotify.com/v1/audio-analysis/4GjRmJWJmEHXgH0Qdbw6Os', 'https://api.spotify.com/v1/audio-analysis/4HS5UK3JioFXvHLP14ydJB', 'https://api.spotify.com/v1/audio-analysis/6SBDaSKJHFlDpaFKDn4Dy7', 'https://api.spotify.com/v1/audio-analysis/6U6SpEY3xhXSw9A6l4WU1N', 'https://api.spotify.com/v1/audio-analysis/4iNdMRQRQ0cMunOLCPnkXQ', 'https://api.spotify.com/v1/audio-analysis/0OueLn8Bd2P2XU9aX1My4Z', 'https://api.spotify.com/v1/audio-analysis/1ABDYmUKWYAY7FjGKOFLyU', 'https://api.spotify.com/v1/audio-analysis/2Dh8f30wYZ97NWo2NL4e8c', 'https://api.spotify.com/v1/audio-analysis/7hbIay5rEvtVH9iI40vQMG', 'https://api.spotify.com/v1/audio-analysis/38TKubI8iddW5RZZq4znNx', 'https://api.spotify.com/v1/audio-analysis/3yv4jovrvRsUXi8LxJBzip', 'https://api.spotify.com/v1/audio-analysis/2N3ft2Plv5PXRYuOBVRoqq', 'https://api.spotify.com/v1/audio-analysis/1yxX9H77a40Xn1AFCru6kD', 'https://api.spotify.com/v1/audio-analysis/45nOY1My3YTbbO7lAxrIGm', 'https://api.spotify.com/v1/audio-analysis/0Yr1TfeacyGFyDe0aWDla9', 'https://api.spotify.com/v1/audio-analysis/2dI1vNXtxBDQzJqM6cxiY0', 'https://api.spotify.com/v1/audio-analysis/3FeVmId7tL5YN8B7R3imoM', 'https://api.spotify.com/v1/audio-analysis/0J07ya7WC09FaQADutoBRZ', 'https://api.spotify.com/v1/audio-analysis/45PF1Y3RcW5MK0jxWvhc4D', 'https://api.spotify.com/v1/audio-analysis/2gQPv5jvVPqU2a9HhMNO1v', 'https://api.spotify.com/v1/audio-analysis/6ngjb2Je6gEjjVOOQpWSWG', 'https://api.spotify.com/v1/audio-analysis/5CZ40GBx1sQ9agT82CLQCT', 'https://api.spotify.com/v1/audio-analysis/2Xr1dTzJee307rmrkt8c0g', 'https://api.spotify.com/v1/audio-analysis/7rglLriMNBPAyuJOMGwi39', 'https://api.spotify.com/v1/audio-analysis/4sOjKbpa7RLZVRNxcO26eb', 'https://api.spotify.com/v1/audio-analysis/149BxWeweaCqmsyedkNiiE', 'https://api.spotify.com/v1/audio-analysis/07MDkzWARZaLEdKxo6yArG', 'https://api.spotify.com/v1/audio-analysis/3DarAbFujv6eYNliUTyqtz', 'https://api.spotify.com/v1/audio-analysis/6M3PsepEj5gyJoIi7Xvr7u', 'https://api.spotify.com/v1/audio-analysis/3IM7zXywZ6sRTtkRjRLxJ8', 'https://api.spotify.com/v1/audio-analysis/75MNhvTCCKsST3YqqUiU9r', 'https://api.spotify.com/v1/audio-analysis/7zjEyeBsaw9gV0jofJLfOM', 'https://api.spotify.com/v1/audio-analysis/6IPNp9PfaEqrzotY47TIWy', 'https://api.spotify.com/v1/audio-analysis/1diS6nkxMQc3wwC4G1j0bh', 'https://api.spotify.com/v1/audio-analysis/0iVkWge9ytV4Scgy2hQ2za', 'https://api.spotify.com/v1/audio-analysis/4qu63nuBpdn0qHUHuObEj1', 'https://api.spotify.com/v1/audio-analysis/6nRSyu4oOed8HgcVxV1cWl', 'https://api.spotify.com/v1/audio-analysis/3USxtqRwSYz57Ewm6wWRMp', 'https://api.spotify.com/v1/audio-analysis/24OeEKPQ8qqNZnPevRHxUT', 'https://api.spotify.com/v1/audio-analysis/2JPLbjOn0wPCngEot2STUS', 'https://api.spotify.com/v1/audio-analysis/0gplL1WMoJ6iYaPgMCL0gX', 'https://api.spotify.com/v1/audio-analysis/71qB68guEJjbvtjlkZ8DF5', 'https://api.spotify.com/v1/audio-analysis/6Uj1ctrBOjOas8xZXGqKk4', 'https://api.spotify.com/v1/audio-analysis/5fwSHlTEWpluwOM0Sxnh5k', 'https://api.spotify.com/v1/audio-analysis/1bwhDrXcAtqePp8mNJ0pTe', 'https://api.spotify.com/v1/audio-analysis/1Cx3Lpnto8xJ5dsfU3DPus', 'https://api.spotify.com/v1/audio-analysis/3uUuGVFu1V7jTQL60S1r8z', 'https://api.spotify.com/v1/audio-analysis/00Blm7zeNqgYLPtW6zg8cj', 'https://api.spotify.com/v1/audio-analysis/6PQ88X9TkUIAUIZJHW2upE', 'https://api.spotify.com/v1/audio-analysis/3eJH2nAjvNXdmPfBkALiPZ', 'https://api.spotify.com/v1/audio-analysis/0fQfJFfngYfG26560HLMLN', 'https://api.spotify.com/v1/audio-analysis/1SC5rEoYDGUK4NfG82494W', 'https://api.spotify.com/v1/audio-analysis/3vXnuFnC5RhPGwsFi0ORcI', 'https://api.spotify.com/v1/audio-analysis/0z8hI3OPS8ADPWtoCjjLl6', 'https://api.spotify.com/v1/audio-analysis/5HCyWlXZPP0y6Gqq8TgA20', 'https://api.spotify.com/v1/audio-analysis/46nvQpUDsxpS08UTFOeKTA', 'https://api.spotify.com/v1/audio-analysis/2gpWyfu7eZ01zzncHpxOtA', 'https://api.spotify.com/v1/audio-analysis/4btFHqumCO31GksfuBLLv3', 'https://api.spotify.com/v1/audio-analysis/1058fW9H3fZA6QjYCdOBad', 'https://api.spotify.com/v1/audio-analysis/18XlJEroUwFo0tLZxscgXE', 'https://api.spotify.com/v1/audio-analysis/08SB2OtZkaliju77WYEKxk', 'https://api.spotify.com/v1/audio-analysis/6I3mqTwhRpn34SLVafSH7G', 'https://api.spotify.com/v1/audio-analysis/0HLhptvI8NozbOHRLNniFz', 'https://api.spotify.com/v1/audio-analysis/0e8nrvls4Qqv5Rfa2UhqmO', 'https://api.spotify.com/v1/audio-analysis/6RBfz4bNLNzvt37HycN1Xf', 'https://api.spotify.com/v1/audio-analysis/32BeYxKPrig1LefHsC0Xuo'], 'duration_ms': [193507, 378080, 200688, 149610, 197443, 160160, 231498, 179027, 164819, 131373, 264199, 221124, 152182, 150142, 210280, 268733, 229347, 351293, 289653, 197815, 149520, 202202, 187173, 206040, 201507, 179227, 204836, 128771, 105681, 158601, 235435, 195662, 179474, 238378, 151188, 140760, 307987, 210528, 157740, 308000, 192625, 286253, 233627, 203387, 211373, 202321, 212533, 190253, 254609, 133846, 123200, 177534, 172522, 334107, 163348, 150939, 129743, 123983, 196773, 244973, 183723, 170333, 158343, 173864, 162171, 189520, 276092, 217373, 187040, 134264, 281107, 170878, 182298, 165422, 156461, 378080, 222448, 174671, 189400, 154280, 196733, 212796, 226253, 125307, 164653, 195027, 210528, 170534, 193981, 169350, 174053, 187173, 177500, 182177, 176908, 182298, 181547, 201840, 179373, 166040, 196414, 184853, 228120, 185573, 203920, 258427, 165202, 172960, 197787, 180688, 185093, 152689, 198246, 178655, 175290, 154253, 159434, 170693, 143904, 226840, 208960, 197520, 194709, 174655, 206987, 190909, 127874, 217520, 223269, 205000, 191256, 169600, 175003, 231387, 232947, 191328, 161000, 201280, 167705, 179266, 155188, 176653, 217864, 221299, 300175, 223573, 178807, 218526, 187621, 150000, 183093, 151674, 177903, 175435, 216800, 140811, 177894, 215725, 185837, 235068, 177175, 212579, 160612, 148356, 146786, 238220, 199535, 230500, 218900, 157780, 191170, 231027, 200436, 197851, 201720, 222373, 202985, 229093, 200440, 208805, 236168, 204875, 223947, 178973, 223160, 185942, 217078, 145003, 210111, 217413, 210147, 192454, 161653, 238728, 223027, 157293, 214494, 186460, 216307, 173253, 229760, 202805, 266456, 202520, 165853, 163524, 218947, 246600, 226693, 191500, 177360, 228440, 187619, 146213, 252693, 165387, 239067, 188636, 214566, 247120, 200133, 213707, 190840, 160879, 230640, 230773, 216933, 183440, 238267, 228520, 226827, 258040, 252773, 271893, 324754, 229653, 244707, 237053, 225707, 230693, 153800, 320840, 245640, 215773, 368280, 378947, 237760, 235093, 222540, 244827, 457133, 304507, 450800, 233000, 197707, 275533, 181240, 228573, 262560, 234333, 339320, 238400, 245253, 234813, 320307, 214653, 244107, 229165, 213573, 310960, 224773, 314467, 250960, 272133, 222448, 212000, 154280, 191985, 174671, 221980, 153720, 189400, 144416, 172627, 196733, 195019, 198053, 190345, 149870, 213594, 154253, 168228, 151029, 168514, 186667, 184213, 212796, 174053, 183133, 183514, 201427, 197520, 143901, 193981, 217107, 108651, 183783, 179427, 190246, 123987, 155551, 190758, 211181, 137876, 171053, 390987, 195307, 212987, 139733, 198853, 286920, 125093, 242240, 387867, 386360, 346907, 226213, 208600, 212253, 322933, 303080, 262457, 210067, 314760, 275200, 288293, 177507, 212027, 244827, 219560, 363973, 380267, 284067, 261960, 316067, 305893, 246267, 196707, 217733, 200053, 156200, 258252, 332133, 177200, 230640, 298200, 275800, 151667, 147600, 211907, 368467, 288480, 232600, 244827, 331360, 158040, 244920, 256427, 200600, 230533, 394267, 412893, 191573, 486187, 216320, 277653, 227080, 127920, 290617, 239600, 255347, 189693, 205200, 313684, 243960, 222640, 308627, 284400, 243160, 198440, 261000, 175773, 249760, 303200, 276693, 204246, 193120, 163253, 220040, 230200, 238533, 241688, 385920, 230800, 239120, 315200, 281960, 210106, 168667, 221227, 214360, 223264, 181773, 240533, 254867, 219760, 335480, 236960, 283067, 287187, 266867, 173693, 245173, 351627, 287120, 186147, 202735, 201287, 226268, 214507, 147140, 210960, 135480, 180843, 143901, 220659, 141806, 196640, 184784, 204044, 199360, 164842, 231041, 276600, 225600, 178480, 196241, 219043, 148197, 176561, 220196, 172413, 169945, 242293, 169500, 228211, 229184, 207853, 205933, 149487, 189029, 172627, 247427, 177856, 231173, 178147, 224258, 216092, 275987, 209722, 180566, 162604, 211975, 190012, 178707, 193437, 207333, 237227, 220040, 205822, 266453, 187800, 277200, 244147, 255427, 297667, 171173, 191000, 232254, 246547, 214613, 217133, 208253, 236000, 224253, 198507, 181253, 230920, 186627, 207907, 339653, 191070, 180160, 205288, 251480, 197907, 204344, 198987, 178293, 208973, 284653, 200200, 257817, 268240, 238080, 188878, 211667, 227296, 196907, 178054, 170480, 206307, 165387, 241120, 228000, 184784, 204044, 168020, 196375, 229227, 145800, 202735, 228211, 244005, 162680, 208667, 220196, 219866, 207853, 210907, 225600, 165507, 147140, 154983, 188760, 238805, 187453, 206710, 224695, 180596, 172627, 287120, 179427, 176699, 148197, 193507, 231041, 139672, 212668, 137704, 190012, 184104, 141806, 165524, 234000, 236907, 164842, 172598, 231498, 153190, 158995, 143901, 156376, 151444], 'time_signature': [4, 4, 4, 4, 4, 4, 4, 4, 4, 4, 4, 4, 4, 4, 4, 4, 3, 4, 4, 4, 3, 4, 4, 4, 1, 4, 4, 4, 4, 4, 4, 4, 4, 4, 4, 4, 4, 4, 4, 4, 4, 4, 4, 4, 4, 4, 4, 4, 4, 4, 4, 4, 4, 4, 4, 4, 4, 4, 4, 4, 4, 4, 4, 4, 4, 4, 4, 4, 4, 4, 4, 4, 4, 4, 4, 4, 4, 5, 4, 4, 4, 4, 4, 4, 4, 4, 4, 4, 4, 4, 4, 4, 4, 4, 4, 4, 4, 4, 4, 4, 4, 4, 4, 4, 4, 5, 4, 4, 4, 4, 4, 4, 4, 4, 4, 4, 4, 4, 4, 4, 4, 4, 4, 4, 4, 4, 5, 4, 4, 4, 4, 4, 4, 4, 4, 4, 4, 4, 4, 4, 4, 4, 4, 4, 4, 4, 3, 1, 4, 4, 4, 5, 4, 4, 4, 4, 4, 4, 4, 4, 4, 4, 4, 4, 4, 4, 4, 4, 3, 4, 4, 4, 4, 4, 4, 4, 4, 4, 4, 4, 4, 4, 4, 4, 4, 4, 4, 4, 4, 4, 4, 4, 4, 4, 4, 4, 4, 4, 4, 4, 4, 4, 4, 4, 4, 4, 4, 4, 4, 4, 4, 4, 4, 4, 5, 4, 4, 4, 4, 3, 4, 4, 4, 4, 4, 4, 4, 4, 4, 4, 4, 4, 4, 4, 4, 4, 4, 4, 4, 4, 4, 4, 4, 4, 4, 4, 4, 4, 4, 4, 4, 4, 4, 4, 4, 4, 4, 4, 4, 4, 4, 4, 4, 4, 4, 4, 4, 4, 4, 4, 4, 4, 4, 4, 4, 4, 4, 4, 5, 4, 4, 4, 4, 4, 4, 4, 4, 3, 4, 4, 4, 4, 4, 4, 4, 4, 4, 4, 4, 4, 4, 4, 4, 4, 4, 4, 4, 4, 4, 4, 4, 4, 3, 4, 4, 4, 4, 4, 4, 4, 4, 4, 4, 4, 4, 4, 4, 4, 4, 4, 4, 4, 4, 4, 4, 4, 4, 4, 4, 4, 4, 4, 4, 4, 4, 4, 4, 4, 4, 4, 4, 4, 4, 4, 4, 4, 4, 4, 4, 4, 4, 4, 4, 4, 4, 4, 4, 4, 4, 4, 4, 4, 4, 4, 4, 4, 4, 4, 4, 4, 4, 4, 4, 4, 4, 4, 4, 4, 4, 4, 3, 4, 4, 4, 4, 4, 4, 4, 4, 4, 4, 4, 4, 4, 4, 4, 5, 1, 4, 4, 4, 4, 4, 4, 4, 4, 3, 4, 4, 4, 4, 4, 4, 4, 4, 4, 4, 4, 4, 4, 4, 4, 4, 4, 4, 4, 4, 4, 4, 4, 4, 4, 4, 4, 4, 4, 4, 4, 4, 4, 4, 4, 4, 4, 4, 4, 4, 4, 4, 4, 4, 4, 4, 4, 4, 4, 4, 4, 4, 4, 4, 4, 4, 3, 4, 4, 3, 3, 3, 4, 4, 4, 4, 4, 4, 4, 4, 4, 4, 3, 4, 4, 4, 4, 4, 4, 3, 4, 4, 4, 4, 4, 4, 4, 4, 4, 4, 4, 4, 4, 4, 4, 4, 4, 4, 3, 4, 4, 4, 4, 4, 4, 4, 4, 4, 4, 4, 4, 4, 4, 4, 4, 4, 4, 4, 4, 4, 4, 4, 4, 4, 4, 4, 4, 4, 4, 4, 4, 4, 4, 4, 4, 4, 4, 4, 4, 4, 4, 4, 4, 3, 4, 4, 4, 4, 4, 4, 4, 4, 4, 4, 4, 4, 3]}\n"
     ]
    },
    {
     "name": "stderr",
     "output_type": "stream",
     "text": [
      "\n"
     ]
    }
   ],
   "source": [
    "features = []\n",
    "index = 0\n",
    "for i in tqdm(tracks_id):\n",
    "#    for i in tqdm(playlist):\n",
    "    curr_dict = get_tracks_features([i])['audio_features'][0]\n",
    "    if curr_dict != None:\n",
    "        if index == 0:\n",
    "            for e in curr_dict:\n",
    "                features.append(e)\n",
    "                main_dict[e] = []\n",
    "        index += 1\n",
    "    \n",
    "        for feature in features:\n",
    "            main_dict[feature].append(curr_dict[feature])\n",
    "    else: print('Skiped!',i)\n",
    "print(features)\n",
    "print(main_dict)\n",
    "    \n"
   ]
  },
  {
   "cell_type": "code",
   "execution_count": 59,
   "metadata": {},
   "outputs": [
    {
     "data": {
      "text/plain": [
       "['00Blm7zeNqgYLPtW6zg8cj',\n",
       " '2O9enJqAqs46tfBlGhLsnW',\n",
       " '2JvWoj5bTklsb6fPzRfZ3x',\n",
       " '4R67rQNSbbsR4TdUVOIdez',\n",
       " '4iN16F8JtVxG2UTzp3avGl',\n",
       " '2QEtf4oCeJrfDeqf8rJiQK',\n",
       " '08SB2OtZkaliju77WYEKxk',\n",
       " '4H1CfsnXQonWnJeHzHuVUz',\n",
       " '18asYwWugKjjsihZ0YvRxO',\n",
       " '4SRkixF643LgySLh8owTkJ',\n",
       " '4MDDOpA7BwGDjYclTmCTVw',\n",
       " '19ZBncpk43fACvzKeqZIib',\n",
       " '38XLUjlR84JEwK0SOvX77a',\n",
       " '2u2gafIeAP55EjXhU768Zo',\n",
       " '4fcbxnnfUycb7fJAInJOob',\n",
       " '188rKyWMsC4WsKKZ85lnUO',\n",
       " '1544oKxSzETEcBpOKdf3de',\n",
       " '2lZrHFgxAdZrL0j8JvYhkc',\n",
       " '3RZauEkvORMeP06npyaIYa',\n",
       " '6RT5ir7all6RgZEAupLNlO',\n",
       " '2j1Os2WNkwb6KJvaiHFdUl',\n",
       " '280MV4FuB5uusjx8wj1dpt',\n",
       " '5YkXkfXWTE1pk6l2m78JnH',\n",
       " '0FiwMxsaV8SNBnjmZkHHra',\n",
       " '1mrGEef8GuaEnDdw8J5BQp',\n",
       " '4xD3DFKtDy9JkOOxcsTy3r',\n",
       " '1hkOuEeJQtDxHKBD8gJTBx',\n",
       " '1RBIzko2PMY5CP0d3MIkwl',\n",
       " '3YZdPvENFPytMyrnkRWm1B',\n",
       " '2BzAGK3lEZAQz5cU0Ae1wd',\n",
       " '2N9fGz3nPXci2w80p1lQIW',\n",
       " '2LnsEYFfPwk6ueO2OCBNLA',\n",
       " '1wAPbQ5XjbZqPl0WDl5mHH',\n",
       " '1pY5rVjr4BqQlJMx3S7Mmf',\n",
       " '1KCXEsHxKDq72C70fyM0vq',\n",
       " '77fRc8iT858bzRdcR4k8T8',\n",
       " '0CiJazqgaY4QhTNB66xfzm',\n",
       " '6cBvcf3JEn3NjIvaqkHkn0',\n",
       " '46PGzHQRAFjuVXB6fKRmDZ',\n",
       " '1MCvAAKHSdGhe4ZPq0YMrF',\n",
       " '7fdqKCfTKNv1UNwmCYHUpu',\n",
       " '6sb1CGojNdNMiToRfSNwzY',\n",
       " '5dXIrAUNLOcN2mYkCSeO3k',\n",
       " '38qCAgXW23GmzHG5bWhPzg',\n",
       " '0yPlsLJNceFwpgEiYMe0tv',\n",
       " '05nKsnLJGrsDwQIXAExTQt',\n",
       " '1kjixr3Tv9ku0HmXrDqWNH',\n",
       " '7GTlrFi1WMmZyLEUlRTihW',\n",
       " '6P5yJhVBhB0nV27SXhwTZc',\n",
       " '6v2ezoIqtD8UKjaQhqde6r',\n",
       " '6fSRCnfSfTBCbgoa6Nwhim',\n",
       " '4SEiKLEcOsLEtvU53N6bex',\n",
       " '70f71uZ7egz2Vshwx4D425',\n",
       " '7MwUFO1Av7sEOCUa1ULmwa',\n",
       " '6miahXSZE01l2lNDqNCfxQ',\n",
       " '3Kp4DMEXVilurnN1PBvHui',\n",
       " '2aDuY0WsvDlIs5KczrYFid',\n",
       " '7onHzHeOVE3M9p0tNKQbXc',\n",
       " '7pIoByp3uzkV6saBAHfG2c',\n",
       " '0PzcMfqECraaBGxX7zr7wV',\n",
       " '12e5rUktNoga7mdtziCw33',\n",
       " '46OKHucGhjhskazqD8tKnH',\n",
       " '0B8U71SDP0h9FF6xSZqftH',\n",
       " '6sjLKQtx6CbICWREw5tDPY',\n",
       " '0mPh3y1fgrZiWlhuNmPq5Y',\n",
       " '3fRK9qG08iZyWvqjOWkdKc',\n",
       " '7ytFo4I2OsaiGRhYdFGoQW',\n",
       " '3LBp0NzDmMXfbDbBlWD3vO',\n",
       " '1FOcJ48XhC9gBMyONLB2Cr',\n",
       " '5B6u8ImBwp0lKZXCH0tbx8',\n",
       " '7CtRS8xbsxUnT2ZA7uowqD',\n",
       " '5Cfh8D9E3CFEVj0LGjf9wU',\n",
       " '5oBUlWZcYKuYuuSsDeNQR7',\n",
       " '0Q3DprZOlvkOWlC3pmr5Mx',\n",
       " '1mS7CcE30VDxZAJOtgeIjA',\n",
       " '2O9enJqAqs46tfBlGhLsnW',\n",
       " '2s1lS0DxcxTB8Y6oFgVKqW',\n",
       " '3IR9wKWxI0TK1DLXvZq8uQ',\n",
       " '2kUKeN9ZpYHqfBjB8Gphb2',\n",
       " '27Z3UdqvdAhtJlWBMoDjBD',\n",
       " '14M6BbiHt2w9KHVvoIUIUF',\n",
       " '13tc5dzElXbImNjDzz4E2B',\n",
       " '19dD5F9Mu5DvraJr0f5eho',\n",
       " '7vX1e8Tcj1cl20HoWaDI4h',\n",
       " '2mIfMDTR6pNa3iWne56HGe',\n",
       " '2XLPtKom1ixf7IJgPsPAvp',\n",
       " '6cBvcf3JEn3NjIvaqkHkn0',\n",
       " '0igELlHJcgbgEtgsTmj9t0',\n",
       " '5csxKPX4HuN8UDEdHUxcqz',\n",
       " '3R3li8sx8AjMRI1BdmwXAf',\n",
       " '3bGGvbwbhq9kIMhHaXBdYL',\n",
       " '5YkXkfXWTE1pk6l2m78JnH',\n",
       " '3BFlHQD1nt7vHXmh0SswCO',\n",
       " '5aSLIxdiQAgfTGsqGwgivC',\n",
       " '3PeW31cRh8BlN7fwj6cGe9',\n",
       " '5oBUlWZcYKuYuuSsDeNQR7',\n",
       " '3eGuT5Bs8s9CGQbUxDXFzb',\n",
       " '2FHsE83xbrzzWusudCFpg1',\n",
       " '1isJQKjH3cFutccvz3jrCD',\n",
       " '1TO85DMVoOejzq5YMMWAkl',\n",
       " '5cOkUTJvuYBNV1JZ5yPWex',\n",
       " '72HFkyZ8MFEbplFjRO7aqA',\n",
       " '1H366E2OeWiWQvMj0iESzX',\n",
       " '67XtpHJ5S4KO8w8CllZx7I',\n",
       " '52Z9VzMQ91wrhnn1zefaVi',\n",
       " '0exjGVTPrIA5MYokrYG862',\n",
       " '17tejn8Dt8IDKKRknPznPD',\n",
       " '2D0BQfVCn6qoK77flhU7nR',\n",
       " '2YAgixJPrOiEZSgZMlmqqF',\n",
       " '48ghUr9q4ZCKTGEGzdZJlj',\n",
       " '2uj7OACDZUQIvAfKAwtHES',\n",
       " '4xJfZesfZ3UGR0v647p8Y5',\n",
       " '4Z1u8ZwrxBwdnFH4vibcYO',\n",
       " '5dxsliYJaYcDMfw5emzJer',\n",
       " '5cyYphxofHgRspEKNn3UTl',\n",
       " '62nJqZs3Qs7DGUto35dVUv',\n",
       " '5cZ6NaDFs0a7ZYfGpaJWEt',\n",
       " '5rQG0YxxAgCKpJthO0K3JQ',\n",
       " '58D69P1dusriq8I3t83eji',\n",
       " '4ZpFLXdO1Tqs12uJe4OsN7',\n",
       " '4cvsvY3HYBV7jJbWsHGOAh',\n",
       " '2vd2HEhrkafOi2uveHjzzh',\n",
       " '6DdPeHn2Kc5weToqPO9anJ',\n",
       " '57AzeYIWwAYprDXRwPjgtZ',\n",
       " '7BiRw4sgXQMyNx8nPltnQr',\n",
       " '2TitxRtrE8OLcAwcNucvmJ',\n",
       " '5Zn1K7j3DkB1akPiBLwKR9',\n",
       " '5gyhZCykUqfbjqyPzR4CVe',\n",
       " '6nhc3daOpKaZBRj2ZFWfc7',\n",
       " '1CQH9bjtrHOnbXTGL4JzT7',\n",
       " '0dRYCtYfllnlfDiEufuwOU',\n",
       " '4Am0QoksGA70r4ZdsgV2Y9',\n",
       " '2mKGjVCoxL8Um9GkNhhyto',\n",
       " '7LsJd6JUzWy3SUvy33g6yQ',\n",
       " '0IkK4SEryuCtbQjm5LRLMZ',\n",
       " '1QMSIsTV6lcLCQ9MBHTLhT',\n",
       " '6TTHXR7QYOUNS2gyy2OVvg',\n",
       " '0wRFR5cUtBNArgtw4F1rw1',\n",
       " '0HdA4vcTOb3XzW3L43X6sK',\n",
       " '10WVEHOf1FZf5XgK6dUWvN',\n",
       " '4fKiuIavbsoTRZ6R7xuAyT',\n",
       " '4SBahN5KfX1RLG9XLNIlJA',\n",
       " '618v3huzqDQQBfMogznSb3',\n",
       " '2cptaUFdsU60tdh7zRglai',\n",
       " '6MYNfMiLwCmA3bRdfzvfcs',\n",
       " '5ULRlgiSPSKTaJN1vU9yso',\n",
       " '2syQErCMMM1rXeZqtuaqxg',\n",
       " '06N4bQF7MXzLbbifGMIJZW',\n",
       " '29f11nLUcMYQ2Ndbnb7N0o',\n",
       " '3WmJIqP0Fk5OyDKFuX09li',\n",
       " '2AGen6RvvTNEhdNoyJEMvu',\n",
       " '2wcseriGAqeodDazDXgmaq',\n",
       " '4C4wO1Lob3kTxvqXtPJice',\n",
       " '6AJGPFFuC8qTWD5SP50RNh',\n",
       " '45SbQo5bq8f0hNdB70IyFC',\n",
       " '5IYKZF1nw5V0GtxQN7mspQ',\n",
       " '6XnmPBOZfmvRHW1BSbwugJ',\n",
       " '7MwnbWnZCBg1iK7uAreNhm',\n",
       " '5BPYhountssVohoID7bS40',\n",
       " '3uRyuXf29unDXTFNNXHrYl',\n",
       " '07X4FAhX2R6xnAwd6ToUUx',\n",
       " '3a8gsld8gQzvfyLfPO1LP1',\n",
       " '6VkmdRz8YgHFQV3ZNTJAWU',\n",
       " '7kVssG465tU7XWgfrseOVS',\n",
       " '7eoKwUoGIQSQLusZiQIvmm',\n",
       " '1m84zLz4WizjR4mCDoXReg',\n",
       " '76mnMmcrLA3Rv5JtrjvfS7',\n",
       " '4VHM8pHDSBnzIppLyeMyJ8',\n",
       " '27829SWtwhWUANViVTEpol',\n",
       " '2vcDl2SLudnltyDEos3v6E',\n",
       " '29OB96bcpEnlfbdVREAr83',\n",
       " '2xQeykrgmC01UqRpkrT0Zg',\n",
       " '47rNYq9IUveetu35c65xTw',\n",
       " '4zYkSXrfgJyrNkNv3mTiIZ',\n",
       " '4bwPVMQoabglAtg0HqiUuO',\n",
       " '03WMhty0KQ2ppU30LiyKy4',\n",
       " '6ths4lLgtobquTsQ6hM6oa',\n",
       " '6UWcp6ASpVIvUWX5eZMtp2',\n",
       " '2giJeD2J4YowE79mo8Fnqm',\n",
       " '2PfPIIxUiH9Y7miXqiQdqv',\n",
       " '7CaFGdmcY0tZev9f6zKzDR',\n",
       " '1QBhGI8QTvMYpp6i8FYiE0',\n",
       " '4mVY5qhPe2PWDvf7E2Sn0d',\n",
       " '1tmEnZhAhwUjzwJ7L0QFAh',\n",
       " '7Id3qONAw6sXE92FlfZEWI',\n",
       " '3KkdZgcQxYQQZQXumGO1Cy',\n",
       " '3UBZKE16VUDdeZj1VOPL0b',\n",
       " '0s1QWICdAhug2jCIZJ4QQZ',\n",
       " '3EpySzSXQYevKTq1glwGos',\n",
       " '44bUdMl0JyKxyDS4qku5SB',\n",
       " '6R3xtNGXOTqp8Qzuf22jaW',\n",
       " '6FaOW5zkj9QtfDSTeHkUCI',\n",
       " '3w5V2euF3wWJnZkkt0QBxq',\n",
       " '5toHaNWeaCf5cw9Jfn6yK4',\n",
       " '1yYLMVMSM2u7t1yfzAivy1',\n",
       " '0T9wtwG6ZJNgeqBBiGrwGK',\n",
       " '04EchQ81oKTRmabY8QMLsq',\n",
       " '6roMwL3sNdHRO2MRVmkBRn',\n",
       " '5kA30CMKo6wUWiINlG4YXt',\n",
       " '5smfgFsXaD4F510jOD0wLa',\n",
       " '5OSMwHdDsn4a7VBEOFACWg',\n",
       " '1hp6svNriVSFySA6rhsI5a',\n",
       " '45UT1NY9lpbJfdYp5Kdd1U',\n",
       " '0hLa19JP4bItkpyTjopqOb',\n",
       " '7tPjMXhFI1eSWUQlnlXEqy',\n",
       " '6YTphVWLG14d3eUiQ5grmU',\n",
       " '16RpNkwx8gaDyXD6duTt1l',\n",
       " '1LmmaY7vbIRD5qUnB507lz',\n",
       " '6w4Mc2Twjlm1gu6G4Qrqhd',\n",
       " '4km8XxyYCw5CSHM5H36K47',\n",
       " '5Qhf6Er2tQ71pluUxFwDqI',\n",
       " '7mYRC0kv4oI7ipqoPT8aXM',\n",
       " '053W70CWRzK053YEA8XBVW',\n",
       " '5mIf7UP0FEsGaGWBVjrNKP',\n",
       " '0O1wsXEiOMPwFSCdmpP6C0',\n",
       " '0Yr1TfeacyGFyDe0aWDla9',\n",
       " '0Jv6znEgiRN0QpJXQ9aaWA',\n",
       " '7GsKP7AgvqfNNJw74MhSLF',\n",
       " '7Fyfpwv9UUzfVUsfcoQzQt',\n",
       " '1BOv46ISdg4Xuv5Ou7M1cG',\n",
       " '7LyA1NPfCyT6mzx6MYTzFG',\n",
       " '3MkCJcOcLK0PaYy4QgKpWk',\n",
       " '2bBrRe20ZB7pJMQaNJ4nwk',\n",
       " '12sbRlZqz4ubIjKfft0tAk',\n",
       " '1ot6jEe4w4hYnsOPjd3xKQ',\n",
       " '4qv7YSyt5UV8LvrXyE8sGn',\n",
       " '1TfqLAPs4K3s2rJMoCokcS',\n",
       " '1jDJFeK9x3OZboIAHsY9k2',\n",
       " '4y1LsJpmMti1PfRQV9AWWe',\n",
       " '3YMTNzrRktpHDsi6OrmZNO',\n",
       " '2vz1CsL5WBsbpBcwgboTAw',\n",
       " '1OOtq8tRnDM8kG2gqUPjAj',\n",
       " '7o7E1nrHWncYY7PY94gCiX',\n",
       " '4aKIs5t9TqP59btlCGPrgw',\n",
       " '2IvetNzSZMH5gwjInoyr18',\n",
       " '7LmDmvqagpX0PKxveGtZTa',\n",
       " '1xPSDf8z4dH46gkvlLtvDO',\n",
       " '3cbV252akVZInSvJk7jAYX',\n",
       " '5pSvjjfsh34sLrkYSNGCl4',\n",
       " '5XsMz0YfEaHZE0MTb1aujs',\n",
       " '0cGG2EouYCEEC3xfa0tDFV',\n",
       " '3FlOciKDqFlTMPeC7t92Qy',\n",
       " '2KH16WveTQWT6KOG9Rg6e2',\n",
       " '4d6eqRtpDX7tydHJGDZUBQ',\n",
       " '4k6ktr10Hczmh55NY3LfJy',\n",
       " '273uCXd7NPrInaiNqtkOrA',\n",
       " '6A4Jc8npNo79BOgsrPptLA',\n",
       " '7fRvtXvJMpGfTLdF0M09a1',\n",
       " '2FpyKkCFIfqmp6eQx4Rn1V',\n",
       " '57Y3UccJEJqT8w8RWkUAz0',\n",
       " '0F0MA0ns8oXwGw66B2BSXm',\n",
       " '7INi4pMPG4IE0Smx5y4KVf',\n",
       " '1RSy7B2vfPi84N80QJ6frX',\n",
       " '6HA97v4wEGQ5TUClRM0XLc',\n",
       " '5zA8vzDGqPl2AzZkEYQGKh',\n",
       " '5tdKaKLnC4SgtDZ6RlWeal',\n",
       " '0uI4aw6ms90qFNawk9H9CO',\n",
       " '2eRmD96ncTEgQwJmXa6rrg',\n",
       " '5yf83IdQmCRRAHwhNtSnvD',\n",
       " '2olVm1lHicpveMAo4AUDRB',\n",
       " '3koCCeSaVUyrRo3N2gHrd8',\n",
       " '4WoT9wgK9o1cxBfKRWlRzx',\n",
       " '3m0y8qLoznUYi73SUBP8GI',\n",
       " '1uI848raFaNWwe9HjHpjQ5',\n",
       " '21qnJAMtzC6S5SESuqQLEK',\n",
       " '5vdp5UmvTsnMEMESIF2Ym7',\n",
       " '0Z7O8GMQShj9TJrm2yX1R6',\n",
       " '0RgLPN21aV1Ps39Tyb7268',\n",
       " '4uLU6hMCjMI75M1A2tKUQC',\n",
       " '4lRdpZYTwaPpuKpquO6bo3',\n",
       " '3hVrI7snZMTmHCnbwME47u',\n",
       " '5RLDIY4PICQWxdlLfDHNfi',\n",
       " '369JKykZZr1qzv9pg5zAhz',\n",
       " '6sT9MWlJManry3EQwf4V80',\n",
       " '2s1lS0DxcxTB8Y6oFgVKqW',\n",
       " '27NovPIUIRrOZoCHxABJwK',\n",
       " '27Z3UdqvdAhtJlWBMoDjBD',\n",
       " '4IbDTrLxImTJfZePAX2nKB',\n",
       " '3IR9wKWxI0TK1DLXvZq8uQ',\n",
       " '37Nqx7iavZpotJSDXZWbJ3',\n",
       " '6CyIkPh5mRkJg7T5xXynQ8',\n",
       " '2kUKeN9ZpYHqfBjB8Gphb2',\n",
       " '6D5R8LKkeTmQveLoUKrK0D',\n",
       " '6Uj1ctrBOjOas8xZXGqKk4',\n",
       " '14M6BbiHt2w9KHVvoIUIUF',\n",
       " '2gmTz7pHMqAk6fpOc88qxA',\n",
       " '7r9KkTYiFYMuNcGR4aySxh',\n",
       " '21AJQhGZpujjZQXByZAXpr',\n",
       " '0JyX9jNf4mUdp1eNUVAqyR',\n",
       " '5sLfmuQHJtPjSORQF2sbrJ',\n",
       " '62nJqZs3Qs7DGUto35dVUv',\n",
       " '7hU3IHwjX150XLoTVmjD0q',\n",
       " '1VOn2rRxe7JBweoK4SINHe',\n",
       " '4QAv7uyOwIgqOVgzczomOo',\n",
       " '6YC6zgdJog4gw0y2IyfRmR',\n",
       " '40uMIn2zJLAQhNXghRjBed',\n",
       " '13tc5dzElXbImNjDzz4E2B',\n",
       " '3bGGvbwbhq9kIMhHaXBdYL',\n",
       " '1SelxYHPb04GjUy0oYV1Jw',\n",
       " '25r6MZ4Gtd76l43qnZI1DG',\n",
       " '6Vcxzw4ifKqYxVrp3ckpVF',\n",
       " '2vd2HEhrkafOi2uveHjzzh',\n",
       " '0e8nrvls4Qqv5Rfa2UhqmO',\n",
       " '5csxKPX4HuN8UDEdHUxcqz',\n",
       " '7qezIDRM0E3WTW1lWxItug',\n",
       " '4PYfFHKfjYz6dwAtZhBy1z',\n",
       " '3EwsJXInOSrHZqSRW2UceI',\n",
       " '4CWcaGtaOyAqBDKIeZMUe0',\n",
       " '7moGDROshDKDpuQxtQ3q4m',\n",
       " '4XvcHTUfIlWfyJTRG0aqlo',\n",
       " '731JjfIII1qYfeatc3zhtU',\n",
       " '2Dv1CPIgX29t816ZLscdB2',\n",
       " '1mBdiyA2OUySEprEEOKJ6g',\n",
       " '06ZtJB09ab4la47q7ZcPbB',\n",
       " '3z1YJ16Cgv4Zuw9ETkQQ9Z',\n",
       " '5TUs6T93fNFvgQov6MlYkP',\n",
       " '6kie23fo40j9gBNWGWg5Dc',\n",
       " '610XWgnlPtTUXWlJ0Q3jAV',\n",
       " '4yQw7FR9lcvL6RHtegbJBh',\n",
       " '3wlLBTQWAF6DnMhraXASQ0',\n",
       " '3gsCAGsWr6pUm1Vy7CPPob',\n",
       " '1k1Bqnv2R0uJXQN4u6LKYt',\n",
       " '3pf96IFggfQuT6Gafqx2rt',\n",
       " '4QT3YKobBj4BI7xCYRLr9u',\n",
       " '0SzAKZYTUvDLqlPgllEb3N',\n",
       " '2lhs6cxLdBCzFPbNQr6Qmj',\n",
       " '0Eq4BMgsdV6DkLSJfX8eBt',\n",
       " '3WMbD1OyfKuwWDWMNbPQ4g',\n",
       " '5KgbyD2lQQlIupAaPjgiXg',\n",
       " '3kEA66ZM9mCxwhynOxgsLh',\n",
       " '7EIETgqBk63OdvVyIFDNKx',\n",
       " '50f0mt35cIwwu3Krk7nS7b',\n",
       " '5UcQ2g3M6Hh9gR8RmhjP9N',\n",
       " '2zMJN9JvDlvGP4jB03l1Bz',\n",
       " '1UNP66Mr3sPB3ItYt5bEUe',\n",
       " '6ztstiyZL6FXzh4aG46ZPD',\n",
       " '6tYIQpc9rX2wTBtb9Rh37K',\n",
       " '6GNmMC3RoZ1WiilCcukXLW',\n",
       " '57Y3UccJEJqT8w8RWkUAz0',\n",
       " '7IQMKJNcppgahjNWVPmxkl',\n",
       " '4vYauy3ABO65vTXggGYaZg',\n",
       " '1CpDrx0Q7f2Wv3tBXDMt6z',\n",
       " '2xSXw1EqGSAKc1e4TPaQvV',\n",
       " '0lwHorTzvh8D4pQaWFYqnn',\n",
       " '6StJLSmuKWwIfia0EUROQk',\n",
       " '6TYPryzyiUkxMk7PlI8k9c',\n",
       " '5csdrJ0JtFn0qvwlvSh2EI',\n",
       " '37j56IWzpplKE5zrlQRmxc',\n",
       " '4Af8yzidDPc520TFd4TmkE',\n",
       " '6pMHMzwTsWIxLigr54GGVm',\n",
       " '72PoJMDfdaw9gGECgA9kTZ',\n",
       " '4TxBGpTxrNvRNhF39Dl3NQ',\n",
       " '6Llr9PVC1cirKUwu7Fle83',\n",
       " '3zYQ1KXzqBWRsxIqdVMoYF',\n",
       " '1ot6jEe4w4hYnsOPjd3xKQ',\n",
       " '1NQFeJQOvirHNJ4lp17XUZ',\n",
       " '15ySyt38mBi1v4xMLRfD25',\n",
       " '7tqhbajSfrz2F7E1Z75ASX',\n",
       " '7s25THrKz86DM225dOYwnr',\n",
       " '38DAUnVJ0zqOdRuW7RG3sl',\n",
       " '5GcDAsm0vgFWsrcL4kqK6k',\n",
       " '3qZHUZTQiTMfJXcUYzY5mT',\n",
       " '34b3a3Pz9Jlz0092LMyNAB',\n",
       " '300RfAPZ57B0y6YYj9n6DN',\n",
       " '3ClOMebBxeNTYCOfTH24YJ',\n",
       " '5uES1C2NgkdrNHiCwf9jRr',\n",
       " '714hERk9U1W8FMYkoC83CO',\n",
       " '1JQ6Xm1JrvHfvAqhl5pwaA',\n",
       " '1mCI3atQyw3r8rd0icztLR',\n",
       " '1it9umP1j9qSqzKbSLLqqy',\n",
       " '6RANU8AS5ICU5PEHh8BYtH',\n",
       " '5qo4PkfY1ncj3NGTHDaZQF',\n",
       " '22ff60cZy4APp7bzESHLR8',\n",
       " '4N3stlRuz5cBNI4J4vDJ18',\n",
       " '6K4t31amVTZDgR3sKmwUJJ',\n",
       " '3kLVvnXLbuQuu1sanJNDjf',\n",
       " '7gARZ2i5u5DHC1b1n1fML5',\n",
       " '0bXpmJyHHYPk6QBFj25bYF',\n",
       " '0yc6Gst2xkRu0eMLeRMGCX',\n",
       " '7w87IxuO7BDcJ3YUqCyMTT',\n",
       " '1Bz9S9TweSbkFeXM5NdtOC',\n",
       " '4JHg4nNYUJQ5HULcCmI18R',\n",
       " '1wgqttlPacpvmX5DKVboOa',\n",
       " '6vECYJHxYmm3Ydt3fF01pE',\n",
       " '6GyFP1nfCDB8lbD2bG0Hq9',\n",
       " '0d28khcov6AiegSCpG5TuT',\n",
       " '3Ty7OTBNSigGEpeW2PqcsC',\n",
       " '7d23MhPFE9eB3U8DPRirnL',\n",
       " '0iTpQYzJnYgh7kIxyq8A2O',\n",
       " '15Hb4YapPuC0iNGvez2PXE',\n",
       " '4iG2gAwKXsOcijVaVXzRPW',\n",
       " '7kcy8ctwafCfiUFuBcvxpp',\n",
       " '6bS7DqTuzrpkluB7boWmw2',\n",
       " '7w5cxTEzp1rfV3KCy0Bd5N',\n",
       " '4dyx5SzxPPaD8xQIid5Wjj',\n",
       " '3RRf5KNBCzK3uxWKRAC67q',\n",
       " '1mvyqSb1tOvtVP1qfWEyPa',\n",
       " '6QgjcU0zLnzq5OrUoSZ3OK',\n",
       " '295WZ1UJn67ZaiQMWrSkys',\n",
       " '70WyPf8WtXvG3CgeTZZWz6',\n",
       " '1NyFRrFiJAJIaR6icj1goI',\n",
       " '3dYD57lRAUcMHufyqn9GcI',\n",
       " '0V2SavjRuimH4TIbrKyyN0',\n",
       " '5RoIXwyTCdyUjpMMkk4uPd',\n",
       " '2KOvNaMJcuaYTciDe2TmCP',\n",
       " '2UWdUez9MB9yzL7Y81Mcip',\n",
       " '24jvD83UgLmrdGjhWTFslY',\n",
       " '2nvZv4qatgsDIbEqqbQLUT',\n",
       " '244AvzGQ4Ksa5637JQu5Gy',\n",
       " '6xVdHfNIcWB0Bzd1obzcwj',\n",
       " '12pdXFcruNcPUbZypKUDgz',\n",
       " '6ZEaDwf50SdJzHcVSQx0vL',\n",
       " '3g86N0SqyfxEVNMHlmW3RE',\n",
       " '4c9WmjVlQMr0s1IjbYO52Z',\n",
       " '2xbrMtkxp399aSiCJ8EAON',\n",
       " '4m8ttWM8IKXyhpv89E867J',\n",
       " '5rAff9XfcWx7rguN3t0fkW',\n",
       " '6L4fEE9awoUnSEy1bmQebb',\n",
       " '1jy7SkRcmBCTcv4ZMtwz29',\n",
       " '3VPp3qrfCioIbPmp7c7Con',\n",
       " '3ji1o94rKqulYA4I2eDKat',\n",
       " '4j4pPKE3xAblPIbhxScC1j',\n",
       " '7vRdcsmD92oErIQDnmp60e',\n",
       " '2fXKyAyPrEa24c6PJyqznF',\n",
       " '5fwSHlTEWpluwOM0Sxnh5k',\n",
       " '3c8iiZGfEammKJuWTErE5x',\n",
       " '6zSpb8dQRaw0M1dK8PBwQz',\n",
       " '4ofwffwvvnbSkrMSCKQDaC',\n",
       " '3Iba59sFmGhQ4kbCY5L8AX',\n",
       " '2Z8WuEywRWYTKe1NybPQEW',\n",
       " '0iVkWge9ytV4Scgy2hQ2za',\n",
       " '4Ljs6Dvpz7Arf9Ac8RN7tn',\n",
       " '5FqaXHqw79ILxvJUKvOzxc',\n",
       " '780be5fB7823aHG06mwTat',\n",
       " '0e8nrvls4Qqv5Rfa2UhqmO',\n",
       " '2vBET2pmrQqafaS6zIaYta',\n",
       " '5PjdY0CKGZdEuoNab3yDmX',\n",
       " '77sFlmQh56N5VSBMKX7e63',\n",
       " '0J07ya7WC09FaQADutoBRZ',\n",
       " '45PF1Y3RcW5MK0jxWvhc4D',\n",
       " '41rOnZXVg3cLacziEBgkpW',\n",
       " '1058fW9H3fZA6QjYCdOBad',\n",
       " '6PQ88X9TkUIAUIZJHW2upE',\n",
       " '1gOANd4qcnkftl869IOvBu',\n",
       " '6IPNp9PfaEqrzotY47TIWy',\n",
       " '5WHTFyqSii0lmT9R21abT8',\n",
       " '1OWLQ4FQrO13w6ssWgP8tk',\n",
       " '5tf1VVWniHgryyumXyJM7w',\n",
       " '3uUuGVFu1V7jTQL60S1r8z',\n",
       " '2YWjW3wwQIBLNhxWKBQd16',\n",
       " '6OGogr19zPTM4BALXuMQpF',\n",
       " '5dyDkXi1bnQKSyIdO0JXp8',\n",
       " '0xfMlIW8lS40qvpsUw1l0X',\n",
       " '2gam98EZKrF9XuOkU13ApN',\n",
       " '03SEp9sXkAOAgxJtSLuVEi',\n",
       " '4sOjKbpa7RLZVRNxcO26eb',\n",
       " '5itOtNx0WxtJmi1TQ3RuRd',\n",
       " '75MNhvTCCKsST3YqqUiU9r',\n",
       " '1kPpge9JDLpcj15qgrPbYX',\n",
       " '5UbJD3lat3SVDDBXmf8gLc',\n",
       " '03aENfSuuy3VS0sbgH7u1D',\n",
       " '6Uj1ctrBOjOas8xZXGqKk4',\n",
       " '0nrRP2bk19rLc0orkWPQk2',\n",
       " '0mV43B6pJWRjcM5TmzNe6d',\n",
       " '1XGmzt0PVuFgQYYnV2It7A',\n",
       " '4ZtFanR9U6ndgddUvNcjcG',\n",
       " '2S5LNtRVRPbXk01yRQ14sZ',\n",
       " '0KzCNeuMVGXbnMbjX6ilCU',\n",
       " '49FYlytm3dAAraYgpoJZux',\n",
       " '7cdy4PbCdDZZNjyxoZyE0c',\n",
       " '7vFoFDWqTX0mHzLfrF1Cfy',\n",
       " '6Dy1jexKYriXAVG6evyUTJ',\n",
       " '1qSQ8ivU7OPqFcEO1D99vU',\n",
       " '3vXnuFnC5RhPGwsFi0ORcI',\n",
       " '7FhcGzIb6BUapFSNVwxpCq',\n",
       " '3HLUrzmua2lTafzu3heQZV',\n",
       " '3mvMxWdTEy3sNZoRUNeris',\n",
       " '0bPKPZ6qlfwptPL6ta6t43',\n",
       " '3tJljA8IkRARbsFojNbwRl',\n",
       " '3Fg9sxDMmWwodqI678gIwX',\n",
       " '41xAUseykaaSdmry5hVOkV',\n",
       " '6WNVFXtZyFmfosAxvisgPL',\n",
       " '1ncaQAHCLAOjgnceZhqYt5',\n",
       " '5G7ub4dl5ABYB1fYlgCJ2i',\n",
       " '4xSRna7VTC2qN3INhdpYmD',\n",
       " '3hYClPLgnc4Eu5GIU87Kkk',\n",
       " '303oeyQJklQReUBrszN2j2',\n",
       " '0QIshyPSwHWvmA2jzs2LND',\n",
       " '0LHDyKHY7sZfc2YLMfiJBw',\n",
       " '7h7wrenhCbADpRK6ItHxI0',\n",
       " '7ayi6LtgxUK4057CF7MCJL',\n",
       " '1h7LWORFpHl8qTz8xXlVYN',\n",
       " '76Ef208V2nkxvbvs7pzKdA',\n",
       " '1rp1KboJQdhF8gRKdm3Alk',\n",
       " '6SLZaOxvjCJ6RnpbH8imwZ',\n",
       " '360Xv6Pn6ENVkFD7Hcfymf',\n",
       " '6w5FDbVTPCk582bYwQGbDN',\n",
       " '6KCVVAM5j4JukdJ8BpNVjv',\n",
       " '4D7PndWbd8MB96lDZF3te2',\n",
       " '2ZSFeJu61yIbsXG2KJbcGG',\n",
       " '1LqvKE7xaNbACFD8GbyT4l',\n",
       " '4kdzLRk1pX5kTLcgoDqaQ7',\n",
       " '5vBKODjjr4NVPqW0sNNvr0',\n",
       " '3RHMz6FpEF6SHoOlk831Nh',\n",
       " '0ndvphNmJuUDL6JLHhMiki',\n",
       " '2uB3uXWY1iwknxWQ5gD2g4',\n",
       " '2njmoIaPd0hKIlCFtyGHUZ',\n",
       " '6bAaEf97dH8fzQhLPiLacp',\n",
       " '4GjRmJWJmEHXgH0Qdbw6Os',\n",
       " '4HS5UK3JioFXvHLP14ydJB',\n",
       " '6SBDaSKJHFlDpaFKDn4Dy7',\n",
       " '6U6SpEY3xhXSw9A6l4WU1N',\n",
       " '4iNdMRQRQ0cMunOLCPnkXQ',\n",
       " '0OueLn8Bd2P2XU9aX1My4Z',\n",
       " '1ABDYmUKWYAY7FjGKOFLyU',\n",
       " '2Dh8f30wYZ97NWo2NL4e8c',\n",
       " '7hbIay5rEvtVH9iI40vQMG',\n",
       " '38TKubI8iddW5RZZq4znNx',\n",
       " '3yv4jovrvRsUXi8LxJBzip',\n",
       " '2N3ft2Plv5PXRYuOBVRoqq',\n",
       " '1yxX9H77a40Xn1AFCru6kD',\n",
       " '45nOY1My3YTbbO7lAxrIGm',\n",
       " '0Yr1TfeacyGFyDe0aWDla9',\n",
       " '2dI1vNXtxBDQzJqM6cxiY0',\n",
       " '3FeVmId7tL5YN8B7R3imoM',\n",
       " '0J07ya7WC09FaQADutoBRZ',\n",
       " '45PF1Y3RcW5MK0jxWvhc4D',\n",
       " '2gQPv5jvVPqU2a9HhMNO1v',\n",
       " '6ngjb2Je6gEjjVOOQpWSWG',\n",
       " '5CZ40GBx1sQ9agT82CLQCT',\n",
       " '2Xr1dTzJee307rmrkt8c0g',\n",
       " '7rglLriMNBPAyuJOMGwi39',\n",
       " '4sOjKbpa7RLZVRNxcO26eb',\n",
       " '149BxWeweaCqmsyedkNiiE',\n",
       " '07MDkzWARZaLEdKxo6yArG',\n",
       " '3DarAbFujv6eYNliUTyqtz',\n",
       " '6M3PsepEj5gyJoIi7Xvr7u',\n",
       " '3IM7zXywZ6sRTtkRjRLxJ8',\n",
       " '75MNhvTCCKsST3YqqUiU9r',\n",
       " '7zjEyeBsaw9gV0jofJLfOM',\n",
       " '6IPNp9PfaEqrzotY47TIWy',\n",
       " '1diS6nkxMQc3wwC4G1j0bh',\n",
       " '0iVkWge9ytV4Scgy2hQ2za',\n",
       " '4qu63nuBpdn0qHUHuObEj1',\n",
       " '6nRSyu4oOed8HgcVxV1cWl',\n",
       " '3USxtqRwSYz57Ewm6wWRMp',\n",
       " '24OeEKPQ8qqNZnPevRHxUT',\n",
       " '2JPLbjOn0wPCngEot2STUS',\n",
       " '0gplL1WMoJ6iYaPgMCL0gX',\n",
       " '71qB68guEJjbvtjlkZ8DF5',\n",
       " '6Uj1ctrBOjOas8xZXGqKk4',\n",
       " '5fwSHlTEWpluwOM0Sxnh5k',\n",
       " '1bwhDrXcAtqePp8mNJ0pTe',\n",
       " '1Cx3Lpnto8xJ5dsfU3DPus',\n",
       " '3uUuGVFu1V7jTQL60S1r8z',\n",
       " '00Blm7zeNqgYLPtW6zg8cj',\n",
       " '6PQ88X9TkUIAUIZJHW2upE',\n",
       " '3eJH2nAjvNXdmPfBkALiPZ',\n",
       " '0fQfJFfngYfG26560HLMLN',\n",
       " '1SC5rEoYDGUK4NfG82494W',\n",
       " '3vXnuFnC5RhPGwsFi0ORcI',\n",
       " '0z8hI3OPS8ADPWtoCjjLl6',\n",
       " '5HCyWlXZPP0y6Gqq8TgA20',\n",
       " '46nvQpUDsxpS08UTFOeKTA',\n",
       " '2gpWyfu7eZ01zzncHpxOtA',\n",
       " '4btFHqumCO31GksfuBLLv3',\n",
       " '1058fW9H3fZA6QjYCdOBad',\n",
       " '18XlJEroUwFo0tLZxscgXE',\n",
       " '08SB2OtZkaliju77WYEKxk',\n",
       " '6I3mqTwhRpn34SLVafSH7G',\n",
       " '0HLhptvI8NozbOHRLNniFz',\n",
       " '0e8nrvls4Qqv5Rfa2UhqmO',\n",
       " '6RBfz4bNLNzvt37HycN1Xf',\n",
       " '32BeYxKPrig1LefHsC0Xuo']"
      ]
     },
     "execution_count": 59,
     "metadata": {},
     "output_type": "execute_result"
    }
   ],
   "source": [
    "tracks_id"
   ]
  },
  {
   "cell_type": "code",
   "execution_count": 82,
   "metadata": {},
   "outputs": [
    {
     "name": "stdout",
     "output_type": "stream",
     "text": [
      "['00Blm7zeNqgYLPtW6zg8cj']\n",
      "00Blm7zeNqgYLPtW6zg8cj\n",
      "https://api.spotify.com/v1/audio-features?ids=00Blm7zeNqgYLPtW6zg8cj\n"
     ]
    },
    {
     "data": {
      "text/plain": [
       "{'audio_features': [{'danceability': 0.687,\n",
       "   'energy': 0.781,\n",
       "   'key': 1,\n",
       "   'loudness': -4.806,\n",
       "   'mode': 1,\n",
       "   'speechiness': 0.053,\n",
       "   'acousticness': 0.0361,\n",
       "   'instrumentalness': 0,\n",
       "   'liveness': 0.0755,\n",
       "   'valence': 0.688,\n",
       "   'tempo': 97.014,\n",
       "   'type': 'audio_features',\n",
       "   'id': '00Blm7zeNqgYLPtW6zg8cj',\n",
       "   'uri': 'spotify:track:00Blm7zeNqgYLPtW6zg8cj',\n",
       "   'track_href': 'https://api.spotify.com/v1/tracks/00Blm7zeNqgYLPtW6zg8cj',\n",
       "   'analysis_url': 'https://api.spotify.com/v1/audio-analysis/00Blm7zeNqgYLPtW6zg8cj',\n",
       "   'duration_ms': 193507,\n",
       "   'time_signature': 4}]}"
      ]
     },
     "execution_count": 82,
     "metadata": {},
     "output_type": "execute_result"
    }
   ],
   "source": [
    "get_tracks_features(tracks_id[:1])"
   ]
  },
  {
   "cell_type": "code",
   "execution_count": 83,
   "metadata": {},
   "outputs": [
    {
     "data": {
      "text/plain": [
       "['One Right Now (with The Weeknd)',\n",
       " 'Le classico organisé',\n",
       " 'New Shapes (feat. Christine and the Queens and Caroline Polachek)',\n",
       " 'ESCAPE PLAN',\n",
       " 'Smokin Out The Window',\n",
       " 'Comment Faire',\n",
       " 'No Love (with SZA)',\n",
       " 'N.I',\n",
       " 'The Motto',\n",
       " 'Dadada',\n",
       " 'Wake Me Up',\n",
       " 'Billy Goodbye',\n",
       " \"Let's go to Hell\",\n",
       " 'Rater le coche',\n",
       " 'Your Song Saved My Life - From Sing 2',\n",
       " 'Hold No Grudge - Bonus Track',\n",
       " 'le manège',\n",
       " 'Get Better',\n",
       " 'Famous',\n",
       " 'Bad Life (feat. Kali Uchis)',\n",
       " '0.6',\n",
       " 'the older you get, the less you cry',\n",
       " 'Bonita',\n",
       " 'On Guard (feat. 6lack)',\n",
       " 'Anuel AA: Bzrp Music Sessions, Vol. 46',\n",
       " 'Cracklanders',\n",
       " 'Wegue Wegue',\n",
       " 'Scooter',\n",
       " 'Leo Messi',\n",
       " 'Flowers (Say My Name)',\n",
       " 'Between Us',\n",
       " 'The Antidote',\n",
       " 'Tainted Love',\n",
       " 'Jimi Hendrix',\n",
       " 'Beat 100',\n",
       " 'Glory',\n",
       " 'Arigato',\n",
       " 'Jolie',\n",
       " 'One Day',\n",
       " 'Fall in Love at Christmas',\n",
       " \"L'amour à la sauvette\",\n",
       " 'Explore',\n",
       " 'Car Crash',\n",
       " 'MYOSOTIS',\n",
       " 'Blenda',\n",
       " 'Heavy (feat. Your Smith)',\n",
       " \"Vu d'ici\",\n",
       " 'Pa Pa Power',\n",
       " 'Hollow',\n",
       " 'Late Night',\n",
       " 'Wreck (feat. Big Sean)',\n",
       " '0.9 (feat. Leto)',\n",
       " 'Heavy',\n",
       " 'Les galactiques',\n",
       " 'Prada',\n",
       " 'Na zdrowie',\n",
       " \"Livin' Loud (by glo™) (feat. ILIRA)\",\n",
       " 'NEO',\n",
       " 'Bonbon',\n",
       " 'Queen Of Ice',\n",
       " 'Deja Vu',\n",
       " 'When You Danced With Me',\n",
       " 'This Side of the Sun',\n",
       " 'Get Famous',\n",
       " 'sims',\n",
       " 'Holy Toledo! (from the Original Motion Picture “Mark, Mary & Some Other People”)',\n",
       " \"Another year like that and we'd all be dead\",\n",
       " 'La Clef',\n",
       " 'Ordinaire',\n",
       " 'Television',\n",
       " 'Cosmonaute',\n",
       " 'Crying In The Club',\n",
       " 'Senhorita',\n",
       " 'Panicking',\n",
       " 'Popo',\n",
       " 'Le classico organisé',\n",
       " 'Tu le sais',\n",
       " 'Trucs de choses',\n",
       " 'Best life',\n",
       " 'TDB',\n",
       " 'Pic et pic, alcool et drame',\n",
       " 'Papel',\n",
       " 'RS4',\n",
       " 'Mapess',\n",
       " 'Dose',\n",
       " 'Pololo',\n",
       " 'Jolie',\n",
       " 'Ghenda',\n",
       " 'Tiki Taka',\n",
       " '100 pas',\n",
       " 'La danse des bandits',\n",
       " 'Bonita',\n",
       " 'La beu beu',\n",
       " 'Kodo',\n",
       " 'Zehma',\n",
       " 'Senhorita',\n",
       " 'Elle avait les mots',\n",
       " 'Je veux',\n",
       " 'Briller',\n",
       " 'Mal à la tête',\n",
       " 'Aminata',\n",
       " 'Triste mélodie',\n",
       " 'Ninetta (feat. GLK)',\n",
       " \"C'est ma vie (feat. Jul)\",\n",
       " 'Rio de Janeiro',\n",
       " 'Plan (feat. Franglish, Abou Debeing & Dadju)',\n",
       " 'Fada',\n",
       " 'P2',\n",
       " 'Avengers',\n",
       " 'Pousse toi',\n",
       " 'Jolie madame (feat. Ronisia)',\n",
       " 'Mexico',\n",
       " 'Amoureuse',\n",
       " 'Tourner',\n",
       " 'Bye Bye',\n",
       " 'Afro Trap Part. 11 (King Kong)',\n",
       " 'Sans moi',\n",
       " 'Bébé (feat. Lartiste)',\n",
       " 'Ça va vite',\n",
       " '4.4.2 (feat. La Quica, HMZ, Kliff & Kenem)',\n",
       " 'Bracelet',\n",
       " 'La Seleçao',\n",
       " 'Baby Boy',\n",
       " 'Rider toute la night',\n",
       " 'Shivers - Acoustic Version',\n",
       " 'Peaches - Acoustic',\n",
       " 'Wasted Love (feat. Lagique) - Acoustic',\n",
       " 'Following The Sun - Acoustic',\n",
       " 'My Universe - Acoustic Version',\n",
       " \"Let's Love (feat. Sia) - Acoustic\",\n",
       " 'Love Not War (The Tampa Beat) (Acoustic)',\n",
       " 'Selfish Love (with Selena Gomez) - Acoustic Mix',\n",
       " 'Stay - Spotify Singles',\n",
       " 'Control - Acoustic Guitar Version',\n",
       " 'Bad Habits - Acoustic Version',\n",
       " 'By Your Side (feat. Tom Grennan) - Acoustic',\n",
       " 'Mood - Acoustic',\n",
       " 'beau-papa (acoustique)',\n",
       " 'Breaking Me - Acoustic Version',\n",
       " 'Sweet but Psycho - Acoustic',\n",
       " 'Lonely (with benny blanco) - Acoustic',\n",
       " 'you broke me first - Spotify Singles',\n",
       " 'Fast Car - Acoustic',\n",
       " 'Let’s Go Home Together - Stripped',\n",
       " 'Never Seen The Rain - Alternate Version',\n",
       " 'Shape of You - Acoustic',\n",
       " 'telepatía // acoustic',\n",
       " 'Head & Heart (feat. MNEK) - Acoustic',\n",
       " 'Dancing With A Stranger (With Normani) - Acoustic',\n",
       " 'Deep End - Acoustic',\n",
       " 'Watermelon Sugar - Acoustic',\n",
       " 'You (with Marshmello & Vance Joy) - Acoustic',\n",
       " 'Donne-moi ton cœur - acoustique',\n",
       " 'Our Song - Acoustic',\n",
       " 'Save Your Tears',\n",
       " 'Alien - Acoustic',\n",
       " 'I Leave Again - Acoustic',\n",
       " 'Fallin’ (Adrenaline) - Acoustic',\n",
       " 'Girls Like Us - Piano Version',\n",
       " 'drivers license - Acoustic',\n",
       " 'Head Shoulders Knees & Toes (feat. Norma Jean Martine) - Acoustic',\n",
       " \"Don't Call Me Up - Acoustic\",\n",
       " 'Intentions - Acoustic',\n",
       " 'death bed (coffee for your head) - Acoustic Mix',\n",
       " 'Last Hurrah - Acoustic',\n",
       " \"I Don't Care - Acoustic\",\n",
       " 'Castles - Acoustic',\n",
       " 'Savage Love - Acoustic Cover',\n",
       " 'Before You Go - Guitar Acoustic',\n",
       " 'Beautiful Scars (Maximillian x Moira Dela Torre) - Acoustic',\n",
       " 'Be Honest (feat. Burna Boy) (acoustic)',\n",
       " 'Evidemment - Version Acoustique',\n",
       " 'Power Over Me - Acoustic',\n",
       " 'Dance Monkey',\n",
       " 'Un peu plus souvent',\n",
       " 'Les jolies choses',\n",
       " 'Médicament',\n",
       " '+ La vie',\n",
       " 'SÉMANTIQUE',\n",
       " 'Peur des filles',\n",
       " 'ophelie',\n",
       " 'Meguro',\n",
       " 'Dans mes rêves',\n",
       " 'Les bonnes manières',\n",
       " 'Avec toi',\n",
       " \"What A Life (j'fais ma life) [feat. Suzane]\",\n",
       " \"Pas d'ici\",\n",
       " 'Mauvaises habitudes',\n",
       " 'Nos regards',\n",
       " 'Shining Light',\n",
       " 'Paris en août',\n",
       " 'La Cigarette',\n",
       " 'Noir - Radio Edit',\n",
       " 'Tata',\n",
       " 'Mauvaise Idée',\n",
       " 'Insomnie',\n",
       " 'En Douce',\n",
       " 'Toi & moi - Edit',\n",
       " 'Space Trip',\n",
       " 'La vie de tous les jours',\n",
       " 'Suzanne',\n",
       " 'Disco Dream',\n",
       " 'Orange Mountains',\n",
       " 'Nouveau Genre',\n",
       " \"La vague aux cheveux d'or\",\n",
       " 'By the Beach',\n",
       " 'CAMISOLE',\n",
       " 'Cour Des Miracles',\n",
       " 'La carioca',\n",
       " 'Bloqué',\n",
       " 'Gens de la nuit',\n",
       " 'United',\n",
       " 'You Want My Money',\n",
       " 'Ilya',\n",
       " 'Half Somewhere',\n",
       " 'Virus X - SAGE Rework - radio edit',\n",
       " 'Should I Call U Baby',\n",
       " 'Get to Me',\n",
       " 'Revu - Edit',\n",
       " 'Honey',\n",
       " '200 Lovesongs',\n",
       " 'It Might Be Something',\n",
       " \"Only One Man (with Melody's Echo Chamber)\",\n",
       " 'Tender Sofa',\n",
       " \"I'm So Excited\",\n",
       " 'Can You Feel It - 7\" Version',\n",
       " 'Sweet Dreams (Are Made of This) - Remastered',\n",
       " \"I'm Still Standing\",\n",
       " 'Girls Just Want to Have Fun',\n",
       " 'Take on Me',\n",
       " 'Footloose - From \"Footloose\" Soundtrack',\n",
       " 'Beat It',\n",
       " 'Video Killed The Radio Star',\n",
       " 'Maneater',\n",
       " \"It's Raining Men\",\n",
       " 'Jeopardy',\n",
       " 'Maniac',\n",
       " 'Flashdance...What a Feeling - Radio Edit',\n",
       " 'Down Under',\n",
       " 'Wake Me Up Before You Go-Go',\n",
       " 'Tainted Love',\n",
       " 'She Works Hard For The Money',\n",
       " 'Eye of the Tiger',\n",
       " 'She Drives Me Crazy',\n",
       " 'Holiday',\n",
       " 'Tarzan Boy',\n",
       " \"Somebody's Watching Me - Single Version\",\n",
       " 'Talking In Your Sleep',\n",
       " \"Just Can't Get Enough - 2006 Digital Remaster\",\n",
       " 'Upside Down',\n",
       " \"Let's Dance - 1999 Remaster\",\n",
       " 'Easy Lover',\n",
       " 'Blue Monday - 2016 Remaster',\n",
       " '99 Luftballons',\n",
       " 'Uptown Girl',\n",
       " 'How Will I Know',\n",
       " 'Need You Tonight',\n",
       " 'Teardrops',\n",
       " 'Dr. Beat',\n",
       " 'The Power Of Love',\n",
       " \"Let's Groove\",\n",
       " 'Jump (For My Love) - Single Remix',\n",
       " 'Ghostbusters',\n",
       " 'Boys - Summertime Love',\n",
       " 'Pump Up The Jam',\n",
       " 'Another One Bites The Dust - Remastered 2011',\n",
       " 'Jump - 2004 Remaster',\n",
       " 'Venus',\n",
       " 'Never Gonna Give You Up',\n",
       " 'Walk This Way',\n",
       " 'Physical',\n",
       " 'Fame',\n",
       " 'Pump Up The Volume (7\")',\n",
       " 'Push It',\n",
       " 'Tu le sais',\n",
       " 'INDUSTRY BABY (feat. Jack Harlow)',\n",
       " 'TDB',\n",
       " 'Daddy chocolat',\n",
       " 'Trucs de choses',\n",
       " 'Girls Want Girls (with Lil Baby)',\n",
       " 'Gasolina (feat. Ninho)',\n",
       " 'Best life',\n",
       " 'Dans le Réseau',\n",
       " 'Woman',\n",
       " 'Pic et pic, alcool et drame',\n",
       " 'Pololo',\n",
       " 'Ça canarde',\n",
       " 'REPEAT IT (with Gunna)',\n",
       " 'Manège',\n",
       " 'Fixette',\n",
       " 'Afro Trap Part. 11 (King Kong)',\n",
       " 'MONEY',\n",
       " 'ONGBAK 2',\n",
       " 'Mapessa (feat. Tiakola)',\n",
       " 'Elle veut',\n",
       " 'Motley Crew',\n",
       " 'Papel',\n",
       " 'La danse des bandits',\n",
       " 'Mon poto - Extrait de la BO de « En Passant Pécho »',\n",
       " 'Flocky Flocky (feat. Travis Scott)',\n",
       " 'HAINE&SEX',\n",
       " 'La Seleçao',\n",
       " 'THATS WHAT I WANT',\n",
       " 'Tiki Taka',\n",
       " 'Mode Akimbo (feat. Jul)',\n",
       " 'Obsessed With You',\n",
       " 'De bon matin',\n",
       " 'La kiffance',\n",
       " 'Champion',\n",
       " '2055',\n",
       " 'Le billet',\n",
       " 'Mon soleil',\n",
       " 'Fuego',\n",
       " 'MONTERO (Call Me By Your Name)',\n",
       " 'This World Today Is A Mess',\n",
       " 'Your Song',\n",
       " 'Think',\n",
       " \"You're The First, The Last, My Everything - Single Version\",\n",
       " 'Think',\n",
       " 'Wot',\n",
       " 'Killing Me Softly With His Song',\n",
       " \"Ain't No Sunshine\",\n",
       " 'Sunny',\n",
       " 'Just an Illusion',\n",
       " 'Ai No Corrida',\n",
       " 'Saddle Up',\n",
       " 'Fantasy - Single Version',\n",
       " 'Daddy Cool',\n",
       " 'Night Fever - From \"Saturday Night Fever\" Soundtrack',\n",
       " 'Music and Lights',\n",
       " \"Let 'Em In\",\n",
       " 'Ma quale idea',\n",
       " 'You Can Do It',\n",
       " 'Hot Stuff',\n",
       " 'Yes Sir, I Can Boogie',\n",
       " 'Boogie Wonderland',\n",
       " \"Reach Out I'll Be There - Single Version / Mono\",\n",
       " 'Straight Ahead',\n",
       " 'Upside Down',\n",
       " 'Give Me the Night - Edit',\n",
       " \"Don't Leave Me This Way (feat. Teddy Pendergrass)\",\n",
       " 'Roof Garden',\n",
       " 'Stayin\\' Alive - From \"Saturday Night Fever\" Soundtrack',\n",
       " \"Livin' It Up\",\n",
       " 'On Broadway - Edit',\n",
       " 'Georgy Porgy (feat. Cheryl Lynn) - Disco Version',\n",
       " \"Love's Theme\",\n",
       " 'I Heard It Through The Grapevine',\n",
       " \"Don't Leave Me This Way\",\n",
       " 'Rock Your Baby',\n",
       " 'Nothing From Nothing',\n",
       " \"Mornin'\",\n",
       " 'Street Life - Single Edit',\n",
       " 'Need Your Love',\n",
       " \"I'm So Excited\",\n",
       " \"Darlin' (I Think About You)\",\n",
       " 'Theme From \"Shaft\"',\n",
       " \"Ain't No Mountain High Enough\",\n",
       " 'Respect',\n",
       " 'Why Did You Do It - Remastered',\n",
       " 'Body Talk',\n",
       " 'In the Stone',\n",
       " \"What's Going On\",\n",
       " 'Superstition - Single Version',\n",
       " 'Le Freak - 2018 Remaster',\n",
       " 'Baby Love',\n",
       " 'You Sexy Thing',\n",
       " 'Easy',\n",
       " 'Gonna Get Along Without You Now',\n",
       " 'Chain Reaction',\n",
       " \"Isn't She Lovely\",\n",
       " 'Gimme The Funk',\n",
       " 'Disco Inferno - Single Edit',\n",
       " 'Good Times - 2018 Remaster',\n",
       " 'The Less I Know The Better',\n",
       " 'The Look',\n",
       " 'Breezeblocks',\n",
       " 'Intro',\n",
       " 'Apocalypse',\n",
       " 'Pumped Up Kicks',\n",
       " 'That Look You Give That Guy',\n",
       " 'What You Know',\n",
       " 'Paper Planes',\n",
       " 'Stolen Dance',\n",
       " 'Midnight City',\n",
       " 'Feel Good Inc.',\n",
       " 'Glory Box',\n",
       " 'Disparate Youth',\n",
       " 'Two Weeks',\n",
       " 'Walking On A Dream',\n",
       " 'Time to Pretend',\n",
       " 'This Head I Hold',\n",
       " 'America',\n",
       " 'Home',\n",
       " 'Young Folks',\n",
       " 'Wasting My Young Years',\n",
       " '1901',\n",
       " 'Feel It Still',\n",
       " 'Little Numbers',\n",
       " 'Nantes',\n",
       " 'Skinny Love',\n",
       " 'Take Me To Church',\n",
       " 'How Deep Is Your Love?',\n",
       " 'Sweet Disposition',\n",
       " 'Big Jet Plane',\n",
       " 'The Suburbs',\n",
       " 'Video Games - Remastered',\n",
       " 'West Coast',\n",
       " \"You've Got The Love\",\n",
       " '1517',\n",
       " 'Love Is Mystical',\n",
       " 'Retrograde',\n",
       " \"Busy Earnin'\",\n",
       " 'My Number',\n",
       " 'Knives Out',\n",
       " 'Cherry Blossom Girl',\n",
       " \"New York, I Love You but You're Bringing Me Down\",\n",
       " 'Country House - 2012 Remaster',\n",
       " 'Loud Places',\n",
       " 'Low Rising',\n",
       " 'Heaven',\n",
       " 'Rawnald Gregory Erickson the Second',\n",
       " 'Pa Pa Power',\n",
       " 'Common People',\n",
       " 'Pepas',\n",
       " \"Ain't Nobody (Loves Me Better) (feat. Jasmine Thompson)\",\n",
       " 'Cold Heart - PNAU Remix',\n",
       " 'Shotgun',\n",
       " 'Little Bit of Love',\n",
       " 'Ride',\n",
       " 'Hurricane',\n",
       " 'Stereo Hearts (feat. Adam Levine)',\n",
       " 'love nwantiti (feat. Franglish) - French Remix',\n",
       " 'Baianá',\n",
       " 'THATS WHAT I WANT',\n",
       " 'GIRL LIKE ME',\n",
       " 'STAY (with Justin Bieber)',\n",
       " 'Got 2 Luv U - feat. Alexis Jordan',\n",
       " 'Love Tonight - Robin Schulz Remix',\n",
       " \"Don't Wait Up\",\n",
       " 'Devil in Me (feat. Joe Killington & Duane Harden)',\n",
       " \"Don't Go Yet\",\n",
       " 'Bad Habits',\n",
       " 'Fade Out Lines - The Avener Rework',\n",
       " 'SG (with Ozuna, Megan Thee Stallion & LISA of BLACKPINK)',\n",
       " \"Don't Call Me Up\",\n",
       " '1+1 (feat. Amir) - Banx & Ranx Remix',\n",
       " 'Sugar (feat. Francesco Yates)',\n",
       " 'Where Are You Now',\n",
       " 'Lean On (feat. MØ & DJ Snake)',\n",
       " 'Take My Breath',\n",
       " 'Hundred Miles',\n",
       " 'Never Going Home',\n",
       " 'Promiscuous',\n",
       " 'Ride With Me (feat. Kid Ink)',\n",
       " 'Bruxelles je t’aime',\n",
       " \"Giant (with Rag'n'Bone Man)\",\n",
       " 'Shivers',\n",
       " 'Good Time',\n",
       " 'Summer Thing',\n",
       " 'Mi Gente',\n",
       " 'Woman',\n",
       " 'Wake Me Up',\n",
       " 'EveryTime I Cry',\n",
       " 'Payphone',\n",
       " 'good 4 u',\n",
       " \"I Don't Like It, I Love It (feat. Robin Thicke & Verdine White)\",\n",
       " 'Dopamine (feat. Eyelar)',\n",
       " 'Umbrella',\n",
       " 'Vacation',\n",
       " 'Cheerleader - Felix Jaehn Remix Radio Edit',\n",
       " 'OUT OUT (feat. Charli XCX & Saweetie)',\n",
       " 'Five More Hours',\n",
       " 'Santé',\n",
       " 'Si tu tombes',\n",
       " \"Y'a du soleil\",\n",
       " 'Mamma',\n",
       " 'Je viens du Sud',\n",
       " \"À la santé des gens que j'aime\",\n",
       " 'La rivière de notre enfance',\n",
       " 'BELLE',\n",
       " 'Tu ne seras jamais là',\n",
       " 'Puisque tu pars',\n",
       " 'Je te donne',\n",
       " \"L'instinct\",\n",
       " 'Si la vie demande ça - Version masterisée 2021',\n",
       " 'Imagine',\n",
       " 'Le pouvoir des fleurs 2020',\n",
       " \"Je m'voyais déjà (en duo avec Patrick Bruel)\",\n",
       " 'Les jours heureux',\n",
       " 'Centre ville',\n",
       " 'Maintenant - Version radio',\n",
       " \"On s'aimera toujours\",\n",
       " \"À l'aube revenant - Edit single\",\n",
       " 'Brésil, Finistère',\n",
       " 'Aimer',\n",
       " 'Le marin (avec Pierre Souchon et Ours)',\n",
       " 'Ta place dans ce monde',\n",
       " \"On lâche pas l'affaire\",\n",
       " 'Le cœur du monde',\n",
       " 'Sache que je',\n",
       " 'Dis-Lui',\n",
       " 'On se love',\n",
       " 'Une seconde (ou la vie entière)',\n",
       " \"Là où je t'emmènerai\",\n",
       " 'Le temps - Bonus',\n",
       " 'Nouveau monde',\n",
       " 'Ces ombres',\n",
       " 'La belle histoire',\n",
       " 'Double papa',\n",
       " 'Le souhait de Carmen',\n",
       " 'Comment tu vas ?',\n",
       " 'Un petit peu d’amour',\n",
       " 'Ma route',\n",
       " 'Où me tourner',\n",
       " 'Les plages de Dunkerque',\n",
       " 'La 5ème saison',\n",
       " 'Changer',\n",
       " \"Comme si c'était hier - versione estiva\",\n",
       " 'France et Jojo',\n",
       " \"À l'amour\",\n",
       " 'Les vents contraires',\n",
       " 'Virus X - SAGE Rework - radio edit',\n",
       " 'Pensez à moi, parfois',\n",
       " 'My Universe',\n",
       " 'Love Tonight - Robin Schulz Remix',\n",
       " \"Don't Wait Up\",\n",
       " 'Toxic',\n",
       " 'Because You Move Me',\n",
       " 'traitor',\n",
       " 'love nwantiti (ah ah ah)',\n",
       " 'Cold Heart - PNAU Remix',\n",
       " 'Bruxelles je t’aime',\n",
       " 'Wrecked',\n",
       " 'Meet Me At Our Spot',\n",
       " 'Kiss Me More (feat. SZA)',\n",
       " 'Take My Breath',\n",
       " 'La terre est ronde',\n",
       " 'Shivers',\n",
       " 'Livin It Up (with Post Malone & A$AP Rocky)',\n",
       " 'SG (with Ozuna, Megan Thee Stallion & LISA of BLACKPINK)',\n",
       " \"We're Good\",\n",
       " 'Hurricane',\n",
       " 'Leave Before You Love Me (with Jonas Brothers)',\n",
       " 'Blesse-moi',\n",
       " 'Heat Waves',\n",
       " 'Red Eye (feat. TroyBoi)',\n",
       " 'Yonaguni',\n",
       " 'Easy On Me',\n",
       " 'Undeniable (feat. X Ambassadors)',\n",
       " 'Woman',\n",
       " 'Pepas',\n",
       " 'La kiffance',\n",
       " 'The Feeling',\n",
       " 'Where Are You Now',\n",
       " 'One Right Now (with The Weeknd)',\n",
       " 'Bad Habits',\n",
       " 'Acapulco',\n",
       " 'Dynamite',\n",
       " 'MONTERO (Call Me By Your Name)',\n",
       " 'Santé',\n",
       " 'Summer of Love (Shawn Mendes & Tainy)',\n",
       " 'STAY (with Justin Bieber)',\n",
       " 'Tell It To My Heart',\n",
       " 'Moth To A Flame (with The Weeknd)',\n",
       " 'Overpass Graffiti',\n",
       " \"Don't Go Yet\",\n",
       " 'Lost',\n",
       " 'No Love (with SZA)',\n",
       " 'Ghost',\n",
       " 'Family (feat. Bebe Rexha, Ty Dolla $ign & A Boogie Wit da Hoodie)',\n",
       " 'THATS WHAT I WANT',\n",
       " 'Present',\n",
       " 'Happier Than Ever - Edit']"
      ]
     },
     "execution_count": 83,
     "metadata": {},
     "output_type": "execute_result"
    }
   ],
   "source": [
    "main_dict['name']"
   ]
  },
  {
   "cell_type": "code",
   "execution_count": 84,
   "metadata": {},
   "outputs": [
    {
     "name": "stdout",
     "output_type": "stream",
     "text": [
      "name\n",
      "574\n",
      "playlist\n",
      "574\n",
      "danceability\n",
      "574\n",
      "energy\n",
      "574\n",
      "key\n",
      "574\n",
      "loudness\n",
      "574\n",
      "mode\n",
      "574\n",
      "speechiness\n",
      "574\n",
      "acousticness\n",
      "574\n",
      "instrumentalness\n",
      "574\n",
      "liveness\n",
      "574\n",
      "valence\n",
      "574\n",
      "tempo\n",
      "574\n",
      "type\n",
      "574\n",
      "id\n",
      "574\n",
      "uri\n",
      "574\n",
      "track_href\n",
      "574\n",
      "analysis_url\n",
      "574\n",
      "duration_ms\n",
      "574\n",
      "time_signature\n",
      "574\n"
     ]
    }
   ],
   "source": [
    "#main_dict['name'].remove('Memories (feat. Kid Cudi) - 2021 Remix')\n",
    "#main_dict['playlist'].remove(main_dict['playlist'][75])\n",
    "for i in main_dict:\n",
    "    print(i)\n",
    "    print(len(main_dict[i]))\n"
   ]
  },
  {
   "cell_type": "markdown",
   "metadata": {},
   "source": [
    "## Create Dataset"
   ]
  },
  {
   "cell_type": "code",
   "execution_count": 171,
   "metadata": {},
   "outputs": [
    {
     "data": {
      "text/html": [
       "<div>\n",
       "<style scoped>\n",
       "    .dataframe tbody tr th:only-of-type {\n",
       "        vertical-align: middle;\n",
       "    }\n",
       "\n",
       "    .dataframe tbody tr th {\n",
       "        vertical-align: top;\n",
       "    }\n",
       "\n",
       "    .dataframe thead th {\n",
       "        text-align: right;\n",
       "    }\n",
       "</style>\n",
       "<table border=\"1\" class=\"dataframe\">\n",
       "  <thead>\n",
       "    <tr style=\"text-align: right;\">\n",
       "      <th></th>\n",
       "      <th>name</th>\n",
       "      <th>playlist</th>\n",
       "      <th>danceability</th>\n",
       "      <th>energy</th>\n",
       "      <th>key</th>\n",
       "      <th>loudness</th>\n",
       "      <th>mode</th>\n",
       "      <th>speechiness</th>\n",
       "      <th>acousticness</th>\n",
       "      <th>instrumentalness</th>\n",
       "      <th>liveness</th>\n",
       "      <th>valence</th>\n",
       "      <th>tempo</th>\n",
       "      <th>type</th>\n",
       "      <th>id</th>\n",
       "      <th>uri</th>\n",
       "      <th>track_href</th>\n",
       "      <th>analysis_url</th>\n",
       "      <th>duration_ms</th>\n",
       "      <th>time_signature</th>\n",
       "    </tr>\n",
       "  </thead>\n",
       "  <tbody>\n",
       "    <tr>\n",
       "      <th>0</th>\n",
       "      <td>One Right Now (with The Weeknd)</td>\n",
       "      <td>New Music Friday France</td>\n",
       "      <td>0.687</td>\n",
       "      <td>0.781</td>\n",
       "      <td>1</td>\n",
       "      <td>-4.806</td>\n",
       "      <td>1</td>\n",
       "      <td>0.0530</td>\n",
       "      <td>0.03610</td>\n",
       "      <td>0.000000</td>\n",
       "      <td>0.0755</td>\n",
       "      <td>0.688</td>\n",
       "      <td>97.014</td>\n",
       "      <td>audio_features</td>\n",
       "      <td>00Blm7zeNqgYLPtW6zg8cj</td>\n",
       "      <td>spotify:track:00Blm7zeNqgYLPtW6zg8cj</td>\n",
       "      <td>https://api.spotify.com/v1/tracks/00Blm7zeNqgY...</td>\n",
       "      <td>https://api.spotify.com/v1/audio-analysis/00Bl...</td>\n",
       "      <td>193507</td>\n",
       "      <td>4</td>\n",
       "    </tr>\n",
       "    <tr>\n",
       "      <th>1</th>\n",
       "      <td>Le classico organisé</td>\n",
       "      <td>New Music Friday France</td>\n",
       "      <td>0.828</td>\n",
       "      <td>0.878</td>\n",
       "      <td>7</td>\n",
       "      <td>-5.241</td>\n",
       "      <td>1</td>\n",
       "      <td>0.2690</td>\n",
       "      <td>0.32100</td>\n",
       "      <td>0.000000</td>\n",
       "      <td>0.1000</td>\n",
       "      <td>0.777</td>\n",
       "      <td>142.886</td>\n",
       "      <td>audio_features</td>\n",
       "      <td>2O9enJqAqs46tfBlGhLsnW</td>\n",
       "      <td>spotify:track:2O9enJqAqs46tfBlGhLsnW</td>\n",
       "      <td>https://api.spotify.com/v1/tracks/2O9enJqAqs46...</td>\n",
       "      <td>https://api.spotify.com/v1/audio-analysis/2O9e...</td>\n",
       "      <td>378080</td>\n",
       "      <td>4</td>\n",
       "    </tr>\n",
       "    <tr>\n",
       "      <th>2</th>\n",
       "      <td>New Shapes (feat. Christine and the Queens and...</td>\n",
       "      <td>New Music Friday France</td>\n",
       "      <td>0.735</td>\n",
       "      <td>0.740</td>\n",
       "      <td>0</td>\n",
       "      <td>-4.929</td>\n",
       "      <td>1</td>\n",
       "      <td>0.0552</td>\n",
       "      <td>0.11100</td>\n",
       "      <td>0.000000</td>\n",
       "      <td>0.0320</td>\n",
       "      <td>0.553</td>\n",
       "      <td>107.061</td>\n",
       "      <td>audio_features</td>\n",
       "      <td>2JvWoj5bTklsb6fPzRfZ3x</td>\n",
       "      <td>spotify:track:2JvWoj5bTklsb6fPzRfZ3x</td>\n",
       "      <td>https://api.spotify.com/v1/tracks/2JvWoj5bTkls...</td>\n",
       "      <td>https://api.spotify.com/v1/audio-analysis/2JvW...</td>\n",
       "      <td>200688</td>\n",
       "      <td>4</td>\n",
       "    </tr>\n",
       "    <tr>\n",
       "      <th>3</th>\n",
       "      <td>ESCAPE PLAN</td>\n",
       "      <td>New Music Friday France</td>\n",
       "      <td>0.839</td>\n",
       "      <td>0.506</td>\n",
       "      <td>5</td>\n",
       "      <td>-6.714</td>\n",
       "      <td>0</td>\n",
       "      <td>0.1330</td>\n",
       "      <td>0.00207</td>\n",
       "      <td>0.000000</td>\n",
       "      <td>0.1300</td>\n",
       "      <td>0.440</td>\n",
       "      <td>154.120</td>\n",
       "      <td>audio_features</td>\n",
       "      <td>4R67rQNSbbsR4TdUVOIdez</td>\n",
       "      <td>spotify:track:4R67rQNSbbsR4TdUVOIdez</td>\n",
       "      <td>https://api.spotify.com/v1/tracks/4R67rQNSbbsR...</td>\n",
       "      <td>https://api.spotify.com/v1/audio-analysis/4R67...</td>\n",
       "      <td>149610</td>\n",
       "      <td>4</td>\n",
       "    </tr>\n",
       "    <tr>\n",
       "      <th>4</th>\n",
       "      <td>Smokin Out The Window</td>\n",
       "      <td>New Music Friday France</td>\n",
       "      <td>0.627</td>\n",
       "      <td>0.618</td>\n",
       "      <td>2</td>\n",
       "      <td>-8.529</td>\n",
       "      <td>1</td>\n",
       "      <td>0.0437</td>\n",
       "      <td>0.05580</td>\n",
       "      <td>0.000000</td>\n",
       "      <td>0.3510</td>\n",
       "      <td>0.848</td>\n",
       "      <td>82.030</td>\n",
       "      <td>audio_features</td>\n",
       "      <td>4iN16F8JtVxG2UTzp3avGl</td>\n",
       "      <td>spotify:track:4iN16F8JtVxG2UTzp3avGl</td>\n",
       "      <td>https://api.spotify.com/v1/tracks/4iN16F8JtVxG...</td>\n",
       "      <td>https://api.spotify.com/v1/audio-analysis/4iN1...</td>\n",
       "      <td>197443</td>\n",
       "      <td>4</td>\n",
       "    </tr>\n",
       "    <tr>\n",
       "      <th>...</th>\n",
       "      <td>...</td>\n",
       "      <td>...</td>\n",
       "      <td>...</td>\n",
       "      <td>...</td>\n",
       "      <td>...</td>\n",
       "      <td>...</td>\n",
       "      <td>...</td>\n",
       "      <td>...</td>\n",
       "      <td>...</td>\n",
       "      <td>...</td>\n",
       "      <td>...</td>\n",
       "      <td>...</td>\n",
       "      <td>...</td>\n",
       "      <td>...</td>\n",
       "      <td>...</td>\n",
       "      <td>...</td>\n",
       "      <td>...</td>\n",
       "      <td>...</td>\n",
       "      <td>...</td>\n",
       "      <td>...</td>\n",
       "    </tr>\n",
       "    <tr>\n",
       "      <th>569</th>\n",
       "      <td>Ghost</td>\n",
       "      <td>Trajet en musique</td>\n",
       "      <td>0.601</td>\n",
       "      <td>0.741</td>\n",
       "      <td>2</td>\n",
       "      <td>-5.569</td>\n",
       "      <td>1</td>\n",
       "      <td>0.0478</td>\n",
       "      <td>0.18500</td>\n",
       "      <td>0.000029</td>\n",
       "      <td>0.4150</td>\n",
       "      <td>0.441</td>\n",
       "      <td>153.960</td>\n",
       "      <td>audio_features</td>\n",
       "      <td>6I3mqTwhRpn34SLVafSH7G</td>\n",
       "      <td>spotify:track:6I3mqTwhRpn34SLVafSH7G</td>\n",
       "      <td>https://api.spotify.com/v1/tracks/6I3mqTwhRpn3...</td>\n",
       "      <td>https://api.spotify.com/v1/audio-analysis/6I3m...</td>\n",
       "      <td>153190</td>\n",
       "      <td>4</td>\n",
       "    </tr>\n",
       "    <tr>\n",
       "      <th>570</th>\n",
       "      <td>Family (feat. Bebe Rexha, Ty Dolla $ign &amp; A Bo...</td>\n",
       "      <td>Trajet en musique</td>\n",
       "      <td>0.687</td>\n",
       "      <td>0.717</td>\n",
       "      <td>11</td>\n",
       "      <td>-6.610</td>\n",
       "      <td>1</td>\n",
       "      <td>0.0755</td>\n",
       "      <td>0.07440</td>\n",
       "      <td>0.000000</td>\n",
       "      <td>0.1340</td>\n",
       "      <td>0.685</td>\n",
       "      <td>88.063</td>\n",
       "      <td>audio_features</td>\n",
       "      <td>0HLhptvI8NozbOHRLNniFz</td>\n",
       "      <td>spotify:track:0HLhptvI8NozbOHRLNniFz</td>\n",
       "      <td>https://api.spotify.com/v1/tracks/0HLhptvI8Noz...</td>\n",
       "      <td>https://api.spotify.com/v1/audio-analysis/0HLh...</td>\n",
       "      <td>158995</td>\n",
       "      <td>4</td>\n",
       "    </tr>\n",
       "    <tr>\n",
       "      <th>571</th>\n",
       "      <td>THATS WHAT I WANT</td>\n",
       "      <td>Trajet en musique</td>\n",
       "      <td>0.737</td>\n",
       "      <td>0.846</td>\n",
       "      <td>1</td>\n",
       "      <td>-4.510</td>\n",
       "      <td>0</td>\n",
       "      <td>0.2200</td>\n",
       "      <td>0.00614</td>\n",
       "      <td>0.000000</td>\n",
       "      <td>0.0486</td>\n",
       "      <td>0.546</td>\n",
       "      <td>87.981</td>\n",
       "      <td>audio_features</td>\n",
       "      <td>0e8nrvls4Qqv5Rfa2UhqmO</td>\n",
       "      <td>spotify:track:0e8nrvls4Qqv5Rfa2UhqmO</td>\n",
       "      <td>https://api.spotify.com/v1/tracks/0e8nrvls4Qqv...</td>\n",
       "      <td>https://api.spotify.com/v1/audio-analysis/0e8n...</td>\n",
       "      <td>143901</td>\n",
       "      <td>4</td>\n",
       "    </tr>\n",
       "    <tr>\n",
       "      <th>572</th>\n",
       "      <td>Present</td>\n",
       "      <td>Trajet en musique</td>\n",
       "      <td>0.684</td>\n",
       "      <td>0.514</td>\n",
       "      <td>1</td>\n",
       "      <td>-8.584</td>\n",
       "      <td>1</td>\n",
       "      <td>0.0327</td>\n",
       "      <td>0.00242</td>\n",
       "      <td>0.000000</td>\n",
       "      <td>0.1930</td>\n",
       "      <td>0.202</td>\n",
       "      <td>88.014</td>\n",
       "      <td>audio_features</td>\n",
       "      <td>6RBfz4bNLNzvt37HycN1Xf</td>\n",
       "      <td>spotify:track:6RBfz4bNLNzvt37HycN1Xf</td>\n",
       "      <td>https://api.spotify.com/v1/tracks/6RBfz4bNLNzv...</td>\n",
       "      <td>https://api.spotify.com/v1/audio-analysis/6RBf...</td>\n",
       "      <td>156376</td>\n",
       "      <td>4</td>\n",
       "    </tr>\n",
       "    <tr>\n",
       "      <th>573</th>\n",
       "      <td>Happier Than Ever - Edit</td>\n",
       "      <td>Trajet en musique</td>\n",
       "      <td>0.334</td>\n",
       "      <td>0.599</td>\n",
       "      <td>0</td>\n",
       "      <td>-5.742</td>\n",
       "      <td>1</td>\n",
       "      <td>0.0365</td>\n",
       "      <td>0.04680</td>\n",
       "      <td>0.000392</td>\n",
       "      <td>0.2050</td>\n",
       "      <td>0.127</td>\n",
       "      <td>161.740</td>\n",
       "      <td>audio_features</td>\n",
       "      <td>32BeYxKPrig1LefHsC0Xuo</td>\n",
       "      <td>spotify:track:32BeYxKPrig1LefHsC0Xuo</td>\n",
       "      <td>https://api.spotify.com/v1/tracks/32BeYxKPrig1...</td>\n",
       "      <td>https://api.spotify.com/v1/audio-analysis/32Be...</td>\n",
       "      <td>151444</td>\n",
       "      <td>3</td>\n",
       "    </tr>\n",
       "  </tbody>\n",
       "</table>\n",
       "<p>574 rows × 20 columns</p>\n",
       "</div>"
      ],
      "text/plain": [
       "                                                  name  \\\n",
       "0                      One Right Now (with The Weeknd)   \n",
       "1                                 Le classico organisé   \n",
       "2    New Shapes (feat. Christine and the Queens and...   \n",
       "3                                          ESCAPE PLAN   \n",
       "4                                Smokin Out The Window   \n",
       "..                                                 ...   \n",
       "569                                              Ghost   \n",
       "570  Family (feat. Bebe Rexha, Ty Dolla $ign & A Bo...   \n",
       "571                                  THATS WHAT I WANT   \n",
       "572                                            Present   \n",
       "573                           Happier Than Ever - Edit   \n",
       "\n",
       "                    playlist  danceability  energy  key  loudness  mode  \\\n",
       "0    New Music Friday France         0.687   0.781    1    -4.806     1   \n",
       "1    New Music Friday France         0.828   0.878    7    -5.241     1   \n",
       "2    New Music Friday France         0.735   0.740    0    -4.929     1   \n",
       "3    New Music Friday France         0.839   0.506    5    -6.714     0   \n",
       "4    New Music Friday France         0.627   0.618    2    -8.529     1   \n",
       "..                       ...           ...     ...  ...       ...   ...   \n",
       "569        Trajet en musique         0.601   0.741    2    -5.569     1   \n",
       "570        Trajet en musique         0.687   0.717   11    -6.610     1   \n",
       "571        Trajet en musique         0.737   0.846    1    -4.510     0   \n",
       "572        Trajet en musique         0.684   0.514    1    -8.584     1   \n",
       "573        Trajet en musique         0.334   0.599    0    -5.742     1   \n",
       "\n",
       "     speechiness  acousticness  instrumentalness  liveness  valence    tempo  \\\n",
       "0         0.0530       0.03610          0.000000    0.0755    0.688   97.014   \n",
       "1         0.2690       0.32100          0.000000    0.1000    0.777  142.886   \n",
       "2         0.0552       0.11100          0.000000    0.0320    0.553  107.061   \n",
       "3         0.1330       0.00207          0.000000    0.1300    0.440  154.120   \n",
       "4         0.0437       0.05580          0.000000    0.3510    0.848   82.030   \n",
       "..           ...           ...               ...       ...      ...      ...   \n",
       "569       0.0478       0.18500          0.000029    0.4150    0.441  153.960   \n",
       "570       0.0755       0.07440          0.000000    0.1340    0.685   88.063   \n",
       "571       0.2200       0.00614          0.000000    0.0486    0.546   87.981   \n",
       "572       0.0327       0.00242          0.000000    0.1930    0.202   88.014   \n",
       "573       0.0365       0.04680          0.000392    0.2050    0.127  161.740   \n",
       "\n",
       "               type                      id  \\\n",
       "0    audio_features  00Blm7zeNqgYLPtW6zg8cj   \n",
       "1    audio_features  2O9enJqAqs46tfBlGhLsnW   \n",
       "2    audio_features  2JvWoj5bTklsb6fPzRfZ3x   \n",
       "3    audio_features  4R67rQNSbbsR4TdUVOIdez   \n",
       "4    audio_features  4iN16F8JtVxG2UTzp3avGl   \n",
       "..              ...                     ...   \n",
       "569  audio_features  6I3mqTwhRpn34SLVafSH7G   \n",
       "570  audio_features  0HLhptvI8NozbOHRLNniFz   \n",
       "571  audio_features  0e8nrvls4Qqv5Rfa2UhqmO   \n",
       "572  audio_features  6RBfz4bNLNzvt37HycN1Xf   \n",
       "573  audio_features  32BeYxKPrig1LefHsC0Xuo   \n",
       "\n",
       "                                      uri  \\\n",
       "0    spotify:track:00Blm7zeNqgYLPtW6zg8cj   \n",
       "1    spotify:track:2O9enJqAqs46tfBlGhLsnW   \n",
       "2    spotify:track:2JvWoj5bTklsb6fPzRfZ3x   \n",
       "3    spotify:track:4R67rQNSbbsR4TdUVOIdez   \n",
       "4    spotify:track:4iN16F8JtVxG2UTzp3avGl   \n",
       "..                                    ...   \n",
       "569  spotify:track:6I3mqTwhRpn34SLVafSH7G   \n",
       "570  spotify:track:0HLhptvI8NozbOHRLNniFz   \n",
       "571  spotify:track:0e8nrvls4Qqv5Rfa2UhqmO   \n",
       "572  spotify:track:6RBfz4bNLNzvt37HycN1Xf   \n",
       "573  spotify:track:32BeYxKPrig1LefHsC0Xuo   \n",
       "\n",
       "                                            track_href  \\\n",
       "0    https://api.spotify.com/v1/tracks/00Blm7zeNqgY...   \n",
       "1    https://api.spotify.com/v1/tracks/2O9enJqAqs46...   \n",
       "2    https://api.spotify.com/v1/tracks/2JvWoj5bTkls...   \n",
       "3    https://api.spotify.com/v1/tracks/4R67rQNSbbsR...   \n",
       "4    https://api.spotify.com/v1/tracks/4iN16F8JtVxG...   \n",
       "..                                                 ...   \n",
       "569  https://api.spotify.com/v1/tracks/6I3mqTwhRpn3...   \n",
       "570  https://api.spotify.com/v1/tracks/0HLhptvI8Noz...   \n",
       "571  https://api.spotify.com/v1/tracks/0e8nrvls4Qqv...   \n",
       "572  https://api.spotify.com/v1/tracks/6RBfz4bNLNzv...   \n",
       "573  https://api.spotify.com/v1/tracks/32BeYxKPrig1...   \n",
       "\n",
       "                                          analysis_url  duration_ms  \\\n",
       "0    https://api.spotify.com/v1/audio-analysis/00Bl...       193507   \n",
       "1    https://api.spotify.com/v1/audio-analysis/2O9e...       378080   \n",
       "2    https://api.spotify.com/v1/audio-analysis/2JvW...       200688   \n",
       "3    https://api.spotify.com/v1/audio-analysis/4R67...       149610   \n",
       "4    https://api.spotify.com/v1/audio-analysis/4iN1...       197443   \n",
       "..                                                 ...          ...   \n",
       "569  https://api.spotify.com/v1/audio-analysis/6I3m...       153190   \n",
       "570  https://api.spotify.com/v1/audio-analysis/0HLh...       158995   \n",
       "571  https://api.spotify.com/v1/audio-analysis/0e8n...       143901   \n",
       "572  https://api.spotify.com/v1/audio-analysis/6RBf...       156376   \n",
       "573  https://api.spotify.com/v1/audio-analysis/32Be...       151444   \n",
       "\n",
       "     time_signature  \n",
       "0                 4  \n",
       "1                 4  \n",
       "2                 4  \n",
       "3                 4  \n",
       "4                 4  \n",
       "..              ...  \n",
       "569               4  \n",
       "570               4  \n",
       "571               4  \n",
       "572               4  \n",
       "573               3  \n",
       "\n",
       "[574 rows x 20 columns]"
      ]
     },
     "execution_count": 171,
     "metadata": {},
     "output_type": "execute_result"
    }
   ],
   "source": [
    "df = pd.DataFrame.from_dict(main_dict)\n",
    "df"
   ]
  },
  {
   "cell_type": "code",
   "execution_count": 173,
   "metadata": {
    "scrolled": true
   },
   "outputs": [
    {
     "data": {
      "text/html": [
       "<div>\n",
       "<style scoped>\n",
       "    .dataframe tbody tr th:only-of-type {\n",
       "        vertical-align: middle;\n",
       "    }\n",
       "\n",
       "    .dataframe tbody tr th {\n",
       "        vertical-align: top;\n",
       "    }\n",
       "\n",
       "    .dataframe thead th {\n",
       "        text-align: right;\n",
       "    }\n",
       "</style>\n",
       "<table border=\"1\" class=\"dataframe\">\n",
       "  <thead>\n",
       "    <tr style=\"text-align: right;\">\n",
       "      <th></th>\n",
       "      <th>name</th>\n",
       "      <th>playlist</th>\n",
       "      <th>danceability</th>\n",
       "      <th>energy</th>\n",
       "      <th>key</th>\n",
       "      <th>loudness</th>\n",
       "      <th>mode</th>\n",
       "      <th>speechiness</th>\n",
       "      <th>acousticness</th>\n",
       "      <th>instrumentalness</th>\n",
       "      <th>liveness</th>\n",
       "      <th>valence</th>\n",
       "      <th>tempo</th>\n",
       "      <th>type</th>\n",
       "      <th>id</th>\n",
       "      <th>uri</th>\n",
       "      <th>track_href</th>\n",
       "      <th>analysis_url</th>\n",
       "      <th>duration_ms</th>\n",
       "      <th>time_signature</th>\n",
       "    </tr>\n",
       "  </thead>\n",
       "  <tbody>\n",
       "    <tr>\n",
       "      <th>0</th>\n",
       "      <td>One Right Now (with The Weeknd)</td>\n",
       "      <td>New Music Friday France</td>\n",
       "      <td>0.687</td>\n",
       "      <td>0.781</td>\n",
       "      <td>1</td>\n",
       "      <td>-4.806</td>\n",
       "      <td>1</td>\n",
       "      <td>0.0530</td>\n",
       "      <td>0.03610</td>\n",
       "      <td>0.000000</td>\n",
       "      <td>0.0755</td>\n",
       "      <td>0.688</td>\n",
       "      <td>97.014</td>\n",
       "      <td>audio_features</td>\n",
       "      <td>00Blm7zeNqgYLPtW6zg8cj</td>\n",
       "      <td>spotify:track:00Blm7zeNqgYLPtW6zg8cj</td>\n",
       "      <td>https://api.spotify.com/v1/tracks/00Blm7zeNqgY...</td>\n",
       "      <td>https://api.spotify.com/v1/audio-analysis/00Bl...</td>\n",
       "      <td>193507</td>\n",
       "      <td>4</td>\n",
       "    </tr>\n",
       "    <tr>\n",
       "      <th>1</th>\n",
       "      <td>Le classico organisé</td>\n",
       "      <td>New Music Friday France</td>\n",
       "      <td>0.828</td>\n",
       "      <td>0.878</td>\n",
       "      <td>7</td>\n",
       "      <td>-5.241</td>\n",
       "      <td>1</td>\n",
       "      <td>0.2690</td>\n",
       "      <td>0.32100</td>\n",
       "      <td>0.000000</td>\n",
       "      <td>0.1000</td>\n",
       "      <td>0.777</td>\n",
       "      <td>142.886</td>\n",
       "      <td>audio_features</td>\n",
       "      <td>2O9enJqAqs46tfBlGhLsnW</td>\n",
       "      <td>spotify:track:2O9enJqAqs46tfBlGhLsnW</td>\n",
       "      <td>https://api.spotify.com/v1/tracks/2O9enJqAqs46...</td>\n",
       "      <td>https://api.spotify.com/v1/audio-analysis/2O9e...</td>\n",
       "      <td>378080</td>\n",
       "      <td>4</td>\n",
       "    </tr>\n",
       "    <tr>\n",
       "      <th>2</th>\n",
       "      <td>New Shapes (feat. Christine and the Queens and...</td>\n",
       "      <td>New Music Friday France</td>\n",
       "      <td>0.735</td>\n",
       "      <td>0.740</td>\n",
       "      <td>0</td>\n",
       "      <td>-4.929</td>\n",
       "      <td>1</td>\n",
       "      <td>0.0552</td>\n",
       "      <td>0.11100</td>\n",
       "      <td>0.000000</td>\n",
       "      <td>0.0320</td>\n",
       "      <td>0.553</td>\n",
       "      <td>107.061</td>\n",
       "      <td>audio_features</td>\n",
       "      <td>2JvWoj5bTklsb6fPzRfZ3x</td>\n",
       "      <td>spotify:track:2JvWoj5bTklsb6fPzRfZ3x</td>\n",
       "      <td>https://api.spotify.com/v1/tracks/2JvWoj5bTkls...</td>\n",
       "      <td>https://api.spotify.com/v1/audio-analysis/2JvW...</td>\n",
       "      <td>200688</td>\n",
       "      <td>4</td>\n",
       "    </tr>\n",
       "    <tr>\n",
       "      <th>3</th>\n",
       "      <td>ESCAPE PLAN</td>\n",
       "      <td>New Music Friday France</td>\n",
       "      <td>0.839</td>\n",
       "      <td>0.506</td>\n",
       "      <td>5</td>\n",
       "      <td>-6.714</td>\n",
       "      <td>0</td>\n",
       "      <td>0.1330</td>\n",
       "      <td>0.00207</td>\n",
       "      <td>0.000000</td>\n",
       "      <td>0.1300</td>\n",
       "      <td>0.440</td>\n",
       "      <td>154.120</td>\n",
       "      <td>audio_features</td>\n",
       "      <td>4R67rQNSbbsR4TdUVOIdez</td>\n",
       "      <td>spotify:track:4R67rQNSbbsR4TdUVOIdez</td>\n",
       "      <td>https://api.spotify.com/v1/tracks/4R67rQNSbbsR...</td>\n",
       "      <td>https://api.spotify.com/v1/audio-analysis/4R67...</td>\n",
       "      <td>149610</td>\n",
       "      <td>4</td>\n",
       "    </tr>\n",
       "    <tr>\n",
       "      <th>4</th>\n",
       "      <td>Smokin Out The Window</td>\n",
       "      <td>New Music Friday France</td>\n",
       "      <td>0.627</td>\n",
       "      <td>0.618</td>\n",
       "      <td>2</td>\n",
       "      <td>-8.529</td>\n",
       "      <td>1</td>\n",
       "      <td>0.0437</td>\n",
       "      <td>0.05580</td>\n",
       "      <td>0.000000</td>\n",
       "      <td>0.3510</td>\n",
       "      <td>0.848</td>\n",
       "      <td>82.030</td>\n",
       "      <td>audio_features</td>\n",
       "      <td>4iN16F8JtVxG2UTzp3avGl</td>\n",
       "      <td>spotify:track:4iN16F8JtVxG2UTzp3avGl</td>\n",
       "      <td>https://api.spotify.com/v1/tracks/4iN16F8JtVxG...</td>\n",
       "      <td>https://api.spotify.com/v1/audio-analysis/4iN1...</td>\n",
       "      <td>197443</td>\n",
       "      <td>4</td>\n",
       "    </tr>\n",
       "    <tr>\n",
       "      <th>...</th>\n",
       "      <td>...</td>\n",
       "      <td>...</td>\n",
       "      <td>...</td>\n",
       "      <td>...</td>\n",
       "      <td>...</td>\n",
       "      <td>...</td>\n",
       "      <td>...</td>\n",
       "      <td>...</td>\n",
       "      <td>...</td>\n",
       "      <td>...</td>\n",
       "      <td>...</td>\n",
       "      <td>...</td>\n",
       "      <td>...</td>\n",
       "      <td>...</td>\n",
       "      <td>...</td>\n",
       "      <td>...</td>\n",
       "      <td>...</td>\n",
       "      <td>...</td>\n",
       "      <td>...</td>\n",
       "      <td>...</td>\n",
       "    </tr>\n",
       "    <tr>\n",
       "      <th>569</th>\n",
       "      <td>Ghost</td>\n",
       "      <td>Trajet en musique</td>\n",
       "      <td>0.601</td>\n",
       "      <td>0.741</td>\n",
       "      <td>2</td>\n",
       "      <td>-5.569</td>\n",
       "      <td>1</td>\n",
       "      <td>0.0478</td>\n",
       "      <td>0.18500</td>\n",
       "      <td>0.000029</td>\n",
       "      <td>0.4150</td>\n",
       "      <td>0.441</td>\n",
       "      <td>153.960</td>\n",
       "      <td>audio_features</td>\n",
       "      <td>6I3mqTwhRpn34SLVafSH7G</td>\n",
       "      <td>spotify:track:6I3mqTwhRpn34SLVafSH7G</td>\n",
       "      <td>https://api.spotify.com/v1/tracks/6I3mqTwhRpn3...</td>\n",
       "      <td>https://api.spotify.com/v1/audio-analysis/6I3m...</td>\n",
       "      <td>153190</td>\n",
       "      <td>4</td>\n",
       "    </tr>\n",
       "    <tr>\n",
       "      <th>570</th>\n",
       "      <td>Family (feat. Bebe Rexha, Ty Dolla $ign &amp; A Bo...</td>\n",
       "      <td>Trajet en musique</td>\n",
       "      <td>0.687</td>\n",
       "      <td>0.717</td>\n",
       "      <td>11</td>\n",
       "      <td>-6.610</td>\n",
       "      <td>1</td>\n",
       "      <td>0.0755</td>\n",
       "      <td>0.07440</td>\n",
       "      <td>0.000000</td>\n",
       "      <td>0.1340</td>\n",
       "      <td>0.685</td>\n",
       "      <td>88.063</td>\n",
       "      <td>audio_features</td>\n",
       "      <td>0HLhptvI8NozbOHRLNniFz</td>\n",
       "      <td>spotify:track:0HLhptvI8NozbOHRLNniFz</td>\n",
       "      <td>https://api.spotify.com/v1/tracks/0HLhptvI8Noz...</td>\n",
       "      <td>https://api.spotify.com/v1/audio-analysis/0HLh...</td>\n",
       "      <td>158995</td>\n",
       "      <td>4</td>\n",
       "    </tr>\n",
       "    <tr>\n",
       "      <th>571</th>\n",
       "      <td>THATS WHAT I WANT</td>\n",
       "      <td>Trajet en musique</td>\n",
       "      <td>0.737</td>\n",
       "      <td>0.846</td>\n",
       "      <td>1</td>\n",
       "      <td>-4.510</td>\n",
       "      <td>0</td>\n",
       "      <td>0.2200</td>\n",
       "      <td>0.00614</td>\n",
       "      <td>0.000000</td>\n",
       "      <td>0.0486</td>\n",
       "      <td>0.546</td>\n",
       "      <td>87.981</td>\n",
       "      <td>audio_features</td>\n",
       "      <td>0e8nrvls4Qqv5Rfa2UhqmO</td>\n",
       "      <td>spotify:track:0e8nrvls4Qqv5Rfa2UhqmO</td>\n",
       "      <td>https://api.spotify.com/v1/tracks/0e8nrvls4Qqv...</td>\n",
       "      <td>https://api.spotify.com/v1/audio-analysis/0e8n...</td>\n",
       "      <td>143901</td>\n",
       "      <td>4</td>\n",
       "    </tr>\n",
       "    <tr>\n",
       "      <th>572</th>\n",
       "      <td>Present</td>\n",
       "      <td>Trajet en musique</td>\n",
       "      <td>0.684</td>\n",
       "      <td>0.514</td>\n",
       "      <td>1</td>\n",
       "      <td>-8.584</td>\n",
       "      <td>1</td>\n",
       "      <td>0.0327</td>\n",
       "      <td>0.00242</td>\n",
       "      <td>0.000000</td>\n",
       "      <td>0.1930</td>\n",
       "      <td>0.202</td>\n",
       "      <td>88.014</td>\n",
       "      <td>audio_features</td>\n",
       "      <td>6RBfz4bNLNzvt37HycN1Xf</td>\n",
       "      <td>spotify:track:6RBfz4bNLNzvt37HycN1Xf</td>\n",
       "      <td>https://api.spotify.com/v1/tracks/6RBfz4bNLNzv...</td>\n",
       "      <td>https://api.spotify.com/v1/audio-analysis/6RBf...</td>\n",
       "      <td>156376</td>\n",
       "      <td>4</td>\n",
       "    </tr>\n",
       "    <tr>\n",
       "      <th>573</th>\n",
       "      <td>Happier Than Ever - Edit</td>\n",
       "      <td>Trajet en musique</td>\n",
       "      <td>0.334</td>\n",
       "      <td>0.599</td>\n",
       "      <td>0</td>\n",
       "      <td>-5.742</td>\n",
       "      <td>1</td>\n",
       "      <td>0.0365</td>\n",
       "      <td>0.04680</td>\n",
       "      <td>0.000392</td>\n",
       "      <td>0.2050</td>\n",
       "      <td>0.127</td>\n",
       "      <td>161.740</td>\n",
       "      <td>audio_features</td>\n",
       "      <td>32BeYxKPrig1LefHsC0Xuo</td>\n",
       "      <td>spotify:track:32BeYxKPrig1LefHsC0Xuo</td>\n",
       "      <td>https://api.spotify.com/v1/tracks/32BeYxKPrig1...</td>\n",
       "      <td>https://api.spotify.com/v1/audio-analysis/32Be...</td>\n",
       "      <td>151444</td>\n",
       "      <td>3</td>\n",
       "    </tr>\n",
       "  </tbody>\n",
       "</table>\n",
       "<p>574 rows × 20 columns</p>\n",
       "</div>"
      ],
      "text/plain": [
       "                                                  name  \\\n",
       "0                      One Right Now (with The Weeknd)   \n",
       "1                                 Le classico organisé   \n",
       "2    New Shapes (feat. Christine and the Queens and...   \n",
       "3                                          ESCAPE PLAN   \n",
       "4                                Smokin Out The Window   \n",
       "..                                                 ...   \n",
       "569                                              Ghost   \n",
       "570  Family (feat. Bebe Rexha, Ty Dolla $ign & A Bo...   \n",
       "571                                  THATS WHAT I WANT   \n",
       "572                                            Present   \n",
       "573                           Happier Than Ever - Edit   \n",
       "\n",
       "                    playlist  danceability  energy  key  loudness  mode  \\\n",
       "0    New Music Friday France         0.687   0.781    1    -4.806     1   \n",
       "1    New Music Friday France         0.828   0.878    7    -5.241     1   \n",
       "2    New Music Friday France         0.735   0.740    0    -4.929     1   \n",
       "3    New Music Friday France         0.839   0.506    5    -6.714     0   \n",
       "4    New Music Friday France         0.627   0.618    2    -8.529     1   \n",
       "..                       ...           ...     ...  ...       ...   ...   \n",
       "569        Trajet en musique         0.601   0.741    2    -5.569     1   \n",
       "570        Trajet en musique         0.687   0.717   11    -6.610     1   \n",
       "571        Trajet en musique         0.737   0.846    1    -4.510     0   \n",
       "572        Trajet en musique         0.684   0.514    1    -8.584     1   \n",
       "573        Trajet en musique         0.334   0.599    0    -5.742     1   \n",
       "\n",
       "     speechiness  acousticness  instrumentalness  liveness  valence    tempo  \\\n",
       "0         0.0530       0.03610          0.000000    0.0755    0.688   97.014   \n",
       "1         0.2690       0.32100          0.000000    0.1000    0.777  142.886   \n",
       "2         0.0552       0.11100          0.000000    0.0320    0.553  107.061   \n",
       "3         0.1330       0.00207          0.000000    0.1300    0.440  154.120   \n",
       "4         0.0437       0.05580          0.000000    0.3510    0.848   82.030   \n",
       "..           ...           ...               ...       ...      ...      ...   \n",
       "569       0.0478       0.18500          0.000029    0.4150    0.441  153.960   \n",
       "570       0.0755       0.07440          0.000000    0.1340    0.685   88.063   \n",
       "571       0.2200       0.00614          0.000000    0.0486    0.546   87.981   \n",
       "572       0.0327       0.00242          0.000000    0.1930    0.202   88.014   \n",
       "573       0.0365       0.04680          0.000392    0.2050    0.127  161.740   \n",
       "\n",
       "               type                      id  \\\n",
       "0    audio_features  00Blm7zeNqgYLPtW6zg8cj   \n",
       "1    audio_features  2O9enJqAqs46tfBlGhLsnW   \n",
       "2    audio_features  2JvWoj5bTklsb6fPzRfZ3x   \n",
       "3    audio_features  4R67rQNSbbsR4TdUVOIdez   \n",
       "4    audio_features  4iN16F8JtVxG2UTzp3avGl   \n",
       "..              ...                     ...   \n",
       "569  audio_features  6I3mqTwhRpn34SLVafSH7G   \n",
       "570  audio_features  0HLhptvI8NozbOHRLNniFz   \n",
       "571  audio_features  0e8nrvls4Qqv5Rfa2UhqmO   \n",
       "572  audio_features  6RBfz4bNLNzvt37HycN1Xf   \n",
       "573  audio_features  32BeYxKPrig1LefHsC0Xuo   \n",
       "\n",
       "                                      uri  \\\n",
       "0    spotify:track:00Blm7zeNqgYLPtW6zg8cj   \n",
       "1    spotify:track:2O9enJqAqs46tfBlGhLsnW   \n",
       "2    spotify:track:2JvWoj5bTklsb6fPzRfZ3x   \n",
       "3    spotify:track:4R67rQNSbbsR4TdUVOIdez   \n",
       "4    spotify:track:4iN16F8JtVxG2UTzp3avGl   \n",
       "..                                    ...   \n",
       "569  spotify:track:6I3mqTwhRpn34SLVafSH7G   \n",
       "570  spotify:track:0HLhptvI8NozbOHRLNniFz   \n",
       "571  spotify:track:0e8nrvls4Qqv5Rfa2UhqmO   \n",
       "572  spotify:track:6RBfz4bNLNzvt37HycN1Xf   \n",
       "573  spotify:track:32BeYxKPrig1LefHsC0Xuo   \n",
       "\n",
       "                                            track_href  \\\n",
       "0    https://api.spotify.com/v1/tracks/00Blm7zeNqgY...   \n",
       "1    https://api.spotify.com/v1/tracks/2O9enJqAqs46...   \n",
       "2    https://api.spotify.com/v1/tracks/2JvWoj5bTkls...   \n",
       "3    https://api.spotify.com/v1/tracks/4R67rQNSbbsR...   \n",
       "4    https://api.spotify.com/v1/tracks/4iN16F8JtVxG...   \n",
       "..                                                 ...   \n",
       "569  https://api.spotify.com/v1/tracks/6I3mqTwhRpn3...   \n",
       "570  https://api.spotify.com/v1/tracks/0HLhptvI8Noz...   \n",
       "571  https://api.spotify.com/v1/tracks/0e8nrvls4Qqv...   \n",
       "572  https://api.spotify.com/v1/tracks/6RBfz4bNLNzv...   \n",
       "573  https://api.spotify.com/v1/tracks/32BeYxKPrig1...   \n",
       "\n",
       "                                          analysis_url  duration_ms  \\\n",
       "0    https://api.spotify.com/v1/audio-analysis/00Bl...       193507   \n",
       "1    https://api.spotify.com/v1/audio-analysis/2O9e...       378080   \n",
       "2    https://api.spotify.com/v1/audio-analysis/2JvW...       200688   \n",
       "3    https://api.spotify.com/v1/audio-analysis/4R67...       149610   \n",
       "4    https://api.spotify.com/v1/audio-analysis/4iN1...       197443   \n",
       "..                                                 ...          ...   \n",
       "569  https://api.spotify.com/v1/audio-analysis/6I3m...       153190   \n",
       "570  https://api.spotify.com/v1/audio-analysis/0HLh...       158995   \n",
       "571  https://api.spotify.com/v1/audio-analysis/0e8n...       143901   \n",
       "572  https://api.spotify.com/v1/audio-analysis/6RBf...       156376   \n",
       "573  https://api.spotify.com/v1/audio-analysis/32Be...       151444   \n",
       "\n",
       "     time_signature  \n",
       "0                 4  \n",
       "1                 4  \n",
       "2                 4  \n",
       "3                 4  \n",
       "4                 4  \n",
       "..              ...  \n",
       "569               4  \n",
       "570               4  \n",
       "571               4  \n",
       "572               4  \n",
       "573               3  \n",
       "\n",
       "[574 rows x 20 columns]"
      ]
     },
     "execution_count": 173,
     "metadata": {},
     "output_type": "execute_result"
    }
   ],
   "source": [
    "#df = df.drop(['name','type','uri','analysis_url','track_href'],axis=1)\n",
    "df"
   ]
  },
  {
   "cell_type": "code",
   "execution_count": 174,
   "metadata": {},
   "outputs": [],
   "source": [
    "df.to_csv('first_dataset.csv')"
   ]
  },
  {
   "cell_type": "code",
   "execution_count": 175,
   "metadata": {},
   "outputs": [
    {
     "data": {
      "text/plain": [
       "'2O9enJqAqs46tfBlGhLsnW'"
      ]
     },
     "execution_count": 175,
     "metadata": {},
     "output_type": "execute_result"
    }
   ],
   "source": [
    "tracks_id[1]"
   ]
  },
  {
   "cell_type": "code",
   "execution_count": 176,
   "metadata": {},
   "outputs": [
    {
     "data": {
      "text/html": [
       "<div>\n",
       "<style scoped>\n",
       "    .dataframe tbody tr th:only-of-type {\n",
       "        vertical-align: middle;\n",
       "    }\n",
       "\n",
       "    .dataframe tbody tr th {\n",
       "        vertical-align: top;\n",
       "    }\n",
       "\n",
       "    .dataframe thead th {\n",
       "        text-align: right;\n",
       "    }\n",
       "</style>\n",
       "<table border=\"1\" class=\"dataframe\">\n",
       "  <thead>\n",
       "    <tr style=\"text-align: right;\">\n",
       "      <th></th>\n",
       "      <th>name</th>\n",
       "      <th>playlist</th>\n",
       "      <th>danceability</th>\n",
       "      <th>energy</th>\n",
       "      <th>key</th>\n",
       "      <th>loudness</th>\n",
       "      <th>mode</th>\n",
       "      <th>speechiness</th>\n",
       "      <th>acousticness</th>\n",
       "      <th>instrumentalness</th>\n",
       "      <th>liveness</th>\n",
       "      <th>valence</th>\n",
       "      <th>tempo</th>\n",
       "      <th>type</th>\n",
       "      <th>uri</th>\n",
       "      <th>track_href</th>\n",
       "      <th>analysis_url</th>\n",
       "      <th>duration_ms</th>\n",
       "      <th>time_signature</th>\n",
       "    </tr>\n",
       "  </thead>\n",
       "  <tbody>\n",
       "    <tr>\n",
       "      <th>0</th>\n",
       "      <td>One Right Now (with The Weeknd)</td>\n",
       "      <td>0</td>\n",
       "      <td>0.687</td>\n",
       "      <td>0.781</td>\n",
       "      <td>1</td>\n",
       "      <td>-4.806</td>\n",
       "      <td>1</td>\n",
       "      <td>0.0530</td>\n",
       "      <td>0.03610</td>\n",
       "      <td>0.000000</td>\n",
       "      <td>0.0755</td>\n",
       "      <td>0.688</td>\n",
       "      <td>97.014</td>\n",
       "      <td>audio_features</td>\n",
       "      <td>spotify:track:00Blm7zeNqgYLPtW6zg8cj</td>\n",
       "      <td>https://api.spotify.com/v1/tracks/00Blm7zeNqgY...</td>\n",
       "      <td>https://api.spotify.com/v1/audio-analysis/00Bl...</td>\n",
       "      <td>193507</td>\n",
       "      <td>4</td>\n",
       "    </tr>\n",
       "    <tr>\n",
       "      <th>1</th>\n",
       "      <td>Le classico organisé</td>\n",
       "      <td>0</td>\n",
       "      <td>0.828</td>\n",
       "      <td>0.878</td>\n",
       "      <td>7</td>\n",
       "      <td>-5.241</td>\n",
       "      <td>1</td>\n",
       "      <td>0.2690</td>\n",
       "      <td>0.32100</td>\n",
       "      <td>0.000000</td>\n",
       "      <td>0.1000</td>\n",
       "      <td>0.777</td>\n",
       "      <td>142.886</td>\n",
       "      <td>audio_features</td>\n",
       "      <td>spotify:track:2O9enJqAqs46tfBlGhLsnW</td>\n",
       "      <td>https://api.spotify.com/v1/tracks/2O9enJqAqs46...</td>\n",
       "      <td>https://api.spotify.com/v1/audio-analysis/2O9e...</td>\n",
       "      <td>378080</td>\n",
       "      <td>4</td>\n",
       "    </tr>\n",
       "    <tr>\n",
       "      <th>2</th>\n",
       "      <td>New Shapes (feat. Christine and the Queens and...</td>\n",
       "      <td>0</td>\n",
       "      <td>0.735</td>\n",
       "      <td>0.740</td>\n",
       "      <td>0</td>\n",
       "      <td>-4.929</td>\n",
       "      <td>1</td>\n",
       "      <td>0.0552</td>\n",
       "      <td>0.11100</td>\n",
       "      <td>0.000000</td>\n",
       "      <td>0.0320</td>\n",
       "      <td>0.553</td>\n",
       "      <td>107.061</td>\n",
       "      <td>audio_features</td>\n",
       "      <td>spotify:track:2JvWoj5bTklsb6fPzRfZ3x</td>\n",
       "      <td>https://api.spotify.com/v1/tracks/2JvWoj5bTkls...</td>\n",
       "      <td>https://api.spotify.com/v1/audio-analysis/2JvW...</td>\n",
       "      <td>200688</td>\n",
       "      <td>4</td>\n",
       "    </tr>\n",
       "    <tr>\n",
       "      <th>3</th>\n",
       "      <td>ESCAPE PLAN</td>\n",
       "      <td>0</td>\n",
       "      <td>0.839</td>\n",
       "      <td>0.506</td>\n",
       "      <td>5</td>\n",
       "      <td>-6.714</td>\n",
       "      <td>0</td>\n",
       "      <td>0.1330</td>\n",
       "      <td>0.00207</td>\n",
       "      <td>0.000000</td>\n",
       "      <td>0.1300</td>\n",
       "      <td>0.440</td>\n",
       "      <td>154.120</td>\n",
       "      <td>audio_features</td>\n",
       "      <td>spotify:track:4R67rQNSbbsR4TdUVOIdez</td>\n",
       "      <td>https://api.spotify.com/v1/tracks/4R67rQNSbbsR...</td>\n",
       "      <td>https://api.spotify.com/v1/audio-analysis/4R67...</td>\n",
       "      <td>149610</td>\n",
       "      <td>4</td>\n",
       "    </tr>\n",
       "    <tr>\n",
       "      <th>4</th>\n",
       "      <td>Smokin Out The Window</td>\n",
       "      <td>0</td>\n",
       "      <td>0.627</td>\n",
       "      <td>0.618</td>\n",
       "      <td>2</td>\n",
       "      <td>-8.529</td>\n",
       "      <td>1</td>\n",
       "      <td>0.0437</td>\n",
       "      <td>0.05580</td>\n",
       "      <td>0.000000</td>\n",
       "      <td>0.3510</td>\n",
       "      <td>0.848</td>\n",
       "      <td>82.030</td>\n",
       "      <td>audio_features</td>\n",
       "      <td>spotify:track:4iN16F8JtVxG2UTzp3avGl</td>\n",
       "      <td>https://api.spotify.com/v1/tracks/4iN16F8JtVxG...</td>\n",
       "      <td>https://api.spotify.com/v1/audio-analysis/4iN1...</td>\n",
       "      <td>197443</td>\n",
       "      <td>4</td>\n",
       "    </tr>\n",
       "    <tr>\n",
       "      <th>...</th>\n",
       "      <td>...</td>\n",
       "      <td>...</td>\n",
       "      <td>...</td>\n",
       "      <td>...</td>\n",
       "      <td>...</td>\n",
       "      <td>...</td>\n",
       "      <td>...</td>\n",
       "      <td>...</td>\n",
       "      <td>...</td>\n",
       "      <td>...</td>\n",
       "      <td>...</td>\n",
       "      <td>...</td>\n",
       "      <td>...</td>\n",
       "      <td>...</td>\n",
       "      <td>...</td>\n",
       "      <td>...</td>\n",
       "      <td>...</td>\n",
       "      <td>...</td>\n",
       "      <td>...</td>\n",
       "    </tr>\n",
       "    <tr>\n",
       "      <th>569</th>\n",
       "      <td>Ghost</td>\n",
       "      <td>10</td>\n",
       "      <td>0.601</td>\n",
       "      <td>0.741</td>\n",
       "      <td>2</td>\n",
       "      <td>-5.569</td>\n",
       "      <td>1</td>\n",
       "      <td>0.0478</td>\n",
       "      <td>0.18500</td>\n",
       "      <td>0.000029</td>\n",
       "      <td>0.4150</td>\n",
       "      <td>0.441</td>\n",
       "      <td>153.960</td>\n",
       "      <td>audio_features</td>\n",
       "      <td>spotify:track:6I3mqTwhRpn34SLVafSH7G</td>\n",
       "      <td>https://api.spotify.com/v1/tracks/6I3mqTwhRpn3...</td>\n",
       "      <td>https://api.spotify.com/v1/audio-analysis/6I3m...</td>\n",
       "      <td>153190</td>\n",
       "      <td>4</td>\n",
       "    </tr>\n",
       "    <tr>\n",
       "      <th>570</th>\n",
       "      <td>Family (feat. Bebe Rexha, Ty Dolla $ign &amp; A Bo...</td>\n",
       "      <td>10</td>\n",
       "      <td>0.687</td>\n",
       "      <td>0.717</td>\n",
       "      <td>11</td>\n",
       "      <td>-6.610</td>\n",
       "      <td>1</td>\n",
       "      <td>0.0755</td>\n",
       "      <td>0.07440</td>\n",
       "      <td>0.000000</td>\n",
       "      <td>0.1340</td>\n",
       "      <td>0.685</td>\n",
       "      <td>88.063</td>\n",
       "      <td>audio_features</td>\n",
       "      <td>spotify:track:0HLhptvI8NozbOHRLNniFz</td>\n",
       "      <td>https://api.spotify.com/v1/tracks/0HLhptvI8Noz...</td>\n",
       "      <td>https://api.spotify.com/v1/audio-analysis/0HLh...</td>\n",
       "      <td>158995</td>\n",
       "      <td>4</td>\n",
       "    </tr>\n",
       "    <tr>\n",
       "      <th>571</th>\n",
       "      <td>THATS WHAT I WANT</td>\n",
       "      <td>10</td>\n",
       "      <td>0.737</td>\n",
       "      <td>0.846</td>\n",
       "      <td>1</td>\n",
       "      <td>-4.510</td>\n",
       "      <td>0</td>\n",
       "      <td>0.2200</td>\n",
       "      <td>0.00614</td>\n",
       "      <td>0.000000</td>\n",
       "      <td>0.0486</td>\n",
       "      <td>0.546</td>\n",
       "      <td>87.981</td>\n",
       "      <td>audio_features</td>\n",
       "      <td>spotify:track:0e8nrvls4Qqv5Rfa2UhqmO</td>\n",
       "      <td>https://api.spotify.com/v1/tracks/0e8nrvls4Qqv...</td>\n",
       "      <td>https://api.spotify.com/v1/audio-analysis/0e8n...</td>\n",
       "      <td>143901</td>\n",
       "      <td>4</td>\n",
       "    </tr>\n",
       "    <tr>\n",
       "      <th>572</th>\n",
       "      <td>Present</td>\n",
       "      <td>10</td>\n",
       "      <td>0.684</td>\n",
       "      <td>0.514</td>\n",
       "      <td>1</td>\n",
       "      <td>-8.584</td>\n",
       "      <td>1</td>\n",
       "      <td>0.0327</td>\n",
       "      <td>0.00242</td>\n",
       "      <td>0.000000</td>\n",
       "      <td>0.1930</td>\n",
       "      <td>0.202</td>\n",
       "      <td>88.014</td>\n",
       "      <td>audio_features</td>\n",
       "      <td>spotify:track:6RBfz4bNLNzvt37HycN1Xf</td>\n",
       "      <td>https://api.spotify.com/v1/tracks/6RBfz4bNLNzv...</td>\n",
       "      <td>https://api.spotify.com/v1/audio-analysis/6RBf...</td>\n",
       "      <td>156376</td>\n",
       "      <td>4</td>\n",
       "    </tr>\n",
       "    <tr>\n",
       "      <th>573</th>\n",
       "      <td>Happier Than Ever - Edit</td>\n",
       "      <td>10</td>\n",
       "      <td>0.334</td>\n",
       "      <td>0.599</td>\n",
       "      <td>0</td>\n",
       "      <td>-5.742</td>\n",
       "      <td>1</td>\n",
       "      <td>0.0365</td>\n",
       "      <td>0.04680</td>\n",
       "      <td>0.000392</td>\n",
       "      <td>0.2050</td>\n",
       "      <td>0.127</td>\n",
       "      <td>161.740</td>\n",
       "      <td>audio_features</td>\n",
       "      <td>spotify:track:32BeYxKPrig1LefHsC0Xuo</td>\n",
       "      <td>https://api.spotify.com/v1/tracks/32BeYxKPrig1...</td>\n",
       "      <td>https://api.spotify.com/v1/audio-analysis/32Be...</td>\n",
       "      <td>151444</td>\n",
       "      <td>3</td>\n",
       "    </tr>\n",
       "  </tbody>\n",
       "</table>\n",
       "<p>574 rows × 19 columns</p>\n",
       "</div>"
      ],
      "text/plain": [
       "                                                  name  playlist  \\\n",
       "0                      One Right Now (with The Weeknd)         0   \n",
       "1                                 Le classico organisé         0   \n",
       "2    New Shapes (feat. Christine and the Queens and...         0   \n",
       "3                                          ESCAPE PLAN         0   \n",
       "4                                Smokin Out The Window         0   \n",
       "..                                                 ...       ...   \n",
       "569                                              Ghost        10   \n",
       "570  Family (feat. Bebe Rexha, Ty Dolla $ign & A Bo...        10   \n",
       "571                                  THATS WHAT I WANT        10   \n",
       "572                                            Present        10   \n",
       "573                           Happier Than Ever - Edit        10   \n",
       "\n",
       "     danceability  energy  key  loudness  mode  speechiness  acousticness  \\\n",
       "0           0.687   0.781    1    -4.806     1       0.0530       0.03610   \n",
       "1           0.828   0.878    7    -5.241     1       0.2690       0.32100   \n",
       "2           0.735   0.740    0    -4.929     1       0.0552       0.11100   \n",
       "3           0.839   0.506    5    -6.714     0       0.1330       0.00207   \n",
       "4           0.627   0.618    2    -8.529     1       0.0437       0.05580   \n",
       "..            ...     ...  ...       ...   ...          ...           ...   \n",
       "569         0.601   0.741    2    -5.569     1       0.0478       0.18500   \n",
       "570         0.687   0.717   11    -6.610     1       0.0755       0.07440   \n",
       "571         0.737   0.846    1    -4.510     0       0.2200       0.00614   \n",
       "572         0.684   0.514    1    -8.584     1       0.0327       0.00242   \n",
       "573         0.334   0.599    0    -5.742     1       0.0365       0.04680   \n",
       "\n",
       "     instrumentalness  liveness  valence    tempo            type  \\\n",
       "0            0.000000    0.0755    0.688   97.014  audio_features   \n",
       "1            0.000000    0.1000    0.777  142.886  audio_features   \n",
       "2            0.000000    0.0320    0.553  107.061  audio_features   \n",
       "3            0.000000    0.1300    0.440  154.120  audio_features   \n",
       "4            0.000000    0.3510    0.848   82.030  audio_features   \n",
       "..                ...       ...      ...      ...             ...   \n",
       "569          0.000029    0.4150    0.441  153.960  audio_features   \n",
       "570          0.000000    0.1340    0.685   88.063  audio_features   \n",
       "571          0.000000    0.0486    0.546   87.981  audio_features   \n",
       "572          0.000000    0.1930    0.202   88.014  audio_features   \n",
       "573          0.000392    0.2050    0.127  161.740  audio_features   \n",
       "\n",
       "                                      uri  \\\n",
       "0    spotify:track:00Blm7zeNqgYLPtW6zg8cj   \n",
       "1    spotify:track:2O9enJqAqs46tfBlGhLsnW   \n",
       "2    spotify:track:2JvWoj5bTklsb6fPzRfZ3x   \n",
       "3    spotify:track:4R67rQNSbbsR4TdUVOIdez   \n",
       "4    spotify:track:4iN16F8JtVxG2UTzp3avGl   \n",
       "..                                    ...   \n",
       "569  spotify:track:6I3mqTwhRpn34SLVafSH7G   \n",
       "570  spotify:track:0HLhptvI8NozbOHRLNniFz   \n",
       "571  spotify:track:0e8nrvls4Qqv5Rfa2UhqmO   \n",
       "572  spotify:track:6RBfz4bNLNzvt37HycN1Xf   \n",
       "573  spotify:track:32BeYxKPrig1LefHsC0Xuo   \n",
       "\n",
       "                                            track_href  \\\n",
       "0    https://api.spotify.com/v1/tracks/00Blm7zeNqgY...   \n",
       "1    https://api.spotify.com/v1/tracks/2O9enJqAqs46...   \n",
       "2    https://api.spotify.com/v1/tracks/2JvWoj5bTkls...   \n",
       "3    https://api.spotify.com/v1/tracks/4R67rQNSbbsR...   \n",
       "4    https://api.spotify.com/v1/tracks/4iN16F8JtVxG...   \n",
       "..                                                 ...   \n",
       "569  https://api.spotify.com/v1/tracks/6I3mqTwhRpn3...   \n",
       "570  https://api.spotify.com/v1/tracks/0HLhptvI8Noz...   \n",
       "571  https://api.spotify.com/v1/tracks/0e8nrvls4Qqv...   \n",
       "572  https://api.spotify.com/v1/tracks/6RBfz4bNLNzv...   \n",
       "573  https://api.spotify.com/v1/tracks/32BeYxKPrig1...   \n",
       "\n",
       "                                          analysis_url  duration_ms  \\\n",
       "0    https://api.spotify.com/v1/audio-analysis/00Bl...       193507   \n",
       "1    https://api.spotify.com/v1/audio-analysis/2O9e...       378080   \n",
       "2    https://api.spotify.com/v1/audio-analysis/2JvW...       200688   \n",
       "3    https://api.spotify.com/v1/audio-analysis/4R67...       149610   \n",
       "4    https://api.spotify.com/v1/audio-analysis/4iN1...       197443   \n",
       "..                                                 ...          ...   \n",
       "569  https://api.spotify.com/v1/audio-analysis/6I3m...       153190   \n",
       "570  https://api.spotify.com/v1/audio-analysis/0HLh...       158995   \n",
       "571  https://api.spotify.com/v1/audio-analysis/0e8n...       143901   \n",
       "572  https://api.spotify.com/v1/audio-analysis/6RBf...       156376   \n",
       "573  https://api.spotify.com/v1/audio-analysis/32Be...       151444   \n",
       "\n",
       "     time_signature  \n",
       "0                 4  \n",
       "1                 4  \n",
       "2                 4  \n",
       "3                 4  \n",
       "4                 4  \n",
       "..              ...  \n",
       "569               4  \n",
       "570               4  \n",
       "571               4  \n",
       "572               4  \n",
       "573               3  \n",
       "\n",
       "[574 rows x 19 columns]"
      ]
     },
     "execution_count": 176,
     "metadata": {},
     "output_type": "execute_result"
    }
   ],
   "source": [
    "df['playlist'] = pd.factorize(df['playlist'])[0] \n",
    "df = df.drop('id',axis=1)\n",
    "df"
   ]
  },
  {
   "cell_type": "markdown",
   "metadata": {},
   "source": [
    "## Train models\n",
    "\n",
    "### KNN"
   ]
  },
  {
   "cell_type": "code",
   "execution_count": 177,
   "metadata": {},
   "outputs": [],
   "source": [
    "Y,X = df['playlist'], df.drop(['name','type','uri','analysis_url','track_href','playlist'],axis=1)"
   ]
  },
  {
   "cell_type": "code",
   "execution_count": 178,
   "metadata": {},
   "outputs": [],
   "source": [
    "X_train, X_test, y_train, y_test = train_test_split(X,Y, test_size=0.10, random_state=42)"
   ]
  },
  {
   "cell_type": "code",
   "execution_count": 179,
   "metadata": {},
   "outputs": [
    {
     "data": {
      "text/html": [
       "<div>\n",
       "<style scoped>\n",
       "    .dataframe tbody tr th:only-of-type {\n",
       "        vertical-align: middle;\n",
       "    }\n",
       "\n",
       "    .dataframe tbody tr th {\n",
       "        vertical-align: top;\n",
       "    }\n",
       "\n",
       "    .dataframe thead th {\n",
       "        text-align: right;\n",
       "    }\n",
       "</style>\n",
       "<table border=\"1\" class=\"dataframe\">\n",
       "  <thead>\n",
       "    <tr style=\"text-align: right;\">\n",
       "      <th></th>\n",
       "      <th>danceability</th>\n",
       "      <th>energy</th>\n",
       "      <th>key</th>\n",
       "      <th>loudness</th>\n",
       "      <th>mode</th>\n",
       "      <th>speechiness</th>\n",
       "      <th>acousticness</th>\n",
       "      <th>instrumentalness</th>\n",
       "      <th>liveness</th>\n",
       "      <th>valence</th>\n",
       "      <th>tempo</th>\n",
       "      <th>duration_ms</th>\n",
       "      <th>time_signature</th>\n",
       "    </tr>\n",
       "  </thead>\n",
       "  <tbody>\n",
       "    <tr>\n",
       "      <th>39</th>\n",
       "      <td>0.566</td>\n",
       "      <td>0.652</td>\n",
       "      <td>7</td>\n",
       "      <td>-5.832</td>\n",
       "      <td>0</td>\n",
       "      <td>0.0325</td>\n",
       "      <td>0.3300</td>\n",
       "      <td>0.000000</td>\n",
       "      <td>0.3540</td>\n",
       "      <td>0.267</td>\n",
       "      <td>120.069</td>\n",
       "      <td>308000</td>\n",
       "      <td>4</td>\n",
       "    </tr>\n",
       "    <tr>\n",
       "      <th>552</th>\n",
       "      <td>0.805</td>\n",
       "      <td>0.637</td>\n",
       "      <td>6</td>\n",
       "      <td>-6.515</td>\n",
       "      <td>1</td>\n",
       "      <td>0.0869</td>\n",
       "      <td>0.2280</td>\n",
       "      <td>0.000000</td>\n",
       "      <td>0.0710</td>\n",
       "      <td>0.678</td>\n",
       "      <td>140.045</td>\n",
       "      <td>179427</td>\n",
       "      <td>4</td>\n",
       "    </tr>\n",
       "    <tr>\n",
       "      <th>79</th>\n",
       "      <td>0.882</td>\n",
       "      <td>0.675</td>\n",
       "      <td>3</td>\n",
       "      <td>-6.004</td>\n",
       "      <td>1</td>\n",
       "      <td>0.1410</td>\n",
       "      <td>0.0474</td>\n",
       "      <td>0.000598</td>\n",
       "      <td>0.1240</td>\n",
       "      <td>0.758</td>\n",
       "      <td>140.092</td>\n",
       "      <td>154280</td>\n",
       "      <td>4</td>\n",
       "    </tr>\n",
       "    <tr>\n",
       "      <th>2</th>\n",
       "      <td>0.735</td>\n",
       "      <td>0.740</td>\n",
       "      <td>0</td>\n",
       "      <td>-4.929</td>\n",
       "      <td>1</td>\n",
       "      <td>0.0552</td>\n",
       "      <td>0.1110</td>\n",
       "      <td>0.000000</td>\n",
       "      <td>0.0320</td>\n",
       "      <td>0.553</td>\n",
       "      <td>107.061</td>\n",
       "      <td>200688</td>\n",
       "      <td>4</td>\n",
       "    </tr>\n",
       "    <tr>\n",
       "      <th>569</th>\n",
       "      <td>0.601</td>\n",
       "      <td>0.741</td>\n",
       "      <td>2</td>\n",
       "      <td>-5.569</td>\n",
       "      <td>1</td>\n",
       "      <td>0.0478</td>\n",
       "      <td>0.1850</td>\n",
       "      <td>0.000029</td>\n",
       "      <td>0.4150</td>\n",
       "      <td>0.441</td>\n",
       "      <td>153.960</td>\n",
       "      <td>153190</td>\n",
       "      <td>4</td>\n",
       "    </tr>\n",
       "    <tr>\n",
       "      <th>...</th>\n",
       "      <td>...</td>\n",
       "      <td>...</td>\n",
       "      <td>...</td>\n",
       "      <td>...</td>\n",
       "      <td>...</td>\n",
       "      <td>...</td>\n",
       "      <td>...</td>\n",
       "      <td>...</td>\n",
       "      <td>...</td>\n",
       "      <td>...</td>\n",
       "      <td>...</td>\n",
       "      <td>...</td>\n",
       "      <td>...</td>\n",
       "    </tr>\n",
       "    <tr>\n",
       "      <th>71</th>\n",
       "      <td>0.606</td>\n",
       "      <td>0.551</td>\n",
       "      <td>9</td>\n",
       "      <td>-7.431</td>\n",
       "      <td>0</td>\n",
       "      <td>0.2820</td>\n",
       "      <td>0.4250</td>\n",
       "      <td>0.015000</td>\n",
       "      <td>0.6180</td>\n",
       "      <td>0.544</td>\n",
       "      <td>164.112</td>\n",
       "      <td>170878</td>\n",
       "      <td>4</td>\n",
       "    </tr>\n",
       "    <tr>\n",
       "      <th>106</th>\n",
       "      <td>0.803</td>\n",
       "      <td>0.751</td>\n",
       "      <td>7</td>\n",
       "      <td>-3.408</td>\n",
       "      <td>1</td>\n",
       "      <td>0.0717</td>\n",
       "      <td>0.1130</td>\n",
       "      <td>0.000000</td>\n",
       "      <td>0.0963</td>\n",
       "      <td>0.659</td>\n",
       "      <td>98.983</td>\n",
       "      <td>165202</td>\n",
       "      <td>4</td>\n",
       "    </tr>\n",
       "    <tr>\n",
       "      <th>270</th>\n",
       "      <td>0.834</td>\n",
       "      <td>0.633</td>\n",
       "      <td>4</td>\n",
       "      <td>-11.442</td>\n",
       "      <td>0</td>\n",
       "      <td>0.0422</td>\n",
       "      <td>0.0631</td>\n",
       "      <td>0.000050</td>\n",
       "      <td>0.3130</td>\n",
       "      <td>0.904</td>\n",
       "      <td>123.815</td>\n",
       "      <td>224773</td>\n",
       "      <td>4</td>\n",
       "    </tr>\n",
       "    <tr>\n",
       "      <th>435</th>\n",
       "      <td>0.964</td>\n",
       "      <td>0.486</td>\n",
       "      <td>2</td>\n",
       "      <td>-8.891</td>\n",
       "      <td>1</td>\n",
       "      <td>0.1880</td>\n",
       "      <td>0.0194</td>\n",
       "      <td>0.040000</td>\n",
       "      <td>0.0694</td>\n",
       "      <td>0.318</td>\n",
       "      <td>124.058</td>\n",
       "      <td>220659</td>\n",
       "      <td>4</td>\n",
       "    </tr>\n",
       "    <tr>\n",
       "      <th>102</th>\n",
       "      <td>0.778</td>\n",
       "      <td>0.808</td>\n",
       "      <td>11</td>\n",
       "      <td>-4.484</td>\n",
       "      <td>0</td>\n",
       "      <td>0.0657</td>\n",
       "      <td>0.5710</td>\n",
       "      <td>0.000000</td>\n",
       "      <td>0.1420</td>\n",
       "      <td>0.630</td>\n",
       "      <td>111.005</td>\n",
       "      <td>228120</td>\n",
       "      <td>4</td>\n",
       "    </tr>\n",
       "  </tbody>\n",
       "</table>\n",
       "<p>516 rows × 13 columns</p>\n",
       "</div>"
      ],
      "text/plain": [
       "     danceability  energy  key  loudness  mode  speechiness  acousticness  \\\n",
       "39          0.566   0.652    7    -5.832     0       0.0325        0.3300   \n",
       "552         0.805   0.637    6    -6.515     1       0.0869        0.2280   \n",
       "79          0.882   0.675    3    -6.004     1       0.1410        0.0474   \n",
       "2           0.735   0.740    0    -4.929     1       0.0552        0.1110   \n",
       "569         0.601   0.741    2    -5.569     1       0.0478        0.1850   \n",
       "..            ...     ...  ...       ...   ...          ...           ...   \n",
       "71          0.606   0.551    9    -7.431     0       0.2820        0.4250   \n",
       "106         0.803   0.751    7    -3.408     1       0.0717        0.1130   \n",
       "270         0.834   0.633    4   -11.442     0       0.0422        0.0631   \n",
       "435         0.964   0.486    2    -8.891     1       0.1880        0.0194   \n",
       "102         0.778   0.808   11    -4.484     0       0.0657        0.5710   \n",
       "\n",
       "     instrumentalness  liveness  valence    tempo  duration_ms  time_signature  \n",
       "39           0.000000    0.3540    0.267  120.069       308000               4  \n",
       "552          0.000000    0.0710    0.678  140.045       179427               4  \n",
       "79           0.000598    0.1240    0.758  140.092       154280               4  \n",
       "2            0.000000    0.0320    0.553  107.061       200688               4  \n",
       "569          0.000029    0.4150    0.441  153.960       153190               4  \n",
       "..                ...       ...      ...      ...          ...             ...  \n",
       "71           0.015000    0.6180    0.544  164.112       170878               4  \n",
       "106          0.000000    0.0963    0.659   98.983       165202               4  \n",
       "270          0.000050    0.3130    0.904  123.815       224773               4  \n",
       "435          0.040000    0.0694    0.318  124.058       220659               4  \n",
       "102          0.000000    0.1420    0.630  111.005       228120               4  \n",
       "\n",
       "[516 rows x 13 columns]"
      ]
     },
     "execution_count": 179,
     "metadata": {},
     "output_type": "execute_result"
    }
   ],
   "source": [
    "X_train"
   ]
  },
  {
   "cell_type": "code",
   "execution_count": 180,
   "metadata": {},
   "outputs": [
    {
     "data": {
      "text/plain": [
       "KNeighborsClassifier()"
      ]
     },
     "execution_count": 180,
     "metadata": {},
     "output_type": "execute_result"
    }
   ],
   "source": [
    "from sklearn.neighbors import KNeighborsClassifier\n",
    "neigh = KNeighborsClassifier()\n",
    "neigh.fit(X_train,y_train)"
   ]
  },
  {
   "cell_type": "code",
   "execution_count": 181,
   "metadata": {},
   "outputs": [
    {
     "data": {
      "text/plain": [
       "array([ 4,  7,  8,  4,  3,  0,  0,  0,  0, 10,  2,  1,  7,  0,  1,  0,  6,\n",
       "        4,  1,  5, 10,  7,  6,  9,  0,  5,  6,  5,  8,  1,  1,  8,  9,  7,\n",
       "        6,  0,  6,  0,  8,  1,  0,  6,  4,  0,  8,  9,  0,  8,  4,  3,  0,\n",
       "        4,  0,  0,  0,  3,  0,  1], dtype=int64)"
      ]
     },
     "execution_count": 181,
     "metadata": {},
     "output_type": "execute_result"
    }
   ],
   "source": [
    "y_pred = neigh.predict(X_test)\n",
    "y_pred"
   ]
  },
  {
   "cell_type": "code",
   "execution_count": 182,
   "metadata": {},
   "outputs": [
    {
     "data": {
      "text/plain": [
       "0.1206896551724138"
      ]
     },
     "execution_count": 182,
     "metadata": {},
     "output_type": "execute_result"
    }
   ],
   "source": [
    "from sklearn.metrics import accuracy_score\n",
    "\n",
    "accuracy_score(y_test, y_pred)"
   ]
  },
  {
   "cell_type": "markdown",
   "metadata": {},
   "source": [
    "## Create new playlists ! "
   ]
  },
  {
   "cell_type": "code",
   "execution_count": 183,
   "metadata": {},
   "outputs": [],
   "source": [
    "y_pred_train = neigh.predict(X_train)\n",
    "y_pred_test = neigh.predict(X_test)"
   ]
  },
  {
   "cell_type": "code",
   "execution_count": 184,
   "metadata": {},
   "outputs": [
    {
     "name": "stderr",
     "output_type": "stream",
     "text": [
      "<ipython-input-184-141f9b634067>:10: SettingWithCopyWarning: \n",
      "A value is trying to be set on a copy of a slice from a DataFrame.\n",
      "Try using .loc[row_indexer,col_indexer] = value instead\n",
      "\n",
      "See the caveats in the documentation: https://pandas.pydata.org/pandas-docs/stable/user_guide/indexing.html#returning-a-view-versus-a-copy\n",
      "  X_train['preds'] = y_bool\n"
     ]
    },
    {
     "data": {
      "text/html": [
       "<div>\n",
       "<style scoped>\n",
       "    .dataframe tbody tr th:only-of-type {\n",
       "        vertical-align: middle;\n",
       "    }\n",
       "\n",
       "    .dataframe tbody tr th {\n",
       "        vertical-align: top;\n",
       "    }\n",
       "\n",
       "    .dataframe thead th {\n",
       "        text-align: right;\n",
       "    }\n",
       "</style>\n",
       "<table border=\"1\" class=\"dataframe\">\n",
       "  <thead>\n",
       "    <tr style=\"text-align: right;\">\n",
       "      <th></th>\n",
       "      <th>danceability</th>\n",
       "      <th>energy</th>\n",
       "      <th>key</th>\n",
       "      <th>loudness</th>\n",
       "      <th>mode</th>\n",
       "      <th>speechiness</th>\n",
       "      <th>acousticness</th>\n",
       "      <th>instrumentalness</th>\n",
       "      <th>liveness</th>\n",
       "      <th>valence</th>\n",
       "      <th>tempo</th>\n",
       "      <th>duration_ms</th>\n",
       "      <th>time_signature</th>\n",
       "      <th>preds</th>\n",
       "    </tr>\n",
       "  </thead>\n",
       "  <tbody>\n",
       "    <tr>\n",
       "      <th>39</th>\n",
       "      <td>0.566</td>\n",
       "      <td>0.652</td>\n",
       "      <td>7</td>\n",
       "      <td>-5.832</td>\n",
       "      <td>0</td>\n",
       "      <td>0.0325</td>\n",
       "      <td>0.3300</td>\n",
       "      <td>0.000000</td>\n",
       "      <td>0.3540</td>\n",
       "      <td>0.267</td>\n",
       "      <td>120.069</td>\n",
       "      <td>308000</td>\n",
       "      <td>4</td>\n",
       "      <td>True</td>\n",
       "    </tr>\n",
       "    <tr>\n",
       "      <th>552</th>\n",
       "      <td>0.805</td>\n",
       "      <td>0.637</td>\n",
       "      <td>6</td>\n",
       "      <td>-6.515</td>\n",
       "      <td>1</td>\n",
       "      <td>0.0869</td>\n",
       "      <td>0.2280</td>\n",
       "      <td>0.000000</td>\n",
       "      <td>0.0710</td>\n",
       "      <td>0.678</td>\n",
       "      <td>140.045</td>\n",
       "      <td>179427</td>\n",
       "      <td>4</td>\n",
       "      <td>True</td>\n",
       "    </tr>\n",
       "    <tr>\n",
       "      <th>79</th>\n",
       "      <td>0.882</td>\n",
       "      <td>0.675</td>\n",
       "      <td>3</td>\n",
       "      <td>-6.004</td>\n",
       "      <td>1</td>\n",
       "      <td>0.1410</td>\n",
       "      <td>0.0474</td>\n",
       "      <td>0.000598</td>\n",
       "      <td>0.1240</td>\n",
       "      <td>0.758</td>\n",
       "      <td>140.092</td>\n",
       "      <td>154280</td>\n",
       "      <td>4</td>\n",
       "      <td>False</td>\n",
       "    </tr>\n",
       "    <tr>\n",
       "      <th>2</th>\n",
       "      <td>0.735</td>\n",
       "      <td>0.740</td>\n",
       "      <td>0</td>\n",
       "      <td>-4.929</td>\n",
       "      <td>1</td>\n",
       "      <td>0.0552</td>\n",
       "      <td>0.1110</td>\n",
       "      <td>0.000000</td>\n",
       "      <td>0.0320</td>\n",
       "      <td>0.553</td>\n",
       "      <td>107.061</td>\n",
       "      <td>200688</td>\n",
       "      <td>4</td>\n",
       "      <td>True</td>\n",
       "    </tr>\n",
       "    <tr>\n",
       "      <th>569</th>\n",
       "      <td>0.601</td>\n",
       "      <td>0.741</td>\n",
       "      <td>2</td>\n",
       "      <td>-5.569</td>\n",
       "      <td>1</td>\n",
       "      <td>0.0478</td>\n",
       "      <td>0.1850</td>\n",
       "      <td>0.000029</td>\n",
       "      <td>0.4150</td>\n",
       "      <td>0.441</td>\n",
       "      <td>153.960</td>\n",
       "      <td>153190</td>\n",
       "      <td>4</td>\n",
       "      <td>True</td>\n",
       "    </tr>\n",
       "    <tr>\n",
       "      <th>...</th>\n",
       "      <td>...</td>\n",
       "      <td>...</td>\n",
       "      <td>...</td>\n",
       "      <td>...</td>\n",
       "      <td>...</td>\n",
       "      <td>...</td>\n",
       "      <td>...</td>\n",
       "      <td>...</td>\n",
       "      <td>...</td>\n",
       "      <td>...</td>\n",
       "      <td>...</td>\n",
       "      <td>...</td>\n",
       "      <td>...</td>\n",
       "      <td>...</td>\n",
       "    </tr>\n",
       "    <tr>\n",
       "      <th>71</th>\n",
       "      <td>0.606</td>\n",
       "      <td>0.551</td>\n",
       "      <td>9</td>\n",
       "      <td>-7.431</td>\n",
       "      <td>0</td>\n",
       "      <td>0.2820</td>\n",
       "      <td>0.4250</td>\n",
       "      <td>0.015000</td>\n",
       "      <td>0.6180</td>\n",
       "      <td>0.544</td>\n",
       "      <td>164.112</td>\n",
       "      <td>170878</td>\n",
       "      <td>4</td>\n",
       "      <td>False</td>\n",
       "    </tr>\n",
       "    <tr>\n",
       "      <th>106</th>\n",
       "      <td>0.803</td>\n",
       "      <td>0.751</td>\n",
       "      <td>7</td>\n",
       "      <td>-3.408</td>\n",
       "      <td>1</td>\n",
       "      <td>0.0717</td>\n",
       "      <td>0.1130</td>\n",
       "      <td>0.000000</td>\n",
       "      <td>0.0963</td>\n",
       "      <td>0.659</td>\n",
       "      <td>98.983</td>\n",
       "      <td>165202</td>\n",
       "      <td>4</td>\n",
       "      <td>False</td>\n",
       "    </tr>\n",
       "    <tr>\n",
       "      <th>270</th>\n",
       "      <td>0.834</td>\n",
       "      <td>0.633</td>\n",
       "      <td>4</td>\n",
       "      <td>-11.442</td>\n",
       "      <td>0</td>\n",
       "      <td>0.0422</td>\n",
       "      <td>0.0631</td>\n",
       "      <td>0.000050</td>\n",
       "      <td>0.3130</td>\n",
       "      <td>0.904</td>\n",
       "      <td>123.815</td>\n",
       "      <td>224773</td>\n",
       "      <td>4</td>\n",
       "      <td>False</td>\n",
       "    </tr>\n",
       "    <tr>\n",
       "      <th>435</th>\n",
       "      <td>0.964</td>\n",
       "      <td>0.486</td>\n",
       "      <td>2</td>\n",
       "      <td>-8.891</td>\n",
       "      <td>1</td>\n",
       "      <td>0.1880</td>\n",
       "      <td>0.0194</td>\n",
       "      <td>0.040000</td>\n",
       "      <td>0.0694</td>\n",
       "      <td>0.318</td>\n",
       "      <td>124.058</td>\n",
       "      <td>220659</td>\n",
       "      <td>4</td>\n",
       "      <td>False</td>\n",
       "    </tr>\n",
       "    <tr>\n",
       "      <th>102</th>\n",
       "      <td>0.778</td>\n",
       "      <td>0.808</td>\n",
       "      <td>11</td>\n",
       "      <td>-4.484</td>\n",
       "      <td>0</td>\n",
       "      <td>0.0657</td>\n",
       "      <td>0.5710</td>\n",
       "      <td>0.000000</td>\n",
       "      <td>0.1420</td>\n",
       "      <td>0.630</td>\n",
       "      <td>111.005</td>\n",
       "      <td>228120</td>\n",
       "      <td>4</td>\n",
       "      <td>False</td>\n",
       "    </tr>\n",
       "  </tbody>\n",
       "</table>\n",
       "<p>516 rows × 14 columns</p>\n",
       "</div>"
      ],
      "text/plain": [
       "     danceability  energy  key  loudness  mode  speechiness  acousticness  \\\n",
       "39          0.566   0.652    7    -5.832     0       0.0325        0.3300   \n",
       "552         0.805   0.637    6    -6.515     1       0.0869        0.2280   \n",
       "79          0.882   0.675    3    -6.004     1       0.1410        0.0474   \n",
       "2           0.735   0.740    0    -4.929     1       0.0552        0.1110   \n",
       "569         0.601   0.741    2    -5.569     1       0.0478        0.1850   \n",
       "..            ...     ...  ...       ...   ...          ...           ...   \n",
       "71          0.606   0.551    9    -7.431     0       0.2820        0.4250   \n",
       "106         0.803   0.751    7    -3.408     1       0.0717        0.1130   \n",
       "270         0.834   0.633    4   -11.442     0       0.0422        0.0631   \n",
       "435         0.964   0.486    2    -8.891     1       0.1880        0.0194   \n",
       "102         0.778   0.808   11    -4.484     0       0.0657        0.5710   \n",
       "\n",
       "     instrumentalness  liveness  valence    tempo  duration_ms  \\\n",
       "39           0.000000    0.3540    0.267  120.069       308000   \n",
       "552          0.000000    0.0710    0.678  140.045       179427   \n",
       "79           0.000598    0.1240    0.758  140.092       154280   \n",
       "2            0.000000    0.0320    0.553  107.061       200688   \n",
       "569          0.000029    0.4150    0.441  153.960       153190   \n",
       "..                ...       ...      ...      ...          ...   \n",
       "71           0.015000    0.6180    0.544  164.112       170878   \n",
       "106          0.000000    0.0963    0.659   98.983       165202   \n",
       "270          0.000050    0.3130    0.904  123.815       224773   \n",
       "435          0.040000    0.0694    0.318  124.058       220659   \n",
       "102          0.000000    0.1420    0.630  111.005       228120   \n",
       "\n",
       "     time_signature  preds  \n",
       "39                4   True  \n",
       "552               4   True  \n",
       "79                4  False  \n",
       "2                 4   True  \n",
       "569               4   True  \n",
       "..              ...    ...  \n",
       "71                4  False  \n",
       "106               4  False  \n",
       "270               4  False  \n",
       "435               4  False  \n",
       "102               4  False  \n",
       "\n",
       "[516 rows x 14 columns]"
      ]
     },
     "execution_count": 184,
     "metadata": {},
     "output_type": "execute_result"
    }
   ],
   "source": [
    "y_bool = []\n",
    "x_post_pred = neigh.predict(X_train)\n",
    "for i in x_post_pred:\n",
    "    if i == 0:\n",
    "        y_bool.append(True)\n",
    "    else:\n",
    "        y_bool.append(False)\n",
    "\n",
    "#y_bool = pd.DataFrame(y_bool)\n",
    "X_train['preds'] = y_bool\n",
    "X_train\n",
    "#df_post = pd.concat([X_train,y_bool],axis=1)\n",
    "#df_post"
   ]
  },
  {
   "cell_type": "code",
   "execution_count": 221,
   "metadata": {},
   "outputs": [
    {
     "name": "stdout",
     "output_type": "stream",
     "text": [
      "     danceability  energy  key  loudness  mode  speechiness  acousticness  \\\n",
      "39          0.566   0.652    7    -5.832     0       0.0325        0.3300   \n",
      "552         0.805   0.637    6    -6.515     1       0.0869        0.2280   \n",
      "2           0.735   0.740    0    -4.929     1       0.0552        0.1110   \n",
      "569         0.601   0.741    2    -5.569     1       0.0478        0.1850   \n",
      "78          0.919   0.779    7    -4.739     0       0.1470        0.2580   \n",
      "..            ...     ...  ...       ...   ...          ...           ...   \n",
      "459         0.768   0.649    0    -8.508     0       0.0304        0.1070   \n",
      "191         0.617   0.558   11    -8.491     0       0.2200        0.0132   \n",
      "491         0.722   0.646    7    -6.678     0       0.0734        0.1800   \n",
      "87          0.703   0.839    7    -4.498     0       0.0403        0.3480   \n",
      "20          0.653   0.592    5    -8.515     0       0.5450        0.3100   \n",
      "\n",
      "     instrumentalness  liveness  valence    tempo  duration_ms  \\\n",
      "39           0.000000    0.3540    0.267  120.069       308000   \n",
      "552          0.000000    0.0710    0.678  140.045       179427   \n",
      "2            0.000000    0.0320    0.553  107.061       200688   \n",
      "569          0.000029    0.4150    0.441  153.960       153190   \n",
      "78           0.000000    0.0991    0.941  138.038       189400   \n",
      "..                ...       ...      ...      ...          ...   \n",
      "459          0.020200    0.1330    0.360  122.009       149487   \n",
      "191          0.035000    0.1350    0.487  165.899       192454   \n",
      "491          0.000000    0.0975    0.459  112.991       217133   \n",
      "87           0.000005    0.0827    0.786  125.039       170534   \n",
      "20           0.000000    0.1510    0.570  180.068       149520   \n",
      "\n",
      "     time_signature  preds  \n",
      "39                4   True  \n",
      "552               4   True  \n",
      "2                 4   True  \n",
      "569               4   True  \n",
      "78                4   True  \n",
      "..              ...    ...  \n",
      "459               4   True  \n",
      "191               4   True  \n",
      "491               4   True  \n",
      "87                4   True  \n",
      "20                3   True  \n",
      "\n",
      "[159 rows x 14 columns]\n"
     ]
    }
   ],
   "source": [
    "df_bool = X_train[X_train.preds]\n",
    "print(df_bool)"
   ]
  },
  {
   "cell_type": "code",
   "execution_count": 238,
   "metadata": {},
   "outputs": [
    {
     "name": "stdout",
     "output_type": "stream",
     "text": [
      "Playlist:{'collaborative': False, 'description': None, 'external_urls': {'spotify': 'https://open.spotify.com/playlist/2WseHIRtg2E3GZrof7kzc9'}, 'followers': {'href': None, 'total': 0}, 'href': 'https://api.spotify.com/v1/playlists/2WseHIRtg2E3GZrof7kzc9', 'id': '2WseHIRtg2E3GZrof7kzc9', 'images': [], 'name': 'Test Custom Playlist', 'owner': {'display_name': 'Théon', 'external_urls': {'spotify': 'https://open.spotify.com/user/9f93d2lbi4b9fmngi0thyocgb'}, 'href': 'https://api.spotify.com/v1/users/9f93d2lbi4b9fmngi0thyocgb', 'id': '9f93d2lbi4b9fmngi0thyocgb', 'type': 'user', 'uri': 'spotify:user:9f93d2lbi4b9fmngi0thyocgb'}, 'primary_color': None, 'public': False, 'snapshot_id': 'MSw2ZGM1YjdlMWZiMzhhNzg0ZGIyMjJiOGJiYTY2ZjVjNTM5ZmM0OGQ5', 'tracks': {'href': 'https://api.spotify.com/v1/playlists/2WseHIRtg2E3GZrof7kzc9/tracks', 'items': [], 'limit': 100, 'next': None, 'offset': 0, 'previous': None, 'total': 0}, 'type': 'playlist', 'uri': 'spotify:playlist:2WseHIRtg2E3GZrof7kzc9'}\n"
     ]
    },
    {
     "data": {
      "text/plain": [
       "{'snapshot_id': 'Miw2M2MwYTE5MTNiYmJjYjQ1N2I5N2IxOWQxOWVjZjI4NTFlYmVkZWE4'}"
      ]
     },
     "execution_count": 238,
     "metadata": {},
     "output_type": "execute_result"
    }
   ],
   "source": [
    "uris = [df['uri'][df_bool.index[i]] for i in range(len(df_bool))]\n",
    "#print(uris)\n",
    "playlist = create_playlist_on_spotify('Test Custom Playlist',public=False)\n",
    "print(f'Playlist:{playlist}')\n",
    "curr_id = playlist['id']\n",
    "add_songs_to_playlist(curr_id, uris[:50])"
   ]
  },
  {
   "cell_type": "code",
   "execution_count": null,
   "metadata": {},
   "outputs": [],
   "source": []
  }
 ],
 "metadata": {
  "kernelspec": {
   "display_name": "Python 3",
   "language": "python",
   "name": "python3"
  },
  "language_info": {
   "codemirror_mode": {
    "name": "ipython",
    "version": 3
   },
   "file_extension": ".py",
   "mimetype": "text/x-python",
   "name": "python",
   "nbconvert_exporter": "python",
   "pygments_lexer": "ipython3",
   "version": "3.8.3"
  },
  "toc": {
   "base_numbering": 1,
   "nav_menu": {},
   "number_sections": true,
   "sideBar": true,
   "skip_h1_title": false,
   "title_cell": "Table of Contents",
   "title_sidebar": "Contents",
   "toc_cell": false,
   "toc_position": {},
   "toc_section_display": true,
   "toc_window_display": false
  }
 },
 "nbformat": 4,
 "nbformat_minor": 4
}
